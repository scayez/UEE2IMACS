{
 "cells": [
  {
   "cell_type": "markdown",
   "id": "37fce84b-f299-4a11-b17a-5a65e6ebb81a",
   "metadata": {},
   "source": [
    "## Evaluation 2IMACS Python Pour La Science Des Données\n",
    "---\n",
    "*Lundi 28 avril 2025*  \n",
    "A envoyer à :\n",
    "[cayez@insa-toulouse.fr](mailto:cayez@insa-toulouse.fr)\n",
    "Avec en sujet \"Evaluation Python\" + votre nom\n",
    "Nom:  \n",
    "Prénom: \n"
   ]
  },
  {
   "cell_type": "markdown",
   "id": "ff53fc4d-8500-46c1-abb7-09bd6ea094b4",
   "metadata": {},
   "source": [
    "---\n",
    "\n",
    "### 1. Import des bibliothèques \n",
    "\n",
    "Importer les bibliothèques suivantes :\n",
    "\n",
    "\n",
    "- numpy\n",
    "- matplotlib.pyplot\n",
    "- glob"
   ]
  },
  {
   "cell_type": "code",
   "execution_count": 1,
   "id": "e0dde67b-13d6-4423-bd19-bd89b5951196",
   "metadata": {},
   "outputs": [],
   "source": [
    "#Code question 1\n",
    "\n"
   ]
  },
  {
   "cell_type": "markdown",
   "id": "57b5a438-fc71-4749-922f-e401a83e9a46",
   "metadata": {},
   "source": [
    "---\n",
    "\n",
    "### 2. Chargement d’un fichier de données\n",
    "\n",
    "Ouvrir le fichier texte suivant :  \n",
    "```\n",
    "fichiers/file1.txt\n",
    "```\n",
    "\n",
    "Ce fichier contient deux colonnes numériques : `x` et `y`.  \n",
    "Extraire les données :\n",
    "- `x` : première colonne  \n",
    "- `y` : seconde colonne\n"
   ]
  },
  {
   "cell_type": "code",
   "execution_count": 2,
   "id": "247b4f71-84db-492c-a8ad-c5729682f067",
   "metadata": {},
   "outputs": [],
   "source": [
    "#Code question 2\n",
    "\n",
    "\n"
   ]
  },
  {
   "cell_type": "markdown",
   "id": "0166f43e-7ed7-491c-bee7-b180c45ba635",
   "metadata": {},
   "source": [
    "### 3. Tracé de la courbe\n",
    "\n",
    "Tracer la courbe `y` en fonction de `x` avec `matplotlib`.\n",
    "\n",
    "---"
   ]
  },
  {
   "cell_type": "code",
   "execution_count": 3,
   "id": "6e64719c-6c90-4c35-b2f2-8483faf13ecd",
   "metadata": {},
   "outputs": [],
   "source": [
    "#Code question 3\n",
    "\n",
    "\n"
   ]
  },
  {
   "cell_type": "markdown",
   "id": "05b4906a-cfe6-4625-bff2-2ad78206cecf",
   "metadata": {},
   "source": [
    "---\n",
    "\n",
    "### 4. Tracé personnalisé en échelle logarithmique\n",
    "\n",
    "Reprendre le tracé précédent avec les caractéristiques suivantes :\n",
    "\n",
    "- Échelle **logarithmique** pour les axes `x` et `y`\n",
    "- Titre : **X-ray Scattering**\n",
    "- Labels des axes :\n",
    "  - `log(q)` pour l’axe des x\n",
    "  - `log(i)` pour l’axe des y\n",
    "- Légende : **Curve**\n",
    "- Couleur de la courbe : **verte**"
   ]
  },
  {
   "cell_type": "code",
   "execution_count": 4,
   "id": "d662d0bf-1231-46fa-88a0-686463dbe92a",
   "metadata": {},
   "outputs": [],
   "source": [
    "#Code question 4\n",
    "\n",
    "\n"
   ]
  },
  {
   "cell_type": "markdown",
   "id": "a1d8e621-e04d-4380-94ed-fa820fda9529",
   "metadata": {},
   "source": [
    "---\n",
    "\n",
    "### 5. Liste des fichiers avec `glob`\n",
    "\n",
    "À l’aide de la bibliothèque `glob` :\n",
    "- Créer la liste `liste_fichiers` contenant les **chemins des fichiers** présents dans le dossier `fichiers`\n",
    "- Afficher cette liste avec `print`"
   ]
  },
  {
   "cell_type": "code",
   "execution_count": 5,
   "id": "40baff93-a9b9-4638-881b-928aa741c4c8",
   "metadata": {},
   "outputs": [],
   "source": [
    "#Code question 5\n",
    "\n",
    "\n"
   ]
  },
  {
   "cell_type": "markdown",
   "id": "cc817cf1-c858-4c58-9dc7-122e74d19e8f",
   "metadata": {},
   "source": [
    "---\n",
    "\n",
    "### 6. Création d’une fonction de tracé\n",
    "\n",
    "Créer une fonction qui prendra en **argument un chemin de fichier**.  \n",
    "Cette fonction devra :\n",
    "- Extraire les données `x` et `y` comme à la question 2\n",
    "- Tracer la courbe avec les caractéristiques demandées à la **question 4** :\n",
    "    - Échelle **logarithmique** pour les axes `x` et `y`\n",
    "    - Titre : **X-ray Scattering**\n",
    "    - Labels des axes :\n",
    "      - `log(q)` pour l’axe des x\n",
    "      - `log(i)` pour l’axe des y\n",
    "    - Légende : **Curve**\n",
    "    - Couleur de la courbe : **verte**\n",
    "\n",
    "Exécuter cette fonction sur le fichier:   \n",
    "```\n",
    "fichiers/file1.txt\n",
    "```"
   ]
  },
  {
   "cell_type": "code",
   "execution_count": 6,
   "id": "6721302f-6688-455b-83fd-e8d3da718608",
   "metadata": {},
   "outputs": [],
   "source": [
    "#Code question 6\n",
    "\n",
    "\n"
   ]
  },
  {
   "cell_type": "markdown",
   "id": "cd9b38a9-1496-4731-b0b4-465cb458b32d",
   "metadata": {},
   "source": [
    "---\n",
    "\n",
    "### 7. Tracé de plusieurs fichiers\n",
    "\n",
    "Utiliser la fonction définie à la question précédente dans une **boucle** pour tracer les courbes correspondant à tous les fichiers de `liste_fichiers`."
   ]
  },
  {
   "cell_type": "code",
   "execution_count": 7,
   "id": "3019aa92-95f8-4c8e-b9b3-06813f823a1d",
   "metadata": {},
   "outputs": [],
   "source": [
    "#Code question 7\n",
    "\n",
    "\n"
   ]
  },
  {
   "cell_type": "markdown",
   "id": "6b8e1bea-ed03-4ce6-ba17-5f9864a5f742",
   "metadata": {},
   "source": [
    "---\n",
    "### 8. Questions Bonus \n",
    "- Placer la fonction dans un fichier nommé `plot.py` et l'importer pour l'utiliser dans le notebook \n",
    "- Modifier la fonction pour afficher les 300 premiers points de la courbe en vert et les 300 derniers en rouge.\n",
    "Il est possible de faire 2 plots successifs. L'un avec les 300 premiers points, l'autre avec les 300 derniers. \n",
    "---"
   ]
  },
  {
   "cell_type": "code",
   "execution_count": 8,
   "id": "70d00465-21e8-4f83-b8ff-c6d69de436c3",
   "metadata": {},
   "outputs": [],
   "source": [
    "#Code question 8 (optionnelle)\n",
    "\n",
    "\n"
   ]
  }
 ],
 "metadata": {
  "kernelspec": {
   "display_name": "Python 3 (ipykernel)",
   "language": "python",
   "name": "python3"
  },
  "language_info": {
   "codemirror_mode": {
    "name": "ipython",
    "version": 3
   },
   "file_extension": ".py",
   "mimetype": "text/x-python",
   "name": "python",
   "nbconvert_exporter": "python",
   "pygments_lexer": "ipython3",
   "version": "3.12.1"
  }
 },
 "nbformat": 4,
 "nbformat_minor": 5
}
