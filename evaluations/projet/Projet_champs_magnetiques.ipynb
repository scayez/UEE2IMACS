{
 "cells": [
  {
   "cell_type": "markdown",
   "id": "685a9dea-e8f1-4f9b-b381-22fb1f264838",
   "metadata": {},
   "source": [
    "# Champ magnétique pulsé\n",
    "\n",
    "Le Laboratoire des Champs Magnétiques Intenses est un laboratoire CNRS situé sur deux sites (Toulouse et Grenoble). Son objectif est de fournir à la communauté internationale les plus forts champs magnétiques possibles pour des expériences de recherche et développement.  \n",
    "  \n",
    "A Toulouse, le champ magnétique est pulsé, c’est-à-dire qu’il ne dure que quelques centaines de ms pour une valeur atteignant 98.8 T (record d’Europe actuel).  \n",
    "  \n",
    "Les données d’une expérience sont donc enregistrées pendant ce temps court puis stockées dans des fichiers binaire ou texte qui sont ensuite analysées.  \n",
    "  \n",
    "L’objectif de ce projet est donc d’analyser le résultat d’une expérience de TDO (Tunneling Diode Oscillator) qui consiste à mesure la variation de fréquence d’un circuit oscillant en fonction du champ magnétique. Ce dispositif permet de remonter à la variation de résistance d’un échantillon par une mesure sans contact (plus d’informations seront données lors de la présentation du sujet si vous êtes intéressés).\n",
    "\n",
    "Le fichier fourni est un fichier texte. Son nom comprend le nom de l’échantillon, le champ maximum (approximatif) et la température de l’expérience (par exemple : S1_85T_15K-05). Il contient 2 colonnes : champ magnétique, fréquence signal TDO. Chaque point du fichier est espacé en temps de 5.12 µs.  \n",
    "  \n",
    "Le programme peut être décomposé en 3 parties :\n",
    "\n",
    "Tracé des courbes  \n",
    "- Champ en fonction du temps  \n",
    "- Signal en fonction du temps  \n",
    "- Signal en fonction du champ (dans ce cas, il faut tracer de 2 couleurs différentes la montée et la descente)  \n",
    "Analyse des données (cette analyse doit être faite à la fois sur la montée et la descente)  \n",
    "- Faire un « fit » polynomial sur les données (choix des bornes et du degré du polynôme)  \n",
    "- Soustraire ce fit aux données pour faire apparaitre uniquement la partie oscillatoire  \n",
    "- Tracer la partie oscillatoire  \n",
    "- Tracer la partie oscillatoire en fonction de l’inverse du champ magnétique  \n",
    "- Faire une transformé de Fourier (choix des bornes) pour faire apparaitre les différentes fréquences\n",
    "Interface graphique  \n",
    "\tCette partie sera à traiter en fonction de l’avancement des parties précédente.  \n",
    "\n",
    "<img src=\"images/champs1.jpg\" alt=\"graphs\" width=\"605\"/>\n",
    "\n",
    "**Lien des données** :  \n",
    "<https://filesender.renater.fr/?s=download&token=ae3223dc-4b5f-47a7-b60a-21ef83527519>  "
   ]
  }
 ],
 "metadata": {
  "kernelspec": {
   "display_name": "Python 3 (ipykernel)",
   "language": "python",
   "name": "python3"
  },
  "language_info": {
   "codemirror_mode": {
    "name": "ipython",
    "version": 3
   },
   "file_extension": ".py",
   "mimetype": "text/x-python",
   "name": "python",
   "nbconvert_exporter": "python",
   "pygments_lexer": "ipython3",
   "version": "3.12.1"
  }
 },
 "nbformat": 4,
 "nbformat_minor": 5
}
