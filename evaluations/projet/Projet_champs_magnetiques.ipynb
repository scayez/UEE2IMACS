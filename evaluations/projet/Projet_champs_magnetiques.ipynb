{
 "cells": [
  {
   "cell_type": "markdown",
   "id": "685a9dea-e8f1-4f9b-b381-22fb1f264838",
   "metadata": {},
   "source": [
    "# Projet Python : Analyse d'expérience TDO en champ magnétique pulsé\n",
    "\n",
    "**Contexte** :  \n",
    "Le Laboratoire des Champs Magnétiques Intenses est un laboratoire CNRS situé sur deux sites (Toulouse et Grenoble). Son objectif est de fournir à la communauté internationale les plus forts champs magnétiques possibles pour des expériences de recherche et développement.  \n",
    "\n",
    "À Toulouse, le champ magnétique est pulsé, c'est-à-dire qu'il ne dure que quelques centaines de ms pour une valeur atteignant 98.8 T (record d'Europe actuel).  \n",
    "\n",
    "Les données d'une expérience sont donc enregistrées pendant ce temps court puis stockées dans des fichiers binaire ou texte qui sont ensuite analysées.  \n",
    "\n",
    "## Objectif du projet  \n",
    "Analyser le résultat d'une expérience de TDO (Tunneling Diode Oscillator) qui consiste à mesurer la variation de fréquence d'un circuit oscillant en fonction du champ magnétique. Ce dispositif permet de remonter à la variation de résistance d'un échantillon par une mesure sans contact.  \n",
    "\n",
    "## Format des données  \n",
    "Le fichier fourni est un fichier texte. Son nom comprend :  \n",
    "- Le nom de l'échantillon  \n",
    "- Le champ maximum (approximatif)  \n",
    "- La température de l'expérience (exemple : `S1_85T_15K-05`)  \n",
    "\n",
    "Contenu du fichier :  \n",
    "- 2 colonnes : champ magnétique, fréquence signal TDO  \n",
    "- Chaque point est espacé de 5.12 µs en temps  \n",
    "\n",
    "## Structure du programme  \n",
    "\n",
    "### 1. Tracé des courbes  \n",
    "- Champ en fonction du temps  \n",
    "- Signal en fonction du temps  \n",
    "- Signal en fonction du champ (avec différenciation montée/descente par couleur)  \n",
    "\n",
    "### 2. Analyse des données (à appliquer sur montée ET descente)  \n",
    "- Fit polynomial (choix des bornes et degré du polynôme)  \n",
    "- Soustraction du fit pour isoler la partie oscillatoire  \n",
    "- Tracé de la partie oscillatoire  \n",
    "- Tracé oscillatoire en fonction de 1/champ magnétique  \n",
    "- Transformée de Fourier (choix des bornes) pour identification des fréquences  \n",
    "\n",
    "### 3. Interface graphique  \n",
    "À développer en fonction de l'avancement des parties précédentes.  \n",
    "\n",
    " \n",
    "\n",
    "<img src=\"images/champs1.jpg\" alt=\"graphs\" width=\"605\"/>\n",
    "\n",
    "**Lien des données** :  \n",
    "<https://filesender.renater.fr/?s=download&token=ae3223dc-4b5f-47a7-b60a-21ef83527519>  "
   ]
  }
 ],
 "metadata": {
  "kernelspec": {
   "display_name": "Python 3 (ipykernel)",
   "language": "python",
   "name": "python3"
  },
  "language_info": {
   "codemirror_mode": {
    "name": "ipython",
    "version": 3
   },
   "file_extension": ".py",
   "mimetype": "text/x-python",
   "name": "python",
   "nbconvert_exporter": "python",
   "pygments_lexer": "ipython3",
   "version": "3.12.1"
  }
 },
 "nbformat": 4,
 "nbformat_minor": 5
}
