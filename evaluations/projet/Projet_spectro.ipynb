{
 "cells": [
  {
   "cell_type": "markdown",
   "id": "eb01cad2-1f04-496a-8756-6beb0628ac65",
   "metadata": {},
   "source": [
    "# Projet 2IMACS : Mesures de températures à partir de spectres de photoluminescence\n",
    "\n",
    "**Contact** : Simon Cayez : cayez@insa-toulouse.fr  \n",
    "\n",
    "\n",
    "Le projet de recherche \"Nano Thermométrie\" a pour but la réalisation d'un dispositif de mesure de température à partir de nanoparticules semi-conductrices (Quantum dots) d'Inp/ZnS. L'intérêt de l'utilisation de nanoparticules est la possibilité de réaliser des mesures locales de température, par exemple par un greffage de ces nanoparticules sur d'autres particules plus grosses. La mesure de température est possible avec ces quantum dots grâce à leurs propriétés de photoluminescence. En effet lorsque l'on éclaire ces quantum dots avec une lumière UV, un processus d'excitation/désexcitation va conduire à une émission lumineuse dans le visible.  \n",
    "<img src=\"images/spectres1.jpg\" alt=\"Qd\" width=\"229\"/>\n",
    "\n",
    "Il a été observé que la température a un effet sur la longueur d'onde émise ce qui permettra l'utilisation de ces quantum dots pour la mesure de température.  \n",
    "<img src=\"images/spectres2.jpg\" alt=\"Spectre\" width=\"229\"/>\n",
    "Un banc de mesure a été développé avec un dispositif de chauffage, un thermomètre de référence et un spectromètre pour caractériser l'émission lumineuse. Un programme a été réalisé en python pour acquérir des spectres à des températures connues pendant des cycles thermiques.  \n",
    "\n",
    "Nous avons maintenant la possibilité d'acquérir des spectres et leurs températures associées forme de fichiers numpy.  \n",
    "\n",
    "Il est donc nécessaire de réaliser un étalonnage pour faire correspondre chaque spectre à une température.  \n",
    "\n",
    "Dans ce projet, nous souhaitons explorer ce jeu de données, en particulier identifier les paramètres qui donnent de indications sur la température.  \n",
    "\n",
    "Les fichiers disponibles sont au format *.npy.  \n",
    "\n",
    "- T1.npy et T2.npy : Températures d'acquisition : 2 sondes on prendra la température moyenne en référence.  \n",
    "- T.npy : temps d'acquisition  \n",
    "- intens.npy : intensités des spectres  \n",
    "- wl.npy : longueurs d'ondes des spectres (wavelength)  \n",
    "\n",
    "> Pour rappel, un spectre est une représentation de l'intensité en fonction de la longueur d'onde.  \n",
    "> Chaque température des fichier température correspond à un spectre.  \n",
    "\n",
    "On pourra :  \n",
    "\n",
    "- Tracer les températures et la température moyenne en fonction du temps  \n",
    "- Tracer quelques spectres et afficher en légende leurs températures correspondantes  \n",
    "- Ecrire des fonctions pour extraire les caractéristiques du pic du spectre (Intensité maximale, longueur d'onde du max du pic, surface du pic, largeur à mi-hauteur...)  \n",
    "- Stocker ces caractéristiques dans un pandas dataframe  \n",
    "- Observer les corrélations entre les paramètres, en particulier les corrélations avec la température  \n",
    "- Si le temps est suffisant il sera possible de réaliser une interface graphique.  \n",
    "\n",
    "Les données sont accessibles au lien :  \n",
    "<https://filesender.renater.fr/?s=download&token=32876805-37aa-47b1-8a2e-d43ed4775722>  "
   ]
  }
 ],
 "metadata": {
  "kernelspec": {
   "display_name": "Python 3 (ipykernel)",
   "language": "python",
   "name": "python3"
  },
  "language_info": {
   "codemirror_mode": {
    "name": "ipython",
    "version": 3
   },
   "file_extension": ".py",
   "mimetype": "text/x-python",
   "name": "python",
   "nbconvert_exporter": "python",
   "pygments_lexer": "ipython3",
   "version": "3.12.1"
  }
 },
 "nbformat": 4,
 "nbformat_minor": 5
}
