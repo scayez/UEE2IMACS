{
 "cells": [
  {
   "cell_type": "markdown",
   "id": "d0e93bb5-6725-45ea-8ac4-1ab60407e327",
   "metadata": {},
   "source": [
    "***\n",
    "# **<center>COURS PYTHON 2IMACS #7</center>**\n",
    "# ***<center>Pandas</center>***\n",
    "\n",
    "***"
   ]
  },
  {
   "cell_type": "markdown",
   "id": "278c01c5-0931-4ba7-89f2-4acdfdf0762f",
   "metadata": {},
   "source": [
    "Pandas est une bibliothèque utilisée pour la manipulation et l'analyse des données. Elle offre des structures de données efficaces (les DataFrames) pour organiser, filtrer, trier et agréger les données. Pandas facilite également l'importation et l'exportation de données à partir de divers formats, tels que CSV, Excel et bases de données."
   ]
  },
  {
   "cell_type": "code",
   "execution_count": null,
   "id": "bef0fceb-db9a-4dc1-9657-3099bba17fdb",
   "metadata": {
    "tags": []
   },
   "outputs": [],
   "source": [
    "import pandas as pd"
   ]
  },
  {
   "cell_type": "markdown",
   "id": "e4da1e3d-30a8-4da4-a75e-71853c0a0072",
   "metadata": {},
   "source": [
    "# 7-1 Charger les données et premier apperçu"
   ]
  },
  {
   "cell_type": "markdown",
   "id": "310750ad-f100-487e-93ec-887b345d1fcd",
   "metadata": {},
   "source": [
    "Chargeons les données à partir du fichier CSV. Pandas prend en charge de nombreux format des données dont le csv"
   ]
  },
  {
   "cell_type": "code",
   "execution_count": null,
   "id": "d95334a0-9585-48d2-af08-76e8961d3bf5",
   "metadata": {},
   "outputs": [],
   "source": [
    "df = pd.read_csv('fichiers_cours/pandas/WineQT.csv')"
   ]
  },
  {
   "cell_type": "markdown",
   "id": "8b155bd4-f042-4635-993e-146a480e86c0",
   "metadata": {},
   "source": [
    "*Remarque: Ces données peuvent être téléchargées parmi des centaines de dataset sur le site https://www.kaggle.com/datasets .  \n",
    "Ce site contient également de nobreux notebooks d'explorations de ces datasets, vous pouvez également y faire de compétitions de science des données!!!*"
   ]
  },
  {
   "cell_type": "markdown",
   "id": "c813bf9c-8e62-41b0-9c54-0c129895aea3",
   "metadata": {},
   "source": [
    "Affichons un aperçu des premières lignes du DataFrame"
   ]
  },
  {
   "cell_type": "code",
   "execution_count": null,
   "id": "87edf582-debd-475a-9d6a-930149cc5543",
   "metadata": {
    "tags": []
   },
   "outputs": [],
   "source": [
    "df.head()"
   ]
  },
  {
   "cell_type": "markdown",
   "id": "fe2b526b-c828-4893-bdd9-f523a9e848b3",
   "metadata": {},
   "source": [
    "Ce dataset contient des informations sur des vins portugais de type \"Vinho Verde\". Il a pour but de relier des propriétés chimiques à la qualité du vin."
   ]
  },
  {
   "cell_type": "markdown",
   "id": "c6756d8b-6489-434d-8394-212cc8534cd4",
   "metadata": {},
   "source": [
    "| No. | Feature              | Type               | Description                                                                                                                  |\n",
    "|-----|----------------------|--------------------|------------------------------------------------------------------------------------------------------------------------------|\n",
    "| 1   | Fixed Acidity        | Numeric, Continuous | Amount of non-volatile acids present, contributes to the overall balance and freshness of wine's taste.                      |\n",
    "| 2   | Volatile Acidity     | Numeric, Continuous | The portion of the wine's acidity that can be detected by smell.                                                             |\n",
    "| 3   | Citric Acid          | Numeric, Continuous | Sometimes added to increase acidity and enhance flavor; also used in wine collection and filter cleaning.                     |\n",
    "| 4   | Residual Sugar       | Numeric, Continuous | Sugar from the grapes that was not fermented into alcohol during the wine-making process.                                     |\n",
    "| 5   | Chlorides            | Numeric, Continuous | Minerals that can influence the wine's taste, including salinity.                                                            |\n",
    "| 6   | Free Sulfur Dioxide  | Numeric, Continuous | A preservative used for its antioxidant and antimicrobial properties; prevents growth of harmful microorganisms.             |\n",
    "| 7   | Total Sulfur Dioxide | Numeric, Continuous | The total amount of sulfur dioxide present in the wine, whether free or bound to other compounds.                            |\n",
    "| 8   | Density              | Numeric, Continuous | Determined by its alcohol and sugar concentrations. Most wines have a density less than water.                                |\n",
    "| 9   | pH                   | Numeric, Continuous | A measure of the acidity of the wine. Wines typically have a pH level between 2.9 and 4.2.                                  |\n",
    "| 10  | Sulphates            | Numeric, Continuous | A byproduct of the yeast fermentation process and are naturally present in all wines.                                       |\n",
    "| 11  | Alcohol              | Numeric, Continuous | Influenced by factors such as the grape variety, the sugar content in the grapes, the production process, etc.               |\n",
    "| 12  | Quality              | Numeric, Discrete  | An expert rating of the wine's overall quality.                                                                              |\n"
   ]
  },
  {
   "cell_type": "markdown",
   "id": "996ca344-512f-4ed1-90e2-7afbc2954b15",
   "metadata": {},
   "source": [
    "On peut aller voir d'autres lignes avec iloc, par exemple de la 5<sup>ème</sup> à la 19<sup>ème</sup>."
   ]
  },
  {
   "cell_type": "code",
   "execution_count": null,
   "id": "857d9e6a-9122-42a5-b1c0-f0182c88e537",
   "metadata": {
    "tags": []
   },
   "outputs": [],
   "source": [
    "df.iloc[5:20]"
   ]
  },
  {
   "cell_type": "markdown",
   "id": "396e00da-b451-4ecf-9abe-baa2a29e5b92",
   "metadata": {},
   "source": [
    "Demandons les dimensions du tableau (nombre de lignes et de colonnes). Ce code renvoie un tuple contenant le nombre de lignes et de colonnes du DataFrame"
   ]
  },
  {
   "cell_type": "code",
   "execution_count": null,
   "id": "ab5427f2-db95-409a-a034-08c011caf92f",
   "metadata": {
    "tags": []
   },
   "outputs": [],
   "source": [
    "df.shape"
   ]
  },
  {
   "cell_type": "markdown",
   "id": "dab502f2-1055-43a5-8a16-03372bc6b017",
   "metadata": {},
   "source": [
    "Et le nom des colonnes du DataFrame. Le tableau est de type numpy.ndarray."
   ]
  },
  {
   "cell_type": "code",
   "execution_count": null,
   "id": "796f11fb-1110-4a9e-b183-d3124eb25872",
   "metadata": {
    "tags": []
   },
   "outputs": [],
   "source": [
    "df.columns.values "
   ]
  },
  {
   "cell_type": "markdown",
   "id": "18d275e7-5fe0-45fb-bc7c-c55672b0e284",
   "metadata": {},
   "source": [
    "Pour obtenir une vision plus complète du jeu de données, demandons des statistiques sur les valeurs."
   ]
  },
  {
   "cell_type": "code",
   "execution_count": null,
   "id": "80181c0a-e416-4742-b77d-17611e68bb48",
   "metadata": {
    "tags": []
   },
   "outputs": [],
   "source": [
    "df.describe()"
   ]
  },
  {
   "cell_type": "markdown",
   "id": "d75e7400-6150-49fa-bfa2-309c4b9f4f58",
   "metadata": {},
   "source": [
    "| Statistique | Description |\n",
    "|---|---|\n",
    "| count |Le nombre de valeurs non nulles dans chaque colonne. |\n",
    "| mean |La moyenne des valeurs dans chaque colonne. |\n",
    "| std |L'écart type des valeurs dans chaque colonne. |\n",
    "| min |La valeur minimale dans chaque colonne. |\n",
    "| 25% |La valeur située au 25ème percentile dans chaque colonne. C'est-à-dire la valeur qui est supérieure à 25 % des valeurs de la colonne et inférieure à 75 % des valeurs de la colonne. |\n",
    "| 50% |La valeur médiane dans chaque colonne. C'est-à-dire la valeur qui est supérieure à 50 % des valeurs de la colonne et inférieure à 50 % des valeurs de la colonne. |\n",
    "| 75% |La valeur située au 75ème percentile dans chaque colonne. C'est-à-dire la valeur qui est supérieure à 75 % des valeurs de la colonne et inférieure à 25 % des valeurs de la colonne. |\n",
    "| max |La valeur maximale dans chaque colonne. |"
   ]
  },
  {
   "cell_type": "markdown",
   "id": "ba27972d-2a0c-49fb-9c9c-da2525688c43",
   "metadata": {
    "tags": []
   },
   "source": [
    "Les informations générales, en particulier les types de données contenus dans le dataframe"
   ]
  },
  {
   "cell_type": "code",
   "execution_count": null,
   "id": "58a29c1b-4a22-4fa6-8355-c8b8ced3d01e",
   "metadata": {
    "tags": []
   },
   "outputs": [],
   "source": [
    "df.info() "
   ]
  },
  {
   "cell_type": "markdown",
   "id": "dd960bf3-073d-4a36-a0a9-5b56c3525c9c",
   "metadata": {},
   "source": [
    "Les données sont pour la plupart des floats, sauf la qualité et le numero qui sont des entiers. On remarque que l'on a 1139 valeurs dans fixed acidity et 1143 dans les autres. Il peut arriver que les jeux de données ne soient pas complets, de valeurs peuvent manquer. Vérifions avec **df.isnull**"
   ]
  },
  {
   "cell_type": "markdown",
   "id": "7ffc0212-fc7b-4969-bbbc-bd861045c386",
   "metadata": {},
   "source": [
    "# 7-2 Gestion des données manquantes"
   ]
  },
  {
   "cell_type": "markdown",
   "id": "d6c933fa-9d60-4d34-95f9-e62695784ce9",
   "metadata": {},
   "source": [
    "Comptons les valeurs manquantes par colonne"
   ]
  },
  {
   "cell_type": "code",
   "execution_count": null,
   "id": "1923c9f6-0162-4857-bc68-56a86e165e98",
   "metadata": {
    "tags": []
   },
   "outputs": [],
   "source": [
    "df.isnull().sum()"
   ]
  },
  {
   "cell_type": "markdown",
   "id": "c7f55688-1468-43b0-86ec-613c69eae56f",
   "metadata": {},
   "source": [
    "Nous avons plusieurs options:\n"
   ]
  },
  {
   "cell_type": "markdown",
   "id": "dc019368-8f60-4f10-b5d6-22e891e7ee67",
   "metadata": {},
   "source": [
    "| Opération                              | Description                                                                                    |\n",
    "|----------------------------------------|------------------------------------------------------------------------------------------------|\n",
    "| `df.dropna()`                          | Supprime les lignes contenant des valeurs manquantes.                                        |\n",
    "| `df.dropna(axis=1)`                    | Supprime les colonnes contenant des valeurs manquantes.                                      |\n",
    "| `df.fillna(method='bfill')`            | Remplace les valeurs manquantes par les valeurs suivantes de chaque colonne.                  |\n",
    "| `df.fillna(method='ffill')`            | Remplace les valeurs manquantes par les valeurs précédentes de chaque colonne.                |\n",
    "| `df.fillna(method='mean')`             | Remplace les valeurs manquantes par la moyenne des valeurs non manquantes de chaque colonne.   |\n",
    "| `df.fillna(method='median')`           | Remplace les valeurs manquantes par la médiane des valeurs non manquantes de chaque colonne.  |\n"
   ]
  },
  {
   "cell_type": "markdown",
   "id": "2a74785e-54ac-40ff-b065-268edac12d58",
   "metadata": {},
   "source": [
    "Dans notre cas, les valeur manquantes concernent 4 lignes sur 1143, supprimons les lignes contenant des valeurs manquante"
   ]
  },
  {
   "cell_type": "code",
   "execution_count": null,
   "id": "5e998623-77c0-4b9a-85f8-e995d7c65a9d",
   "metadata": {
    "tags": []
   },
   "outputs": [],
   "source": [
    "print('dimensions avant : ',df.shape)\n",
    "df.dropna(inplace=True)# remplacer le dataframe par sa version sans valeurs manquantes\n",
    "print('dimensions avant : ',df.shape)"
   ]
  },
  {
   "cell_type": "markdown",
   "id": "1d9c43b7-2915-4693-b88b-eb1b4a1fd20e",
   "metadata": {},
   "source": [
    "# 7-3 Suppression de colonne ou lignes et tris"
   ]
  },
  {
   "cell_type": "markdown",
   "id": "42a298b6-4649-4f70-8511-ca9fe158dbf3",
   "metadata": {},
   "source": [
    "## 7-3-1 Suppression de colonnes"
   ]
  },
  {
   "cell_type": "markdown",
   "id": "7a98b02a-f513-44ca-9e42-3225ffb0e753",
   "metadata": {},
   "source": [
    "Dans notre dataset, on remarque que on a une colonne Id qui semble être un numero d'identication. Ici, il ne nous apportera pas d'information, supprimons cette colonne"
   ]
  },
  {
   "cell_type": "code",
   "execution_count": null,
   "id": "a0ad02c5-5b69-4be9-9a08-f785f140d343",
   "metadata": {
    "tags": []
   },
   "outputs": [],
   "source": [
    "print('Avant: ')\n",
    "df.head()"
   ]
  },
  {
   "cell_type": "code",
   "execution_count": null,
   "id": "7333986b-ecda-4783-8b80-d9f4009c96a0",
   "metadata": {
    "tags": []
   },
   "outputs": [],
   "source": [
    "df = df.drop(\"Id\", axis=1)"
   ]
  },
  {
   "cell_type": "code",
   "execution_count": null,
   "id": "251101b8-f025-407a-8ab8-77c05b9f70ad",
   "metadata": {
    "tags": []
   },
   "outputs": [],
   "source": [
    "print('Après: ')\n",
    "df.head()"
   ]
  },
  {
   "cell_type": "markdown",
   "id": "328a7b80-ee0c-40cd-830f-6294166c4a59",
   "metadata": {},
   "source": [
    "## 7-3-3 Suppression de lignes"
   ]
  },
  {
   "cell_type": "markdown",
   "id": "5f2ef47e-b71a-4798-b5d0-3f5a03fdf18a",
   "metadata": {},
   "source": [
    "Nous avons vu comment supprimer des lignes dans le cas où elles contiennent des valeurs manquantes. Il est aussi possible de supprimer des lignes suivant leur numero (ou indice). Dans certains tableau les lignes peuvent avoir un nom, dans ce cas, on pourra appliquer drop à partir de ce nom."
   ]
  },
  {
   "cell_type": "code",
   "execution_count": null,
   "id": "b734902d-8230-4d48-b97b-a15ca2656a32",
   "metadata": {
    "tags": []
   },
   "outputs": [],
   "source": [
    "print(df.shape)\n",
    "df_sup_lig = df.drop(index=2)\n",
    "print(df_sup_lig.shape)"
   ]
  },
  {
   "cell_type": "markdown",
   "id": "44bbe94d-e17e-4c85-9eff-898484d09de7",
   "metadata": {},
   "source": [
    "## 7-3-4 Selection de lignes suivant des conditions"
   ]
  },
  {
   "cell_type": "markdown",
   "id": "a6d45bfb-9b79-48e0-a8b9-83ea4cba9e36",
   "metadata": {
    "tags": []
   },
   "source": [
    "Sélectionnons, par exemple, les lignes du DataFrame df où la teneur en chlorures est inférieure à 0,1 et la teneur en alcool est supérieure à 12."
   ]
  },
  {
   "cell_type": "code",
   "execution_count": null,
   "id": "cc0c1134-837a-4eb3-998e-24e58248b512",
   "metadata": {
    "tags": []
   },
   "outputs": [],
   "source": [
    "print(df.shape)\n",
    "df_condition1 = df.query(\"chlorides < 0.1 & alcohol > 12\")\n",
    "print(df_condition1.shape)"
   ]
  },
  {
   "cell_type": "code",
   "execution_count": null,
   "id": "6b6f0a36-7550-42dc-a7fd-6dd5af32c2c0",
   "metadata": {
    "tags": []
   },
   "outputs": [],
   "source": [
    "df_condition1.describe()"
   ]
  },
  {
   "cell_type": "markdown",
   "id": "6fa4357f-917c-41ce-bbd0-84fc6e39c929",
   "metadata": {},
   "source": [
    "Une autre option est d'utiliser la fonction **where** qui conserve les lignes mais supprime les valeurs et les remplace par **NaN** (Not a Number). Il faudra ensuite supprimer les lignes contenant les données manquantes."
   ]
  },
  {
   "cell_type": "code",
   "execution_count": null,
   "id": "8bb96bee-24e2-4771-b919-1f98be0367c1",
   "metadata": {
    "tags": []
   },
   "outputs": [],
   "source": [
    "print(df.shape)\n",
    "# on définit la partie du tableau répondant aux conditions\n",
    "df_condition2 =  df.where((df['chlorides'] < 0.1) & (df['alcohol'] > 12)) \n",
    "print(df_condition2.shape)"
   ]
  },
  {
   "cell_type": "code",
   "execution_count": null,
   "id": "9afa2d74-153a-4a04-9fa2-e50dc0520d0b",
   "metadata": {
    "tags": []
   },
   "outputs": [],
   "source": [
    "df_condition2.describe()"
   ]
  },
  {
   "cell_type": "code",
   "execution_count": null,
   "id": "b62f331f-6557-493f-9545-3d4bc91b93ba",
   "metadata": {},
   "outputs": [],
   "source": [
    "df_condition2.iloc[90:100]"
   ]
  },
  {
   "cell_type": "markdown",
   "id": "40ddb827-cbba-463f-8359-d78ccca060d6",
   "metadata": {},
   "source": [
    "## 7-3-5 Tris"
   ]
  },
  {
   "cell_type": "markdown",
   "id": "e03bdacc-d1d2-438d-8f2c-708ebc791d8f",
   "metadata": {},
   "source": [
    "On peut trier les lignes suivant la valeur d'une colonne. Trions par exemple les données par notes de qualité croissantes"
   ]
  },
  {
   "cell_type": "code",
   "execution_count": null,
   "id": "229c32f8-33db-4fa1-997a-be60c2b9360b",
   "metadata": {
    "tags": []
   },
   "outputs": [],
   "source": [
    "df_sorted = df.sort_values('quality')\n",
    "df_sorted.head()"
   ]
  },
  {
   "cell_type": "markdown",
   "id": "9033a7c6-1050-4181-a931-2f29d8b40245",
   "metadata": {},
   "source": [
    "On peut choisir, en cas d'égalité de trier par la valeur de 'alcohol'"
   ]
  },
  {
   "cell_type": "code",
   "execution_count": null,
   "id": "ea7da58c-ec4c-401d-8f71-d774f474e996",
   "metadata": {
    "tags": []
   },
   "outputs": [],
   "source": [
    "df_sorted = df.sort_values(['quality', 'alcohol'])\n",
    "df_sorted.head()"
   ]
  },
  {
   "cell_type": "markdown",
   "id": "3a248e84-31a9-4da8-a39c-f412cf9d984b",
   "metadata": {},
   "source": [
    "On peut choisir de trier dans l'ordre decroissant"
   ]
  },
  {
   "cell_type": "code",
   "execution_count": null,
   "id": "4fac41b8-df09-4084-9f3c-893c6a958616",
   "metadata": {
    "tags": []
   },
   "outputs": [],
   "source": [
    "df_sorted = df.sort_values(['quality', 'alcohol'], ascending=[False, False])\n",
    "df_sorted.head()"
   ]
  },
  {
   "cell_type": "markdown",
   "id": "3a549f08-5af6-4580-811f-6f4cad1c78aa",
   "metadata": {},
   "source": [
    "[Exercice 1](exercices/Exercices7.ipynb)"
   ]
  },
  {
   "cell_type": "markdown",
   "id": "676a98ae-814e-4bb8-815d-6fcc26fccc96",
   "metadata": {},
   "source": [
    "# 7-4 Répartitions des données"
   ]
  },
  {
   "cell_type": "markdown",
   "id": "4c899158-b1b6-415e-828d-2b2111547354",
   "metadata": {},
   "source": [
    "Regardons maintenant comment se repartissent les qualités avec un histogramme. Traçons ici l'histogramme des qualités, de manière à visualiser le nombre d'occurence de chaque note."
   ]
  },
  {
   "cell_type": "code",
   "execution_count": null,
   "id": "2f38300a-f9fc-4d9d-a8ea-06622692f49f",
   "metadata": {
    "tags": []
   },
   "outputs": [],
   "source": [
    "import matplotlib.pyplot as plt\n",
    "\n",
    "# Créer la figure et les axes\n",
    "fig, ax = plt.subplots()\n",
    "\n",
    "# Tracer l'histogramme\n",
    "ax.hist(df['quality'], bins=11)\n",
    "\n",
    "# Ajouter des labels aux axes\n",
    "ax.set_xlabel('Quality')\n",
    "ax.set_ylabel('Frequency')\n",
    "\n",
    "# Personnaliser les intervalles de l'axe des x\n",
    "x_ticks = range(0, 11)  # Plage de 0 à 10\n",
    "plt.xticks(x_ticks)\n",
    "\n",
    "# Afficher la figure\n",
    "plt.show()\n"
   ]
  },
  {
   "cell_type": "markdown",
   "id": "18a2c165-d07f-41bb-9141-f36535fe07d2",
   "metadata": {},
   "source": [
    "Comptons le nombre d'occurence pour chaque note de qualité avec **value_counts**"
   ]
  },
  {
   "cell_type": "code",
   "execution_count": null,
   "id": "9d6d0d7c-be93-465d-8fd1-666c1210e08e",
   "metadata": {
    "tags": []
   },
   "outputs": [],
   "source": [
    "for i in range(11): \n",
    "    \n",
    "    counts = df['quality'].value_counts().get(i, 0)\n",
    "\n",
    "    print(\"Nombre d'occurrences avec quality\",i,\"=\", counts)"
   ]
  },
  {
   "cell_type": "markdown",
   "id": "822e22a7-332d-430b-be96-03355684be53",
   "metadata": {
    "tags": []
   },
   "source": [
    "Regardons la répartition des valeurs pour chaque colonne. **df.hist()** permet une visualisation de l'ensemble des données."
   ]
  },
  {
   "cell_type": "code",
   "execution_count": null,
   "id": "6b5bc051-e4e3-4efd-8ef7-f5c2ee420889",
   "metadata": {
    "tags": []
   },
   "outputs": [],
   "source": [
    "df.hist(bins=30, figsize=(10,15)) # bins représente le nombre de barres de l'histogramme\n",
    "plt.show()"
   ]
  },
  {
   "cell_type": "markdown",
   "id": "41438002-76a8-4bbd-b082-288060c63d39",
   "metadata": {},
   "source": [
    "Utilisons les boxplot pour une visualisation des données complementaires."
   ]
  },
  {
   "cell_type": "code",
   "execution_count": null,
   "id": "d8f389aa-f1c7-48dd-a266-2e6b1fc34cdc",
   "metadata": {},
   "outputs": [],
   "source": [
    "\n",
    "# Créer la figure et les sous-graphiques\n",
    "fig, axes = plt.subplots(4, 3, figsize=(12, 12))\n",
    "\n",
    "# Boucle pour tracer les boîtes à moustaches de chaque colonne\n",
    "for i, column in enumerate(df.columns):\n",
    "    # Calcul des indices de la position du sous-graphique\n",
    "    row = i // 3\n",
    "    col = i % 3\n",
    "    \n",
    "    # Tracer la boîte à moustaches de la colonne sur le sous-graphique correspondant\n",
    "    axes[row, col].boxplot(df[column])\n",
    "    axes[row, col].set_xlabel(column)\n",
    "    axes[row, col].set_ylabel('Value')\n",
    "    axes[row, col].set_title('Boxplot of ' + column)\n",
    "\n",
    "# Ajuster l'espacement entre les sous-graphiques\n",
    "plt.tight_layout()\n",
    "\n",
    "# Afficher la figure\n",
    "plt.show()\n"
   ]
  },
  {
   "cell_type": "markdown",
   "id": "28745420-02b6-4660-b081-00e664768368",
   "metadata": {},
   "source": [
    "Pour la lecture des Boxplots:"
   ]
  },
  {
   "cell_type": "markdown",
   "id": "cfa839e1-b281-49d7-9dbe-72cc1205ba27",
   "metadata": {},
   "source": [
    "![boxplot](fichiers_cours/pandas/boxplot.png)"
   ]
  },
  {
   "cell_type": "markdown",
   "id": "59da7793-cce7-446c-89c8-36885c31d246",
   "metadata": {},
   "source": [
    "- La boîte représente l'étendue interquartile (IQR) des données, c'est-à-dire la plage entre le premier quartile (Q1) et le troisième quartile (Q3). La longueur de la boîte indique la dispersion des données dans cette plage.\n",
    "    - Le premier quartile (Q1) est la valeur qui divise les données en deux parties, où environ 25% des données sont inférieures à Q1. Cela signifie que 25% des valeurs se trouvent en dessous de Q1.\n",
    "\n",
    "    - Le troisième quartile (Q3) est la valeur qui divise les données en deux parties, où environ 75% des données sont inférieures à Q3. Cela signifie que 75% des valeurs se trouvent en dessous de Q3.\n",
    "\n",
    "- La médiane : La ligne orange à l'intérieur de la boîte représente la médiane, qui est la valeur qui divise l'échantillon en deux parties égales. Elle indique la valeur centrale de la distribution.\n",
    "\n",
    "- Les moustaches : Les moustaches s'étendent à partir de la boîte et représentent la dispersion des données en dehors de l'IQR (inter quartile range). Les moustaches peuvent être dessinées de différentes manières, mais généralement elles s'étendent jusqu'aux valeurs minimale et maximale des données qui ne sont pas des valeurs aberrantes.\n",
    "\n",
    "- Les points ou les cercles : Les points ou les cercles qui se trouvent en dehors des moustaches représentent les valeurs aberrantes, c'est-à-dire les valeurs qui sont éloignées des autres données. Elles peuvent indiquer des observations inhabituelles ou des valeurs extrêmes.\n",
    "    "
   ]
  },
  {
   "cell_type": "markdown",
   "id": "9525e0bc-870b-4464-a229-f5c15a8fad8c",
   "metadata": {},
   "source": [
    "# 7-5 Correlation des données"
   ]
  },
  {
   "cell_type": "markdown",
   "id": "1a15acfc-e59e-43ad-9b55-04156c351c01",
   "metadata": {},
   "source": [
    "La matrice de corrélation est un outil statistique qui mesure la force de la relation entre deux variables. Elles sont généralement représentées sous forme d'une matrice où chaque cellule contient le coefficient de corrélation linéaire entre deux variables.\n",
    "\n",
    "Les coefficients de corrélation peuvent prendre des valeurs comprises entre -1 et 1. Une valeur de 1 indique une corrélation parfaite positive, ce qui signifie que les deux variables augmentent ou diminuent ensemble. Une valeur de -1 indique une corrélation parfaite négative, ce qui signifie que les deux variables augmentent ou diminuent en sens inverse.\n",
    "\n",
    "Une valeur de 0 indique qu'il n'y a pas de corrélation entre les deux variables."
   ]
  },
  {
   "cell_type": "markdown",
   "id": "5778d0e0-6b21-422a-b489-c3e32932deca",
   "metadata": {
    "tags": []
   },
   "source": [
    "Calculer la matrice de corrélation de notre dataframe:"
   ]
  },
  {
   "cell_type": "code",
   "execution_count": null,
   "id": "babf3bf2-26a3-4f3d-acdb-04c185f62953",
   "metadata": {
    "tags": []
   },
   "outputs": [],
   "source": [
    "corr_matrix = df.corr()\n",
    "print(corr_matrix)"
   ]
  },
  {
   "cell_type": "markdown",
   "id": "62e8c3bd-e8f4-49df-9354-09c214cbe43a",
   "metadata": {},
   "source": [
    "Utilisons un tracé plus visuel..."
   ]
  },
  {
   "cell_type": "code",
   "execution_count": null,
   "id": "2ba805b0-2df5-4ce5-92fe-ca1d80e8b99e",
   "metadata": {
    "tags": []
   },
   "outputs": [],
   "source": [
    "# Créer une figure et un axe pour le tracé\n",
    "fig, ax = plt.subplots(figsize=(10, 8))\n",
    "\n",
    "# Tracer la matrice de corrélation avec imshow\n",
    "im = ax.imshow(corr_matrix, cmap='coolwarm')\n",
    "\n",
    "# Ajouter une barre de couleur\n",
    "cbar = ax.figure.colorbar(im, ax=ax)\n",
    "\n",
    "# Ajouter les étiquettes des axes\n",
    "ax.set_xticks(range(len(corr_matrix.columns)))\n",
    "ax.set_yticks(range(len(corr_matrix.columns)))\n",
    "ax.set_xticklabels(corr_matrix.columns, rotation=90)\n",
    "ax.set_yticklabels(corr_matrix.columns);"
   ]
  },
  {
   "cell_type": "markdown",
   "id": "a6560099-cd1b-465d-9d7c-e880b1a5d6fc",
   "metadata": {
    "tags": []
   },
   "source": [
    "Faisons le plot cette fois avec seaborn pour un affichage donnant plus de précision"
   ]
  },
  {
   "cell_type": "code",
   "execution_count": null,
   "id": "2a99816b-8b72-4236-aebb-600b9da3941f",
   "metadata": {
    "tags": []
   },
   "outputs": [],
   "source": [
    "import seaborn as sns\n",
    "\n",
    "# Créer une figure et un axe pour le tracé\n",
    "fig, ax = plt.subplots(figsize=(10, 8))\n",
    "\n",
    "# Tracer la matrice de corrélation avec heatmap\n",
    "sns.heatmap(corr_matrix, cmap='coolwarm', annot=True, ax=ax)\n",
    "\n",
    "# Configurer les étiquettes des axes\n",
    "\n",
    "ax.set_xticklabels(ax.get_xticklabels(), rotation=45, horizontalalignment='right')\n",
    "plt.tight_layout()\n",
    "# Afficher la figure\n",
    "plt.show()\n"
   ]
  },
  {
   "cell_type": "markdown",
   "id": "54903a26-7d6c-4e72-8cfb-8c9f665fbb59",
   "metadata": {},
   "source": [
    "Que peut on en conclure? Regarder notamment la correlation entre pH et fixed acidity."
   ]
  },
  {
   "cell_type": "markdown",
   "id": "28bb565d-a689-4e89-843d-83fa40c9037e",
   "metadata": {},
   "source": [
    "Traçons des représentations graphiques des ces correlations, d'abord avec Seaborn"
   ]
  },
  {
   "cell_type": "code",
   "execution_count": null,
   "id": "ef5b47d7-f278-42a2-bf72-b0ba0bce76fa",
   "metadata": {},
   "outputs": [],
   "source": [
    "sns.set(style=\"ticks\")\n",
    "\n",
    "# Créer une matrice de scatter plots\n",
    "sns.pairplot(df)\n",
    "\n",
    "# Afficher le graphique\n",
    "plt.show()"
   ]
  },
  {
   "cell_type": "markdown",
   "id": "425c9c70-9f3c-4aa5-a2e3-77f787959033",
   "metadata": {},
   "source": [
    "Pandas a aussi des fonctions de plot utilisons **plotting.scatter_matrix** pour réaliser l'équivalent de l'opération précédente"
   ]
  },
  {
   "cell_type": "code",
   "execution_count": null,
   "id": "ed1f07ad-f341-44d8-a0fe-8c9c5459c878",
   "metadata": {
    "tags": []
   },
   "outputs": [],
   "source": [
    "# Tracer la matrice de scatter plots\n",
    "pd.plotting.scatter_matrix(df, figsize=(16, 16))\n",
    "\n",
    "# Ajuster les espacements entre les sous-graphiques\n",
    "plt.tight_layout()\n",
    "\n",
    "\n",
    "# Afficher le graphique\n",
    "plt.show()\n"
   ]
  },
  {
   "cell_type": "markdown",
   "id": "e5fc2460-cac0-4f31-8775-c4eedc225981",
   "metadata": {},
   "source": [
    "# 7-6 Création et fusion de dataframes"
   ]
  },
  {
   "cell_type": "markdown",
   "id": "eec25199-df4e-48cf-8205-0c68e64224ca",
   "metadata": {
    "tags": []
   },
   "source": [
    "Créeons un dataframe"
   ]
  },
  {
   "cell_type": "code",
   "execution_count": null,
   "id": "493df80b-1e3c-4767-b7fa-e5eda51fda98",
   "metadata": {
    "tags": []
   },
   "outputs": [],
   "source": [
    "import numpy as np\n",
    "# Créer un tableau NumPy\n",
    "data_array = np.array([[1, 2, 3], [4, 5, 6], [7, 8, 9], [10, 11, 12]])\n",
    "# Créer un DataFrame à partir du tableau NumPy\n",
    "df = pd.DataFrame(data_array)\n",
    "# Afficher le DataFrame\n",
    "print(df)"
   ]
  },
  {
   "cell_type": "markdown",
   "id": "2057f44d-81f8-4584-a04b-2ce83ac97070",
   "metadata": {
    "tags": []
   },
   "source": [
    "Ajoutons des noms de lignes et de colonnes"
   ]
  },
  {
   "cell_type": "code",
   "execution_count": null,
   "id": "162e152e-45bb-4308-8ae3-53fe8f15b3df",
   "metadata": {
    "tags": []
   },
   "outputs": [],
   "source": [
    "df.index = ['ligne1', 'ligne2', 'ligne3', 'ligne4']\n",
    "df.columns = ['colonne1', 'colonne2', 'colonne3']\n",
    "print(df)"
   ]
  },
  {
   "cell_type": "markdown",
   "id": "1e995ea6-e2d0-46b0-891a-fa5d1f1a38f3",
   "metadata": {},
   "source": [
    "On a aussi la possibité de réaliser la création et le remplissage en étape avec l'utilisation d'un dictionnaire"
   ]
  },
  {
   "cell_type": "code",
   "execution_count": null,
   "id": "3f92e615-874e-4f7e-8e65-300b6f2b6cc6",
   "metadata": {},
   "outputs": [],
   "source": [
    "data = {'ligne1': [1, 2, 3], 'ligne2': [4, 5, 6], 'ligne3': [7, 8, 9], 'ligne4': [10, 11, 12]}\n",
    "df = pd.DataFrame.from_dict(data,orient='index', columns=['colonne1', 'colonne2', 'colonne3'])\n",
    "# Afficher le DataFrame\n",
    "print(df)"
   ]
  },
  {
   "cell_type": "markdown",
   "id": "24f9fb38-57aa-40fd-8dfe-70f04f4e89a6",
   "metadata": {},
   "source": [
    "Ajoutons maintenant une ligne à df"
   ]
  },
  {
   "cell_type": "code",
   "execution_count": null,
   "id": "0eec37c7-5da3-43d4-b38f-dee8907b6f07",
   "metadata": {
    "tags": []
   },
   "outputs": [],
   "source": [
    "nouvelle_ligne = [13, 14, 15]\n",
    "# Ajouter la nouvelle ligne en utilisant la méthode loc\n",
    "df.loc['ligne5'] = nouvelle_ligne\n",
    "print(df)"
   ]
  },
  {
   "cell_type": "markdown",
   "id": "1649ad05-d187-40ed-beb1-764229c723f5",
   "metadata": {},
   "source": [
    "Créeons maintenant un deuxieme dataframe "
   ]
  },
  {
   "cell_type": "code",
   "execution_count": null,
   "id": "a19913fd-9b0f-4af6-97fe-464ee2b54db5",
   "metadata": {
    "tags": []
   },
   "outputs": [],
   "source": [
    "data_array2 = np.array([[100, 200, 300], [400, 500, 600], [700, 800, 900]])\n",
    "df2 = pd.DataFrame(data_array2)\n",
    "df2.index = ['ligne1_1', 'ligne2_1', 'ligne3_1']\n",
    "df2.columns = ['colonne1', 'colonne2', 'colonne3']\n",
    "print(df2)\n"
   ]
  },
  {
   "cell_type": "markdown",
   "id": "54ffd7a9-5196-44e5-a914-bf2f11fa5818",
   "metadata": {},
   "source": [
    "Faisons la concaténation des lignes des deux DataFrames"
   ]
  },
  {
   "cell_type": "code",
   "execution_count": null,
   "id": "e7899f1a-670e-45cf-8fde-7039210c7439",
   "metadata": {
    "tags": []
   },
   "outputs": [],
   "source": [
    "# Concaténer les lignes des deux DataFrames\n",
    "df_concatenated = pd.concat([df, df2])#, ignore_index=True)\n",
    "\n",
    "# Afficher le DataFrame concaténé\n",
    "print(df_concatenated)"
   ]
  },
  {
   "cell_type": "markdown",
   "id": "4efccffc-85ad-4220-a8ff-b491b5d195fe",
   "metadata": {},
   "source": [
    "Ajoutons maintenant une colonne à df_concatenated"
   ]
  },
  {
   "cell_type": "code",
   "execution_count": null,
   "id": "5d879a59-9324-427d-87be-316138b8471e",
   "metadata": {
    "tags": []
   },
   "outputs": [],
   "source": [
    "df_concatenated['colonne 4'] = [1, 2, 3, 4, 5, 6, 7, 8]\n",
    "\n",
    "# Afficher le DataFrame avec la nouvelle colonne\n",
    "print(df_concatenated)"
   ]
  },
  {
   "cell_type": "markdown",
   "id": "3ded1348-4103-4a45-bce7-432913888313",
   "metadata": {},
   "source": [
    "# 7-7 Quelques fonctions suplémentaires"
   ]
  },
  {
   "cell_type": "markdown",
   "id": "3dfb9662-37ff-4581-b41c-96790829dcb1",
   "metadata": {},
   "source": [
    "Créons un dataframe d'exemple"
   ]
  },
  {
   "cell_type": "code",
   "execution_count": null,
   "id": "18c5f2af-6774-4a6b-b9ef-f100d0a33235",
   "metadata": {},
   "outputs": [],
   "source": [
    "data = {\n",
    "    \"Sex\": ['M', 'F', 'M', 'F', 'M'],\n",
    "    \"Age\": [24, 32, 28, 29, 35],\n",
    "    \"Weight\": [75, 62, 80, 55, 70],\n",
    "    \"Height\": [180, 165.5, 175, 170.3, 185.6]  # Tailles en cm, certains en int, d'autres en float\n",
    "}\n",
    "\n",
    "df = pd.DataFrame(data)\n",
    "\n",
    "print(df)"
   ]
  },
  {
   "cell_type": "markdown",
   "id": "38caf46c-7f99-4145-9e55-3773cddd67df",
   "metadata": {},
   "source": [
    "## 7-7-1 Remplacer des valeurs"
   ]
  },
  {
   "cell_type": "markdown",
   "id": "01c3df2f-681a-457a-afa4-eeed18648b03",
   "metadata": {},
   "source": [
    "Remplaçons les valeurs sex par des valeurs numeriques avec"
   ]
  },
  {
   "cell_type": "code",
   "execution_count": null,
   "id": "ea08154b-da8d-4af5-a560-9456894ad1e1",
   "metadata": {},
   "outputs": [],
   "source": [
    "df['Sex'] = df['Sex'].replace({'M': 0, 'F': 1})\n",
    "print(df)"
   ]
  },
  {
   "cell_type": "markdown",
   "id": "8c0ff27c-d4ee-461c-876e-358732ed4cca",
   "metadata": {},
   "source": [
    "## 7-7-2 Compter un nombre d'occurences"
   ]
  },
  {
   "cell_type": "code",
   "execution_count": null,
   "id": "0f6f62f1-50bd-4c45-91c1-185561d9115d",
   "metadata": {},
   "outputs": [],
   "source": [
    "nombre_de_femmes = df['Sex'].value_counts()[1]\n",
    "print(nombre_de_femmes)"
   ]
  },
  {
   "cell_type": "markdown",
   "id": "fcd0998c-6820-4525-8754-33042a29b053",
   "metadata": {},
   "source": [
    "[Exercice 2](exercices/Exercices7.ipynb)"
   ]
  }
 ],
 "metadata": {
  "kernelspec": {
   "display_name": "Python 3 (ipykernel)",
   "language": "python",
   "name": "python3"
  },
  "language_info": {
   "codemirror_mode": {
    "name": "ipython",
    "version": 3
   },
   "file_extension": ".py",
   "mimetype": "text/x-python",
   "name": "python",
   "nbconvert_exporter": "python",
   "pygments_lexer": "ipython3",
   "version": "3.11.7"
  }
 },
 "nbformat": 4,
 "nbformat_minor": 5
}
