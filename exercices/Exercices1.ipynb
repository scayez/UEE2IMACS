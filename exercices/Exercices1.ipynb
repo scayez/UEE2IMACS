{
 "cells": [
  {
   "cell_type": "markdown",
   "id": "a32cddf0-6be8-4b1d-9820-eb2a12e62e12",
   "metadata": {},
   "source": [
    "***\n",
    "# **<center>Exercices#1</center>**\n",
    "# ***<center>Types de Données et Operations</center>***\n",
    "# ***<center>Structures Conditionnelles</center>***\n",
    "***"
   ]
  },
  {
   "cell_type": "markdown",
   "id": "8ac0c4ea-3c78-4f53-adc0-648dabd7e94f",
   "metadata": {},
   "source": [
    "## 1- Exercices Types de données et opérations"
   ]
  },
  {
   "cell_type": "markdown",
   "id": "b3166113-e9a2-4da8-b304-463840710eed",
   "metadata": {},
   "source": [
    "***\n",
    "<u>Exercice 0 :</u> *Créer des chaines de caractères.*  \n",
    "Déclarer 2 chaines de caractères: l'une contenant le mot Monty et l'autre contenant le mot Python. Créér une troisième chaine contenant le nom Monty Python à partir des deux premières chaines."
   ]
  },
  {
   "cell_type": "markdown",
   "id": "05d82465-9489-40a1-9d2f-ef18a39ac5ed",
   "metadata": {},
   "source": [
    "***\n",
    "<u>Exercice 1 :</u> *Division.*  \n",
    "\n",
    "Ecrire un programme qui donne le quotient et le reste de la division 1545/44."
   ]
  },
  {
   "cell_type": "markdown",
   "id": "077d0b84-a394-4a08-8284-79a0711185ae",
   "metadata": {},
   "source": [
    "***\n",
    "<u>Exercice 2 :</u> *Rechercher un mot dans une phrase 1.*  \n",
    "\n",
    "Écrivez un programme qui extrait le mot \"now\" de la phrase \"And now for something completely different\". Affichez ensuite ce mot. Vous utiliserez la position du mot dans la phrase"
   ]
  },
  {
   "cell_type": "markdown",
   "id": "ff1e8b8e-afad-4cc5-b32e-d86de591c4df",
   "metadata": {},
   "source": [
    "***\n",
    "<u>Exercice 3 :</u> *Rechercher un mot dans une phrase 2.*   \n",
    "\n",
    "Écrivez un programme qui recherche le mot \"Ni\" dans la phrase \"We are the knights who say Ni\". Affichez ensuite la position (index) de ce mot dans la phrase."
   ]
  },
  {
   "cell_type": "markdown",
   "id": "29fb9717-5d30-4b8a-9cf3-9fee0a2d99b3",
   "metadata": {},
   "source": [
    "***\n",
    "<u>Exercice 4:</u> *Somme de deux nombres.*  \n",
    "\n",
    "Réaliser l'opération pour calculer la somme de 14 + 8 à partir du code suivant:"
   ]
  },
  {
   "cell_type": "code",
   "execution_count": 8,
   "id": "6322bb26-e295-42fa-be88-0706d2bcead9",
   "metadata": {
    "tags": []
   },
   "outputs": [],
   "source": [
    "x = '14'\n",
    "y = '8'\n",
    "# Continuer le code..."
   ]
  },
  {
   "cell_type": "markdown",
   "id": "62ed9521-7492-4623-9f81-fcb7722da79f",
   "metadata": {},
   "source": [
    "## 2- Exercices Structures Conditionnelles"
   ]
  },
  {
   "cell_type": "markdown",
   "id": "efbd39e8-0ce1-4a18-abee-081dc80e9a34",
   "metadata": {
    "tags": []
   },
   "source": [
    "***\n",
    "<u>Exercice 5 :</u> *Comparaison.*  \n",
    "\n",
    "Écrivez un programme qui compare deux nombres x et y. Si x est supérieur à y, affiche \"x est superieur à y\". Sinon, affiche \"x est inférieur ou égal à y\"."
   ]
  },
  {
   "cell_type": "markdown",
   "id": "59677dab-3a9d-4d4b-bb29-d6b789f8d081",
   "metadata": {},
   "source": [
    "***\n",
    "<u>Exercice 6 :</u> *Parité.*  \n",
    "\n",
    "Écrivez un programme qui vérifie si un nombre n est pair ou impair. Si n est pair, affichez \"Le nombre est pair\". Sinon, affichez \"Le nombre est impair\"."
   ]
  },
  {
   "cell_type": "markdown",
   "id": "6dd59cd2-14f0-4769-a0d5-557ea346929a",
   "metadata": {},
   "source": [
    "***\n",
    "<u>Exercice 7 :</u> *Signe.*  \n",
    "\n",
    "Écrivez un programme qui vérifie si un nombre a est positif, négatif ou nul. Affichez le résultat correspondant."
   ]
  },
  {
   "cell_type": "markdown",
   "id": "38729818-a8da-479b-901f-9aba93550fc1",
   "metadata": {},
   "source": [
    "***\n",
    "<u>Exercice 8 : </u> *Consonne ou voyelle?*  \n",
    "\n",
    "Écrivez un programme qui vérifie si un caractère est une voyelle (a, e, i, o, u,y) ou une consonne. Affiche le résultat correspondant."
   ]
  },
  {
   "cell_type": "markdown",
   "id": "9831ae51-d7bd-4298-84a7-6aa2825990bf",
   "metadata": {},
   "source": [
    "***\n",
    "<u>Exercice 9 :</u> *Limite d'âge.*   \n",
    "\n",
    "Écrivez un programme qui demande à l'utilisateur son age. Si l'age est inférieur à 13 ans, affichez \"Accès refusé\". Sinon, affichez \"Accès autorisé\"."
   ]
  },
  {
   "cell_type": "markdown",
   "id": "c9d225d5-515d-4381-b618-f2c571f7f85d",
   "metadata": {},
   "source": [
    "***\n",
    "<u>Exercice 10 :</u> *Années bissextiles.*   \n",
    "\n",
    "\n",
    "Une année est bissextile (comportant 366 jours) seulement si elle respecte l’un des deux critères suivants :\n",
    "\n",
    "- L'année est divisible par 4 sans être divisible par 100 (cas des années qui ne sont pas des multiples de 100) ;\n",
    "- L'année est divisible par 400 (cas des années multiples de 100).\n",
    "\n",
    "Autrement dit : pour être bissextile, une année doit dans tous les cas être divisible par 4 ; mais si c’est une année de centenaire (comme 1800, 1900, etc.), elle doit en complément être divisible par 400. \n",
    "> [Source](https://fr.wikipedia.org/wiki/Ann%C3%A9e_bissextile)\n",
    "\n",
    "Écrivez un programme qui vérifie si une année annee est bissextile ou non. Affichez le résultat correspondant."
   ]
  },
  {
   "cell_type": "markdown",
   "id": "9d57aa65-ce5d-4615-ab81-85cc1ae5456a",
   "metadata": {},
   "source": [
    "***\n",
    "<u>Exercice 11 :</u> *Prix de gros.*   \n",
    "Écrivez un programme qui demande à l'utilisateur d'entrer la quantité souhaitée d'un produit. En utilisant des conditions if imbriquées, le programme doit calculer le prix total en fonction de la quantité, en appliquant différentes remises. Les étapes seront les suivantes :\n",
    "\n",
    "- Si la quantité est inférieure à zéro, affichez le message \"La quantité ne peut pas être négative.\"  \n",
    "- Si la quantité est égale à zéro, affichez le message \"La quantité doit être supérieure à zéro.\"  \n",
    "- Si la quantité est inférieure ou égale à 10, le prix total est égal à la quantité multipliée par le prix unitaire (fixé à 10 euros).  \n",
    "- Si la quantité est supérieure à 10 mais inférieure ou égale à 50, le prix total est égal à la quantité multipliée par le prix unitaire avec une réduction de 10%.  \n",
    "- Si la quantité est supérieure à 50, le prix total est égal à la quantité multipliée par le prix unitaire avec une réduction de 20%.  \n",
    "\n",
    "Une fois le calcul effectué, affichez le prix total à l'utilisateur."
   ]
  }
 ],
 "metadata": {
  "kernelspec": {
   "display_name": "Python 3 (ipykernel)",
   "language": "python",
   "name": "python3"
  },
  "language_info": {
   "codemirror_mode": {
    "name": "ipython",
    "version": 3
   },
   "file_extension": ".py",
   "mimetype": "text/x-python",
   "name": "python",
   "nbconvert_exporter": "python",
   "pygments_lexer": "ipython3",
   "version": "3.11.7"
  }
 },
 "nbformat": 4,
 "nbformat_minor": 5
}
