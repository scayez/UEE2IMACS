{
 "cells": [
  {
   "cell_type": "markdown",
   "id": "a32cddf0-6be8-4b1d-9820-eb2a12e62e12",
   "metadata": {},
   "source": [
    "***\n",
    "# **<center>Exercices#1</center>**\n",
    "# ***<center>Types de Données et Operations</center>***\n",
    "# ***<center>Structures Conditionnelles</center>***\n",
    "***"
   ]
  },
  {
   "cell_type": "markdown",
   "id": "8ac0c4ea-3c78-4f53-adc0-648dabd7e94f",
   "metadata": {},
   "source": [
    "## 1- Exercices Types de données et opérations"
   ]
  },
  {
   "cell_type": "markdown",
   "id": "b3166113-e9a2-4da8-b304-463840710eed",
   "metadata": {},
   "source": [
    "***\n",
    "<u>Exercice 0 :</u> *Créer des chaines de caractères.*  \n",
    "  \n",
    "Déclarer 2 chaines de caractères: l'une contenant le mot Monty et l'autre contenant le mot Python. Créer une troisième chaine contenant le nom Monty Python à partir des deux premières chaines."
   ]
  },
  {
   "cell_type": "markdown",
   "id": "0188e03b-6db9-4e75-9b86-961b8af8e44e",
   "metadata": {},
   "source": [
    "***<center>SOLUTION</center>***"
   ]
  },
  {
   "cell_type": "code",
   "execution_count": null,
   "id": "2e79f58d-3cc5-4993-bd07-b2aeae0bfd27",
   "metadata": {},
   "outputs": [],
   "source": [
    "chaine1 = 'Monty'\n",
    "chaine2 = 'Python'\n",
    "ma_chaine = chaine1 + ' ' + chaine2\n",
    "print(ma_chaine)"
   ]
  },
  {
   "cell_type": "markdown",
   "id": "05d82465-9489-40a1-9d2f-ef18a39ac5ed",
   "metadata": {},
   "source": [
    "***\n",
    "<u>Exercice 1 :</u> *Division.*  \n",
    "\n",
    "Ecrire un programme qui donne pour l'opération 1545 divisé par 44:  \n",
    "- Le résultat décimal  \n",
    "- Le quotient entier  \n",
    "- Le reste"
   ]
  },
  {
   "cell_type": "markdown",
   "id": "6f6a547e-91ea-458d-acbd-ba9af5f04987",
   "metadata": {},
   "source": [
    "***<center>SOLUTION</center>***"
   ]
  },
  {
   "cell_type": "code",
   "execution_count": null,
   "id": "2dd44427-843b-4f7f-a2c8-3fedc89001f5",
   "metadata": {},
   "outputs": [],
   "source": [
    "a = 1545\n",
    "b = 44\n",
    "c = a / b\n",
    "print('division a/b = : ',c)\n",
    "\n",
    "d = a // b\n",
    "print('quotient = : ',d)\n",
    "\n",
    "e = a % b\n",
    "print('reste = : ',e)"
   ]
  },
  {
   "cell_type": "markdown",
   "id": "077d0b84-a394-4a08-8284-79a0711185ae",
   "metadata": {},
   "source": [
    "***\n",
    "<u>Exercice 2 :</u> *Rechercher un mot dans une phrase 1.*  \n",
    "\n",
    "Écrivez un programme qui extrait le mot \"now\" de la phrase \"And now for something completely different\".  \n",
    "Affichez ensuite ce mot. Vous utiliserez la position du mot dans la phrase"
   ]
  },
  {
   "cell_type": "markdown",
   "id": "dc6a4a98-f2fa-4ba4-af8b-2eb305732d8e",
   "metadata": {},
   "source": [
    "***<center>SOLUTION</center>***"
   ]
  },
  {
   "cell_type": "code",
   "execution_count": null,
   "id": "6c0e5ca4-c8f5-4e40-9225-0672276563d6",
   "metadata": {},
   "outputs": [],
   "source": [
    "phrase = 'And now for something completely different'\n",
    "mot = phrase[4:7]\n",
    "\n",
    "print('Le mot extrait est :',mot)"
   ]
  },
  {
   "cell_type": "markdown",
   "id": "ff1e8b8e-afad-4cc5-b32e-d86de591c4df",
   "metadata": {},
   "source": [
    "***\n",
    "<u>Exercice 3 :</u> *Rechercher un mot dans une phrase 2.*   \n",
    "\n",
    "Écrivez un programme qui recherche le mot \"Ni\" dans la phrase \"We are the knights who say... Ni!\". Affichez ensuite la position (index) de ce mot dans la phrase."
   ]
  },
  {
   "cell_type": "markdown",
   "id": "f078e9d6-925c-41bf-b083-73e7e7112c7e",
   "metadata": {},
   "source": [
    "***<center>SOLUTION</center>***"
   ]
  },
  {
   "cell_type": "code",
   "execution_count": null,
   "id": "bb5e09a4-8acf-49bc-86c5-b3a614257a79",
   "metadata": {},
   "outputs": [],
   "source": [
    "phrase = 'We are the knights who say... Ni!'\n",
    "mot_recherche = \"Ni\"\n",
    "position = phrase.index(mot_recherche)\n",
    "\n",
    "print(f\"Le mot '{mot_recherche}' commence à la position {position}\")"
   ]
  },
  {
   "cell_type": "markdown",
   "id": "29fb9717-5d30-4b8a-9cf3-9fee0a2d99b3",
   "metadata": {},
   "source": [
    "***\n",
    "<u>Exercice 4:</u> *Somme de deux nombres.*  \n",
    "\n",
    "Calculer la somme de 14 + 8 en commençant le code par les lignes suivantes:"
   ]
  },
  {
   "cell_type": "code",
   "execution_count": null,
   "id": "08ffcc9f-5386-4b81-8748-8c56546cad7a",
   "metadata": {},
   "outputs": [],
   "source": [
    "x = '14'\n",
    "y = '8'\n",
    "# Continuer le code..."
   ]
  },
  {
   "cell_type": "markdown",
   "id": "0a7e8ff1-b3a8-4486-9856-0ffd3eb18862",
   "metadata": {},
   "source": [
    "***<center>SOLUTION</center>***"
   ]
  },
  {
   "cell_type": "code",
   "execution_count": null,
   "id": "9810699b-921f-42db-9f14-58a3c366f763",
   "metadata": {},
   "outputs": [],
   "source": [
    "x = '14'\n",
    "y = '8'\n",
    "x = int(x)\n",
    "y = int(y)\n",
    "somme = x+y\n",
    "print('x + y = ',somme)"
   ]
  },
  {
   "cell_type": "markdown",
   "id": "62ed9521-7492-4623-9f81-fcb7722da79f",
   "metadata": {},
   "source": [
    "## 2- Exercices Structures Conditionnelles"
   ]
  },
  {
   "cell_type": "markdown",
   "id": "efbd39e8-0ce1-4a18-abee-081dc80e9a34",
   "metadata": {
    "tags": []
   },
   "source": [
    "***\n",
    "<u>Exercice 5 :</u> *Comparaison.*  \n",
    "\n",
    "Écrivez un programme qui compare deux nombres x et y. Si x est supérieur à y, affiche \"x est superieur à y\". Sinon, affiche \"x est inférieur ou égal à y\"."
   ]
  },
  {
   "cell_type": "markdown",
   "id": "9572d7c2-863c-47ab-b988-175b63b8327f",
   "metadata": {},
   "source": [
    "***<center>SOLUTION</center>***"
   ]
  },
  {
   "cell_type": "code",
   "execution_count": null,
   "id": "10c4e105-ac5a-4cba-b8c3-01813a74769b",
   "metadata": {},
   "outputs": [],
   "source": [
    "x = 2\n",
    "y = 3\n",
    "\n",
    "if x > y:\n",
    "    print(\"x est superieur à y\")\n",
    "else:\n",
    "    print(\"x est inférieur ou égal à y\")"
   ]
  },
  {
   "cell_type": "markdown",
   "id": "59677dab-3a9d-4d4b-bb29-d6b789f8d081",
   "metadata": {},
   "source": [
    "***\n",
    "<u>Exercice 6 :</u> *Parité.*  \n",
    "\n",
    "Écrivez un programme qui vérifie si un nombre n est pair ou impair. Si n est pair, affichez \"Le nombre est pair\". Sinon, affichez \"Le nombre est impair\"."
   ]
  },
  {
   "cell_type": "markdown",
   "id": "493417d4-29aa-445c-9e40-9d5fb9d47f40",
   "metadata": {},
   "source": [
    "***<center>SOLUTION</center>***"
   ]
  },
  {
   "cell_type": "code",
   "execution_count": null,
   "id": "3d4e4d80-f8bf-4ce5-bef9-3b37eabe888b",
   "metadata": {},
   "outputs": [],
   "source": [
    "n = 6\n",
    "\n",
    "if n % 2 == 0:\n",
    "    print(\"Le nombre est pair\")\n",
    "else:\n",
    "    print(\"Le nombre est impair\")"
   ]
  },
  {
   "cell_type": "markdown",
   "id": "6dd59cd2-14f0-4769-a0d5-557ea346929a",
   "metadata": {},
   "source": [
    "***\n",
    "<u>Exercice 7 :</u> *Signe.*  \n",
    "\n",
    "Écrivez un programme qui vérifie si un nombre a est positif, négatif ou nul. Affichez le résultat correspondant."
   ]
  },
  {
   "cell_type": "markdown",
   "id": "ee67f03a-e46c-40ea-a039-fb5949efeef8",
   "metadata": {},
   "source": [
    "***<center>SOLUTION</center>***"
   ]
  },
  {
   "cell_type": "code",
   "execution_count": null,
   "id": "43a3f62f-c995-46b4-a443-b61d678b52a6",
   "metadata": {},
   "outputs": [],
   "source": [
    "a = -9\n",
    "\n",
    "if a > 0:\n",
    "    print(\"Le nombre est positif\")\n",
    "elif a < 0:\n",
    "    print(\"Le nombre est négatif\")\n",
    "else:\n",
    "    print(\"Le nombre est nul\")"
   ]
  },
  {
   "cell_type": "markdown",
   "id": "38729818-a8da-479b-901f-9aba93550fc1",
   "metadata": {},
   "source": [
    "***\n",
    "<u>Exercice 8 : </u> *Consonne ou voyelle?*  \n",
    "\n",
    "Écrire un programme qui vérifie si un caractère est une voyelle (a, e, i, o, u, y) ou une consonne.   "
   ]
  },
  {
   "cell_type": "markdown",
   "id": "6ac60294-7b81-4cf1-9d0f-709ee7bd0ad9",
   "metadata": {},
   "source": [
    "***<center>SOLUTION</center>***"
   ]
  },
  {
   "cell_type": "code",
   "execution_count": null,
   "id": "8c798d10-fcc0-47dc-ad16-f04f262d1f50",
   "metadata": {},
   "outputs": [],
   "source": [
    "lettre = 'p'\n",
    "\n",
    "if lettre == 'a' or lettre == 'e' or lettre == 'i' or lettre == 'o' or lettre == 'u' or lettre == 'y':\n",
    "    print(\"Le caractère est une voyelle\")\n",
    "else:\n",
    "    print(\"Le caractère est une consonne\")"
   ]
  },
  {
   "cell_type": "markdown",
   "id": "9831ae51-d7bd-4298-84a7-6aa2825990bf",
   "metadata": {},
   "source": [
    "***\n",
    "<u>Exercice 9 :</u> *Limite d'âge.*   \n",
    "\n",
    "Écrivez un programme qui demande à l'utilisateur son âge. Si l'âge est inférieur à 13 ans, affichez \"Accès refusé\". Sinon, affichez \"Accès autorisé\"."
   ]
  },
  {
   "cell_type": "markdown",
   "id": "02979cc2-9305-4f5b-b2bb-9463857175ef",
   "metadata": {},
   "source": [
    "***<center>SOLUTION</center>***"
   ]
  },
  {
   "cell_type": "code",
   "execution_count": null,
   "id": "69ced8be-1658-4793-8217-438bba932d85",
   "metadata": {},
   "outputs": [],
   "source": [
    "age = input(\"Entrez votre age : \")\n",
    "age = int(age)\n",
    "\n",
    "if age < 13:\n",
    "    print(\"Accès refusé\")\n",
    "else:\n",
    "    print(\"Accès autorisé\")"
   ]
  },
  {
   "cell_type": "markdown",
   "id": "c9d225d5-515d-4381-b618-f2c571f7f85d",
   "metadata": {},
   "source": [
    "***\n",
    "<u>Exercice 10 :</u> *Années bissextiles.*   \n",
    "\n",
    "\n",
    "Une année est bissextile (comportant 366 jours) seulement si elle respecte l’un des deux critères suivants :\n",
    "\n",
    "- L'année est divisible par 4 sans être divisible par 100 (cas des années qui ne sont pas des multiples de 100) ;\n",
    "- L'année est divisible par 400 (cas des années multiples de 100).\n",
    "\n",
    "Autrement dit : pour être bissextile, une année doit dans tous les cas être divisible par 4 ; mais si c’est une année de centenaire (comme 1800, 1900, etc.), elle doit en complément être divisible par 400. \n",
    "> [Source](https://fr.wikipedia.org/wiki/Ann%C3%A9e_bissextile)\n",
    "\n",
    "Écrivez un programme qui vérifie si une année annee est bissextile ou non. Affichez le résultat correspondant."
   ]
  },
  {
   "cell_type": "markdown",
   "id": "ede03baa-21ea-4498-a0fc-f7cd76a1d5d3",
   "metadata": {},
   "source": [
    "***<center>SOLUTION</center>***"
   ]
  },
  {
   "cell_type": "code",
   "execution_count": 7,
   "id": "08231444-15e2-4c8f-a491-b322e7f4400a",
   "metadata": {
    "tags": []
   },
   "outputs": [
    {
     "name": "stdout",
     "output_type": "stream",
     "text": [
      "L'année n'est pas bissextile\n"
     ]
    }
   ],
   "source": [
    "annee = 2021\n",
    "\n",
    "if (annee % 4 == 0 and annee % 100 != 0) or annee % 400 == 0:\n",
    "    print(\"L'année est bissextile\")\n",
    "else:\n",
    "    print(\"L'année n'est pas bissextile\")\n"
   ]
  },
  {
   "cell_type": "markdown",
   "id": "9d57aa65-ce5d-4615-ab81-85cc1ae5456a",
   "metadata": {},
   "source": [
    "***\n",
    "<u>Exercice 11 :</u> *Prix de gros.*   \n",
    "  \n",
    "Écrivez un programme qui demande à l'utilisateur d'entrer la quantité souhaitée d'un produit. Le programme doit calculer le prix total en fonction de la quantité, en appliquant différentes remises. Les étapes seront les suivantes :\n",
    "\n",
    "- Si la quantité est inférieure à zéro, affichez le message \"La quantité ne peut pas être négative.\"  \n",
    "- Si la quantité est égale à zéro, affichez le message \"La quantité doit être supérieure à zéro.\"  \n",
    "- Si la quantité est inférieure ou égale à 10, le prix total est égal à la quantité multipliée par le prix unitaire (fixé à 10 euros).  \n",
    "- Si la quantité est supérieure à 10 mais inférieure ou égale à 50, le prix total est égal à la quantité multipliée par le prix unitaire avec une réduction de 10%.  \n",
    "- Si la quantité est supérieure à 50, le prix total est égal à la quantité multipliée par le prix unitaire avec une réduction de 20%.  \n",
    "\n",
    "Une fois le calcul effectué, affichez le prix total à l'utilisateur."
   ]
  },
  {
   "cell_type": "markdown",
   "id": "3bdf5059-527a-4c8f-9473-1e202f4d7a5c",
   "metadata": {},
   "source": [
    "***<center>SOLUTION</center>***"
   ]
  },
  {
   "cell_type": "code",
   "execution_count": null,
   "id": "2ce0c5c9-9aae-408f-8022-406937f40ba6",
   "metadata": {
    "tags": []
   },
   "outputs": [],
   "source": [
    "# Demander à l'utilisateur la quantité souhaitée\n",
    "quantite = int(input(\"Entrez la quantité souhaitée : \"))\n",
    "\n",
    "# Définir le prix unitaire du produit\n",
    "prix_unitaire = 10.0\n",
    "\n",
    "# Calculer le prix total en fonction de la quantité\n",
    "if quantite < 0:\n",
    "    print(\"La quantité ne peut pas être négative.\")\n",
    "elif quantite == 0:\n",
    "    print(\"La quantité doit être supérieure à zéro.\")\n",
    "else:\n",
    "    if quantite <= 10:\n",
    "        prix_total = quantite * prix_unitaire\n",
    "    elif quantite <= 50:\n",
    "        prix_total = quantite * prix_unitaire * 0.9  # 10% de réduction\n",
    "    else:\n",
    "        prix_total = quantite * prix_unitaire * 0.8  # 20% de réduction\n",
    "\n",
    "    # Afficher le prix total\n",
    "    print(\"Le prix total est de :\", prix_total, \"euros.\")\n"
   ]
  }
 ],
 "metadata": {
  "kernelspec": {
   "display_name": "Python 3 (ipykernel)",
   "language": "python",
   "name": "python3"
  },
  "language_info": {
   "codemirror_mode": {
    "name": "ipython",
    "version": 3
   },
   "file_extension": ".py",
   "mimetype": "text/x-python",
   "name": "python",
   "nbconvert_exporter": "python",
   "pygments_lexer": "ipython3",
   "version": "3.12.1"
  }
 },
 "nbformat": 4,
 "nbformat_minor": 5
}
