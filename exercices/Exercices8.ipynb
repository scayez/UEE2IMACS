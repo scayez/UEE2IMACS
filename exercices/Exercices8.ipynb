{
 "cells": [
  {
   "cell_type": "markdown",
   "id": "506259d5-065e-4660-87ef-13815d658dad",
   "metadata": {
    "tags": []
   },
   "source": [
    "***\n",
    "# **<center>Exercices#8</center>**\n",
    "# ***<center>Fichiers</center>***\n",
    "\n",
    "***"
   ]
  },
  {
   "cell_type": "markdown",
   "id": "29a5681b-8edb-435d-8543-62dedd904f53",
   "metadata": {},
   "source": [
    "***\n",
    "<u>Exercice 1: </u> *Fichiers, dossiers et Pandas.*\n",
    "\n",
    "1- Ouvrir le fichier E15_bis.xy et afficher les 200 premiers caracteres son contenu  \n",
    "2- Quel est son nombre de ligne?  \n",
    "3- Charger l'ensemble des données dans un tableau numpy nommé data. Donner ses dimensions.  \n",
    "4- tracer la seconde colonne en fonction de la première et sauver une image du graphique.  "
   ]
  },
  {
   "cell_type": "markdown",
   "id": "74cfc067-4af1-47aa-b013-b8092e0fdeed",
   "metadata": {
    "tags": []
   },
   "source": [
    "***\n",
    "<u>Exercice 2:</u> *Fichiers, dossiers et Pandas.* \n",
    "\n",
    "1. Créez un dossier appelé 'exercice2' dans le dossier fichiers_exercices_crees en utilisant le chemin relatif\n",
    "2. Dans le dossier exercice2, créez quatre dossiers nommés 'dossier1', 'dossier2', ..., 'dossier4'.\n",
    "3. Dans le dossier 'dossier1', créez dix fichiers textes appelés 'fichier0.txt', 'fichier1.txt', ..., 'fichier10.txt'.\n",
    "4. Remplir les 10 fichiers avec chacun 2 colonnes séparées par une tabulation  :\n",
    "- la premiere contenant des nombres decimaux commençant à 0, jusqu'à 100 avec un pas de 0.5\n",
    "- la deuxieme contenant un nombre aleatoire obtenu par une distribution gaussienne on pourra utiliser ````np.random.normal(0, 1)````  \n",
    "5.  Récupérer les données contenus dans les 10 fichiers texte pour les rassembler dans un pandas dataframe.  \n",
    "- la première colonne du dataframe contiendra les valeurs de premières colonnes communes à tous les fichiers.  \n",
    "- les colonnes suivantes du dataframe contiendront les colonnes de nombre aléatoires de chaque fichier.  \n",
    "6. Ajouter des noms aux colonnes\n",
    "7. Explorer succitement le dataset (regarder quelques lignes, donner les statistiques sur les valeurs aléatoires, representer les distribution des données)"
   ]
  }
 ],
 "metadata": {
  "kernelspec": {
   "display_name": "Python 3 (ipykernel)",
   "language": "python",
   "name": "python3"
  },
  "language_info": {
   "codemirror_mode": {
    "name": "ipython",
    "version": 3
   },
   "file_extension": ".py",
   "mimetype": "text/x-python",
   "name": "python",
   "nbconvert_exporter": "python",
   "pygments_lexer": "ipython3",
   "version": "3.12.1"
  }
 },
 "nbformat": 4,
 "nbformat_minor": 5
}
