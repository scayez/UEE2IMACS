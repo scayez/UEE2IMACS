{
 "cells": [
  {
   "cell_type": "markdown",
   "id": "fbe51048-b97d-45b3-a4c1-e7dce469e5de",
   "metadata": {},
   "source": [
    "***\n",
    "# **<center>Exercices#7</center>**\n",
    "# ***<center>Pandas</center>***\n",
    "***"
   ]
  },
  {
   "cell_type": "markdown",
   "id": "881ebf54-ff63-4c50-9b47-e73a2bdb8728",
   "metadata": {},
   "source": [
    "***\n",
    "<u>Exercice 1: </u> *Coeur.*   \n",
    "\n",
    "  \n",
    "1 - Charger les données à partir du fichier 'fichier_exercices_enonces/7_pandas/heart.csv'  et explorer son format et son contenu.   \n",
    "Ce dataset contient des informations médicales sur des patients dans le but de prévoir s'ils souffrent de maladies cardiaques d'après un certain nombre de critères.  \n",
    "| Paramètres          |      Détail            | Correspondance               |\n",
    "|---------------------|-----------------------|------------------------------|\n",
    "| age                 | Âge                   |    en années                          |\n",
    "| sex                 | Sexe                  | 1 = homme 0 = femme          |\n",
    "| cp                  | Type de douleur à la poitrine | 0: asymptomatic  1: atypical angina 2: non-anginal pain 3: typical angina       |\n",
    "| trestbps            | Pression artérielle au repos (mm Hg à l'admission à l'hôpital) | mm Hg|\n",
    "| chol                | Taux de cholestérol (mg/dl) |   mg/dl                          |\n",
    "| fbs                 | Glycémie à jeun (> 120 mg/dl, 1 = vrai; 0 = faux) | 0 = non, 1 = oui     |\n",
    "| restecg             | Résultats de l'électrocardiogramme au repos |  0: showing probable or definite left ventricular hypertrophy by Estes’ criteria 1: normal 2: having ST-T wave abnormality                 |\n",
    "| thalach             | Fréquence cardiaque maximale atteinte |                       |\n",
    "| exang               | Angine induite par l'exercice (1 = oui; 0 = non) | 0 = non, 1 = oui     |\n",
    "| oldpeak             | Dépression du segment ST induite par l'exercice par rapport au repos | |\n",
    "| slope               | Pente du segment ST à l'exercice de pointe | 0: descente 1: plat 2: montee                  |\n",
    "| ca                  | Nombre de vaisseaux principaux (0-3) |                        |\n",
    "| thal                | Thalassémie (trouble sanguin) |    NULL :dropped from the dataset previously 1: défaut irreversible 2: normal 3: defaut reversible)                            |\n",
    "| target              | Maladie cardiaque (1 = non, 0 = oui) |                           |\n",
    "\n",
    "https://archive.ics.uci.edu/dataset/45/heart+disease  \n",
    "\n",
    "2- Verifier si il y a des données manquantes  \n",
    "3- Afficher les lignes correspondant aux hommes ayant un taux de colesterol superieur à 240  \n",
    "4- Trier les patients par âge croissant  "
   ]
  },
  {
   "cell_type": "markdown",
   "id": "39aa4e15-fc97-46cd-800e-3921e2367292",
   "metadata": {},
   "source": [
    "***\n",
    "<u>Exercice 2: </u> *Coeur.*\n",
    "  \n",
    "1- Afficher l'histogramme des repartitions par age.   \n",
    "2- Afficher l'ensemble des histogrammes. Quelques remarques? Regarder par exemple la répartition homme/femme.    \n",
    "3- Afficher l'ensemble des boxplot.   \n",
    "4- Représenter les correlation entre les paramètres d'abord avec une matrice puis avec des graphiques. Observer les corélations.   "
   ]
  },
  {
   "cell_type": "markdown",
   "id": "a69009da-42d5-4c77-9f00-989db525348b",
   "metadata": {},
   "source": [
    "***\n",
    "<u>Exercice 3: </u> *Jeux Olympiques.*   \n",
    "Explorer les jeux de données suivant:\n",
    "https://www.kaggle.com/datasets/heesoo37/120-years-of-olympic-history-athletes-and-results/download?datasetVersionNumber=2\n"
   ]
  }
 ],
 "metadata": {
  "kernelspec": {
   "display_name": "Python 3 (ipykernel)",
   "language": "python",
   "name": "python3"
  },
  "language_info": {
   "codemirror_mode": {
    "name": "ipython",
    "version": 3
   },
   "file_extension": ".py",
   "mimetype": "text/x-python",
   "name": "python",
   "nbconvert_exporter": "python",
   "pygments_lexer": "ipython3",
   "version": "3.11.7"
  }
 },
 "nbformat": 4,
 "nbformat_minor": 5
}
