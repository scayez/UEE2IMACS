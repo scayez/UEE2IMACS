{
 "cells": [
  {
   "cell_type": "markdown",
   "id": "f7fa82cf-b81d-490d-abcd-815a167afff6",
   "metadata": {},
   "source": [
    "***\n",
    "# **<center>Exercices#10</center>**\n",
    "# ***<center>Traitement d'images</center>***\n",
    "***"
   ]
  },
  {
   "cell_type": "markdown",
   "id": "76c1b533-cc18-419d-ae64-ee4345798c03",
   "metadata": {},
   "source": [
    "***\n",
    "<u>Exercice 0:</u> *Microscopie électronique.* \n",
    "\n",
    "La microscopie électronique en transmission permet l'observation de nanoparticules, ici des nanospheres d'or. Une information importante est la distribution de taille de ces objets. On se propose, à partir de l'image fichiers_exercices_enonces/AL66b.tif de mettre en place un code qui detectera et mesurera automatiquement les dimensions des nanoparticules."
   ]
  },
  {
   "cell_type": "markdown",
   "id": "f2453995-d8bd-4558-870d-758e2cab4317",
   "metadata": {},
   "source": [
    "1- Ouvrir et afficher l'image fichiers_exercices_enonces/AL66b.tif avec opencv (img).  \n",
    "2- Afficher les dimensions de l'image.  \n",
    "3- Convertir l'image en niveaux de gris  (img_gray).  \n",
    "4- Appliquer un filtre blur de kernel 5x5  (img_blur).  \n",
    "5- Seuiller l'image à 140 sur 255 (threshold).  \n",
    "6- Rechercher les contours sur l'image seuil et les afficher le contour d'indice zero sur l'image d'origine  \n",
    "7- Afficher l'ensemble des contours sur l'image d'origine.  \n",
    "8- Ajouter des rectangles contenant les contours pour faire des mesures ultérieurement.   \n",
    "9- Ajouter à img les indices de chaque objet détèctés  avec la fonction cv2.putText.  \n",
    "10- Afficher uniquement la zone de la barre d'echelle en selectionnant la plage de coordonnées de l'image. Relever les indices des caractères et de la barre d'échelle.    \n",
    "11- Déterminer le numéro d'indice de la barre d'echelle et extraire:  \n",
    "- Les coordonnées du centre de la barre\n",
    "- La largeur du rectangle englobant\n",
    "- La hauteur du rectangle englobant\n",
    "- L'Angle du rectangle englobant\n",
    "     \n",
    "12- Utiliser la largeur extraite pour définir le ratio de conversion nm/pixel.  \n",
    "13- A partir des valeurs relevées à la question 10 et de l'indice du tour de l'image relevé à la question 6, créer manuellement une liste d'indices à supprimer.  \n",
    "14- créer une fonction \"filtrer_contours\" prenant en argument liste des contours a supprimer et les contours détecté par cv2.findContours précedemment, et  retournant les contours selectionnés.  \n",
    "15- Charger à nouveau l'image fichiers_exercices_enonces/AL66b.tif et en utilisant la fonction \"filtrer_contours\" tracer les contours et les box uniquement des nanoparticules.  \n",
    "16- On remarque que, quand les particules sont collées, on détecte des clusters.  On veut les supprimer, pour cela, on va les detecter par leur ratio de convexité.  \n",
    "Mesurer le ratio entre la surface du contour calculé avec cv2.convexHull(cnt) et la surface du contour.\n",
    "Creer une liste des ratios de convexité et afficher l'histogramme.   \n",
    "17- Voit-on des valeurs très inferieures à 1? Si c'est le cas, les objets detectès sont concaves, donc non circulaires. Les supprimer, par exemple, avec une condition np.where et l'utilisation de la fonction filtrer_contours.  \n",
    "18- Extraire pour l'ensemble des contours, les valeurs en nm de: \n",
    "- hauteurs\n",
    "- largeurs\n",
    "- convexites\n",
    "- x_positions\n",
    "- y_positions\n",
    "- surfaces\n",
    "- ratios_hauteur_largeur\n",
    "\n",
    "Stocker ces résultats dans un pandas dataframe.  \n",
    "19- Afficher les histogrammes pour chaque grandeur.  \n",
    "20- Faire un ajustement par une gaussienne des valeurs de hauteur et de largeur.  \n",
    "21- Afficher une matrice de correlation."
   ]
  }
 ],
 "metadata": {
  "kernelspec": {
   "display_name": "Python 3 (ipykernel)",
   "language": "python",
   "name": "python3"
  },
  "language_info": {
   "codemirror_mode": {
    "name": "ipython",
    "version": 3
   },
   "file_extension": ".py",
   "mimetype": "text/x-python",
   "name": "python",
   "nbconvert_exporter": "python",
   "pygments_lexer": "ipython3",
   "version": "3.11.7"
  }
 },
 "nbformat": 4,
 "nbformat_minor": 5
}
