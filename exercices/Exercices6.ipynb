{
 "cells": [
  {
   "cell_type": "markdown",
   "id": "8edddd88-d0ca-4f59-b443-eb9168c0bf2d",
   "metadata": {},
   "source": [
    "***\n",
    "# **<center>Exercices#6</center>**\n",
    "# ***<center>Math</center>***\n",
    "# ***<center>Scipy</center>***\n",
    "***"
   ]
  },
  {
   "cell_type": "markdown",
   "id": "38bdd2f7-4205-416d-b9ff-77db0a33a803",
   "metadata": {},
   "source": [
    "***\n",
    "<u>Exercice 1: </u> *Volume.*     \n",
    "  \n",
    "1- Ecrire un programme qui demande à l'utilisateur de saisir le rayon d'une sphere et calculer son volume en utilisant la biliothèque math.  \n",
    "2- Afficher la troncature à l'entier inferieur du volume.  \n",
    "3- Afficher un arrondi au centième du volume.  "
   ]
  },
  {
   "cell_type": "markdown",
   "id": "e5c5934c-fe37-49e4-8111-f55316e5fb1c",
   "metadata": {
    "tags": []
   },
   "source": [
    "***\n",
    "<u>Exercice 2: </u> *Rayons X partie 1*  \n",
    "  \n",
    "1- Charger les données experimentales contenues dans le fichier  <pre>data_exo/rayonsX.npy</pre> on utilisera la fonction numpy load:    <pre>data_rx = np.load('fichier_exercices_enonces/6_scipy/Scipy_ex2_rayonsX.npy')</pre>  \n",
    "2- Tracer le contenu du fichier sur un graph  \n",
    "3- Les pics apparaissent lorsque les plans atomique du materiaux sont en condition de diffraction. C'est à dire:\n",
    "$$ \\lambda = 2d \\sin(\\theta) $$\n",
    "  où :\n",
    "   - $ \\lambda\\ $  est la longueur d'onde des rayons X (1.789 angströms),\n",
    "   - d est la distance entre les plans d'atomes dans le matériau (exprimée en angströms),\n",
    "   - $ \\theta\\ $ est l'angle d'incidence des rayons X sur les plans d'atomes (en radians)  \n",
    "   Tracer un nouveau graphique où les abcisses seront la distance entre les plans d'atomes.\n",
    "\n",
    "4- Calculer la surface du pic le plus intense et colorer cette surface sur le graphiques. Le choix du pic et des limtes en acbcisses se feront manuellement.\n"
   ]
  },
  {
   "cell_type": "markdown",
   "id": "4ad51b37-44b5-4738-8340-4784048c50cd",
   "metadata": {},
   "source": [
    "***\n",
    "<u>Exercice 3: </u> *Rayons X partie 2*  \n",
    "\n",
    "1 -Définir une nouvelle fenêtre d'affichage pour zoomer sur une zone de la courbe et observer le bruit.  \n",
    "2 -Utiliser un filtre pour débruiter le signal et afficher les courbes brute et  débruitée sur le même graph.  \n",
    "3 -Trouver les pics d'intensités avec la fonction find_peaks. Afficher une representation des pics détectés sur un graph avec les données débruitées.  \n",
    "4 -On donnes les fiches d'identification du fer et de l'oxyde de fer : \n",
    "\n",
    "Fiche Fe\n",
    "\n",
    "| d(Å)    | θ (deg) | Intensity(%) |\n",
    "|---------|---------|-------------|\n",
    "| 2.02303 | 52.484  | 100.0       |\n",
    "| 1.43050 | 77.410  | 13.6        |\n",
    "| 1.16800 | 9.964   | 24.4        |\n",
    "\n",
    "\n",
    "\n",
    "\n",
    "Fiche Oxyde de fer (Wuestite)\n",
    "\n",
    "| d(Å)    | θ (deg) | Intensity(%) |\n",
    "|---------|---------|-------------|\n",
    "| 2.47735 | 42.332 | 64.8         | \n",
    "| 2.14545 | 49.282 | 100.0        | \n",
    "| 1.51706 | 72.262 | 46.0         | \n",
    "| 1.29376 | 87.482 | 15.8         | \n",
    "| 1.23868 | 92.464 | 11.2         | \n",
    "\n",
    "\n",
    "Copier les valeurs de d dans des tableaux numpy:\n",
    "\n",
    "   - distances_fiche_fer \n",
    "   - intensites_fiche_fer \n",
    "   - distances_fiche_oxyde \n",
    "   - intensites_fiche_oxyde \n",
    "\n",
    "Creer des tableaux numpy à partir de la recherche de pics: \n",
    "- intensites_experimental  (les intensités des pics detectés)\n",
    "- distances_experimental (les distances des pics détéctés)\n",
    "\n",
    "5- Ajouter des répéres sur le graph pour reperer les pics du fer et ceux de l'oxyde de fer.\n",
    "\n",
    "6 - Verifier la correspondance des pics de la fiche de fer (distances_fiche_fer) avec \n",
    "les pics trouvés (distances_experimental)\n",
    "donner le pourcentage de correspondance pour le fer. Même question pour l'oxyde de fer. Pour celà compter le nombre d'éléments de distances_fiche_fer effectivement présents dans  distances_experimental. prévoir une tolérance dans le décalage des pics 0.01 Angstrom.   On fera ensuite un ratio entre le nombre de pics présents dans la fiche et dans les données experimentales.\n",
    "Procéder de la même manière pour distances_fiche_oxyde."
   ]
  },
  {
   "cell_type": "markdown",
   "id": "ba5d9e16-d5a5-4410-b7b9-46128957e1b9",
   "metadata": {
    "tags": []
   },
   "source": [
    "***\n",
    "<u>Exercice 4: </u> *Rayons X partie 3*  \n",
    "  \n",
    "1 -Sur le signal non debruité, nous allons travailler sur le pic entre 2.0 et 2.04 Anstroms. Faire un fit par une courbe gaussienne.  \n",
    "On utilisera la formule:\n",
    "\n",
    "$$\n",
    "G(x) = A \\cdot e^{-\\frac{1}{2} \\left(\\frac{x - \\mu}{\\sigma}\\right)^2}\n",
    "$$\n",
    "avec:  \n",
    "A : Amplitude  \n",
    "$ \\mu $: la valeur moyenne  \n",
    "$ \\sigma $ : l'écart type\n",
    "\n",
    "\n",
    "\n",
    "2 -Estimer la qualité de ce fit avec le calcul du RMSE  \n",
    "3 -Représenter graphiquement les résidus    \n",
    "4- Essayer d'ameliorer le fit en définissant une fonction avec la somme de 2 gaussiennes. Representer:\n",
    "- Les données expérimentales\n",
    "- La courbe de fit\n",
    "- Les 2 gaussiennes de couleur differentes avec l'aire sous la courbe colorée  \n"
   ]
  },
  {
   "cell_type": "markdown",
   "id": "65c10032-23c4-4a23-9b18-87b5664dc497",
   "metadata": {},
   "source": [
    "\n"
   ]
  }
 ],
 "metadata": {
  "kernelspec": {
   "display_name": "Python 3 (ipykernel)",
   "language": "python",
   "name": "python3"
  },
  "language_info": {
   "codemirror_mode": {
    "name": "ipython",
    "version": 3
   },
   "file_extension": ".py",
   "mimetype": "text/x-python",
   "name": "python",
   "nbconvert_exporter": "python",
   "pygments_lexer": "ipython3",
   "version": "3.11.7"
  }
 },
 "nbformat": 4,
 "nbformat_minor": 5
}
