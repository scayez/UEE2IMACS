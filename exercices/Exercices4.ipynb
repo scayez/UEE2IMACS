{
 "cells": [
  {
   "cell_type": "markdown",
   "id": "d0e45325-264e-49af-8a4b-fab6933f4c14",
   "metadata": {
    "tags": []
   },
   "source": [
    "***\n",
    "# **<center>Exercices#4</center>**\n",
    "# ***<center>Graphiques</center>***\n",
    "***"
   ]
  },
  {
   "cell_type": "markdown",
   "id": "b220427b-24d9-488b-9b03-39b5a2b8f15a",
   "metadata": {},
   "source": [
    "***\n",
    "<u>Exercice 1:</u> *Temperatures partie1.*  \n",
    "  \n",
    "1- Tracer les temperatures moyennes mensuelles à partir des 12 valeurs suivantes représentant chancune un mois à partir de janvier 2022 à Toulouse:  \n",
    "3.9, 9, 10.9, 12.3, 19.7, 23.1 , 25.7, 26.1, 20.4, 19.2, 11.7 , 8.8  \n",
    "Source: <url>https://prevision-meteo.ch/climat/mensuel/toulouse-blagnac/2022</url>\n",
    "\n",
    "2- Ajouter des noms aux axes et un titre au graphique."
   ]
  },
  {
   "cell_type": "markdown",
   "id": "cc1fad03-15b6-497d-a002-d7244de906ec",
   "metadata": {},
   "source": [
    "***\n",
    "<u>Exercice 2:</u> *Temperatures partie2.*  \n",
    "  \n",
    "1- Changer la couleur de la courbe et celle du fond  \n",
    "2- Ajouter une grille"
   ]
  },
  {
   "cell_type": "markdown",
   "id": "67002426-17d7-4c69-9a4c-6b080b8479b1",
   "metadata": {
    "tags": []
   },
   "source": [
    "***\n",
    "<u>Exercice 3:</u> *Temperatures partie3.*   \n",
    "  \n",
    "1- Ajouter des courbes pour les temperatures minimales:  \n",
    "-5, -1.3, -0.2, -1.4, 10, 12.6, 12.2, 15.8, 8.2, 9.0, 1.5, -5.9  \n",
    "et les maximales:  \n",
    "16.7, 18.9, 21.5, 23.1, 33.4, 38.9, 39.4, 39.8, 34.4, 29.6, 21.7, 19.7  \n",
    "2- Colorier la partie entre les courbes mini et maxi avec une couleur transparente"
   ]
  },
  {
   "cell_type": "markdown",
   "id": "9f7070a8-0033-4e73-9ac2-cc667d27e8f5",
   "metadata": {
    "tags": []
   },
   "source": [
    "***\n",
    "<u>Exercice 4:</u> *Temperatures partie4.*   \n",
    "  \n",
    "1- Ajouter une annotation montrant le point de temperature maximale.  \n",
    "2- Entourer ce point d'un cercle (ou ellipse) rouge rempli de rose.  \n",
    "3- tracer une ligne horizontale pour montrer la temperature moyenne la plus haute et une autre pour la temperature moyenne la plus basse.  "
   ]
  },
  {
   "cell_type": "markdown",
   "id": "77f312b8-d9b5-4cce-9656-9e088cb4f5ba",
   "metadata": {},
   "source": [
    "***\n",
    "<u>Exercice 5: </u> *Temperatures partie5.*  \n",
    "  \n",
    "Les précipitations mensuelles sont en mm:\n",
    "59.9,13.1,77.8,43.8,2.6,34.6,2.6,19.8,33.2,9.7,74.3,10.8  \n",
    "Superposer un histogramme aux courbes précédentes pour les représenter."
   ]
  },
  {
   "cell_type": "markdown",
   "id": "21a05bbf-db47-4bc2-b8cf-959415e254b4",
   "metadata": {},
   "source": [
    "***\n",
    "<u>Exercice 6 :</u> *Progressions des notes.*  \n",
    "  \n",
    "1- Tracer un graphique montant l'évolution sur le semestre des notes des éléves suivants: \n",
    "\n",
    "| Prénom  | Notes         |Date                                       |\n",
    "|---------|---------------|-------------------------------------------|\n",
    "| Alice   | 15, 18, 14, 15|14 janvier , 16 avril , 10 mai , 16 juin   |\n",
    "| Bob     | 12, 16, 17, 13|14 janvier , 16 avril , 10 mai , 16 juin   |\n",
    "| Charlie | 20, 19, 8 ,15 |14 janvier , 16 avril , 10 mai ,  16 juin  |\n",
    "\n",
    "2- Ajouter un titre et le nom des axes , ainsi qu'une legende pour la courbe de chaque élève chaque éléve  \n",
    "3- Tracer une ligne horizontale en pointillé représentant la moyenne à 10  \n",
    "4- Faire un affichage sur un graphiques avec 3 sous graphiques  "
   ]
  },
  {
   "cell_type": "markdown",
   "id": "f68fd0f3-03b8-4d7e-a804-932cf9ce62e4",
   "metadata": {},
   "source": [
    "***\n",
    "<u>Exercice7:</u> *Puissance*  \n",
    "  \n",
    "1- Ecrire une fonction 'liste_croissante' qui crée une liste d'éléments croissants prenant en argument debut, fin, pas. On utilisera une boucle for pour générer cette liste.  \n",
    "2- Ecrire une fonction 'puissance' qui éléve à un puissance passée en argument les éléments d'une liste, également passée en argument.  \n",
    "3- Ecrire une fonction 'graphique' qui ajoute a une figure et axes existant un tracé. C'est a dire que la fonction prendra en argument, non seulement les valeurs à tracer, mais aussi la figure et l'axe, ainsi que la puissance à laquelle est élevée la liste.  \n",
    "4- Utiliser, dans une boucle, les 3 fonctions définies précedemment pour:  \n",
    "    - Créer une liste de nombres de 1 à 100 avec un pas de 2  \n",
    "    - Mettre successivement cette liste à l'exposant 1 à 10  \n",
    "    - Tracer sur un même graphe une représentation des valeurs de la liste aux exposants de 1 à 10    \n",
    "5- Ce graphe est il facilement lisible? Comment l'améliorer?  "
   ]
  },
  {
   "cell_type": "code",
   "execution_count": null,
   "id": "39a21216-f53d-44e5-bb00-5b3fc3eb0fe0",
   "metadata": {},
   "outputs": [],
   "source": []
  }
 ],
 "metadata": {
  "kernelspec": {
   "display_name": "Python 3 (ipykernel)",
   "language": "python",
   "name": "python3"
  },
  "language_info": {
   "codemirror_mode": {
    "name": "ipython",
    "version": 3
   },
   "file_extension": ".py",
   "mimetype": "text/x-python",
   "name": "python",
   "nbconvert_exporter": "python",
   "pygments_lexer": "ipython3",
   "version": "3.12.1"
  }
 },
 "nbformat": 4,
 "nbformat_minor": 5
}
