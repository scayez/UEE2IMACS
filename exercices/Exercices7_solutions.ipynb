{
 "cells": [
  {
   "cell_type": "markdown",
   "id": "fbe51048-b97d-45b3-a4c1-e7dce469e5de",
   "metadata": {},
   "source": [
    "***\n",
    "# **<center>Exercices#7</center>**\n",
    "# ***<center>Pandas</center>***\n",
    "***"
   ]
  },
  {
   "cell_type": "markdown",
   "id": "881ebf54-ff63-4c50-9b47-e73a2bdb8728",
   "metadata": {},
   "source": [
    "***\n",
    "<u>Exercice 1: </u> *Coeur.*   \n",
    "\n",
    "  \n",
    "1 - Charger les données à partir du fichier 'fichier_exercices_enonces/7_pandas/heart.csv'  et explorer son format et son contenu.   \n",
    "Ce dataset contient des informations médicales sur des patients dans le but de prévoir s'ils souffrent de maladies cardiaques d'après un certain nombre de critères.  \n",
    "| Paramètres          |      Détail            | Correspondance               |\n",
    "|---------------------|-----------------------|------------------------------|\n",
    "| age                 | Âge                   |    en années                          |\n",
    "| sex                 | Sexe                  | 1 = homme 0 = femme          |\n",
    "| cp                  | Type de douleur à la poitrine | 0: asymptomatic  1: atypical angina 2: non-anginal pain 3: typical angina       |\n",
    "| trestbps            | Pression artérielle au repos (mm Hg à l'admission à l'hôpital) | mm Hg|\n",
    "| chol                | Taux de cholestérol (mg/dl) |   mg/dl                          |\n",
    "| fbs                 | Glycémie à jeun (> 120 mg/dl, 1 = vrai; 0 = faux) | 0 = non, 1 = oui     |\n",
    "| restecg             | Résultats de l'électrocardiogramme au repos |  0: showing probable or definite left ventricular hypertrophy by Estes’ criteria 1: normal 2: having ST-T wave abnormality                 |\n",
    "| thalach             | Fréquence cardiaque maximale atteinte |                       |\n",
    "| exang               | Angine induite par l'exercice (1 = oui; 0 = non) | 0 = non, 1 = oui     |\n",
    "| oldpeak             | Dépression du segment ST induite par l'exercice par rapport au repos | |\n",
    "| slope               | Pente du segment ST à l'exercice de pointe | 0: descente 1: plat 2: montee                  |\n",
    "| ca                  | Nombre de vaisseaux principaux (0-3) |                        |\n",
    "| thal                | Thalassémie (trouble sanguin) |    NULL :dropped from the dataset previously 1: défaut irreversible 2: normal 3: defaut reversible)                            |\n",
    "| target              | Maladie cardiaque (1 = non, 0 = oui) |                           |\n",
    "\n",
    "https://archive.ics.uci.edu/dataset/45/heart+disease  \n",
    "\n",
    "2- Verifier les données manquantes  \n",
    "3- Afficher les lignes correspondant aux hommes ayant un taux de colesterol superieur à 240  \n",
    "4- Trier les patients par âge croissant  "
   ]
  },
  {
   "cell_type": "markdown",
   "id": "f26f7f65-8045-4485-8a74-2779d1c09e26",
   "metadata": {},
   "source": [
    " ***<center>SOLUTION</center>***"
   ]
  },
  {
   "cell_type": "markdown",
   "id": "61e27216-466f-4717-bcb7-09c8ccf3746e",
   "metadata": {
    "tags": []
   },
   "source": [
    "1 - Charger les données à partir du fichier fichiers_exercices_enonces/heart.csv et explorer son format et son contenu."
   ]
  },
  {
   "cell_type": "code",
   "execution_count": null,
   "id": "fa403c03-fa0b-42c3-baef-6bbbd9defc18",
   "metadata": {
    "tags": []
   },
   "outputs": [],
   "source": [
    "import pandas as pd"
   ]
  },
  {
   "cell_type": "code",
   "execution_count": null,
   "id": "16b14a7b-ba8d-496c-8381-e8f136987e51",
   "metadata": {},
   "outputs": [],
   "source": [
    "df = pd.read_csv('fichier_exercices_enonces/7_pandas/heart.csv')"
   ]
  },
  {
   "cell_type": "markdown",
   "id": "b2588879-3a95-4b2d-bfa3-0170cf4295c6",
   "metadata": {},
   "source": [
    "Afficher un aperçu des premières lignes du DataFrame"
   ]
  },
  {
   "cell_type": "code",
   "execution_count": null,
   "id": "4af67d1e-a6ae-40ba-bc53-88c17292871d",
   "metadata": {
    "tags": []
   },
   "outputs": [],
   "source": [
    "df.head()"
   ]
  },
  {
   "cell_type": "code",
   "execution_count": null,
   "id": "5b63c09c-69ab-4c91-afaa-a3861e5e6d6a",
   "metadata": {},
   "outputs": [],
   "source": [
    "df.shape"
   ]
  },
  {
   "cell_type": "markdown",
   "id": "f8f10fd1-4e81-42e8-9ad3-77707117d4de",
   "metadata": {},
   "source": [
    "On peut aller voir d'autres lignes avec iloc "
   ]
  },
  {
   "cell_type": "code",
   "execution_count": null,
   "id": "4b430b42-e7ab-4aec-b805-b2c8806d984e",
   "metadata": {
    "tags": []
   },
   "outputs": [],
   "source": [
    "df.iloc[5:20]"
   ]
  },
  {
   "cell_type": "markdown",
   "id": "bf428bbf-c0e6-41a3-8c7d-165286e017da",
   "metadata": {},
   "source": [
    "Demandons les dimensions du tableau (nombre de lignes et de colonnes)"
   ]
  },
  {
   "cell_type": "code",
   "execution_count": null,
   "id": "553af998-f02d-44ac-a3a8-aa3602283735",
   "metadata": {
    "tags": []
   },
   "outputs": [],
   "source": [
    "df.shape"
   ]
  },
  {
   "cell_type": "markdown",
   "id": "3359a421-af04-47f7-8d6f-3bf89d1e4768",
   "metadata": {},
   "source": [
    "Le nom des colonnes"
   ]
  },
  {
   "cell_type": "code",
   "execution_count": null,
   "id": "75093ca3-33f5-4dea-b0f7-87df99a4b83c",
   "metadata": {
    "tags": []
   },
   "outputs": [],
   "source": [
    "df.columns.values "
   ]
  },
  {
   "cell_type": "markdown",
   "id": "bdfa6def-01d4-418c-a31d-760a743a67e2",
   "metadata": {},
   "source": [
    "Pour obtenir une vision plus complete du jeu de données, demandons des statistiques sur les valeurs"
   ]
  },
  {
   "cell_type": "code",
   "execution_count": null,
   "id": "317c31cf-296e-4022-8423-85656627f871",
   "metadata": {
    "tags": []
   },
   "outputs": [],
   "source": [
    "df.describe()"
   ]
  },
  {
   "cell_type": "code",
   "execution_count": null,
   "id": "10e420d1-1156-4e4c-a93a-261087ebac3e",
   "metadata": {
    "tags": []
   },
   "outputs": [],
   "source": [
    "df.info() "
   ]
  },
  {
   "cell_type": "markdown",
   "id": "e414f43c-dede-48bb-850f-7c1cbbd19553",
   "metadata": {},
   "source": [
    "2- Verifier si il y a des données manquantes"
   ]
  },
  {
   "cell_type": "code",
   "execution_count": null,
   "id": "e21b7e41-a0f5-42d6-a5f9-6d7c74cd5a01",
   "metadata": {
    "tags": []
   },
   "outputs": [],
   "source": [
    "# Compter les valeurs manquantes par colonne\n",
    "missing_values = df.isnull().sum()\n",
    "\n",
    "# Afficher le nombre de valeurs manquantes par colonne\n",
    "print(missing_values)"
   ]
  },
  {
   "cell_type": "markdown",
   "id": "3047941d-b077-4baf-ac28-2ce2d41dabe4",
   "metadata": {},
   "source": [
    "Pas de valeurs manquantes"
   ]
  },
  {
   "cell_type": "markdown",
   "id": "fec79015-bc46-4964-b843-963e31b44628",
   "metadata": {},
   "source": [
    "3- Afficher les lignes correspondant aux hommes ayant un taux de cholesterol superieur à 240"
   ]
  },
  {
   "cell_type": "code",
   "execution_count": null,
   "id": "5307441f-cbc0-4151-9241-9312ae1c8692",
   "metadata": {
    "tags": []
   },
   "outputs": [],
   "source": [
    "print(df.shape)\n",
    "df_condition1 = df.query(\"sex == 1  & chol > 240\")\n",
    "print(df_condition1.shape)\n",
    "df_condition1"
   ]
  },
  {
   "cell_type": "code",
   "execution_count": null,
   "id": "1ff40a86-10c2-4c74-9823-90ebce3d9dba",
   "metadata": {
    "tags": []
   },
   "outputs": [],
   "source": [
    "df_condition1.describe()"
   ]
  },
  {
   "cell_type": "markdown",
   "id": "a334e1ad-03a0-45c3-87e1-7e368f876466",
   "metadata": {},
   "source": [
    "4- Trier les patients par âge croissant "
   ]
  },
  {
   "cell_type": "code",
   "execution_count": null,
   "id": "bba359fc-745a-4c77-bf93-1e4442ed3c60",
   "metadata": {
    "tags": []
   },
   "outputs": [],
   "source": [
    "df_sorted = df.sort_values('age')\n",
    "df_sorted"
   ]
  },
  {
   "cell_type": "markdown",
   "id": "39aa4e15-fc97-46cd-800e-3921e2367292",
   "metadata": {},
   "source": [
    "***\n",
    "<u>Exercice 2: </u> *Coeur.*\n",
    "  \n",
    "1- Afficher l'histogramme des repartitions par age.   \n",
    "2- Afficher l'ensemble des histogrammes. Quelques remarques? Regarder par exemple la répartition homme/femme.    \n",
    "3- Afficher l'ensemble des boxplot.   \n",
    "4- Représenter les correlation entre les paramètres d'abord avec une matrice puis avec des graphiques. Observer les corélations.   "
   ]
  },
  {
   "cell_type": "markdown",
   "id": "4a3ead9b-035d-4e35-87dd-f857f148bcd9",
   "metadata": {},
   "source": [
    " ***<center>SOLUTION</center>***"
   ]
  },
  {
   "cell_type": "markdown",
   "id": "969430e8-146b-4477-94a0-4e46d0d535a8",
   "metadata": {},
   "source": [
    "1- Afficher l'histogramme des repartitions par age."
   ]
  },
  {
   "cell_type": "code",
   "execution_count": null,
   "id": "86a2a836-11cc-4097-876a-a3cfcfff17a3",
   "metadata": {
    "tags": []
   },
   "outputs": [],
   "source": [
    "import matplotlib.pyplot as plt\n",
    "\n",
    "# Créer la figure et les axes\n",
    "fig, ax = plt.subplots()\n",
    "\n",
    "# Tracer l'histogramme\n",
    "ax.hist(df['age'], bins=30)\n",
    "\n",
    "# Ajouter des labels aux axes\n",
    "ax.set_xlabel('Age')\n",
    "ax.set_ylabel('Frequency')\n",
    "\n",
    "# Afficher la figure\n",
    "plt.show()\n"
   ]
  },
  {
   "cell_type": "markdown",
   "id": "e65fe8ff-1f6d-49ec-8343-04f2211bfb42",
   "metadata": {},
   "source": [
    "2- Afficher l'ensemble des histogrammes. Quelques remarques? Regarder par exemple la répartition homme/femme."
   ]
  },
  {
   "cell_type": "code",
   "execution_count": null,
   "id": "d456e3c2-b35a-4c47-9bc9-be485187deb6",
   "metadata": {},
   "outputs": [],
   "source": [
    "df.hist(bins=30, figsize=(10,15))\n",
    "plt.show()"
   ]
  },
  {
   "cell_type": "markdown",
   "id": "86950e6b-5cea-491d-af9c-218745dfe171",
   "metadata": {},
   "source": [
    "La répartition homme/femme n'est pas équilibrée."
   ]
  },
  {
   "cell_type": "markdown",
   "id": "8356d0ea-67a8-4f35-9c13-d673a4aea197",
   "metadata": {},
   "source": [
    "3- Afficher l'ensemble des boxplot."
   ]
  },
  {
   "cell_type": "code",
   "execution_count": null,
   "id": "ec4f5d40-9273-4074-924b-bd367d72d325",
   "metadata": {},
   "outputs": [],
   "source": [
    "\n",
    "# Créer la figure et les sous-graphiques\n",
    "fig, axes = plt.subplots(5, 3, figsize=(12, 12))\n",
    "# Boucle pour tracer les boîtes à moustaches de chaque colonne\n",
    "for i, column in enumerate(df.columns):\n",
    "    # Calcul des indices de la position du sous-graphique\n",
    "    row = i // 3\n",
    "    col = i % 3 \n",
    "    # Tracer la boîte à moustaches de la colonne sur le sous-graphique correspondant\n",
    "    axes[row, col].boxplot(df[column])\n",
    "    axes[row, col].set_xlabel(column)\n",
    "    axes[row, col].set_ylabel('Value')\n",
    "    axes[row, col].set_title('Boxplot of ' + column)\n",
    "\n",
    "# Ajuster l'espacement entre les sous-graphiques\n",
    "plt.tight_layout()\n",
    "\n",
    "# Afficher la figure\n",
    "plt.show()\n"
   ]
  },
  {
   "cell_type": "markdown",
   "id": "607224d2-ef10-427b-99ad-e95911ef472e",
   "metadata": {},
   "source": [
    "4- Représenter les correlation entre les paramètres d'abord avec une matrice puis avec des graphiques. Observer les corélations. "
   ]
  },
  {
   "cell_type": "code",
   "execution_count": null,
   "id": "7943866b-6c0f-4128-be70-4ec02511754c",
   "metadata": {},
   "outputs": [],
   "source": [
    "import seaborn as sns\n",
    "# Calculer la matrice de corrélation\n",
    "corr_matrix = df.corr()\n",
    "print(corr_matrix)"
   ]
  },
  {
   "cell_type": "code",
   "execution_count": null,
   "id": "3269e472-4c77-46d2-a123-8067206d70ce",
   "metadata": {},
   "outputs": [],
   "source": [
    "\n",
    "# Créer une figure et un axe pour le tracé\n",
    "fig, ax = plt.subplots(figsize=(10, 8))\n",
    "\n",
    "# Tracer la matrice de corrélation avec heatmap\n",
    "sns.heatmap(corr_matrix, cmap='coolwarm', annot=True, ax=ax)\n",
    "\n",
    "# Configurer les étiquettes des axes\n",
    "ax.set_xticklabels(ax.get_xticklabels(), rotation=45, horizontalalignment='right')\n",
    "\n",
    "# Afficher la figure\n",
    "plt.show()"
   ]
  },
  {
   "cell_type": "markdown",
   "id": "be9ec1c9-ada7-4249-96fa-452706378925",
   "metadata": {},
   "source": [
    "- Slope et oldpeak sembles fortement corrélés. Peut être parce que sont tous les deux des parametres mesurés lors d'un exercice.\n",
    "- fbs est trés peu corrélé à l'apparition de maladie. C'est normal c'est une condition de mesure (examen à jeun ou non)"
   ]
  },
  {
   "cell_type": "code",
   "execution_count": null,
   "id": "bba6d286-1519-4fcd-bcc0-3e08f84900e2",
   "metadata": {
    "tags": []
   },
   "outputs": [],
   "source": [
    "# Tracer la matrice de scatter plots\n",
    "pd.plotting.scatter_matrix(df, figsize=(12, 12))\n",
    "\n",
    "# Ajuster les espacements entre les sous-graphiques\n",
    "plt.tight_layout()\n",
    "\n",
    "# Afficher le graphique\n",
    "plt.show()\n"
   ]
  },
  {
   "cell_type": "markdown",
   "id": "a69009da-42d5-4c77-9f00-989db525348b",
   "metadata": {},
   "source": [
    "***\n",
    "<u>Exercice 3: </u> *Jeux Olympiques.*   \n",
    "Explorer les jeux de données suivant:\n",
    "https://www.kaggle.com/datasets/heesoo37/120-years-of-olympic-history-athletes-and-results/download?datasetVersionNumber=2  \n",
    "ou sur:  \n",
    "https://filesender.renater.fr/?s=download&token=965167ba-d466-47c0-bf93-6b73b6ec21f8\n"
   ]
  },
  {
   "cell_type": "markdown",
   "id": "239d50f0-4435-48c3-a49a-59996dcbf32c",
   "metadata": {},
   "source": [
    " ***<center>SOLUTION</center>***"
   ]
  },
  {
   "cell_type": "code",
   "execution_count": 1,
   "id": "ea2570a6-bc9e-4f41-9887-e68f2a7be609",
   "metadata": {},
   "outputs": [],
   "source": [
    "import pandas as pd"
   ]
  },
  {
   "cell_type": "code",
   "execution_count": 2,
   "id": "fd91c1ee-d576-426e-85d6-329bb4353c1f",
   "metadata": {},
   "outputs": [],
   "source": [
    "df1 = pd.read_csv('fichier_exercices_enonces/7_pandas/Athletes/noc_regions.csv')"
   ]
  },
  {
   "cell_type": "code",
   "execution_count": 3,
   "id": "667b7d61-00d8-4dfa-bdf3-7523eb8c92e6",
   "metadata": {},
   "outputs": [
    {
     "data": {
      "text/html": [
       "<div>\n",
       "<style scoped>\n",
       "    .dataframe tbody tr th:only-of-type {\n",
       "        vertical-align: middle;\n",
       "    }\n",
       "\n",
       "    .dataframe tbody tr th {\n",
       "        vertical-align: top;\n",
       "    }\n",
       "\n",
       "    .dataframe thead th {\n",
       "        text-align: right;\n",
       "    }\n",
       "</style>\n",
       "<table border=\"1\" class=\"dataframe\">\n",
       "  <thead>\n",
       "    <tr style=\"text-align: right;\">\n",
       "      <th></th>\n",
       "      <th>NOC</th>\n",
       "      <th>region</th>\n",
       "      <th>notes</th>\n",
       "    </tr>\n",
       "  </thead>\n",
       "  <tbody>\n",
       "    <tr>\n",
       "      <th>0</th>\n",
       "      <td>AFG</td>\n",
       "      <td>Afghanistan</td>\n",
       "      <td>NaN</td>\n",
       "    </tr>\n",
       "    <tr>\n",
       "      <th>1</th>\n",
       "      <td>AHO</td>\n",
       "      <td>Curacao</td>\n",
       "      <td>Netherlands Antilles</td>\n",
       "    </tr>\n",
       "    <tr>\n",
       "      <th>2</th>\n",
       "      <td>ALB</td>\n",
       "      <td>Albania</td>\n",
       "      <td>NaN</td>\n",
       "    </tr>\n",
       "    <tr>\n",
       "      <th>3</th>\n",
       "      <td>ALG</td>\n",
       "      <td>Algeria</td>\n",
       "      <td>NaN</td>\n",
       "    </tr>\n",
       "    <tr>\n",
       "      <th>4</th>\n",
       "      <td>AND</td>\n",
       "      <td>Andorra</td>\n",
       "      <td>NaN</td>\n",
       "    </tr>\n",
       "  </tbody>\n",
       "</table>\n",
       "</div>"
      ],
      "text/plain": [
       "   NOC       region                 notes\n",
       "0  AFG  Afghanistan                   NaN\n",
       "1  AHO      Curacao  Netherlands Antilles\n",
       "2  ALB      Albania                   NaN\n",
       "3  ALG      Algeria                   NaN\n",
       "4  AND      Andorra                   NaN"
      ]
     },
     "execution_count": 3,
     "metadata": {},
     "output_type": "execute_result"
    }
   ],
   "source": [
    "df1.head()"
   ]
  },
  {
   "cell_type": "code",
   "execution_count": 4,
   "id": "e570e264-fa98-47c4-9142-e4591c1b2b28",
   "metadata": {},
   "outputs": [],
   "source": [
    "df2 = pd.read_csv('fichier_exercices_enonces/7_pandas/Athletes/athlete_events.csv')"
   ]
  },
  {
   "cell_type": "code",
   "execution_count": 5,
   "id": "73869c1c-c88a-4729-86fc-84744c46c1a7",
   "metadata": {},
   "outputs": [
    {
     "data": {
      "text/html": [
       "<div>\n",
       "<style scoped>\n",
       "    .dataframe tbody tr th:only-of-type {\n",
       "        vertical-align: middle;\n",
       "    }\n",
       "\n",
       "    .dataframe tbody tr th {\n",
       "        vertical-align: top;\n",
       "    }\n",
       "\n",
       "    .dataframe thead th {\n",
       "        text-align: right;\n",
       "    }\n",
       "</style>\n",
       "<table border=\"1\" class=\"dataframe\">\n",
       "  <thead>\n",
       "    <tr style=\"text-align: right;\">\n",
       "      <th></th>\n",
       "      <th>ID</th>\n",
       "      <th>Name</th>\n",
       "      <th>Sex</th>\n",
       "      <th>Age</th>\n",
       "      <th>Height</th>\n",
       "      <th>Weight</th>\n",
       "      <th>Team</th>\n",
       "      <th>NOC</th>\n",
       "      <th>Games</th>\n",
       "      <th>Year</th>\n",
       "      <th>Season</th>\n",
       "      <th>City</th>\n",
       "      <th>Sport</th>\n",
       "      <th>Event</th>\n",
       "      <th>Medal</th>\n",
       "    </tr>\n",
       "  </thead>\n",
       "  <tbody>\n",
       "    <tr>\n",
       "      <th>0</th>\n",
       "      <td>1</td>\n",
       "      <td>A Dijiang</td>\n",
       "      <td>M</td>\n",
       "      <td>24.0</td>\n",
       "      <td>180.0</td>\n",
       "      <td>80.0</td>\n",
       "      <td>China</td>\n",
       "      <td>CHN</td>\n",
       "      <td>1992 Summer</td>\n",
       "      <td>1992</td>\n",
       "      <td>Summer</td>\n",
       "      <td>Barcelona</td>\n",
       "      <td>Basketball</td>\n",
       "      <td>Basketball Men's Basketball</td>\n",
       "      <td>NaN</td>\n",
       "    </tr>\n",
       "    <tr>\n",
       "      <th>1</th>\n",
       "      <td>2</td>\n",
       "      <td>A Lamusi</td>\n",
       "      <td>M</td>\n",
       "      <td>23.0</td>\n",
       "      <td>170.0</td>\n",
       "      <td>60.0</td>\n",
       "      <td>China</td>\n",
       "      <td>CHN</td>\n",
       "      <td>2012 Summer</td>\n",
       "      <td>2012</td>\n",
       "      <td>Summer</td>\n",
       "      <td>London</td>\n",
       "      <td>Judo</td>\n",
       "      <td>Judo Men's Extra-Lightweight</td>\n",
       "      <td>NaN</td>\n",
       "    </tr>\n",
       "    <tr>\n",
       "      <th>2</th>\n",
       "      <td>3</td>\n",
       "      <td>Gunnar Nielsen Aaby</td>\n",
       "      <td>M</td>\n",
       "      <td>24.0</td>\n",
       "      <td>NaN</td>\n",
       "      <td>NaN</td>\n",
       "      <td>Denmark</td>\n",
       "      <td>DEN</td>\n",
       "      <td>1920 Summer</td>\n",
       "      <td>1920</td>\n",
       "      <td>Summer</td>\n",
       "      <td>Antwerpen</td>\n",
       "      <td>Football</td>\n",
       "      <td>Football Men's Football</td>\n",
       "      <td>NaN</td>\n",
       "    </tr>\n",
       "    <tr>\n",
       "      <th>3</th>\n",
       "      <td>4</td>\n",
       "      <td>Edgar Lindenau Aabye</td>\n",
       "      <td>M</td>\n",
       "      <td>34.0</td>\n",
       "      <td>NaN</td>\n",
       "      <td>NaN</td>\n",
       "      <td>Denmark/Sweden</td>\n",
       "      <td>DEN</td>\n",
       "      <td>1900 Summer</td>\n",
       "      <td>1900</td>\n",
       "      <td>Summer</td>\n",
       "      <td>Paris</td>\n",
       "      <td>Tug-Of-War</td>\n",
       "      <td>Tug-Of-War Men's Tug-Of-War</td>\n",
       "      <td>Gold</td>\n",
       "    </tr>\n",
       "    <tr>\n",
       "      <th>4</th>\n",
       "      <td>5</td>\n",
       "      <td>Christine Jacoba Aaftink</td>\n",
       "      <td>F</td>\n",
       "      <td>21.0</td>\n",
       "      <td>185.0</td>\n",
       "      <td>82.0</td>\n",
       "      <td>Netherlands</td>\n",
       "      <td>NED</td>\n",
       "      <td>1988 Winter</td>\n",
       "      <td>1988</td>\n",
       "      <td>Winter</td>\n",
       "      <td>Calgary</td>\n",
       "      <td>Speed Skating</td>\n",
       "      <td>Speed Skating Women's 500 metres</td>\n",
       "      <td>NaN</td>\n",
       "    </tr>\n",
       "  </tbody>\n",
       "</table>\n",
       "</div>"
      ],
      "text/plain": [
       "   ID                      Name Sex   Age  Height  Weight            Team  \\\n",
       "0   1                 A Dijiang   M  24.0   180.0    80.0           China   \n",
       "1   2                  A Lamusi   M  23.0   170.0    60.0           China   \n",
       "2   3       Gunnar Nielsen Aaby   M  24.0     NaN     NaN         Denmark   \n",
       "3   4      Edgar Lindenau Aabye   M  34.0     NaN     NaN  Denmark/Sweden   \n",
       "4   5  Christine Jacoba Aaftink   F  21.0   185.0    82.0     Netherlands   \n",
       "\n",
       "   NOC        Games  Year  Season       City          Sport  \\\n",
       "0  CHN  1992 Summer  1992  Summer  Barcelona     Basketball   \n",
       "1  CHN  2012 Summer  2012  Summer     London           Judo   \n",
       "2  DEN  1920 Summer  1920  Summer  Antwerpen       Football   \n",
       "3  DEN  1900 Summer  1900  Summer      Paris     Tug-Of-War   \n",
       "4  NED  1988 Winter  1988  Winter    Calgary  Speed Skating   \n",
       "\n",
       "                              Event Medal  \n",
       "0       Basketball Men's Basketball   NaN  \n",
       "1      Judo Men's Extra-Lightweight   NaN  \n",
       "2           Football Men's Football   NaN  \n",
       "3       Tug-Of-War Men's Tug-Of-War  Gold  \n",
       "4  Speed Skating Women's 500 metres   NaN  "
      ]
     },
     "execution_count": 5,
     "metadata": {},
     "output_type": "execute_result"
    }
   ],
   "source": [
    "df2.head()"
   ]
  },
  {
   "cell_type": "code",
   "execution_count": 7,
   "id": "c8a467a2-f3cc-4dd9-aec0-69c68ed026fe",
   "metadata": {},
   "outputs": [
    {
     "name": "stdout",
     "output_type": "stream",
     "text": [
      "<class 'pandas.core.frame.DataFrame'>\n",
      "RangeIndex: 271116 entries, 0 to 271115\n",
      "Data columns (total 15 columns):\n",
      " #   Column  Non-Null Count   Dtype  \n",
      "---  ------  --------------   -----  \n",
      " 0   ID      271116 non-null  int64  \n",
      " 1   Name    271116 non-null  object \n",
      " 2   Sex     271116 non-null  object \n",
      " 3   Age     261642 non-null  float64\n",
      " 4   Height  210945 non-null  float64\n",
      " 5   Weight  208241 non-null  float64\n",
      " 6   Team    271116 non-null  object \n",
      " 7   NOC     271116 non-null  object \n",
      " 8   Games   271116 non-null  object \n",
      " 9   Year    271116 non-null  int64  \n",
      " 10  Season  271116 non-null  object \n",
      " 11  City    271116 non-null  object \n",
      " 12  Sport   271116 non-null  object \n",
      " 13  Event   271116 non-null  object \n",
      " 14  Medal   39783 non-null   object \n",
      "dtypes: float64(3), int64(2), object(10)\n",
      "memory usage: 31.0+ MB\n"
     ]
    }
   ],
   "source": [
    "df2.info() "
   ]
  },
  {
   "cell_type": "code",
   "execution_count": 8,
   "id": "9becb01b-14ee-4812-b6ba-b8c8dfb929b2",
   "metadata": {},
   "outputs": [
    {
     "data": {
      "text/plain": [
       "ID             0\n",
       "Name           0\n",
       "Sex            0\n",
       "Age         9474\n",
       "Height     60171\n",
       "Weight     62875\n",
       "Team           0\n",
       "NOC            0\n",
       "Games          0\n",
       "Year           0\n",
       "Season         0\n",
       "City           0\n",
       "Sport          0\n",
       "Event          0\n",
       "Medal     231333\n",
       "dtype: int64"
      ]
     },
     "execution_count": 8,
     "metadata": {},
     "output_type": "execute_result"
    }
   ],
   "source": [
    "df2.isnull().sum()"
   ]
  },
  {
   "cell_type": "markdown",
   "id": "d00175af-a307-469a-9f68-5a1a95bace45",
   "metadata": {},
   "source": [
    "Beaucoup de valeurs manquantes dans la colonne médaille. C'est normal, la majorité des athlètes n'a pas de médaille..."
   ]
  },
  {
   "cell_type": "code",
   "execution_count": 10,
   "id": "7236e1a2-74f2-4985-bcac-b9916b8df22e",
   "metadata": {},
   "outputs": [],
   "source": [
    "# Remplacer les valeurs manquantes dans la colonne 'Medal' par No\n",
    "df2.fillna({'Medal': 'No'}, inplace=True)"
   ]
  },
  {
   "cell_type": "code",
   "execution_count": 12,
   "id": "fb30dff0-0039-4399-81be-a88b126fbcfb",
   "metadata": {},
   "outputs": [
    {
     "data": {
      "text/html": [
       "<div>\n",
       "<style scoped>\n",
       "    .dataframe tbody tr th:only-of-type {\n",
       "        vertical-align: middle;\n",
       "    }\n",
       "\n",
       "    .dataframe tbody tr th {\n",
       "        vertical-align: top;\n",
       "    }\n",
       "\n",
       "    .dataframe thead th {\n",
       "        text-align: right;\n",
       "    }\n",
       "</style>\n",
       "<table border=\"1\" class=\"dataframe\">\n",
       "  <thead>\n",
       "    <tr style=\"text-align: right;\">\n",
       "      <th></th>\n",
       "      <th>ID</th>\n",
       "      <th>Name</th>\n",
       "      <th>Sex</th>\n",
       "      <th>Age</th>\n",
       "      <th>Height</th>\n",
       "      <th>Weight</th>\n",
       "      <th>Team</th>\n",
       "      <th>NOC</th>\n",
       "      <th>Games</th>\n",
       "      <th>Year</th>\n",
       "      <th>Season</th>\n",
       "      <th>City</th>\n",
       "      <th>Sport</th>\n",
       "      <th>Event</th>\n",
       "      <th>Medal</th>\n",
       "    </tr>\n",
       "  </thead>\n",
       "  <tbody>\n",
       "    <tr>\n",
       "      <th>0</th>\n",
       "      <td>1</td>\n",
       "      <td>A Dijiang</td>\n",
       "      <td>M</td>\n",
       "      <td>24.0</td>\n",
       "      <td>180.0</td>\n",
       "      <td>80.0</td>\n",
       "      <td>China</td>\n",
       "      <td>CHN</td>\n",
       "      <td>1992 Summer</td>\n",
       "      <td>1992</td>\n",
       "      <td>Summer</td>\n",
       "      <td>Barcelona</td>\n",
       "      <td>Basketball</td>\n",
       "      <td>Basketball Men's Basketball</td>\n",
       "      <td>No</td>\n",
       "    </tr>\n",
       "    <tr>\n",
       "      <th>1</th>\n",
       "      <td>2</td>\n",
       "      <td>A Lamusi</td>\n",
       "      <td>M</td>\n",
       "      <td>23.0</td>\n",
       "      <td>170.0</td>\n",
       "      <td>60.0</td>\n",
       "      <td>China</td>\n",
       "      <td>CHN</td>\n",
       "      <td>2012 Summer</td>\n",
       "      <td>2012</td>\n",
       "      <td>Summer</td>\n",
       "      <td>London</td>\n",
       "      <td>Judo</td>\n",
       "      <td>Judo Men's Extra-Lightweight</td>\n",
       "      <td>No</td>\n",
       "    </tr>\n",
       "    <tr>\n",
       "      <th>2</th>\n",
       "      <td>3</td>\n",
       "      <td>Gunnar Nielsen Aaby</td>\n",
       "      <td>M</td>\n",
       "      <td>24.0</td>\n",
       "      <td>NaN</td>\n",
       "      <td>NaN</td>\n",
       "      <td>Denmark</td>\n",
       "      <td>DEN</td>\n",
       "      <td>1920 Summer</td>\n",
       "      <td>1920</td>\n",
       "      <td>Summer</td>\n",
       "      <td>Antwerpen</td>\n",
       "      <td>Football</td>\n",
       "      <td>Football Men's Football</td>\n",
       "      <td>No</td>\n",
       "    </tr>\n",
       "    <tr>\n",
       "      <th>3</th>\n",
       "      <td>4</td>\n",
       "      <td>Edgar Lindenau Aabye</td>\n",
       "      <td>M</td>\n",
       "      <td>34.0</td>\n",
       "      <td>NaN</td>\n",
       "      <td>NaN</td>\n",
       "      <td>Denmark/Sweden</td>\n",
       "      <td>DEN</td>\n",
       "      <td>1900 Summer</td>\n",
       "      <td>1900</td>\n",
       "      <td>Summer</td>\n",
       "      <td>Paris</td>\n",
       "      <td>Tug-Of-War</td>\n",
       "      <td>Tug-Of-War Men's Tug-Of-War</td>\n",
       "      <td>Gold</td>\n",
       "    </tr>\n",
       "    <tr>\n",
       "      <th>4</th>\n",
       "      <td>5</td>\n",
       "      <td>Christine Jacoba Aaftink</td>\n",
       "      <td>F</td>\n",
       "      <td>21.0</td>\n",
       "      <td>185.0</td>\n",
       "      <td>82.0</td>\n",
       "      <td>Netherlands</td>\n",
       "      <td>NED</td>\n",
       "      <td>1988 Winter</td>\n",
       "      <td>1988</td>\n",
       "      <td>Winter</td>\n",
       "      <td>Calgary</td>\n",
       "      <td>Speed Skating</td>\n",
       "      <td>Speed Skating Women's 500 metres</td>\n",
       "      <td>No</td>\n",
       "    </tr>\n",
       "  </tbody>\n",
       "</table>\n",
       "</div>"
      ],
      "text/plain": [
       "   ID                      Name Sex   Age  Height  Weight            Team  \\\n",
       "0   1                 A Dijiang   M  24.0   180.0    80.0           China   \n",
       "1   2                  A Lamusi   M  23.0   170.0    60.0           China   \n",
       "2   3       Gunnar Nielsen Aaby   M  24.0     NaN     NaN         Denmark   \n",
       "3   4      Edgar Lindenau Aabye   M  34.0     NaN     NaN  Denmark/Sweden   \n",
       "4   5  Christine Jacoba Aaftink   F  21.0   185.0    82.0     Netherlands   \n",
       "\n",
       "   NOC        Games  Year  Season       City          Sport  \\\n",
       "0  CHN  1992 Summer  1992  Summer  Barcelona     Basketball   \n",
       "1  CHN  2012 Summer  2012  Summer     London           Judo   \n",
       "2  DEN  1920 Summer  1920  Summer  Antwerpen       Football   \n",
       "3  DEN  1900 Summer  1900  Summer      Paris     Tug-Of-War   \n",
       "4  NED  1988 Winter  1988  Winter    Calgary  Speed Skating   \n",
       "\n",
       "                              Event Medal  \n",
       "0       Basketball Men's Basketball    No  \n",
       "1      Judo Men's Extra-Lightweight    No  \n",
       "2           Football Men's Football    No  \n",
       "3       Tug-Of-War Men's Tug-Of-War  Gold  \n",
       "4  Speed Skating Women's 500 metres    No  "
      ]
     },
     "execution_count": 12,
     "metadata": {},
     "output_type": "execute_result"
    }
   ],
   "source": [
    "df2.head()"
   ]
  },
  {
   "cell_type": "code",
   "execution_count": 13,
   "id": "f66f31e5-d199-4572-b3ff-761be67cb0f5",
   "metadata": {},
   "outputs": [],
   "source": [
    "# supprimer les lignes avec des valeurs manquantes\n",
    "df2.dropna(inplace=True)# remplacer le dataframe par sa version sans valeurs manquantes"
   ]
  },
  {
   "cell_type": "code",
   "execution_count": 14,
   "id": "739e3908-54b5-4936-94fe-ca204d3c45e6",
   "metadata": {},
   "outputs": [
    {
     "data": {
      "text/plain": [
       "Text(0.5, 1.0, 'Histogramme des médailles')"
      ]
     },
     "execution_count": 14,
     "metadata": {},
     "output_type": "execute_result"
    },
    {
     "data": {
      "image/png": "[encoded data removed]",
      "text/plain": [
       "<Figure size 640x480 with 1 Axes>"
      ]
     },
     "metadata": {},
     "output_type": "display_data"
    }
   ],
   "source": [
    "import matplotlib.pyplot as plt\n",
    "\n",
    "fig,ax = plt.subplots()\n",
    "\n",
    "# Compter le nombre de chaque type de médaille\n",
    "medal_counts = df2['Medal'].value_counts()\n",
    "\n",
    "# Tracer l'histogramme\n",
    "ax.bar(medal_counts.index.astype(str), medal_counts.values)\n",
    "\n",
    "# Ajouter des étiquettes et un titre\n",
    "ax.set_xlabel('Type de médaille')\n",
    "ax.set_ylabel('Nombre de médailles')\n",
    "ax.set_title('Histogramme des médailles')\n",
    "\n"
   ]
  },
  {
   "cell_type": "markdown",
   "id": "297029c7-e39a-4372-936a-36cef365754a",
   "metadata": {},
   "source": [
    "Etude poids / taille des athlètes"
   ]
  },
  {
   "cell_type": "code",
   "execution_count": 15,
   "id": "9a69be2f-b8b9-4107-b707-0ccaa2c42ca8",
   "metadata": {},
   "outputs": [
    {
     "data": {
      "text/plain": [
       "Text(0.5, 1.0, 'Poids/taille')"
      ]
     },
     "execution_count": 15,
     "metadata": {},
     "output_type": "execute_result"
    },
    {
     "data": {
      "image/png": "[encoded data removed]",
      "text/plain": [
       "<Figure size 640x480 with 1 Axes>"
      ]
     },
     "metadata": {},
     "output_type": "display_data"
    }
   ],
   "source": [
    "import matplotlib.pyplot as plt\n",
    "\n",
    "fig,ax = plt.subplots()\n",
    "# Compter le nombre de chaque type de médaille\n",
    "medal_counts = df2['Medal'].value_counts()\n",
    "# Tracer l'histogramme\n",
    "ax.scatter(df2['Height'],df2['Weight'], s = 5)\n",
    "\n",
    "# Ajouter des étiquettes et un titre\n",
    "ax.set_xlabel('Taille(cm)')\n",
    "ax.set_ylabel('Poids(Kg)')\n",
    "ax.set_title('Poids/taille')"
   ]
  },
  {
   "cell_type": "code",
   "execution_count": 16,
   "id": "b70279a7-a654-4bad-a814-59c8adc938ca",
   "metadata": {},
   "outputs": [
    {
     "data": {
      "image/png": "[encoded data removed]",
      "text/plain": [
       "<Figure size 1200x600 with 2 Axes>"
      ]
     },
     "metadata": {},
     "output_type": "display_data"
    }
   ],
   "source": [
    "import matplotlib.pyplot as plt\n",
    "# Créer une figure et des axes\n",
    "fig, ax = plt.subplots(1, 2, figsize=(12, 6))\n",
    "# Filtrer les données pour les hommes (M) et les femmes (F)\n",
    "df_male = df2[df2['Sex'] == 'M']\n",
    "df_female = df2[df2['Sex'] == 'F']\n",
    "# Tracer le scatter plot pour les hommes\n",
    "ax[0].scatter(df_male['Height'], df_male['Weight'], s=5, c='blue', label='Hommes')\n",
    "ax[0].set_xlabel('Taille (cm)')\n",
    "ax[0].set_ylabel('Poids (kg)')\n",
    "ax[0].set_title('Poids/Taille - Hommes')\n",
    "\n",
    "# Tracer le scatter plot pour les femmes\n",
    "ax[1].scatter(df_female['Height'], df_female['Weight'], s=5, c='red', label='Femmes')\n",
    "ax[1].set_xlabel('Taille (cm)')\n",
    "ax[1].set_ylabel('Poids (kg)')\n",
    "ax[1].set_title('Poids/Taille - Femmes')\n",
    "\n",
    "# Afficher une légende\n",
    "ax[0].legend()\n",
    "ax[1].legend()\n",
    "\n",
    "# Afficher la figure\n",
    "plt.tight_layout()\n",
    "plt.show()\n"
   ]
  },
  {
   "cell_type": "code",
   "execution_count": 17,
   "id": "c4fbc4ad-e9be-441d-8acf-94fdf66df35f",
   "metadata": {},
   "outputs": [
    {
     "data": {
      "text/plain": [
       "'3d_plot.html'"
      ]
     },
     "execution_count": 17,
     "metadata": {},
     "output_type": "execute_result"
    }
   ],
   "source": [
    "import plotly.offline as pyo\n",
    "import plotly.graph_objs as go\n",
    "\n",
    "# Création de la trace 3D\n",
    "trace = go.Scatter3d(\n",
    "    x=df2['Age'],\n",
    "    y=df2['Height'],\n",
    "    z=df2['Weight'],\n",
    "    mode='markers',\n",
    "    marker=dict(\n",
    "        size=2,\n",
    "        color='blue',  # Vous pouvez changer la couleur si vous le souhaitez\n",
    "        opacity=0.8\n",
    "    )\n",
    ")\n",
    "# Création de la figure\n",
    "fig = go.Figure(data=[trace])\n",
    "# Définition du titre et des étiquettes des axes\n",
    "fig.update_layout(\n",
    "    title='Représentation en 3D de Age, Taille et Poids',\n",
    "    scene=dict(\n",
    "        xaxis=dict(title='Âge'),\n",
    "        yaxis=dict(title='Taille (cm)'),\n",
    "        zaxis=dict(title='Poids (kg)')\n",
    "    )\n",
    ")\n",
    "\n",
    "# Affichage de la figure en tant que sortie HTML\n",
    "pyo.plot(fig, filename='3d_plot.html')\n"
   ]
  },
  {
   "cell_type": "markdown",
   "id": "c510a0ff-b33c-4e47-a90a-57e09709a32a",
   "metadata": {},
   "source": [
    "Etude des maxima"
   ]
  },
  {
   "cell_type": "code",
   "execution_count": 18,
   "id": "83ecf954-57bc-44c0-add5-b96e56968a81",
   "metadata": {},
   "outputs": [
    {
     "name": "stdout",
     "output_type": "stream",
     "text": [
      "Age de 11.0 à 71.0 ans\n",
      "Poids de 25.0 à 214.0 kg\n",
      "Poids de 127.0 à 226.0 cm\n"
     ]
    }
   ],
   "source": [
    "max_age = df2['Age'].max()\n",
    "min_age = df2['Age'].min()\n",
    "print(\"Age de %.1f à %.1f ans\" % (min_age, max_age))\n",
    "\n",
    "max_poids = df2['Weight'].max()\n",
    "min_poids = df2['Weight'].min()\n",
    "print(\"Poids de %.1f à %.1f kg\" % (min_poids, max_poids))\n",
    "\n",
    "max_taille = df2['Height'].max()\n",
    "min_taille = df2['Height'].min()\n",
    "print(\"Poids de %.1f à %.1f cm\" % (min_taille, max_taille))"
   ]
  },
  {
   "cell_type": "code",
   "execution_count": 20,
   "id": "fd7233f3-d998-445c-bb07-fc115424cff1",
   "metadata": {},
   "outputs": [
    {
     "name": "stdout",
     "output_type": "stream",
     "text": [
      "Sport de l'athlète le plus grand : Basketball\n",
      "Sport de l'athlète le plus petit : Gymnastics\n",
      "Sport de l'athlète le plus vieux : Equestrianism\n",
      "Sport de l'athlète le plus jeune : Figure Skating\n",
      "Sport de l'athlète le plus lourd : Judo\n",
      "Sport de l'athlète le plus léger : Gymnastics\n"
     ]
    }
   ],
   "source": [
    "# Athlète le plus grand\n",
    "athlete_plus_grand = df2[df2['Height'] == df2['Height'].max()]\n",
    "sport_plus_grand = athlete_plus_grand['Sport'].values[0]\n",
    "print(\"Sport de l'athlète le plus grand :\", sport_plus_grand)\n",
    "# Athlète le plus petit\n",
    "athlete_plus_petit = df2[df2['Height'] == df2['Height'].min()]\n",
    "sport_plus_petit = athlete_plus_petit['Sport'].values[0]\n",
    "print(\"Sport de l'athlète le plus petit :\", sport_plus_petit)\n",
    "# Athlète le plus vieux\n",
    "athlete_plus_vieux = df2[df2['Age'] == df2['Age'].max()]\n",
    "sport_plus_vieux = athlete_plus_vieux['Sport'].values[0]\n",
    "print(\"Sport de l'athlète le plus vieux :\", sport_plus_vieux)\n",
    "# Athlète le plus jeune\n",
    "athlete_plus_jeune = df2[df2['Age'] == df2['Age'].min()]\n",
    "sport_plus_jeune = athlete_plus_jeune['Sport'].values[0]\n",
    "print(\"Sport de l'athlète le plus jeune :\", sport_plus_jeune)\n",
    "# Athlète le plus lourd\n",
    "athlete_plus_lourd = df2[df2['Weight'] == df2['Weight'].max()]\n",
    "sport_plus_lourd = athlete_plus_lourd['Sport'].values[0]\n",
    "print(\"Sport de l'athlète le plus lourd :\", sport_plus_lourd)\n",
    "\n",
    "# Athlète le plus léger\n",
    "athlete_plus_leger = df2[df2['Weight'] == df2['Weight'].min()]\n",
    "sport_plus_leger = athlete_plus_leger['Sport'].values[0]\n",
    "print(\"Sport de l'athlète le plus léger :\", sport_plus_leger)\n",
    "\n",
    "\n"
   ]
  },
  {
   "cell_type": "code",
   "execution_count": 22,
   "id": "b6634fd7-70ff-4e66-b070-209ef33be9b8",
   "metadata": {},
   "outputs": [
    {
     "data": {
      "image/png": "[encoded data removed]",
      "text/plain": [
       "<Figure size 1000x800 with 2 Axes>"
      ]
     },
     "metadata": {},
     "output_type": "display_data"
    }
   ],
   "source": [
    "import matplotlib.pyplot as plt\n",
    "\n",
    "# Filtre pour les athlètes de plus de 60 ans\n",
    "athletes_plus_60 = df2[df2['Age'] > 60]\n",
    "# Compter le nombre d'athlètes par sport\n",
    "count_sports_plus_60 = athletes_plus_60['Sport'].value_counts()\n",
    "\n",
    "# Filtre pour les athlètes de moins de 15 ans\n",
    "athletes_moins_15 = df2[df2['Age'] < 15]\n",
    "# Compter le nombre d'athlètes par sport\n",
    "count_sports_moins_15 = athletes_moins_15['Sport'].value_counts()\n",
    "\n",
    "# Création de la figure\n",
    "fig, axes = plt.subplots(2, 1, figsize=(10, 8))\n",
    "\n",
    "# Plot pour les athlètes de plus de 60 ans\n",
    "count_sports_plus_60.plot(kind='bar', ax=axes[0], color='blue')\n",
    "axes[0].set_title(\"Nombre d'athlètes par sport (plus de 60 ans)\")\n",
    "axes[0].set_ylabel(\"Nombre d'athlètes\")\n",
    "\n",
    "# Plot pour les athlètes de moins de 15 ans\n",
    "count_sports_moins_15.plot(kind='bar', ax=axes[1], color='green')\n",
    "axes[1].set_title(\"Nombre d'athlètes par sport (moins de 15 ans)\")\n",
    "axes[1].set_ylabel(\"Nombre d'athlètes\")\n",
    "\n",
    "# Réglage de l'espacement entre les sous-graphiques\n",
    "plt.tight_layout()\n",
    "\n",
    "# Afficher le plot\n",
    "plt.show()\n"
   ]
  },
  {
   "cell_type": "code",
   "execution_count": 23,
   "id": "8bc267b3-754a-4651-a900-6e09d26b6815",
   "metadata": {},
   "outputs": [
    {
     "name": "stdout",
     "output_type": "stream",
     "text": [
      "Les 3 nations les moins représentées :\n",
      "NOC\n",
      "NFL    1\n",
      "UAR    1\n",
      "YMD    2\n",
      "Name: count, dtype: int64\n"
     ]
    }
   ],
   "source": [
    "# Compter le nombre d'occurrences de chaque nation et les trier par ordre croissant\n",
    "nations_counts = df2['NOC'].value_counts().sort_values()\n",
    "\n",
    "# Afficher les 3 nations les moins représentées\n",
    "print(\"Les 3 nations les moins représentées :\")\n",
    "print(nations_counts.head(3))"
   ]
  },
  {
   "cell_type": "code",
   "execution_count": 24,
   "id": "e30e2cd2-de87-4ffa-bc67-8e2e99a9c79e",
   "metadata": {},
   "outputs": [
    {
     "name": "stdout",
     "output_type": "stream",
     "text": [
      "Canada\n",
      "Syria\n",
      "Yemen\n"
     ]
    }
   ],
   "source": [
    "print(df1.loc[df1['NOC'] == \"NFL\", 'region'].values[0])\n",
    "print(df1.loc[df1['NOC'] == \"UAR\", 'region'].values[0])\n",
    "print(df1.loc[df1['NOC'] == \"YMD\", 'region'].values[0])"
   ]
  },
  {
   "cell_type": "code",
   "execution_count": null,
   "id": "aa308dff-966f-407e-afe1-48a1746dd317",
   "metadata": {},
   "outputs": [],
   "source": []
  }
 ],
 "metadata": {
  "kernelspec": {
   "display_name": "Python 3 (ipykernel)",
   "language": "python",
   "name": "python3"
  },
  "language_info": {
   "codemirror_mode": {
    "name": "ipython",
    "version": 3
   },
   "file_extension": ".py",
   "mimetype": "text/x-python",
   "name": "python",
   "nbconvert_exporter": "python",
   "pygments_lexer": "ipython3",
   "version": "3.12.1"
  }
 },
 "nbformat": 4,
 "nbformat_minor": 5
}
