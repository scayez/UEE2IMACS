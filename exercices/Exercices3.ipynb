{
 "cells": [
  {
   "cell_type": "markdown",
   "id": "8a432438-9c65-46a9-ac7e-943daeb6fac2",
   "metadata": {
    "tags": []
   },
   "source": [
    "***\n",
    "# **<center>Exercices#3</center>**\n",
    "# ***<center>Fonctions</center>***\n",
    "# ***<center>Aperçu sur les Classes</center>***\n",
    "***"
   ]
  },
  {
   "cell_type": "markdown",
   "id": "8e9e6ddd-18b2-463e-bcda-0853cdf69354",
   "metadata": {},
   "source": [
    "## 1- Exercices Fonctions"
   ]
  },
  {
   "cell_type": "markdown",
   "id": "9d77269c-cfd5-423d-96db-599eb9ff70f2",
   "metadata": {},
   "source": [
    "***\n",
    "<u>Exercice 0:</u> *Calcul de moyenne.*   \n",
    "\n",
    "Déclarer une fonction qui permet de calculer une moyenne à partir d'une liste de notes entrée en argument.  \n",
    "Utiliser cette fonction pour calculer les moyennes des élèves suivants: \n",
    "\n",
    "| Prénom  | Notes         |\n",
    "|---------|---------------|\n",
    "| Alice   | 15, 18, 14    |\n",
    "| Bob     | 12, 16, 17, 13|\n",
    "| Charlie | 20, 19        |\n",
    "\n",
    "Le paramètre de la fonction sera une liste de note de la forme:  \n",
    "<pre>[note1, note2, note3]</pre>    \n",
    "L'affichage des moyennes se fera avec 2 chiffres après la virgule.\n",
    "<pre>eleve1_notes = [15, 18, 14]</pre>"
   ]
  },
  {
   "cell_type": "markdown",
   "id": "bd8b2dae-eb25-4e56-9f3b-0175daccfebd",
   "metadata": {},
   "source": [
    "***\n",
    "<u>Exercice 1:</u> *Calcul de moyenne.*   \n",
    "  \n",
    "Déclarer une fonction qui calcule une moyenne à partir de notes qui seront entrées en argument de la fonction et dont le nombre peut varier.      \n",
    "Ecrire une documentation pour la fonction.  \n",
    "Cette fois, on n'utilisera plus de liste mais la fonction sera appelée de la manières suivante:\n",
    "<pre>calcul_moyenne(12, 16, 8, 10, 12, 15...)</pre>"
   ]
  },
  {
   "cell_type": "markdown",
   "id": "97fdee26-f7c7-4964-985a-652b9a86a08c",
   "metadata": {},
   "source": [
    "***\n",
    "<u>Exercice 2: </u> *Calcul de moyenne.*   \n",
    "  \n",
    "Déclarez une fonction nommée calcul_moyenne_etudiants qui accepte un nombre variable d'arguments sous forme de paires clé-valeur avec:\n",
    "-  clé : nom de l'étudiant (une chaîne) \n",
    "-  valeur : une liste de notes (une liste de nombres à virgule flottante).\n",
    "\n",
    "La fonction doit calculer la moyenne pour chaque étudiant en utilisant leurs notes respectives et stocker les moyennes dans un dictionnaire où la clé est le nom de l'étudiant et la valeur est la moyenne calculée.\n",
    "\n",
    "La fonction doit renvoyer ce dictionnaire de moyennes."
   ]
  },
  {
   "cell_type": "markdown",
   "id": "b7fdb1f4-0c09-41a7-bf3d-adbce2f54468",
   "metadata": {
    "tags": []
   },
   "source": [
    "***\n",
    "<u>Exercice 3:</u> *Variables.*    \n",
    "  \n",
    "Que va afficher le code suivant? Pourquoi?"
   ]
  },
  {
   "cell_type": "markdown",
   "id": "9705038e-fdc7-4f02-a15e-dd5c82e673d9",
   "metadata": {
    "tags": []
   },
   "source": [
    "```python\n",
    "a = 4 \n",
    "b = 2 \n",
    "\n",
    "def afficher_variables():\n",
    "    b = 5 \n",
    "    c = 12 \n",
    "    print(a)\n",
    "    print(b)\n",
    "    \n",
    "\n",
    "afficher_variables()\n",
    "print(b)\n",
    "print(c)\n",
    "```"
   ]
  },
  {
   "cell_type": "markdown",
   "id": "c7be7069-9a52-4692-a231-665355cf35ce",
   "metadata": {},
   "source": [
    "***\n",
    "<u>Exercice 4:</u> *Variables.*  \n",
    "  \n",
    "Dans l'exercice précédent, modifier le code pour ne plus avoir d'erreur et réaliser correctement l'ensemble des print. On demande à ce que c reste déclaré dans la fonction."
   ]
  },
  {
   "cell_type": "markdown",
   "id": "3d28b62c-d53e-45bc-8a31-d1998b054d41",
   "metadata": {},
   "source": [
    "***\n",
    "<u>Exercice 5:</u> *import.*   \n",
    "  \n",
    "Dans un fichier que vous nommerez mesure.py , creer une fonction qui calcule:\n",
    "- La vitesse à partir d'une distance et d'un temps\n",
    "- L'énérgie cinétique à partir de la vitesse et la masse\n",
    "\n",
    "\n",
    "\n",
    "En important les fonctions, calculer l'energie cinetique:\n",
    "- d'une fiat 500 de 980kg à 80km/h\n",
    "- d'une Audi E-TRON de 2555kg à 50km/h\n"
   ]
  },
  {
   "cell_type": "markdown",
   "id": "80527205-f7da-4f53-8630-92e9e5d7f1b1",
   "metadata": {
    "tags": []
   },
   "source": [
    "***\n",
    "<u>Exercice 6: </u> *cercles.*\n",
    "\n",
    "Créez un programme qui permet de calculer et d'afficher les caractéristiques d'un cercle.\n",
    "\n",
    "Définissez les fonctions suivantes : \n",
    "\n",
    "  \n",
    "1- <pre>Calculer_perimetre_cercle(rayon)</pre> avec en paramètre le rayon du cercle, qui retourne son périmètre.  \n",
    "2- <pre>Calculer_surface_cercle(rayon)</pre> avec en paramètre le rayon du cercle, qui retourne la surface du disque correspondant.  \n",
    "3- <pre>Afficher_informations_cercle(rayon)</pre> avec en paramètre le rayon du cercle, qui affiche les informations sur le cercle:(rayon ,périmètre et surface).  \n",
    "4- Demandez à l'utilisateur de saisir le rayon du cercle.\n",
    "Utilisez la fonction <pre>afficher_informations_cercle</pre> avec le rayon saisi par l'utilisateur pour afficher les informations du cercle.  \n",
    "Vous utiliserez l'approximation de pi à 3.14.  \n",
    "\n",
    "La sortie sera de la forme:\n",
    "<pre>\n",
    "Saisissez le rayon du cercle : 5\n",
    "Informations sur le cercle :\n",
    "Rayon : 5.00\n",
    "Périmètre : 31.4\n",
    "Surface : 78.5\n",
    "</pre>"
   ]
  },
  {
   "cell_type": "markdown",
   "id": "2c20c9af-f0de-444e-a482-69e356949626",
   "metadata": {},
   "source": [
    "## 2- Exercices Classes"
   ]
  },
  {
   "cell_type": "markdown",
   "id": "4e41ced8-b5ff-4414-a9ba-889a0374ab3e",
   "metadata": {},
   "source": [
    "***\n",
    "<u>Exercice 7:</u> *Cercles.*\n",
    "\n",
    "1- Créer une classe Cercle. La classe devra avoir :\n",
    "- Une méthode __init__ qui initialise le rayon du cercle.\n",
    "- Une méthode calculer_perimetre qui calcule le périmètre du cercle.\n",
    "- Une méthode calculer_surface qui calcule la surface du cercle.\n",
    "- Une méthode afficher_informations qui affiche les informations du cercle(le rayon, le périmètre et la surface).\n",
    "\n",
    "\n",
    "2- Utiliser cette classe pour afficher les informations sur un cercle de rayon 5.\n"
   ]
  },
  {
   "cell_type": "markdown",
   "id": "bfc7ef3b-1900-4d6b-b565-ef1c48d33e4f",
   "metadata": {},
   "source": [
    "***\n",
    "<u>Exercice 8: </u> *cercles.*\n",
    "\n",
    "Reprendre le code précédent et ajouter \"unite\" à l'initialisation de manière à pouvoir choisir l'unité du résultat."
   ]
  },
  {
   "cell_type": "markdown",
   "id": "7e061bad-f8b7-40e4-ab1f-98ed74e7dec3",
   "metadata": {},
   "source": [
    "***\n",
    "<u>Exercice 9: </u> *Moyennes.*\n",
    "\n",
    "Reprendre l'exercice 1 Calcul de moyenne. Pour rappel, il était demandé de :  \n",
    "*Déclarer une fonction qui calcule une moyenne à partir de notes qui seront entrées en argument de la fonction et dont le nombre peut varier.*    \n",
    "\n",
    "Dans cette version, on créera une classe élève, \n",
    "- On initialisera la classe avec nom et notes\n",
    "- On écrira une methode pour calculer la moyenne\n",
    "- On créera des instances 'eleves' pour Alice, Bob et Charlie.   \n",
    "Ces instances seront de la forme:   \n",
    "<pre>Eleve(\"Nom éléve\", liste de notes)</pre>\n"
   ]
  },
  {
   "cell_type": "markdown",
   "id": "7d775bcf-c0e5-4efa-aef6-0ad8982b3bd5",
   "metadata": {},
   "source": [
    "***\n",
    "<u>Exercice 10: </u> *Moyennes.*\n",
    "\n",
    "On veut maintenant ajouter la matière optionnelle choisie par l'élève. Modifier l'initialisation de la classe pour y ajouter l'option.\n"
   ]
  }
 ],
 "metadata": {
  "kernelspec": {
   "display_name": "Python 3 (ipykernel)",
   "language": "python",
   "name": "python3"
  },
  "language_info": {
   "codemirror_mode": {
    "name": "ipython",
    "version": 3
   },
   "file_extension": ".py",
   "mimetype": "text/x-python",
   "name": "python",
   "nbconvert_exporter": "python",
   "pygments_lexer": "ipython3",
   "version": "3.12.1"
  }
 },
 "nbformat": 4,
 "nbformat_minor": 5
}
