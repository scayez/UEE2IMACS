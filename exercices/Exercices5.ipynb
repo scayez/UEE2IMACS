{
 "cells": [
  {
   "cell_type": "markdown",
   "id": "c8e0772b-1dde-4e39-a715-9439735b0bd1",
   "metadata": {},
   "source": [
    "***\n",
    "# **<center>Exercices#5</center>**\n",
    "# ***<center>Numpy</center>***\n",
    "***"
   ]
  },
  {
   "cell_type": "markdown",
   "id": "b1027e2e-6e9c-42cc-a187-d92f8fd2547f",
   "metadata": {},
   "source": [
    "***\n",
    "<u>Exercice 1:</u> *Déclaration et valeurs.*  \n",
    "  \n",
    "1- Déclarer un tableau numpy de 3 colonnes et 4 lignes, rempli de valeurs entières aléatoires entre 0 et 50  \n",
    "2- Convertir les éléments de ce tableau en nombres flottants codés sur 16 bits  \n",
    "3- Afficher les informations de forme et de dimensions du tableau  \n",
    "4- Multiplier les valeurs de éléments du tableau par 2  \n",
    "5- Donner la moyenne des valeurs des éléments du tableau et leur écart type  \n",
    "6- Changer les dimensions du tableau pour avoir 2 lignes et 6 colonnes   "
   ]
  },
  {
   "cell_type": "markdown",
   "id": "e4aec2f3-6a2c-4d0d-b485-0c912283d410",
   "metadata": {},
   "source": [
    "***\n",
    "<u>Exercice 2:</u> *Indexation et conditions*  \n",
    "  \n",
    "1- Déclarer un tableau numpy de 4 colonnes et 4 lignes, rempli de valeurs décimales aléatoires entre 0 et 100  \n",
    "2- afficher le tableau avec 1 décimale  \n",
    "3- Extraire les valeurs de la première ligne du tableau et les assigner à une nouvelle variable appelée \"sous_tableau\". Afficher le contenu du sous-tableau extrait.  \n",
    "4- Même question pour la dernière colonne du tableau\n",
    "<div style=\"background-color: lightgrey; \">\n",
    "5- Calculer la somme des éléments de chaque colonne du tableau d'origine</br>    \n",
    "6- Donner le numéro de ligne et de colonne de chaque élement dont la valeur est supérieure à 50  \n",
    "</div>"
   ]
  },
  {
   "cell_type": "markdown",
   "id": "61bc001c-d8e5-4d1d-9686-e80575af6c9d",
   "metadata": {
    "tags": []
   },
   "source": [
    "***\n",
    "<u>Exercice 3:</u> *Images*   \n",
    "  \n",
    "1- Importer et tracer l'image du fichier <pre>fichier_exercices_enonces/5_numpy/Numpy_ex2_img.jpg</pre>  Quelles information nous donnent les dimension du tableau numpy?  \n",
    "2- Afficher les 3 canaux séparement. On fera 3 images representant chacune un canal de couleur.  \n",
    "3- Faire une rotation de l'image pour que les poissons soient à l'horizontale. Chercher la fonction numpy appropriée.   \n",
    "4- Tracer un rectangle de couleur rouge sur l'image  \n",
    "- Angle supérieur gauche : x1, y1 = 30, 20   \n",
    "- Angle inférieur droit : x2, y2 = 580, 630  \n",
    "  \n",
    "5- Decouper l'image pour obtenir l'interieur du rectangle \n",
    "<div style=\"background-color: lightgrey; \">\n",
    "6- Faire l'histogramme de la nouvelle image. Il faudra convertir l'image en 3 tableaux 1D, un pour chaque canal. <br>  \n",
    "7- Convertir l'image en niveaux de gris. Une methode est de faire la moyenne des 3 canaux.<br>   \n",
    "8- Faire un seuillage de l'image. Un seuillage consiste à fixer un seuil s. Tout pixel ayant une intensité supérieure ou égale au seuil s sont mis  à la valeur 255 et les autres à la valeur 0.    \n",
    "</div>"
   ]
  },
  {
   "cell_type": "markdown",
   "id": "bbade65d-45f2-4d86-a8c3-7edfbd289fc3",
   "metadata": {},
   "source": [
    "***\n",
    "<div style=\"background-color: lightgrey;\">\n",
    "\n",
    "<u>Exercice sup: </u> *interpolation et dérivée*\n",
    "  \n",
    "1- créer un tableau numpy appelé X de dimension 1, contenant des valeurs croissantes de 1 à 10 par pas de 1.  \n",
    "2- créer un tableau numpy appelé Y de dimension 1, contenant le même nombre d'éléments que X avec des valeurs aléatoires entre 0 et 10.  \n",
    "3- Représenter Y en fonction de X sur un graphique.  \n",
    "4- Définir un tableau Y2 contenant les valeurs de Y pour X2 = 0.5, X = 1.5, ....X = 9.5 avec une interpolation.  \n",
    "5- Représenter les points de coordonnées X2,Y2 sur le  graphique avec des marqueurs de couleurs et forme differents de X,Y.  \n",
    "6- Fusionner d'abord les tableaux X et X2 puis Y et Y2, c'est à dire créer un tableau dont les indices pairs seront les valeurs de X et les indices impairs ceux de X2. Idem pour Y et Y2.  \n",
    "On commencera par créer un tableau vide avec une dimension  pouvant contenir les valeurs de X et X2, que l'on remplira ensuite.\n",
    "7- Vérifier en faisant le graphique des tableaux fusionnés.  \n",
    "8- Tracer la dérivée des Y fusionnés par rapport aux X fusionnés. Représenter la derivée nulle par une ligne horizontale à y = 0  \n",
    "9- Donner l'ordonnée du point 0.25 par une interpolation.  \n",
    "</div>"
   ]
  }
 ],
 "metadata": {
  "kernelspec": {
   "display_name": "Python 3 (ipykernel)",
   "language": "python",
   "name": "python3"
  },
  "language_info": {
   "codemirror_mode": {
    "name": "ipython",
    "version": 3
   },
   "file_extension": ".py",
   "mimetype": "text/x-python",
   "name": "python",
   "nbconvert_exporter": "python",
   "pygments_lexer": "ipython3",
   "version": "3.12.1"
  }
 },
 "nbformat": 4,
 "nbformat_minor": 5
}
