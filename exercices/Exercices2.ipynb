{
 "cells": [
  {
   "cell_type": "markdown",
   "id": "a953a547-8e61-4404-aa73-61af6ac56702",
   "metadata": {},
   "source": [
    "***\n",
    "# **<center>Exercices#2</center>**\n",
    "# ***<center>Structures de Données</center>***\n",
    "# ***<center>Structures Boucles</center>***\n",
    "# ***<center>Gestion des erreurs</center>***\n",
    "***"
   ]
  },
  {
   "cell_type": "markdown",
   "id": "58677869-544c-41e0-bc72-c102f2147b23",
   "metadata": {},
   "source": [
    "## 1- Exercices Structures de données"
   ]
  },
  {
   "cell_type": "markdown",
   "id": "281f3627-ecba-4c8e-9f82-7ed58a744f4b",
   "metadata": {
    "tags": []
   },
   "source": [
    "***\n",
    "<u>Exercice 0: </u> *Dernier caractère.*  \n",
    "\n",
    "Écrivez un programme qui demande à l'utilisateur d'entrer une chaîne de caractères et affiche le dernier caractère de cette chaîne."
   ]
  },
  {
   "cell_type": "markdown",
   "id": "9df9d337-c962-4ce4-a1a7-97c585d91f2d",
   "metadata": {},
   "source": [
    "***\n",
    "<u>Exercice 1: </u> *Selectionner les éléments*  \n",
    "  \n",
    "Soit la déclaration suivante:  \n",
    "<pre>X =(11, 22, 33, 44, 55, 66) </pre>\n",
    "1 - Quel est le type de X? Ecrire la ligne de code qui permet de le vérifier  \n",
    "2 - Creer une structure Y de même type que X contenant les 3 denières valeurs de X  \n",
    "3 - On veut maintenant remplacer la dernière valeur de Y par 33. Comment procéder?  "
   ]
  },
  {
   "cell_type": "markdown",
   "id": "d559e1cf-7d48-4a02-beb8-b71dfebf504c",
   "metadata": {
    "tags": []
   },
   "source": [
    "***\n",
    "<u>Exercice 2:</u> *Slices.* \n",
    "  \n",
    "Que va afficher le code suivant et pourquoi?"
   ]
  },
  {
   "cell_type": "markdown",
   "id": "1b594e12-332a-4cf8-8033-e8411cc96102",
   "metadata": {},
   "source": [
    "```python\n",
    "A = [0,1,2,3,4,5,6,7,8,10]\n",
    "print(A[0:9:1])\n",
    "print(A[::-1])\n",
    "print(A[2:8])\n",
    "print(A[8:2])\n",
    "print(A[2:8:3])\n",
    "print(A[8:2:-3])\n",
    "```"
   ]
  },
  {
   "cell_type": "markdown",
   "id": "de32a133-3964-4cda-858c-748bde93be11",
   "metadata": {},
   "source": [
    "***\n",
    "<u>Exercice 3:</u> *Remplir une liste.*  \n",
    "  \n",
    "Ecrire un programme qui demande à l'utilisateur de saisir une chaine de caractère et ajouter cette chaîne à une liste. La liste finale aura 3 éléments."
   ]
  },
  {
   "cell_type": "markdown",
   "id": "a131795d-8977-48c0-a35c-6e0eabd4a70b",
   "metadata": {},
   "source": [
    "## 2- Exercices Structures boucles"
   ]
  },
  {
   "cell_type": "markdown",
   "id": "c93c6eec-e4e5-40b3-97c6-e0ab20c0ac4d",
   "metadata": {},
   "source": [
    "***\n",
    "<u>Exercice 4:</u> *Remplir une liste.*  \n",
    "\n",
    "Ecrire un programme qui demande à l'utilisateur de saisir une chaine de caractères et ajouter ce caractère à une liste. La liste finale aura 3 éléments.   \n",
    "Faire 2 versions du code, l'une avec une boucle for, l'autre avec une boucle while"
   ]
  },
  {
   "cell_type": "markdown",
   "id": "98222f34-4561-46c6-9bfc-819a283dda77",
   "metadata": {},
   "source": [
    "***\n",
    "<u>Exercice 5: </u> *Nombre premiers.*  \n",
    "  \n",
    "Un nombre est premier s'il est divisible uniquement par 1 et par lui même. Ainsi, on peut dire que le nombre k est premier s'il n'est divisible par aucun des nombres compris entre 2 et k-1.  \n",
    "Ecrire un programme qui définit les nombres premiers de entre 1 et 100."
   ]
  },
  {
   "cell_type": "markdown",
   "id": "2d5b93a8-86b9-45af-9a83-ba88ad2fa6c7",
   "metadata": {},
   "source": [
    "***\n",
    "<u>Exercice 6:</u> *Tables de multiplications.*  \n",
    "\n",
    "Écrivez un programme qui affiche les tables de multiplication de 1 à 10. Le programme doit utiliser des boucles for imbriquées pour parcourir les nombres de 1 à 10 (inclus).  \n",
    "L'affichage sera de la forme:  "
   ]
  },
  {
   "cell_type": "markdown",
   "id": "1fcff6a9-2374-4bac-aa4a-cab41c4154a1",
   "metadata": {},
   "source": [
    "<table>\n",
    "  <tr>\n",
    "    <td>1</td>\n",
    "    <td>2</td>\n",
    "    <td>3</td>\n",
    "    <td>4</td>\n",
    "    <td>5</td>\n",
    "    <td>6</td>\n",
    "    <td>7</td>\n",
    "    <td>8</td>\n",
    "    <td>9</td>\n",
    "    <td>10</td>\n",
    "  </tr>\n",
    "  <tr>\n",
    "    <td>2</td>\n",
    "    <td>4</td>\n",
    "    <td>6</td>\n",
    "    <td>8</td>\n",
    "    <td>10</td>\n",
    "    <td>12</td>\n",
    "    <td>14</td>\n",
    "    <td>16</td>\n",
    "    <td>18</td>\n",
    "    <td>20</td>\n",
    "  </tr>\n",
    "  <tr>\n",
    "    <td>3</td>\n",
    "    <td>6</td>\n",
    "    <td>9</td>\n",
    "    <td>12</td>\n",
    "    <td>15</td>\n",
    "    <td>18</td>\n",
    "    <td>21</td>\n",
    "    <td>24</td>\n",
    "    <td>27</td>\n",
    "    <td>30</td>\n",
    "  </tr>\n",
    "  <tr>\n",
    "    <td>4</td>\n",
    "    <td>8</td>\n",
    "    <td>12</td>\n",
    "    <td>16</td>\n",
    "    <td>20</td>\n",
    "    <td>24</td>\n",
    "    <td>28</td>\n",
    "    <td>32</td>\n",
    "    <td>36</td>\n",
    "    <td>40</td>\n",
    "  </tr>\n",
    "  <tr>\n",
    "    <td>5</td>\n",
    "    <td>10</td>\n",
    "    <td>15</td>\n",
    "    <td>20</td>\n",
    "    <td>25</td>\n",
    "    <td>30</td>\n",
    "    <td>35</td>\n",
    "    <td>40</td>\n",
    "    <td>45</td>\n",
    "    <td>50</td>\n",
    "  </tr>\n",
    "  <tr>\n",
    "    <td>6</td>\n",
    "    <td>12</td>\n",
    "    <td>18</td>\n",
    "    <td>24</td>\n",
    "    <td>30</td>\n",
    "    <td>36</td>\n",
    "    <td>42</td>\n",
    "    <td>48</td>\n",
    "    <td>54</td>\n",
    "    <td>60</td>\n",
    "  </tr>\n",
    "  <tr>\n",
    "    <td>7</td>\n",
    "    <td>14</td>\n",
    "    <td>21</td>\n",
    "    <td>28</td>\n",
    "    <td>35</td>\n",
    "    <td>42</td>\n",
    "    <td>49</td>\n",
    "    <td>56</td>\n",
    "    <td>63</td>\n",
    "    <td>70</td>\n",
    "  </tr>\n",
    "  <tr>\n",
    "    <td>8</td>\n",
    "    <td>16</td>\n",
    "    <td>24</td>\n",
    "    <td>32</td>\n",
    "    <td>40</td>\n",
    "    <td>48</td>\n",
    "    <td>56</td>\n",
    "    <td>64</td>\n",
    "    <td>72</td>\n",
    "    <td>80</td>\n",
    "  </tr>\n",
    "  <tr>\n",
    "    <td>9</td>\n",
    "    <td>18</td>\n",
    "    <td>27</td>\n",
    "    <td>36</td>\n",
    "    <td>45</td>\n",
    "    <td>54</td>\n",
    "    <td>63</td>\n",
    "    <td>72</td>\n",
    "    <td>81</td>\n",
    "    <td>90</td>\n",
    "  </tr>\n",
    "  <tr>\n",
    "    <td>10</td>\n",
    "    <td>20</td>\n",
    "    <td>30</td>\n",
    "    <td>40</td>\n",
    "    <td>50</td>\n",
    "    <td>60</td>\n",
    "    <td>70</td>\n",
    "    <td>80</td>\n",
    "    <td>90</td>\n",
    "    <td>100</td>\n",
    "  </tr>\n",
    "</table>\n"
   ]
  },
  {
   "cell_type": "markdown",
   "id": "abe4d617-fc8c-44b9-8474-668dccc411b0",
   "metadata": {},
   "source": [
    "Pour éviter un retour à la ligne apres chaque print on pourra utiliser la syntaxe **print(XX, end=\"\\t\")**\n",
    "Pour forcer les retours à la ligne, on pourra utiliser la syntaxe **print(\"\\n\")**"
   ]
  },
  {
   "cell_type": "markdown",
   "id": "9011ed48-10fd-43bb-a2ea-e6dc39d49720",
   "metadata": {},
   "source": [
    "## 3- Exercices Gestion des erreurs"
   ]
  },
  {
   "cell_type": "markdown",
   "id": "a7901c23-f506-4974-8d1e-2674f815e82e",
   "metadata": {},
   "source": [
    "***\n",
    "<u>Exercice 7: </u> *Gestion erreurs.* \n",
    "\n",
    "Écrivez un programme qui demande à l'utilisateur d'entrer deux nombres entiers. Utilisez la gestion des erreurs pour vous assurer que l'utilisateur entre effectivement des nombres entiers.   \n",
    "1-  Si l'utilisateur entre une valeur invalide, affichez un message d'erreur avec print et redemandez-lui de saisir les nombres. Répétez ce processus jusqu'à ce que l'utilisateur entre des nombres valides. Une fois que l'utilisateur entre des nombres valides, affichez leur somme.  \n",
    "2- Même question en utilisant un message d'erreur python personnalisé"
   ]
  },
  {
   "cell_type": "markdown",
   "id": "a041da9b-c4ea-45c1-8437-c7373b751d16",
   "metadata": {},
   "source": [
    "## 4- Exercices Synthèse"
   ]
  },
  {
   "cell_type": "markdown",
   "id": "65ec72ff-fb95-4ec7-a296-eea8426b0a38",
   "metadata": {
    "tags": []
   },
   "source": [
    "***\n",
    "<u>Exercice 8: </u> *Tri croissant.*  \n",
    "\n",
    "Écrivez un programme qui demande à l'utilisateur d'entrer une chaîne de caractères.   \n",
    "1- Verifier si cette chaine contient des chiffres.   \n",
    "2- Si cette chaine contient des chiffres vérifier si elle contient des caractères qui ne sont pas des chiffres.  \n",
    "3- Si elle contient des caractères qui ne sont pas des chiffres, les supprimer.  \n",
    "4- Classer ces chiffres par ordre décroissant.  \n"
   ]
  },
  {
   "cell_type": "markdown",
   "id": "c43093ce-100a-4883-a9e5-a60f9bd49c80",
   "metadata": {},
   "source": [
    "***\n",
    "<u>Exercice 9 : Liste de courses.</u>\n",
    "\n",
    "Écrire un programme qui permet à un utilisateur de gérer une liste de courses. Le programme devrait permettre à l'utilisateur d'ajouter des articles, de les supprimer, de les afficher, et de vérifier si un article est présent dans la liste.\n",
    "\n",
    "*Les étapes seront :*\n",
    "\n",
    "- *Partie 1 : Création du Menu*\n",
    "\n",
    "  Le menu doit commencer par un message d'accueil et permettre à l'utilisateur de choisir :\n",
    "\n",
    "  - Avec la touche 1 : Ajouter des articles à la liste.\n",
    "  - Avec la touche 2 : Supprimer des articles de la liste.\n",
    "  - Avec la touche 3 : Afficher la liste de courses.\n",
    "  - Avec la touche 4 : Vérifier si un article est dans la liste.\n",
    "  - Avec la touche 5 : Quitter le programme.\n",
    "</p>\n",
    "\n",
    "- *Partie 2 : Ajout d'articles*\n",
    "\n",
    "  Quand l'utilisateur choisit 'Ajouter des articles à la liste':\n",
    "  - Demandez lui d'entrer le nombre d'articles \n",
    "  - Ajouter les articles saisis par l'utilisateur\n",
    "  \n",
    "  \n",
    "  Quand l'utilisateur choisit 'Afficher la liste de courses': Afficher la liste. Si elle est vide, afficher le message 'La liste est vide'\n",
    "  \n",
    "- *Partie 3 : Suppression d'articles*  \n",
    "\n",
    "  Implementer la partie 'Supprimer des articles de la liste'\n",
    "  \n",
    "- *Partie 4 : Vérification d'articles*   \n",
    "\n",
    "  Implementer la partie 'Vérifier si un article est dans la liste.'\n",
    "  \n",
    "- *Partie 5 : Vérification d'articles*   \n",
    "\n",
    "  Implementer la partie 'Quitter le programme.'"
   ]
  }
 ],
 "metadata": {
  "kernelspec": {
   "display_name": "Python 3 (ipykernel)",
   "language": "python",
   "name": "python3"
  },
  "language_info": {
   "codemirror_mode": {
    "name": "ipython",
    "version": 3
   },
   "file_extension": ".py",
   "mimetype": "text/x-python",
   "name": "python",
   "nbconvert_exporter": "python",
   "pygments_lexer": "ipython3",
   "version": "3.11.7"
  }
 },
 "nbformat": 4,
 "nbformat_minor": 5
}
