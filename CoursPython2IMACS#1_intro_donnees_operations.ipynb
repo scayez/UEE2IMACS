{
 "cells": [
  {
   "cell_type": "markdown",
   "id": "9c8616b9-1abf-4d56-bd77-45c6d243358d",
   "metadata": {},
   "source": [
    "***\n",
    "# **<center>COURS PYTHON 2IMACS #1</center>**\n",
    "# ***<center>Introduction</center>***\n",
    "# ***<center>Types de Données et Operations</center>***\n",
    "# ***<center>Structures Conditionnelles</center>***\n",
    "***"
   ]
  },
  {
   "cell_type": "markdown",
   "id": "5efe310f-b72a-4bb5-b9f8-648e20e57a77",
   "metadata": {},
   "source": [
    "# 1-1 Déroulement de l'enseignement\n",
    "\n",
    "\n",
    "Au total 8 Séances de  3h45 (3 x 1h15)\n",
    "\n",
    "- Les 5 premières séances seront des alternances de cours et d'exercices sur machine\n",
    "- Les 3 dernières seront dédiées à une évaluation de type QCM (25% de la note) et à un projet (75% de la note)\n"
   ]
  },
  {
   "cell_type": "markdown",
   "id": "d1500e5f-f542-41e8-954e-efbfc1965df2",
   "metadata": {},
   "source": [
    "# 1-2 Introduction au langage Python"
   ]
  },
  {
   "cell_type": "markdown",
   "id": "02aa176d-ee43-4b39-8723-ebd394529d3b",
   "metadata": {},
   "source": [
    "Python a été créé par Guido van Rossum, un développeur hollandais, et son équipe bénévole. Le développement de Python a commencé en décembre 1989 et la première version publique a été publiée en février 1991.   \n",
    "Le nom est inspiré par la série télévisée britannique \"Monty Python's Flying Circus\". Python a été conçu dans le but de créer un langage de programmation qui soit facile à lire, à apprendre et à utiliser.   \n",
    "Guido van Rossum a travaillé successivement chez Google, Dropbox et Microsoft, mais le développement du langage Python s'est poursuivi en parallèle, en tant que projet bénévole. Python est distribué sous une licence open source.  \n",
    "\n",
    "Python est un langage de haut niveau, ce qui signifie que sa syntaxe est plus proche du \"langage humain\" que du \"langage machine\" comme le serait un langage de bas niveau, comme l'asssembleur par exemple."
   ]
  },
  {
   "cell_type": "markdown",
   "id": "232abf06-93a9-4c28-8a6f-6469ea4e4ae9",
   "metadata": {},
   "source": [
    "### Intérêt d'apprendre Python pour les physiciens et les électroniciens\n",
    "- Apprentissage relativement simple (en comparaison à d'autres langages)  \n",
    "- Multiplateforme (le code sera utilisable sous Windows, Linux, Mac...)\n",
    "- Large communauté (nombreuses bibliothèques et ressources en ligne)\n",
    "- Dans nos métiers, nous avons de grandes quantités de données experimentales à exploiter, Python est adapté à ce type de tâches.\n",
    "- C'est le langage de référence pour l'intelligence artificielle\n",
    "- Open source, permet souvent de s'affranchir de logiciels propriétaires coûteux\n",
    "- Polyvalent (Les utilisations vont de la science des données, au developpement web, developpement logiciel...)\n",
    "\n",
    "### Python est un langage interprété (et non compilé)\n",
    "- Le programme sera \"traduit\" pour être exécuté par la machine à chaque lancement.\n",
    "- Avantages : rapidité de développement et portabilité (sans compilation, peu importe l'OS)\n",
    "- Défauts : plus lent à l'exécution et moins pratique à déployer\n",
    "- Possibilité d'appeler du code écrit dans d'autres languages (script ou bibliothèque)\n",
    "\n",
    "### Ressources :\n",
    "- [Documentation officielle Python](https://docs.python.org/fr/3/)\n",
    "- Livres à la Bib ou B.U.  \n",
    "    -  Apprenez à programmer en Python (Le Goff)\n",
    "    -  Python pour la data science : analyser vos données par la pratique avec NumPy, Pandas, Matplotlib et Seaborn (Velt)\n",
    "    -  Python pour la data science (Jake VanderPlas)\n",
    "    -  ...\n",
    "- Forums ([Stack Overflow](https://stackoverflow.com/) ou autre)\n",
    "- [GitHub](https://github.com/)\n",
    "- Outils d'IA Générative\n",
    "\n",
    "### Version de  Python :\n",
    "\n",
    "- La version actuelle est python3. Testons la version installée sur nos machines:"
   ]
  },
  {
   "cell_type": "code",
   "execution_count": 1,
   "id": "8d32dbf1-988e-4558-87ba-c33dcda93ecc",
   "metadata": {
    "tags": []
   },
   "outputs": [
    {
     "name": "stdout",
     "output_type": "stream",
     "text": [
      "Python 3.12.1\n"
     ]
    }
   ],
   "source": [
    "!python --version"
   ]
  },
  {
   "cell_type": "markdown",
   "id": "9d82b9b2-6bf5-4edb-9e64-c8b762e90a88",
   "metadata": {},
   "source": [
    "# 1-3 Types de données et opérations"
   ]
  },
  {
   "cell_type": "markdown",
   "id": "a7d93616-fbfe-4dba-afb7-65a529aea120",
   "metadata": {},
   "source": [
    "## 1-3-1 Déclaration de variables"
   ]
  },
  {
   "cell_type": "markdown",
   "id": "3babfcc3-a269-42ca-9f30-b40c842721ce",
   "metadata": {},
   "source": [
    "Les variables sont des \"conteneurs\" qui permettent de stocker des valeurs.\n",
    "Une variable peut contenir différents types de données, ici des nombres. Python a un typage dynamique, ce qui signifie que l'on a pas besoin de déclarer explicitement son type. Il sera défini à partir de la valeur que l'on va affecter à la variable."
   ]
  },
  {
   "cell_type": "code",
   "execution_count": 2,
   "id": "269ec34c-e72f-4a85-9b06-e107d0490119",
   "metadata": {},
   "outputs": [
    {
     "name": "stdout",
     "output_type": "stream",
     "text": [
      "58\n",
      "89\n",
      "22\n"
     ]
    }
   ],
   "source": [
    "a = 58\n",
    "b,c = 89,22\n",
    "# Afficher les valeurs des variables\n",
    "print(a)\n",
    "print(b)\n",
    "print(c)"
   ]
  },
  {
   "cell_type": "markdown",
   "id": "92d0c224-f109-45b1-adc0-759fad0c4234",
   "metadata": {},
   "source": [
    "Nous avons utilisé **print()** pour afficher les valeurs de ces variables, on peut aussi afficher du texte avec des **\" \"**.   \n",
    "Attention: si on affiche plusieurs éléments (par exemple du texte et des variables), il faut les séparer avec des virgules."
   ]
  },
  {
   "cell_type": "code",
   "execution_count": 3,
   "id": "02826870-a4a1-48f5-b5ab-a7cd9be91940",
   "metadata": {
    "tags": []
   },
   "outputs": [
    {
     "name": "stdout",
     "output_type": "stream",
     "text": [
      "a =  58\n",
      "b =  89\n",
      "c =  22\n"
     ]
    }
   ],
   "source": [
    "print('a = ',a)\n",
    "print('b = ',b)\n",
    "print('c = ',c)"
   ]
  },
  {
   "cell_type": "markdown",
   "id": "dfe2219b-11be-442b-a05b-a1f0de1c5e3f",
   "metadata": {},
   "source": [
    "## 1-3-2 Type de variable entier ou flottant"
   ]
  },
  {
   "cell_type": "markdown",
   "id": "f066d1f4-7bda-4e9c-b7a1-f51962494cf2",
   "metadata": {},
   "source": [
    "Déclarer un entier (int: integer):"
   ]
  },
  {
   "cell_type": "code",
   "execution_count": 4,
   "id": "c86b0eb8-5aaa-4d16-855f-67e7f1ed09d7",
   "metadata": {},
   "outputs": [],
   "source": [
    "d = 58"
   ]
  },
  {
   "cell_type": "markdown",
   "id": "89ea2f7a-32e6-43ba-8952-65f109c9f769",
   "metadata": {},
   "source": [
    "Déclarer un nombre à virgule (float) :"
   ]
  },
  {
   "cell_type": "code",
   "execution_count": 5,
   "id": "c4d044e9-21b5-4958-9840-6fe507607c8f",
   "metadata": {
    "tags": []
   },
   "outputs": [],
   "source": [
    "e = 108.89"
   ]
  },
  {
   "cell_type": "markdown",
   "id": "36dcf2ea-344f-446d-b59b-3380216a55be",
   "metadata": {},
   "source": [
    "Vérifier les types:"
   ]
  },
  {
   "cell_type": "code",
   "execution_count": 6,
   "id": "bdb300f3-4448-4d21-b83b-df130277e601",
   "metadata": {
    "tags": []
   },
   "outputs": [
    {
     "name": "stdout",
     "output_type": "stream",
     "text": [
      "d:  <class 'int'>\n",
      "e: <class 'float'>\n"
     ]
    }
   ],
   "source": [
    "print('d: ',type(d))\n",
    "print('e:',type(e))"
   ]
  },
  {
   "cell_type": "markdown",
   "id": "b22047a1-e0ea-423a-8ca6-6e8f90d380f5",
   "metadata": {},
   "source": [
    "Faire une opération:"
   ]
  },
  {
   "cell_type": "code",
   "execution_count": 7,
   "id": "4883ceb1-e42c-44cd-966b-3338c3d1a7cd",
   "metadata": {},
   "outputs": [
    {
     "name": "stdout",
     "output_type": "stream",
     "text": [
      "166.89\n"
     ]
    }
   ],
   "source": [
    "f = d + e\n",
    "print(f)"
   ]
  },
  {
   "cell_type": "markdown",
   "id": "1fd33eb3-3f71-4d74-b069-84dac0ca0f10",
   "metadata": {},
   "source": [
    "*Remarque: On a additionné 2 types differents un int et un float. En python les variables changent facilement de type, c'est pratique mais ça peut\n",
    "vite amener à faire des erreurs!*"
   ]
  },
  {
   "cell_type": "markdown",
   "id": "24f36964-77b1-4b45-ba38-b24191ad629f",
   "metadata": {},
   "source": [
    "Parfois, il peut être nécessaire de changer le type d'une variable pour effectuer des opérations spécifiques. On peut rentrer la même valeur avec un autre format."
   ]
  },
  {
   "cell_type": "code",
   "execution_count": 8,
   "id": "0e30bba3-e0c6-4425-b6ed-cd68515c8ffb",
   "metadata": {},
   "outputs": [
    {
     "name": "stdout",
     "output_type": "stream",
     "text": [
      "déclaration sous la forme l =89, type   : <class 'int'>\n",
      "déclaration sous la forme l =89.0, type : <class 'float'>\n"
     ]
    }
   ],
   "source": [
    "# Forcer un changement de type:\n",
    "l = 89\n",
    "print('déclaration sous la forme l =89, type   :',type(l))\n",
    "l = 89.0\n",
    "print('déclaration sous la forme l =89.0, type :',type(l))"
   ]
  },
  {
   "cell_type": "markdown",
   "id": "80750d98-1665-4116-8340-d81e1aaad960",
   "metadata": {},
   "source": [
    "Ou forcer un changement de type, comme ici changer le type en  entier (integer) avec **int(variable)** . De la même manière on peut utiliser **float(variable)** pour une conversion en nombre à virgule."
   ]
  },
  {
   "cell_type": "code",
   "execution_count": 9,
   "id": "e4e467a1-a7ec-4455-8ef8-a72e5f494839",
   "metadata": {},
   "outputs": [
    {
     "name": "stdout",
     "output_type": "stream",
     "text": [
      "type avant conversion : <class 'float'>\n",
      "valeur avant conversion : 87.8\n",
      "type après conversion <class 'int'>\n",
      "valeur après conversion : 87\n"
     ]
    }
   ],
   "source": [
    "n = 87.8\n",
    "print('type avant conversion :',type(n))\n",
    "print('valeur avant conversion :',n)\n",
    "o = int(n)\n",
    "print('type après conversion',type(o))\n",
    "print('valeur après conversion :',o)\n"
   ]
  },
  {
   "cell_type": "markdown",
   "id": "152c4512-bc61-4f4d-a339-d8b1739ddb12",
   "metadata": {},
   "source": [
    "Sur les int et float, on a accès aux differentes opérations d'addition, soustraction, multiplication, division avec + - * / "
   ]
  },
  {
   "cell_type": "markdown",
   "id": "37af8ccf-ee7d-4623-8ee5-2baa92105717",
   "metadata": {},
   "source": [
    "La division offre 3 possibilité:\n",
    "- division décimale\n",
    "- division entière\n",
    "- division modulo"
   ]
  },
  {
   "cell_type": "code",
   "execution_count": 10,
   "id": "71de9b32-d46a-484e-8a7b-b0ff61a427d2",
   "metadata": {},
   "outputs": [
    {
     "name": "stdout",
     "output_type": "stream",
     "text": [
      "division g/h = :  3.3333333333333335\n",
      "division entiere g//h = :  3\n",
      "division modulo g//h = :  1 ici on trouve le reste de la division (très utile pour vérifier la parité par exemple)\n"
     ]
    }
   ],
   "source": [
    "g = 10\n",
    "h = 3\n",
    "i = g / h\n",
    "print('division g/h = : ',i)\n",
    "\n",
    "j = g // h\n",
    "print('division entiere g//h = : ',j)\n",
    "\n",
    "k = g % h\n",
    "print('division modulo g//h = : ',k,\\\n",
    "      'ici on trouve le reste de la division',\n",
    "      '(très utile pour vérifier la parité par exemple)')\n"
   ]
  },
  {
   "cell_type": "markdown",
   "id": "d2166d4a-6d2a-4c64-b688-397aecadd77d",
   "metadata": {},
   "source": [
    "## 1-3-3 Type de variable chaîne de caractère"
   ]
  },
  {
   "cell_type": "markdown",
   "id": "ffb18d70-9880-41c3-9000-077f369d8223",
   "metadata": {},
   "source": [
    "Une chaine de caractère est une séquence de caractères qui peuvent être des lettres, chiffres ou symboles.  Pour la déclarer, on utilisera des guillemets."
   ]
  },
  {
   "cell_type": "code",
   "execution_count": 11,
   "id": "64d0c8a3-db6c-4850-8245-b65950a5488b",
   "metadata": {},
   "outputs": [],
   "source": [
    "ma_chaine1 = \"Monty\" # Guillemets doubles\n",
    "ma_chaine2 = 'Python' # Ou guillemets simples"
   ]
  },
  {
   "cell_type": "code",
   "execution_count": 12,
   "id": "dc904c60-3d2e-452b-a077-bab4688dd6f5",
   "metadata": {
    "tags": []
   },
   "outputs": [
    {
     "name": "stdout",
     "output_type": "stream",
     "text": [
      "<class 'str'>\n",
      "<class 'str'>\n",
      "Monty\n",
      "Python\n"
     ]
    }
   ],
   "source": [
    "print(type(ma_chaine1))\n",
    "print(type(ma_chaine2))\n",
    "print(ma_chaine1)\n",
    "print(ma_chaine2)"
   ]
  },
  {
   "cell_type": "markdown",
   "id": "76545e6f-9f5f-4350-8c16-0b2938bda668",
   "metadata": {},
   "source": [
    "Les opérations que l'on pourra réaliser sur les chaines seront differentes de celles que l'on peut faire sur des int ou des floats."
   ]
  },
  {
   "cell_type": "code",
   "execution_count": 13,
   "id": "8a2eb268-67e3-4b04-8204-1e4569fd5e75",
   "metadata": {
    "tags": []
   },
   "outputs": [
    {
     "name": "stdout",
     "output_type": "stream",
     "text": [
      "1+2 =  12\n"
     ]
    }
   ],
   "source": [
    "valeur_1 = '1'\n",
    "valeur_2 = '2'\n",
    "somme = valeur_1 + valeur_2\n",
    "print('1+2 = ',somme)"
   ]
  },
  {
   "cell_type": "markdown",
   "id": "1190ccc3-09be-411b-a1d3-9b4dad7d4081",
   "metadata": {},
   "source": [
    "Le signe + pour des chaines de caractères est une concatenation et non une addition"
   ]
  },
  {
   "cell_type": "markdown",
   "id": "f5d0c070-8622-4119-9928-3be6e8e59ccc",
   "metadata": {},
   "source": [
    "Mesurer le nombre de caractères dans une chaîne avec **len()** (pour length) qui renverra un interger:"
   ]
  },
  {
   "cell_type": "code",
   "execution_count": 14,
   "id": "6a642dae-a1ad-491b-a4e2-5a44ed1760cb",
   "metadata": {},
   "outputs": [
    {
     "name": "stdout",
     "output_type": "stream",
     "text": [
      "<class 'int'>\n",
      "5\n"
     ]
    }
   ],
   "source": [
    "longueur = len(ma_chaine1)\n",
    "print(type(longueur))\n",
    "print(longueur)"
   ]
  },
  {
   "cell_type": "markdown",
   "id": "77b65453-3706-4bf7-8a43-029e9439fe52",
   "metadata": {},
   "source": [
    "Remplacer un élément par un autre avec **replace()**:"
   ]
  },
  {
   "cell_type": "code",
   "execution_count": 15,
   "id": "2a939d3e-7db9-417d-82e1-6e0389f5ad49",
   "metadata": {
    "tags": []
   },
   "outputs": [
    {
     "name": "stdout",
     "output_type": "stream",
     "text": [
      "Monty Python\n",
      "This is  Python\n"
     ]
    }
   ],
   "source": [
    "ma_chaine3 = 'Monty Python'\n",
    "print(ma_chaine3)\n",
    "ma_chaine4 = ma_chaine3.replace('Monty','This is ')\n",
    "print(ma_chaine4)"
   ]
  },
  {
   "cell_type": "markdown",
   "id": "a4a9d432-757a-4a05-9be9-86afba136518",
   "metadata": {},
   "source": [
    "En indiquant une valeur, entre crochets **[ ]** à la fin de la chaine on peut lire le caractère se trouvant à l'emplacement (appelé indice) demandé."
   ]
  },
  {
   "cell_type": "code",
   "execution_count": 16,
   "id": "da8c1f05-0ff9-4e15-9690-9d37e388b005",
   "metadata": {},
   "outputs": [
    {
     "name": "stdout",
     "output_type": "stream",
     "text": [
      "M\n",
      "o\n",
      "n\n"
     ]
    }
   ],
   "source": [
    "print(ma_chaine3[0])\n",
    "print(ma_chaine3[1])\n",
    "print(ma_chaine3[2])"
   ]
  },
  {
   "cell_type": "markdown",
   "id": "f9c720ca-6547-49c1-92e2-c4f82624d17c",
   "metadata": {},
   "source": [
    "*Remarque: Les indices commencent toujours à zéro et non à 1*"
   ]
  },
  {
   "cell_type": "markdown",
   "id": "e330af74-dcce-419f-b7b6-7ece0cfb02c9",
   "metadata": {
    "tags": []
   },
   "source": [
    "On peut accéder aux derniers éléments avec un indice négatif."
   ]
  },
  {
   "cell_type": "code",
   "execution_count": 17,
   "id": "d7e38360-98bf-49c0-ad63-a8bbf9c459f5",
   "metadata": {},
   "outputs": [
    {
     "name": "stdout",
     "output_type": "stream",
     "text": [
      "n\n",
      "o\n",
      "h\n"
     ]
    }
   ],
   "source": [
    "print(ma_chaine3[-1])\n",
    "print(ma_chaine3[-2])\n",
    "print(ma_chaine3[-3])"
   ]
  },
  {
   "cell_type": "markdown",
   "id": "ea460b67-e402-490e-b867-9acc6d8b2279",
   "metadata": {},
   "source": [
    "Ou a une tranche en donnant les indices de début et de fin séparés par ':' :"
   ]
  },
  {
   "cell_type": "code",
   "execution_count": 18,
   "id": "af3ebae4-4b02-445f-9dd4-d5d7822736d0",
   "metadata": {},
   "outputs": [
    {
     "name": "stdout",
     "output_type": "stream",
     "text": [
      "chaine entière:.......................: Monty Python\n",
      "entre indice 2 et 8...................: nty Py\n",
      "du début à indice 9:.................. Monty Pyt\n",
      "de indice 3 à la fin.................: ty Python\n",
      "entre indice 2 et 8 avec pas de sur 2: nyP\n"
     ]
    }
   ],
   "source": [
    "print('chaine entière:.......................:',ma_chaine3)\n",
    "print('entre indice 2 et 8...................:',ma_chaine3[2:8])\n",
    "print('du début à indice 9:..................',ma_chaine3[:9])  \n",
    "print('de indice 3 à la fin.................:',ma_chaine3[3:])  \n",
    "print('entre indice 2 et 8 avec pas de sur 2:',ma_chaine3[2:8:2]) "
   ]
  },
  {
   "cell_type": "markdown",
   "id": "f1a14bc5-4500-47ec-a098-410d2c825ff8",
   "metadata": {},
   "source": [
    "On a donc une syntaxe de la forme **chaine[start : stop : step]**:  \n",
    "start : indice de début de la découpe (inclus)  \n",
    "stop : indice de fin de la découpe (exclus)  \n",
    "step : pas, c'est-à-dire le nombre d'indices à sauter à chaque étape (par défaut, step est égal à 1)  "
   ]
  },
  {
   "cell_type": "markdown",
   "id": "e52f11b9-76bd-4b47-8329-d449ca226d27",
   "metadata": {
    "tags": []
   },
   "source": [
    "Séparer sur un caractere donné avec **split()**:"
   ]
  },
  {
   "cell_type": "code",
   "execution_count": 19,
   "id": "59fb4ddc-9201-4390-9c10-b346e6dacdb3",
   "metadata": {},
   "outputs": [
    {
     "name": "stdout",
     "output_type": "stream",
     "text": [
      "['Monty', 'Python']\n"
     ]
    }
   ],
   "source": [
    "# Séparer la chaine sur les caractères espace\n",
    "print(ma_chaine3.split(' '))"
   ]
  },
  {
   "cell_type": "markdown",
   "id": "4bb804d4-9593-41c5-9564-211d3b2ca066",
   "metadata": {},
   "source": [
    "Trouver l'emplacement nommé index d'un élément avec **index()**. Les index commencent à zéro:"
   ]
  },
  {
   "cell_type": "code",
   "execution_count": 20,
   "id": "87a5cc00-5e33-49c9-89e5-537f5035388c",
   "metadata": {},
   "outputs": [
    {
     "name": "stdout",
     "output_type": "stream",
     "text": [
      "6\n"
     ]
    }
   ],
   "source": [
    "print(ma_chaine3.index('P'))"
   ]
  },
  {
   "cell_type": "markdown",
   "id": "d18956a7-56d7-4893-8663-5bb476c84d71",
   "metadata": {},
   "source": [
    "Quand on veut afficher du texte et des valeurs numériques ensemble, il peut être nécessaire de faire une mise en forme:"
   ]
  },
  {
   "cell_type": "code",
   "execution_count": 21,
   "id": "318eb74d-69ab-43a8-9239-fd59b44bc44d",
   "metadata": {
    "tags": []
   },
   "outputs": [],
   "source": [
    "personnage = \"Sir Robin\"\n",
    "nombre_chevaliers = 100/3"
   ]
  },
  {
   "cell_type": "markdown",
   "id": "d62c8091-3225-4db3-8626-be83938b0abe",
   "metadata": {},
   "source": [
    "- Mise en forme de texte option 1: Concaténation de chaines avec **+** et séparation par des **,**:"
   ]
  },
  {
   "cell_type": "code",
   "execution_count": 22,
   "id": "528ca05f-2524-4fea-acad-ddca44d2582e",
   "metadata": {},
   "outputs": [
    {
     "name": "stdout",
     "output_type": "stream",
     "text": [
      "Sir Robin a vaincu  33.333333333333336 chevaliers.\n"
     ]
    }
   ],
   "source": [
    "print( personnage + \" a vaincu \" ,nombre_chevaliers , \"chevaliers.\")"
   ]
  },
  {
   "cell_type": "markdown",
   "id": "ce5817a8-d695-435e-a796-d07ceb0c0de4",
   "metadata": {},
   "source": [
    "*Remarque: le resultat n'est pas 33.333333333333333 car  les nombres réels sont représentés sur un nombre fini de bits provoquant des erreurs d'arrondis*"
   ]
  },
  {
   "cell_type": "markdown",
   "id": "36ef5307-6c6e-49b8-813b-3c07bfa47c24",
   "metadata": {
    "tags": []
   },
   "source": [
    "- Mise en forme de texte option 2:\n",
    "\n",
    "Avec %d, on spécifie le type entier et avec %s le type string  "
   ]
  },
  {
   "cell_type": "code",
   "execution_count": 23,
   "id": "cc90373d-0ea3-4b1b-8df0-13ea11aa14e2",
   "metadata": {},
   "outputs": [
    {
     "name": "stdout",
     "output_type": "stream",
     "text": [
      "Sir Robin a vaincu 33.333333 chevaliers.\n"
     ]
    }
   ],
   "source": [
    "print(\"%s a vaincu %f chevaliers.\" % (personnage, nombre_chevaliers))"
   ]
  },
  {
   "cell_type": "markdown",
   "id": "b90a7735-3a60-468b-adcc-1d1755449b88",
   "metadata": {},
   "source": [
    "**%s** est remplacé par la valeur de la variable personnage.  \n",
    "**%f** est remplacé par la valeur de la variable nombre_chevaliers.  \n",
    "Le **%** est utilisé pour formater la chaîne avec les variables spécifiées dans (personnage, nombre_chevaliers)."
   ]
  },
  {
   "cell_type": "markdown",
   "id": "615f4ab8",
   "metadata": {},
   "source": [
    "- Mise en forme de texte option 3: Avec la syntaxe **\"f\"** et **{ }**"
   ]
  },
  {
   "cell_type": "code",
   "execution_count": 24,
   "id": "bd01a1a9",
   "metadata": {},
   "outputs": [
    {
     "name": "stdout",
     "output_type": "stream",
     "text": [
      "Sir Robin a vaincu 33.333333333333336 chevaliers.\n"
     ]
    }
   ],
   "source": [
    "print(f\"{personnage} a vaincu {nombre_chevaliers} chevaliers.\")"
   ]
  },
  {
   "cell_type": "markdown",
   "id": "360b155f",
   "metadata": {},
   "source": [
    "{personnage} est remplacé par la valeur de la variable personnage.  \n",
    "{nombre_chevaliers} est remplacé par la valeur de la variable nombre_chevaliers.  \n",
    "\n",
    "Le f avant les guillemets indique une chaîne de format f-string en Python. Cela permet d'insérer des variables directement dans la chaîne en utilisant la syntaxe {}.\n",
    "\n",
    "Cette dernière syntaxe est la derniere introduite (Python3.6), pour des raisons de performance, de simplicité et de flexibilité, on privilegiera celle ci."
   ]
  },
  {
   "cell_type": "markdown",
   "id": "512ea91a-ff88-487d-b01b-98f009cef070",
   "metadata": {},
   "source": [
    "- Pour les float, on peut choisir le nombre de décimales à afficher:"
   ]
  },
  {
   "cell_type": "code",
   "execution_count": 25,
   "id": "7919944c-da06-40c6-b9ed-597de25d0ece",
   "metadata": {},
   "outputs": [
    {
     "name": "stdout",
     "output_type": "stream",
     "text": [
      "Sir Robin a vaincu 33.33 chevaliers.\n"
     ]
    }
   ],
   "source": [
    "print(f\"{personnage} a vaincu {nombre_chevaliers:.2f} chevaliers.\")"
   ]
  },
  {
   "cell_type": "markdown",
   "id": "13776c01-eae4-4c04-92cb-d8cda04cf66b",
   "metadata": {},
   "source": [
    "Ici on  choisira probablement l'affichage:"
   ]
  },
  {
   "cell_type": "code",
   "execution_count": 26,
   "id": "92e284fe-1634-4b8b-8b40-d47336b7f39d",
   "metadata": {
    "tags": []
   },
   "outputs": [
    {
     "name": "stdout",
     "output_type": "stream",
     "text": [
      "Sir Robin a vaincu 33 chevaliers.\n"
     ]
    }
   ],
   "source": [
    "print(f\"{personnage} a vaincu {nombre_chevaliers:.0f} chevaliers.\")"
   ]
  },
  {
   "cell_type": "markdown",
   "id": "de64e46e-33bd-42e2-8308-2706b49556fe",
   "metadata": {},
   "source": [
    "Récapitulatif des differents spécificateurs de type:"
   ]
  },
  {
   "cell_type": "markdown",
   "id": "bfa3dd54-58d9-4979-baa8-f6f22c932df5",
   "metadata": {},
   "source": [
    "| Spécificateur de type | Description                           |\n",
    "|-----------------------|---------------------------------------|\n",
    "| `%s`                  | Chaîne de caractères                   |\n",
    "| `%d`                  | Nombre entier                |\n",
    "| `%f`                  | Nombre à virgule flottante             |\n",
    "| `%e` ou `%E`          | Nombre à virgule flottante en notation scientifique (exponentielle) |\n",
    "| `%g` ou `%G`          | Nombre à virgule flottante en notation courte (automatique) |\n",
    "| `%x` ou `%X`          | Nombre entier en base hexadécimale     |         \n"
   ]
  },
  {
   "cell_type": "markdown",
   "id": "2e6fd66f-cb04-4af1-95cb-2a515d23bc35",
   "metadata": {},
   "source": [
    "[Exercices 0 à 4](exercices/Exercices1.ipynb)"
   ]
  },
  {
   "cell_type": "markdown",
   "id": "022d56bd-771e-4cfe-ba7b-531f62eb44d2",
   "metadata": {},
   "source": [
    "## 1-3-4 Entrées / Sorties"
   ]
  },
  {
   "cell_type": "markdown",
   "id": "aa7a7d94-2830-42f1-b7bc-c09fb18f2394",
   "metadata": {},
   "source": [
    "La fonction **print()** est utilisée en Python pour afficher des messages ou des valeurs à l'écran. Elle prend en entrée les éléments à afficher.\n",
    "\n",
    "La fonction **input()** est utilisée pour obtenir une entrée de l'utilisateur. Elle affiche un message facultatif pour guider l'utilisateur et attend que celui-ci saisisse une valeur. La valeur saisie est renvoyée par la fonction et peut être stockée dans une variable."
   ]
  },
  {
   "cell_type": "code",
   "execution_count": 27,
   "id": "7945bc9b-c3ca-4da8-83b6-2dca02dc45b4",
   "metadata": {},
   "outputs": [
    {
     "name": "stdin",
     "output_type": "stream",
     "text": [
      "Entrez votre nom :  simon\n"
     ]
    },
    {
     "name": "stdout",
     "output_type": "stream",
     "text": [
      "Hello simon\n"
     ]
    }
   ],
   "source": [
    "nom = input(\"Entrez votre nom : \")\n",
    "print('Hello',nom)"
   ]
  },
  {
   "cell_type": "markdown",
   "id": "8a0f98b9-4708-4278-b3ea-13ce15b81028",
   "metadata": {},
   "source": [
    "# 1-4 Structures Conditionnelles"
   ]
  },
  {
   "cell_type": "markdown",
   "id": "2c4d215b-ffdf-4eb0-9359-ebc391d7ffe7",
   "metadata": {},
   "source": [
    "Les structures conditionnelles permettent d'exécuter des blocs de code en fonction de conditions. Les conditions sont évaluées et le bloc de code correspondant est exécuté si la condition est vraie.\n",
    "Ce bloc doit être indenté, c'est à dire décalé vers la droite avec 4 espaces."
   ]
  },
  {
   "cell_type": "markdown",
   "id": "2807d09a-9cab-414b-89a7-9be420858b81",
   "metadata": {},
   "source": [
    "## 1-4-1 Conditions"
   ]
  },
  {
   "cell_type": "code",
   "execution_count": 38,
   "id": "e3d3becf-f719-4709-899a-62d254005704",
   "metadata": {},
   "outputs": [],
   "source": [
    "a = 8\n",
    "b = 8\n",
    "c = 5"
   ]
  },
  {
   "cell_type": "markdown",
   "id": "1ca17179-5629-4039-bad6-5b8df46654d6",
   "metadata": {},
   "source": [
    "- Condition sur l'égalité avec un double égal (**==**) : "
   ]
  },
  {
   "cell_type": "code",
   "execution_count": 39,
   "id": "becf92f5-4faa-47d4-b2bc-ca442643d614",
   "metadata": {
    "tags": []
   },
   "outputs": [
    {
     "name": "stdout",
     "output_type": "stream",
     "text": [
      "a égal b\n"
     ]
    }
   ],
   "source": [
    "if a == b:\n",
    "    print('a égal b')"
   ]
  },
  {
   "cell_type": "markdown",
   "id": "96c1d418-0f7d-4800-aa8a-e3557ac6464e",
   "metadata": {
    "tags": []
   },
   "source": [
    "On peut prévoir une alternative au cas où la condition ne serait pas vérifiée en utilisant le mot clé **'else':**"
   ]
  },
  {
   "cell_type": "code",
   "execution_count": 40,
   "id": "f1850046-1656-4fb5-a3c2-c107f855e9f5",
   "metadata": {},
   "outputs": [
    {
     "name": "stdout",
     "output_type": "stream",
     "text": [
      "a different de c\n"
     ]
    }
   ],
   "source": [
    "if a == c:\n",
    "    print('a = c')\n",
    "else:\n",
    "    print('a different de c')"
   ]
  },
  {
   "cell_type": "markdown",
   "id": "42b55f6b-9c4f-418e-be52-b6ce109a99ee",
   "metadata": {},
   "source": [
    "Ou plusieurs alternatives au cas où la condition précédente ne serait pas vérifiée, en utilisant le mots clé **'elif'** avant un **'else'** final. **elif** est une contraction de **else if**"
   ]
  },
  {
   "cell_type": "code",
   "execution_count": 41,
   "id": "07741f1a-fcbd-4822-867c-56ddf480c52d",
   "metadata": {
    "tags": []
   },
   "outputs": [
    {
     "name": "stdout",
     "output_type": "stream",
     "text": [
      "a > 3\n"
     ]
    }
   ],
   "source": [
    "if a == 1:\n",
    "    print('a = 1')\n",
    "elif a == 2:\n",
    "    print('a = 2')\n",
    "elif a == 3:\n",
    "    print('a = 3')\n",
    "else:\n",
    "    print('a > 3')"
   ]
  },
  {
   "cell_type": "markdown",
   "id": "77991f0d-78df-4bf8-8297-2d74bce4d47e",
   "metadata": {},
   "source": [
    "- Condition sur la difference avec **!=** ou avec **not**:"
   ]
  },
  {
   "cell_type": "code",
   "execution_count": 42,
   "id": "742c60a8-edf1-4a1f-943d-b1b3bd4b792c",
   "metadata": {},
   "outputs": [
    {
     "name": "stdout",
     "output_type": "stream",
     "text": [
      "a different de c\n",
      "a égal c\n"
     ]
    }
   ],
   "source": [
    "if a != c:\n",
    "    print('a different de c')\n",
    "# autre notation:\n",
    "if not a == c:\n",
    "    print('a égal c')"
   ]
  },
  {
   "cell_type": "markdown",
   "id": "700eccd0-9df4-4796-b72b-1ca76c53886d",
   "metadata": {},
   "source": [
    "La syntaxe **!=** sera généralement préférée, la syntaxe **not** risque de rendre le code moins lisible et sera généralement évitée."
   ]
  },
  {
   "cell_type": "markdown",
   "id": "6081f344-e98b-4d81-b3f0-eb68f11f7d13",
   "metadata": {},
   "source": [
    "- Double condition:"
   ]
  },
  {
   "cell_type": "markdown",
   "id": "70ff70b9-9d81-47ff-b93e-eed26038a54e",
   "metadata": {},
   "source": [
    "Les deux conditions doivent être respectées (**and**)"
   ]
  },
  {
   "cell_type": "code",
   "execution_count": 43,
   "id": "b768753b-5a71-4f4d-bcae-9b996476ce94",
   "metadata": {},
   "outputs": [
    {
     "name": "stdout",
     "output_type": "stream",
     "text": [
      "a = 8 et c = 5\n"
     ]
    }
   ],
   "source": [
    "if a == 8 and c == 5:\n",
    "    print('a = 8 et c = 5')"
   ]
  },
  {
   "cell_type": "markdown",
   "id": "9046493f-b14a-4803-ae4a-72dee159232f",
   "metadata": {},
   "source": [
    "Au moins une des conditions doit être respectée (**or**)"
   ]
  },
  {
   "cell_type": "code",
   "execution_count": 44,
   "id": "fb3737a4-7729-450d-979c-386202e75f3e",
   "metadata": {
    "tags": []
   },
   "outputs": [
    {
     "name": "stdout",
     "output_type": "stream",
     "text": [
      "a = 8 ou c = 5\n"
     ]
    }
   ],
   "source": [
    "if a == 16 or c == 5:\n",
    "    print('a = 8 ou c = 5')"
   ]
  },
  {
   "cell_type": "markdown",
   "id": "753584e4-d8dc-42d8-89bf-4a58a2b5c616",
   "metadata": {},
   "source": [
    "- Condition sur un opérateur booleen"
   ]
  },
  {
   "cell_type": "code",
   "execution_count": 45,
   "id": "3071d9c4-a6b4-4c9d-94ab-f341fe289630",
   "metadata": {},
   "outputs": [
    {
     "name": "stdout",
     "output_type": "stream",
     "text": [
      "True\n",
      "a = b\n"
     ]
    }
   ],
   "source": [
    "condition1 = (a==b)\n",
    "print(condition1)\n",
    "if condition1:\n",
    "    print('a = b')"
   ]
  },
  {
   "cell_type": "markdown",
   "id": "be668e20-b1a8-42c7-bb38-79b931af34b1",
   "metadata": {},
   "source": [
    "*Remarque: On a ici un nouveau type de variable avec True, c'est un booleen*"
   ]
  },
  {
   "cell_type": "code",
   "execution_count": 46,
   "id": "c19b6d41-2227-4d45-8b91-ac4a79b67c97",
   "metadata": {},
   "outputs": [
    {
     "name": "stdout",
     "output_type": "stream",
     "text": [
      "<class 'bool'>\n"
     ]
    }
   ],
   "source": [
    "print(type(condition1))"
   ]
  },
  {
   "cell_type": "markdown",
   "id": "c7fb950a-208d-4618-9105-721c9aad3371",
   "metadata": {
    "tags": []
   },
   "source": [
    "Récapitulatif des opérateurs:\n",
    "\n",
    "| Opérateur | Définition                                         |\n",
    "| --------- | --------------------------------------------------- |\n",
    "| ==        | Permet de tester l'égalité en valeur et en type     |\n",
    "| !=        | Permet de tester la différence en valeur ou en type |\n",
    "| <         | Permet de tester si une valeur est strictement inférieure à une autre |\n",
    "| >         | Permet de tester si une valeur est strictement supérieure à une autre |\n",
    "| <=        | Permet de tester si une valeur est inférieure ou égale à une autre |\n",
    "| >=        | Permet de tester si une valeur est supérieure ou égale à une autre |\n",
    "\n",
    "Et des booleens:\n",
    "\n",
    "| Opérateur | Définition                                    |\n",
    "|-----------|-----------------------------------------------|\n",
    "| `and`     | Renvoie `True` si les deux expressions sont vraies |\n",
    "| `or`      | Renvoie `True` si au moins une des expressions est vraie |\n",
    "| `not`     | Inverse le résultat de l'expression logique     |\n",
    "\n"
   ]
  },
  {
   "cell_type": "markdown",
   "id": "59ccdcf9-a85a-413a-9c19-7267c4c082e1",
   "metadata": {},
   "source": [
    "# 1-5 obligations et bonnes pratiques syntaxiques "
   ]
  },
  {
   "cell_type": "markdown",
   "id": "874e23e4-a367-42c7-8b01-1c730d9deed1",
   "metadata": {},
   "source": [
    "Autant que possible respecter les règles de [PEP8](https://peps.python.org/pep-0008/)"
   ]
  },
  {
   "cell_type": "markdown",
   "id": "18098b3e-1dc8-4bb1-a8ab-0cbc21175f2b",
   "metadata": {},
   "source": [
    "Quelques points essentiels sont résumés ici:\n",
    "- Utilisez des noms de variables et de fonctions significatifs, en suivant la convention snake_case (en minuscules avec des underscores).\n",
    "- Indentez votre code avec des espaces, en utilisant 4 espaces par niveau d'indentation.\n",
    "- Limitez la longueur de vos lignes de code à 79 caractères maximum.\n",
    "- Utilisez des espaces autour des opérateurs (=, +, -, etc.) et après les virgules dans les listes et les appels de fonction.\n",
    "- Évitez d'utiliser des espaces inutiles à la fin des lignes ou à la fin des expressions.\n",
    "- Utilisez des commentaires pour expliquer votre code lorsque cela est nécessaire, mais assurez-vous qu'ils sont pertinents et à jour.\n",
    "- Importez les modules sur des lignes séparées et placez-les au début du script.\n",
    "- Évitez d'utiliser des noms de variables qui ressemblent à des mots-clés Python existants.\n",
    "- Utilisez des espaces après les virgules dans les tuples, les listes et les dictionnaires.\n",
    "- Séparez les définitions de fonctions et les classes avec deux lignes vides.\n",
    "- Favorisez la réutilisation de code en évitant les répétitions et en créant des fonctions lorsque cela est approprié. Suivez le principe DRY (Don't Repeat Yourself) cela améliore la lisibilité, la maintenabilité et la flexibilité de votre code, tout en facilitant les modifications et les mises à jour ultérieures.\n"
   ]
  },
  {
   "cell_type": "markdown",
   "id": "94a4d2e7-7cad-47d8-88ba-a2a225a32b02",
   "metadata": {},
   "source": [
    "Tim Peters, un des principaux developpeur du langage a même intégré au langage une commande emettant un certain nombre de recommandations de manière assez poètique..."
   ]
  },
  {
   "cell_type": "code",
   "execution_count": 47,
   "id": "fbde7c9d-a191-4d90-9df2-fe5a9391f055",
   "metadata": {},
   "outputs": [],
   "source": [
    "import this"
   ]
  },
  {
   "cell_type": "markdown",
   "id": "1cab11dd-904d-4932-ab16-967041595ea3",
   "metadata": {
    "tags": []
   },
   "source": [
    "[Exercices Structures Conditionnelles: 5 à 11](exercices/Exercices1.ipynb) "
   ]
  }
 ],
 "metadata": {
  "kernelspec": {
   "display_name": "Python 3 (ipykernel)",
   "language": "python",
   "name": "python3"
  },
  "language_info": {
   "codemirror_mode": {
    "name": "ipython",
    "version": 3
   },
   "file_extension": ".py",
   "mimetype": "text/x-python",
   "name": "python",
   "nbconvert_exporter": "python",
   "pygments_lexer": "ipython3",
   "version": "3.12.1"
  }
 },
 "nbformat": 4,
 "nbformat_minor": 5
}
