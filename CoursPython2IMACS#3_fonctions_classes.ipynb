{
 "cells": [
  {
   "cell_type": "markdown",
   "id": "35fc8c94-903a-43d0-869e-dd8050c6a51b",
   "metadata": {},
   "source": [
    "***\n",
    "# **<center>COURS PYTHON 2IMACS #3</center>**\n",
    "# ***<center>Fonctions</center>***\n",
    "# ***<center>Aperçu sur les Classes</center>***\n",
    "***"
   ]
  },
  {
   "cell_type": "markdown",
   "id": "bf7c8eb0-000d-4a33-8d8e-a09997be2f10",
   "metadata": {},
   "source": [
    "Les fonctions sont des blocs de code réutilisables qui permettent d'organiser et d'exécuter des actions spécifiques. Elles jouent un rôle essentiel dans la structuration et la modularité du code. Les fonctions sont définies avec un nom unique et peuvent prendre des paramètres en entrée pour recevoir des valeurs. Elles peuvent également retourner des résultats. Les fonctions permettent de découper un programme en tâches plus petites, facilitant ainsi la compréhension, la maintenance et la réutilisation du code."
   ]
  },
  {
   "cell_type": "markdown",
   "id": "eda637f5-ffc5-4b24-9928-350ef1445c56",
   "metadata": {},
   "source": [
    "# 3-1 Les Fonctions"
   ]
  },
  {
   "cell_type": "markdown",
   "id": "b253435f-f285-4330-8f65-54238b952774",
   "metadata": {},
   "source": [
    "Ecrivons un programme qui calcule les aires de 3 rectangles avec leurs longueurs et largeurs:"
   ]
  },
  {
   "cell_type": "code",
   "execution_count": 1,
   "id": "422c2269-600c-462b-a9d9-1998caddb8c0",
   "metadata": {},
   "outputs": [
    {
     "name": "stdout",
     "output_type": "stream",
     "text": [
      "50\n",
      "25\n",
      "6\n"
     ]
    }
   ],
   "source": [
    "# Calcul de l'aire d'un rectangle \n",
    "# Version sans fonction\n",
    "longueur1 = 10\n",
    "largeur1 = 5\n",
    "aire1 = longueur1 * largeur1\n",
    "print(aire1)\n",
    "\n",
    "longueur2 = 5\n",
    "largeur2 = 5\n",
    "aire2 = longueur2 * largeur2\n",
    "print(aire2)\n",
    "\n",
    "longueur3 = 1\n",
    "largeur3 = 6\n",
    "aire3 = longueur3 * largeur3\n",
    "print(aire3)\n"
   ]
  },
  {
   "cell_type": "markdown",
   "id": "ed096127-cb94-498a-b7a3-9b101f7dfe23",
   "metadata": {},
   "source": [
    "On a répété 3 fois un bloc d'instruction de 4 lignes. Pour éviter des programmes trop longs et trop lourds, nous allons, autant que possible rationnaliser avec l'utilisation de fonctions.  "
   ]
  },
  {
   "cell_type": "markdown",
   "id": "4c8132e0-86f6-4a07-a97c-21f7c1e5ab09",
   "metadata": {},
   "source": [
    "## 3-1-1 Déclaration et utilisation de fonctions"
   ]
  },
  {
   "cell_type": "markdown",
   "id": "7d59da4a-af6f-4568-a517-38a915b87d8b",
   "metadata": {},
   "source": [
    "Concernant les noms de fonctions, il est recommandé de: \n",
    "- Utiliser des lettres minuscules pour les noms de fonctions.\n",
    "- Utiliser des mots séparés par des underscores ( _ ) pour améliorer la lisibilité.\n",
    "- Éviter d'utiliser des tirets (-) dans les noms de fonctions, car ils peuvent être confondus avec des opérateurs de soustraction.\n",
    "- Choisir des noms significatifs et descriptifs pour les fonctions.\n",
    "- Éviter les noms de fonctions trop courts ou ambigus.\n",
    "- Utiliser des verbes pour les noms de fonctions (par exemple, calculer_moyenne, afficher_resultats).\n"
   ]
  },
  {
   "cell_type": "markdown",
   "id": "0f2f5da3-4228-4996-8517-4dca35f5790b",
   "metadata": {},
   "source": [
    "### 3-1-1-1 Déclaration et utilisation de fonctions"
   ]
  },
  {
   "cell_type": "markdown",
   "id": "9dda9e19-b872-4cf6-ab00-0b8baa5c2a8e",
   "metadata": {},
   "source": [
    "Commençons par déclarer notre fonction avec le mot-clé **def** suivi du nom de la fonction, des paramètres entre parenthèses et de deux points:"
   ]
  },
  {
   "cell_type": "code",
   "execution_count": 2,
   "id": "f09c117b-30ed-42cb-8f01-2e9c0c7d8b82",
   "metadata": {},
   "outputs": [],
   "source": [
    "def calculer_aire_rectangle(longueur, largeur): \n",
    "    # Bloc de code à éxecuter\n",
    "    aire = longueur * largeur\n",
    "    print(aire)"
   ]
  },
  {
   "cell_type": "markdown",
   "id": "a520ccf4-8822-46ef-bd53-d8b93ca816a8",
   "metadata": {},
   "source": [
    "Quand éxécute ce code on n'obtient rien. On a seulement déclaré la fonction, il faut maintenant l'appeler. Pour celà il faut  indiquer le nom de la fonction et les arguments , ici les valeurs numériques de longueurs et largeurs:"
   ]
  },
  {
   "cell_type": "code",
   "execution_count": 3,
   "id": "65f848d9-4e2f-4530-92ba-9d2c8d086212",
   "metadata": {},
   "outputs": [
    {
     "name": "stdout",
     "output_type": "stream",
     "text": [
      "50\n"
     ]
    }
   ],
   "source": [
    "calculer_aire_rectangle(10, 5)"
   ]
  },
  {
   "cell_type": "markdown",
   "id": "cf632534-79c0-474c-adf0-61d0f2fba3e2",
   "metadata": {},
   "source": [
    "Imaginons maintenant qu'on ait besoin des valeurs d'aires calculées par la fonction. Dans le code précedent on fait un print mais les valeurs ne sont plus accessibles par la suite."
   ]
  },
  {
   "cell_type": "code",
   "execution_count": 5,
   "id": "609ed824-02f8-4dc3-aafe-f670c13f7bbc",
   "metadata": {},
   "outputs": [],
   "source": [
    "# Définir la fonction\n",
    "def calculer_aire_rectangle(longueur, largeur): \n",
    "    aire = longueur * largeur\n",
    "    # print(aire) Enlevons le print de la fonction\n",
    "    "
   ]
  },
  {
   "cell_type": "markdown",
   "id": "3188d8a7-1aa3-4314-96e2-c19fcc1085ba",
   "metadata": {},
   "source": [
    "Lors de l'appel de la fonction, il ne se passe rien... car elle ne retourne rien!"
   ]
  },
  {
   "cell_type": "code",
   "execution_count": 6,
   "id": "eb258e46-2514-47a2-9a09-73411da32076",
   "metadata": {},
   "outputs": [],
   "source": [
    "# appel de la fonction\n",
    "calculer_aire_rectangle(10, 5)"
   ]
  },
  {
   "cell_type": "markdown",
   "id": "7aba4e3b-cdd1-49af-a640-d6816c3ba85b",
   "metadata": {},
   "source": [
    "Pour régler le problème, demandons à la fonction de retourner ces valeurs avec le mot clé **return** en dernière ligne de la déclaration de la fonction:"
   ]
  },
  {
   "cell_type": "code",
   "execution_count": 7,
   "id": "a3cbe020-1628-446c-8b1a-9c5ea44d1349",
   "metadata": {},
   "outputs": [],
   "source": [
    "# Définir la fonction\n",
    "def calculer_aire_rectangle(longueur, largeur): \n",
    "    aire = longueur * largeur\n",
    "    return aire #retourner une valeur après execution"
   ]
  },
  {
   "cell_type": "markdown",
   "id": "2d541539-ac75-4c0f-945d-28ca3d31f015",
   "metadata": {},
   "source": [
    "Pour appeler la fonction et récupérer la valeur retournée, comme précédemment, on indique le nom de la fonction et ses arguments, mais cette fois, on l'affecte à une variable avec un **=**.  La valeur retournée sera donc accessible pour des calculs."
   ]
  },
  {
   "cell_type": "code",
   "execution_count": 9,
   "id": "ed29e795-e139-40c4-85b6-e661a959fb5a",
   "metadata": {},
   "outputs": [
    {
     "name": "stdout",
     "output_type": "stream",
     "text": [
      "50\n",
      "10 x aire = 500\n"
     ]
    }
   ],
   "source": [
    "aire_rect_10_5 = calculer_aire_rectangle(10, 5)\n",
    "print(aire_rect_10_5) # on peut maintenant faire un print de la valeur\n",
    "x = 10 * aire_rect_10_5 # ou n'importe quelle autre opération\n",
    "print('10 x aire =', x)"
   ]
  },
  {
   "cell_type": "markdown",
   "id": "068feb4a-5ff1-4d1e-b928-0fdacf83ce92",
   "metadata": {},
   "source": [
    "### 3-1-1-2 Paramètres et arguments"
   ]
  },
  {
   "cell_type": "markdown",
   "id": "b94a425d-a28c-4909-ad05-f966486c0865",
   "metadata": {},
   "source": [
    "les paramètres sont les noms utilisés dans la définition de la fonction, tandis que les arguments sont les valeurs passées lors de l'appel de la fonction. \n",
    "Dans l'exemple précédent:\n",
    "- les paramètres sont longueur et largeur\n",
    "- les arguments sont 10 et 5"
   ]
  },
  {
   "cell_type": "markdown",
   "id": "272cf4c1-3495-4ad8-a636-5ac206d2d8bb",
   "metadata": {},
   "source": [
    "### 3-1-1-3 Types de paramètres"
   ]
  },
  {
   "cell_type": "markdown",
   "id": "6176d390-ef30-41c5-b7f1-c77bf858c006",
   "metadata": {},
   "source": [
    "Les paramètres peuvent être obligatoires, par défaut ou optionnels."
   ]
  },
  {
   "cell_type": "markdown",
   "id": "a5ef8ef6-15dd-4189-9211-60a28248d742",
   "metadata": {},
   "source": [
    "<u>Obligatoires: </u> c'est le cas de notre exemple précedent. Essayons d'appeler la fonction précédente en omettant un parametre"
   ]
  },
  {
   "cell_type": "code",
   "execution_count": 10,
   "id": "29c80535-5cd7-4a3d-b8bd-c9e54b726515",
   "metadata": {},
   "outputs": [
    {
     "ename": "TypeError",
     "evalue": "calculer_aire_rectangle() missing 1 required positional argument: 'largeur'",
     "output_type": "error",
     "traceback": [
      "\u001b[1;31m---------------------------------------------------------------------------\u001b[0m",
      "\u001b[1;31mTypeError\u001b[0m                                 Traceback (most recent call last)",
      "Cell \u001b[1;32mIn[10], line 6\u001b[0m\n\u001b[0;32m      4\u001b[0m     \u001b[38;5;28;01mreturn\u001b[39;00m aire \n\u001b[0;32m      5\u001b[0m \u001b[38;5;66;03m#Fournissons 1 seul parametre alors que 2 sont attendus\u001b[39;00m\n\u001b[1;32m----> 6\u001b[0m mon_aire \u001b[38;5;241m=\u001b[39m \u001b[43mcalculer_aire_rectangle\u001b[49m\u001b[43m(\u001b[49m\u001b[38;5;241;43m10\u001b[39;49m\u001b[43m)\u001b[49m \n\u001b[0;32m      7\u001b[0m \u001b[38;5;28mprint\u001b[39m(mon_aire)\n",
      "\u001b[1;31mTypeError\u001b[0m: calculer_aire_rectangle() missing 1 required positional argument: 'largeur'"
     ]
    }
   ],
   "source": [
    "# Définir la fonction\n",
    "def calculer_aire_rectangle(longueur, largeur): \n",
    "    aire = longueur * largeur\n",
    "    return aire \n",
    "#Fournissons 1 seul parametre alors que 2 sont attendus\n",
    "mon_aire = calculer_aire_rectangle(10) \n",
    "print(mon_aire)"
   ]
  },
  {
   "cell_type": "markdown",
   "id": "7782ff2f-321d-4dd0-b7cc-078f5dad624c",
   "metadata": {},
   "source": [
    "<u>Par défaut </u>: Pour ne plus avoir ce de problème définissons une largeur par défaut"
   ]
  },
  {
   "cell_type": "code",
   "execution_count": 14,
   "id": "3bcf4f13-5c58-4d90-a0fd-aa50d9a28f53",
   "metadata": {},
   "outputs": [
    {
     "name": "stdout",
     "output_type": "stream",
     "text": [
      "50 avec 2 parametres fournis\n",
      "10 avec 1 parametres fourni et un par défaut\n"
     ]
    }
   ],
   "source": [
    "# Définir la fonction\n",
    "def calculer_aire_rectangle(longueur = 1 , largeur = 1): \n",
    "    aire = longueur * largeur\n",
    "    return aire \n",
    "mon_aire1 = calculer_aire_rectangle(10,5) # Fournissons les 2 paramétres attendus\n",
    "mon_aire2 = calculer_aire_rectangle(10) # Fournissons 1 seul paramètre\n",
    "print(mon_aire1,'avec 2 parametres fournis')\n",
    "print(mon_aire2,'avec 1 parametres fourni et un par défaut')     "
   ]
  },
  {
   "cell_type": "markdown",
   "id": "c6bf2b1b-c046-4a05-9758-e9606e58b259",
   "metadata": {},
   "source": [
    "<u>Variables: </u>  Si on définit un paramètre avec un nom précédé d'astérisques, comme *argspour un tuple, ou de doubles astérisques comme **kwargs pour un dictionnaire, cela signifie que la fonction peut accepter un nombre variable d'arguments."
   ]
  },
  {
   "cell_type": "markdown",
   "id": "b1527e6e-9134-49ef-ad6a-958d94cfebab",
   "metadata": {},
   "source": [
    "- Pour un tuple"
   ]
  },
  {
   "cell_type": "code",
   "execution_count": 15,
   "id": "f06079b0-9c22-4a9b-8927-023cd6d6a805",
   "metadata": {
    "tags": []
   },
   "outputs": [
    {
     "name": "stdout",
     "output_type": "stream",
     "text": [
      "Python\n",
      "est\n",
      "un\n",
      "langage\n",
      "de\n",
      "programmation\n"
     ]
    }
   ],
   "source": [
    "def afficher_elements(*args):\n",
    "    for element in args:\n",
    "        print(element)\n",
    "\n",
    "# Test de la fonction\n",
    "afficher_elements(\"Python\", \"est\", \"un\", \"langage\", \"de\", \"programmation\")\n"
   ]
  },
  {
   "cell_type": "markdown",
   "id": "94177354-f499-4640-9f10-2a72763cee09",
   "metadata": {},
   "source": [
    "Le * devant args indique que cette fonction peut accepter un nombre variable d'arguments, qui seront rassemblés dans un tuple nommé args."
   ]
  },
  {
   "cell_type": "markdown",
   "id": "ec9033e7-3307-4144-9929-c4b6f0c1db9d",
   "metadata": {},
   "source": [
    "On peut maintenant entrer le nombre de paramètres que l'on veut."
   ]
  },
  {
   "cell_type": "markdown",
   "id": "76ff11f1-1f29-4d9e-8616-83a6c69087fd",
   "metadata": {},
   "source": [
    "- pour un dictionnaire"
   ]
  },
  {
   "cell_type": "code",
   "execution_count": 16,
   "id": "593e4190-c07b-4e34-a8d3-0eae5934ffc8",
   "metadata": {},
   "outputs": [
    {
     "name": "stdout",
     "output_type": "stream",
     "text": [
      "nom: John\n",
      "age: 30\n",
      "ville: Paris\n",
      "--------------------------\n",
      "nom: Léa\n",
      "age: 18\n",
      "ville: Bourg-Saint-Maurice\n",
      "passion: Kayak\n"
     ]
    }
   ],
   "source": [
    "def afficher_informations(**kwargs):\n",
    "    for cle, valeur in kwargs.items():\n",
    "        print(f\"{cle}: {valeur}\")\n",
    "        \n",
    "# Appeler la fonction avec 3 parametres\n",
    "afficher_informations(nom=\"John\", age=30, ville=\"Paris\") \n",
    "print('--------------------------')\n",
    "# ou avec 4\n",
    "afficher_informations(nom=\"Léa\", age=18, ville=\"Bourg-Saint-Maurice\", passion='Kayak')\n"
   ]
  },
  {
   "cell_type": "markdown",
   "id": "8af2078f-0924-4311-a432-59aef964c47c",
   "metadata": {},
   "source": [
    "Le ** devant kwargs indique que cette fonction peut accepter un nombre variable d'arguments, qui seront rassemblés dans un dictionnaire nommé kwargs."
   ]
  },
  {
   "cell_type": "markdown",
   "id": "e709f28e-43bb-42f2-bf95-977f1f0ce34f",
   "metadata": {},
   "source": [
    "### 3-1-1-4 Portées de variables"
   ]
  },
  {
   "cell_type": "markdown",
   "id": "2371fda5-6728-4415-8cf7-18d975a55ff5",
   "metadata": {},
   "source": [
    "Les **variables locales** sont définies à l'intérieur d'une fonction et ne sont accessibles qu'à l'intérieur de cette fonction. Elles ont une portée limitée et sont détruites une fois la fonction terminée. \n",
    "Les **variables globales**, quant à elles, sont définies en dehors de toute fonction et sont accessibles à l'ensemble du programme. Elles ont une portée globale et peuvent être utilisées dans différentes parties du code. Il est important de gérer avec précaution les variables globales pour éviter les conflits et assurer une bonne organisation du code."
   ]
  },
  {
   "cell_type": "code",
   "execution_count": 18,
   "id": "006d2bb8-3ee9-4c60-9ea6-e4c1cf945274",
   "metadata": {},
   "outputs": [
    {
     "name": "stdout",
     "output_type": "stream",
     "text": [
      "Valeur de x dans la fonction : 10\n",
      "Valeur de y dans de la fonction : 5\n",
      "Valeur de x hors de la fonction : 10\n"
     ]
    },
    {
     "ename": "NameError",
     "evalue": "name 'y' is not defined",
     "output_type": "error",
     "traceback": [
      "\u001b[1;31m---------------------------------------------------------------------------\u001b[0m",
      "\u001b[1;31mNameError\u001b[0m                                 Traceback (most recent call last)",
      "Cell \u001b[1;32mIn[18], line 12\u001b[0m\n\u001b[0;32m      9\u001b[0m ma_fonction()\n\u001b[0;32m     10\u001b[0m \u001b[38;5;28mprint\u001b[39m(\u001b[38;5;124m\"\u001b[39m\u001b[38;5;124mValeur de x hors de la fonction :\u001b[39m\u001b[38;5;124m\"\u001b[39m, x)  \u001b[38;5;66;03m# Accès à la variable globale\u001b[39;00m\n\u001b[1;32m---> 12\u001b[0m \u001b[38;5;28mprint\u001b[39m(\u001b[38;5;124m\"\u001b[39m\u001b[38;5;124mValeur de y hors de la fonction :\u001b[39m\u001b[38;5;124m\"\u001b[39m,\u001b[43my\u001b[49m)  \u001b[38;5;66;03m# Erreur : la variable locale y n'\u001b[39;00m\n\u001b[0;32m     13\u001b[0m                                               \u001b[38;5;66;03m#  n'est pas accessible en dehors de la fonction\u001b[39;00m\n",
      "\u001b[1;31mNameError\u001b[0m: name 'y' is not defined"
     ]
    }
   ],
   "source": [
    "x = 10  # Variable globale\n",
    "\n",
    "def ma_fonction():\n",
    "    y = 5  # Variable locale\n",
    "    print(\"Valeur de x dans la fonction :\", x)  # Accès à la variable globale\n",
    "    \n",
    "    print(\"Valeur de y dans de la fonction :\", y)  # Accès à la variable locale\n",
    "\n",
    "ma_fonction()\n",
    "print(\"Valeur de x hors de la fonction :\", x)  # Accès à la variable globale\n",
    "\n",
    "print(\"Valeur de y hors de la fonction :\",y)  # Erreur : la variable locale y n'\n",
    "                                              #  n'est pas accessible en dehors de la fonction\n"
   ]
  },
  {
   "cell_type": "markdown",
   "id": "9c6a2da2-224b-43db-ae12-cd9b51b3f639",
   "metadata": {},
   "source": [
    " Les variables globales peuvent être modifiées à la fois à l'intérieur et à l'extérieur des fonctions. Cependant, si vous souhaitez modifier une variable globale à l'intérieur d'une fonction, vous devez utiliser le mot-clé **global** suivi du nom de la variable pour indiquer explicitement que vous faites référence à la variable globale."
   ]
  },
  {
   "cell_type": "code",
   "execution_count": 20,
   "id": "6355ff86-7178-484c-ae54-80e44079c807",
   "metadata": {},
   "outputs": [
    {
     "name": "stdout",
     "output_type": "stream",
     "text": [
      "Valeur à la déclaration : 1 3\n",
      "Valeur dans la fonction : 10 30\n",
      "Valeur hors de la fonction : 10 3\n"
     ]
    }
   ],
   "source": [
    "x = 1  # Variable globale\n",
    "y = 3  # Variable globale\n",
    "print('Valeur à la déclaration :', x,y)\n",
    "\n",
    "def modifier_x():\n",
    "    global x  # Indique que nous faisons référence à la variable globale x\n",
    "    x = 10  # Modification de la variable globale x dans la fonction\n",
    "    y= 30 # Modification de la variable globale x dans la fonction sans le mot clé global\n",
    "    print('Valeur dans la fonction :', x,y)  # Accès à la variable globale\n",
    "    \n",
    "modifier_x()    \n",
    "print('Valeur hors de la fonction :', x,y)"
   ]
  },
  {
   "cell_type": "markdown",
   "id": "e710451c-dd22-4a27-abb3-1ef2b98ec42f",
   "metadata": {},
   "source": [
    "On a donc bien modifié la variable x dans la fonction car on l'a déclarée comme **global**, mais pas celle de y qui est restée une variable locale."
   ]
  },
  {
   "cell_type": "markdown",
   "id": "0e3fe2c1-8a63-40e3-96e7-edddf62c5cb1",
   "metadata": {},
   "source": [
    "## 3-1-2 Documentation des fonctions"
   ]
  },
  {
   "cell_type": "markdown",
   "id": "f6e4deb7-8b72-4927-b73f-9064eff6efd9",
   "metadata": {},
   "source": [
    "La documentation des fonctions (docstring) est cruciale car elle :\n",
    "\n",
    "- Facilite la compréhension du code\n",
    "- Guide les utilisateurs\n",
    "- Favorise la collaboration\n",
    "- Simplifie la maintenance\n",
    "- Clarifie les entrées et sorties attendues,\n",
    "- Indique les limitations et les prérequis,\n",
    "- Renforce la qualité et la fiabilité du code."
   ]
  },
  {
   "cell_type": "markdown",
   "id": "b4265bb7-f551-4bda-bc60-1e260c3f1c63",
   "metadata": {},
   "source": [
    "En général, on indique dans cette section\n",
    "- Le but de la fonction\n",
    "- Une description\n",
    "- Les arguments attendus\n",
    "- Les valeurs retournées"
   ]
  },
  {
   "cell_type": "code",
   "execution_count": 21,
   "id": "d0796cd9-9543-4677-b895-be7ffbcc7c63",
   "metadata": {},
   "outputs": [],
   "source": [
    "def calculer_carre(valeur):\n",
    "    # La documentation se trouve entre triple \" avec indentation\n",
    "    \"\"\"\n",
    "    Calcule le carre d'un nombre.\n",
    "    Args:\n",
    "        nombre à élever au carré (int ou float)\n",
    "    Returns:\n",
    "        float: Carré calculé (float)\n",
    "    Raises:\n",
    "        ValueError: Pas de valeur valide à calculer.\n",
    "    Example:\n",
    "        >>> calculer_carré(5)\n",
    "        25.0\n",
    "    \"\"\"\n",
    "    if not valeur:\n",
    "        raise ValueError(\"Pas de valeur valide à calculer.\")\n",
    "    if type(valeur) not in (float, int):\n",
    "        raise ValueError(\"Valeur non numérique.\")\n",
    "    \n",
    "    carre =  float(valeur **2)\n",
    "    return carre\n"
   ]
  },
  {
   "cell_type": "code",
   "execution_count": 22,
   "id": "8f8b7e72-de7e-4149-8f97-e5f33821dca9",
   "metadata": {},
   "outputs": [
    {
     "data": {
      "text/plain": [
       "25.0"
      ]
     },
     "execution_count": 22,
     "metadata": {},
     "output_type": "execute_result"
    }
   ],
   "source": [
    "calculer_carre(5)"
   ]
  },
  {
   "cell_type": "code",
   "execution_count": 23,
   "id": "aadd7b49-9415-4515-9075-23cf43d496ca",
   "metadata": {},
   "outputs": [
    {
     "name": "stdout",
     "output_type": "stream",
     "text": [
      "Help on function calculer_carre in module __main__:\n",
      "\n",
      "calculer_carre(valeur)\n",
      "    Calcule le carre d'un nombre.\n",
      "    Args:\n",
      "        nombre à élever au carré (int ou float)\n",
      "    Returns:\n",
      "        float: Carré calculé (float)\n",
      "    Raises:\n",
      "        ValueError: Pas de valeur valide à calculer.\n",
      "    Example:\n",
      "        >>> calculer_carré(5)\n",
      "        25.0\n",
      "\n"
     ]
    }
   ],
   "source": [
    "help(calculer_carre)"
   ]
  },
  {
   "cell_type": "markdown",
   "id": "9aa01fac-fe0f-4673-be22-307960987d93",
   "metadata": {},
   "source": [
    "*Remarque:  Maintenant que l'on sait définir et utiliser nos propres fonctions, on se rend compte qu'on en utilisait deja, comme print ou comme help. Ce sont des fonctions fournies par python mais elles sont très semblables à celles que vous avez créées.*"
   ]
  },
  {
   "cell_type": "code",
   "execution_count": 24,
   "id": "69723c14-2bdc-4c28-a668-a4de15721372",
   "metadata": {},
   "outputs": [
    {
     "name": "stdout",
     "output_type": "stream",
     "text": [
      "Help on built-in function print in module builtins:\n",
      "\n",
      "print(*args, sep=' ', end='\\n', file=None, flush=False)\n",
      "    Prints the values to a stream, or to sys.stdout by default.\n",
      "    \n",
      "    sep\n",
      "      string inserted between values, default a space.\n",
      "    end\n",
      "      string appended after the last value, default a newline.\n",
      "    file\n",
      "      a file-like object (stream); defaults to the current sys.stdout.\n",
      "    flush\n",
      "      whether to forcibly flush the stream.\n",
      "\n"
     ]
    }
   ],
   "source": [
    "#on peut de la même manière consulter leur aide\n",
    "help(print)"
   ]
  },
  {
   "cell_type": "markdown",
   "id": "f858521f-de05-434b-88ce-c1f45d71ccdf",
   "metadata": {},
   "source": [
    "## 3-1-3 Modules et importation de fonctions"
   ]
  },
  {
   "cell_type": "markdown",
   "id": "fee8cc6d-8ddc-4330-a3bc-9156ef1aab63",
   "metadata": {},
   "source": [
    "Revenons à la fonction de calcul d'aire de rectangle, ajoutons une documentation succinte:   "
   ]
  },
  {
   "cell_type": "markdown",
   "id": "2ddef734-ab57-4216-b068-32094d22782f",
   "metadata": {},
   "source": [
    "```python\n",
    "def calculer_aire_rectangle_mod(longueur, largeur): \n",
    "    \"\"\" Cette Fonction calcule l'aire d'un rectangle les arguments sont des valeurs numeriques \n",
    "    de longueur et largeur\"\"\"\n",
    "    aire = longueur * largeur\n",
    "    return aire \n",
    "```"
   ]
  },
  {
   "cell_type": "markdown",
   "id": "9174a907-926c-446f-89f2-e80274f96917",
   "metadata": {},
   "source": [
    "Copions cette fonction dans un bloc note ou dans notepad++ ou  et enregistrons le fichier sous le nom mes_fonctions_surface.py dans le même dossier que notre notebook.\n",
    "Nous allons maintenant l'importer:"
   ]
  },
  {
   "cell_type": "code",
   "execution_count": 25,
   "id": "a56c0348-896d-40b3-a8d4-b9fd6225db29",
   "metadata": {},
   "outputs": [
    {
     "name": "stdout",
     "output_type": "stream",
     "text": [
      "45\n",
      "Help on function calculer_aire_rectangle_mod in module mes_fonctions_surface:\n",
      "\n",
      "calculer_aire_rectangle_mod(longueur, largeur)\n",
      "    Cette Foction calcule l'aire d'un rectangle les arguments sont des valeurs numeriques \n",
      "    de longueur et largeur\n",
      "\n"
     ]
    }
   ],
   "source": [
    "#importer (en principe on le fait au début du programme ou du notebook)\n",
    "from mes_fonctions_surface import calculer_aire_rectangle_mod\n",
    "# et appeler\n",
    "mon_aire = calculer_aire_rectangle_mod(5,9)\n",
    "print(mon_aire)\n",
    "help(calculer_aire_rectangle_mod)"
   ]
  },
  {
   "cell_type": "markdown",
   "id": "b41ac02c-e7c0-4dc6-bc22-f4a1f5d63bac",
   "metadata": {},
   "source": [
    "La condition if __name__ == '__main__': permet de déterminer si le code est exécuté directement ou importé en tant que module. Cela permet d'utiliser le fichier à la fois comme programme principal et comme module à importer.  \n",
    "Créeons un nouveau fichier mes_fonctions_surface2.py.  \n",
    "Contrairement au cas précédent, ce code peut être éxécuté de manière autonome."
   ]
  },
  {
   "cell_type": "markdown",
   "id": "c5143839-1354-4b27-87e5-a68106a534a1",
   "metadata": {},
   "source": [
    "```python\n",
    "def calculer_aire_rectangle_mod2(longueur, largeur):\n",
    "    \"\"\"Cette fonction calcule l'aire d'un rectangle avec des valeurs numériques de longueur et largeur.\"\"\"\n",
    "    aire = longueur * largeur\n",
    "    return aire\n",
    "\n",
    "if __name__ == '__main__':\n",
    "    # Exemple d'utilisation en tant que programme principal\n",
    "    longueur = 5\n",
    "    largeur = 9\n",
    "    mon_aire = calculer_aire_rectangle_mod2(longueur, largeur)\n",
    "    print(f\"L'aire du rectangle de longueur {longueur} et largeur {largeur} est : {mon_aire}\")\n",
    "```"
   ]
  },
  {
   "cell_type": "markdown",
   "id": "af9a1472-c24f-473c-924b-e43b2078d546",
   "metadata": {},
   "source": [
    "On peut faire un appel à la fonction comme on le faisait précedemment:"
   ]
  },
  {
   "cell_type": "code",
   "execution_count": 26,
   "id": "010917f7-a252-462d-8955-be67544fe2fa",
   "metadata": {},
   "outputs": [
    {
     "name": "stdout",
     "output_type": "stream",
     "text": [
      "L'aire du rectangle de longueur 7 et largeur 12 est : 84\n"
     ]
    }
   ],
   "source": [
    "from mes_fonctions_surface2 import calculer_aire_rectangle_mod2\n",
    "\n",
    "# # Exemple d'utilisation en tant que module importé\n",
    "longueur = 7\n",
    "largeur = 12\n",
    "mon_aire = calculer_aire_rectangle_mod2(longueur, largeur)\n",
    "print(f\"L'aire du rectangle de longueur {longueur} et largeur {largeur} est : {mon_aire}\")\n"
   ]
  },
  {
   "cell_type": "markdown",
   "id": "bd3e03f0-f536-44c8-85ae-3d6437870fca",
   "metadata": {},
   "source": [
    "Mais on peut aussi executer directement le code contenu dans le fichier mes_fonctions_surface2. Dans ce cas, on utilisera les valeurs par défaut 5 et 9 contenues dans le bloc **if __name__ == '__main__':**"
   ]
  },
  {
   "cell_type": "code",
   "execution_count": 27,
   "id": "85a81cff-2964-4f0b-9248-eaf52ec12a86",
   "metadata": {},
   "outputs": [
    {
     "name": "stdout",
     "output_type": "stream",
     "text": [
      "L'aire du rectangle de longueur 5 et largeur 9 est : 45\n"
     ]
    }
   ],
   "source": [
    "%run mes_fonctions_surface2.py"
   ]
  },
  {
   "cell_type": "markdown",
   "id": "1a2fe4ec-f93b-4258-ae2b-bdf61be4e8fc",
   "metadata": {},
   "source": [
    "Avec mes_fonctions_surface, ça n'était pas possible, car on n'avait pas prévu le cas **if __name__ == '__main__':**"
   ]
  },
  {
   "cell_type": "code",
   "execution_count": 28,
   "id": "39b9e979-09e5-4137-a61d-d2c1a9101e9f",
   "metadata": {},
   "outputs": [],
   "source": [
    "%run mes_fonctions_surface.py"
   ]
  },
  {
   "cell_type": "markdown",
   "id": "65a8695e-dd90-44ba-92e8-14f9a0425f4a",
   "metadata": {},
   "source": [
    "Un des interêts de cette syntaxe est de pouvoir tester independamment les fonctions contenues dans les fichiers.  \n",
    "Le code se trouvant dans le bloc if __name__ == '__main__': ne s'éxécutera que si le code contenu dans le fichier est executé directement (si c'est le code principal indiqué par __name__ == '__main__') sinon, dans le cas d'un import, cette partie sera simplement ignorée."
   ]
  },
  {
   "cell_type": "markdown",
   "id": "1f7e62bd-5dd5-4198-ae9d-de349d14b2f4",
   "metadata": {
    "tags": []
   },
   "source": [
    "[Exercices 0 à 6](exercices/Exercices3.ipynb)"
   ]
  },
  {
   "cell_type": "markdown",
   "id": "d249e08c-012e-4f6a-a450-b1046e4c2f80",
   "metadata": {},
   "source": [
    "# 3-2 Les Classes, initiation à la programmation orientée objet"
   ]
  },
  {
   "cell_type": "markdown",
   "id": "ddf7bc79-8313-4137-8d70-d9308160de5e",
   "metadata": {},
   "source": [
    "### 3-2-1 Pourquoi des classes?"
   ]
  },
  {
   "cell_type": "markdown",
   "id": "402e4d1d-e81f-43db-b7ad-4d579180c7ce",
   "metadata": {},
   "source": [
    "Une classe peut être vue comme un modèle ou un plan pour créer des objets. Elle définit:\n",
    " - Des propriétés (variables qui seront ici appelées des **attributs de classe**) \n",
    " - Des actions (fonctions qui seront , quand elles appartiennent à une classe, les fonctions sont appelées  **méthodes**) \n",
    " \n",
    "Les objets créés à partir d'une classe sont appelés des **instances**. \n",
    "Une classe permet d'organiser et de regrouper des attributs et des methodes liées, ce qui facilite la réutilisation du code et la gestion des données. En utilisant des classes, on peut représenter des objets du monde réel et résoudre des problèmes de manière plus structurée."
   ]
  },
  {
   "cell_type": "markdown",
   "id": "eb17fea9-fbdf-41ba-ab46-42d05bacb122",
   "metadata": {},
   "source": [
    "### 3-2-2 Définir une classe"
   ]
  },
  {
   "cell_type": "markdown",
   "id": "ace44687-ea98-4a85-acb0-d408eec1313f",
   "metadata": {},
   "source": [
    "Les conventions de nommage sont:\n",
    "\n",
    "- Si le nom de la classe est composé de plusieurs mots, chaque mot doit commencer par une lettre majuscule et ne pas contenir d'underscores.\n",
    "- Éviter d'utiliser des caractères spéciaux ou des symboles dans le nom de la classe.\n",
    "\n",
    "C'est la notation Pascal case"
   ]
  },
  {
   "cell_type": "markdown",
   "id": "142a1b0f-a7a6-4bf7-8ee5-467e3fdcc972",
   "metadata": {},
   "source": [
    "Definissons notre première classe:"
   ]
  },
  {
   "cell_type": "code",
   "execution_count": 30,
   "id": "1ca0ce23-2010-46e4-af8b-8b08c0486e3c",
   "metadata": {},
   "outputs": [],
   "source": [
    "class CalculateurSurface:\n",
    "    \n",
    "    #definissons des methodes \n",
    "    def calculer_aire_rectangle(self, longueur, largeur):\n",
    "        aire = longueur * largeur\n",
    "        return aire\n",
    "    \n",
    "    def calculer_aire_cercle(self, rayon):\n",
    "        aire = 3.14 * rayon ** 2\n",
    "        return aire\n"
   ]
  },
  {
   "cell_type": "markdown",
   "id": "629347bb-1fdf-4390-9e6b-92db283b41cb",
   "metadata": {},
   "source": [
    "Le mot clé **'self'** fait référence à l'instance de la classe en cours. Il est necessaire comme premier argument de la methode."
   ]
  },
  {
   "cell_type": "markdown",
   "id": "62d847ff-52b5-424d-a0ed-5562e2b2eec9",
   "metadata": {},
   "source": [
    "Créons un instance de la classe qui nous permettra d'utiliser les methodes de la classe:"
   ]
  },
  {
   "cell_type": "code",
   "execution_count": 31,
   "id": "d143a7ad-66b9-4f2b-82df-daf1dac08ce5",
   "metadata": {},
   "outputs": [],
   "source": [
    "calculateur = CalculateurSurface() # creer une instance de la classe CalculateurSurface()"
   ]
  },
  {
   "cell_type": "markdown",
   "id": "a5d4760b-6dad-49e8-bf66-fa89c5178356",
   "metadata": {},
   "source": [
    "Utilisons l'objet calculateur pour effectuer des calculs spécifiques (aire d'un rectangle et aire d'un cercle) en utilisant les méthodes définies dans la classe CalculateurSurface."
   ]
  },
  {
   "cell_type": "code",
   "execution_count": 32,
   "id": "9b0110ab-9264-4fd7-9ce4-f8e653d754c2",
   "metadata": {
    "tags": []
   },
   "outputs": [
    {
     "name": "stdout",
     "output_type": "stream",
     "text": [
      "L'aire du rectangle est : 50\n",
      "L'aire du cercle est : 28.26\n"
     ]
    }
   ],
   "source": [
    "#Appel de la méthode \"calculer_aire_rectangle\" sur l'objet \"calculateur\" \n",
    "aire_rectangle = calculateur.calculer_aire_rectangle(5, 10) \n",
    "print(\"L'aire du rectangle est :\", aire_rectangle)\n",
    "# idem pour la methode \"calculer_aire_cercle\"\n",
    "aire_cercle = calculateur.calculer_aire_cercle(3)\n",
    "print(\"L'aire du cercle est :\", aire_cercle)"
   ]
  },
  {
   "cell_type": "markdown",
   "id": "440ae7b7-dd0e-4d6a-8afa-38a733523564",
   "metadata": {},
   "source": [
    "La syntaxe **instance.methode()** est utilisée pour appeler une méthode sur une instance spécifique d'une classe.  \n",
    "Avec calculateur.calculer_aire_rectangle(5, 10) on a bien appelé la méthode calculer_aire_rectangle avec les arguments 5 et 10 que l'on a appliqué à l'instance calculateur."
   ]
  },
  {
   "cell_type": "markdown",
   "id": "3e4cee9b-f911-4cb4-9953-2a7dc9f9126f",
   "metadata": {},
   "source": [
    "### 3-2-3 Initialiser une classe"
   ]
  },
  {
   "cell_type": "markdown",
   "id": "7b634c65-5d51-4fe8-9ecf-3c39f9c2c747",
   "metadata": {},
   "source": [
    "On peut aussi initialiser la classe. De cette manière, on peut définir des attributs spécifiques à chaque instance de la classe. ce qui offrirait davantage de flexibilité et de personnalisation. Par exemple, on peut ajouter un attribut précision qui définit  la précision du resultat."
   ]
  },
  {
   "cell_type": "code",
   "execution_count": 33,
   "id": "5dc9b88f-690d-4fb1-a0dc-04fbca1f458d",
   "metadata": {},
   "outputs": [],
   "source": [
    "class CalculateurSurface:\n",
    "    \n",
    "    # Initialisons la classe\n",
    "    def __init__(self, precision):\n",
    "        self.precision = precision\n",
    "\n",
    "    def calculer_aire_rectangle(self, longueur, largeur):\n",
    "        aire = longueur * largeur\n",
    "        return round(aire, self.precision)\n",
    "\n",
    "    def calculer_aire_cercle(self, rayon):\n",
    "        import math\n",
    "        aire = 3.14 * rayon ** 2\n",
    "        return round(aire, self.precision)"
   ]
  },
  {
   "cell_type": "markdown",
   "id": "f6e726e3-3e0c-42b3-992b-3511499965d7",
   "metadata": {},
   "source": [
    "On peut céer une instance avec une précision de 2 décimales en précisant la valeur entre parenthèses."
   ]
  },
  {
   "cell_type": "code",
   "execution_count": 34,
   "id": "eecf3ba9-8564-4a90-ba78-9451eceb844d",
   "metadata": {},
   "outputs": [
    {
     "name": "stdout",
     "output_type": "stream",
     "text": [
      "L'aire du rectangle en precision 2 est : 54.45\n",
      "L'aire du cercle en precision 2 est : 50.24\n"
     ]
    }
   ],
   "source": [
    "calculateur_1 = CalculateurSurface2()  \n",
    "\n",
    "aire_rectangle = calculateur_1.calculer_aire_rectangle(5.00878, 10.8715)\n",
    "print(\"L'aire du rectangle en precision 2 est :\", aire_rectangle)\n",
    "\n",
    "aire_cercle = calculateur_1.calculer_aire_cercle(4)\n",
    "print(\"L'aire du cercle en precision 2 est :\", aire_cercle)"
   ]
  },
  {
   "cell_type": "markdown",
   "id": "66dd2f53-ddab-4544-914e-192806a25898",
   "metadata": {},
   "source": [
    "Même chose avec une précision de 5:"
   ]
  },
  {
   "cell_type": "code",
   "execution_count": 35,
   "id": "631b9556-fdc9-43de-b77c-e65f80df24a1",
   "metadata": {},
   "outputs": [
    {
     "name": "stdout",
     "output_type": "stream",
     "text": [
      "L'aire du rectangle en precision 5 est : 54.45098\n",
      "L'aire du cercle en precision 5 est : 42.01623\n"
     ]
    }
   ],
   "source": [
    "calculateur_2 = CalculateurSurface(5)  # creer une instance avec une précision de 5 décimales\n",
    "\n",
    "aire_rectangle = calculateur_2.calculer_aire_rectangle(5.008578, 10.871545)\n",
    "print(\"L'aire du rectangle en precision 5 est :\", aire_rectangle)\n",
    "\n",
    "aire_cercle = calculateur_2.calculer_aire_cercle(3.658)\n",
    "print(\"L'aire du cercle en precision 5 est :\", aire_cercle)"
   ]
  },
  {
   "cell_type": "markdown",
   "id": "fa2a9093-4870-44d5-923f-c9e63b223c66",
   "metadata": {},
   "source": [
    "revenons sur:\n",
    "<pre>     \n",
    "    def __init__(self, precision):\n",
    "        self.precision = precision \n",
    "</pre>\n",
    "nous définissons une méthode spéciale appelée   \\_\\_init\\_\\_ (avec des double underscore). Cette méthode est appelée automatiquement lorsqu'une nouvelle instance de la classe est créée.\n",
    "Le premier paramètre de cette méthode est self, qui fait référence à l'instance de la classe elle-même. Les autres paramètres, comme precision dans cet exemple, sont les valeurs que nous fournissons lors de l'initialisation de la classe."
   ]
  },
  {
   "cell_type": "markdown",
   "id": "193921d4-bedd-4382-accd-68309828d387",
   "metadata": {},
   "source": [
    "En utilisant self, chaque instance de la classe CalculateurSurface peut avoir ses propres valeurs d'attributs et accéder à ses propres méthodes. \n",
    "Ainsi, chaque instance de la classe CalculateurSurface peut être configurée avec des paramètres spécifiques de précision."
   ]
  },
  {
   "cell_type": "markdown",
   "id": "53785ed3-759b-489d-b5e4-870d635ead99",
   "metadata": {},
   "source": [
    "### 3-2-4 Imports"
   ]
  },
  {
   "cell_type": "markdown",
   "id": "28ea1581-824a-4dc8-9fe8-778f152f59b8",
   "metadata": {},
   "source": [
    "Les classes que nous utilisons peuvent être définies à l'exterieur de notre code. \n",
    "Pour le vérifier, créer un nouveau fichier, avec notepad++ par exemple, contenant le code suivant et le sauver dans le fichier MesClassesSurfaceVolume.py. Nous avons repris la classe CalculateurSurface précedente et ajouté une classe CalculateurVolume"
   ]
  },
  {
   "cell_type": "markdown",
   "id": "4d377b7b-ad9f-4db8-8339-7d756dca1cee",
   "metadata": {},
   "source": [
    "```python\n",
    "class CalculateurSurface:\n",
    "    \n",
    "    # Initialisons la classe\n",
    "    def __init__(self, precision):\n",
    "        self.precision = precision\n",
    "\n",
    "    def calculer_aire_rectangle(self, longueur, largeur):\n",
    "        aire = longueur * largeur\n",
    "        return round(aire, self.precision)\n",
    "\n",
    "    def calculer_aire_cercle(self, rayon):\n",
    "        import math\n",
    "        aire = 3.14 * rayon ** 2\n",
    "        return round(aire, self.precision)\n",
    "\n",
    "class CalculateurVolume:\n",
    "\n",
    "    def __init__(self, precision):\n",
    "        self.precision = precision\n",
    "\n",
    "    def calculer_volume_parallelepipede(self, longueur, largeur, hauteur):\n",
    "      \n",
    "        volume = longueur * largeur * hauteur\n",
    "        return round(volume, self.precision)\n",
    "\n",
    "    def calculer_volume_sphere(self, rayon):\n",
    "        volume = (4/3) * 3.14 * rayon ** 3\n",
    "        return round(volume, self.precision)\n",
    "```"
   ]
  },
  {
   "cell_type": "markdown",
   "id": "dd7799ca-dcac-43a7-b2df-38a2336534f7",
   "metadata": {},
   "source": [
    "Nous allons maintenant l'importer pour l'utiliser et pouvoir créer des instances."
   ]
  },
  {
   "cell_type": "markdown",
   "id": "06cfb5bc-abca-489d-9b43-192b7c060034",
   "metadata": {},
   "source": [
    "Commençons par importer l'ensemble des classes du fichier MesClassesSurfaceVolume.py avec import MesClassesSurfaceVolume"
   ]
  },
  {
   "cell_type": "code",
   "execution_count": 36,
   "id": "f0026b46-7e07-469d-9e6e-69f2c195a86a",
   "metadata": {
    "tags": []
   },
   "outputs": [
    {
     "name": "stdout",
     "output_type": "stream",
     "text": [
      "L'aire du rectangle : 54.5\n",
      "L'aire du cercle est : 3.1\n",
      "Le volume du parallelepipede est : 45\n"
     ]
    }
   ],
   "source": [
    "import MesClassesSurfaceVolume\n",
    "\n",
    "calculateur_Surf = MesClassesSurfaceVolume.CalculateurSurface(1)  # 1 decimale\n",
    "\n",
    "aire_rectangle = calculateur_Surf.calculer_aire_rectangle(5.00878, 10.8715)\n",
    "print(\"L'aire du rectangle :\", aire_rectangle)\n",
    "\n",
    "aire_cercle = calculateur_Surf.calculer_aire_cercle(1)\n",
    "print(\"L'aire du cercle est :\", aire_cercle)\n",
    "\n",
    "calculateur_Vol = MesClassesSurfaceVolume.CalculateurVolume(1)\n",
    "volume_paral = calculateur_Vol.calculer_volume_parallelepipede(1,9,5)\n",
    "print(\"Le volume du parallelepipede est :\", volume_paral)"
   ]
  },
  {
   "cell_type": "markdown",
   "id": "3479f6ae-29b9-4787-a558-76912ea75540",
   "metadata": {},
   "source": [
    "Il est fréquent que l'on utilise seulement certaines classes du fichier, on peut choisir les methodes importées avec <pre>from ... import... </pre>\n",
    "Essayons ici de n'importer que la classe CalculateurSurface. Lorsque l'on tente d'utiliser la classe CalculateurVolume, elle n'est pas définie."
   ]
  },
  {
   "cell_type": "code",
   "execution_count": 1,
   "id": "02465c24-b863-41df-bba9-ae3777dece33",
   "metadata": {},
   "outputs": [
    {
     "name": "stdout",
     "output_type": "stream",
     "text": [
      "L'aire du rectangle en precision 4 est : 54.4532\n",
      "L'aire du cercle en precision 4 est : 66.0674\n"
     ]
    },
    {
     "ename": "NameError",
     "evalue": "name 'MesClassesSurfaceVolume' is not defined",
     "output_type": "error",
     "traceback": [
      "\u001b[1;31m---------------------------------------------------------------------------\u001b[0m",
      "\u001b[1;31mNameError\u001b[0m                                 Traceback (most recent call last)",
      "Cell \u001b[1;32mIn[1], line 12\u001b[0m\n\u001b[0;32m      9\u001b[0m aire_cercle \u001b[38;5;241m=\u001b[39m calculateur_1\u001b[38;5;241m.\u001b[39mcalculer_aire_cercle(\u001b[38;5;241m4.587\u001b[39m)\n\u001b[0;32m     10\u001b[0m \u001b[38;5;28mprint\u001b[39m(\u001b[38;5;124m\"\u001b[39m\u001b[38;5;124mL\u001b[39m\u001b[38;5;124m'\u001b[39m\u001b[38;5;124maire du cercle en precision 4 est :\u001b[39m\u001b[38;5;124m\"\u001b[39m, aire_cercle)\n\u001b[1;32m---> 12\u001b[0m calculateur_Vol \u001b[38;5;241m=\u001b[39m \u001b[43mMesClassesSurfaceVolume\u001b[49m\u001b[38;5;241m.\u001b[39mCalculateurVolume(\u001b[38;5;241m1\u001b[39m)\n\u001b[0;32m     13\u001b[0m volume_paral \u001b[38;5;241m=\u001b[39m calculateur_Vol\u001b[38;5;241m.\u001b[39mcalculer_volume_parallelepipede(\u001b[38;5;241m1\u001b[39m,\u001b[38;5;241m9\u001b[39m,\u001b[38;5;241m5\u001b[39m)\n\u001b[0;32m     14\u001b[0m \u001b[38;5;28mprint\u001b[39m(\u001b[38;5;124m\"\u001b[39m\u001b[38;5;124mLe volume du parallelepipede est :\u001b[39m\u001b[38;5;124m\"\u001b[39m, volume_paral)\n",
      "\u001b[1;31mNameError\u001b[0m: name 'MesClassesSurfaceVolume' is not defined"
     ]
    }
   ],
   "source": [
    "#ATTENTION : Il faut redemarrer le Kernel car les importations des cellules précedentes \n",
    "# sont ecore valides.\n",
    "from MesClassesSurfaceVolume import CalculateurSurface\n",
    "calculateur_1 = CalculateurSurface(4)  # Initialisation avec une précision de 4 décimales\n",
    "\n",
    "aire_rectangle = calculateur_1.calculer_aire_rectangle(5.00878, 10.87155)\n",
    "print(\"L'aire du rectangle en precision 4 est :\", aire_rectangle)\n",
    "\n",
    "aire_cercle = calculateur_1.calculer_aire_cercle(4.587)\n",
    "print(\"L'aire du cercle en precision 4 est :\", aire_cercle)\n",
    "\n",
    "calculateur_Vol = MesClassesSurfaceVolume.CalculateurVolume(1)\n",
    "volume_paral = calculateur_Vol.calculer_volume_parallelepipede(1,9,5)\n",
    "print(\"Le volume du parallelepipede est :\", volume_paral)"
   ]
  },
  {
   "cell_type": "markdown",
   "id": "546e7098-f677-4044-a7f5-5ab19a76142a",
   "metadata": {},
   "source": [
    "On a bien une erreur car la classe CalculateurVolume n'a pas été importée."
   ]
  },
  {
   "cell_type": "markdown",
   "id": "9837c7b0-94f5-4d39-81e2-be7aac82813a",
   "metadata": {},
   "source": [
    "Souvent, les classes soient importées avec un nom raccourci (alias) avec le mot clé **as**"
   ]
  },
  {
   "cell_type": "code",
   "execution_count": 2,
   "id": "b3794b5d-9f00-4deb-944e-b5870f5dc847",
   "metadata": {},
   "outputs": [
    {
     "name": "stdout",
     "output_type": "stream",
     "text": [
      "L'aire du rectangle en precision 4 est : 54.5\n",
      "L'aire du cercle en precision 4 est : 28.3\n"
     ]
    }
   ],
   "source": [
    "import MesClassesSurfaceVolume as mcsv\n",
    "\n",
    "calculateur_1 = mcsv.CalculateurSurface(1)  \n",
    "aire_rectangle = calculateur_1.calculer_aire_rectangle(5.00878, 10.8715)\n",
    "print(\"L'aire du rectangle en precision 4 est :\", aire_rectangle)\n",
    "\n",
    "aire_cercle = calculateur_1.calculer_aire_cercle(3)\n",
    "print(\"L'aire du cercle en precision 4 est :\", aire_cercle)"
   ]
  },
  {
   "cell_type": "markdown",
   "id": "6e5f451c-378c-4a60-ad16-6d30921616ae",
   "metadata": {},
   "source": [
    "On a donc crée notre classe que l'on a ensuite importée pour l'utilisation dans notre code. On peut bien sûr importer des classes qui ont étées écrites par d'autres personnes, par exemple des collèques qui travaillent sur un projet similaire.   \n",
    "Mais il existe de nombreuses bibliothèques qui sont en réalité des classes mises à disposition de tous."
   ]
  },
  {
   "cell_type": "markdown",
   "id": "468e2e6a-2c14-4220-9cf7-b80556eae928",
   "metadata": {},
   "source": [
    "### 3-2-5 Notion d'héritage"
   ]
  },
  {
   "cell_type": "markdown",
   "id": "e91fb9fc-b68a-415d-938f-7e3729e64ea0",
   "metadata": {},
   "source": [
    "L'héritage de classe permet à une classe (enfant) d'hériter des propriétés et méthodes d'une autre classe (parent). Cela favorise la réutilisation du code, car la classe enfant peut utiliser et étendre les fonctionnalités de la classe parent. Par exemple, une classe \"Forme\" peut être la classe parent, et des classes spécifiques comme \"Carre\" et \"Cercle\" peuvent hériter de ses caractéristiques tout en ayant leurs propres particularités. Cela simplifie le développement en évitant la duplication du code et en organisant logiquement les relations entre les classes."
   ]
  },
  {
   "cell_type": "code",
   "execution_count": 4,
   "id": "0b0d689e-96ff-45f2-a10f-cd8a4ec3805a",
   "metadata": {},
   "outputs": [],
   "source": [
    "class Forme:\n",
    "    def __init__(self, couleur):\n",
    "        self.couleur = couleur\n",
    "\n",
    "    def afficher_couleur(self):\n",
    "        print(f\"La forme est de couleur {self.couleur}.\")\n",
    "\n",
    "class Carre(Forme): # Entre parenthèse, la classe parent\n",
    "    def __init__(self, couleur, cote):\n",
    "        super().__init__(couleur) # Appel la methode __init__ de la classe parent(Forme)\n",
    "        self.cote = cote # initialisation de la classe Carre\n",
    "\n",
    "    def calculer_surface(self):\n",
    "        return self.cote ** 2\n",
    "\n",
    "class Cercle(Forme): # Entre parenthèse, la classe parent\n",
    "    def __init__(self, couleur, rayon):\n",
    "        super().__init__(couleur)# Appel la methode __init__ de la classe parent(Forme)\n",
    "        self.rayon = rayon # initialisation de la classe Cercle\n",
    "\n",
    "    def calculer_surface(self):\n",
    "        return 3.14 * self.rayon ** 2\n"
   ]
  },
  {
   "cell_type": "code",
   "execution_count": 5,
   "id": "69f5390e-7b7a-4669-b58d-973b3141c780",
   "metadata": {},
   "outputs": [
    {
     "name": "stdout",
     "output_type": "stream",
     "text": [
      "La forme est de couleur bleue.\n",
      "Surface du carré : 25 unités carrées.\n",
      "La forme est de couleur rouge.\n",
      "Surface du cercle : 28.26 unités carrées.\n"
     ]
    }
   ],
   "source": [
    "# Utilisation des classes\n",
    "carre1 = Carre(\"bleue\", 5)\n",
    "carre1.afficher_couleur() # On peut afficher la couleur d'une instance de la classe carre \n",
    "                          #alors que carre n'a pas de methodes affiher couleur, c'est grâce à \n",
    "                          #l'héritage de la classe Forme\n",
    "print(f\"Surface du carré : {carre1.calculer_surface()} unités carrées.\")\n",
    "\n",
    "cercle1 = Cercle(\"rouge\", 3)\n",
    "cercle1.afficher_couleur()\n",
    "print(f\"Surface du cercle : {cercle1.calculer_surface()} unités carrées.\")"
   ]
  },
  {
   "cell_type": "markdown",
   "id": "5e9a432d-0c20-4a0e-b220-b9d6df45fbf2",
   "metadata": {},
   "source": [
    "La classe parente Forme définit une forme générique avec une couleur, tandis que les classes enfants Carre et Cercle héritent de ses propriétés et méthodes. Le constructeur __init__ initialise la couleur, et l'utilisation de **super()** permet d'appeler le constructeur de la classe parente. Les instances de Carre et Cercle peuvent ainsi accéder à la méthode afficher_couleur. Chaque classe enfant possède également des méthodes spécifiques telles que calculer_surface pour le carré et le cercle."
   ]
  },
  {
   "cell_type": "markdown",
   "id": "bb3aa89e-ee81-44e1-a45a-1d3eb535df6d",
   "metadata": {},
   "source": [
    "Remarque: \n",
    "\n",
    "\n",
    "On peut revenir sur des syntaxes rencontrées plus tôt dans le cours.\n",
    "Comparons les syntaxes ma_liste.append(élément) et len(ma_liste):\n",
    "\n",
    "- **ma_liste.append(élément):**  \n",
    "        ma_liste est une instance de la classe list.\n",
    "        Lorsque vous appelez **append(élément)** sur ma_liste, vous utilisez une méthode spécifique à la classe list.\n",
    "        En utilisant la syntaxe point (.), vous appelez la méthode append() sur l'objet ma_liste, ce qui modifie directement l'objet ma_liste.\n",
    "\n",
    "- **len(ma_liste):**  \n",
    "        len() est une fonction intégrée de Python.\n",
    "        Lorsque vous appelez len(ma_liste), vous n'utilisez pas une méthode de l'objet ma_liste. Vous appelez simplement la fonction len() et lui fournissez ma_liste en tant qu'argument.\n",
    "        len(ma_liste) ne modifie pas ma_liste. Au lieu de cela, elle renvoie simplement la longueur actuelle de ma_liste.\n",
    "\n",
    "En résumé, avec ma_liste.append(élément), vous appelez une méthode spécifique à la classe list pour modifier directement l'objet ma_liste en ajoutant un nouvel élément à la fin de la liste. Avec len(ma_liste), vous appelez une fonction intégrée qui renvoie simplement la longueur actuelle de la liste ma_liste sans la modifier."
   ]
  },
  {
   "cell_type": "markdown",
   "id": "2193db8b-0aa9-4dc0-9f3a-6ce53c7c069a",
   "metadata": {
    "tags": []
   },
   "source": [
    "[Exercices 7 à 9](exercices/Exercices3.ipynb)"
   ]
  }
 ],
 "metadata": {
  "kernelspec": {
   "display_name": "Python 3 (ipykernel)",
   "language": "python",
   "name": "python3"
  },
  "language_info": {
   "codemirror_mode": {
    "name": "ipython",
    "version": 3
   },
   "file_extension": ".py",
   "mimetype": "text/x-python",
   "name": "python",
   "nbconvert_exporter": "python",
   "pygments_lexer": "ipython3",
   "version": "3.11.7"
  }
 },
 "nbformat": 4,
 "nbformat_minor": 5
}
