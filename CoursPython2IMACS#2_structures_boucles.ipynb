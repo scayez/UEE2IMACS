{
 "cells": [
  {
   "cell_type": "markdown",
   "id": "98c749e1-706c-4238-8f42-0eff7c119206",
   "metadata": {},
   "source": [
    "***\n",
    "# **<center>COURS PYTHON 2IMACS #2</center>**\n",
    "# ***<center>Structures de Données</center>***\n",
    "# ***<center>Structures Boucles</center>***\n",
    "# ***<center>Gestion des erreurs</center>***\n",
    "***"
   ]
  },
  {
   "cell_type": "markdown",
   "id": "1be5b022-5ee3-401e-8677-a350554cf0b7",
   "metadata": {},
   "source": [
    "# 2-1 Les Listes"
   ]
  },
  {
   "cell_type": "markdown",
   "id": "2b8af554-8765-4a3a-b836-a95217a6471b",
   "metadata": {},
   "source": [
    "Les listes sont des structures de données qui permettent de stocker une collection ordonnée d'éléments. Elles peuvent contenir différents types de données tels que des nombres, des chaînes de caractères et même d'autres listes. Les listes sont modifiables, ce qui signifie que l'on peut ajouter, supprimer ou modifier des éléments après leur création. Elles sont souvent utilisées pour stocker des ensembles de données similaires ou pour effectuer des opérations itératives."
   ]
  },
  {
   "cell_type": "markdown",
   "id": "9fcd7bd5-df8b-46fe-8651-65ade68c81ec",
   "metadata": {},
   "source": [
    "## 2-1-1 Déclaration de variables"
   ]
  },
  {
   "cell_type": "markdown",
   "id": "ad0abfd3-3890-4124-962b-2bc27760a3ce",
   "metadata": {},
   "source": [
    "Les éléments d'une liste sont entre crochets ( **[ ]** )."
   ]
  },
  {
   "cell_type": "code",
   "execution_count": null,
   "id": "0887d0a2-5034-4585-9a40-ba89a2625948",
   "metadata": {},
   "outputs": [],
   "source": [
    "ma_liste = ['spam', 'eggs', 'lumberjack', 'parrot', 'cheese', 'Britain']\n",
    "print(ma_liste)"
   ]
  },
  {
   "cell_type": "markdown",
   "id": "6fe77c5c-9270-4b42-a99e-49183313a0cb",
   "metadata": {},
   "source": [
    "## 2-1-2 Nombre d'éléments dans la liste"
   ]
  },
  {
   "cell_type": "markdown",
   "id": "92433ec8-20b0-4a8a-b26d-8f770ea54118",
   "metadata": {},
   "source": [
    "Comme pour les chaines de caractère, on peut connaitre le nombre d'éléments avec **len**"
   ]
  },
  {
   "cell_type": "code",
   "execution_count": null,
   "id": "d431a3d3-0174-4c11-8a66-8f64a74e5d0b",
   "metadata": {},
   "outputs": [],
   "source": [
    "print(len(ma_liste))"
   ]
  },
  {
   "cell_type": "markdown",
   "id": "299591cc-c7b2-4405-8b6a-2ef7ae7b3d48",
   "metadata": {},
   "source": [
    "## 2-1-3 Indexation des éléments"
   ]
  },
  {
   "cell_type": "markdown",
   "id": "e994d6fe-b718-49c5-bf20-3dbce1c8fa3f",
   "metadata": {},
   "source": [
    "Comme pour les chaines de caractères, on peut accéder à des éléments de la liste ou à des tranches par leurs indices. La syntaxe sera **liste[start:stop:step]**\n",
    "- start : L'indice de début de la tranche. Si omis, la tranche commencera au début de la liste.\n",
    "- stop : L'indice de fin de la tranche (non inclus). Si omis, la tranche s'étendra jusqu'à la fin de la liste.\n",
    "- step : Pas de tranche. Par défaut, il est égal à 1."
   ]
  },
  {
   "cell_type": "code",
   "execution_count": null,
   "id": "35900203-70d7-4d2b-bcf4-511b64279e0a",
   "metadata": {},
   "outputs": [],
   "source": [
    "print('liste origine: ',ma_liste)\n",
    "print(\"L'élément en position 3: \",ma_liste[3]) \n",
    "print('Les éléments 0 (inclus) à 3 (non inclus): ',ma_liste[:3])\n",
    "print('Le dernier élément: ',ma_liste[-1]) \n",
    "print('Les 2 derniers éléments: ',ma_liste[:-3])\n",
    "print('Les éléments 2 (inclus) à 4 (non inclus): ',ma_liste[2:4])\n",
    "print('Les éléments 4 (inclus) à 2 (non inclus)',ma_liste[4:2:-1])"
   ]
  },
  {
   "cell_type": "markdown",
   "id": "c12b4ae4-59c4-4f91-b70f-af1137f11237",
   "metadata": {},
   "source": [
    "## 2-1-4 Ajout d'éléments"
   ]
  },
  {
   "cell_type": "markdown",
   "id": "3fe4aa4b-51c0-4dca-a7fb-294fc95bf29e",
   "metadata": {},
   "source": [
    "On peut ajouter un élément avec **append( )**."
   ]
  },
  {
   "cell_type": "code",
   "execution_count": null,
   "id": "eb674d95-5d80-4a1a-8b3d-e7771c502607",
   "metadata": {},
   "outputs": [],
   "source": [
    "print(ma_liste)\n",
    "ma_liste.append('ministry of silly walks')\n",
    "print(ma_liste)"
   ]
  },
  {
   "cell_type": "markdown",
   "id": "633756db-2e5a-468f-b168-79a0e0bf7fcf",
   "metadata": {},
   "source": [
    "*Remarque: La fonction append a modifié ma_liste. Pour la suite du notebook, nous allons avoir besoin de la version initiale de ma_liste. Nous allons donc la ré-initialiser. Nous ferons cette opération pour toutes les fonctions qui modifient les listes.*"
   ]
  },
  {
   "cell_type": "code",
   "execution_count": null,
   "id": "f258d95c-4d3d-4912-b472-fc1fa8eb8736",
   "metadata": {
    "tags": []
   },
   "outputs": [],
   "source": [
    "ma_liste = ['spam', 'eggs', 'lumberjack', 'parrot', 'cheese shop'] #ré initialiser pour futures executions"
   ]
  },
  {
   "cell_type": "markdown",
   "id": "42136daa-452c-4b52-aa2d-cfcfb8bb74f7",
   "metadata": {},
   "source": [
    "Il est important de voir qu'avec ce type de fonction qui modifie la liste d'origine, on ne peut pas affecter le résultat à une nouvelle liste , puisque la fonction renvoit None."
   ]
  },
  {
   "cell_type": "code",
   "execution_count": null,
   "id": "56a0efae-f440-4ced-82a9-a658a53ce8ff",
   "metadata": {
    "tags": []
   },
   "outputs": [],
   "source": [
    "print(ma_liste)\n",
    "test = ma_liste.append('ministry of silly walks')\n",
    "print(ma_liste)\n",
    "print(test)"
   ]
  },
  {
   "cell_type": "markdown",
   "id": "fdd17db2-8fea-49f4-b132-9a12df73ce17",
   "metadata": {
    "tags": []
   },
   "source": [
    "On peut ajouter une liste à une autre toujours avec **append( )**."
   ]
  },
  {
   "cell_type": "code",
   "execution_count": null,
   "id": "0193bf16-ec43-415b-a0e8-c919c3ab08e4",
   "metadata": {},
   "outputs": [],
   "source": [
    "ma_liste2 = [\"Flying Circus\", \"Holy Grail\", \"Life of Brian\"]\n",
    "ma_liste.append(ma_liste2)\n",
    "print(ma_liste)"
   ]
  },
  {
   "cell_type": "code",
   "execution_count": null,
   "id": "ac8334ad-99f0-4bb2-a1e1-9f1f6a5592fc",
   "metadata": {},
   "outputs": [],
   "source": [
    "#ré initialiser pour futures executions\n",
    "ma_liste = ['spam', 'eggs', 'lumberjack', 'parrot', 'cheese shop'] "
   ]
  },
  {
   "cell_type": "markdown",
   "id": "14299572-0b50-4ee4-9525-dbffbfb42c56",
   "metadata": {},
   "source": [
    "*Remarque: Ici on a ajouté une liste, on a maintenant une liste contenant des chaines de caractère et une liste de chaines de caractères! "
   ]
  },
  {
   "cell_type": "markdown",
   "id": "01370c8f-b073-4c1f-b1b7-a1466ea67237",
   "metadata": {},
   "source": [
    "Si on veut ajouter les éléments de la liste, on peut plutôt utiliser la fonction **extend( )**"
   ]
  },
  {
   "cell_type": "code",
   "execution_count": null,
   "id": "f264f7ae-02c0-4f08-9415-ff594a2abe85",
   "metadata": {},
   "outputs": [],
   "source": [
    "print(ma_liste)\n",
    "ma_liste.extend(ma_liste2)\n",
    "print(ma_liste)"
   ]
  },
  {
   "cell_type": "code",
   "execution_count": null,
   "id": "72db7eba-a191-4564-9ebf-e4e5d36e5a32",
   "metadata": {},
   "outputs": [],
   "source": [
    "#ré initialiser pour futures executions\n",
    "ma_liste = ['spam', 'eggs', 'lumberjack', 'parrot', 'cheese shop'] "
   ]
  },
  {
   "cell_type": "markdown",
   "id": "972e06b4-be9f-40b3-81ed-22b100d15045",
   "metadata": {},
   "source": [
    "## 2-1-5 Suppression d'éléments"
   ]
  },
  {
   "cell_type": "markdown",
   "id": "30d4b367-0853-4924-a9ec-1c975e588a87",
   "metadata": {},
   "source": [
    "Plusieurs possibilités pour supprimer des éléments d'une liste:  \n",
    "- **remove( )** si on veut fournir l'élément à enlever\n",
    "- **pop( )** si on veut fournir l'indice de l'élément à enlever"
   ]
  },
  {
   "cell_type": "code",
   "execution_count": null,
   "id": "fe387d5e-05ab-494b-9f91-7422db5b5bf2",
   "metadata": {},
   "outputs": [],
   "source": [
    "print(ma_liste)\n",
    "ma_liste.remove('eggs') # En utilisant l'élément à enlever\n",
    "print(ma_liste)"
   ]
  },
  {
   "cell_type": "code",
   "execution_count": null,
   "id": "3b6bf1e4-7946-4b86-acd7-626ec4f87db0",
   "metadata": {},
   "outputs": [],
   "source": [
    "ma_liste.pop(2) # en utilisant l'indice de l'element à enlever\n",
    "print(ma_liste)"
   ]
  },
  {
   "cell_type": "code",
   "execution_count": null,
   "id": "0cbcb6f3-0005-4252-b3f9-18d4a75fb442",
   "metadata": {},
   "outputs": [],
   "source": [
    "#On re initialise la liste pour de futures executions\n",
    "ma_liste = ['spam', 'eggs', 'lumberjack', 'parrot', 'cheese shop']"
   ]
  },
  {
   "cell_type": "markdown",
   "id": "a7893ca8-8cc9-4f09-a482-264415d21f03",
   "metadata": {},
   "source": [
    "## 2-1-6 Obtention de l'indice d'un élément"
   ]
  },
  {
   "cell_type": "markdown",
   "id": "97556ca7-361d-4aab-85e3-eb3d72d175f8",
   "metadata": {},
   "source": [
    "**index( )** renvoie l'indice, donc la position dans la liste de l'élément spécifié"
   ]
  },
  {
   "cell_type": "code",
   "execution_count": null,
   "id": "2ae3008d-e95d-493b-86aa-2ac172f3c75b",
   "metadata": {},
   "outputs": [],
   "source": [
    "print('Le mot parrot se trouve en position:', ma_liste.index('parrot'))"
   ]
  },
  {
   "cell_type": "markdown",
   "id": "00fe3b77-6256-47ad-8895-1ae9d49f331c",
   "metadata": {},
   "source": [
    "## 2-1-7 Inverser l'ordre des éléments"
   ]
  },
  {
   "cell_type": "markdown",
   "id": "897281e5-95a2-41eb-a2dc-a729c87de177",
   "metadata": {},
   "source": [
    "La fonction **reversed( )** permet d'inverser l'ordre des éléments d'une liste"
   ]
  },
  {
   "cell_type": "code",
   "execution_count": null,
   "id": "0909d5b4-8e03-495a-9108-b45a54c08d28",
   "metadata": {},
   "outputs": [],
   "source": [
    "print(ma_liste)\n",
    "print(list(reversed(ma_liste)))"
   ]
  },
  {
   "cell_type": "markdown",
   "id": "a39f85d0-f3c3-4b87-9999-3963e7bbf4c7",
   "metadata": {},
   "source": [
    "La fonction reversed() prend une séquence (comme une liste) en entrée et renvoie un objet itérable qui parcourt la séquence dans l'ordre inverse. Cependant, reversed() ne renvoie pas directement une liste, mais un objet itérable, il faudra donc utiliser **list( )** pour obtenir la liste en ordre inverse."
   ]
  },
  {
   "cell_type": "code",
   "execution_count": null,
   "id": "9a5e31a3-9023-43e5-89ab-6430b2f61e96",
   "metadata": {},
   "outputs": [],
   "source": [
    "print(reversed(ma_liste))"
   ]
  },
  {
   "cell_type": "markdown",
   "id": "3c15a74c-3217-410d-a3fe-1cbab002dce2",
   "metadata": {},
   "source": [
    "On pourrait éventuellement se passer de cette fonction en utilisant les slices, en ne précisant ni start, ni stop, mais seulement un step de -1:"
   ]
  },
  {
   "cell_type": "code",
   "execution_count": null,
   "id": "6a7c1065-48a6-4347-b3e7-acea768b1254",
   "metadata": {},
   "outputs": [],
   "source": [
    "print(ma_liste[::-1])"
   ]
  },
  {
   "cell_type": "markdown",
   "id": "4af2a4ad-5137-4666-9bee-e1eb1d5319fa",
   "metadata": {},
   "source": [
    "## 2-1-8 Tri"
   ]
  },
  {
   "cell_type": "markdown",
   "id": "d0624cca-b3a5-4852-b8bc-081251fa2119",
   "metadata": {},
   "source": [
    "On peut avoir besoin de trier les éléments d'une liste, soit par ordre alphabétique pour les strings soit par ordre croissant pour les float ou int. On pourra utiliser **sorted()**"
   ]
  },
  {
   "cell_type": "code",
   "execution_count": null,
   "id": "8fa25ba7-cc69-443e-bc31-18d1df5110c9",
   "metadata": {},
   "outputs": [],
   "source": [
    "print(sorted(ma_liste)) #renvoie la liste triée par ordre alphabetique\n",
    "ma_liste_num = [12,8,78,5,9]\n",
    "print(sorted(ma_liste_num)) # ou par ordre croissant"
   ]
  },
  {
   "cell_type": "markdown",
   "id": "ec1c9f8d-7bea-4c80-a83a-4e6fba23d40b",
   "metadata": {},
   "source": [
    "sorted ne modifie pas la liste d'origine, on peut vérifier que ma_liste_num n'a pas été modifiée apprés application de la fonction."
   ]
  },
  {
   "cell_type": "code",
   "execution_count": null,
   "id": "675c8660-e739-44a3-9788-4061ffdc0f01",
   "metadata": {
    "tags": []
   },
   "outputs": [],
   "source": [
    "print(ma_liste_num)"
   ]
  },
  {
   "cell_type": "markdown",
   "id": "4c89e58f-6ee6-4110-bb45-b8fa89832941",
   "metadata": {},
   "source": [
    "Des options sont disponibles comme l'ordre inverse ou le tri par longueur pour les chaines."
   ]
  },
  {
   "cell_type": "code",
   "execution_count": null,
   "id": "e53367fd-34ae-4f5a-9c42-09bcaba5df9a",
   "metadata": {
    "tags": []
   },
   "outputs": [],
   "source": [
    "print(sorted(ma_liste, reverse=True)) #Ordre alphabétique inverse\n",
    "print(sorted(ma_liste, key=len)) #tri par longueur de chaîne"
   ]
  },
  {
   "cell_type": "markdown",
   "id": "0ca5b760-d37e-4899-aa3b-a9ca15f6f943",
   "metadata": {},
   "source": [
    "## 2-1-9 Opérations sur une liste numérique"
   ]
  },
  {
   "cell_type": "markdown",
   "id": "f5627046-7057-4c4b-b99b-9dbb3ea4d860",
   "metadata": {},
   "source": [
    "On peut récuperer les valeurs maxi, mini, la sommme des éléments d'une liste avecrespectivement  **min( )** , **max()** et **sum( )**"
   ]
  },
  {
   "cell_type": "code",
   "execution_count": null,
   "id": "13c697e3-6ccd-4c08-9c48-c1de16c24514",
   "metadata": {},
   "outputs": [],
   "source": [
    "print(ma_liste_num)\n",
    "print('maxi = ',max(ma_liste_num))  # renvoie la valeur maximale dans\n",
    "                                    # la liste (pour une liste de nombres)\n",
    "\n",
    "print('mini = ',min(ma_liste_num))  # renvoie la valeur minimale dans \n",
    "                                    # la liste (pour une liste de nombres)\n",
    "\n",
    "print('somme = ',sum(ma_liste_num)) # renvoie la somme des éléments dans\n",
    "                                    # la liste (pour une liste de nombres)"
   ]
  },
  {
   "cell_type": "markdown",
   "id": "b1873468-6f66-4a43-aac9-af3e354e3262",
   "metadata": {},
   "source": [
    "## 2-1-10 Listes contenant des types differents"
   ]
  },
  {
   "cell_type": "markdown",
   "id": "3218eb25-7400-4e23-8db1-878c05959b70",
   "metadata": {},
   "source": [
    "Les listes peuvent contenir des types differents."
   ]
  },
  {
   "cell_type": "code",
   "execution_count": null,
   "id": "1a2547df-68aa-48e3-a7b6-100e885e82ba",
   "metadata": {
    "tags": []
   },
   "outputs": [],
   "source": [
    "liste = [1,'eggs',5.4,'Ni!']\n",
    "print(liste)\n",
    "print(len(liste))"
   ]
  },
  {
   "cell_type": "markdown",
   "id": "bd87bd72-14ca-47f0-b8f6-91c702c8b277",
   "metadata": {},
   "source": [
    "Mais il y aura bien sûr quelques limitations:"
   ]
  },
  {
   "cell_type": "code",
   "execution_count": null,
   "id": "e0760cf6-1a77-42b6-b79a-95788054b8a0",
   "metadata": {
    "tags": []
   },
   "outputs": [],
   "source": [
    "print(sorted(liste))"
   ]
  },
  {
   "cell_type": "markdown",
   "id": "43848cd8-caea-437f-aac8-c352f4d72db4",
   "metadata": {},
   "source": [
    "*Remarque: C'est (peut être) notre premier message d'erreur. Prenons le temps de le lire pour le comprendre! La ligne provoquant l'erreur est indiquée. La nature aussi (TypeError), ici il est bien expliqué que l'on ne peut pas utiliser l'opérateur '<' entre une chaine de caractère et un entier.*"
   ]
  },
  {
   "cell_type": "markdown",
   "id": "8bbd9d0d-64d1-44b9-aff3-93cf5d628be3",
   "metadata": {},
   "source": [
    "## 2-1-11 Type list"
   ]
  },
  {
   "cell_type": "markdown",
   "id": "c45729b7-dc52-422b-b38c-3bb60791cb27",
   "metadata": {},
   "source": [
    "On a vu au 1-3-1 que l'on pouvait forcer un changement de type. C'est bien sûr aussi possible avec les listes, on peut par exemple convertir une chaine de caractère avec **list( )**"
   ]
  },
  {
   "cell_type": "code",
   "execution_count": null,
   "id": "4b5d00b2-35c9-4661-a64c-a754f1a9b329",
   "metadata": {
    "tags": []
   },
   "outputs": [],
   "source": [
    "chaine = 'Coconut'\n",
    "print(list(chaine))"
   ]
  },
  {
   "cell_type": "markdown",
   "id": "f4ecc2e3-ba1a-484e-846f-1ca7442a03db",
   "metadata": {},
   "source": [
    "# 2-2 Les Tuples"
   ]
  },
  {
   "cell_type": "markdown",
   "id": "1684f6f1-a179-48aa-8e1c-99001dbf09c2",
   "metadata": {},
   "source": [
    "Les tuples sont relativement similaires aux listes, mais ils sont immuables, ce qui signifie qu'ils ne peuvent pas être modifiés une fois créés. Ils sont définis en utilisant des parenthèses et peuvent contenir des éléments de différents types. Les tuples sont souvent utilisés pour représenter des ensembles de données qui ne doivent pas être modifiés, tels que des coordonnées géographiques ou des informations d'un enregistrement de base de données."
   ]
  },
  {
   "cell_type": "markdown",
   "id": "25e360e6-d2c8-4835-975a-fc1c49a0f0c2",
   "metadata": {},
   "source": [
    "Essayons de modifier un élément d'une liste:"
   ]
  },
  {
   "cell_type": "code",
   "execution_count": null,
   "id": "118f0483-2d2f-4d72-9f96-401af25ae99a",
   "metadata": {},
   "outputs": [],
   "source": [
    "liste = [1, 2, 3]\n",
    "print(\"Liste originale :\", liste)\n",
    "\n",
    "liste[0] = 10  # Modification de la première valeur\n",
    "print(\"Liste modifiée :\", liste)"
   ]
  },
  {
   "cell_type": "markdown",
   "id": "af0965d6-df9f-4051-8590-9b7e503c2ed7",
   "metadata": {},
   "source": [
    "Essayons maintenant de modifier un tuple"
   ]
  },
  {
   "cell_type": "code",
   "execution_count": null,
   "id": "b8b720de-5a95-4b92-9248-226e26e260a0",
   "metadata": {},
   "outputs": [],
   "source": [
    "mon_tuple = (1, 2, 3)\n",
    "print(\"Tuple original :\", mon_tuple)\n",
    "# La ligne suivante générera une erreur car les tuples sont immuables\n",
    "mon_tuple[0] = 10"
   ]
  },
  {
   "cell_type": "markdown",
   "id": "909fc93b-c519-43dc-b58e-323f284948a9",
   "metadata": {},
   "source": [
    "La plupart des fonctions vues pour les listes sont utilisables avec des tuples:"
   ]
  },
  {
   "cell_type": "code",
   "execution_count": null,
   "id": "0e333bae-cb5c-46ec-9180-44d9ccc31a4d",
   "metadata": {},
   "outputs": [],
   "source": [
    "print('longueur :',len(mon_tuple))\n",
    "print('index de 2 : ',mon_tuple.index(2))\n",
    "print('mon tuple trié :',sorted(mon_tuple,reverse=True))"
   ]
  },
  {
   "cell_type": "markdown",
   "id": "a46b6a6f-c61d-41c2-9f3b-731b6d0b33e2",
   "metadata": {},
   "source": [
    "# 2-3 Les Dictionnaires"
   ]
  },
  {
   "cell_type": "markdown",
   "id": "32b27286-3028-435f-9978-ce77d5abf5f2",
   "metadata": {},
   "source": [
    "Les dictionnaires sont des structures de données qui permettent de stocker des paires clé-valeur. Chaque élément d'un dictionnaire est constitué d'une clé et de sa valeur correspondante. Les clés sont généralement des chaînes de caractères. Les dictionnaires offrent un accès rapide aux valeurs en utilisant leurs clés, ce qui les rend utiles pour représenter des associations entre des informations, telles que des données d'un jeu de données structuré ou des paramètres de configuration.\n",
    "\n",
    "\n",
    "Les dictionnaires se déclarent avec des accolades **{ }** :"
   ]
  },
  {
   "cell_type": "code",
   "execution_count": null,
   "id": "3c704736-0515-44e8-a185-1e9fa63b1b9b",
   "metadata": {},
   "outputs": [],
   "source": [
    "monty_python_films = {\n",
    "    \"Monty Python's Flying Circus\": 1969,\n",
    "    \"Monty Python and the Holy Grail\": 1975,\n",
    "    \"Monty Python's Life of Brian\": 1979,\n",
    "}\n",
    "print(monty_python_films)"
   ]
  },
  {
   "cell_type": "markdown",
   "id": "5cdd82ae-3e33-4446-8aff-ddd0f154d77c",
   "metadata": {},
   "source": [
    "Connaissant le titre on peut obtenir l'année:"
   ]
  },
  {
   "cell_type": "code",
   "execution_count": null,
   "id": "0d3293c7-e1fc-40d0-abd0-e9b1f7eccf76",
   "metadata": {},
   "outputs": [],
   "source": [
    "film = \"Monty Python's Flying Circus\"\n",
    "annee_sortie = monty_python_films[film]\n",
    "print(\"Monty Python's Flying Circus est sorti en :\",annee_sortie)  "
   ]
  },
  {
   "cell_type": "markdown",
   "id": "1b8a4ce1-a6bf-45c4-ac12-2ca94b7881ed",
   "metadata": {},
   "source": [
    "Vérifier si un élément est dans le dictionnaire:"
   ]
  },
  {
   "cell_type": "code",
   "execution_count": null,
   "id": "22d55019-a480-40a2-b6a4-c39cf691d58a",
   "metadata": {},
   "outputs": [],
   "source": [
    "if \"Monty Python and the Holy Grail\" in monty_python_films:\n",
    "    print(\"Ce film est dans le dictionnaire.\")\n",
    "else:\n",
    "    print(\"Ce film n'est pas dans le dictionnaire.\")"
   ]
  },
  {
   "cell_type": "markdown",
   "id": "4c37d92f-7198-47b3-87ac-272939194058",
   "metadata": {},
   "source": [
    "Ajouter un élément au dictionnaire:"
   ]
  },
  {
   "cell_type": "code",
   "execution_count": null,
   "id": "9573309f-9e23-4ecd-8e1c-ab69fe48a249",
   "metadata": {},
   "outputs": [],
   "source": [
    "monty_python_films[\"Monty Python's The Meaning of Life\"] = 1983\n",
    "print(monty_python_films)"
   ]
  },
  {
   "cell_type": "markdown",
   "id": "65506472-8c51-409b-88e8-f8498a37def5",
   "metadata": {},
   "source": [
    "[Exercices 0 à 3](exercices/Exercices2.ipynb)"
   ]
  },
  {
   "cell_type": "markdown",
   "id": "b7425a2a-0dcc-4dca-8924-593e389642b3",
   "metadata": {},
   "source": [
    "# 2-4 Les structures boucles"
   ]
  },
  {
   "cell_type": "markdown",
   "id": "d8fe8366-776e-4076-b458-94f107b7488f",
   "metadata": {},
   "source": [
    "Les boucles sont des structures essentielles qui permettent d'exécuter un bloc de code de manière répétée. En Python, nous avons deux types de boucles couramment utilisées : la boucle for et la boucle while."
   ]
  },
  {
   "cell_type": "markdown",
   "id": "2abd7b4c-ed48-4308-a58d-d7d853cda5f2",
   "metadata": {},
   "source": [
    "#### 2-4-1 Boucle For"
   ]
  },
  {
   "cell_type": "markdown",
   "id": "123c95df-c1ef-48ec-89c7-6c031e569dc6",
   "metadata": {},
   "source": [
    "La boucle for est utilisée lorsque l'on connait à l'avance le nombre d'itérations à effectuer. Elle itère sur une séquence donnée, telle qu'une liste, une chaîne de caractères ou une plage de nombres. À chaque itération, les instructions à l'intérieur de la boucle sont exécutées.\n",
    "La syntaxe contient le mot clé **for** suivi de **in** pour indiquer la séquence.  \n",
    "La ligne se termine par **\":\"** et lors du retour à la ligne on ajoute une indentation."
   ]
  },
  {
   "cell_type": "markdown",
   "id": "da1f6bb6-fb94-4ae2-bb88-834b86799693",
   "metadata": {},
   "source": [
    "Iteration sur une liste:"
   ]
  },
  {
   "cell_type": "code",
   "execution_count": null,
   "id": "41ce7e7b-da49-4352-a3c0-fec9cd02ba0e",
   "metadata": {},
   "outputs": [],
   "source": [
    "ma_liste = [8, 5, 9, 4, 0]\n",
    "for element in ma_liste:\n",
    "    print(element)"
   ]
  },
  {
   "cell_type": "markdown",
   "id": "55b3402a-3879-4fba-95fa-1e88cbb6e301",
   "metadata": {},
   "source": [
    "Iteration sur un tuple:"
   ]
  },
  {
   "cell_type": "code",
   "execution_count": null,
   "id": "6c748761-4073-44b9-8051-6c3c5cdc3019",
   "metadata": {},
   "outputs": [],
   "source": [
    "mon_tuple = ('4.6', 'black', '8', 'pink')\n",
    "for element in mon_tuple:\n",
    "    print(element)"
   ]
  },
  {
   "cell_type": "markdown",
   "id": "474a51ef-7ecc-4486-bec9-1bb4a5fd4515",
   "metadata": {},
   "source": [
    "Iteration sur une chaine de caractères:"
   ]
  },
  {
   "cell_type": "code",
   "execution_count": null,
   "id": "25d5be33-e298-46e9-a73f-f0d3689fa627",
   "metadata": {},
   "outputs": [],
   "source": [
    "ma_chaine = \"Spam\"\n",
    "for caractere in ma_chaine:\n",
    "    print(caractere)\n"
   ]
  },
  {
   "cell_type": "markdown",
   "id": "1794e73d-52cf-47af-bcbd-3db351277c2e",
   "metadata": {},
   "source": [
    "Iteration sur un dictionnaire: Nous utiliserons La méthode **items()** qui retourne les paires clé-valeur du dictionnaire."
   ]
  },
  {
   "cell_type": "code",
   "execution_count": null,
   "id": "ceb2981a-44db-4ece-b3cf-0c11969693b6",
   "metadata": {},
   "outputs": [],
   "source": [
    "for film, annee in monty_python_films.items(): \n",
    "    print(f\"Le film {film} est sorti en {annee}.\")"
   ]
  },
  {
   "cell_type": "markdown",
   "id": "cf9b7358-70ba-4c11-9f0c-02940d9b0697",
   "metadata": {},
   "source": [
    "Ou faire l'iteration sur la clé uniquement, connaissant la clé on pourra retrouver la valeur"
   ]
  },
  {
   "cell_type": "code",
   "execution_count": null,
   "id": "bbc83e84-66a9-4b08-b99b-2d6358843985",
   "metadata": {},
   "outputs": [],
   "source": [
    "for film in monty_python_films.keys():\n",
    "    print(f\"Le film {film} est sorti en {monty_python_films[film]}.\")"
   ]
  },
  {
   "cell_type": "markdown",
   "id": "5a0df24f-32ee-4c61-85b4-0fdfbc63c0fa",
   "metadata": {},
   "source": [
    "Ou faire l'iteration sur la valeur"
   ]
  },
  {
   "cell_type": "code",
   "execution_count": null,
   "id": "072010d9-0716-4869-b8ce-f673cc659072",
   "metadata": {},
   "outputs": [],
   "source": [
    "for annee in monty_python_films.values():\n",
    "    print(\"Un film est sorti en\", annee)"
   ]
  },
  {
   "cell_type": "markdown",
   "id": "00898980-16d3-4cb7-991c-f74cf0c65617",
   "metadata": {
    "tags": []
   },
   "source": [
    "Iteration sur une plage numérique \n",
    "- de zero à une valeur définie"
   ]
  },
  {
   "cell_type": "code",
   "execution_count": null,
   "id": "07ca1ea4-ff3b-48e8-ba68-445224802a7c",
   "metadata": {},
   "outputs": [],
   "source": [
    "for i in range(5):\n",
    "    print(i)"
   ]
  },
  {
   "cell_type": "markdown",
   "id": "d3d34cd3-4e93-401d-9dac-6a8f3f51051f",
   "metadata": {
    "tags": []
   },
   "source": [
    "- entre 2 valeurs"
   ]
  },
  {
   "cell_type": "code",
   "execution_count": null,
   "id": "22eede2e-a6e1-4286-b1c2-a44fa94c2fbe",
   "metadata": {},
   "outputs": [],
   "source": [
    "for i in range(2,6):\n",
    "    print(i)"
   ]
  },
  {
   "cell_type": "markdown",
   "id": "dff52cc8-f862-4116-b1cc-f7fb071477f8",
   "metadata": {},
   "source": [
    "- entre 2 valeurs avec un pas défini"
   ]
  },
  {
   "cell_type": "code",
   "execution_count": null,
   "id": "4129751e-06bb-4072-84e7-eaa248cfc0dd",
   "metadata": {},
   "outputs": [],
   "source": [
    "for i in range(4, 11, 2):\n",
    "    print(i)\n"
   ]
  },
  {
   "cell_type": "markdown",
   "id": "7948c863-4168-4179-9ce0-166f566bc60b",
   "metadata": {},
   "source": [
    "Réalisons une opération (mettre au carré) sur chacun des éléments d'une liste:"
   ]
  },
  {
   "cell_type": "code",
   "execution_count": null,
   "id": "a9dff123-8118-4854-aec3-e3d883297644",
   "metadata": {},
   "outputs": [],
   "source": [
    "ma_liste = [7,6,2,0]\n",
    "for i in ma_liste:\n",
    "    k = i**2\n",
    "    print(k)"
   ]
  },
  {
   "cell_type": "markdown",
   "id": "4c4e8ea4-cc0f-4305-a48b-a613d0a88b8d",
   "metadata": {},
   "source": [
    "Très bien mais à chaque itération, on ecrase la valeur précédente de k.  "
   ]
  },
  {
   "cell_type": "code",
   "execution_count": null,
   "id": "b22ad99f-b7b4-414b-bde1-f57d9b4acd32",
   "metadata": {
    "tags": []
   },
   "outputs": [],
   "source": [
    "ma_liste = [7,6,2,0]\n",
    "for i in ma_liste:\n",
    "    k = i**2\n",
    "print(k)"
   ]
  },
  {
   "cell_type": "markdown",
   "id": "53417684-6017-438c-8e39-da114269d8e5",
   "metadata": {},
   "source": [
    "On peut avoir besoin de ces valeurs par la suite. Nous pouvons stocker les valeurs dans une liste:"
   ]
  },
  {
   "cell_type": "code",
   "execution_count": null,
   "id": "9c80e66f-e5e8-4fdd-b8d5-847d7a222116",
   "metadata": {},
   "outputs": [],
   "source": [
    "ma_liste = [7,6,2,0]\n",
    "ma_liste_carre = [] #creer une liste vide\n",
    "for i in ma_liste:\n",
    "    k = i**2\n",
    "    ma_liste_carre.append(k)\n",
    "print('Les éléments de la liste au carré : ',ma_liste_carre)"
   ]
  },
  {
   "cell_type": "markdown",
   "id": "42b175ce-723a-4551-ad6c-31273f344d3b",
   "metadata": {},
   "source": [
    "Une autre option aurait été d'utiliser une liste de compréhension (c'est plus élégant, mais absolument pas obligatoire). C'est un moyen d'écrire une boucle sur une seule ligne."
   ]
  },
  {
   "cell_type": "code",
   "execution_count": null,
   "id": "4b0c887f-dc81-4778-ad1e-8f4d058b38a5",
   "metadata": {},
   "outputs": [],
   "source": [
    "ma_liste_carre = [x**2 for x in ma_liste]\n",
    "print('Les éléments de la liste au carré : ',ma_liste_carre)"
   ]
  },
  {
   "cell_type": "markdown",
   "id": "e154dc45-566b-49bd-a259-4ae799565d58",
   "metadata": {},
   "source": [
    "On utilise souvent des compteurs qui sont initialisés hors de la boucle et itéré à chaque execution"
   ]
  },
  {
   "cell_type": "code",
   "execution_count": null,
   "id": "8a129457-87b6-4176-8e39-62bdb0ca31e2",
   "metadata": {},
   "outputs": [],
   "source": [
    "ma_chaine = \"Spam\"\n",
    "i = 0 #initialisation du compteur\n",
    "for caractere in ma_chaine:\n",
    "    print(caractere,'en position',i)   \n",
    "    i+=1 # ajouter 1 au compteus (équivalent à i = i+1)  "
   ]
  },
  {
   "cell_type": "markdown",
   "id": "29b0efd9-72f0-4b1f-9b7b-3cba6b641e7f",
   "metadata": {},
   "source": [
    "La fonction **enumerate** est souvent utilisée pour itérer sur une séquence tout en gardant une trace de l'indice de chaque élément.   \n",
    "Dans le cas suivant la boucle renvoit un élémént de la liste et son index. Elle permet d'éviter l'utilisation d'un compteur."
   ]
  },
  {
   "cell_type": "code",
   "execution_count": null,
   "id": "1e256d59-0809-47d5-a214-1c7321a80f54",
   "metadata": {},
   "outputs": [],
   "source": [
    "ma_liste = ['spam', 'eggs', 'lumberjack', 'parrot', 'cheese shop']\n",
    "\n",
    "for indice, element in enumerate(ma_liste):\n",
    "    print(f\"L'élément à l'indice {indice} est : {element}\")\n"
   ]
  },
  {
   "cell_type": "markdown",
   "id": "f88fbd82-b09e-4c31-83f8-a52009ff4ea6",
   "metadata": {},
   "source": [
    "On peut faire des boucles imbriquées:"
   ]
  },
  {
   "cell_type": "code",
   "execution_count": null,
   "id": "e7de3bd9-132e-45b8-a2c1-76e66be61aab",
   "metadata": {},
   "outputs": [],
   "source": [
    "matrice = [[1, 2, 3], [4, 5, 6], [7, 8, 9]]\n",
    "# Parcours de chaque ligne dans la matrice\n",
    "for ligne in matrice:\n",
    "    # Parcours de chaque élément dans la ligne actuelle\n",
    "    for element in ligne:\n",
    "        # Affichage de l'élément\n",
    "        print(element)"
   ]
  },
  {
   "cell_type": "markdown",
   "id": "c2e3825d-6bdc-4649-a035-f21c2da33937",
   "metadata": {},
   "source": [
    "## 2-4-2 Boucle While"
   ]
  },
  {
   "cell_type": "markdown",
   "id": "3aeb3941-b059-48bf-91d5-926b351625a7",
   "metadata": {},
   "source": [
    "La boucle while est utilisée pour répéter l'exécution d'un bloc de code tant qu'une condition spécifiée est vraie. Elle permet d'itérer de manière indéterminée jusqu'à ce que la condition devienne fausse. La structure de la boucle while comprend une condition initiale qui est évaluée avant chaque itération.  La boucle while est utile lorsque le nombre d'itérations n'est pas connu à l'avance."
   ]
  },
  {
   "cell_type": "code",
   "execution_count": null,
   "id": "a025803b-ee4c-4d7b-b7a7-1da43e246934",
   "metadata": {},
   "outputs": [],
   "source": [
    "# Un compteur simple\n",
    "count = 0\n",
    "\n",
    "while count < 5:\n",
    "    print(count)\n",
    "    count += 1\n"
   ]
  },
  {
   "cell_type": "markdown",
   "id": "5c6962b9-ed1b-4c8e-b377-4a2c860f0b38",
   "metadata": {},
   "source": [
    "Pour parcourir les éléments d'une liste avec un compteur, on itére jusqu'à la fin de la liste:"
   ]
  },
  {
   "cell_type": "code",
   "execution_count": null,
   "id": "be8fc72c-7c6a-454a-b0f7-7d3ebb8249a2",
   "metadata": {},
   "outputs": [],
   "source": [
    "members = [\"John Cleese\", \"Terry Gilliam\", \"Eric Idle\", \"Terry Jones\", \"Michael Palin\"]\n",
    "index = 0\n",
    "\n",
    "while index < len(members):\n",
    "    print(\"Membre de Monty Python:\", members[index])\n",
    "    index += 1"
   ]
  },
  {
   "cell_type": "markdown",
   "id": "e6c0b851-e53d-491a-825d-f4a8b162ec93",
   "metadata": {},
   "source": [
    "On peut choisir de passer directement au bloc d'instruction suivant avec **continue** ou sortir de la boucle avec **break**. \n",
    "Dans cet exemple Le mot clé **break** interrompt la boucle while lorsque \"Terry Jones\" est trouvé dans la liste des membres."
   ]
  },
  {
   "cell_type": "code",
   "execution_count": null,
   "id": "ace353af-207f-44d5-a05d-ab74bba2298a",
   "metadata": {},
   "outputs": [],
   "source": [
    "members = [\"John Cleese\", \"Terry Gilliam\", \"Eric Idle\", \"Terry Jones\", \"Michael Palin\"]\n",
    "index = 0\n",
    "\n",
    "while index < len(members):\n",
    "    if members[index] == \"Eric Idle\":\n",
    "        index += 1\n",
    "        continue  # Passe à l'itération suivante sans exécuter le reste du code\n",
    "    elif members[index] == \"Terry Jones\":\n",
    "        break  # Sort de la boucle\n",
    "    print(\"Membre de Monty Python :\", members[index])\n",
    "    index += 1\n"
   ]
  },
  {
   "cell_type": "markdown",
   "id": "8bbd9428-2b1c-4991-8f0a-1a7cccaba7ca",
   "metadata": {},
   "source": [
    "On peut avoir besoin de créer une boucle qui s'éxécute en continu et attendent un evenement particulier pouvant provenir de l'utilisateur ou de l'acquisition de données par exemples. Dans ce cas, on pourra utiliser la syntaxe **while True:**"
   ]
  },
  {
   "cell_type": "code",
   "execution_count": null,
   "id": "a76bb81f-0fa6-45e4-96dd-6db40afb568f",
   "metadata": {},
   "outputs": [],
   "source": [
    "while True:\n",
    "    reponse = input(\"Voulez-vous continuer?: \")\n",
    "    if reponse == \"non\":\n",
    "        break\n",
    "    else:\n",
    "        print(\"Continuons...\")\n"
   ]
  },
  {
   "cell_type": "markdown",
   "id": "8038b533-627b-49f4-9285-1822d64690e1",
   "metadata": {},
   "source": [
    "# 2-5 Gestion des erreurs"
   ]
  },
  {
   "cell_type": "markdown",
   "id": "584f170b-bf18-4f2b-a331-0ecbeefecb82",
   "metadata": {},
   "source": [
    "La gestion des erreurs permet de traiter les erreurs qui peuvent se produire lors de l'exécution d'un programme. Elle utilise les instructions **try** et **except** pour traiter le code susceptible de générer des erreurs. Lorsqu'une erreur se produit, le code dans la clause **except** correspondante est exécutée, permettant de gérer l'erreur de manière contrôlée et d'afficher des messages appropriés. Cela aide à améliorer la robustesse et la fiabilité des programmes en évitant les \"plantages\" du code."
   ]
  },
  {
   "cell_type": "markdown",
   "id": "53d93673-9966-4d2a-8f8c-5ae43c3a9cf3",
   "metadata": {},
   "source": [
    "Commençons par ce code qui peut renvoyer une erreur si on saisit zero par exemple:"
   ]
  },
  {
   "cell_type": "code",
   "execution_count": null,
   "id": "b2969e06-1924-4174-b7bb-b4127afce50f",
   "metadata": {
    "tags": []
   },
   "outputs": [],
   "source": [
    "while True:\n",
    "        nombre = int(input(\"Entrez un nombre entier non nul et taper Enter : \"))\n",
    "        resultat = 10 / nombre\n",
    "        print(\"Le résultat est :\", resultat)\n",
    "        break  # Sortir de la boucle si aucune erreur n'est survenue"
   ]
  },
  {
   "cell_type": "markdown",
   "id": "d1e0306b-8966-48e0-a6d0-44fdef219c29",
   "metadata": {},
   "source": [
    "Envisageons maintenant le cas où une mauvaise valeur est saisie:"
   ]
  },
  {
   "cell_type": "code",
   "execution_count": null,
   "id": "be0c515c-5217-4508-8786-1cf12268eace",
   "metadata": {
    "tags": []
   },
   "outputs": [],
   "source": [
    "while True:\n",
    "    try:\n",
    "        nombre = int(input(\"Entrez un nombre non nul et taper Enter : \"))\n",
    "        resultat = 10 / nombre\n",
    "        print(\"Le résultat est :\", resultat)\n",
    "        break  # Sortir de la boucle si aucune erreur n'est survenue\n",
    "    except:\n",
    "        print(\"Erreur : Vous devez entrer un nombre non nul.\")\n",
    "        # Pas de break. On continue jusqu'à avoir un nombre valide"
   ]
  },
  {
   "cell_type": "markdown",
   "id": "dd1a56ef-04fe-45df-b915-43cd30c6f43d",
   "metadata": {},
   "source": [
    "On peut aller plus loin en précisant le type d'erreur. Ici on envisage une erreur de conversion de type et une division par zéro et on adapte la réponse."
   ]
  },
  {
   "cell_type": "code",
   "execution_count": null,
   "id": "4023685e-52b3-4942-b313-d226a41cb34d",
   "metadata": {},
   "outputs": [],
   "source": [
    "while True:\n",
    "    try:\n",
    "        nombre = int(input(\"Entrez un nombre non nul et taper Enter : \"))\n",
    "        resultat = 10 / nombre\n",
    "        print(\"Le résultat est :\", resultat)\n",
    "        break  # Sortir de la boucle si aucune erreur n'est survenue\n",
    "    except ValueError: \n",
    "        print(\"Erreur : Vous devez entrer un nombre non nul.\")\n",
    "    except ZeroDivisionError:\n",
    "        print(\"Erreur : Division par zéro impossible.\")"
   ]
  },
  {
   "cell_type": "markdown",
   "id": "b307eec9-0ac8-4857-b7cb-15ada3153601",
   "metadata": {
    "tags": []
   },
   "source": [
    "Les principlales exceptions sont dans ce tableau:\n",
    "\n",
    "| Exception             | Description                                                                                   |\n",
    "|-----------------------|-----------------------------------------------------------------------------------------------|\n",
    "| `ValueError`           | Conversion de type échouée (ex. : conversion d'une chaîne en un nombre entier).               |\n",
    "| `ZeroDivisionError`    | Tentative de division par zéro.                                                               |\n",
    "| `TypeError`           | Opération incompatible avec le type de données.                                                |\n",
    "| `IndexError`          | Accès à un index de liste inexistant.                                                          |\n",
    "| `KeyError`            | Accès à une clé de dictionnaire inexistante.                                                   |\n",
    "| `FileNotFoundError`   | Tentative d'ouverture d'un fichier inexistant.                                                 |\n",
    "| `IOError`             | Erreurs liées à l'entrée/sortie, telles que la lecture ou l'écriture dans un fichier.          |\n",
    "| `AttributeError`      | Tentative d'accès à un attribut ou une méthode inexistant(e) sur un objet.                     |\n",
    "| `NameError`           | Utilisation d'une variable ou fonction non définie.                                            |\n",
    "| `KeyboardInterrupt`   | Interruption par l'utilisateur (Ctrl+C dans la console).                                       |\n",
    "\n",
    "\n",
    "Vous touverez une liste complete dans le [section Exceptions Built-in de la documentation Python](https://docs.python.org/3/library/exceptions.html)\n"
   ]
  },
  {
   "cell_type": "markdown",
   "id": "f534151e-8bbc-475d-9de2-6152d640139b",
   "metadata": {},
   "source": [
    "L'utilisation de **raise ValueError** permet de signaler explicitement une erreur de valeur et d'interrompre l'exécution normale du programme, en fournissant des informations précises et personalisées sur la nature de l'erreur rencontrée."
   ]
  },
  {
   "cell_type": "code",
   "execution_count": null,
   "id": "9266ccd3-b9e0-4fa2-a2b5-6082a4a21d66",
   "metadata": {},
   "outputs": [],
   "source": [
    "nombre = 0\n",
    "\n",
    "if nombre == 0:\n",
    "    raise ValueError(\"La valeur ne peut pas être zéro!\")\n",
    "else:\n",
    "    resultat = 10 / nombre\n",
    "    print(resultat)"
   ]
  },
  {
   "cell_type": "markdown",
   "id": "c0e11246-3691-4515-9b97-6f4cca6effd3",
   "metadata": {},
   "source": [
    "[Exercices 4 à 9](exercices/Exercices2.ipynb)"
   ]
  }
 ],
 "metadata": {
  "kernelspec": {
   "display_name": "Python 3 (ipykernel)",
   "language": "python",
   "name": "python3"
  },
  "language_info": {
   "codemirror_mode": {
    "name": "ipython",
    "version": 3
   },
   "file_extension": ".py",
   "mimetype": "text/x-python",
   "name": "python",
   "nbconvert_exporter": "python",
   "pygments_lexer": "ipython3",
   "version": "3.11.7"
  }
 },
 "nbformat": 4,
 "nbformat_minor": 5
}
