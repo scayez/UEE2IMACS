{
 "cells": [
  {
   "cell_type": "markdown",
   "id": "82eaec84-290a-40c8-bb60-88bef929ad93",
   "metadata": {},
   "source": [
    "***\n",
    "# **<center>COURS PYTHON 2IMACS #5</center>**\n",
    "# ***<center>Numpy</center>***\n",
    "***"
   ]
  },
  {
   "cell_type": "markdown",
   "id": "07556bed-3e1f-4d86-b4ed-e7f133b5f5e8",
   "metadata": {},
   "source": [
    "<div style=\"text-align: justify;\">\n",
    "NumPy est une bibliothèque destinée à la manipulation de tableaux multidimensionnels. C'est un outil essentiel pour la science des données et la recherche. NumPy permet notamment d'effectuer des opérations mathématiques complexes, des manipulations de données, des opérations logiques , le tout avec une grande efficacité et une syntaxe claire. NumPy constitue la base de nombreuses autres bibliothèques scientifiques en Python. La bibliothèque est ecrit en C, ce qui lui permet de réaliser des opérations complexes sur des quantités importantes de données avec une rapidité que n'offrirait pas du code python pur.\n",
    "</div>"
   ]
  },
  {
   "cell_type": "markdown",
   "id": "83b94f50-31da-4d87-af68-3825b9f50abd",
   "metadata": {},
   "source": [
    "# 5-1 Introduction"
   ]
  },
  {
   "cell_type": "markdown",
   "id": "750deb17-49f9-4ac9-990f-d4347faba0cf",
   "metadata": {},
   "source": [
    "<div style=\"text-align: justify;\">\n",
    "On a vu l'utilisation de listes dans le cours précédents. Elles permettent de stocker une collection ordonnée d'élément. Cependant leur utilisation devra être limitée à certains cas. Souvent il sera préferable d'utiliser Numpy, notamment pour de grosses quantités de données pour lesquelles les listes se révèleront lentes.\n",
    "Pour les opérations numériques telles que le calcul matriciel, les opérations statistiques ou les opérations mathématiques, numpy propose une large gamme de fonctions.\n",
    "</div>"
   ]
  },
  {
   "cell_type": "markdown",
   "id": "668658b6-8d4d-4081-9b89-4f0b81206350",
   "metadata": {},
   "source": [
    "Commençons par essayer de réaliser des calculs sur des listes"
   ]
  },
  {
   "cell_type": "code",
   "execution_count": null,
   "id": "20785fb9-097c-4b19-957a-561569808aa1",
   "metadata": {},
   "outputs": [],
   "source": [
    "a = [1,2,3]\n",
    "b = [10,20,30]\n",
    "print(a+b)\n",
    "print(2*a)"
   ]
  },
  {
   "cell_type": "markdown",
   "id": "eb100719-b1aa-4eb5-9676-4d3f585f88c9",
   "metadata": {},
   "source": [
    "<div style=\"text-align: justify;\">\n",
    "Au lieu d'ajouter les éléments de la liste, avec a+b, on a mis les éléments de b à la suite de ceux de a. \n",
    "De même si on multiplie a par 2, on obtient deux fois la liste a...\n",
    "\n",
    "Essayons la même opération avec des tableaux numpy:\n",
    "</div>"
   ]
  },
  {
   "cell_type": "code",
   "execution_count": null,
   "id": "51ec3994-4557-42b0-ba67-c3f64c5a445a",
   "metadata": {},
   "outputs": [],
   "source": [
    "import numpy as np\n",
    "# Déclaration de tableau numpy\n",
    "a = np.array([1,2,3])\n",
    "b = np.array([10,30,20])"
   ]
  },
  {
   "cell_type": "code",
   "execution_count": null,
   "id": "eb199253-bdcc-4bb1-90ce-3642339f99c4",
   "metadata": {},
   "outputs": [],
   "source": [
    "print('a =',a)\n",
    "print('b =',b)\n",
    "print('a+b =',a+b)\n",
    "print('2xa =',2*a)"
   ]
  },
  {
   "cell_type": "markdown",
   "id": "3703ab66-8f86-4d1e-b349-686ee557cad1",
   "metadata": {},
   "source": [
    "Numpy peut être utilisé pour tracer des courbes avec matplotlib"
   ]
  },
  {
   "cell_type": "code",
   "execution_count": null,
   "id": "586b2f29-76d7-4329-9a45-a84a809e37ca",
   "metadata": {},
   "outputs": [],
   "source": [
    "import matplotlib.pyplot as plt\n",
    "fig,ax = plt.subplots()\n",
    "ax.plot(a,b,marker = 'o'); # abcisse et ordonnée sont des tableaux numpy"
   ]
  },
  {
   "cell_type": "markdown",
   "id": "7039440b-818c-443a-99d0-e26e03e6d4b6",
   "metadata": {},
   "source": [
    "# 5-2 Dimensions d'un tableau numpy"
   ]
  },
  {
   "cell_type": "markdown",
   "id": "31fb0710-1c57-448c-8585-2c865652e710",
   "metadata": {},
   "source": [
    "#### 5-2-1  Connaitre les dimensions d'un tableau numpy"
   ]
  },
  {
   "cell_type": "markdown",
   "id": "17957cb0-379b-4cdd-a0cc-a57fabcddc65",
   "metadata": {},
   "source": [
    "Un tableau numpy a le gros avantage sur les listes de pouvoir prendre un grand nombre de dimensions. Commençons par regarder la forme de notre tableau a avec **shape**"
   ]
  },
  {
   "cell_type": "code",
   "execution_count": null,
   "id": "766d6d12-1fdb-477d-85ab-717d2c898061",
   "metadata": {},
   "outputs": [],
   "source": [
    "print(a)\n",
    "print('forme = ',a.shape)"
   ]
  },
  {
   "cell_type": "markdown",
   "id": "c939e5d5-16e8-442a-9836-76e1bb4b6516",
   "metadata": {},
   "source": [
    "Puis ses dimensions avec **ndim**"
   ]
  },
  {
   "cell_type": "code",
   "execution_count": null,
   "id": "b5df3989-6868-4a7b-8bd9-adf8039ca9fa",
   "metadata": {},
   "outputs": [],
   "source": [
    "print(a)\n",
    "print('nombre de dimensions = ',a.ndim)"
   ]
  },
  {
   "cell_type": "markdown",
   "id": "b86b6dae-1df1-41ab-813a-07fd14fe2585",
   "metadata": {},
   "source": [
    "- **shape** renvoie un tuple indiquant la taille du tableau dans chaque dimension. \n",
    "- **ndim** renvoie le nombre de dimensions du tableau.\n",
    "\n",
    "Le tableau a  une taille 3 éléments dans cette dimension et une dimension (1 ligne)."
   ]
  },
  {
   "cell_type": "code",
   "execution_count": null,
   "id": "65e529e1-e5e5-4d36-b0f9-1c30f7261aa3",
   "metadata": {},
   "outputs": [],
   "source": [
    "c = np.array([[2,5,8],[8,7,9]])"
   ]
  },
  {
   "cell_type": "code",
   "execution_count": null,
   "id": "7677ac3f-7e2f-441a-9e78-3372315fda41",
   "metadata": {},
   "outputs": [],
   "source": [
    "print(c)\n",
    "print('------------------')\n",
    "print('forme = ',c.shape)\n",
    "print('------------------')\n",
    "print('nombre de dimensions = ',c.ndim)"
   ]
  },
  {
   "cell_type": "markdown",
   "id": "f3f825da-bf64-4be6-8df0-6c5b9fa4021f",
   "metadata": {},
   "source": [
    "On a défini ici une matrice de 2 lignes et 3 colonnes, donc 2 dimensions."
   ]
  },
  {
   "cell_type": "markdown",
   "id": "c6d0630c-06ac-49eb-bd98-bfaa3b2f576f",
   "metadata": {},
   "source": [
    "Augmentons le nombre de dimensions"
   ]
  },
  {
   "cell_type": "code",
   "execution_count": null,
   "id": "73a79278-e826-40fa-bbf1-cb6407cdb1a4",
   "metadata": {},
   "outputs": [],
   "source": [
    "d = np.array([[[1, 2, 3, 4], [4, 5, 6, 7]], [[7, 8, 9, 6], \n",
    "            [10, 11,12, 9]], [[52, 69, 13, 45], [19, 21,32, 89]]])"
   ]
  },
  {
   "cell_type": "code",
   "execution_count": null,
   "id": "423f30cd-b19d-4e55-88ed-9d567a9a1c92",
   "metadata": {},
   "outputs": [],
   "source": [
    "print(d)\n",
    "print('------------------')\n",
    "print('forme= ',d.shape)\n",
    "print('------------------')\n",
    "print('nombre de dimensions = ',d.ndim)"
   ]
  },
  {
   "cell_type": "markdown",
   "id": "2fc0d8d1-ef9d-4ae6-9042-1c1356d56ada",
   "metadata": {},
   "source": [
    "On a ici un \"cube de données\", par exemple des coordonnées x,y,z."
   ]
  },
  {
   "cell_type": "markdown",
   "id": "96cc0469-0e64-4715-83d7-b653f0a4f63d",
   "metadata": {},
   "source": [
    "#### 5-2-2  Changer les dimensions d'un tableau numpy"
   ]
  },
  {
   "cell_type": "markdown",
   "id": "d2f2919c-e978-4376-83cd-9824efd9d93f",
   "metadata": {},
   "source": [
    "<div style=\"text-align: justify;\">\n",
    "On peut être amené à changer les dimensions d'un tableau sans modifier les données qu'il contient, pour utiliser des outils qui attendent des tableaux numpy avec de dimensions précises en entrée par exemple.\n",
    "</div>"
   ]
  },
  {
   "cell_type": "code",
   "execution_count": null,
   "id": "6cf2bdbe-7e7b-4aec-a40f-1605043d11b3",
   "metadata": {},
   "outputs": [],
   "source": [
    "e = np.array([1, 2, 3, 4, 5, 6])\n",
    "f = np.reshape(e, (2, 3)) #On demande à passer en 2 lignes et 3 colonnes\n",
    "\n",
    "print('avant')\n",
    "print(e)\n",
    "print('forme = ',e.shape)\n",
    "print('nombre de dimensions = ',e.ndim)\n",
    "print('------------------')\n",
    "print('après')\n",
    "print(f)\n",
    "print('forme = ',f.shape)\n",
    "print('nombre de dimensions = ',f.ndim)"
   ]
  },
  {
   "cell_type": "markdown",
   "id": "0a3bc0d7-7733-461b-ab7a-c4dfdb5e2ea9",
   "metadata": {},
   "source": [
    "#### 5-2-3  Operations sur les elements d'un tableau"
   ]
  },
  {
   "cell_type": "markdown",
   "id": "fddac8ce-b5ef-4bf1-9ba4-c7b8507ae8b7",
   "metadata": {},
   "source": [
    "Somme des éléments d'un tableau"
   ]
  },
  {
   "cell_type": "code",
   "execution_count": null,
   "id": "ad15396c-682a-4e9b-81fa-b8678fc17d00",
   "metadata": {},
   "outputs": [],
   "source": [
    "print(np.sum(e))"
   ]
  },
  {
   "cell_type": "markdown",
   "id": "faa17b5e-0b7b-483f-b786-140345e0469b",
   "metadata": {},
   "source": [
    "Moyenne"
   ]
  },
  {
   "cell_type": "code",
   "execution_count": null,
   "id": "74d445a2-efbc-4924-8660-1ba6e4527a14",
   "metadata": {},
   "outputs": [],
   "source": [
    "print(np.mean(e))"
   ]
  },
  {
   "cell_type": "markdown",
   "id": "fd62dc6d-0b0f-429a-a939-161afe201175",
   "metadata": {},
   "source": [
    "Minimum"
   ]
  },
  {
   "cell_type": "code",
   "execution_count": null,
   "id": "4a20753b-5495-4605-9084-d4c480a4eb4d",
   "metadata": {},
   "outputs": [],
   "source": [
    "print(np.min(e))"
   ]
  },
  {
   "cell_type": "markdown",
   "id": "ba15f208-7db5-4dfe-8c7c-41aa307e203d",
   "metadata": {},
   "source": [
    "Arrondi"
   ]
  },
  {
   "cell_type": "code",
   "execution_count": null,
   "id": "75f93048-4c1b-44fd-b24d-8f3424d787c8",
   "metadata": {
    "tags": []
   },
   "outputs": [],
   "source": [
    "e = np.array([1.1455, 2.58213, 3.9321321, 4.5481, 5.2521331, 6.513213])\n",
    "print(np.round(e,2))"
   ]
  },
  {
   "cell_type": "markdown",
   "id": "1a983eee-89fa-46bf-bb03-a66571e4ac36",
   "metadata": {},
   "source": [
    "| Opération          | Description                                    |\n",
    "|--------------------|------------------------------------------------|\n",
    "| np.sum             | Somme des éléments                            |\n",
    "| np.mean            | Moyenne des éléments                           |\n",
    "| np.min             | Valeur minimale                                |\n",
    "| np.max             | Valeur maximale                                |\n",
    "| np.median          | Médiane                                        |\n",
    "| np.std             | Écart-type                                     |\n",
    "| np.var             | Variance                                       |\n",
    "| np.prod            | Produit des éléments                           |\n",
    "| np.abs             | Valeurs absolues                               |\n",
    "| np.exp             | Exponentielle                                  |\n",
    "| np.log             | Logarithme naturel                             |\n",
    "| np.sqrt            | Racine carrée                                  |\n",
    "| np.sin             | Sinus                                          |\n",
    "| np.cos             | Cosinus                                        |\n",
    "| np.tan             | Tangente                                       |\n",
    "| np.arcsin          | Arc sinus                                      |\n",
    "| np.arccos          | Arc cosinus                                    |\n",
    "| np.arctan          | Arc tangente                                   |\n",
    "| ...                | ...                                            |"
   ]
  },
  {
   "cell_type": "markdown",
   "id": "67dadca6-6a7a-4c16-8817-1936bdd3b5fb",
   "metadata": {},
   "source": [
    "Cas des dimensions plus élevées:"
   ]
  },
  {
   "cell_type": "code",
   "execution_count": null,
   "id": "bf1eafd1-9df1-4799-8657-48089e48bb80",
   "metadata": {},
   "outputs": [],
   "source": [
    "g = np.array([[2,9,8],[8,1,9]])\n",
    "print(g)\n",
    "print(np.min(g))"
   ]
  },
  {
   "cell_type": "markdown",
   "id": "c477a10d-b87d-454e-9cf2-0dbc35e17a7b",
   "metadata": {},
   "source": [
    "Dans la cellule précédente, on récupère la valeur minimale du tableau, mais on pourrait vouloir le minimum par ligne ou par colonne. Dans ce cas il va faloir preciser l'axe."
   ]
  },
  {
   "cell_type": "code",
   "execution_count": null,
   "id": "b4324697-229d-462a-8538-57277444acde",
   "metadata": {},
   "outputs": [],
   "source": [
    "# minimum de chaque colonne\n",
    "print(np.min(g,axis = 0))"
   ]
  },
  {
   "cell_type": "markdown",
   "id": "4141ad83-4019-404d-8546-2c5872a0c871",
   "metadata": {},
   "source": [
    "On récupéré la valeur minimale de chaque colonne avec axis = 0, pour le minimum de chaque ligne, on précisera axis = 1"
   ]
  },
  {
   "cell_type": "code",
   "execution_count": null,
   "id": "979ff164-6e00-4116-b53f-fcfd693ea62f",
   "metadata": {},
   "outputs": [],
   "source": [
    "#minimum de chaque ligne\n",
    "print(np.min(g,axis = 1))"
   ]
  },
  {
   "cell_type": "markdown",
   "id": "57cf9692-2e71-4422-ba4e-8fdb1f9a1d04",
   "metadata": {},
   "source": [
    "# 5-3 Déclaration de tableaux particuliers"
   ]
  },
  {
   "cell_type": "markdown",
   "id": "3c70ca33-fe37-44bb-9599-c716262c289c",
   "metadata": {},
   "source": [
    "On peut délarer des tableaux, en précisant leurs dimension, mais aussi les éléménts qui le composent"
   ]
  },
  {
   "cell_type": "markdown",
   "id": "8d974bd6-707a-484d-9364-67c2fffc5786",
   "metadata": {},
   "source": [
    "- Tableau rempli de 1 avec **np.ones**"
   ]
  },
  {
   "cell_type": "code",
   "execution_count": null,
   "id": "6f7771cc-0102-42b4-8d43-dc138a933014",
   "metadata": {},
   "outputs": [],
   "source": [
    "arr_ones = np.ones((3, 2))\n",
    "print(arr_ones)"
   ]
  },
  {
   "cell_type": "markdown",
   "id": "ffdff453-23f0-42d0-b8d2-ff58a1fe0406",
   "metadata": {},
   "source": [
    "**Remarque:** pour les paramètres à rentrer, comme pour toutes les bibliothéques, il faut regarder [la documentation](https://numpy.org/doc/stable/reference/generated/numpy.ones.html)\n",
    "\n",
    "\n"
   ]
  },
  {
   "cell_type": "markdown",
   "id": "ad12c815-9e4b-46af-80d0-d56a78b79c98",
   "metadata": {},
   "source": [
    "- Tableau rempli de 0 avec **np.zeros**"
   ]
  },
  {
   "cell_type": "code",
   "execution_count": null,
   "id": "821a65a4-d9c8-4bce-bb6e-319a255a32ff",
   "metadata": {},
   "outputs": [],
   "source": [
    "arr_zeros = np.zeros((3, 2))\n",
    "print(arr_zeros)"
   ]
  },
  {
   "cell_type": "markdown",
   "id": "7bc2af0d-b6d9-435e-b497-3fb4520bdc0b",
   "metadata": {},
   "source": [
    "- Tableau rempli de valeurs aléatoires entre 0 et 1 avec **np.random.rand**"
   ]
  },
  {
   "cell_type": "code",
   "execution_count": null,
   "id": "5bf9a6c4-fece-4b65-9424-ca40e0d7260e",
   "metadata": {},
   "outputs": [],
   "source": [
    "arr_random = np.random.rand(3, 3)\n",
    "print(arr_random)"
   ]
  },
  {
   "cell_type": "markdown",
   "id": "297bd7d9-473d-44bf-a94a-8af030a5c2e5",
   "metadata": {},
   "source": [
    "- Tableau rempli de valeurs aléatoires réparties selon une loi uniforme entre 2 valeurs données avec **np.random.uniform**"
   ]
  },
  {
   "cell_type": "code",
   "execution_count": null,
   "id": "d05f6332-d54b-47aa-a0d4-c0d5d0b42570",
   "metadata": {},
   "outputs": [],
   "source": [
    "Valeur_min = 25\n",
    "valeur_maxi = 50\n",
    "arr_random_uni = np.random.uniform(Valeur_min, valeur_maxi, size =  (3, 3)) \n",
    "print(arr_random_uni)"
   ]
  },
  {
   "cell_type": "markdown",
   "id": "c7210f6a-5024-48c7-bcd5-ae48ea2182bf",
   "metadata": {},
   "source": [
    "- Tableau vides avec **np.empty** (2 lignes et 3 colonnes)"
   ]
  },
  {
   "cell_type": "code",
   "execution_count": null,
   "id": "1cabb6f8-9c69-4d99-8335-edd9f2870b2a",
   "metadata": {},
   "outputs": [],
   "source": [
    "arr_empty = np.empty((2, 3))\n",
    "print(arr_empty)"
   ]
  },
  {
   "cell_type": "markdown",
   "id": "87509914-91c8-4ce1-abcb-d007a30e1bb8",
   "metadata": {},
   "source": [
    "Des valeurs numériques apparaissent mais elles ne sont pas initialisées, elles dépendent de l'état de la mémoire au moment de la création du tableau.  \n",
    "L'avantage de ne pas initialiser des valeurs comme pour np.ones ou np.zeros est une rapidité supérieure à la création du tableau, on ne fait qu'allouer de l'espace mémoire."
   ]
  },
  {
   "cell_type": "markdown",
   "id": "9af9c8b7-0450-4852-8268-e85951f82be6",
   "metadata": {},
   "source": [
    "Lors de la déclaration d'un tableau, on peut déclarer le type qu'auront les éléments qu'il contient."
   ]
  },
  {
   "cell_type": "markdown",
   "id": "f873d25e-92b9-4191-b4ef-b9e5f2345b97",
   "metadata": {},
   "source": [
    "- Tableau d'entiers"
   ]
  },
  {
   "cell_type": "code",
   "execution_count": null,
   "id": "1854c05b-df2d-4533-863f-1c1141cf1c8a",
   "metadata": {},
   "outputs": [],
   "source": [
    "arr_int = np.array([1, 2, 3], dtype=int)\n",
    "print('entier: ',arr_int)"
   ]
  },
  {
   "cell_type": "markdown",
   "id": "605c3841-3b1f-406e-92fc-8a2878576701",
   "metadata": {},
   "source": [
    "- Nombres à virgule flottante"
   ]
  },
  {
   "cell_type": "code",
   "execution_count": null,
   "id": "ea5c3e05-08fa-4b26-a5e9-d5fcc6e49127",
   "metadata": {},
   "outputs": [],
   "source": [
    "arr_float = np.array([1, 2, 3], dtype=np.float32) #float codé sur 32 bits\n",
    "#ou\n",
    "arr_float = np.array([1, 2, 3], dtype=np.float64) #float codé sur 64 bits\n",
    "#ou\n",
    "arr_float = np.array([1, 2, 3], dtype=float) #float codé sur 64 bits par défaut\n",
    "\n",
    "print('décimal :',arr_float)"
   ]
  },
  {
   "cell_type": "markdown",
   "id": "0af92fa5-b66c-4b91-83f3-18a86040734f",
   "metadata": {},
   "source": [
    "- Chaînes de caractères"
   ]
  },
  {
   "cell_type": "code",
   "execution_count": null,
   "id": "35e96f93-ebf7-4a87-8e4d-22f7d160a48e",
   "metadata": {},
   "outputs": [],
   "source": [
    "arr_str = np.array(['1', '2', '3'], dtype=str)\n",
    "print('chaine de caracteres :',arr_str)"
   ]
  },
  {
   "cell_type": "markdown",
   "id": "6a906c02-53c9-4fa6-afef-884453ef63fd",
   "metadata": {},
   "source": [
    "- Booléens"
   ]
  },
  {
   "cell_type": "code",
   "execution_count": null,
   "id": "35e48544-2bbe-46b3-973f-1040c3107165",
   "metadata": {},
   "outputs": [],
   "source": [
    "arr_bool = np.array([0, 1, 1], dtype=bool)\n",
    "print('booléen: ',arr_bool)"
   ]
  },
  {
   "cell_type": "markdown",
   "id": "efd482a3-715b-4e46-b288-2521522ba998",
   "metadata": {},
   "source": [
    "| Type de données (dtype) | Description | Exemple |\n",
    "|------------------------|-------------|---------|\n",
    "| int8, int16, int32, int64 | Entiers signés de 8, 16, 32 ou 64 bits | `np.array([1, 2, 3], dtype=np.int32)` |\n",
    "| uint8, uint16, uint32, uint64 | Entiers non signés de 8, 16, 32 ou 64 bits | `np.array([0, 255, 65535], dtype=np.uint16)` |\n",
    "| float16, float32, float64 | Nombres à virgule flottante de 16, 32 ou 64 bits | `np.array([1.0, 2.5, 3.7], dtype=np.float64)` |\n",
    "| complex64, complex128 | Nombres complexes de 64 ou 128 bits | `np.array([1+2j, 3+4j, 5+6j], dtype=np.complex128)` |\n",
    "| bool | Valeurs booléennes (True ou False) | `np.array([True, False, True], dtype=np.bool)` |\n",
    "| object | Objet Python générique | `np.array(['a', 'b', 'c'], dtype=object)` |\n",
    "| string_ | Chaîne de caractères de longueur fixe | `np.array(['hello', 'world'], dtype=np.string_)` |\n",
    "| unicode_ | Chaîne de caractères Unicode de longueur fixe | `np.array(['こんにちは', '안녕하세요'], dtype=np.unicode_)` |\n"
   ]
  },
  {
   "cell_type": "markdown",
   "id": "13ddb241-fb29-4d0a-830d-450a800acc46",
   "metadata": {},
   "source": [
    "On peut également convertir le type des élements d'un tableau après sa création avec **.astype**"
   ]
  },
  {
   "cell_type": "code",
   "execution_count": null,
   "id": "75afc9c9-51af-42f7-8375-3b99c8b1f826",
   "metadata": {
    "tags": []
   },
   "outputs": [],
   "source": [
    "# Déclaration d'un tableau avec des entiers\n",
    "arr_int = np.array([1, 2, 3], dtype=int)\n",
    "print('entier: ',arr_int)\n",
    "# Conversion des éléments du tableau en nombre à virgules\n",
    "arr_float = arr_int.astype(np.float64)\n",
    "print('décimal: ',arr_float)"
   ]
  },
  {
   "cell_type": "markdown",
   "id": "74d7e82d-a497-434a-8255-c8f4068e58c3",
   "metadata": {},
   "source": [
    "[Exercice 1](exercices/Exercices5.ipynb)"
   ]
  },
  {
   "cell_type": "markdown",
   "id": "391bf3d4-e841-4f35-84c0-b8fa04246aac",
   "metadata": {},
   "source": [
    "# 5-4 Indexation et découpage de tableaux numpy"
   ]
  },
  {
   "cell_type": "markdown",
   "id": "e04a7f2e-b44a-4499-98f0-d1da933dd7a3",
   "metadata": {},
   "source": [
    "## 5-4-1 Découpages par tranches"
   ]
  },
  {
   "cell_type": "markdown",
   "id": "640f3852-d50a-457b-a693-9a1d7eb8ea3a",
   "metadata": {},
   "source": [
    "Les indexations sont assez similaires à celles de listes avec quelques outils supplémentaires"
   ]
  },
  {
   "cell_type": "code",
   "execution_count": null,
   "id": "ac4ce733-cf77-48ba-9faf-205d59e620d6",
   "metadata": {},
   "outputs": [],
   "source": [
    "print('tableau: :',e)\n",
    "print(\"e[3] : l'élément à l'indice 3: \",e[3])\n",
    "print('e[-1] : le dernier élément est: ',e[-1])\n",
    "print('e[2:5] : la tranche 2-5 est: ',e[2:5])\n",
    "print('e[::2] : les éléments avec indice pair: ',e[::2])\n",
    "print('e[e > 4]: les éléments dont la valeur est superieure à 4: ',e[e > 4])"
   ]
  },
  {
   "cell_type": "markdown",
   "id": "50e46e20-2a66-4626-979d-38254a2e2853",
   "metadata": {},
   "source": [
    "On peut appliquer ces indexations à des tableaux de dimension superieures."
   ]
  },
  {
   "cell_type": "code",
   "execution_count": null,
   "id": "b5d0e299-0a68-42d6-a129-b31cfd3a01db",
   "metadata": {},
   "outputs": [],
   "source": [
    "f = np.array([[0,1,2,3],[0,10,20,30],[0,100,200,300]])\n",
    "\n",
    "print('tableau: \\n',f)\n",
    "print('f[0,2] : élémént à la ligne 0, colonne2: ',f[0,2])\n",
    "print('f[1] : ligne 1: ',f[1]) # on commence à ligne zéro)\n",
    "print('[:,2] : colonne 2: ',f[:,2]) # on peut aussi lire : toutes les ligne, les colonnes 2\n",
    "print('f[0:1, 1:3] ligne 0 à 1 non inclus, colonnes 1 à 3 non inclus: ',f[0:1, 1:3])"
   ]
  },
  {
   "cell_type": "markdown",
   "id": "99c995b8-2f64-4b3f-95de-f4918ab63962",
   "metadata": {},
   "source": [
    "Pour la dimension 3. Ici on peut imaginer une matrice en 3 dimensions, concretement, ce format est souvent utilisé pour traiter des piles d'images."
   ]
  },
  {
   "cell_type": "code",
   "execution_count": null,
   "id": "43d61029-2876-4ca0-81e7-98f001ba594f",
   "metadata": {},
   "outputs": [],
   "source": [
    "h = np.array([[[1, 2, 3],[4, 5, 6]],\n",
    "            [[7, 8, 9],[10, 11, 12]]])\n",
    "print('tableau: ')\n",
    "print(h)\n",
    "print('h[0, 1, 2] : couche 0, ligne 1, colonne 2: ')\n",
    "print(h[0, 1, 2]) \n",
    "print('h[:, 0, :] : Toutes les couches, ligne 0, toutes les colonnes: ')\n",
    "print(h[:, 0, :])  \n",
    "print('h[-1, :, :] : Tous les éléments de la dernière couche du tableau: ')\n",
    "print(h[-1, :, :]) \n",
    "print('h[:, :, 1:2]: Toutes les couches, toutes les les lignes, les colonnes 1 et 2\\\n",
    "exclue, donc seulement 1: ')\n",
    "print(h[:, :, 1:2])  "
   ]
  },
  {
   "cell_type": "markdown",
   "id": "c7edfe4a-ec34-448a-88e5-fe8af9e2d5fe",
   "metadata": {},
   "source": [
    "<u>**Remarque**</u>: Par défaut, pour les tableaux numpy on a l'ordre couche - ligne - colonne. Dans le cas des images, on aura plutôt l'odre ligne - colonne - couche."
   ]
  },
  {
   "cell_type": "markdown",
   "id": "ea712046-2e05-449e-9e60-8f39e130ad65",
   "metadata": {},
   "source": [
    "## 5-4-2 Découpages par condition"
   ]
  },
  {
   "cell_type": "markdown",
   "id": "55cd7827-5045-41f4-b61f-7e4144d4111b",
   "metadata": {},
   "source": [
    "**np.where** renvoie les indices où une condition est vraie, c'est utilisé pour filtrer ou remplacer des valeurs. On récupère un tuple, dont le premier élément est un tableau contenant les indices des éléments respectant la condition."
   ]
  },
  {
   "cell_type": "code",
   "execution_count": null,
   "id": "4d6a6507-e587-4a98-aed8-b554bce43fdf",
   "metadata": {
    "tags": []
   },
   "outputs": [],
   "source": [
    "print('tableau: :',e)\n",
    "print('indices des elements dont la valeur est superieure à 3: ')\n",
    "print(np.where(e> 3))"
   ]
  },
  {
   "cell_type": "markdown",
   "id": "344efabd-3827-4007-8f60-32fd6afacf55",
   "metadata": {},
   "source": [
    "**np.any**  teste si au moins un élément d'un tableau satisfait une condition donnée. Elle renvoie True si au moins un élément du tableau est évalué comme True pour la condition spécifiée, sinon elle renvoie False. "
   ]
  },
  {
   "cell_type": "code",
   "execution_count": null,
   "id": "388289ae-e9ca-4f03-8529-d5e77e820950",
   "metadata": {},
   "outputs": [],
   "source": [
    "arr1 = np.array([False, False, True])\n",
    "result1 = np.any(arr1)\n",
    "print(result1)"
   ]
  },
  {
   "cell_type": "markdown",
   "id": "4c60c428-e57e-4249-ba26-ae6d1f61269c",
   "metadata": {},
   "source": [
    "Par exemple pour verifier une condition sur un tableau de valeurs:"
   ]
  },
  {
   "cell_type": "code",
   "execution_count": null,
   "id": "6adfe1eb-f636-4eff-b4a5-40956cb673fd",
   "metadata": {
    "tags": []
   },
   "outputs": [],
   "source": [
    "arr = np.array([1, 2, 3, 4, 5])\n",
    "# Vérifiez si au moins un élément du tableau est supérieur à 3\n",
    "result = np.any(arr > 3)\n",
    "# Affichez le résultat\n",
    "print(result)"
   ]
  },
  {
   "cell_type": "markdown",
   "id": "eee93224-2386-46f5-a06c-7cd35f513216",
   "metadata": {},
   "source": [
    "En plus haute dimension:"
   ]
  },
  {
   "cell_type": "code",
   "execution_count": null,
   "id": "af99ae36-4d56-474b-971c-7f2ae8019b65",
   "metadata": {},
   "outputs": [],
   "source": [
    "arr2 = np.array([[True, False,False], [False, False,True]])\n",
    "result2 = np.any(arr2, axis=0)\n",
    "print(arr2)\n",
    "print('Au moins un élément est-il évalué à True le long de chaque colonne?')\n",
    "print(result2)  "
   ]
  },
  {
   "cell_type": "code",
   "execution_count": null,
   "id": "042d445a-5df6-4a8f-8ba6-1fdb2bed4cf1",
   "metadata": {
    "tags": []
   },
   "outputs": [],
   "source": [
    "arr3 = np.array([[True, False,False], [False, False,True]])\n",
    "result3 = np.any(arr3, axis=1)\n",
    "print(arr3) \n",
    "print('Au moins un élément est-il évalué à True le long de chaque ligne?') \n",
    "print(result3)  "
   ]
  },
  {
   "cell_type": "markdown",
   "id": "4ee4d160-048f-4ba3-aab2-e47b06f5a35f",
   "metadata": {},
   "source": [
    "[Exercice 2](exercices/Exercices5.ipynb)"
   ]
  },
  {
   "cell_type": "markdown",
   "id": "19a37b14-e8aa-47fa-a2ae-e439b5a57a46",
   "metadata": {},
   "source": [
    "# 5-5 Manipulations avancées de tableaux Numpy"
   ]
  },
  {
   "cell_type": "markdown",
   "id": "3ea4fbdf-b31c-4edb-8548-0fc68453e7b6",
   "metadata": {},
   "source": [
    "## 5-5-1 Concatener"
   ]
  },
  {
   "cell_type": "markdown",
   "id": "9a1550db-ac83-497f-b3ab-a5cb28c579b1",
   "metadata": {},
   "source": [
    "La concaténation avec **np.concatenate** est une opération qui permet de fusionner plusieurs tableaux numpy en les empilant les uns après les autres selon un axe spécifié."
   ]
  },
  {
   "cell_type": "code",
   "execution_count": null,
   "id": "e5d63956-ce93-4b06-af83-47b8296ae566",
   "metadata": {},
   "outputs": [],
   "source": [
    "i = np.array([1, 2, 3])\n",
    "j = np.array([4, 5, 6])\n",
    "\n",
    "# Concaténation des tableaux\n",
    "result = np.concatenate((i, j))\n",
    "\n",
    "# Affichage du résultat\n",
    "print(\"Tableau 1 :\", i)\n",
    "print(\"Tableau 2 :\", j)\n",
    "print(\"Résultat de la concaténation :\", result)"
   ]
  },
  {
   "cell_type": "markdown",
   "id": "497dcb73-5b04-4b9b-b38e-76d46a1288c4",
   "metadata": {},
   "source": [
    "En dimension 2"
   ]
  },
  {
   "cell_type": "code",
   "execution_count": null,
   "id": "aebcd02c-01f0-4bdb-a29d-329d80d8a83e",
   "metadata": {},
   "outputs": [],
   "source": [
    "k = np.array([[1, 2],\n",
    "              [3, 4]])\n",
    "\n",
    "l = np.array([[5, 6],\n",
    "              [7, 8]])\n",
    "\n",
    "print('Origine','\\n',\n",
    "      k,'\\n','-----','\\n',l)\n",
    "print('axe 0, empiler verticalement colonnes concaténées: ','\\n',\n",
    "      np.concatenate((k, l), axis=0))\n",
    "print('axe 1, empiler horizontalement lignes concaténées: ','\\n',\n",
    "      np.concatenate((k, l), axis=1))\n",
    "print(\"Sans précision sur l'axe (par defaut axis = 0): \",'\\n',\n",
    "      np.concatenate((k, l)))"
   ]
  },
  {
   "cell_type": "markdown",
   "id": "3ed1c0e5-64d3-400f-bf21-f92aa7853756",
   "metadata": {},
   "source": [
    "On peut spécifier le tableau résultant de la concatenation avec le paramètre out"
   ]
  },
  {
   "cell_type": "code",
   "execution_count": null,
   "id": "60a6c396-762c-463e-955a-27f5ad2c195b",
   "metadata": {},
   "outputs": [],
   "source": [
    "i = np.array([1, 2, 3])\n",
    "j = np.array([4, 5, 6])\n",
    "res = np.array([0,0,0,0,0,0])\n",
    "np.concatenate((i,j), out=res)\n",
    "print(res)"
   ]
  },
  {
   "cell_type": "markdown",
   "id": "9f0ee34a-bb68-4a59-9c78-58c8821e8818",
   "metadata": {},
   "source": [
    "## 5-5-2 Ajouter des éléments"
   ]
  },
  {
   "cell_type": "markdown",
   "id": "ae8ec3c4-4fe0-4241-a15c-a6376663bfaf",
   "metadata": {},
   "source": [
    "Ajouter un élément à la fin"
   ]
  },
  {
   "cell_type": "code",
   "execution_count": null,
   "id": "b02d1de5-b9ba-4389-bab0-ceee4e59c07b",
   "metadata": {},
   "outputs": [],
   "source": [
    "print(j)\n",
    "print(np.append(j, 4))"
   ]
  },
  {
   "cell_type": "code",
   "execution_count": null,
   "id": "88109ee0-e957-4f5e-b176-1563e8b0802c",
   "metadata": {},
   "outputs": [],
   "source": [
    "print('i')\n",
    "print(i)\n",
    "print('----------------')\n",
    "print('j')\n",
    "print(j)\n",
    "print('----------------')\n",
    "print('np.append(i, j)')\n",
    "print(np.append(i, j))\n",
    "print('----------------')\n",
    "print('np.append(j, i)')\n",
    "print(np.append(j, i))"
   ]
  },
  {
   "cell_type": "markdown",
   "id": "42cf0698-78a8-4ab7-8dc2-5a8610350441",
   "metadata": {},
   "source": [
    "En dimension 2, par défaut l'axe est configuré à 'None', ce qui signifie qu'un tableau de dimension 2 sera réduit à 1 seule dimension"
   ]
  },
  {
   "cell_type": "code",
   "execution_count": null,
   "id": "13d7d4b8-0afc-4165-9bec-b34545539224",
   "metadata": {},
   "outputs": [],
   "source": [
    "print(k)\n",
    "print('----------------')\n",
    "print(np.append(k, 4))"
   ]
  },
  {
   "cell_type": "markdown",
   "id": "5c07770b-ed0c-492d-9e7f-ba2e97f93b04",
   "metadata": {},
   "source": [
    "On peut choisir d'ajouter une ligne en précisant: axis = 0"
   ]
  },
  {
   "cell_type": "code",
   "execution_count": null,
   "id": "ad54c995-e05f-46f8-8692-9c8719124a92",
   "metadata": {},
   "outputs": [],
   "source": [
    "print(k)\n",
    "print('----------------')\n",
    "print( np.append(k, [[5, 6]], axis=0))"
   ]
  },
  {
   "cell_type": "markdown",
   "id": "01edbdc4-33bb-422e-a606-bb6620665eb8",
   "metadata": {},
   "source": [
    "Ou une colonne en précisant axis = 1"
   ]
  },
  {
   "cell_type": "code",
   "execution_count": null,
   "id": "0e9b800c-2c2f-4508-b803-ce9c53e6219d",
   "metadata": {},
   "outputs": [],
   "source": [
    "print(k)\n",
    "print('----------------')\n",
    "print(np.append(k, [[7], [8]], axis=1))"
   ]
  },
  {
   "cell_type": "markdown",
   "id": "8ad1821b-7686-41e9-b2f7-870106b09201",
   "metadata": {},
   "source": [
    "## 5-5-3 Empiler des tableaux"
   ]
  },
  {
   "cell_type": "markdown",
   "id": "98be4fdb-30a3-489e-892e-2f6e1e0b7a57",
   "metadata": {},
   "source": [
    "La fonction **np.stack** empile les tableaux pour créer un nouveau tableau multidimensionnel."
   ]
  },
  {
   "cell_type": "code",
   "execution_count": null,
   "id": "d12dd7c2-a781-462a-9860-2585e1ee70b6",
   "metadata": {},
   "outputs": [],
   "source": [
    "l = np.array([1, 2, 3])\n",
    "m = np.array([4, 5, 6])\n",
    "print('----- l -------')\n",
    "print(l)\n",
    "print(l.shape)\n",
    "print('----- m -------')\n",
    "print(m)\n",
    "print(m.shape)\n",
    "print('----- stack -------')\n",
    "stacked = np.stack((l, m))\n",
    "print(stacked)\n",
    "print(stacked.shape)\n",
    "print('----- vertical stack -------')\n",
    "vstacked = np.vstack((l, m))\n",
    "print(vstacked)\n",
    "print(vstacked.shape)\n",
    "print('----- horizontal stack -------')\n",
    "hstacked = np.hstack((l, m))\n",
    "print(hstacked)\n",
    "print(hstacked.shape)"
   ]
  },
  {
   "cell_type": "markdown",
   "id": "6afe9562-63c2-4b88-a6b9-dba2ca40523d",
   "metadata": {},
   "source": [
    "Ici, avec **np.stack** et **np.vstack**   on a transformé deux tableaux de 1 ligne chacun en un tableau de 2 lignes, mais pour des dimensions superieures, **np.stack** ajoute une dimension alors que **np.vstack** empile les colonnes."
   ]
  },
  {
   "cell_type": "code",
   "execution_count": null,
   "id": "7c27c5e0-7222-4206-bc1a-48918bc32d66",
   "metadata": {},
   "outputs": [],
   "source": [
    "n = np.array([[1, 2, 3]])\n",
    "o = np.array([[5, 5, 6]])\n",
    "\n",
    "print('----- n -------')\n",
    "print(n)\n",
    "print(n.shape)\n",
    "\n",
    "print('----- o -------')\n",
    "print(o)\n",
    "print(o.shape)\n",
    "\n",
    "print('----- stack -------')\n",
    "result_stack = np.stack((n, o))\n",
    "print(result_stack)\n",
    "print(result_stack.shape)\n",
    "\n",
    "print('----- vertical stack -------')\n",
    "result_vstack = np.vstack((n, o))\n",
    "print(result_vstack)\n",
    "print(result_vstack.shape)\n",
    "\n",
    "print('----- horizontal stack -------')\n",
    "result_hstack = np.hstack((n, o))\n",
    "print(result_hstack)\n",
    "print(result_hstack.shape)\n"
   ]
  },
  {
   "cell_type": "markdown",
   "id": "96347ebf-854e-4af4-8ae6-d227918c9307",
   "metadata": {},
   "source": [
    "## 5-5-4 Découper des tableaux"
   ]
  },
  {
   "cell_type": "markdown",
   "id": "b7fecc95-f26a-4d74-ae9e-0f6bcb1d8c81",
   "metadata": {},
   "source": [
    "**np.split** permet de diviser un tableau en sous-tableaux en spécifiant un point de séparation"
   ]
  },
  {
   "cell_type": "code",
   "execution_count": null,
   "id": "23b22cb1-9de0-4e6f-b729-bc9691f06830",
   "metadata": {},
   "outputs": [],
   "source": [
    "p = np.array([1, 2, 3, 4, 5, 6, 7, 8, 9, 10])\n",
    "print(np.split(p, 5)) # couper le tableau en 5 sous tableaux\n",
    "                      #  de taille identique qui seront mis dans un tableau"
   ]
  },
  {
   "cell_type": "markdown",
   "id": "d645b2de-8771-4247-a0bc-7a9cfd7fba4b",
   "metadata": {},
   "source": [
    "Il faut bien sûr que le nombre d'élément soit divisible par 5 dans ce cas."
   ]
  },
  {
   "cell_type": "markdown",
   "id": "af462f2a-45b6-4850-8128-519cf5407edb",
   "metadata": {},
   "source": [
    "En 2 dimensions:"
   ]
  },
  {
   "cell_type": "code",
   "execution_count": null,
   "id": "76878413-462b-4c0a-ba30-de77e418ca38",
   "metadata": {},
   "outputs": [],
   "source": [
    "q = np.array([[1, 2, 3, 4],\n",
    "              [5, 6, 7, 8],\n",
    "              [9, 10, 11, 12],\n",
    "              [13, 14, 15, 16]])\n",
    "\n",
    "print(np.split(q, 2)) #couper les tableau en tableaux de 2 lignes"
   ]
  },
  {
   "cell_type": "markdown",
   "id": "47fe91e8-d606-4d6e-8f05-9ee50b0556e4",
   "metadata": {},
   "source": [
    "Par défaut l'axe est zéro.  \n",
    "- **axis=0**: on divise le tableau en sous-tableaux ayant le même nombre de lignes. \n",
    "- **axis=1**: on divise le tableau en sous-tableaux ayant le même nombre de colonnes."
   ]
  },
  {
   "cell_type": "code",
   "execution_count": null,
   "id": "a45092e8-6136-4392-8ea4-2c97056b1805",
   "metadata": {},
   "outputs": [],
   "source": [
    "q = np.array([[1, 2, 3, 4],\n",
    "              [5, 6, 7, 8],\n",
    "              [9, 10, 11, 12],\n",
    "              [13, 14, 15, 16]])\n",
    "\n",
    "print(np.split(q, 2, axis = 1)) #couper les tableau en tableaux de 2 colonnes"
   ]
  },
  {
   "cell_type": "markdown",
   "id": "701d7f11-be90-4d2d-886e-9d30c1373006",
   "metadata": {},
   "source": [
    "## 5-5-5 Changement de dimensions des tableaux"
   ]
  },
  {
   "cell_type": "markdown",
   "id": "2aabca9b-cf66-4e2f-83e6-f8d93525b11d",
   "metadata": {},
   "source": [
    "### 5-5-5-1 Aplatir des tableaux"
   ]
  },
  {
   "cell_type": "markdown",
   "id": "6abeee68-ed22-4bda-a234-8a9ebff3bc7c",
   "metadata": {},
   "source": [
    "**np.flatten** transforme un tableau multi-dimensionnel en un tableau à une dimension"
   ]
  },
  {
   "cell_type": "code",
   "execution_count": null,
   "id": "203b2bae-ce5e-4326-9e47-3dad4eeab1b6",
   "metadata": {},
   "outputs": [],
   "source": [
    "r = np.array([[[1, 2, 3],\n",
    "               [4, 5, 6]],\n",
    "              [[7, 8, 9],\n",
    "               [10, 11, 12]]])\n",
    "print('-----r-----')\n",
    "print(r)\n",
    "print('forme de r: ', r.shape)\n",
    "flattened_r = r.flatten()\n",
    "print('-----r applati-----')\n",
    "print(flattened_r)\n",
    "print('forme de r aplati: ', flattened_r.shape)"
   ]
  },
  {
   "cell_type": "markdown",
   "id": "923c8537-be2b-4f95-92d8-c8aa27376b70",
   "metadata": {},
   "source": [
    "### 5-5-5-2 Redimensionner des tableaux"
   ]
  },
  {
   "cell_type": "markdown",
   "id": "91ed1594-ef60-4226-9943-6f1c6970c864",
   "metadata": {},
   "source": [
    "On a déja vu la fonction **reshape** qui permet de modifier la forme d'un tableau en spécifiant les nouvelles dimensions, en conservant les mêmes éléments"
   ]
  },
  {
   "cell_type": "code",
   "execution_count": null,
   "id": "ab04fbb5-63a9-4cdc-b3d0-695921dc82f9",
   "metadata": {},
   "outputs": [],
   "source": [
    "s = np.array([1, 2, 3, 4, 5, 6])\n",
    "\n",
    "print('----- avant -------')\n",
    "print(s)\n",
    "print( s.shape)\n",
    "# transformons le tableau de 6 éléments en matrice\n",
    "# de 2 lignes, 3 colonnes\n",
    "reshaped_s = s.reshape((2, 3))\n",
    "print('----- après -------')\n",
    "print(reshaped_s)\n",
    "print( reshaped_s.shape)"
   ]
  },
  {
   "cell_type": "markdown",
   "id": "57447273-bee9-476f-a2ba-d437822598ca",
   "metadata": {},
   "source": [
    "Il arrive souvent que l'on ait une des dimension du tableau égale à 1 sans que ça ne soit necessaire, pour supprimer cette ou ces dimensions, utilisons **np.squeeze**."
   ]
  },
  {
   "cell_type": "code",
   "execution_count": null,
   "id": "407ff6b4-51ab-4e15-8dcf-057c20151613",
   "metadata": {},
   "outputs": [],
   "source": [
    "s = np.array([[[1], [2], [3]]])\n",
    "print(s)\n",
    "print(s.shape)\n",
    "print('---------------')\n",
    "\n",
    "print(np.squeeze(s))\n",
    "print(np.squeeze(s).shape)\n"
   ]
  },
  {
   "cell_type": "markdown",
   "id": "ff20cbf8-991d-49d0-9e7b-fef5385a7903",
   "metadata": {},
   "source": [
    "En précisant l'axe, on peut choisir de ne pas supprimer toutes les dimensions égales à 1, mais par exemple ici, seulement la 3ème."
   ]
  },
  {
   "cell_type": "code",
   "execution_count": null,
   "id": "98c415f1-bf0f-4ab0-b57c-098055a7a51b",
   "metadata": {},
   "outputs": [],
   "source": [
    "print(np.squeeze(s,axis = 2))\n",
    "print(np.squeeze(s, axis =2).shape)"
   ]
  },
  {
   "cell_type": "markdown",
   "id": "ed724fc5-2510-4c5f-ac2c-d610659e0c73",
   "metadata": {},
   "source": [
    "A l'inverse on peut avoir besoin de passer d'une forme (x,1) à (x,). **np.newaxis** le permet. "
   ]
  },
  {
   "cell_type": "code",
   "execution_count": null,
   "id": "3093fa7f-3f45-4a3f-bd15-9a2457356cee",
   "metadata": {},
   "outputs": [],
   "source": [
    "f = np.array([1,9,8,7])\n",
    "print(f.shape)\n",
    "print(f)\n",
    "print('-------------')\n",
    "f = f[:, np.newaxis]\n",
    "print(f.shape)\n",
    "print(f)"
   ]
  },
  {
   "cell_type": "markdown",
   "id": "6aacc56e-f8e3-429a-9546-05fdb0b25ac2",
   "metadata": {},
   "source": [
    "## 5-5-6 Autres fonctions numpy"
   ]
  },
  {
   "cell_type": "markdown",
   "id": "4110cc1b-b9d0-4676-8953-6e093aff23b7",
   "metadata": {},
   "source": [
    "### 5-4-6-1 Copie"
   ]
  },
  {
   "cell_type": "markdown",
   "id": "949c72f0-b980-42f3-923e-f74f7206a44b",
   "metadata": {},
   "source": [
    "La fonction **np.copy()** est utilisée pour créer une copie indépendante d'un objet NumPy existant, ceci permet d'éviter de modiffier l'original par erreur."
   ]
  },
  {
   "cell_type": "code",
   "execution_count": null,
   "id": "208e8d45-03b9-4fd3-ac08-3820c89102bb",
   "metadata": {
    "tags": []
   },
   "outputs": [],
   "source": [
    "original = np.array([1, 2, 3, 4, 5])\n",
    "\n",
    "# Création d'une copie du tableau\n",
    "copie = np.copy(original)\n",
    "# Modifier la copie\n",
    "copie[0] = 10\n",
    "# Afficher les deux tableaux\n",
    "print(\"Original:\", original)  \n",
    "print(\"Copie:\", copie)        "
   ]
  },
  {
   "cell_type": "markdown",
   "id": "f50ff6da-8a14-43d6-bce8-1030234c85a7",
   "metadata": {},
   "source": [
    "### 5-4-6-2 Interpolations"
   ]
  },
  {
   "cell_type": "markdown",
   "id": "10ba0962-817c-43d1-a9d4-f6bee26bb03c",
   "metadata": {},
   "source": [
    "**np.interp** réalise une interpolation linéaire pour estimer des valeurs entre des points de données en fonction d'une plage d'entrée spécifiée et d'une plage de sortie correspondante."
   ]
  },
  {
   "cell_type": "code",
   "execution_count": null,
   "id": "b182c8fa-af7b-46eb-9760-82f950ea3e51",
   "metadata": {
    "tags": []
   },
   "outputs": [],
   "source": [
    "x = np.array([0, 1, 2, 3, 4])\n",
    "y = np.array([0, 14, 9, 12, 3])\n",
    "interp_point = 2.5\n",
    "\n",
    "interp_value = np.interp(interp_point, x, y)  # Interpolation linéaire pour un seul point\n",
    "\n",
    "fig, ax = plt.subplots()\n",
    "ax.plot(x, y,  marker = 'o',label='Données')\n",
    "ax.plot(interp_point, interp_value, 'ro', label='Interpolation')\n",
    "ax.legend();"
   ]
  },
  {
   "cell_type": "markdown",
   "id": "4a7c19ab-23ac-4d39-b674-73514d82fabd",
   "metadata": {},
   "source": [
    "On peur aussi faire l'interpolation sur un tableau"
   ]
  },
  {
   "cell_type": "code",
   "execution_count": null,
   "id": "95f28a11-ba1e-482b-9d68-022095db2f8e",
   "metadata": {
    "tags": []
   },
   "outputs": [],
   "source": [
    "interp_array = np.array([0.4, 0.9, 1.6, 2.2, 2.8, 3.6])\n",
    "\n",
    "interp_values = np.interp(interp_array, x, y)  # Interpolation linéaire pour tout le tableau interp_array\n",
    "\n",
    "fig, ax = plt.subplots()\n",
    "ax.plot(x, y, marker = 'o', label='Données')\n",
    "ax.plot(interp_array, interp_values, 'ro', label='Interpolation')\n",
    "ax.legend()"
   ]
  },
  {
   "cell_type": "markdown",
   "id": "9023abd8-2a39-4212-ac3a-8efa021e4a6c",
   "metadata": {},
   "source": [
    "### 5-4-6-3 Derivée et difference"
   ]
  },
  {
   "cell_type": "markdown",
   "id": "a87a8741-bc11-48c8-8de7-fefe4cf99abe",
   "metadata": {},
   "source": [
    "**np.gradient** calcule la différence entre les valeurs successives d'un tableau multidimensionnel, en prenant en compte les espacements entre les points. Il retourne un tableau avec les différences calculées pour chaque dimension du tableau d'entrée. Par conséquent, np.gradient peut être utilisé pour calculer la dérivée d'une fonction discrète dans plusieurs dimensions."
   ]
  },
  {
   "cell_type": "code",
   "execution_count": null,
   "id": "fe6cf451-8d34-413a-9800-6b557dc93a5f",
   "metadata": {
    "tags": []
   },
   "outputs": [],
   "source": [
    "x = np.array([0, 1, 2, 3, 4, 5, 6, 7 , 8, 9, 10])\n",
    "y = np.array([1, 2, 4, 7, 11, 16, 12, 10, 5, 11, 16])\n",
    "\n",
    "# Calcul de la dérivée de y par rapport à x\n",
    "deriv = np.gradient(y, x)\n",
    "\n",
    "print(\"La dérivée de y par rapport à x est\", deriv)\n",
    "\n",
    "fig, ax = plt.subplots()\n",
    "ax.plot(x, y, label='y')\n",
    "ax.plot(x, deriv, label=\"Dérivée de y par rapport à x\")\n",
    "ax.legend()"
   ]
  },
  {
   "cell_type": "markdown",
   "id": "537a45d4-a5ad-42df-a595-21bf9fb394ef",
   "metadata": {},
   "source": [
    "**np.diff** calcule la différence entre les valeurs consécutives d'un tableau unidimensionnel. Il retourne un tableau d'une dimension de longueur réduite par rapport à l'entrée, où chaque élément correspond à la différence entre deux éléments adjacents. "
   ]
  },
  {
   "cell_type": "code",
   "execution_count": null,
   "id": "6a81e88b-6422-46ab-89ec-d4e88f81ab5e",
   "metadata": {
    "tags": []
   },
   "outputs": [],
   "source": [
    "# Calcul des différences entre les valeurs de y\n",
    "print('y ',y)\n",
    "diff = np.diff(y)\n",
    "print('diff',diff)\n",
    "\n",
    "# Création du tableau d'indices\n",
    "indices = np.arange(0, len(y)-1)\n",
    "print('indices',indices)\n",
    "\n",
    "fig, ax = plt.subplots()\n",
    "ax.plot(indices, y[1:], label='y')\n",
    "ax.plot(indices, diff, label='Différence de y')\n",
    "ax.legend()\n",
    "\n",
    "plt.show()"
   ]
  },
  {
   "cell_type": "markdown",
   "id": "d32fa92c-8a07-4947-8b9c-9f34f74a4ab5",
   "metadata": {},
   "source": [
    "avec np.diff on a calculé $\\Delta y $ alors qu'avec np.gradient, on a calculé $\\Delta y / \\Delta x$"
   ]
  },
  {
   "cell_type": "markdown",
   "id": "390a43e6-0cd2-4043-bfd1-5bcf1fc4461b",
   "metadata": {},
   "source": [
    "### 5-4-6-5 Pour le traitement des données scientifiques"
   ]
  },
  {
   "cell_type": "markdown",
   "id": "ac529182-35f8-4973-94c6-e382ba1a9342",
   "metadata": {},
   "source": [
    "| Fonction   | Description                                                                 |\n",
    "|------------|-----------------------------------------------------------------------------|\n",
    "| linspace   | Génère une séquence de valeurs régulièrement espacées dans un intervalle     |\n",
    "| logspace   | Génère une séquence de valeurs espacées logarithmiquement dans un intervalle |\n",
    "| fft        | Calcule la transformée de Fourier discrète d'un signal                       |\n",
    "| ifft       | Calcule la transformée de Fourier inverse d'un signal                        |\n"
   ]
  },
  {
   "cell_type": "markdown",
   "id": "694874ce-04c4-4089-858e-40ecdb9ecec2",
   "metadata": {},
   "source": [
    "### 5-4-6-6 Pour le traitement statistique"
   ]
  },
  {
   "cell_type": "markdown",
   "id": "d65d3357-d29a-462f-ad87-f33234f9c871",
   "metadata": {},
   "source": [
    "| Fonction   | Description                                                                 |\n",
    "|------------|-----------------------------------------------------------------------------|\n",
    "| sort       | Trie les éléments d'un tableau selon un axe donné                            |\n",
    "| unique     | Retourne les éléments uniques d'un tableau                                   |\n",
    "| mean       | Calcule la moyenne d'un tableau                                              |\n",
    "| median     | Calcule la médiane d'un tableau                                              |\n",
    "| std        | Calcule l'écart-type d'un tableau                                            |\n",
    "| var        | Calcule la variance d'un tableau                                             |\n",
    "| argmin     | Retourne l'indice de la valeur minimale d'un tableau                         |\n",
    "| argmax     | Retourne l'indice de la valeur maximale d'un tableau  "
   ]
  },
  {
   "cell_type": "markdown",
   "id": "65081be5-1b2f-445b-8470-ff573d189adc",
   "metadata": {},
   "source": [
    "La variété des fonctions existant en numpy va permettre d'appliquer des opérations à tous les éléments de tableaux de diverses dimensions en évitant d'avoir recours à des boucles qui donneraient des codes plus \"lourds\" et moins performants. "
   ]
  },
  {
   "cell_type": "markdown",
   "id": "2fb11bc5-bff2-4d39-aeff-4127357ebdfe",
   "metadata": {},
   "source": [
    "# 5-5 Manipulations d'images"
   ]
  },
  {
   "cell_type": "markdown",
   "id": "43595645-4ba7-41e4-9e5d-aa2e10b885e4",
   "metadata": {},
   "source": [
    "Le tableaux numpy peuvent servir à manipuler une grande variété de type de données, comme des images qui ne sont rien d'autre que des tableau numpy dont chaque élément est un pixel et représente une valeur definissant un niveau de gris ou une couleur"
   ]
  },
  {
   "cell_type": "markdown",
   "id": "89822ce4-478d-473b-bdb4-5f8b2e8c3678",
   "metadata": {},
   "source": [
    "Definissons une image de 28 pixels sur 28 pixels en niveaux de gris (0 à 256)"
   ]
  },
  {
   "cell_type": "code",
   "execution_count": null,
   "id": "3dfaca2c-6ff1-49a2-932c-ded0a3b0eaa7",
   "metadata": {},
   "outputs": [],
   "source": [
    "image_array_rand = np.random.randint(0, 256, size=(28, 28))"
   ]
  },
  {
   "cell_type": "code",
   "execution_count": null,
   "id": "c9a3526f-85e8-4395-afc7-372703fba07f",
   "metadata": {},
   "outputs": [],
   "source": [
    "print(image_array_rand)"
   ]
  },
  {
   "cell_type": "markdown",
   "id": "6edd41b2-9fa5-4666-8270-11fe3706c35a",
   "metadata": {},
   "source": [
    "Utilisons matplotlib pour la tracer"
   ]
  },
  {
   "cell_type": "code",
   "execution_count": null,
   "id": "86716df5-fa38-44c1-833a-beaeb62936f2",
   "metadata": {},
   "outputs": [],
   "source": [
    "fig,ax = plt.subplots()\n",
    "ax.imshow(image_array_rand)"
   ]
  },
  {
   "cell_type": "markdown",
   "id": "87a0edf6-31e1-40cc-99d6-688e108ac3c0",
   "metadata": {},
   "source": [
    "Avec un petit effort de présentation..."
   ]
  },
  {
   "cell_type": "code",
   "execution_count": null,
   "id": "7cec32fb-3f6d-46fe-a8c4-518604580d96",
   "metadata": {},
   "outputs": [],
   "source": [
    "fig,ax = plt.subplots()\n",
    "ax.imshow(image_array_rand, cmap='gray',vmin = 0, vmax = 255) #niveaux de gris de 0 à 255\n",
    "ax.axis('off');  # Masquer les axes"
   ]
  },
  {
   "cell_type": "markdown",
   "id": "da6582c7-5559-4c1f-a168-a081e5e01a3f",
   "metadata": {},
   "source": [
    "On peut faire des opérations sur l'ensemble des pixels, comme augmenter ou diminuer leurs valeurs, ce qui changera la luminosité de l'image"
   ]
  },
  {
   "cell_type": "code",
   "execution_count": null,
   "id": "c68e0514-3666-4271-827a-eed7a3743884",
   "metadata": {
    "tags": []
   },
   "outputs": [],
   "source": [
    "clair = image_array_rand + 80\n",
    "fonce = image_array_rand - 80\n",
    "\n",
    "# Mettre les valeur négatives à zero et les valeurs superieures à 255 à 255\n",
    "#remplacer toutes les valeurs supérieures à 255 dans le tableau clair par 255.\n",
    "clair[clair > 255] = 255 \n",
    "#remplacer toutes les valeurs négatives dans le tableau fonce par 0\n",
    "fonce[fonce < 0] = 0 \n"
   ]
  },
  {
   "cell_type": "code",
   "execution_count": null,
   "id": "1de826a9-83dc-4b33-a579-c72afcb62c84",
   "metadata": {
    "tags": []
   },
   "outputs": [],
   "source": [
    "fig, ax = plt.subplots(1,3)\n",
    "ax[0].imshow(image_array_rand, cmap='gray',vmin = 0, vmax = 255)\n",
    "ax[0].set_title('Origine')\n",
    "ax[1].imshow(clair, cmap='gray',vmin = 0, vmax = 255)\n",
    "ax[1].set_title('Clair')\n",
    "ax[2].imshow(fonce, cmap='gray',vmin = 0, vmax = 255)\n",
    "ax[2].set_title('Foncé');"
   ]
  },
  {
   "cell_type": "markdown",
   "id": "ba370eac-17dc-4bcb-94dc-277374bec15b",
   "metadata": {},
   "source": [
    "Avec les outils de slice, on peut creer une image avec des motifs géométriques"
   ]
  },
  {
   "cell_type": "code",
   "execution_count": null,
   "id": "5b62cf26-6970-4369-b00c-838f8ab28169",
   "metadata": {},
   "outputs": [],
   "source": [
    "# Création d'un tableau numpy de dimensions 28x28 rempli de zéros (fond noir)\n",
    "image_array = np.zeros((28, 28))\n",
    "\n",
    "# Définition des coordonnées du motif géométrique\n",
    "start_row, end_row = 8, 10\n",
    "start_col, end_col = 10, 20\n",
    "\n",
    "start_row2, end_row2 = 18, 20\n",
    "start_col2, end_col2 = 4, 6\n",
    "\n",
    "# Remplissage du motif avec le niveau de gris 100\n",
    "image_array[start_row:end_row, start_col:end_col] = 100\n",
    "\n",
    "image_array[start_row2:end_row2, start_col2:end_col2] = 255\n"
   ]
  },
  {
   "cell_type": "code",
   "execution_count": null,
   "id": "5ae11dce-4587-4625-8720-1422c0c3401b",
   "metadata": {},
   "outputs": [],
   "source": [
    "fig,ax = plt.subplots()\n",
    "ax.imshow(image_array, cmap='gray',vmin = 0, vmax = 255)"
   ]
  },
  {
   "cell_type": "markdown",
   "id": "a2753118-1316-416b-b648-ec5ee8cec9c3",
   "metadata": {},
   "source": [
    "Ouvrons maintenant une image contenue dans un fichier et essayons de comprendre comment elle est constituée"
   ]
  },
  {
   "cell_type": "code",
   "execution_count": null,
   "id": "1446a2a9-0d5c-4256-89a5-973ed2df09b7",
   "metadata": {
    "tags": []
   },
   "outputs": [],
   "source": [
    "# Lire l'image avec Matplotlib\n",
    "image = plt.imread('fichiers_cours/numpy/rgb.png')\n",
    "\n",
    "# Convertir l'image en tableau NumPy (ça n'est pas toujours necessaire)\n",
    "mon_image = np.array(image)"
   ]
  },
  {
   "cell_type": "code",
   "execution_count": null,
   "id": "e8076c3c-8623-4405-b367-faf105405299",
   "metadata": {
    "tags": []
   },
   "outputs": [],
   "source": [
    "fig,ax = plt.subplots()\n",
    "ax.imshow(image)\n",
    "ax.axis('off')"
   ]
  },
  {
   "cell_type": "code",
   "execution_count": null,
   "id": "39045bb7-730e-4ccb-9031-2c9f6e87d3e9",
   "metadata": {
    "tags": []
   },
   "outputs": [],
   "source": [
    "print(mon_image.shape)"
   ]
  },
  {
   "cell_type": "code",
   "execution_count": null,
   "id": "212285ab-47f9-4d3b-9c34-e67931633524",
   "metadata": {},
   "outputs": [],
   "source": [
    "fig, ax = plt.subplots(2, 3, figsize=(18, 12))\n",
    "\n",
    "# Affichage de l'image originale\n",
    "ax[0, 0].imshow(mon_image, cmap='gray')\n",
    "ax[0, 0].axis('off')\n",
    "ax[0, 0].set_title('Origine')\n",
    "\n",
    "# Affichage du canal 0 , c.a.d. toutes les lignes et toutes les colonnes de la couche 0\n",
    "ax[0, 1].imshow(mon_image[:, :, 0], cmap='gray')\n",
    "ax[0, 1].axis('off')\n",
    "ax[0, 1].set_title('Canal 0')\n",
    "\n",
    "# Affichage du canal 1 , c.a.d. toutes les lignes et toutes les colonnes de la couche 1\n",
    "ax[0, 2].imshow(mon_image[:, :, 1], cmap='gray')\n",
    "ax[0, 2].axis('off')\n",
    "ax[0, 2].set_title('Canal 1')\n",
    "\n",
    "# Affichage du canal 2 , c.a.d. toutes les lignes et toutes les colonnes de la couche 3\n",
    "ax[1, 0].imshow(mon_image[:, :, 2], cmap='gray')\n",
    "ax[1, 0].axis('off')\n",
    "ax[1, 0].set_title('Canal 2')\n",
    "\n",
    "# Affichage du canal 3 , c.a.d. toutes les lignes et toutes les colonnes de la couche 3\n",
    "ax[1, 1].imshow(mon_image[:, :, 3], cmap='gray')\n",
    "ax[1, 1].axis('off')\n",
    "ax[1, 1].set_title('Canal 3')\n",
    "\n",
    "# Ajout d'une cellule vide pour le canal 4 (s'il existe)\n",
    "ax[1, 2].axis('off')"
   ]
  },
  {
   "cell_type": "markdown",
   "id": "732dd712-20e9-40bc-a8a8-70ee467a2b55",
   "metadata": {},
   "source": [
    "On retrouve bien les canaux rouge vert et bleu. Ici on a en plus un canal pour la transparence.  \n",
    "Ici on a un tableau dans l'ordre ligne - colonne - couche, alors que sur les tableaux numpy qu'on a déclaré précedemment on avait plutôt couche - ligne - colonne.  C'est généralement le cas sur les images."
   ]
  },
  {
   "cell_type": "markdown",
   "id": "5d218f52-a71c-4928-b7b9-27a8aaa6b9f2",
   "metadata": {},
   "source": [
    "[Exercice 3](exercices/Exercices5.ipynb)"
   ]
  }
 ],
 "metadata": {
  "kernelspec": {
   "display_name": "Python 3 (ipykernel)",
   "language": "python",
   "name": "python3"
  },
  "language_info": {
   "codemirror_mode": {
    "name": "ipython",
    "version": 3
   },
   "file_extension": ".py",
   "mimetype": "text/x-python",
   "name": "python",
   "nbconvert_exporter": "python",
   "pygments_lexer": "ipython3",
   "version": "3.12.1"
  }
 },
 "nbformat": 4,
 "nbformat_minor": 5
}
