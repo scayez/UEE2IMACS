{
 "cells": [
  {
   "cell_type": "markdown",
   "id": "82eaec84-290a-40c8-bb60-88bef929ad93",
   "metadata": {},
   "source": [
    "***\n",
    "# **<center>COURS PYTHON 2IMACS #5</center>**\n",
    "# ***<center>Numpy</center>***\n",
    "***"
   ]
  },
  {
   "cell_type": "markdown",
   "id": "07556bed-3e1f-4d86-b4ed-e7f133b5f5e8",
   "metadata": {},
   "source": [
    "<div style=\"text-align: justify;\">\n",
    "NumPy est une bibliothèque destinée à la manipulation et au calcul de tableaux multidimensionnels. Elle offre des fonctionnalités avancées pour la manipulation efficace des données, ce qui en fait un outil essentiel pour la science des données et la recherche. NumPy permet notamment d'effectuer des opérations mathématiques complexes, des manipulations de données, des opérations logiques , le tout avec une grande efficacité et une syntaxe claire. NumPy constitue la base de nombreuses autres bibliothèques scientifiques en Python, en faisant un pilier essentiel de l'écosystème des calculs scientifiques en Python. Numpy est ecrit en C, ce qui lui permet de réaliser des opérations complexes sur des quantités importantes de données avec rapidité.\n",
    "</div>"
   ]
  },
  {
   "cell_type": "markdown",
   "id": "83b94f50-31da-4d87-af68-3825b9f50abd",
   "metadata": {},
   "source": [
    "# 5-1 Introduction"
   ]
  },
  {
   "cell_type": "markdown",
   "id": "750deb17-49f9-4ac9-990f-d4347faba0cf",
   "metadata": {},
   "source": [
    "<div style=\"text-align: justify;\">\n",
    "On a vu l'utilisation de listes dans le cours précédents. Elles permettent de stocker une collection ordonnée d'élément. Cependant leurs utilisation devra être limitée à certains cas. Souvent il sera préferable d'utiliser Numpy, notamment pour de grosses quantités de données pour lesquelles les listes se reveleront lentes.\n",
    "Pour les opérations numériques telles que le calcul matriciel, les opérations statistiques ou les opérations mathématiques, numpy propose une large gamme de fonctions.\n",
    "</div>"
   ]
  },
  {
   "cell_type": "markdown",
   "id": "668658b6-8d4d-4081-9b89-4f0b81206350",
   "metadata": {},
   "source": [
    "Commençons par essayer de réaliser des calculs sur des listes"
   ]
  },
  {
   "cell_type": "code",
   "execution_count": 56,
   "id": "20785fb9-097c-4b19-957a-561569808aa1",
   "metadata": {},
   "outputs": [
    {
     "name": "stdout",
     "output_type": "stream",
     "text": [
      "[1, 2, 3, 10, 20, 30]\n",
      "[1, 2, 3, 1, 2, 3]\n"
     ]
    }
   ],
   "source": [
    "a = [1,2,3]\n",
    "b = [10,20,30]\n",
    "print(a+b)\n",
    "print(2*a)"
   ]
  },
  {
   "cell_type": "markdown",
   "id": "eb100719-b1aa-4eb5-9676-4d3f585f88c9",
   "metadata": {},
   "source": [
    "<div style=\"text-align: justify;\">\n",
    "Au lieu d'ajouter les éléments de la liste, avec a+b, on a mis les éléments de b à la suite de ceux de a. \n",
    "De même si on multiplie a par 2, on obtient deux fois la liste a...\n",
    "\n",
    "Essayons la même opération avec des tableaux numpy:\n",
    "</div>"
   ]
  },
  {
   "cell_type": "code",
   "execution_count": 57,
   "id": "51ec3994-4557-42b0-ba67-c3f64c5a445a",
   "metadata": {},
   "outputs": [],
   "source": [
    "import numpy as np\n",
    "# Déclaration de tableau numpy\n",
    "a = np.array([1,2,3])\n",
    "b = np.array([10,30,20])"
   ]
  },
  {
   "cell_type": "code",
   "execution_count": 58,
   "id": "eb199253-bdcc-4bb1-90ce-3642339f99c4",
   "metadata": {},
   "outputs": [
    {
     "name": "stdout",
     "output_type": "stream",
     "text": [
      "a = [1 2 3]\n",
      "b = [10 30 20]\n",
      "a+b = [11 32 23]\n",
      "2xa = [2 4 6]\n"
     ]
    }
   ],
   "source": [
    "print('a =',a)\n",
    "print('b =',b)\n",
    "print('a+b =',a+b)\n",
    "print('2xa =',2*a)"
   ]
  },
  {
   "cell_type": "markdown",
   "id": "3703ab66-8f86-4d1e-b349-686ee557cad1",
   "metadata": {},
   "source": [
    "Numpy peut être utilisé pour tracer des courbes avec matplotlib"
   ]
  },
  {
   "cell_type": "code",
   "execution_count": 59,
   "id": "586b2f29-76d7-4329-9a45-a84a809e37ca",
   "metadata": {},
   "outputs": [
    {
     "data": {
      "text/plain": [
       "[<matplotlib.lines.Line2D at 0x2962b32d510>]"
      ]
     },
     "execution_count": 59,
     "metadata": {},
     "output_type": "execute_result"
    },
    {
     "data": {
      "image/png": "[encoded data removed]",
      "text/plain": [
       "<Figure size 640x480 with 1 Axes>"
      ]
     },
     "metadata": {},
     "output_type": "display_data"
    }
   ],
   "source": [
    "import matplotlib.pyplot as plt\n",
    "fig,ax = plt.subplots()\n",
    "ax.plot(a,b,marker = 'o') #on fournit l'abcisse et l'ordonnée"
   ]
  },
  {
   "cell_type": "markdown",
   "id": "7039440b-818c-443a-99d0-e26e03e6d4b6",
   "metadata": {},
   "source": [
    "# 5-2 Dimensions d'un tableau numpy"
   ]
  },
  {
   "cell_type": "markdown",
   "id": "31fb0710-1c57-448c-8585-2c865652e710",
   "metadata": {},
   "source": [
    "#### 5-2-1  Connaitre les dimensions d'un tableau numpy"
   ]
  },
  {
   "cell_type": "markdown",
   "id": "17957cb0-379b-4cdd-a0cc-a57fabcddc65",
   "metadata": {},
   "source": [
    "Un tableau numpy a le gros avantage sur les listes de pouvoir prendre un grand nombre de dimensions. Commençons par regarder la forme de notre tableau a avec **shape**"
   ]
  },
  {
   "cell_type": "code",
   "execution_count": 60,
   "id": "766d6d12-1fdb-477d-85ab-717d2c898061",
   "metadata": {},
   "outputs": [
    {
     "name": "stdout",
     "output_type": "stream",
     "text": [
      "[1 2 3]\n",
      "forme =  (3,)\n"
     ]
    }
   ],
   "source": [
    "print(a)\n",
    "print('forme = ',a.shape)"
   ]
  },
  {
   "cell_type": "markdown",
   "id": "c939e5d5-16e8-442a-9836-76e1bb4b6516",
   "metadata": {},
   "source": [
    "Puis ses dimensions avec **ndim**"
   ]
  },
  {
   "cell_type": "code",
   "execution_count": 61,
   "id": "b5df3989-6868-4a7b-8bd9-adf8039ca9fa",
   "metadata": {},
   "outputs": [
    {
     "name": "stdout",
     "output_type": "stream",
     "text": [
      "[1 2 3]\n",
      "nombre de dimensions =  1\n"
     ]
    }
   ],
   "source": [
    "print(a)\n",
    "print('nombre de dimensions = ',a.ndim)"
   ]
  },
  {
   "cell_type": "markdown",
   "id": "b86b6dae-1df1-41ab-813a-07fd14fe2585",
   "metadata": {},
   "source": [
    "- shape renvoit un tuple indiquant la taille du tableau dans chaque dimension. \n",
    "- ndim renvoit le nombre de dimensions du tableau.\n",
    "\n",
    "Le tableau a une dimension (1 ligne) et une taille 3 éléments dans cette dimension."
   ]
  },
  {
   "cell_type": "code",
   "execution_count": 62,
   "id": "65e529e1-e5e5-4d36-b0f9-1c30f7261aa3",
   "metadata": {},
   "outputs": [],
   "source": [
    "c = np.array([[2,5,8],[8,7,9]])"
   ]
  },
  {
   "cell_type": "code",
   "execution_count": 63,
   "id": "7677ac3f-7e2f-441a-9e78-3372315fda41",
   "metadata": {},
   "outputs": [
    {
     "name": "stdout",
     "output_type": "stream",
     "text": [
      "[[2 5 8]\n",
      " [8 7 9]]\n",
      "------------------\n",
      "forme =  (2, 3)\n",
      "------------------\n",
      "nombre de dimensions =  2\n"
     ]
    }
   ],
   "source": [
    "print(c)\n",
    "print('------------------')\n",
    "print('forme = ',c.shape)\n",
    "print('------------------')\n",
    "print('nombre de dimensions = ',c.ndim)"
   ]
  },
  {
   "cell_type": "markdown",
   "id": "f3f825da-bf64-4be6-8df0-6c5b9fa4021f",
   "metadata": {},
   "source": [
    "On a défini ici une matrice de 2 lignes et 3 colonnes, donc 2 dimensions."
   ]
  },
  {
   "cell_type": "code",
   "execution_count": 64,
   "id": "73a79278-e826-40fa-bbf1-cb6407cdb1a4",
   "metadata": {},
   "outputs": [],
   "source": [
    "d = np.array([[[1, 2], [3, 4]], [[5, 6], [7, 8]]])"
   ]
  },
  {
   "cell_type": "code",
   "execution_count": 65,
   "id": "423f30cd-b19d-4e55-88ed-9d567a9a1c92",
   "metadata": {},
   "outputs": [
    {
     "name": "stdout",
     "output_type": "stream",
     "text": [
      "[[[1 2]\n",
      "  [3 4]]\n",
      "\n",
      " [[5 6]\n",
      "  [7 8]]]\n",
      "------------------\n",
      "forme=  (2, 2, 2)\n",
      "------------------\n",
      "nombre de dimensions =  3\n"
     ]
    }
   ],
   "source": [
    "print(d)\n",
    "print('------------------')\n",
    "print('forme= ',d.shape)\n",
    "print('------------------')\n",
    "print('nombre de dimensions = ',d.ndim)"
   ]
  },
  {
   "cell_type": "markdown",
   "id": "2fc0d8d1-ef9d-4ae6-9042-1c1356d56ada",
   "metadata": {},
   "source": [
    "On a ici un cube de données, par exemple des coordonnées x,y,z. Les dimensions supèrieures sont plus difficiles à se representer, mais on peut par exemple imaginer ajouter un temps t en plus de la position et avoir besoin d'un tableau de dimensions 4."
   ]
  },
  {
   "cell_type": "markdown",
   "id": "96cc0469-0e64-4715-83d7-b653f0a4f63d",
   "metadata": {},
   "source": [
    "#### 5-2-2  Changer les dimensions d'un tableau numpy"
   ]
  },
  {
   "cell_type": "markdown",
   "id": "d2f2919c-e978-4376-83cd-9824efd9d93f",
   "metadata": {},
   "source": [
    "<div style=\"text-align: justify;\">\n",
    "On peut être amené à changer les dimensions d'un tableau sans modifier les données qu'il contient, pour utiliser des outils qui attendent des tableaux numpy avec de dimensions précises en entrée par exemple.\n",
    "</div>"
   ]
  },
  {
   "cell_type": "code",
   "execution_count": 66,
   "id": "6cf2bdbe-7e7b-4aec-a40f-1605043d11b3",
   "metadata": {},
   "outputs": [
    {
     "name": "stdout",
     "output_type": "stream",
     "text": [
      "avant\n",
      "[1 2 3 4 5 6]\n",
      "forme =  (6,)\n",
      "nombre de dimensions =  1\n",
      "------------------\n",
      "après\n",
      "[[1 2 3]\n",
      " [4 5 6]]\n",
      "forme =  (2, 3)\n",
      "nombre de dimensions =  2\n"
     ]
    }
   ],
   "source": [
    "e = np.array([1, 2, 3, 4, 5, 6])\n",
    "f = np.reshape(e, (2, 3)) #On demande à passer en 2 lignes et 3 colonnes\n",
    "\n",
    "print('avant')\n",
    "print(e)\n",
    "print('forme = ',e.shape)\n",
    "print('nombre de dimensions = ',e.ndim)\n",
    "print('------------------')\n",
    "print('après')\n",
    "print(f)\n",
    "print('forme = ',f.shape)\n",
    "print('nombre de dimensions = ',f.ndim)"
   ]
  },
  {
   "cell_type": "markdown",
   "id": "0a3bc0d7-7733-461b-ab7a-c4dfdb5e2ea9",
   "metadata": {},
   "source": [
    "#### 5-2-3  Operations sur les elements d'un tableau"
   ]
  },
  {
   "cell_type": "markdown",
   "id": "fddac8ce-b5ef-4bf1-9ba4-c7b8507ae8b7",
   "metadata": {},
   "source": [
    "Somme des éléments d'un tableau"
   ]
  },
  {
   "cell_type": "code",
   "execution_count": 67,
   "id": "ad15396c-682a-4e9b-81fa-b8678fc17d00",
   "metadata": {},
   "outputs": [
    {
     "name": "stdout",
     "output_type": "stream",
     "text": [
      "21\n"
     ]
    }
   ],
   "source": [
    "print(np.sum(e))"
   ]
  },
  {
   "cell_type": "markdown",
   "id": "faa17b5e-0b7b-483f-b786-140345e0469b",
   "metadata": {},
   "source": [
    "Moyenne"
   ]
  },
  {
   "cell_type": "code",
   "execution_count": 68,
   "id": "74d445a2-efbc-4924-8660-1ba6e4527a14",
   "metadata": {},
   "outputs": [
    {
     "name": "stdout",
     "output_type": "stream",
     "text": [
      "3.5\n"
     ]
    }
   ],
   "source": [
    "print(np.mean(e))"
   ]
  },
  {
   "cell_type": "markdown",
   "id": "fd62dc6d-0b0f-429a-a939-161afe201175",
   "metadata": {},
   "source": [
    "Minimum"
   ]
  },
  {
   "cell_type": "code",
   "execution_count": 69,
   "id": "4a20753b-5495-4605-9084-d4c480a4eb4d",
   "metadata": {},
   "outputs": [
    {
     "name": "stdout",
     "output_type": "stream",
     "text": [
      "1\n"
     ]
    }
   ],
   "source": [
    "print(np.min(e))"
   ]
  },
  {
   "cell_type": "markdown",
   "id": "ba15f208-7db5-4dfe-8c7c-41aa307e203d",
   "metadata": {},
   "source": [
    "Arrondi"
   ]
  },
  {
   "cell_type": "code",
   "execution_count": 70,
   "id": "75f93048-4c1b-44fd-b24d-8f3424d787c8",
   "metadata": {
    "tags": []
   },
   "outputs": [
    {
     "name": "stdout",
     "output_type": "stream",
     "text": [
      "[1.15 2.58 3.93 4.55 5.25 6.51]\n"
     ]
    }
   ],
   "source": [
    "e = np.array([1.1455, 2.58213, 3.9321321, 4.5481, 5.2521331, 6.513213])\n",
    "print(np.round(e,2))"
   ]
  },
  {
   "cell_type": "markdown",
   "id": "1a983eee-89fa-46bf-bb03-a66571e4ac36",
   "metadata": {},
   "source": [
    "| Opération          | Description                                    |\n",
    "|--------------------|------------------------------------------------|\n",
    "| np.sum             | Somme des éléments                            |\n",
    "| np.mean            | Moyenne des éléments                           |\n",
    "| np.min             | Valeur minimale                                |\n",
    "| np.max             | Valeur maximale                                |\n",
    "| np.median          | Médiane                                        |\n",
    "| np.std             | Écart-type                                     |\n",
    "| np.var             | Variance                                       |\n",
    "| np.prod            | Produit des éléments                           |\n",
    "| np.abs             | Valeurs absolues                               |\n",
    "| np.exp             | Exponentielle                                  |\n",
    "| np.log             | Logarithme naturel                             |\n",
    "| np.sqrt            | Racine carrée                                  |\n",
    "| np.sin             | Sinus                                          |\n",
    "| np.cos             | Cosinus                                        |\n",
    "| np.tan             | Tangente                                       |\n",
    "| np.arcsin          | Arc sinus                                      |\n",
    "| np.arccos          | Arc cosinus                                    |\n",
    "| np.arctan          | Arc tangente                                   |\n",
    "| ...                | ...                                            |"
   ]
  },
  {
   "cell_type": "markdown",
   "id": "67dadca6-6a7a-4c16-8817-1936bdd3b5fb",
   "metadata": {},
   "source": [
    "Cas des dimensions plus élevées:"
   ]
  },
  {
   "cell_type": "code",
   "execution_count": 71,
   "id": "bf1eafd1-9df1-4799-8657-48089e48bb80",
   "metadata": {},
   "outputs": [
    {
     "name": "stdout",
     "output_type": "stream",
     "text": [
      "[[2 9 8]\n",
      " [8 1 9]]\n",
      "1\n"
     ]
    }
   ],
   "source": [
    "g = np.array([[2,9,8],[8,1,9]])\n",
    "print(g)\n",
    "print(np.min(g))"
   ]
  },
  {
   "cell_type": "markdown",
   "id": "c477a10d-b87d-454e-9cf2-0dbc35e17a7b",
   "metadata": {},
   "source": [
    "Dans la cellule précédente, on récupère la valeur minimale du tableau, mais on pourrait vouloir le minimum par ligne ou par colonne. Dans ce cas il va faloir preciser l'axe."
   ]
  },
  {
   "cell_type": "code",
   "execution_count": 72,
   "id": "b4324697-229d-462a-8538-57277444acde",
   "metadata": {},
   "outputs": [
    {
     "name": "stdout",
     "output_type": "stream",
     "text": [
      "[2 1 8]\n"
     ]
    }
   ],
   "source": [
    "# minimum de chaque colonne\n",
    "print(np.min(g,axis = 0))"
   ]
  },
  {
   "cell_type": "markdown",
   "id": "4141ad83-4019-404d-8546-2c5872a0c871",
   "metadata": {},
   "source": [
    "On récupéré la valeur minimale de chaque colonne avec axis = 0, pour le minimum de chaque ligne, on précisera axis = 1"
   ]
  },
  {
   "cell_type": "code",
   "execution_count": 73,
   "id": "979ff164-6e00-4116-b53f-fcfd693ea62f",
   "metadata": {},
   "outputs": [
    {
     "name": "stdout",
     "output_type": "stream",
     "text": [
      "[2 1]\n"
     ]
    }
   ],
   "source": [
    "#minimum de chaque ligne\n",
    "print(np.min(g,axis = 1))"
   ]
  },
  {
   "cell_type": "markdown",
   "id": "57cf9692-2e71-4422-ba4e-8fdb1f9a1d04",
   "metadata": {},
   "source": [
    "# 5-3 Déclaration de tableaux particuliers"
   ]
  },
  {
   "cell_type": "markdown",
   "id": "3c70ca33-fe37-44bb-9599-c716262c289c",
   "metadata": {},
   "source": [
    "On peut délarer des tableaux, en precisant leurs dimension, mais aussi les éléménts qui le composent"
   ]
  },
  {
   "cell_type": "code",
   "execution_count": 74,
   "id": "e02f52cd-db05-48c5-8e4e-91b1fac268c7",
   "metadata": {},
   "outputs": [
    {
     "name": "stdout",
     "output_type": "stream",
     "text": [
      "tableau vides de 2 lignes et 3 colonnes : \n",
      " [[1.15 2.58 3.93]\n",
      " [4.55 5.25 6.51]]\n",
      "--------------------------------------------\n",
      "tableau de 3 lignes et 2 colonnes, rempli de 1:  \n",
      " [[1. 1.]\n",
      " [1. 1.]\n",
      " [1. 1.]]\n",
      "--------------------------------------------\n",
      "tableau de 3 lignes et 2 colonnes, rempli de 0:  \n",
      " [[0. 0.]\n",
      " [0. 0.]\n",
      " [0. 0.]]\n",
      "--------------------------------------------\n",
      "tableau de 3 lignes et 3 colonnes, rempli de valeurs aléatoires entre zero et 1:  \n",
      " [[0.68692027 0.56574323 0.93413864]\n",
      " [0.8797891  0.07000299 0.01178219]\n",
      " [0.62305566 0.1967296  0.2963697 ]]\n",
      "--------------------------------------------\n",
      "tableau de 3 lignes et 3 colonnes, rempli de valeurs aléatoires entre 25 et 50:  \n",
      " [[33.87168687 42.53741817 39.44212467]\n",
      " [34.85465889 45.95947864 33.12544572]\n",
      " [48.16485577 35.70328263 36.75306088]]\n"
     ]
    }
   ],
   "source": [
    "arr_empty = np.empty((2, 3))\n",
    "print('tableau vides de 2 lignes et 3 colonnes :','\\n',arr_empty)#des valeurs numérique apparaissent mais elles correspondent uniquement à de l'espace mémoire alloué\n",
    "print('--------------------------------------------')\n",
    "\n",
    "arr_ones = np.ones((3, 2))\n",
    "print('tableau de 3 lignes et 2 colonnes, rempli de 1: ','\\n',arr_ones)\n",
    "print('--------------------------------------------')\n",
    "\n",
    "arr_zeros = np.zeros((3, 2))\n",
    "print('tableau de 3 lignes et 2 colonnes, rempli de 0: ','\\n',arr_zeros)\n",
    "print('--------------------------------------------')\n",
    "\n",
    "arr_random = np.random.rand(3, 3)\n",
    "print('tableau de 3 lignes et 3 colonnes, rempli de valeurs aléatoires entre zero et 1: ','\\n',arr_random)\n",
    "print('--------------------------------------------')\n",
    "\n",
    "arr_random_uni = np.random.uniform(25, 50, size =  (3, 3))\n",
    "print('tableau de 3 lignes et 3 colonnes, rempli de valeurs aléatoires entre 25 et 50: ','\\n',arr_random_uni)\n"
   ]
  },
  {
   "cell_type": "markdown",
   "id": "bfd01fb8-a8de-4417-bad7-14e1b0878c58",
   "metadata": {},
   "source": [
    "Remarque: pour les paramètres à rentrer, comme pour toutes les bibliothéques, il faut regarder [la documentation](https://numpy.org/doc/stable/reference/generated/numpy.ones.html)\n",
    "\n",
    "\n"
   ]
  },
  {
   "cell_type": "markdown",
   "id": "9af9c8b7-0450-4852-8268-e85951f82be6",
   "metadata": {},
   "source": [
    "Lors de la déclaration d'un tableau, on peut déclarer le type qu'auront les éléments qu'il contient."
   ]
  },
  {
   "cell_type": "code",
   "execution_count": 75,
   "id": "1854c05b-df2d-4533-863f-1c1141cf1c8a",
   "metadata": {},
   "outputs": [
    {
     "name": "stdout",
     "output_type": "stream",
     "text": [
      "entier:  [1 2 3]\n",
      "décimal : [1. 2. 3.]\n",
      "chaine de caracteres : ['1' '2' '3']\n",
      "booléen:  [False  True  True]\n"
     ]
    }
   ],
   "source": [
    "# Déclaration d'un tableau avec des entiers\n",
    "arr_int = np.array([1, 2, 3], dtype=int)\n",
    "print('entier: ',arr_int)\n",
    "\n",
    "# Déclaration d'un tableau avec des nombres à virgule flottante\n",
    "arr_float = np.array([1, 2, 3], dtype=np.float32)\n",
    "#ou\n",
    "arr_float = np.array([1, 2, 3], dtype=np.float64)\n",
    "#ou\n",
    "arr_float = np.array([1, 2, 3], dtype=float)\n",
    "\n",
    "\n",
    "\n",
    "print('décimal :',arr_float)\n",
    "\n",
    "# Déclaration d'un tableau avec des chaînes de caractères\n",
    "arr_str = np.array(['1', '2', '3'], dtype=str)\n",
    "print('chaine de caracteres :',arr_str)\n",
    "\n",
    "# Déclaration d'un tableau avec des booléens\n",
    "arr_bool = np.array([0, 1, 1], dtype=bool)\n",
    "print('booléen: ',arr_bool)"
   ]
  },
  {
   "cell_type": "markdown",
   "id": "efd482a3-715b-4e46-b288-2521522ba998",
   "metadata": {},
   "source": [
    "| Type de données (dtype) | Description | Exemple |\n",
    "|------------------------|-------------|---------|\n",
    "| int8, int16, int32, int64 | Entiers signés de 8, 16, 32 ou 64 bits | `np.array([1, 2, 3], dtype=np.int32)` |\n",
    "| uint8, uint16, uint32, uint64 | Entiers non signés de 8, 16, 32 ou 64 bits | `np.array([0, 255, 65535], dtype=np.uint16)` |\n",
    "| float16, float32, float64 | Nombres à virgule flottante de 16, 32 ou 64 bits | `np.array([1.0, 2.5, 3.7], dtype=np.float64)` |\n",
    "| complex64, complex128 | Nombres complexes de 64 ou 128 bits | `np.array([1+2j, 3+4j, 5+6j], dtype=np.complex128)` |\n",
    "| bool | Valeurs booléennes (True ou False) | `np.array([True, False, True], dtype=np.bool)` |\n",
    "| object | Objet Python générique | `np.array(['a', 'b', 'c'], dtype=object)` |\n",
    "| string_ | Chaîne de caractères de longueur fixe | `np.array(['hello', 'world'], dtype=np.string_)` |\n",
    "| unicode_ | Chaîne de caractères Unicode de longueur fixe | `np.array(['こんにちは', '안녕하세요'], dtype=np.unicode_)` |\n"
   ]
  },
  {
   "cell_type": "markdown",
   "id": "13ddb241-fb29-4d0a-830d-450a800acc46",
   "metadata": {},
   "source": [
    "On peut également convertir le type des élements d'un tableau après sa création avec .astype"
   ]
  },
  {
   "cell_type": "code",
   "execution_count": 76,
   "id": "75afc9c9-51af-42f7-8375-3b99c8b1f826",
   "metadata": {
    "tags": []
   },
   "outputs": [
    {
     "name": "stdout",
     "output_type": "stream",
     "text": [
      "entier:  [1 2 3]\n",
      "décimal:  [1. 2. 3.]\n"
     ]
    }
   ],
   "source": [
    "# Déclaration d'un tableau avec des entiers\n",
    "arr_int = np.array([1, 2, 3], dtype=int)\n",
    "print('entier: ',arr_int)\n",
    "arr_float = arr_int.astype(np.float64)\n",
    "print('décimal: ',arr_float)"
   ]
  },
  {
   "cell_type": "markdown",
   "id": "74d7e82d-a497-434a-8255-c8f4068e58c3",
   "metadata": {},
   "source": [
    "[Exercice 1](exercices/Exercices5.ipynb)"
   ]
  },
  {
   "cell_type": "markdown",
   "id": "391bf3d4-e841-4f35-84c0-b8fa04246aac",
   "metadata": {},
   "source": [
    "# 5-4 Indexation et découpage de tableaux numpy"
   ]
  },
  {
   "cell_type": "markdown",
   "id": "640f3852-d50a-457b-a693-9a1d7eb8ea3a",
   "metadata": {},
   "source": [
    "Les indexations sont assez similaires à celles de listes avec quelques outils supplémentaires"
   ]
  },
  {
   "cell_type": "code",
   "execution_count": 77,
   "id": "ac4ce733-cf77-48ba-9faf-205d59e620d6",
   "metadata": {},
   "outputs": [
    {
     "name": "stdout",
     "output_type": "stream",
     "text": [
      "tableau: : [1.1455    2.58213   3.9321321 4.5481    5.2521331 6.513213 ]\n",
      "le troisiéme élément est:  4.5481\n",
      "le dernier élément est:  6.513213\n",
      "la tranche 2-5 est:  [3.9321321 4.5481    5.2521331]\n",
      "les éléments avec indice pair:  [1.1455    3.9321321 5.2521331]\n",
      "les éléments dont la valeur est superieure à 4:  [4.5481    5.2521331 6.513213 ]\n"
     ]
    }
   ],
   "source": [
    "print('tableau: :',e)\n",
    "print('le troisiéme élément est: ',e[3])\n",
    "print('le dernier élément est: ',e[-1])\n",
    "print('la tranche 2-5 est: ',e[2:5])\n",
    "print('les éléments avec indice pair: ',e[::2])\n",
    "print('les éléments dont la valeur est superieure à 4: ',e[e > 4])"
   ]
  },
  {
   "cell_type": "markdown",
   "id": "50e46e20-2a66-4626-979d-38254a2e2853",
   "metadata": {},
   "source": [
    "On peut appliquer ces indexations à des tableaux de dimension superieures."
   ]
  },
  {
   "cell_type": "code",
   "execution_count": 78,
   "id": "b5d0e299-0a68-42d6-a129-b31cfd3a01db",
   "metadata": {},
   "outputs": [
    {
     "name": "stdout",
     "output_type": "stream",
     "text": [
      "tableau:  [[  0   1   2   3]\n",
      " [  0  10  20  30]\n",
      " [  0 100 200 300]]\n",
      "élémént à la ligne 0, colonne2:  2\n",
      "ligne 1:  [ 0 10 20 30]\n",
      "colonne 2:  [  2  20 200]\n",
      "sous matrice:  [[1 2]]\n"
     ]
    }
   ],
   "source": [
    "f = np.array([[0,1,2,3],[0,10,20,30],[0,100,200,300]])\n",
    "\n",
    "print('tableau: ',f)\n",
    "print('élémént à la ligne 0, colonne2: ',f[0,2])\n",
    "print('ligne 1: ',f[1]) # on commence à ligne zéro)\n",
    "print('colonne 2: ',f[:,2]) # on peut aussi lire : toutes les ligne, les colonnes 2\n",
    "print('sous matrice: ',f[0:1, 1:3]) #ligne 0 à 1 non inclus, colonnes 1 à 3 non inclus"
   ]
  },
  {
   "cell_type": "markdown",
   "id": "99c995b8-2f64-4b3f-95de-f4918ab63962",
   "metadata": {},
   "source": [
    "Pour la dimension 3. Ici on peut imaginer une matrice en 3 dimensions, concretement, ce format est souvent utiliser pour traiter des piles d'images."
   ]
  },
  {
   "cell_type": "code",
   "execution_count": 79,
   "id": "43d61029-2876-4ca0-81e7-98f001ba594f",
   "metadata": {},
   "outputs": [
    {
     "name": "stdout",
     "output_type": "stream",
     "text": [
      "tableau:  [[[ 1  2  3]\n",
      "  [ 4  5  6]]\n",
      "\n",
      " [[ 7  8  9]\n",
      "  [10 11 12]]]\n",
      "Accéder à un élément spécifique:  6\n",
      "Accéder à une tranche spécifique:  [[1 2 3]\n",
      " [7 8 9]]\n",
      "tous les éléments de la dernière couche du tableau:  [[ 7  8  9]\n",
      " [10 11 12]]\n",
      "slices::  [[[2 3]]\n",
      "\n",
      " [[8 9]]]\n"
     ]
    }
   ],
   "source": [
    "h = np.array([[[1, 2, 3],\n",
    "                 [4, 5, 6]],\n",
    "                [[7, 8, 9],\n",
    "                 [10, 11, 12]]])\n",
    "\n",
    "print('tableau: ',h)\n",
    "# Accéder à un élément spécifique\n",
    "print('Accéder à un élément spécifique: ',h[0, 1, 2])  # Résultat : 6\n",
    "\n",
    "# Accéder à une tranche spécifique\n",
    "print('Accéder à une tranche spécifique: ',h[:, 0, :])  # Résultat : [[1, 2, 3], [7, 8, 9]]\n",
    "\n",
    "# Utiliser des indices négatifs\n",
    "print('tous les éléments de la dernière couche du tableau: ',h[-1, :, :])  # Résultat : [[7, 8, 9], [10, 11, 12]]\n",
    "\n",
    "# Utiliser des slices\n",
    "print('slices:: ',h[0:2, 0:1, 1:3])  # Résultat : [[[2, 3]], [[8, 9]]]"
   ]
  },
  {
   "cell_type": "markdown",
   "id": "55cd7827-5045-41f4-b61f-7e4144d4111b",
   "metadata": {},
   "source": [
    "np.where renvoie les indices où une condition est vraie, utilisé pour filtrer ou remplacer des valeurs."
   ]
  },
  {
   "cell_type": "code",
   "execution_count": 80,
   "id": "4d6a6507-e587-4a98-aed8-b554bce43fdf",
   "metadata": {
    "tags": []
   },
   "outputs": [
    {
     "name": "stdout",
     "output_type": "stream",
     "text": [
      "tableau: : [1.1455    2.58213   3.9321321 4.5481    5.2521331 6.513213 ]\n",
      "indices des elements dont la valeur est supereieure à 3:  (array([2, 3, 4, 5], dtype=int64),)\n"
     ]
    }
   ],
   "source": [
    "print('tableau: :',e)\n",
    "print('indices des elements dont la valeur est supereieure à 3: ',np.where(e> 3))"
   ]
  },
  {
   "cell_type": "markdown",
   "id": "344efabd-3827-4007-8f60-32fd6afacf55",
   "metadata": {},
   "source": [
    "np.any  teste si au moins un élément d'un tableau satisfait une condition donnée. Elle renvoie True si au moins un élément du tableau est évalué comme True pour la condition spécifiée, sinon elle renvoie False. "
   ]
  },
  {
   "cell_type": "code",
   "execution_count": 81,
   "id": "388289ae-e9ca-4f03-8529-d5e77e820950",
   "metadata": {},
   "outputs": [
    {
     "name": "stdout",
     "output_type": "stream",
     "text": [
      "True\n"
     ]
    }
   ],
   "source": [
    "arr1 = np.array([False, False, True])\n",
    "result1 = np.any(arr1)\n",
    "print(result1)"
   ]
  },
  {
   "cell_type": "markdown",
   "id": "4c60c428-e57e-4249-ba26-ae6d1f61269c",
   "metadata": {},
   "source": [
    "Une application pourrait être de vérifier si au moins un des éléments d'un tableau réspecte une condition."
   ]
  },
  {
   "cell_type": "code",
   "execution_count": 82,
   "id": "6adfe1eb-f636-4eff-b4a5-40956cb673fd",
   "metadata": {
    "tags": []
   },
   "outputs": [
    {
     "name": "stdout",
     "output_type": "stream",
     "text": [
      "True\n"
     ]
    }
   ],
   "source": [
    "arr = np.array([1, 2, 3, 4, 5])\n",
    "# Vérifiez si au moins un élément du tableau est supérieur à 3\n",
    "result = np.any(arr > 3)\n",
    "# Affichez le résultat\n",
    "print(result)"
   ]
  },
  {
   "cell_type": "code",
   "execution_count": 83,
   "id": "af99ae36-4d56-474b-971c-7f2ae8019b65",
   "metadata": {},
   "outputs": [
    {
     "name": "stdout",
     "output_type": "stream",
     "text": [
      "[ True False  True]\n"
     ]
    }
   ],
   "source": [
    "# Exemple 2\n",
    "arr2 = np.array([[True, False,False], [False, False,True]])\n",
    "result2 = np.any(arr2, axis=0)\n",
    "print(result2)  # au moins un élément est évalué à True le long de chaque colonne"
   ]
  },
  {
   "cell_type": "code",
   "execution_count": 84,
   "id": "042d445a-5df6-4a8f-8ba6-1fdb2bed4cf1",
   "metadata": {
    "tags": []
   },
   "outputs": [
    {
     "name": "stdout",
     "output_type": "stream",
     "text": [
      "[ True  True]\n"
     ]
    }
   ],
   "source": [
    "# Exemple 3\n",
    "arr3 = np.array([[True, False,False], [False, False,True]])\n",
    "result3 = np.any(arr3, axis=1)\n",
    "print(result3)  #au moins un élément est évalué à True le long de chaque ligne"
   ]
  },
  {
   "cell_type": "markdown",
   "id": "4ee4d160-048f-4ba3-aab2-e47b06f5a35f",
   "metadata": {},
   "source": [
    "[Exercice 2](exercices/Exercices5.ipynb)"
   ]
  },
  {
   "cell_type": "markdown",
   "id": "19a37b14-e8aa-47fa-a2ae-e439b5a57a46",
   "metadata": {},
   "source": [
    "# 5-5 Manipulations avancées de tableaux Numpy"
   ]
  },
  {
   "cell_type": "markdown",
   "id": "3ea4fbdf-b31c-4edb-8548-0fc68453e7b6",
   "metadata": {},
   "source": [
    "## 5-5-1 Concatener"
   ]
  },
  {
   "cell_type": "markdown",
   "id": "9a1550db-ac83-497f-b3ab-a5cb28c579b1",
   "metadata": {},
   "source": [
    "La concaténation est une opération qui permet de fusionner plusieurs tableaux numpy en les empilant les uns après les autres selon un axe spécifié."
   ]
  },
  {
   "cell_type": "code",
   "execution_count": 85,
   "id": "e5d63956-ce93-4b06-af83-47b8296ae566",
   "metadata": {},
   "outputs": [
    {
     "name": "stdout",
     "output_type": "stream",
     "text": [
      "Tableau 1 : [1 2 3]\n",
      "Tableau 2 : [4 5 6]\n",
      "Résultat de la concaténation : [1 2 3 4 5 6]\n"
     ]
    }
   ],
   "source": [
    "i = np.array([1, 2, 3])\n",
    "j = np.array([4, 5, 6])\n",
    "\n",
    "# Concaténation des tableaux\n",
    "result = np.concatenate((i, j))\n",
    "\n",
    "# Affichage du résultat\n",
    "print(\"Tableau 1 :\", i)\n",
    "print(\"Tableau 2 :\", j)\n",
    "print(\"Résultat de la concaténation :\", result)"
   ]
  },
  {
   "cell_type": "markdown",
   "id": "497dcb73-5b04-4b9b-b38e-76d46a1288c4",
   "metadata": {},
   "source": [
    "En dimension 2"
   ]
  },
  {
   "cell_type": "code",
   "execution_count": 86,
   "id": "aebcd02c-01f0-4bdb-a29d-329d80d8a83e",
   "metadata": {},
   "outputs": [
    {
     "name": "stdout",
     "output_type": "stream",
     "text": [
      "axe 0, empiler verticalement colonnes concaténées:  \n",
      " [[1 2]\n",
      " [3 4]\n",
      " [5 6]\n",
      " [7 8]]\n",
      "axe 1, empiler horizontalement lignes concaténées:  \n",
      " [[1 2 5 6]\n",
      " [3 4 7 8]]\n"
     ]
    }
   ],
   "source": [
    "k = np.array([[1, 2],\n",
    "              [3, 4]])\n",
    "\n",
    "l = np.array([[5, 6],\n",
    "              [7, 8]])\n",
    "\n",
    "print('axe 0, empiler verticalement colonnes concaténées: ','\\n',np.concatenate((k, l), axis=0))\n",
    "\n",
    "print('axe 1, empiler horizontalement lignes concaténées: ','\\n',np.concatenate((k, l), axis=1))"
   ]
  },
  {
   "cell_type": "markdown",
   "id": "3ed1c0e5-64d3-400f-bf21-f92aa7853756",
   "metadata": {},
   "source": [
    "On peut spécifier le tableau résultant de la concatenation avec le paramètre out"
   ]
  },
  {
   "cell_type": "code",
   "execution_count": 87,
   "id": "60a6c396-762c-463e-955a-27f5ad2c195b",
   "metadata": {},
   "outputs": [
    {
     "name": "stdout",
     "output_type": "stream",
     "text": [
      "[1 2 3 4 5 6]\n"
     ]
    }
   ],
   "source": [
    "i = np.array([1, 2, 3])\n",
    "j = np.array([4, 5, 6])\n",
    "res = np.array([0,0,0,0,0,0])\n",
    "np.concatenate((i,j), out=res)\n",
    "print(res)"
   ]
  },
  {
   "cell_type": "markdown",
   "id": "9f0ee34a-bb68-4a59-9c78-58c8821e8818",
   "metadata": {},
   "source": [
    "## 5-5-2 Ajouter des éléments"
   ]
  },
  {
   "cell_type": "markdown",
   "id": "ae8ec3c4-4fe0-4241-a15c-a6376663bfaf",
   "metadata": {},
   "source": [
    "Ajouter un élément à la fin"
   ]
  },
  {
   "cell_type": "code",
   "execution_count": 88,
   "id": "b02d1de5-b9ba-4389-bab0-ceee4e59c07b",
   "metadata": {},
   "outputs": [
    {
     "name": "stdout",
     "output_type": "stream",
     "text": [
      "[4 5 6]\n",
      "[4 5 6 4]\n"
     ]
    }
   ],
   "source": [
    "print(j)\n",
    "print(np.append(j, 4))"
   ]
  },
  {
   "cell_type": "code",
   "execution_count": 89,
   "id": "88109ee0-e957-4f5e-b176-1563e8b0802c",
   "metadata": {},
   "outputs": [
    {
     "name": "stdout",
     "output_type": "stream",
     "text": [
      "[1 2 3]\n",
      "[4 5 6]\n",
      "----------------\n",
      "[1 2 3 4 5 6]\n",
      "[4 5 6 1 2 3]\n"
     ]
    }
   ],
   "source": [
    "print(i)\n",
    "print(j)\n",
    "print('----------------')\n",
    "print(np.append(i, j))\n",
    "print(np.append(j, i))"
   ]
  },
  {
   "cell_type": "markdown",
   "id": "42cf0698-78a8-4ab7-8dc2-5a8610350441",
   "metadata": {},
   "source": [
    "En dimension 2, par défaut l'axe est configuré à 'None', ce qui signifie qu'un tableau de dimension 2 sera réduit à 1 seule dimension"
   ]
  },
  {
   "cell_type": "code",
   "execution_count": 90,
   "id": "13d7d4b8-0afc-4165-9bec-b34545539224",
   "metadata": {},
   "outputs": [
    {
     "name": "stdout",
     "output_type": "stream",
     "text": [
      "[[1 2]\n",
      " [3 4]]\n",
      "----------------\n",
      "[1 2 3 4 4]\n"
     ]
    }
   ],
   "source": [
    "print(k)\n",
    "print('----------------')\n",
    "print(np.append(k, 4))"
   ]
  },
  {
   "cell_type": "markdown",
   "id": "5c07770b-ed0c-492d-9e7f-ba2e97f93b04",
   "metadata": {},
   "source": [
    "On peut choisir d'ajouter une ligne en précisant: axis = 0"
   ]
  },
  {
   "cell_type": "code",
   "execution_count": 91,
   "id": "ad54c995-e05f-46f8-8692-9c8719124a92",
   "metadata": {},
   "outputs": [
    {
     "name": "stdout",
     "output_type": "stream",
     "text": [
      "[[1 2]\n",
      " [3 4]]\n",
      "----------------\n",
      "[[1 2]\n",
      " [3 4]\n",
      " [5 6]]\n"
     ]
    }
   ],
   "source": [
    "print(k)\n",
    "print('----------------')\n",
    "print( np.append(k, [[5, 6]], axis=0))"
   ]
  },
  {
   "cell_type": "markdown",
   "id": "01edbdc4-33bb-422e-a606-bb6620665eb8",
   "metadata": {},
   "source": [
    "Ou une colonne en précisant axis = 1"
   ]
  },
  {
   "cell_type": "code",
   "execution_count": 92,
   "id": "0e9b800c-2c2f-4508-b803-ce9c53e6219d",
   "metadata": {},
   "outputs": [
    {
     "name": "stdout",
     "output_type": "stream",
     "text": [
      "[[1 2]\n",
      " [3 4]]\n",
      "----------------\n",
      "[[1 2 7]\n",
      " [3 4 8]]\n"
     ]
    }
   ],
   "source": [
    "print(k)\n",
    "print('----------------')\n",
    "print(np.append(k, [[7], [8]], axis=1))"
   ]
  },
  {
   "cell_type": "markdown",
   "id": "8ad1821b-7686-41e9-b2f7-870106b09201",
   "metadata": {},
   "source": [
    "## 5-5-3 Empiler des tableaux"
   ]
  },
  {
   "cell_type": "markdown",
   "id": "98be4fdb-30a3-489e-892e-2f6e1e0b7a57",
   "metadata": {},
   "source": [
    "La fonction np.stack empile les tableaux pour créer un nouveau tableau multidimensionnel."
   ]
  },
  {
   "cell_type": "code",
   "execution_count": 93,
   "id": "d12dd7c2-a781-462a-9860-2585e1ee70b6",
   "metadata": {},
   "outputs": [
    {
     "name": "stdout",
     "output_type": "stream",
     "text": [
      "----- l -------\n",
      "[1 2 3]\n",
      "(3,)\n",
      "----- m -------\n",
      "[4 5 6]\n",
      "(3,)\n",
      "----- stack -------\n",
      "[[1 2 3]\n",
      " [4 5 6]]\n",
      "(2, 3)\n",
      "----- vertical stack -------\n",
      "[[1 2 3]\n",
      " [4 5 6]]\n",
      "(2, 3)\n",
      "----- horizontal stack -------\n",
      "[1 2 3 4 5 6]\n",
      "(6,)\n"
     ]
    }
   ],
   "source": [
    "l = np.array([1, 2, 3])\n",
    "m = np.array([4, 5, 6])\n",
    "print('----- l -------')\n",
    "print(l)\n",
    "print(l.shape)\n",
    "print('----- m -------')\n",
    "print(m)\n",
    "print(m.shape)\n",
    "print('----- stack -------')\n",
    "stacked = np.stack((l, m))\n",
    "print(stacked)\n",
    "print(stacked.shape)\n",
    "print('----- vertical stack -------')\n",
    "vstacked = np.vstack((l, m))\n",
    "print(vstacked)\n",
    "print(vstacked.shape)\n",
    "print('----- horizontal stack -------')\n",
    "hstacked = np.hstack((l, m))\n",
    "print(hstacked)\n",
    "print(hstacked.shape)"
   ]
  },
  {
   "cell_type": "markdown",
   "id": "6afe9562-63c2-4b88-a6b9-dba2ca40523d",
   "metadata": {},
   "source": [
    "Ici on a transforme deux tableaux de 1 ligne chacun en un tableau de 2 lignes, mais pour des dimensions superieures, stack ajoute une dimension alors que vstack empile les colonnes"
   ]
  },
  {
   "cell_type": "code",
   "execution_count": 94,
   "id": "7c27c5e0-7222-4206-bc1a-48918bc32d66",
   "metadata": {},
   "outputs": [
    {
     "name": "stdout",
     "output_type": "stream",
     "text": [
      "----- n -------\n",
      "[[1 2 3]]\n",
      "(1, 3)\n",
      "----- o -------\n",
      "[[5 5 6]]\n",
      "(1, 3)\n",
      "----- stack -------\n",
      "[[[1 2 3]]\n",
      "\n",
      " [[5 5 6]]]\n",
      "(2, 1, 3)\n",
      "----- vertical stack -------\n",
      "[[1 2 3]\n",
      " [5 5 6]]\n",
      "(2, 3)\n",
      "----- horizontal stack -------\n",
      "[[1 2 3 5 5 6]]\n",
      "(1, 6)\n"
     ]
    }
   ],
   "source": [
    "n = np.array([[1, 2, 3]])\n",
    "o = np.array([[5, 5, 6]])\n",
    "\n",
    "print('----- n -------')\n",
    "print(n)\n",
    "print(n.shape)\n",
    "\n",
    "print('----- o -------')\n",
    "print(o)\n",
    "print(o.shape)\n",
    "\n",
    "print('----- stack -------')\n",
    "result_stack = np.stack((n, o))\n",
    "print(result_stack)\n",
    "print(result_stack.shape)\n",
    "\n",
    "print('----- vertical stack -------')\n",
    "result_vstack = np.vstack((n, o))\n",
    "print(result_vstack)\n",
    "print(result_vstack.shape)\n",
    "\n",
    "print('----- horizontal stack -------')\n",
    "result_hstack = np.hstack((n, o))\n",
    "print(result_hstack)\n",
    "print(result_hstack.shape)\n"
   ]
  },
  {
   "cell_type": "markdown",
   "id": "96347ebf-854e-4af4-8ae6-d227918c9307",
   "metadata": {},
   "source": [
    "## 5-5-4 Découper des tableaux"
   ]
  },
  {
   "cell_type": "markdown",
   "id": "b7fecc95-f26a-4d74-ae9e-0f6bcb1d8c81",
   "metadata": {},
   "source": [
    "La fonction split de NumPy permet de diviser un tableau en sous-tableaux en spécifiant un point de séparation"
   ]
  },
  {
   "cell_type": "code",
   "execution_count": 95,
   "id": "23b22cb1-9de0-4e6f-b729-bc9691f06830",
   "metadata": {},
   "outputs": [
    {
     "name": "stdout",
     "output_type": "stream",
     "text": [
      "[array([1, 2]), array([3, 4]), array([5, 6]), array([7, 8]), array([ 9, 10])]\n"
     ]
    }
   ],
   "source": [
    "p = np.array([1, 2, 3, 4, 5, 6, 7, 8, 9, 10])\n",
    "print(np.split(p, 5)) # couper le tableau en 5 sous tableaux de taille identique qui seront mis dans un tableau"
   ]
  },
  {
   "cell_type": "markdown",
   "id": "d645b2de-8771-4247-a0bc-7a9cfd7fba4b",
   "metadata": {},
   "source": [
    "Il faut bien sur que le nombre d'élément soit divisible par 5 dans ce cas"
   ]
  },
  {
   "cell_type": "code",
   "execution_count": 96,
   "id": "76878413-462b-4c0a-ba30-de77e418ca38",
   "metadata": {},
   "outputs": [
    {
     "name": "stdout",
     "output_type": "stream",
     "text": [
      "[array([[1, 2, 3, 4],\n",
      "       [5, 6, 7, 8]]), array([[ 9, 10, 11, 12],\n",
      "       [13, 14, 15, 16]])]\n"
     ]
    }
   ],
   "source": [
    "q = np.array([[1, 2, 3, 4],\n",
    "              [5, 6, 7, 8],\n",
    "              [9, 10, 11, 12],\n",
    "              [13, 14, 15, 16]])\n",
    "\n",
    "print(np.split(q, 2)) #couper les tableau en tableaux de 2 lignes"
   ]
  },
  {
   "cell_type": "markdown",
   "id": "47fe91e8-d606-4d6e-8f05-9ee50b0556e4",
   "metadata": {},
   "source": [
    "Par défaut l'axe est zero. Avec axis=0, on divise le tableau en sous-tableaux ayant le même nombre de lignes. Par contre, lorsque l'on utilise axis=1, on divise le tableau en sous-tableaux ayant le même nombre de colonnes."
   ]
  },
  {
   "cell_type": "code",
   "execution_count": 97,
   "id": "a45092e8-6136-4392-8ea4-2c97056b1805",
   "metadata": {},
   "outputs": [
    {
     "name": "stdout",
     "output_type": "stream",
     "text": [
      "[array([[ 1,  2],\n",
      "       [ 5,  6],\n",
      "       [ 9, 10],\n",
      "       [13, 14]]), array([[ 3,  4],\n",
      "       [ 7,  8],\n",
      "       [11, 12],\n",
      "       [15, 16]])]\n"
     ]
    }
   ],
   "source": [
    "q = np.array([[1, 2, 3, 4],\n",
    "              [5, 6, 7, 8],\n",
    "              [9, 10, 11, 12],\n",
    "              [13, 14, 15, 16]])\n",
    "\n",
    "print(np.split(q, 2, axis = 1)) #couper les tableau en tableaux de 2 colonnes"
   ]
  },
  {
   "cell_type": "markdown",
   "id": "701d7f11-be90-4d2d-886e-9d30c1373006",
   "metadata": {},
   "source": [
    "## 5-5-5 Changement de dimensions des tableaux"
   ]
  },
  {
   "cell_type": "markdown",
   "id": "2aabca9b-cf66-4e2f-83e6-f8d93525b11d",
   "metadata": {},
   "source": [
    "### 5-5-5-1 Aplatir des tableaux"
   ]
  },
  {
   "cell_type": "markdown",
   "id": "6abeee68-ed22-4bda-a234-8a9ebff3bc7c",
   "metadata": {},
   "source": [
    "flatten transforme un tableau multi-dimensionnel en un tableau à une dimension"
   ]
  },
  {
   "cell_type": "code",
   "execution_count": 98,
   "id": "203b2bae-ce5e-4326-9e47-3dad4eeab1b6",
   "metadata": {},
   "outputs": [
    {
     "name": "stdout",
     "output_type": "stream",
     "text": [
      "r:  (2, 2, 3)\n",
      "r aplati:  (12,)\n"
     ]
    }
   ],
   "source": [
    "r = np.array([[[1, 2, 3],\n",
    "               [4, 5, 6]],\n",
    "              [[7, 8, 9],\n",
    "               [10, 11, 12]]])\n",
    "print('r: ', r.shape)\n",
    "flattened_r = r.flatten()\n",
    "print('r aplati: ', flattened_r.shape)"
   ]
  },
  {
   "cell_type": "markdown",
   "id": "923c8537-be2b-4f95-92d8-c8aa27376b70",
   "metadata": {},
   "source": [
    "### 5-5-5-2 redimensionner des tableaux"
   ]
  },
  {
   "cell_type": "markdown",
   "id": "91ed1594-ef60-4226-9943-6f1c6970c864",
   "metadata": {},
   "source": [
    "On a déja vu la fonction reshape qui permet de modifier la forme d'un tableau en spécifiant les nouvelles dimensions, en conservant les mêmes éléments"
   ]
  },
  {
   "cell_type": "code",
   "execution_count": 99,
   "id": "ab04fbb5-63a9-4cdc-b3d0-695921dc82f9",
   "metadata": {},
   "outputs": [
    {
     "name": "stdout",
     "output_type": "stream",
     "text": [
      "----- avant -------\n",
      "[1 2 3 4 5 6]\n",
      "(6,)\n",
      "----- après -------\n",
      "[[1 2 3]\n",
      " [4 5 6]]\n",
      "(2, 3)\n"
     ]
    }
   ],
   "source": [
    "s = np.array([1, 2, 3, 4, 5, 6])\n",
    "\n",
    "print('----- avant -------')\n",
    "print(s)\n",
    "print( s.shape)\n",
    "reshaped_s = s.reshape((2, 3)) # transformons le tableau de 6 éléments en matrice de 2 lignes, 3 colonnes\n",
    "print('----- après -------')\n",
    "print(reshaped_s)\n",
    "print( reshaped_s.shape)"
   ]
  },
  {
   "cell_type": "markdown",
   "id": "57447273-bee9-476f-a2ba-d437822598ca",
   "metadata": {},
   "source": [
    "Il arrive souvent que l'on ait une des dimension du tableau égale à 1 sans que clà ne soit necessaire, pour supprimer cette ou ces dimensions, utilisons np.squeeze."
   ]
  },
  {
   "cell_type": "code",
   "execution_count": 100,
   "id": "407ff6b4-51ab-4e15-8dcf-057c20151613",
   "metadata": {},
   "outputs": [
    {
     "name": "stdout",
     "output_type": "stream",
     "text": [
      "[[[1]\n",
      "  [2]\n",
      "  [3]]]\n",
      "(1, 3, 1)\n",
      "---------------\n",
      "[1 2 3]\n",
      "(3,)\n"
     ]
    }
   ],
   "source": [
    "s = np.array([[[1], [2], [3]]])\n",
    "print(s)\n",
    "print(s.shape)\n",
    "print('---------------')\n",
    "\n",
    "print(np.squeeze(s))\n",
    "print(np.squeeze(s).shape)\n"
   ]
  },
  {
   "cell_type": "markdown",
   "id": "ff20cbf8-991d-49d0-9e7b-fef5385a7903",
   "metadata": {},
   "source": [
    "En précisant l'axe, on peut choisir de ne pas supprimer toutes les dimensions égales à 1, mais par exemple ici, seulement la 3ème."
   ]
  },
  {
   "cell_type": "code",
   "execution_count": 101,
   "id": "98c415f1-bf0f-4ab0-b57c-098055a7a51b",
   "metadata": {},
   "outputs": [
    {
     "name": "stdout",
     "output_type": "stream",
     "text": [
      "[[1 2 3]]\n",
      "(1, 3)\n"
     ]
    }
   ],
   "source": [
    "print(np.squeeze(s,axis = 2))\n",
    "print(np.squeeze(s, axis =2).shape)"
   ]
  },
  {
   "cell_type": "markdown",
   "id": "ed724fc5-2510-4c5f-ac2c-d610659e0c73",
   "metadata": {},
   "source": [
    "A l'inverse on peut avoir besoin de passer d'une forme (x,1) à (x,). np.newaxis permet facilement ce changement de dimension."
   ]
  },
  {
   "cell_type": "code",
   "execution_count": 102,
   "id": "3093fa7f-3f45-4a3f-bd15-9a2457356cee",
   "metadata": {},
   "outputs": [
    {
     "name": "stdout",
     "output_type": "stream",
     "text": [
      "(4,)\n",
      "[1 9 8 7]\n",
      "-------------\n",
      "(4, 1)\n",
      "[[1]\n",
      " [9]\n",
      " [8]\n",
      " [7]]\n"
     ]
    }
   ],
   "source": [
    "f = np.array([1,9,8,7])\n",
    "print(f.shape)\n",
    "print(f)\n",
    "print('-------------')\n",
    "f = f[:, np.newaxis]\n",
    "print(f.shape)\n",
    "print(f)"
   ]
  },
  {
   "cell_type": "markdown",
   "id": "6aacc56e-f8e3-429a-9546-05fdb0b25ac2",
   "metadata": {},
   "source": [
    "## 5-5-6 Autres fonctions numpy"
   ]
  },
  {
   "cell_type": "markdown",
   "id": "4110cc1b-b9d0-4676-8953-6e093aff23b7",
   "metadata": {},
   "source": [
    "### 5-4-6-1 Copie"
   ]
  },
  {
   "cell_type": "markdown",
   "id": "949c72f0-b980-42f3-923e-f74f7206a44b",
   "metadata": {},
   "source": [
    "La fonction numpy.copy() est utilisée pour créer une copie indépendante d'un objet NumPy existant, ceci permet d'éviter de modiffier l'original par erreur."
   ]
  },
  {
   "cell_type": "code",
   "execution_count": 103,
   "id": "208e8d45-03b9-4fd3-ac08-3820c89102bb",
   "metadata": {
    "tags": []
   },
   "outputs": [
    {
     "name": "stdout",
     "output_type": "stream",
     "text": [
      "Original: [1 2 3 4 5]\n",
      "Copie: [10  2  3  4  5]\n"
     ]
    }
   ],
   "source": [
    "original = np.array([1, 2, 3, 4, 5])\n",
    "\n",
    "# Création d'une copie du tableau\n",
    "copie = np.copy(original)\n",
    "\n",
    "# Modifier la copie\n",
    "copie[0] = 10\n",
    "\n",
    "# Afficher les deux tableaux\n",
    "print(\"Original:\", original)  \n",
    "print(\"Copie:\", copie)        "
   ]
  },
  {
   "cell_type": "markdown",
   "id": "f50ff6da-8a14-43d6-bce8-1030234c85a7",
   "metadata": {},
   "source": [
    "### 5-4-6-2 Interpolations"
   ]
  },
  {
   "cell_type": "markdown",
   "id": "10ba0962-817c-43d1-a9d4-f6bee26bb03c",
   "metadata": {},
   "source": [
    "np.interp réalise une interpolation linéaire pour estimer des valeurs entre des points de données en fonction d'une plage d'entrée spécifiée et d'une plage de sortie correspondante."
   ]
  },
  {
   "cell_type": "code",
   "execution_count": 104,
   "id": "b182c8fa-af7b-46eb-9760-82f950ea3e51",
   "metadata": {
    "tags": []
   },
   "outputs": [
    {
     "data": {
      "text/plain": [
       "<matplotlib.legend.Legend at 0x2962e708dd0>"
      ]
     },
     "execution_count": 104,
     "metadata": {},
     "output_type": "execute_result"
    },
    {
     "data": {
      "image/png": "[encoded data removed]",
      "text/plain": [
       "<Figure size 640x480 with 1 Axes>"
      ]
     },
     "metadata": {},
     "output_type": "display_data"
    }
   ],
   "source": [
    "\n",
    "t = np.array([0, 1, 2, 3, 4])\n",
    "u = np.array([0, 14, 9, 12, 3])\n",
    "interp_point = 2.5\n",
    "\n",
    "interp_value = np.interp(interp_point, t, u)  # Interpolation linéaire pour un seul point\n",
    "\n",
    "fig, ax = plt.subplots()\n",
    "ax.plot(t, u,  marker = 'o',label='Données')\n",
    "ax.plot(interp_point, interp_value, 'ro', label='Interpolation')\n",
    "ax.legend()"
   ]
  },
  {
   "cell_type": "markdown",
   "id": "4a7c19ab-23ac-4d39-b674-73514d82fabd",
   "metadata": {},
   "source": [
    "On peur aussi faire l'interpolation sur un tableau"
   ]
  },
  {
   "cell_type": "code",
   "execution_count": 105,
   "id": "95f28a11-ba1e-482b-9d68-022095db2f8e",
   "metadata": {
    "tags": []
   },
   "outputs": [
    {
     "data": {
      "text/plain": [
       "<matplotlib.legend.Legend at 0x2962e7b32d0>"
      ]
     },
     "execution_count": 105,
     "metadata": {},
     "output_type": "execute_result"
    },
    {
     "data": {
      "image/png": "[encoded data removed]",
      "text/plain": [
       "<Figure size 640x480 with 1 Axes>"
      ]
     },
     "metadata": {},
     "output_type": "display_data"
    }
   ],
   "source": [
    "# t = np.array([0, 1, 2, 3, 4])\n",
    "# u = np.array([0, 10, 20, 30, 40])\n",
    "interp_array = np.array([0.4, 0.9, 1.6, 2.2, 2.8, 3.6])\n",
    "\n",
    "interp_values = np.interp(interp_array, t, u)  # Interpolation linéaire pour tout le tableau interp_array\n",
    "\n",
    "fig, ax = plt.subplots()\n",
    "ax.plot(t, u, marker = 'o', label='Données')\n",
    "ax.plot(interp_array, interp_values, 'ro', label='Interpolation')\n",
    "ax.legend()"
   ]
  },
  {
   "cell_type": "markdown",
   "id": "9023abd8-2a39-4212-ac3a-8efa021e4a6c",
   "metadata": {},
   "source": [
    "### 5-4-6-3 Derivée et difference"
   ]
  },
  {
   "cell_type": "markdown",
   "id": "a87a8741-bc11-48c8-8de7-fefe4cf99abe",
   "metadata": {},
   "source": [
    "np.gradient calcule la différence entre les valeurs suucessives d'un tableau multidimensionnel, en prenant en compte les espacements entre les points. Il retourne un tableau avec les différences calculées pour chaque dimension du tableau d'entrée. Par conséquent, np.gradient peut être utilisé pour calculer la dérivée d'une fonction discrète dans plusieurs dimensions."
   ]
  },
  {
   "cell_type": "code",
   "execution_count": 106,
   "id": "fe6cf451-8d34-413a-9800-6b557dc93a5f",
   "metadata": {
    "tags": []
   },
   "outputs": [
    {
     "name": "stdout",
     "output_type": "stream",
     "text": [
      "La dérivée de y par rapport à x est [ 1.   1.5  2.5  3.5  4.5  0.5 -3.  -3.5  0.5  5.5  5. ]\n"
     ]
    },
    {
     "data": {
      "text/plain": [
       "<matplotlib.legend.Legend at 0x2962e7a8dd0>"
      ]
     },
     "execution_count": 106,
     "metadata": {},
     "output_type": "execute_result"
    },
    {
     "data": {
      "image/png": "[encoded data removed]",
      "text/plain": [
       "<Figure size 640x480 with 1 Axes>"
      ]
     },
     "metadata": {},
     "output_type": "display_data"
    }
   ],
   "source": [
    "# Tableau de valeurs\n",
    "x = np.array([0, 1, 2, 3, 4, 5, 6, 7 , 8, 9, 10])\n",
    "y = np.array([1, 2, 4, 7, 11, 16, 12, 10, 5, 11, 16])\n",
    "\n",
    "# Calcul de la dérivée de y par rapport à x\n",
    "deriv = np.gradient(y, x)\n",
    "\n",
    "print(\"La dérivée de y par rapport à x est\", deriv)\n",
    "\n",
    "fig, ax = plt.subplots()\n",
    "ax.plot(x, y, label='y')\n",
    "ax.plot(x, deriv, label=\"Dérivée de y par rapport à x\")\n",
    "ax.legend()\n"
   ]
  },
  {
   "cell_type": "markdown",
   "id": "537a45d4-a5ad-42df-a595-21bf9fb394ef",
   "metadata": {},
   "source": [
    "np.diff calcule la différence entre les valeurs consécutives d'un tableau unidimensionnel. Il retourne un tableau d'une dimension de longueur réduite par rapport à l'entrée, où chaque élément correspond à la différence entre deux éléments adjacents. "
   ]
  },
  {
   "cell_type": "code",
   "execution_count": 107,
   "id": "6a81e88b-6422-46ab-89ec-d4e88f81ab5e",
   "metadata": {
    "tags": []
   },
   "outputs": [
    {
     "name": "stdout",
     "output_type": "stream",
     "text": [
      "y  [ 1  2  4  7 11 16 12 10  5 11 16]\n",
      "diff [ 1  2  3  4  5 -4 -2 -5  6  5]\n",
      "indices [0 1 2 3 4 5 6 7 8 9]\n"
     ]
    },
    {
     "data": {
      "image/png": "[encoded data removed]",
      "text/plain": [
       "<Figure size 640x480 with 1 Axes>"
      ]
     },
     "metadata": {},
     "output_type": "display_data"
    }
   ],
   "source": [
    "# Calcul des différences entre les valeurs de y\n",
    "print('y ',y)\n",
    "diff = np.diff(y)\n",
    "print('diff',diff)\n",
    "\n",
    "# Création du tableau d'indices\n",
    "indices = np.arange(0, len(y)-1)\n",
    "print('indices',indices)\n",
    "\n",
    "fig, ax = plt.subplots()\n",
    "ax.plot(indices, y[1:], label='y')\n",
    "ax.plot(indices, diff, label='Différence de y')\n",
    "ax.legend()\n",
    "\n",
    "plt.show()\n"
   ]
  },
  {
   "cell_type": "markdown",
   "id": "d32fa92c-8a07-4947-8b9c-9f34f74a4ab5",
   "metadata": {},
   "source": [
    "avec np.diff on a calculé $\\Delta y $ alors qu'avec np.gradient, on a calculé $\\Delta y / \\Delta x$"
   ]
  },
  {
   "cell_type": "markdown",
   "id": "390a43e6-0cd2-4043-bfd1-5bcf1fc4461b",
   "metadata": {},
   "source": [
    "### 5-4-6-5 Pour le traitement des données scientifiques"
   ]
  },
  {
   "cell_type": "markdown",
   "id": "ac529182-35f8-4973-94c6-e382ba1a9342",
   "metadata": {},
   "source": [
    "| Fonction   | Description                                                                 |\n",
    "|------------|-----------------------------------------------------------------------------|\n",
    "| linspace   | Génère une séquence de valeurs régulièrement espacées dans un intervalle     |\n",
    "| logspace   | Génère une séquence de valeurs espacées logarithmiquement dans un intervalle |\n",
    "| fft        | Calcule la transformée de Fourier discrète d'un signal                       |\n",
    "| ifft       | Calcule la transformée de Fourier inverse d'un signal                        |\n",
    "| convolve   | Effectue une convolution entre deux tableaux                                 |\n",
    "| correlate  | Calcule la corrélation croisée entre deux tableaux                           |"
   ]
  },
  {
   "cell_type": "markdown",
   "id": "694874ce-04c4-4089-858e-40ecdb9ecec2",
   "metadata": {},
   "source": [
    "### 5-4-6-6 Pour le traitement statistique"
   ]
  },
  {
   "cell_type": "markdown",
   "id": "d65d3357-d29a-462f-ad87-f33234f9c871",
   "metadata": {},
   "source": [
    "| Fonction   | Description                                                                 |\n",
    "|------------|-----------------------------------------------------------------------------|\n",
    "| sort       | Trie les éléments d'un tableau selon un axe donné                            |\n",
    "| unique     | Retourne les éléments uniques d'un tableau                                   |\n",
    "| mean       | Calcule la moyenne d'un tableau                                              |\n",
    "| median     | Calcule la médiane d'un tableau                                              |\n",
    "| std        | Calcule l'écart-type d'un tableau                                            |\n",
    "| var        | Calcule la variance d'un tableau                                             |\n",
    "| argmin     | Retourne l'indice de la valeur minimale d'un tableau                         |\n",
    "| argmax     | Retourne l'indice de la valeur maximale d'un tableau  "
   ]
  },
  {
   "cell_type": "markdown",
   "id": "65081be5-1b2f-445b-8470-ff573d189adc",
   "metadata": {},
   "source": [
    "La variété des fonctions existant en numpy va permettre d'appliquer des opérations à tous les éléments de tableaux de diverses dimensions en évitant d'avoir recours à des boucles qui donneraient des codes plus \"lourds\" et moins performants. "
   ]
  },
  {
   "cell_type": "markdown",
   "id": "5b9c9dcc-8a34-40d4-baf4-f8776b527b8d",
   "metadata": {},
   "source": [
    "[Exercice 3](exercices/Exercices5.ipynb)"
   ]
  },
  {
   "cell_type": "markdown",
   "id": "2fb11bc5-bff2-4d39-aeff-4127357ebdfe",
   "metadata": {},
   "source": [
    "# 5-5 Manipulations d'images"
   ]
  },
  {
   "cell_type": "markdown",
   "id": "43595645-4ba7-41e4-9e5d-aa2e10b885e4",
   "metadata": {},
   "source": [
    "Le tableaux numpy peuvent servir à manipuler une grande variété de type de données, comme des images qui ne sont rien d'autre que des tableau numpy dont chaque élément est une valeur definissant un niveau de gris ou une couleur"
   ]
  },
  {
   "cell_type": "markdown",
   "id": "89822ce4-478d-473b-bdb4-5f8b2e8c3678",
   "metadata": {},
   "source": [
    "Definissons une image de 28 pixels sur 28 pixels en niveaux de gris (0 à 256)"
   ]
  },
  {
   "cell_type": "code",
   "execution_count": 108,
   "id": "3dfaca2c-6ff1-49a2-932c-ded0a3b0eaa7",
   "metadata": {},
   "outputs": [],
   "source": [
    "image_array_rand = np.random.randint(0, 256, size=(28, 28))"
   ]
  },
  {
   "cell_type": "code",
   "execution_count": 109,
   "id": "c9a3526f-85e8-4395-afc7-372703fba07f",
   "metadata": {},
   "outputs": [
    {
     "name": "stdout",
     "output_type": "stream",
     "text": [
      "[[ 83 169   9 151 213 175 246 236  54  20 228 146 124  66 247  89 208   3\n",
      "  242   3 155 243 110 104 109 115  53  30]\n",
      " [129  83  77 207  79 130  33 174 154 117 106 239  53 242 226 112  28  19\n",
      "   55 167 228 166 106 106 229 225  74  65]\n",
      " [185  11  24 240 213  15   0 244 248 157   9 240  67  85 104  13   9  24\n",
      "  157  75 110 170 149  17 140 141 177 114]\n",
      " [122 169 183  37  74  24 148  79 151  18  55  42 145  11 194 147 146  77\n",
      "   33  49 222 234  90 182  21 106  78   5]\n",
      " [ 48 196 136 142 167 148  58 222  82 182  81 166 153 214  43 163  77 230\n",
      "   57  13  82  29 177 216 201 106   8 155]\n",
      " [159 126 113  37 167 220 153  92  65 102  42  79   8   8 123  44 116 100\n",
      "   91 156 234  88 234   6  98  42 250  60]\n",
      " [185 118  49 150  51 126  64  15 118 253  79 138 127 209  70  63 248  47\n",
      "  146 133 148 141 195 116 164 250 215  44]\n",
      " [ 27 151  13 222 145  17 140 174  54  72 206 114  61 135  90 221 185 173\n",
      "   58 230 174 129  81 192  75  27 104  35]\n",
      " [ 36 196 218 244  19  72  69 208 163 252 202 167 237 107 251  85 144  33\n",
      "  135 205 160  70  64  14 175 134 188  36]\n",
      " [236 185  26 239 160 184 130 145 109 184 237 159 230  42 249  86  67  60\n",
      "  108 227  60  93 151 153 187   1  33  83]\n",
      " [ 32  21 246 200  25  73 154 242 184 195 151   8  23 204  58 243 122 189\n",
      "   38  87 157  54  96  27 182  99   5 238]\n",
      " [179 162  76 233 237 139 109  90  64  60 198 252 117 223 107  56  90  63\n",
      "   30  28  89  68  31 207  52 160   3  98]\n",
      " [215 247 215 162  36 126 107  54 100 220 247  91 198  97  68 110  44 230\n",
      "  251 160  99 140  89  21  67 188 245  57]\n",
      " [ 99 170 157  17 152  50 141  67  98   6  49  27 159  33 104 109 192 172\n",
      "  119 253 150   9 239 148 224 190 188  55]\n",
      " [ 10  14   5 214  89  33 252 140 104 122 215   7 188 172 164 242 145 190\n",
      "  214 125 250 245 100 212 113 162  59  37]\n",
      " [ 54   1 118  57 155 144 145  80 171 200 112 131 243  68 172   9  66 116\n",
      "  176 141 249  97 245 138 203 182 172 213]\n",
      " [ 71  75  35   4 145 138  17 132 210 150   8 160  10 187  43   4  79  92\n",
      "   91 138 126 127 117  92 128 102 145  38]\n",
      " [159  68  37 204 238 248   6  70 241 104  48  81  73 215 144  46 200  97\n",
      "  253 183  85 222 223  26  20 130  85 101]\n",
      " [ 67 184 172  97  35 196  32  29  59 178  30  97  88 249  94 254 109   4\n",
      "  129  65 158  59 191 188  32 150 139 221]\n",
      " [ 39 112  37 163  21  89  38 153 247  29  17 219 160  65  53  48  46 230\n",
      "  167 127 184 136   6  81 242  89 210   1]\n",
      " [ 85 166  82 107 218 103  96  54  87 144 200 190 176 121 218 119 253 226\n",
      "   96 235 206   3 252  22  18 254  50  65]\n",
      " [  9 163 207 144  18 226 114 193 237  87 249  16  96 218 223 185   6  38\n",
      "  103 221 239  99 155 212 184 187 233 169]\n",
      " [228 151  96 190 108 216  27 133  42 189 123  17 153 188 198  43 126  23\n",
      "   83 176 116  13 198 167 240 191 223 114]\n",
      " [156 205  74 128 228  33 161 158 240  38 199 213 108 146  45 119 144  78\n",
      "  226 194  21 149 205  33 150 220  84 215]\n",
      " [ 10 202 225  85  75 168 130 250 191 230  94   8  62 233   3 255  78 223\n",
      "  160 205 148  86 243 152  69  70 156 145]\n",
      " [ 97 131 248 238  28  30 200 153 204  98  72  60 178  97 109 113 114 156\n",
      "   64  16 200  89 152 159  84 105 213  45]\n",
      " [ 76 226   4 222 136 208 171   2 182 182 223 229  90 191  55 105 135  64\n",
      "  237  90  10 184  12  61  54 129 177 203]\n",
      " [186 181 227 227 216 199 109  49 151 211 224 199  65  57  34 145 243 156\n",
      "  245 120 222 177 183 236  28 192 131 167]]\n"
     ]
    }
   ],
   "source": [
    "print(image_array_rand)"
   ]
  },
  {
   "cell_type": "markdown",
   "id": "6edd41b2-9fa5-4666-8270-11fe3706c35a",
   "metadata": {},
   "source": [
    "Utilisons matplotlib pour la tracer"
   ]
  },
  {
   "cell_type": "code",
   "execution_count": 110,
   "id": "86716df5-fa38-44c1-833a-beaeb62936f2",
   "metadata": {},
   "outputs": [
    {
     "data": {
      "text/plain": [
       "<matplotlib.image.AxesImage at 0x2962e9c1050>"
      ]
     },
     "execution_count": 110,
     "metadata": {},
     "output_type": "execute_result"
    },
    {
     "data": {
      "image/png": "[encoded data removed]",
      "text/plain": [
       "<Figure size 640x480 with 1 Axes>"
      ]
     },
     "metadata": {},
     "output_type": "display_data"
    }
   ],
   "source": [
    "fig,ax = plt.subplots()\n",
    "ax.imshow(image_array_rand)"
   ]
  },
  {
   "cell_type": "markdown",
   "id": "87a0edf6-31e1-40cc-99d6-688e108ac3c0",
   "metadata": {},
   "source": [
    "Avec un petit effort de présentation..."
   ]
  },
  {
   "cell_type": "code",
   "execution_count": 111,
   "id": "7cec32fb-3f6d-46fe-a8c4-518604580d96",
   "metadata": {},
   "outputs": [
    {
     "data": {
      "text/plain": [
       "(-0.5, 27.5, 27.5, -0.5)"
      ]
     },
     "execution_count": 111,
     "metadata": {},
     "output_type": "execute_result"
    },
    {
     "data": {
      "image/png": "[encoded data removed]",
      "text/plain": [
       "<Figure size 640x480 with 1 Axes>"
      ]
     },
     "metadata": {},
     "output_type": "display_data"
    }
   ],
   "source": [
    "fig,ax = plt.subplots()\n",
    "ax.imshow(image_array_rand, cmap='gray',vmin = 0, vmax = 255) #niveaux de gris sde 0 à 255\n",
    "ax.axis('off')  # Masquer les axes"
   ]
  },
  {
   "cell_type": "markdown",
   "id": "da6582c7-5559-4c1f-a168-a081e5e01a3f",
   "metadata": {},
   "source": [
    "On peut faire des opérations sur l'ensemble des pixels, comme augmenter ou diminuer leurs valeurs, ce qui changera la luminosité de l'image"
   ]
  },
  {
   "cell_type": "code",
   "execution_count": 112,
   "id": "c68e0514-3666-4271-827a-eed7a3743884",
   "metadata": {
    "tags": []
   },
   "outputs": [],
   "source": [
    "clair = image_array_rand + 80\n",
    "fonce = image_array_rand - 80\n",
    "\n",
    "# pour mettre les valeur négatives à zero et les valeurs superieures à 255 à 255\n",
    "clair[clair < 0] = 0 # remplace toutes les valeurs négatives dans le tableau clair par 0\n",
    "clair[clair > 255] = 255 #remplace toutes les valeurs supérieures à 255 dans le tableau clair par 255.\n",
    "\n",
    "fonce[fonce < 0] = 0 #remplace toutes les valeurs négatives dans le tableau fonce par 0\n",
    "fonce[fonce > 255] = 255 # remplace toutes les valeurs supérieures à 255 dans le tableau fonce par 255"
   ]
  },
  {
   "cell_type": "code",
   "execution_count": 113,
   "id": "1de826a9-83dc-4b33-a579-c72afcb62c84",
   "metadata": {
    "tags": []
   },
   "outputs": [
    {
     "data": {
      "text/plain": [
       "Text(0.5, 1.0, 'Foncé')"
      ]
     },
     "execution_count": 113,
     "metadata": {},
     "output_type": "execute_result"
    },
    {
     "data": {
      "image/png": "[encoded data removed]",
      "text/plain": [
       "<Figure size 640x480 with 3 Axes>"
      ]
     },
     "metadata": {},
     "output_type": "display_data"
    }
   ],
   "source": [
    "fig, ax = plt.subplots(1,3)\n",
    "ax[0].imshow(image_array_rand, cmap='gray',vmin = 0, vmax = 255)\n",
    "ax[0].set_title('Origine')\n",
    "ax[1].imshow(clair, cmap='gray',vmin = 0, vmax = 255)\n",
    "ax[1].set_title('Clair')\n",
    "ax[2].imshow(fonce, cmap='gray',vmin = 0, vmax = 255)\n",
    "ax[2].set_title('Foncé')"
   ]
  },
  {
   "cell_type": "markdown",
   "id": "ba370eac-17dc-4bcb-94dc-277374bec15b",
   "metadata": {},
   "source": [
    "Avec les outils de slice, on peut creer une image avec des motifs géométriques"
   ]
  },
  {
   "cell_type": "code",
   "execution_count": 114,
   "id": "5b62cf26-6970-4369-b00c-838f8ab28169",
   "metadata": {},
   "outputs": [],
   "source": [
    "# Création d'un tableau numpy de dimensions 28x28 rempli de zéros (fond noir)\n",
    "image_array = np.zeros((28, 28))\n",
    "\n",
    "# Définition des coordonnées du motif géométrique\n",
    "start_row, end_row = 8, 10\n",
    "start_col, end_col = 10, 20\n",
    "\n",
    "start_row2, end_row2 = 18, 20\n",
    "start_col2, end_col2 = 4, 6\n",
    "\n",
    "# Remplissage du motif avec le niveau de gris 100\n",
    "image_array[start_row:end_row, start_col:end_col] = 100\n",
    "\n",
    "image_array[start_row2:end_row2, start_col2:end_col2] = 130\n"
   ]
  },
  {
   "cell_type": "code",
   "execution_count": 115,
   "id": "5ae11dce-4587-4625-8720-1422c0c3401b",
   "metadata": {},
   "outputs": [
    {
     "data": {
      "text/plain": [
       "<matplotlib.image.AxesImage at 0x2962e899050>"
      ]
     },
     "execution_count": 115,
     "metadata": {},
     "output_type": "execute_result"
    },
    {
     "data": {
      "image/png": "[encoded data removed]",
      "text/plain": [
       "<Figure size 640x480 with 1 Axes>"
      ]
     },
     "metadata": {},
     "output_type": "display_data"
    }
   ],
   "source": [
    "fig,ax = plt.subplots()\n",
    "ax.imshow(image_array, cmap='gray',vmin = 0, vmax = 255)"
   ]
  },
  {
   "cell_type": "markdown",
   "id": "062007f9-1fcf-44c3-b143-4a3e3adae775",
   "metadata": {},
   "source": [
    "Faisons une rotation de l'image avec une transposition de la matrice"
   ]
  },
  {
   "cell_type": "code",
   "execution_count": 116,
   "id": "29dbf2b9-99b2-4cdc-8236-e5172de4c1b3",
   "metadata": {},
   "outputs": [],
   "source": [
    "image_rot = np.transpose(image_array)"
   ]
  },
  {
   "cell_type": "code",
   "execution_count": 117,
   "id": "a005204f-59d8-4a4e-99e1-5f6a34fde112",
   "metadata": {},
   "outputs": [
    {
     "data": {
      "text/plain": [
       "<matplotlib.image.AxesImage at 0x2962eb90710>"
      ]
     },
     "execution_count": 117,
     "metadata": {},
     "output_type": "execute_result"
    },
    {
     "data": {
      "image/png": "[encoded data removed]",
      "text/plain": [
       "<Figure size 640x480 with 1 Axes>"
      ]
     },
     "metadata": {},
     "output_type": "display_data"
    }
   ],
   "source": [
    "fig,ax = plt.subplots()\n",
    "ax.imshow(image_rot, cmap='gray',vmin = 0, vmax = 255)"
   ]
  },
  {
   "cell_type": "markdown",
   "id": "a2753118-1316-416b-b648-ec5ee8cec9c3",
   "metadata": {},
   "source": [
    "Ouvrons maintenant une image contenue dans un fichier et essayons de comprendre comment elle est contituée"
   ]
  },
  {
   "cell_type": "code",
   "execution_count": 118,
   "id": "1446a2a9-0d5c-4256-89a5-973ed2df09b7",
   "metadata": {
    "tags": []
   },
   "outputs": [],
   "source": [
    "# Lire l'image avec Matplotlib\n",
    "image = plt.imread('fichiers_cours/numpy/rgb.png')\n",
    "\n",
    "# Convertir l'image en tableau NumPy (ça n'est pas toujours necessaire)\n",
    "mon_image = np.array(image)"
   ]
  },
  {
   "cell_type": "code",
   "execution_count": 119,
   "id": "e8076c3c-8623-4405-b367-faf105405299",
   "metadata": {
    "tags": []
   },
   "outputs": [
    {
     "data": {
      "text/plain": [
       "(-0.5, 884.5, 809.5, -0.5)"
      ]
     },
     "execution_count": 119,
     "metadata": {},
     "output_type": "execute_result"
    },
    {
     "data": {
      "image/png": "[encoded data removed]",
      "text/plain": [
       "<Figure size 640x480 with 1 Axes>"
      ]
     },
     "metadata": {},
     "output_type": "display_data"
    }
   ],
   "source": [
    "fig,ax = plt.subplots()\n",
    "ax.imshow(image)\n",
    "ax.axis('off')"
   ]
  },
  {
   "cell_type": "code",
   "execution_count": 120,
   "id": "39045bb7-730e-4ccb-9031-2c9f6e87d3e9",
   "metadata": {
    "tags": []
   },
   "outputs": [
    {
     "name": "stdout",
     "output_type": "stream",
     "text": [
      "(810, 885, 4)\n"
     ]
    }
   ],
   "source": [
    "print(mon_image.shape)"
   ]
  },
  {
   "cell_type": "code",
   "execution_count": 121,
   "id": "212285ab-47f9-4d3b-9c34-e67931633524",
   "metadata": {},
   "outputs": [
    {
     "data": {
      "text/plain": [
       "(0.0, 1.0, 0.0, 1.0)"
      ]
     },
     "execution_count": 121,
     "metadata": {},
     "output_type": "execute_result"
    },
    {
     "data": {
      "image/png": "[encoded data removed]",
      "text/plain": [
       "<Figure size 1800x1200 with 6 Axes>"
      ]
     },
     "metadata": {},
     "output_type": "display_data"
    }
   ],
   "source": [
    "fig, ax = plt.subplots(2, 3, figsize=(18, 12))\n",
    "\n",
    "# Affichage de l'image originale\n",
    "ax[0, 0].imshow(mon_image, cmap='gray')\n",
    "ax[0, 0].axis('off')\n",
    "ax[0, 0].set_title('Origine')\n",
    "\n",
    "# Affichage du canal 0 , c.a.d. toutes les lignes et toutes les colonnes de la couche 0\n",
    "ax[0, 1].imshow(mon_image[:, :, 0], cmap='gray')\n",
    "ax[0, 1].axis('off')\n",
    "ax[0, 1].set_title('Canal 0')\n",
    "\n",
    "# Affichage du canal 1 , c.a.d. toutes les lignes et toutes les colonnes de la couche 1\n",
    "ax[0, 2].imshow(mon_image[:, :, 1], cmap='gray')\n",
    "ax[0, 2].axis('off')\n",
    "ax[0, 2].set_title('Canal 1')\n",
    "\n",
    "# Affichage du canal 2 , c.a.d. toutes les lignes et toutes les colonnes de la couche 3\n",
    "ax[1, 0].imshow(mon_image[:, :, 2], cmap='gray')\n",
    "ax[1, 0].axis('off')\n",
    "ax[1, 0].set_title('Canal 2')\n",
    "\n",
    "# Affichage du canal 3 , c.a.d. toutes les lignes et toutes les colonnes de la couche 3\n",
    "ax[1, 1].imshow(mon_image[:, :, 3], cmap='gray')\n",
    "ax[1, 1].axis('off')\n",
    "ax[1, 1].set_title('Canal 3')\n",
    "\n",
    "# Ajout d'une cellule vide pour le canal 4 (s'il existe)\n",
    "ax[1, 2].axis('off')"
   ]
  },
  {
   "cell_type": "markdown",
   "id": "732dd712-20e9-40bc-a8a8-70ee467a2b55",
   "metadata": {},
   "source": [
    "On retrouve bien les canaux rouge vert et bleu. Ici on a en plus un canal pour la transparence."
   ]
  },
  {
   "cell_type": "markdown",
   "id": "5d218f52-a71c-4928-b7b9-27a8aaa6b9f2",
   "metadata": {},
   "source": [
    "[Exercice 4](exercices/Exercices5.ipynb)"
   ]
  }
 ],
 "metadata": {
  "kernelspec": {
   "display_name": "Python 3 (ipykernel)",
   "language": "python",
   "name": "python3"
  },
  "language_info": {
   "codemirror_mode": {
    "name": "ipython",
    "version": 3
   },
   "file_extension": ".py",
   "mimetype": "text/x-python",
   "name": "python",
   "nbconvert_exporter": "python",
   "pygments_lexer": "ipython3",
   "version": "3.11.7"
  }
 },
 "nbformat": 4,
 "nbformat_minor": 5
}
