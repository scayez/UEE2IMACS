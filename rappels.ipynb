{
 "cells": [
  {
   "cell_type": "markdown",
   "id": "734d4e60-721c-42ad-a1d0-362254bd4017",
   "metadata": {},
   "source": [
    "# Rappels"
   ]
  },
  {
   "cell_type": "markdown",
   "id": "08c9b8f8-0fd9-437a-9292-3f210ce413ad",
   "metadata": {},
   "source": [
    "- Faire les imports au début"
   ]
  },
  {
   "cell_type": "code",
   "execution_count": 1,
   "id": "7e2f3f47-7450-433e-8443-17343df3d519",
   "metadata": {},
   "outputs": [],
   "source": [
    "import numpy as np\n",
    "import matplotlib.pyplot as plt\n",
    "import pandas as pd"
   ]
  },
  {
   "cell_type": "markdown",
   "id": "0d80042a-07e3-4715-b6ff-e68553d5fc69",
   "metadata": {},
   "source": [
    "- Indiquer un chemin (relatif ou absolu)"
   ]
  },
  {
   "cell_type": "code",
   "execution_count": 2,
   "id": "d462eb23-c28f-4092-b1e2-84c7e8a8feb1",
   "metadata": {},
   "outputs": [],
   "source": [
    "chemin = 'exercices/fichier_exercices_enonces/8_fichiers/E15_bis.xy'"
   ]
  },
  {
   "cell_type": "markdown",
   "id": "8af4fccc-dbef-4301-9e6a-ed31ce193f4a",
   "metadata": {},
   "source": [
    "- Ouvrir un fichier pour extraire des caractères"
   ]
  },
  {
   "cell_type": "code",
   "execution_count": 3,
   "id": "7197ef86-cc4e-457b-9e45-30c880f476fc",
   "metadata": {},
   "outputs": [
    {
     "name": "stdout",
     "output_type": "stream",
     "text": [
      "<class 'str'>\n"
     ]
    }
   ],
   "source": [
    "with open(chemin, 'r') as fichier:\n",
    "    contenu = fichier.read()\n",
    "print(type(contenu))"
   ]
  },
  {
   "cell_type": "markdown",
   "id": "52a1599a-126e-4c0a-a2a7-018aaa7ef6ee",
   "metadata": {},
   "source": [
    "- afficher les 100 premiers caractères"
   ]
  },
  {
   "cell_type": "code",
   "execution_count": 4,
   "id": "076ada89-834a-419e-a7a9-f9875ca37997",
   "metadata": {},
   "outputs": [
    {
     "name": "stdout",
     "output_type": "stream",
     "text": [
      "10.013130280 2094.0\n",
      "10.039390845 2131.0\n",
      "10.065651411 2102.0\n",
      "10.091911976 2052.0\n",
      "10.118172541 2040.0\n",
      "\n",
      "10.013130280 2094.0\n",
      "10.039390845 2131.0\n",
      "10.065651411 2102.0\n",
      "10.091911976 2052.0\n",
      "10.118172541 2040.0\n",
      "\n"
     ]
    }
   ],
   "source": [
    "print(contenu[:100])\n",
    "# equivalent à\n",
    "print(contenu[0:100])"
   ]
  },
  {
   "cell_type": "markdown",
   "id": "8339a9fa-d2a1-4c10-bcfd-dba6ea339273",
   "metadata": {},
   "source": [
    "- Ouvrir un fichier pour en extraire un tableau numpy"
   ]
  },
  {
   "cell_type": "code",
   "execution_count": 5,
   "id": "017e1f9c-1179-48ba-baef-fcb724104dfe",
   "metadata": {},
   "outputs": [
    {
     "name": "stdout",
     "output_type": "stream",
     "text": [
      "<class 'numpy.ndarray'>\n",
      "[[  10.01313028 2094.        ]\n",
      " [  10.03939084 2131.        ]\n",
      " [  10.06565141 2102.        ]\n",
      " ...\n",
      " [ 109.93458145  332.        ]\n",
      " [ 109.96084201  355.        ]\n",
      " [ 109.98710258  330.        ]]\n",
      "(3808, 2)\n"
     ]
    }
   ],
   "source": [
    "data =  np.loadtxt(chemin)\n",
    "print(type(data))\n",
    "print(data)\n",
    "print(data.shape)"
   ]
  },
  {
   "cell_type": "markdown",
   "id": "dbdba3d6-3781-42c1-98f2-814d5c044c5c",
   "metadata": {},
   "source": [
    "Chaque ligne contient un couple x y. Pour manipuler les données, il est plus commode de regrouper les x et les y."
   ]
  },
  {
   "cell_type": "code",
   "execution_count": 6,
   "id": "7cbcb51d-7871-4220-bf73-11576fd29cc7",
   "metadata": {},
   "outputs": [
    {
     "name": "stdout",
     "output_type": "stream",
     "text": [
      "x = [ 10.01313028  10.03939084  10.06565141 ... 109.93458145 109.96084201\n",
      " 109.98710258]\n",
      "y = [2094. 2131. 2102. ...  332.  355.  330.]\n"
     ]
    }
   ],
   "source": [
    "x = data[:,0] #toutes les lignes, la première colonne\n",
    "y = data[:,1] #toutes les lignes, la seconde colonne\n",
    "print('x =', x)\n",
    "print('y =', y)"
   ]
  },
  {
   "cell_type": "markdown",
   "id": "4153e0d1-c23f-44c5-b3af-7668d90c12a9",
   "metadata": {},
   "source": [
    "- Pour simplifier on peut utiliser directement l'argument unpack True"
   ]
  },
  {
   "cell_type": "code",
   "execution_count": 7,
   "id": "73f65368-7d22-495c-872c-1aaa83fee0ab",
   "metadata": {},
   "outputs": [
    {
     "name": "stdout",
     "output_type": "stream",
     "text": [
      "[[  10.01313028   10.03939084   10.06565141 ...  109.93458145\n",
      "   109.96084201  109.98710258]\n",
      " [2094.         2131.         2102.         ...  332.\n",
      "   355.          330.        ]]\n",
      "x = [ 10.01313028  10.03939084  10.06565141 ... 109.93458145 109.96084201\n",
      " 109.98710258]\n",
      "y = [2094. 2131. 2102. ...  332.  355.  330.]\n"
     ]
    }
   ],
   "source": [
    "data =  np.loadtxt(chemin, unpack = True)\n",
    "x = data[0]\n",
    "y = data[1]\n",
    "print(data)\n",
    "print('x =', x)\n",
    "print('y =', y)"
   ]
  },
  {
   "cell_type": "markdown",
   "id": "32f521e1-92dc-42d8-a12d-66bde0ceb0da",
   "metadata": {},
   "source": [
    "- On peut aussi récuperer les données dans un Pandas Dataframe"
   ]
  },
  {
   "cell_type": "code",
   "execution_count": 8,
   "id": "6d1fdc6c-7f45-4ac2-9403-4bf52e5db7b1",
   "metadata": {},
   "outputs": [
    {
     "data": {
      "text/html": [
       "<div>\n",
       "<style scoped>\n",
       "    .dataframe tbody tr th:only-of-type {\n",
       "        vertical-align: middle;\n",
       "    }\n",
       "\n",
       "    .dataframe tbody tr th {\n",
       "        vertical-align: top;\n",
       "    }\n",
       "\n",
       "    .dataframe thead th {\n",
       "        text-align: right;\n",
       "    }\n",
       "</style>\n",
       "<table border=\"1\" class=\"dataframe\">\n",
       "  <thead>\n",
       "    <tr style=\"text-align: right;\">\n",
       "      <th></th>\n",
       "      <th>0</th>\n",
       "    </tr>\n",
       "  </thead>\n",
       "  <tbody>\n",
       "    <tr>\n",
       "      <th>0</th>\n",
       "      <td>10.013130280 2094.0</td>\n",
       "    </tr>\n",
       "    <tr>\n",
       "      <th>1</th>\n",
       "      <td>10.039390845 2131.0</td>\n",
       "    </tr>\n",
       "    <tr>\n",
       "      <th>2</th>\n",
       "      <td>10.065651411 2102.0</td>\n",
       "    </tr>\n",
       "    <tr>\n",
       "      <th>3</th>\n",
       "      <td>10.091911976 2052.0</td>\n",
       "    </tr>\n",
       "    <tr>\n",
       "      <th>4</th>\n",
       "      <td>10.118172541 2040.0</td>\n",
       "    </tr>\n",
       "  </tbody>\n",
       "</table>\n",
       "</div>"
      ],
      "text/plain": [
       "                     0\n",
       "0  10.013130280 2094.0\n",
       "1  10.039390845 2131.0\n",
       "2  10.065651411 2102.0\n",
       "3  10.091911976 2052.0\n",
       "4  10.118172541 2040.0"
      ]
     },
     "execution_count": 8,
     "metadata": {},
     "output_type": "execute_result"
    }
   ],
   "source": [
    "data = pd.read_csv(chemin, sep='\\t', header=None)\n",
    "data.head()"
   ]
  },
  {
   "cell_type": "markdown",
   "id": "18211397-ac61-470e-8d90-6285e7b79241",
   "metadata": {},
   "source": [
    "- Tracer la courbe"
   ]
  },
  {
   "cell_type": "code",
   "execution_count": 9,
   "id": "7587c5b6-c158-40f1-9978-5642e4f8759b",
   "metadata": {},
   "outputs": [
    {
     "data": {
      "text/plain": [
       "[<matplotlib.lines.Line2D at 0x1702c068440>]"
      ]
     },
     "execution_count": 9,
     "metadata": {},
     "output_type": "execute_result"
    },
    {
     "data": {
      "image/png": "[encoded data removed]",
      "text/plain": [
       "<Figure size 640x480 with 1 Axes>"
      ]
     },
     "metadata": {},
     "output_type": "display_data"
    }
   ],
   "source": [
    "fig,ax = plt.subplots()\n",
    "ax.plot(x,y)"
   ]
  },
  {
   "cell_type": "markdown",
   "id": "a9aec3b7-8aa1-4ff0-b693-fe13a4fdd814",
   "metadata": {},
   "source": [
    "- Présentation du graph"
   ]
  },
  {
   "cell_type": "code",
   "execution_count": 10,
   "id": "ee4c26e8-3b46-47af-aab6-2fd268b9aa0d",
   "metadata": {},
   "outputs": [
    {
     "data": {
      "text/plain": [
       "<matplotlib.legend.Legend at 0x1702c36fb90>"
      ]
     },
     "execution_count": 10,
     "metadata": {},
     "output_type": "execute_result"
    },
    {
     "data": {
      "image/png": "[encoded data removed]",
      "text/plain": [
       "<Figure size 400x300 with 1 Axes>"
      ]
     },
     "metadata": {},
     "output_type": "display_data"
    }
   ],
   "source": [
    "fig,ax = plt.subplots(figsize=(4,3))\n",
    "ax.plot(x,y, label = 'légende',color='g', linestyle='--')\n",
    "ax.set_xlabel('Données x')\n",
    "ax.set_ylabel('Données y')\n",
    "ax.set_title('Titre')\n",
    "ax.legend()"
   ]
  },
  {
   "cell_type": "markdown",
   "id": "344fcc11-8c32-40fb-bb7b-e21ddb3920a0",
   "metadata": {},
   "source": [
    "- Créer une fonction"
   ]
  },
  {
   "cell_type": "code",
   "execution_count": 11,
   "id": "b60ca06e-8cc9-4b61-8831-f7d16315cbe4",
   "metadata": {},
   "outputs": [],
   "source": [
    "def ma_fonction(x):\n",
    "    y = 2*x + 3\n",
    "    return y"
   ]
  },
  {
   "cell_type": "markdown",
   "id": "06cc817c-afa5-4ab9-a07a-697021affce4",
   "metadata": {},
   "source": [
    "- appeler la fonction"
   ]
  },
  {
   "cell_type": "code",
   "execution_count": 12,
   "id": "0092fc81-5163-48c0-95bc-f197b7e91629",
   "metadata": {},
   "outputs": [
    {
     "name": "stdout",
     "output_type": "stream",
     "text": [
      "9\n"
     ]
    }
   ],
   "source": [
    "z = ma_fonction(3)\n",
    "print(z)"
   ]
  },
  {
   "cell_type": "markdown",
   "id": "0d48ba51-0f60-492f-89a1-0dd201d39ae3",
   "metadata": {},
   "source": [
    "- Boucles for sur une séquence"
   ]
  },
  {
   "cell_type": "code",
   "execution_count": 14,
   "id": "55689eaa-b818-45ce-b437-3d4ce93a3cd9",
   "metadata": {},
   "outputs": [
    {
     "name": "stdout",
     "output_type": "stream",
     "text": [
      "0\n",
      "5\n"
     ]
    }
   ],
   "source": [
    "#ATTENTION à ne pas oublier range pour parcourir une séquence\n",
    "for i in (0,5):\n",
    "    print(i)"
   ]
  },
  {
   "cell_type": "code",
   "execution_count": 15,
   "id": "be4ebb94-f1ea-4561-b506-dbe4086f8aa9",
   "metadata": {},
   "outputs": [
    {
     "name": "stdout",
     "output_type": "stream",
     "text": [
      "0\n",
      "1\n",
      "2\n",
      "3\n",
      "4\n"
     ]
    }
   ],
   "source": [
    "for i in range(0,5):\n",
    "    print(i)"
   ]
  },
  {
   "cell_type": "code",
   "execution_count": 15,
   "id": "ca3d67f1-63e3-49f2-82f9-30f2fd15c3f9",
   "metadata": {},
   "outputs": [
    {
     "name": "stdout",
     "output_type": "stream",
     "text": [
      "0\n",
      "2\n",
      "4\n"
     ]
    }
   ],
   "source": [
    "# on peut ajouter un pas. \n",
    "#On a toujours l'ordre debut (inclus), fin(exlue), pas\n",
    "for i in range(0,5,2):\n",
    "    print(i) "
   ]
  },
  {
   "cell_type": "code",
   "execution_count": 16,
   "id": "48b72bea-652d-41c5-b858-423f3d86a466",
   "metadata": {},
   "outputs": [],
   "source": [
    "# On peut aussi parcourir une liste comme par exemple une liste de fichiers"
   ]
  },
  {
   "cell_type": "code",
   "execution_count": 19,
   "id": "38520cfd-c858-4904-b476-cb603e1672b7",
   "metadata": {},
   "outputs": [
    {
     "name": "stdout",
     "output_type": "stream",
     "text": [
      "Liste de fichiers:  ['fichiers_cours/fichiers/fichiers_crees\\\\ages.csv', 'fichiers_cours/fichiers/fichiers_crees\\\\ages.txt', 'fichiers_cours/fichiers/fichiers_crees\\\\mon_fichier1.txt', 'fichiers_cours/fichiers/fichiers_crees\\\\mon_fichier2.txtmon_fichier2_new.txt', 'fichiers_cours/fichiers/fichiers_crees\\\\mon_fichier_pkl.pkl', 'fichiers_cours/fichiers/fichiers_crees\\\\mon_numpy.csv', 'fichiers_cours/fichiers/fichiers_crees\\\\mon_numpy.txt', 'fichiers_cours/fichiers/fichiers_crees\\\\mon_repertoire', 'fichiers_cours/fichiers/fichiers_crees\\\\plot.jpg']\n",
      "---------------------\n",
      "Fichiers extrait avec la boucle: \n",
      "fichiers_cours/fichiers/fichiers_crees\\ages.csv\n",
      "fichiers_cours/fichiers/fichiers_crees\\ages.txt\n",
      "fichiers_cours/fichiers/fichiers_crees\\mon_fichier1.txt\n",
      "fichiers_cours/fichiers/fichiers_crees\\mon_fichier2.txtmon_fichier2_new.txt\n",
      "fichiers_cours/fichiers/fichiers_crees\\mon_fichier_pkl.pkl\n",
      "fichiers_cours/fichiers/fichiers_crees\\mon_numpy.csv\n",
      "fichiers_cours/fichiers/fichiers_crees\\mon_numpy.txt\n",
      "fichiers_cours/fichiers/fichiers_crees\\mon_repertoire\n",
      "fichiers_cours/fichiers/fichiers_crees\\plot.jpg\n"
     ]
    }
   ],
   "source": [
    "import glob\n",
    "# Liste tous les fichiers dans le répertoire \"mes_fichiers\"\n",
    "fichiers = glob.glob('fichiers_cours/fichiers/fichiers_crees/*')\n",
    "# Parcours la liste des fichiers et les affiche\n",
    "print('Liste de fichiers: ',fichiers)\n",
    "print('---------------------')\n",
    "print('Fichiers extrait avec la boucle: ')\n",
    "for fichier in fichiers:\n",
    "    print(fichier)"
   ]
  }
 ],
 "metadata": {
  "kernelspec": {
   "display_name": "Python 3 (ipykernel)",
   "language": "python",
   "name": "python3"
  },
  "language_info": {
   "codemirror_mode": {
    "name": "ipython",
    "version": 3
   },
   "file_extension": ".py",
   "mimetype": "text/x-python",
   "name": "python",
   "nbconvert_exporter": "python",
   "pygments_lexer": "ipython3",
   "version": "3.12.1"
  }
 },
 "nbformat": 4,
 "nbformat_minor": 5
}
