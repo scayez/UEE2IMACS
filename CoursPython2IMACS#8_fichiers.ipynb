{
 "cells": [
  {
   "cell_type": "markdown",
   "id": "ad42bb04-a6ea-4dd8-aaf3-e9fcc354dfca",
   "metadata": {},
   "source": [
    "***\n",
    "# **<center>COURS PYTHON 2IMACS #8</center>**\n",
    "# ***<center>Fichiers</center>***\n",
    "\n",
    "***"
   ]
  },
  {
   "cell_type": "markdown",
   "id": "a8782ce6-d6cb-4cea-884e-cb5afa313333",
   "metadata": {},
   "source": [
    "Comme nous avons commencé à le voir dans de précédents exemples, nous allons avoir besoin de charger des données à analyser depuis differents types de fichiers. De même nous aurons besoin de sauver nos analyses pour les partager ou pour des modifications futures. Nous allons donc avoir besoin de créer, modifier et sauver des fichiers. De nombreux formats et methodes sont à notre disposition pour ces opérations."
   ]
  },
  {
   "cell_type": "markdown",
   "id": "ed872195-1a5b-4180-b6d5-01619fd18e1c",
   "metadata": {},
   "source": [
    "Avant  de commencer, précisons qu'il existe 2 manières d'indiquer l'emplacement d'un dossier (ou repertoire) ou d'un fichier.  \n",
    "**- Le chemin absolu:** spécifie l'emplacement complet d'un fichier ou d'un répertoire à partir de la racine du système de fichiers. Sous Windows, un exemple de chemin absolu serait : \"C:\\Users\\Utilisateur\\Documents\\mon_fichier.txt\". Le chemin absolu fournit l'emplacement précis du fichier indépendamment de l'emplacement courant (en général celui du code python). Attention si on passe sur une autre machine il sera à modifier.  \n",
    "**- Un chemin relatif:** spécifie l'emplacement d'un fichier ou d'un répertoire par rapport à l'emplacement courant. Sous Windows, un exemple de chemin relatif serait : \"mon_dossier\\mon_fichier.txt\". Le chemin relatif indique que le fichier se trouve dans le répertoire \"Documents\" situé dans le répertoire courant.\n",
    "\n",
    "Il faut remarquer que suivant les IDE, les chemins peuvent contenir des '/' (par exemple jupyter) ou des '\\\\' (par exemple spyder),ou encore des '//'\n",
    "Signalons également que l'on a la possibilité de remonter dans les dossiers parents avec **../**"
   ]
  },
  {
   "cell_type": "markdown",
   "id": "a5d55365-07db-4bf7-baa4-be8ace09bc03",
   "metadata": {},
   "source": [
    "# 8-1 Création de fichiers"
   ]
  },
  {
   "cell_type": "markdown",
   "id": "df2809c2-fee3-4ec0-9b13-909b26397620",
   "metadata": {},
   "source": [
    "## 8-1-1 Syntaxe 'open' et 'close'"
   ]
  },
  {
   "cell_type": "markdown",
   "id": "77c905c8-873e-4cf3-8982-a5ecdff982fe",
   "metadata": {},
   "source": [
    "Créeons notre premier fichier. Nous définissons un chemin , ouvrons le fichier, puis refermons le."
   ]
  },
  {
   "cell_type": "code",
   "execution_count": null,
   "id": "fccf127f-5b36-4d7b-b516-2cf877f60dee",
   "metadata": {},
   "outputs": [],
   "source": [
    "chemin = 'fichiers_cours/fichiers/fichiers_crees/mon_fichier.txt'\n",
    "# creer le fichier \n",
    "fichier = open(chemin, 'w')\n",
    "# Fermer le fichier\n",
    "fichier.close()"
   ]
  },
  {
   "cell_type": "markdown",
   "id": "43bf3d46-edb5-4187-bbbe-30ac84bc6fc2",
   "metadata": {},
   "source": [
    "## 8-1-2 Syntaxe 'with'"
   ]
  },
  {
   "cell_type": "markdown",
   "id": "8896670f-f6d9-4f65-a339-b32f52e46eda",
   "metadata": {},
   "source": [
    "Une autre syntaxe permet de ne pas se préocuper de fermer de la fermeture du fichier, ça peut éviter des oublis et des erreurs..."
   ]
  },
  {
   "cell_type": "code",
   "execution_count": null,
   "id": "80e13e00-8cbd-4d48-b762-21dcaf6a14dd",
   "metadata": {
    "tags": []
   },
   "outputs": [],
   "source": [
    "chemin = 'fichiers_cours/fichiers/fichiers_crees/mon_fichier1.txt'"
   ]
  },
  {
   "cell_type": "code",
   "execution_count": null,
   "id": "25847359-58ae-4814-a4a2-fbed64feb42d",
   "metadata": {
    "tags": []
   },
   "outputs": [],
   "source": [
    "with open(chemin, 'w') as fichier: # creer le fichier\n",
    "   pass # ne rien faire..."
   ]
  },
  {
   "cell_type": "markdown",
   "id": "5de9a393-7a20-4c34-a5ef-ec4674a443d9",
   "metadata": {},
   "source": [
    "## 8-1-3 Modes d'ouverture des fichiers"
   ]
  },
  {
   "cell_type": "markdown",
   "id": "7bafd6d1-15a9-4e5b-b8c2-9f490cc74188",
   "metadata": {},
   "source": [
    "Nous avons le choix entre 3 modes d'ouverture des fichiers:   \n",
    "**- Lecture: 'r' :** permet d'accéder aux données à partir du fichier, mais pas de modifier ou écrire de nouvelles données   \n",
    "**- Ecriture: 'w' :**  créer un nouveau fichier ou écraser le contenu d'un fichier existant  \n",
    "**- Ajout: 'a' :** écrire de nouvelles données à la fin du fichier sans supprimer son contenu précédent  "
   ]
  },
  {
   "cell_type": "markdown",
   "id": "35a4d884-b845-4b35-85d9-f380f520cd03",
   "metadata": {},
   "source": [
    "# 8-2 Lecture et écriture dans un fichier texte"
   ]
  },
  {
   "cell_type": "markdown",
   "id": "88169cb5-e7b0-40aa-826f-844224382111",
   "metadata": {},
   "source": [
    "## 8-2-1 Méthodes read() et write()"
   ]
  },
  {
   "cell_type": "markdown",
   "id": "82e957a8-80e6-460c-92f1-b42c72961839",
   "metadata": {},
   "source": [
    "Ecrire:"
   ]
  },
  {
   "cell_type": "code",
   "execution_count": null,
   "id": "f41b1ff8-d82f-43bb-9887-7b885f430fe3",
   "metadata": {
    "tags": []
   },
   "outputs": [],
   "source": [
    "chemin = 'fichiers_cours/fichiers/fichiers_crees/mon_fichier2.txt'"
   ]
  },
  {
   "cell_type": "code",
   "execution_count": null,
   "id": "e15becb4-b6ec-4ad7-8859-14d4cd4b0e03",
   "metadata": {
    "tags": []
   },
   "outputs": [],
   "source": [
    "with open(chemin, 'w') as fichier:\n",
    "    fichier.write('What... is your favorite color?')"
   ]
  },
  {
   "cell_type": "markdown",
   "id": "7a7a04a4-1245-4f94-914f-29f7d3b7eee2",
   "metadata": {},
   "source": [
    "Lire:"
   ]
  },
  {
   "cell_type": "code",
   "execution_count": null,
   "id": "5edf0f32-2584-49bb-a6f1-b3e9873800bc",
   "metadata": {
    "tags": []
   },
   "outputs": [],
   "source": [
    "with open(chemin, 'r') as fichier:\n",
    "    contenu = fichier.read()\n",
    "    print(contenu)"
   ]
  },
  {
   "cell_type": "markdown",
   "id": "c48688f6-2d3b-4d06-81c9-7208cd1773e1",
   "metadata": {},
   "source": [
    "Ajouter:"
   ]
  },
  {
   "cell_type": "code",
   "execution_count": null,
   "id": "a3ac72d9-fffb-4f1e-9b49-ffc5b470e66f",
   "metadata": {
    "tags": []
   },
   "outputs": [],
   "source": [
    "with open(chemin, 'a') as fichier:\n",
    "    fichier.write('Ni - The Knights Who Say Ni')"
   ]
  },
  {
   "cell_type": "code",
   "execution_count": null,
   "id": "de031890-155d-4486-bf08-73cc0ac63a8c",
   "metadata": {
    "tags": []
   },
   "outputs": [],
   "source": [
    "with open(chemin, 'r') as fichier:\n",
    "    contenu = fichier.read()\n",
    "    print(contenu)"
   ]
  },
  {
   "cell_type": "markdown",
   "id": "f4720d34-2da5-40d0-a163-6eca1fe5777d",
   "metadata": {},
   "source": [
    "## 8-2-2 Méthodes readline() et readlines()"
   ]
  },
  {
   "cell_type": "markdown",
   "id": "f1e69a18-c735-42dd-afd1-576a51d188f1",
   "metadata": {},
   "source": [
    "On pourrait apporter une amélioration, en effet, les differents ajouts vont se faire les uns à la suite des autres. Des retours à la ligne seraient bienvenus. Utilisons les méthodes apropriées."
   ]
  },
  {
   "cell_type": "markdown",
   "id": "fc30e3af-f237-4fd5-82d7-dbfdc4c90d99",
   "metadata": {},
   "source": [
    "Pour l'écriture, on se contentera d'ajouter un retour chariot ('\\n) en fin de ligne"
   ]
  },
  {
   "cell_type": "code",
   "execution_count": null,
   "id": "c777b3a0-7408-4d58-aa1d-fd1cd8ad14e9",
   "metadata": {
    "tags": []
   },
   "outputs": [],
   "source": [
    "with open(chemin, 'a') as fichier:\n",
    "    for i in range(5):\n",
    "        fichier.write('\\nNi')"
   ]
  },
  {
   "cell_type": "markdown",
   "id": "10ff96b6-d412-40e7-a665-f95922194350",
   "metadata": {},
   "source": [
    "La methode read affichera l'ensemble du contenu"
   ]
  },
  {
   "cell_type": "code",
   "execution_count": null,
   "id": "db438965-c1c7-4650-85b1-9c547d44de66",
   "metadata": {
    "tags": []
   },
   "outputs": [],
   "source": [
    "with open(chemin, 'r') as fichier:\n",
    "    contenu = fichier.read()\n",
    "    print(contenu)"
   ]
  },
  {
   "cell_type": "markdown",
   "id": "e5a12069-13cc-4539-9b2f-9795cf5f8693",
   "metadata": {},
   "source": [
    "Avec la methode readlines, on peut parcourir le fichier ligne à ligne.  \n",
    "**fichier.readlines()** va renvoyer une liste dont chaque élément est le contenu d'une ligne."
   ]
  },
  {
   "cell_type": "code",
   "execution_count": null,
   "id": "956513b7-0dad-448e-9a9a-491cd7cc6a9a",
   "metadata": {
    "tags": []
   },
   "outputs": [],
   "source": [
    "with open(chemin, 'r') as fichier:\n",
    "    lignes = fichier.readlines()  # Lecture de toutes les lignes du fichier\n",
    "    nombre_lignes = len(lignes)  # Nombre de lignes dans le fichier \n",
    "    print('le fichier contient ',nombre_lignes,' lignes')\n",
    "    print(' le contenu du fichier est: ',lignes)"
   ]
  },
  {
   "cell_type": "markdown",
   "id": "d25190d8-5718-45cc-b359-fb9675ee8c16",
   "metadata": {},
   "source": [
    "Cette methode est trés efficace avec une boucle for pour afficher les lignes séparemment"
   ]
  },
  {
   "cell_type": "code",
   "execution_count": null,
   "id": "7c9ddfe9-b126-42a5-95e4-71ec264948f5",
   "metadata": {
    "tags": []
   },
   "outputs": [],
   "source": [
    "with open(chemin, 'r') as fichier:\n",
    "    lignes = fichier.readlines()  # Lecture de toutes les lignes du fichier\n",
    "    for ligne in lignes:\n",
    "        print(ligne)"
   ]
  },
  {
   "cell_type": "markdown",
   "id": "0028833b-ec0e-4f66-9bee-0821ccfc0aa3",
   "metadata": {},
   "source": [
    "## 8-3 Lecture et écriture dans d'autres formats de fichiers"
   ]
  },
  {
   "cell_type": "markdown",
   "id": "37b56b58-ce48-4979-8c36-1fc13340b184",
   "metadata": {},
   "source": [
    "## 8-3-1  Fichiers csv"
   ]
  },
  {
   "cell_type": "markdown",
   "id": "676e548c-2ac6-4732-8b6c-ba10032107fa",
   "metadata": {},
   "source": [
    "Pandas permet une manipulation très pratiques des fichiers textes et csv. Créons un pandas dataframe"
   ]
  },
  {
   "cell_type": "code",
   "execution_count": null,
   "id": "c563ef91-1526-492f-a77e-309ec4ea4237",
   "metadata": {
    "tags": []
   },
   "outputs": [],
   "source": [
    "import pandas as pd\n",
    "\n",
    "# Création d'un DataFrame\n",
    "data = pd.DataFrame({'Nom': ['Alice', 'Bob', 'Charlie'],\n",
    "                     'Age': [25, 30, 35]})\n",
    "data.head()"
   ]
  },
  {
   "cell_type": "markdown",
   "id": "0d7b6d81-66af-45a8-9f61-37d0548aeb56",
   "metadata": {},
   "source": [
    "Sauvegardons dans un fichier texte"
   ]
  },
  {
   "cell_type": "code",
   "execution_count": null,
   "id": "c1035347-357c-48a0-acd3-8547fb6e6eef",
   "metadata": {
    "tags": []
   },
   "outputs": [],
   "source": [
    "data.to_csv('fichiers_cours/fichiers/fichiers_crees/ages.txt')"
   ]
  },
  {
   "cell_type": "markdown",
   "id": "f3173241-0b8b-42c8-9253-932a45ac9084",
   "metadata": {},
   "source": [
    "Si on ouvre le fichier, on voit que le format est bien en 2 colonnes. Elles sont séparées par des ',' on peut choisir d'autres séparateurs comme la tabulation, de même, on peut choisir de ne pas afficher les numéros de ligne:"
   ]
  },
  {
   "cell_type": "code",
   "execution_count": null,
   "id": "db7e514b-8352-4f54-bdae-a9d72481484b",
   "metadata": {
    "tags": []
   },
   "outputs": [],
   "source": [
    "data.to_csv('fichiers_cours/fichiers/fichiers_crees/ages.txt', sep='\\t',index = False)"
   ]
  },
  {
   "cell_type": "markdown",
   "id": "363ee615-0086-490b-a4df-40f87fa22aac",
   "metadata": {},
   "source": [
    "Le format csv est bien sûr pris en charge"
   ]
  },
  {
   "cell_type": "code",
   "execution_count": null,
   "id": "273664a3-59fa-4d1c-8310-bce52db7d202",
   "metadata": {
    "tags": []
   },
   "outputs": [],
   "source": [
    "data.to_csv('fichiers_cours/fichiers/fichiers_crees/ages.csv',sep='\\t',index = False)"
   ]
  },
  {
   "cell_type": "markdown",
   "id": "8db1faea-a325-47e3-9863-816d64d196f8",
   "metadata": {},
   "source": [
    "De la même manière ce type de données peut être chargé avec **pd.read_csv** :"
   ]
  },
  {
   "cell_type": "markdown",
   "id": "00c39db0-6b84-4685-a129-8916d6452c0b",
   "metadata": {},
   "source": [
    "- Pour du csv"
   ]
  },
  {
   "cell_type": "code",
   "execution_count": null,
   "id": "857898ce-c167-4b2c-b835-e801fcc72745",
   "metadata": {
    "tags": []
   },
   "outputs": [],
   "source": [
    "data_lues_csv = pd.read_csv('fichiers_cours/fichiers/fichiers_crees/ages.csv', sep='\\t')\n",
    "data_lues_csv.head()"
   ]
  },
  {
   "cell_type": "markdown",
   "id": "2d7fba03-a4e3-4c59-8b95-e747c9acc502",
   "metadata": {},
   "source": [
    "- Pour du texte"
   ]
  },
  {
   "cell_type": "code",
   "execution_count": null,
   "id": "d3e4b3ab-30e0-4fa6-83b4-f68bbbf5ca77",
   "metadata": {
    "tags": []
   },
   "outputs": [],
   "source": [
    "data_lues_txt = pd.read_csv('fichiers_cours/fichiers/fichiers_crees/ages.txt', sep='\\t')\n",
    "data_lues_txt.head()"
   ]
  },
  {
   "cell_type": "markdown",
   "id": "96959d15-4b9b-4afb-aeb0-51416ddfee6d",
   "metadata": {},
   "source": [
    "Les fonctions **np.savetxt** et **np.loadtxt** de numpy fonctionnent sur le même modéle"
   ]
  },
  {
   "cell_type": "code",
   "execution_count": null,
   "id": "6e3d6cb1-d77c-445e-a1fc-e96cead4f736",
   "metadata": {
    "tags": []
   },
   "outputs": [],
   "source": [
    "import numpy as np\n",
    "# Création d'un tableau NumPy\n",
    "data = np.array([[1, 2, 3], [4, 5, 6], [7, 8, 9]])\n",
    "# Écriture du tableau dans un fichier CSV\n",
    "np.savetxt('fichiers_cours/fichiers/fichiers_crees/mon_numpy.csv', data, delimiter='\\t')"
   ]
  },
  {
   "cell_type": "markdown",
   "id": "442e1972-8fef-4a43-9861-22e577a437b2",
   "metadata": {},
   "source": [
    "On peut choisir le format:"
   ]
  },
  {
   "cell_type": "code",
   "execution_count": null,
   "id": "846e3c39-247b-4316-85ac-49bdfadf50b9",
   "metadata": {
    "tags": []
   },
   "outputs": [],
   "source": [
    "np.savetxt('fichiers_cours/fichiers/fichiers_crees/mon_numpy.csv', data, delimiter='\\t', fmt='%d')"
   ]
  },
  {
   "cell_type": "markdown",
   "id": "ce089b40-23e8-47c2-8e2a-badb1a619b2b",
   "metadata": {
    "tags": []
   },
   "source": [
    "même chose pour le format txt:"
   ]
  },
  {
   "cell_type": "code",
   "execution_count": null,
   "id": "7256c130-ba93-4b64-b0b9-90ec0e3f24ee",
   "metadata": {
    "tags": []
   },
   "outputs": [],
   "source": [
    "np.savetxt('fichiers_cours/fichiers/fichiers_crees/mon_numpy.txt', data, delimiter='\\t', fmt='%d')"
   ]
  },
  {
   "cell_type": "markdown",
   "id": "22516185-f053-49b3-bb04-6e67ee327be2",
   "metadata": {},
   "source": [
    "Et pour charger les données:"
   ]
  },
  {
   "cell_type": "code",
   "execution_count": null,
   "id": "56e71485-5c54-4926-a517-c14a60252776",
   "metadata": {
    "tags": []
   },
   "outputs": [],
   "source": [
    "data_lues_np_csv = np.loadtxt('fichiers_cours/fichiers/fichiers_crees/mon_numpy.txt')\n",
    "print(data_lues_np_csv)"
   ]
  },
  {
   "cell_type": "markdown",
   "id": "f5280989-76ac-4e5d-9e8e-def8187f4de0",
   "metadata": {},
   "source": [
    "On a récupéré les données par lignes, pour les récupérer par colonne, il faut utiliser l'argument unpack = True."
   ]
  },
  {
   "cell_type": "code",
   "execution_count": null,
   "id": "68d80c10-fdb7-4094-a3b4-07c7f82ed4b9",
   "metadata": {
    "tags": []
   },
   "outputs": [],
   "source": [
    "data_lues_np_txt = np.loadtxt('fichiers_cours/fichiers/fichiers_crees/mon_numpy.txt', unpack = True)\n",
    "print(data_lues_np_txt)"
   ]
  },
  {
   "cell_type": "markdown",
   "id": "a845b50f-6472-40d8-b2d2-3a33338a70e6",
   "metadata": {},
   "source": [
    "## 8-3-2  Matplotlib"
   ]
  },
  {
   "cell_type": "markdown",
   "id": "0506d06d-e0ff-41ae-9199-f098e6b4974d",
   "metadata": {},
   "source": [
    "Matplotlib offre la possibilité de sauvegarder des graphiques et des figures dans différents formats de fichiers tels que PNG, JPEG, PDF grace à la methode savefig."
   ]
  },
  {
   "cell_type": "code",
   "execution_count": null,
   "id": "518a31cb-d602-44b1-9a00-d22ad3735644",
   "metadata": {
    "tags": []
   },
   "outputs": [],
   "source": [
    "import matplotlib.pyplot as plt\n",
    "import numpy as np\n",
    "# Exemple 1 : Sauvegarde d'un tracé simple en PNG\n",
    "x = np.linspace(0, 10, 100)\n",
    "y = np.sin(x)\n",
    "fig, ax = plt.subplots()\n",
    "ax.plot(x, y)\n",
    "plt.savefig('fichiers_cours/fichiers/fichiers_crees/plot.jpg')"
   ]
  },
  {
   "cell_type": "markdown",
   "id": "cef4e57e-29ea-48da-81f5-d661b7f2bf81",
   "metadata": {},
   "source": [
    "De même , il est possible de charger un fichier image avec matplotlib"
   ]
  },
  {
   "cell_type": "code",
   "execution_count": null,
   "id": "13de35a4-75a6-4824-9435-bf1783164bd1",
   "metadata": {
    "tags": []
   },
   "outputs": [],
   "source": [
    "image = plt.imread('fichiers_cours/fichiers/image.jpg')\n",
    "fig, ax = plt.subplots()\n",
    "ax.imshow(image);"
   ]
  },
  {
   "cell_type": "markdown",
   "id": "2c732606-708a-4b8f-a4df-ebbfdcdbcb2c",
   "metadata": {},
   "source": [
    "## 8-3-3  Module pickle pour fichiers binaires"
   ]
  },
  {
   "cell_type": "markdown",
   "id": "982ed425-3fc5-4514-b7c5-6e02a40e9ce0",
   "metadata": {},
   "source": [
    "Le module **pickle** permet de sauvegarder dans un fichier binaire n'importe quel objet python. On peut l'utiliser pour des listes, dictionnaires, tablaux numpy, pandas dataframe...\n",
    "Reprenons l'exemple d'un Pandas Dataframe:"
   ]
  },
  {
   "cell_type": "code",
   "execution_count": null,
   "id": "6b7e74d4-c614-4ca0-bdd1-a9c74c013f72",
   "metadata": {
    "tags": []
   },
   "outputs": [],
   "source": [
    "import numpy as np\n",
    "import pandas as pd\n",
    "data_array = np.array([[1, 2, 3], [4, 5, 6], [7, 8, 9], [10, 11, 12]])\n",
    "df = pd.DataFrame(data_array)\n",
    "df.index = ['ligne1', 'ligne2', 'ligne3', 'ligne4']\n",
    "df.columns = ['colonne1', 'colonne2', 'colonne3']\n",
    "print(df)"
   ]
  },
  {
   "cell_type": "markdown",
   "id": "6ffe4203-615e-484e-b04d-ab8b933cf817",
   "metadata": {
    "tags": []
   },
   "source": [
    "Créons notre fichier pickle"
   ]
  },
  {
   "cell_type": "code",
   "execution_count": null,
   "id": "e92582ac-1b72-4cf8-ac8f-262048e9a461",
   "metadata": {
    "tags": []
   },
   "outputs": [],
   "source": [
    "import pickle\n",
    "chemin = 'fichiers_cours/fichiers/fichiers_crees/mon_fichier_pkl.pkl'\n",
    "with open(chemin, 'wb') as fichier: #on remarque que ici on est en mode lecture (w) et binaire (b)\n",
    "    pickle.dump(df, fichier)"
   ]
  },
  {
   "cell_type": "markdown",
   "id": "5df36f4b-d6c8-4cd2-bf15-b14758e942ae",
   "metadata": {},
   "source": [
    "Bien sûr, le fichier binaire ne sera pas lisible avec un bloc note. Il faudra le charger à nouveau et le traiter comme un fichier pandas."
   ]
  },
  {
   "cell_type": "code",
   "execution_count": null,
   "id": "087ebc96-b75d-46ee-aa8e-f01c588b5bb0",
   "metadata": {
    "tags": []
   },
   "outputs": [],
   "source": [
    "with open(chemin, 'rb') as fichier:\n",
    "    df_load = pickle.load(fichier)\n",
    "print(df_load)"
   ]
  },
  {
   "cell_type": "markdown",
   "id": "acd764db-14a3-471f-97f9-b625fb446535",
   "metadata": {},
   "source": [
    "## 8-3-4 Autres types de fichiers"
   ]
  },
  {
   "cell_type": "markdown",
   "id": "35f5d2aa-15d8-488b-a2be-5d4097191be2",
   "metadata": {},
   "source": [
    "La methode pickle est quasi universelle pour les objets python, cependant, il existe d'autres types de fichiers qui peuvent avoir des interêts dans certaines situations."
   ]
  },
  {
   "cell_type": "markdown",
   "id": "ae43c5c2-9212-460c-bbbd-afef2a4f7684",
   "metadata": {},
   "source": [
    "| Format de fichier | Intérêt spécifique                                                | Bibliothèque associée      | Avantages                                                           | Limitations                                                                         |\n",
    "|-------------------|-------------------------------------------------------------------|----------------------------|----------------------------------------------------------------------|-------------------------------------------------------------------------------------|\n",
    "| HDF5              | Stockage de données scientifiques complexes et hiérarchiques       | h5py (Python)              | - Prise en charge de structures de données complexes. <br> - Compression des données. <br> - Lecture et écriture efficaces. | - L'apprentissage peut être long... <br> - Certaines fonctionnalités avancées peuvent être complexes. |\n",
    "| JSON              | Stockage de données structurées lisibles par l'homme              | json (Python)              | - Facilité de lecture et d'écriture. <br> - Compatibilité multi-langages. <br> - Prise en charge des types de données courants. | - Moins efficace en termes d'espace de stockage et de performance. <br> - Limité aux types de données simples. |\n",
    "| XML               | Stockage de données structurées                                   | xml.etree.ElementTree (Python) | - Structure hiérarchique. <br> - Compatibilité avec de nombreux langages. <br> - Extensibilité. | - Verbeux, nécessitant souvent plus d'espace de stockage que d'autres formats. <br> - Peut être complexe pour les données non structurées. |\n"
   ]
  },
  {
   "cell_type": "markdown",
   "id": "aa733a38-9070-4361-8927-4bfc7d37ab90",
   "metadata": {},
   "source": [
    "- Ouverture de fichier json"
   ]
  },
  {
   "cell_type": "code",
   "execution_count": null,
   "id": "f2364455-4140-49ea-b766-f68264d3fe19",
   "metadata": {},
   "outputs": [],
   "source": [
    "import json\n",
    "\n",
    "# Chemin vers le fichier JSON\n",
    "chemin = 'fichiers_cours/fichiers/align.json'\n",
    "\n",
    "# Ouvrir le fichier JSON en mode lecture\n",
    "with open(chemin, 'r') as fichier:\n",
    "    # Charger les données JSON dans une variable Python\n",
    "    donnees = json.load(fichier)\n",
    "\n",
    "# Afficher les données\n",
    "print(donnees)"
   ]
  },
  {
   "cell_type": "markdown",
   "id": "a5881a15-9205-4968-a74b-a46a6a395734",
   "metadata": {},
   "source": [
    "Avec Pandas"
   ]
  },
  {
   "cell_type": "code",
   "execution_count": null,
   "id": "266507e1-69ac-4830-af99-020c441c3d21",
   "metadata": {},
   "outputs": [],
   "source": [
    "# Charger le fichier JSON dans un DataFrame pandas\n",
    "donnees = pd.read_json(chemin)\n",
    "\n",
    "# Afficher les premières lignes du DataFrame pour explorer les données\n",
    "donnees.head()"
   ]
  },
  {
   "cell_type": "markdown",
   "id": "399c5066-4727-4fff-84de-885ce1ee6354",
   "metadata": {},
   "source": [
    "- Ouverture de fichier xml"
   ]
  },
  {
   "cell_type": "code",
   "execution_count": null,
   "id": "74673675-227b-4fa5-a88d-d39785da48cc",
   "metadata": {},
   "outputs": [],
   "source": [
    "import xml.etree.ElementTree as ET\n",
    "# Chemin vers le fichier XML\n",
    "chemin = 'fichiers_cours/fichiers/example_file_xml.xml'"
   ]
  },
  {
   "cell_type": "code",
   "execution_count": null,
   "id": "2a9272bc-137f-4eff-97d5-4033f5bddcea",
   "metadata": {},
   "outputs": [],
   "source": [
    "# \"Analyse\" du fichier XML\n",
    "arbre = ET.parse(chemin)\n",
    "print(arbre)"
   ]
  },
  {
   "cell_type": "code",
   "execution_count": null,
   "id": "f8ea49c8-78dd-4f9c-9e30-81c58996689e",
   "metadata": {},
   "outputs": [],
   "source": [
    "# Obtention de la racine de l'arbre XML\n",
    "racine = arbre.getroot()\n",
    "print(racine)"
   ]
  },
  {
   "cell_type": "code",
   "execution_count": null,
   "id": "fb13a37b-0979-4e02-bec8-af55154f2919",
   "metadata": {},
   "outputs": [],
   "source": [
    "# Afficher la balise racine et ses attributs\n",
    "print(f\"Balise racine: {racine.tag}\")\n",
    "print(f\"Attributs de la racine: {racine.attrib}\")\n",
    "print(\"---\")"
   ]
  },
  {
   "cell_type": "code",
   "execution_count": null,
   "id": "1e052c58-86d4-47a3-b3b5-6a9dad0207ed",
   "metadata": {},
   "outputs": [],
   "source": [
    "# Parcourir les éléments enfants de la racine (ici, des livres)\n",
    "for r in racine:\n",
    "    # Afficher le nom de la balise et ses attributs éventuels\n",
    "    print(f\"Balise: {r.tag}, Attributs: {r.attrib}\")\n",
    "    print('***')\n",
    "    # Parcourir les sous-éléments de chaque livre\n",
    "    for element in r:\n",
    "        # Afficher le nom de la sous-balise et son contenu \n",
    "        print(f\"  Sous-balise: {element.tag}, Contenu: {element.text}\")\n",
    "        # Vérifier si l'élément possède des attributs et les afficher\n",
    "        if element.attrib:  # Si l'élément a des attributs, les afficher\n",
    "            print(f\"    Attributs: {element.attrib}\")\n",
    "    \n",
    "    print(\"---\") "
   ]
  },
  {
   "cell_type": "markdown",
   "id": "f274dd7c-839c-47ba-aea6-055022f7b26a",
   "metadata": {},
   "source": [
    "- Ouverture de fichier h5"
   ]
  },
  {
   "cell_type": "code",
   "execution_count": null,
   "id": "50379ee0-13f4-41df-9004-1fcab3359760",
   "metadata": {},
   "outputs": [],
   "source": [
    "import h5py\n",
    "\n",
    "# Chemin vers le fichier h5 contenant le modèle\n",
    "chemin = 'fichiers_cours/fichiers/spectroscopy_data.h5'\n",
    "\n",
    "# Ouvrir le fichier h5 en mode lecture\n",
    "with h5py.File(chemin, 'r') as fichier:\n",
    "    # Afficher les clés du fichier\n",
    "    print(\"Clés du fichier h5 :\", list(fichier.keys()))"
   ]
  },
  {
   "cell_type": "code",
   "execution_count": null,
   "id": "64eee815-7f2c-4bc8-9214-6a14fa0f9141",
   "metadata": {},
   "outputs": [],
   "source": [
    "with h5py.File(chemin, 'r') as fichier:\n",
    "    print(fichier[\"spectroscopy\"].keys())"
   ]
  },
  {
   "cell_type": "code",
   "execution_count": null,
   "id": "a5cd6ad8-f3f7-4de8-a01b-67d78fe624ac",
   "metadata": {},
   "outputs": [],
   "source": [
    "with h5py.File(chemin, 'r') as fichier:\n",
    "    print(fichier[\"spectroscopy\"][\"wavelengths\"].keys())"
   ]
  },
  {
   "cell_type": "markdown",
   "id": "c82052df-955e-4e84-9ca2-996a3fb886e5",
   "metadata": {},
   "source": [
    "On voit que l'on a un objet Dataset, il ne contient pas de clés, mais des valeurs. Affichons toutes les 20 premieres valeurs avec [:20]"
   ]
  },
  {
   "cell_type": "code",
   "execution_count": null,
   "id": "31bb12cd-d766-4e40-91cf-af6f7431e211",
   "metadata": {},
   "outputs": [],
   "source": [
    "with h5py.File(chemin, 'r') as fichier:\n",
    "    print(fichier[\"spectroscopy\"][\"wavelengths\"][:20])"
   ]
  },
  {
   "cell_type": "markdown",
   "id": "5e40349c-7363-4521-8a87-c8aade1ba076",
   "metadata": {},
   "source": [
    "# 8-4 Manipulations avancées de fichier et interaction avec le système d'explotation"
   ]
  },
  {
   "cell_type": "markdown",
   "id": "0bb9be9b-4067-4c66-b223-fcdabc60a6e6",
   "metadata": {},
   "source": [
    "## 8-4-1 os : interaction avec le système d'exploitation"
   ]
  },
  {
   "cell_type": "markdown",
   "id": "2fbdf2f6-8bea-46ab-beea-1646799d759f",
   "metadata": {},
   "source": [
    "Création de répertoire"
   ]
  },
  {
   "cell_type": "code",
   "execution_count": null,
   "id": "7ee4d98b-8d7b-4b46-b865-f58b41f395d4",
   "metadata": {
    "tags": []
   },
   "outputs": [],
   "source": [
    "import os\n",
    "chemin = 'fichiers_cours/fichiers/fichiers_crees/mon_repertoire'\n",
    "os.mkdir(chemin)"
   ]
  },
  {
   "cell_type": "markdown",
   "id": "ab0dc485-af3f-4c65-855a-82d9a526c5c7",
   "metadata": {},
   "source": [
    "Si on tente d'éxecuter à nouveau le code, on a une erreur, car le fichier existe déja, mais on peut tester son existence. "
   ]
  },
  {
   "cell_type": "code",
   "execution_count": null,
   "id": "8a5ad159-a69b-4b1c-9fb4-9ee4f8a5658e",
   "metadata": {
    "tags": []
   },
   "outputs": [],
   "source": [
    "import os\n",
    "chemin = 'fichiers_cours/fichiers/fichiers_crees/mon_repertoire'\n",
    "if os.path.exists(chemin):\n",
    "    print('le dossier existe déja!')\n",
    "else:\n",
    "    os.mkdir(chemin)\n",
    "    print('le dossier a été crée')"
   ]
  },
  {
   "cell_type": "markdown",
   "id": "cb4d3b75-eca1-4581-8c67-be8db3d2451c",
   "metadata": {},
   "source": [
    "De la même manière, on peut effacer des fichiers"
   ]
  },
  {
   "cell_type": "code",
   "execution_count": null,
   "id": "182edace-71a5-453b-a589-f91551b820b9",
   "metadata": {
    "tags": []
   },
   "outputs": [],
   "source": [
    "chemin = 'fichiers_cours/fichiers/fichiers_crees/mon_fichier.txt'\n",
    "if os.path.exists(chemin):\n",
    "    os.remove(chemin)\n",
    "    print('fichier effacé')\n",
    "else:\n",
    "    print('fichier inexistant')"
   ]
  },
  {
   "cell_type": "markdown",
   "id": "367534d5-e9aa-48d1-9513-bf4b5c25f475",
   "metadata": {},
   "source": [
    "On peut renommer un fichier ou un repertoire"
   ]
  },
  {
   "cell_type": "code",
   "execution_count": null,
   "id": "cbfad561-9d92-48fc-9cb0-8a54c40851c0",
   "metadata": {
    "tags": []
   },
   "outputs": [],
   "source": [
    "chemin = 'fichiers_cours/fichiers/fichiers_crees/mon_fichier2.txt'\n",
    "if os.path.exists(chemin):\n",
    "    os.rename(chemin,chemin+'mon_fichier2_new.txt')\n",
    "    print('fichier renommé')\n",
    "else:\n",
    "    print('fichier inexistant')"
   ]
  },
  {
   "cell_type": "markdown",
   "id": "70d0ae6d-38ac-4542-8ac5-dfddf43f9168",
   "metadata": {},
   "source": [
    "On peut obtenir la liste des fichiers contenus dans un dossier"
   ]
  },
  {
   "cell_type": "code",
   "execution_count": null,
   "id": "ea93c8fa-23da-4717-9e5f-0276a2a125b2",
   "metadata": {
    "tags": []
   },
   "outputs": [],
   "source": [
    "chemin = 'fichiers_cours/fichiers/fichiers_crees'\n",
    "os.listdir(chemin)"
   ]
  },
  {
   "cell_type": "markdown",
   "id": "93c7ae2f-16c6-4cb7-b864-4a5a2ee9cd37",
   "metadata": {},
   "source": [
    "On peut assembler des noms de dossier et de fichier pour faire des chemins"
   ]
  },
  {
   "cell_type": "code",
   "execution_count": null,
   "id": "84b8c2d8-9417-42c6-baef-8665097150f2",
   "metadata": {
    "tags": []
   },
   "outputs": [],
   "source": [
    "dossier = 'fichiers_cours/fichiers/fichiers_crees/'\n",
    "fichier = 'mon_fichier1.txt'\n",
    "chemin = os.path.join(dossier,fichier)\n",
    "print(chemin)"
   ]
  },
  {
   "cell_type": "markdown",
   "id": "c3d16e77-f3bf-4dc8-a8d3-7790f21c8711",
   "metadata": {
    "tags": []
   },
   "source": [
    "## 8-4-2 glob : Traitement de fichiers et dossiers en lots"
   ]
  },
  {
   "cell_type": "markdown",
   "id": "c1eb8605-9cf8-4d94-a28a-42807c5db3d7",
   "metadata": {},
   "source": [
    "**glob** permet de parcourir facilement les répertoires et de filtrer les fichiers en fonction de leur nom ou de leur extension."
   ]
  },
  {
   "cell_type": "markdown",
   "id": "7c361272-78d6-4881-a5ff-f94fbc2b7fa2",
   "metadata": {},
   "source": [
    "Lister les fichiers d'un repertoire:  pour afficher tous les fichiers."
   ]
  },
  {
   "cell_type": "code",
   "execution_count": null,
   "id": "1c6a6e77-f120-439d-b844-5187c04af785",
   "metadata": {
    "tags": []
   },
   "outputs": [],
   "source": [
    "import glob\n",
    "\n",
    "# Liste tous les fichiers dans le répertoire \"mes_fichiers\"\n",
    "fichiers = glob.glob('fichiers_cours/fichiers/fichiers_crees/*')\n",
    "\n",
    "# Parcours la liste des fichiers et les affiche\n",
    "for fichier in fichiers:\n",
    "    print(fichier)\n"
   ]
  },
  {
   "cell_type": "markdown",
   "id": "3f6eb4ed-5e47-4a3e-a404-61c841803ead",
   "metadata": {},
   "source": [
    "On peut limiter à un type de fichier, demandons ici uniquement les fichiers pickle"
   ]
  },
  {
   "cell_type": "code",
   "execution_count": null,
   "id": "cdfa308a-4d68-42dd-b96a-ccd63f45b65a",
   "metadata": {
    "tags": []
   },
   "outputs": [],
   "source": [
    "# Liste tous les fichiers texte dans le répertoire \"mes_fichiers\"\n",
    "fichiers_texte = glob.glob('fichiers_cours/fichiers/fichiers_crees/*.pkl')\n",
    "\n",
    "# Parcours la liste des fichiers et les affiche\n",
    "for fichier in fichiers_texte:\n",
    "    print(fichier)\n"
   ]
  },
  {
   "cell_type": "markdown",
   "id": "346a77b1-b4ce-495d-a917-663f46be0348",
   "metadata": {},
   "source": [
    "On peut réaliser des opérations de tri, par exemple par date avec key=os.path.getmtime:"
   ]
  },
  {
   "cell_type": "code",
   "execution_count": null,
   "id": "38cd649d-f340-4a14-9561-f9a710d1b5d2",
   "metadata": {
    "tags": []
   },
   "outputs": [],
   "source": [
    "# Définir le chemin du répertoire\n",
    "chemin = 'fichiers_cours/fichiers/fichiers_crees/'\n",
    "\n",
    "# Obtenir la liste des fichiers dans le répertoire\n",
    "fichiers = glob.glob(os.path.join(chemin, '*'))\n",
    "\n",
    "# Trier les fichiers par date de modification\n",
    "fichiers_tries_par_date = sorted(fichiers, key=os.path.getmtime)\n",
    "\n",
    "# Afficher les fichiers triés par date\n",
    "for fichier in fichiers_tries_par_date:\n",
    "    print(fichier)"
   ]
  },
  {
   "cell_type": "markdown",
   "id": "def30fb7-387d-4f8b-9fc3-b3cac76e4dcd",
   "metadata": {},
   "source": [
    "ou par nom avec key=os.path.basename:"
   ]
  },
  {
   "cell_type": "code",
   "execution_count": null,
   "id": "b4c25261-5ceb-435a-ac62-727dfac1f208",
   "metadata": {
    "tags": []
   },
   "outputs": [],
   "source": [
    "# Obtenir la liste des fichiers dans le répertoire\n",
    "fichiers = glob.glob(os.path.join(chemin, '*'))\n",
    "\n",
    "# Trier les fichiers par nom\n",
    "fichiers_tries_par_nom = sorted(fichiers, key=os.path.basename)\n",
    "\n",
    "# Afficher les fichiers triés par nom\n",
    "for fichier in fichiers_tries_par_nom:\n",
    "    print(fichier)"
   ]
  },
  {
   "cell_type": "markdown",
   "id": "73447798-04b7-4323-8f60-72e305ae856d",
   "metadata": {},
   "source": [
    "Il existe bien sûr de nombreuses autres fonctions pour os et glob..."
   ]
  },
  {
   "cell_type": "markdown",
   "id": "a6742171-350f-4945-82b5-485f75bc9e66",
   "metadata": {},
   "source": [
    "[Exercices 1 et 2](exercices/Exercices8.ipynb)"
   ]
  }
 ],
 "metadata": {
  "kernelspec": {
   "display_name": "Python 3 (ipykernel)",
   "language": "python",
   "name": "python3"
  },
  "language_info": {
   "codemirror_mode": {
    "name": "ipython",
    "version": 3
   },
   "file_extension": ".py",
   "mimetype": "text/x-python",
   "name": "python",
   "nbconvert_exporter": "python",
   "pygments_lexer": "ipython3",
   "version": "3.12.1"
  }
 },
 "nbformat": 4,
 "nbformat_minor": 5
}
