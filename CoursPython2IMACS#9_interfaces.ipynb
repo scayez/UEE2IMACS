{
 "cells": [
  {
   "cell_type": "markdown",
   "id": "7eabf2be-df5e-4ed9-b4c4-ee6a2d23c641",
   "metadata": {},
   "source": [
    "***\n",
    "# **<center>COURS PYTHON 2IMACS #9</center>**\n",
    "# ***<center>Interfaces graphiques</center>***\n",
    "\n",
    "***"
   ]
  },
  {
   "cell_type": "markdown",
   "id": "d7abfbd0-8af5-4785-8835-5b2bedd66064",
   "metadata": {},
   "source": [
    "Jusqu'à maintenant, lorsque nous avons crée des notebooks, nous avons fait varier nos valeurs de variables, nos noms de fichiers et les autres paramètres d'entrée dans les lignes de notre code.  \n",
    "Lorsque les codes sont amenés à être utilisés par d'autres utilisateurs, il est pertient de rendre nos programmes interactifs. Nous allons explorer les differentes manières de le faire d'abord dans des notebooks, ensuite par la créations d'interfaces homme machine (IHM) avec PyQt."
   ]
  },
  {
   "cell_type": "markdown",
   "id": "8dac28c6-f91b-4e2f-b4bc-bbe016321ce6",
   "metadata": {},
   "source": [
    "# 9-1 Widgets Jupyter Notebooks"
   ]
  },
  {
   "cell_type": "markdown",
   "id": "8a3e5791-42dd-468e-bbca-f1796f4372b0",
   "metadata": {},
   "source": [
    "La bibliothèque ipywidgets contient de nombreux widgets que l'on pourra intercaler dans nos notebooks."
   ]
  },
  {
   "cell_type": "code",
   "execution_count": null,
   "id": "dcd78867-f7eb-440f-9edf-eb94b498413b",
   "metadata": {},
   "outputs": [],
   "source": [
    "import ipywidgets as widgets"
   ]
  },
  {
   "cell_type": "markdown",
   "id": "2a321b2c-1fed-4791-beea-5d461c63b9e8",
   "metadata": {},
   "source": [
    "## 9-1-1 Sliders"
   ]
  },
  {
   "cell_type": "markdown",
   "id": "adba8f6e-4cdf-4f69-8444-c973cf41304b",
   "metadata": {},
   "source": [
    "Les **Sliders** permettent de faire varier une valeur en continue sur une plage donnée. On pourra ajuster le pas."
   ]
  },
  {
   "cell_type": "code",
   "execution_count": null,
   "id": "ea4ac6c7-1b4a-4bbe-b2ab-3b3be7a38a2a",
   "metadata": {},
   "outputs": [],
   "source": [
    "from IPython.display import display\n",
    "w = widgets.IntSlider()\n",
    "display(w)"
   ]
  },
  {
   "cell_type": "code",
   "execution_count": null,
   "id": "3ed88221-eb76-49f7-8b82-b6cc8a8d6ee5",
   "metadata": {},
   "outputs": [],
   "source": [
    "# recuperer la valeur\n",
    "print(w.value)"
   ]
  },
  {
   "cell_type": "markdown",
   "id": "d4883c02-e653-44dd-a059-56df8a2420fe",
   "metadata": {},
   "source": [
    "Dans le cas des Sliders, on aura généralement besoin d'utiliser la valeur renvoyée en \"temps réel\". Nous utiliserons une fonction que nous connecterons au slider avec **interact**"
   ]
  },
  {
   "cell_type": "code",
   "execution_count": null,
   "id": "75659c96-ea29-4193-86a4-40b13096e1a1",
   "metadata": {},
   "outputs": [],
   "source": [
    "from ipywidgets import IntSlider, interact\n",
    "\n",
    "# Définir une fonction qui imprime la valeur du curseur\n",
    "def print_slider_value(value):\n",
    "    print('valeur = ',value)\n",
    "    print('2xvaleur = ',2*value)\n",
    "\n",
    "# Créer un curseur de type IntSlider\n",
    "slider = IntSlider()\n",
    "\n",
    "# Utiliser la fonction interact pour connecter la valeur du curseur à la fonction d'impression\n",
    "interact(print_slider_value, value=slider);\n"
   ]
  },
  {
   "cell_type": "markdown",
   "id": "6fe828dd-6cde-45c9-91f2-16cf59dc5b83",
   "metadata": {},
   "source": [
    "On a accès à un cerain nombre de propriétés du slider"
   ]
  },
  {
   "cell_type": "code",
   "execution_count": null,
   "id": "a3fd3b71-fc92-487d-8c6c-10fc5bd6f7cf",
   "metadata": {},
   "outputs": [],
   "source": [
    "from IPython.display import display\n",
    "import ipywidgets as widgets\n",
    "\n",
    "# Créer un slider avec différentes propriétés configurées\n",
    "slider = widgets.IntSlider(\n",
    "    value=5,  # Valeur initiale\n",
    "    min=0,    # Valeur minimale\n",
    "    max=10,   # Valeur maximale\n",
    "    step=1,   # Incrément/decrement à chaque pas\n",
    "    description='Valeur :',  # Description affichée à côté du slider\n",
    "    orientation='vertical',  # Orientation du slider (horizontal ou vertical)\n",
    "    style =  {'handle_color': 'red'}  # Définir la couleur du curseur\n",
    ")\n",
    "\n",
    "# Afficher le slider\n",
    "display(slider)\n"
   ]
  },
  {
   "cell_type": "markdown",
   "id": "2f688b60-b49e-444a-ba56-45155b19ca05",
   "metadata": {},
   "source": [
    "## 9-1-2 Progressbar"
   ]
  },
  {
   "cell_type": "markdown",
   "id": "15754747-998c-4161-8a39-dc32535f655d",
   "metadata": {},
   "source": [
    "Lors d'un processus long, il est appréciable pour l'utilisateur d'avoir une information sur l'avancement, c'est le rôle de le **progressbar**"
   ]
  },
  {
   "cell_type": "code",
   "execution_count": null,
   "id": "92b1312b-d365-416f-85d0-3eb1e2d2f60d",
   "metadata": {},
   "outputs": [],
   "source": [
    "widgets.IntProgress(\n",
    "    value=7,\n",
    "    min=0,\n",
    "    max=10,\n",
    "    description='Loading:',\n",
    "    bar_style='',\n",
    "    style={'bar_color': 'yellow'},\n",
    "    orientation='horizontal'\n",
    ")"
   ]
  },
  {
   "cell_type": "markdown",
   "id": "85fc8653-c6b3-42ef-9e0d-70ceaecb543a",
   "metadata": {},
   "source": [
    "La valeur de la **progressbar** est fixée par un compteur dans une boucle"
   ]
  },
  {
   "cell_type": "code",
   "execution_count": null,
   "id": "2e8e8919-fd14-4a60-85f0-8f3f0a1f8e28",
   "metadata": {},
   "outputs": [],
   "source": [
    "from IPython.display import display, clear_output\n",
    "import ipywidgets as widgets\n",
    "import time\n",
    "\n",
    "# Créer le widget de barre de progression\n",
    "progress_bar = widgets.IntProgress(\n",
    "    value=0,\n",
    "    min=0,\n",
    "    max=10,\n",
    "    description='Loading:',\n",
    "    bar_style='info',\n",
    "    style={'bar_color': 'yellow'},\n",
    "    orientation='horizontal'\n",
    ")\n",
    "\n",
    "# Afficher le widget de barre de progression\n",
    "display(progress_bar)\n",
    "\n",
    "# Boucle pour simuler une progression\n",
    "for i in range(11):\n",
    "    progress_bar.value = i  # Mettre à jour la valeur de la barre de progression\n",
    "    time.sleep(0.5)  # Pause pour simuler un traitement\n",
    "\n",
    "    # Effacer la sortie précédente et afficher la nouvelle barre de progression\n",
    "    clear_output(wait=True)\n",
    "    display(progress_bar)\n",
    "print('Fini!')"
   ]
  },
  {
   "cell_type": "markdown",
   "id": "edbc45e6-5030-42c7-882f-573719a5e01b",
   "metadata": {},
   "source": [
    "## 9-1-3 Checkbox"
   ]
  },
  {
   "cell_type": "markdown",
   "id": "aa64ae7a-8eeb-4ab3-bb96-5546597ffefc",
   "metadata": {},
   "source": [
    "Pour mettre un valeur à True ou False, on utilisera une **checkbox**"
   ]
  },
  {
   "cell_type": "code",
   "execution_count": null,
   "id": "4c73b1eb-8568-4885-82c2-3586d3f493d3",
   "metadata": {},
   "outputs": [],
   "source": [
    "widgets.Checkbox(\n",
    "    value=False,\n",
    "    description='Check me',\n",
    "    disabled=False,\n",
    "    indent=False\n",
    ")"
   ]
  },
  {
   "cell_type": "code",
   "execution_count": null,
   "id": "3bf22884-db3f-4440-91f5-35ae332b136a",
   "metadata": {},
   "outputs": [],
   "source": [
    "# Créer le widget de case à cocher\n",
    "checkbox = widgets.Checkbox(\n",
    "    value=False,\n",
    "    description='Check me',\n",
    "    disabled=False,\n",
    "    indent=False\n",
    ")\n",
    "\n",
    "# Fonction pour effectuer des actions en fonction de l'état de la case à cocher\n",
    "def check_checkbox_value(value):\n",
    "    if value:\n",
    "        print(\"La case est cochée. Action 1.\")\n",
    "    else:\n",
    "        print(\"La case n'est pas cochée. Action 2.\")\n",
    "\n",
    "# Utiliser interact pour lier la fonction à la valeur de la case à cocher\n",
    "interact(check_checkbox_value, value=checkbox);\n"
   ]
  },
  {
   "cell_type": "markdown",
   "id": "615f0d90-8060-4823-9f13-a78bc90f7643",
   "metadata": {},
   "source": [
    "## 9-1-4 Dropdown"
   ]
  },
  {
   "cell_type": "markdown",
   "id": "ea61398f-f88d-4f4e-b264-f389506adf8a",
   "metadata": {},
   "source": [
    "Lorsque le nombre de choix et superieur à 2, on utilsera un **dropdown**"
   ]
  },
  {
   "cell_type": "code",
   "execution_count": null,
   "id": "b4609ad9-9305-4cec-b132-1860e283e0d3",
   "metadata": {},
   "outputs": [],
   "source": [
    "from ipywidgets import Dropdown\n",
    "# Créer le widget de dropdown\n",
    "dropdown = Dropdown(\n",
    "    options=[('One', 1), ('Two', 2), ('Three', 3)],\n",
    "    value=2,\n",
    "    description='Number:',\n",
    ")\n",
    "\n",
    "# Afficher le widget de dropdown\n",
    "display(dropdown)"
   ]
  },
  {
   "cell_type": "code",
   "execution_count": null,
   "id": "eab3892d-286f-4688-aa83-64bb250c12cd",
   "metadata": {},
   "outputs": [],
   "source": [
    "# Récupérer le choix sélectionné\n",
    "choix = dropdown.value\n",
    "\n",
    "# Afficher le choix\n",
    "print(\"Le choix sélectionné est :\", choix)"
   ]
  },
  {
   "cell_type": "markdown",
   "id": "04748222-ac73-475c-8d7d-9c4d9d5a33fd",
   "metadata": {},
   "source": [
    "## 9-1-5 Bouton"
   ]
  },
  {
   "cell_type": "markdown",
   "id": "6b2237ab-1ec9-485d-b954-4d80d8f5e780",
   "metadata": {},
   "source": [
    "Pour déclancher une action qui sera contenue dans une fonction, on utilisera un bouton (**ToggleButton**)"
   ]
  },
  {
   "cell_type": "code",
   "execution_count": null,
   "id": "f19ce07b-1ea6-4db1-850c-c711f0479af5",
   "metadata": {},
   "outputs": [],
   "source": [
    "widgets.ToggleButton(\n",
    "    value=False,\n",
    "    description='Click me',\n",
    "    disabled=False,\n",
    "    button_style='', # 'success', 'info', 'warning', 'danger' or ''\n",
    "    tooltip='Description',\n",
    "    icon='check' \n",
    ")"
   ]
  },
  {
   "cell_type": "markdown",
   "id": "32eb21e2-ca0e-4625-ac31-24d60cf63ea2",
   "metadata": {},
   "source": [
    "On relie l'action de cliquer sur le bouton à la fonction clic_bouton. Ici on utilise une sortie **Output** ."
   ]
  },
  {
   "cell_type": "code",
   "execution_count": null,
   "id": "d01b3264-bc51-42e7-ac17-bf202f0a5153",
   "metadata": {},
   "outputs": [],
   "source": [
    "from ipywidgets import Button, Output\n",
    "\n",
    "# Créer le bouton et le widget de sortie\n",
    "button = Button(description=\"Click Me!\")\n",
    "output = Output()\n",
    "\n",
    "# Définir la fonction à exécuter lorsque le bouton est cliqué\n",
    "def clic_bouton(b):\n",
    "    with output:\n",
    "        print(\"Button clicked.\")\n",
    "\n",
    "# Lier la fonction à l'événement de clic du bouton\n",
    "button.on_click(clic_bouton)\n",
    "\n",
    "# Afficher le bouton\n",
    "display(button)\n",
    "\n",
    "# Afficher la sortie\n",
    "display(output)\n"
   ]
  },
  {
   "cell_type": "markdown",
   "id": "f6157c9d-ab09-4d7a-b3ed-7edfdc18e6ae",
   "metadata": {},
   "source": [
    "## 9-1-6 Sélection de fichiers"
   ]
  },
  {
   "cell_type": "markdown",
   "id": "bf2a3e56-8a71-4415-a549-d8e7b41e587f",
   "metadata": {},
   "source": [
    "Pour ouvrir les fichiers, on utilisera **FileUpload**"
   ]
  },
  {
   "cell_type": "markdown",
   "id": "ff5afb87-ab29-44af-97b6-778e4bf2c910",
   "metadata": {},
   "source": [
    "Ouvrir des fichiers"
   ]
  },
  {
   "cell_type": "code",
   "execution_count": null,
   "id": "b6f19bee-523b-480c-9475-1807f164c181",
   "metadata": {},
   "outputs": [],
   "source": [
    "from ipywidgets import FileUpload\n",
    "\n",
    "# Créer le widget FileUpload pour télécharger des fichiers\n",
    "file_upload = FileUpload()\n",
    "\n",
    "# Afficher le widget FileUpload\n",
    "file_upload\n"
   ]
  },
  {
   "cell_type": "markdown",
   "id": "c2d2d703-dab0-4a09-8fb8-e64a6fb0674b",
   "metadata": {},
   "source": [
    "regardons ce que renvoie **FileUpload()**"
   ]
  },
  {
   "cell_type": "code",
   "execution_count": null,
   "id": "109197c8-411c-48bc-9c8c-7f227f9a6c17",
   "metadata": {},
   "outputs": [],
   "source": [
    "print(file_upload.value)"
   ]
  },
  {
   "cell_type": "markdown",
   "id": "709d1033-b13d-4f29-91e9-8998ecdc81fa",
   "metadata": {},
   "source": [
    "C'est un tuple contenant diverses informations sur le fichier. Selectionnons le premier élément."
   ]
  },
  {
   "cell_type": "code",
   "execution_count": null,
   "id": "caf5a647-830e-4d6c-b726-c0e0028bb23e",
   "metadata": {},
   "outputs": [],
   "source": [
    "if file_upload.value:\n",
    "    uploaded_file_info = file_upload.value[0]\n",
    "    print(file_upload.value[0])"
   ]
  },
  {
   "cell_type": "markdown",
   "id": "6ffe5735-7199-49e4-b16e-3d77db4c7aa7",
   "metadata": {},
   "source": [
    "Récupérons le nom de fichier"
   ]
  },
  {
   "cell_type": "code",
   "execution_count": null,
   "id": "69622a57-fe48-4936-8bac-bf42f03af031",
   "metadata": {},
   "outputs": [],
   "source": [
    "if file_upload.value:\n",
    "    uploaded_filename = uploaded_file_info['name']\n",
    "    print(uploaded_filename)"
   ]
  },
  {
   "cell_type": "markdown",
   "id": "5b94b89e-cc85-4a59-b325-d1d05274700c",
   "metadata": {},
   "source": [
    "Son contenu. Ici on récupère son emplacement en mémoire"
   ]
  },
  {
   "cell_type": "code",
   "execution_count": null,
   "id": "b630fbe7-8d42-427a-8615-98be9841b552",
   "metadata": {},
   "outputs": [],
   "source": [
    "if file_upload.value:\n",
    "    uploaded_file_content = uploaded_file_info['content']\n",
    "    print(uploaded_file_content)"
   ]
  },
  {
   "cell_type": "markdown",
   "id": "d0a43d4f-fdb3-4cf5-a804-a04b8e007772",
   "metadata": {},
   "source": [
    "Convertissons le contenu en texte"
   ]
  },
  {
   "cell_type": "code",
   "execution_count": null,
   "id": "2a7277c0-c15e-4d0f-a284-603c0fca7a61",
   "metadata": {},
   "outputs": [],
   "source": [
    "# Convertir le contenu en une chaîne de texte (vous pouvez également le manipuler d'autres façons selon le type de fichier)\n",
    "if file_upload.value:\n",
    "    uploaded_file_text = uploaded_file_content.tobytes().decode('utf-8')\n",
    "    print(uploaded_file_text)"
   ]
  },
  {
   "cell_type": "markdown",
   "id": "c856c1aa-41b8-47ba-8077-ff1e2d0c7be7",
   "metadata": {},
   "source": [
    "# 9-2 PyQt"
   ]
  },
  {
   "cell_type": "markdown",
   "id": "bad71043-cd66-4924-bdd4-c47f12806c70",
   "metadata": {},
   "source": [
    "Dans la section précédente, on a vu comment insérer des widgets dans un notebook, mais on laisse l'accès au code à l'utilisateur. On peut choisir de travailler avec des fenêtres. Nous verrons ici comment utiliser PyQt."
   ]
  },
  {
   "cell_type": "markdown",
   "id": "415fb2b8-b558-4733-80b6-471558e61e50",
   "metadata": {},
   "source": [
    "Lancer Spyder:"
   ]
  },
  {
   "cell_type": "markdown",
   "id": "f94ce4e2-5a0a-4ec5-a840-3c79723aef16",
   "metadata": {},
   "source": [
    "![spyder](fichiers_cours/interfaces/pyqt/capture2.png)"
   ]
  },
  {
   "cell_type": "markdown",
   "id": "72731bbc-d069-4f7f-b621-c0cfa3b92f7d",
   "metadata": {},
   "source": [
    "## 9-2-1 Création d'une fenetre"
   ]
  },
  {
   "cell_type": "markdown",
   "id": "b5d9e9ad-27e3-46b4-aa31-8ff8291ffd71",
   "metadata": {},
   "source": [
    "Avec le code suivant créons notre premiere fenêtre"
   ]
  },
  {
   "cell_type": "markdown",
   "id": "28b9cd83-8c08-4962-a6f1-7ec3df1d8d46",
   "metadata": {},
   "source": [
    "```python\n",
    "# Importation du module sys pour accéder aux arguments de la ligne de commande\n",
    "import sys\n",
    "# Importation de la classe QtWidgets de PyQt5\n",
    "from PyQt5 import QtWidgets  \n",
    "# Définition d'une nouvelle classe MyWindow qui hérite de QMainWindow\n",
    "class MyWindow(QtWidgets.QMainWindow):  \n",
    "    def __init__(self):  # Initialisation de la classe\n",
    "        super().__init__()  # Appel de l'initialisation de la classe parent QMainWindow\n",
    "        self.setWindowTitle(\"Ma Fenêtre\")  # Définition du titre de la fenêtre\n",
    "        self.setGeometry(100, 100, 400, 200)  # Définition de la position et de la taille de la fenêtre\n",
    "\n",
    "if __name__ == \"__main__\":  # Point d'entrée du programme\n",
    "    app = QtWidgets.QApplication(sys.argv)  # Création d'une instance de QApplication avec les arguments du programme\n",
    "    window = MyWindow()  # Création d'une instance de la classe MyWindow\n",
    "    window.show()  # Affichage de la fenêtre\n",
    "    sys.exit(app.exec_())  # Boucle principale de l'application PyQt, qui attend que l'application se termine avant de quitter\n",
    "```"
   ]
  },
  {
   "cell_type": "code",
   "execution_count": null,
   "id": "b68c015f-ffd5-48f0-beb2-55eeba6ac09d",
   "metadata": {},
   "outputs": [],
   "source": [
    "%run fichiers_cours/interfaces/prog_interface_0.py"
   ]
  },
  {
   "cell_type": "markdown",
   "id": "3c22fee6-b0a5-428a-98c9-697f5c863839",
   "metadata": {},
   "source": [
    "Ajoutons un bouton"
   ]
  },
  {
   "cell_type": "markdown",
   "id": "923236c0-1e33-465f-b4b2-f3417cd32b84",
   "metadata": {},
   "source": [
    "```python\n",
    "import sys\n",
    "from PyQt5 import QtWidgets\n",
    "\n",
    "class MyWindow(QtWidgets.QMainWindow):\n",
    "    def __init__(self):\n",
    "        super().__init__()\n",
    "        self.setWindowTitle(\"Ma Fenêtre\")\n",
    "        self.setGeometry(100, 100, 400, 200)\n",
    "\n",
    "        # Création d'un bouton\n",
    "        self.button = QtWidgets.QPushButton(\"Cliquez moi !\", self) #<======\n",
    "        self.button.setGeometry(150, 80, 100, 30) #<======\n",
    "\n",
    "if __name__ == \"__main__\":\n",
    "    app = QtWidgets.QApplication(sys.argv)\n",
    "    window = MyWindow()\n",
    "    window.show()\n",
    "    sys.exit(app.exec_())\n",
    "```"
   ]
  },
  {
   "cell_type": "code",
   "execution_count": null,
   "id": "cd9bd296-3a6e-4788-a94a-8914bacddfcf",
   "metadata": {},
   "outputs": [],
   "source": [
    "%run fichiers_cours/interfaces/prog_interface_1.py"
   ]
  },
  {
   "cell_type": "markdown",
   "id": "1658f33e-dab7-4391-9c9e-ac970c2b1c3e",
   "metadata": {},
   "source": [
    "Nous allons maintenant relier ce bouton à une fonction quit"
   ]
  },
  {
   "cell_type": "markdown",
   "id": "af452818-f032-4634-b7ea-cd64951f87b8",
   "metadata": {},
   "source": [
    "```python\n",
    "import sys\n",
    "from PyQt5 import QtWidgets\n",
    "\n",
    "class MyWindow(QtWidgets.QMainWindow):\n",
    "    def __init__(self):\n",
    "        super().__init__()\n",
    "        self.setWindowTitle(\"Ma Fenêtre\")\n",
    "        self.setGeometry(100, 100, 400, 200)\n",
    "\n",
    "        # Création d'un bouton\n",
    "        self.button = QtWidgets.QPushButton(\"Quit\", self)\n",
    "        self.button.setGeometry(150, 80, 100, 30)\n",
    "\n",
    "        # Connexion du clic du bouton à la fonction quit\n",
    "        self.button.clicked.connect(self.quit) #<======\n",
    "\n",
    "    # Définition de la fonction quit\n",
    "    def quit(self): #<======\n",
    "        print('Quit')\n",
    "        self.close() #<======\n",
    "\n",
    "if __name__ == \"__main__\":\n",
    "    app = QtWidgets.QApplication(sys.argv)\n",
    "    window = MyWindow()\n",
    "    window.show()\n",
    "    sys.exit(app.exec_())\n",
    "```"
   ]
  },
  {
   "cell_type": "code",
   "execution_count": null,
   "id": "92c93c39-a0a9-4d22-91f9-d2d3f5a0d102",
   "metadata": {},
   "outputs": [],
   "source": [
    "%run fichiers_cours/interfaces/prog_interface_2.py"
   ]
  },
  {
   "cell_type": "markdown",
   "id": "1c589bbd-d402-4365-a492-c67e9f60141f",
   "metadata": {},
   "source": [
    "On peut très bien construire l'ensemble de nos fenêtres avec cette méthode, mais l'outil **designer** apporte une aide precieuse pour l'agencement de nos fenêtre et permet facilement de déporter la partie du code dédiée à l'interface graphique dans un fichier séparé."
   ]
  },
  {
   "cell_type": "markdown",
   "id": "a0ab35e9-f6bb-454d-94d6-c01c46815513",
   "metadata": {},
   "source": [
    "## 9-2-2 Designer"
   ]
  },
  {
   "cell_type": "markdown",
   "id": "48f35d8a-8781-4f98-aba9-e210ff5d267d",
   "metadata": {},
   "source": [
    "Lancer designer à partir du menu démarrer. (ou avec la commande **designer** pour une installation conda)."
   ]
  },
  {
   "cell_type": "markdown",
   "id": "de1c68e9-8019-4f5e-a4b4-79d8a9f23782",
   "metadata": {
    "tags": []
   },
   "source": [
    "![designer](fichiers_cours/interfaces/pyqt/capture1.png)"
   ]
  },
  {
   "cell_type": "markdown",
   "id": "5c0032a5-596e-4a8d-a549-dba91b561da4",
   "metadata": {
    "tags": []
   },
   "source": [
    "Créer une nouvelle MainWindow"
   ]
  },
  {
   "cell_type": "markdown",
   "id": "77d65928-291d-4431-b528-69ede45b94d9",
   "metadata": {
    "tags": []
   },
   "source": [
    "![designer](fichiers_cours/interfaces/pyqt/Capture4.png)"
   ]
  },
  {
   "cell_type": "markdown",
   "id": "d3118403-85bd-42be-bf15-8707e1c3a3cb",
   "metadata": {},
   "source": [
    "Et la sauver sous mon_interface0.ui"
   ]
  },
  {
   "cell_type": "markdown",
   "id": "57cbadf4-394f-4fa9-a489-0940eb75975b",
   "metadata": {
    "tags": []
   },
   "source": [
    "![designer](fichiers_cours/interfaces/pyqt/Capture5.png)"
   ]
  },
  {
   "cell_type": "markdown",
   "id": "a5614464-0e16-47a6-b85e-6a161fd8d5c9",
   "metadata": {},
   "source": [
    "Dans Spyder coller le code suivant et enregistrer le fichier sous le nom \"prog_interface3.py\" dans LE MÊME DOSSIER que mon_interface0.ui"
   ]
  },
  {
   "cell_type": "markdown",
   "id": "f1524281-acd0-4e63-a7f9-ffaaea9130f0",
   "metadata": {
    "tags": []
   },
   "source": [
    "```python\n",
    "import sys\n",
    "from PyQt5 import   QtWidgets, uic\n",
    "\n",
    "\n",
    "qtCreatorFile = \"mon_interface0.ui\" \n",
    "Ui_MainWindow, QtBaseClass = uic.loadUiType(qtCreatorFile)\n",
    "\n",
    "\n",
    "class MyWindow(QtWidgets.QMainWindow, Ui_MainWindow):\n",
    "    def __init__(self):\n",
    "        QtWidgets.QMainWindow.__init__(self)\n",
    "        Ui_MainWindow.__init__(self)\n",
    "        self.setupUi(self)\n",
    "        \n",
    "\n",
    "\n",
    "if __name__ == \"__main__\":\n",
    "    app = QtWidgets.QApplication(sys.argv)\n",
    "    window = MyWindow()\n",
    "    window.show()\n",
    "    sys.exit(app.exec_())\n",
    "```"
   ]
  },
  {
   "cell_type": "markdown",
   "id": "628435f9-bac8-4ebc-85e8-be7a09b9f8fe",
   "metadata": {},
   "source": [
    "Avec les commentaires"
   ]
  },
  {
   "cell_type": "markdown",
   "id": "a36c2d95-a1f1-4e2a-8342-23ca9d448c04",
   "metadata": {},
   "source": [
    "```python\n",
    "# Importer le module système sys qui fournit un accès à certaines \n",
    "# variables utilisées ou maintenues par l'interpréteur et à des fonctions\n",
    "# qui interagissent fortement avec l'interpréteur.\n",
    "import sys\n",
    "\n",
    "# Importer les modules QtWidgets et uic de la bibliothèque PyQt5. QtWidgets \n",
    "# contient des classes pour créer des interfaces graphiques, tandis que uic \n",
    "# est utilisé pour charger l'interface utilisateur à partir d'un fichier .ui généré par Qt Designer.\n",
    "\n",
    "from PyQt5 import QtWidgets, uic\n",
    "\n",
    "\n",
    "# Spécifier le nom du fichier .ui généré par Qt Designer. Assurez-vous de mettre le bon nom de fichier ici.\n",
    "qtCreatorFile = \"mon_interface0.ui\"\n",
    "\n",
    "# Charger l'interface utilisateur à partir du fichier .ui et renvoyer deux classes : Ui_MainWindow qui \n",
    "# représente la fenêtre principale de l'interface utilisateur, et QtBaseClass qui est une classe de base pour \n",
    "# créer la fenêtre principale de l'application.\n",
    "\n",
    "Ui_MainWindow, QtBaseClass = uic.loadUiType(qtCreatorFile)\n",
    "\n",
    "\n",
    " # Définir une nouvelle classe MyWindow qui hérite à la fois de la classe QtWidgets.QMainWindow et de la classe Ui_MainWindow.\n",
    "class MyWindow(QtWidgets.QMainWindow, Ui_MainWindow):\n",
    "   \n",
    "# Initialisation de la classe MyWindow (implique l'initialisation des classes parentes QtWidgets.QMainWindow\n",
    "# et Ui_MainWindow, ainsi que l'appel à self.setupUi(self) pour configurer l'interface utilisateur à \n",
    "# l'intérieur de la fenêtre principale.\n",
    "    def __init__(self):\n",
    "\n",
    "        QtWidgets.QMainWindow.__init__(self)\n",
    "        Ui_MainWindow.__init__(self)\n",
    "        self.setupUi(self)\n",
    "\n",
    "\n",
    " # Vérifier si le script est exécuté directement et non importé en tant que module.\n",
    "if __name__ == \"__main__\":\n",
    "    # Créer une instance de l'application Qt. sys.argv est une liste d'arguments de ligne de commande, et QApplication \n",
    "    # les utilise pour initialiser l'application.\n",
    "    app = QtWidgets.QApplication(sys.argv)\n",
    "    # Créer une instance de la classe MyWindow.\n",
    "    window = MyWindow()\n",
    "    # Afficher la fenêtre à l'écran.\n",
    "    window.show()\n",
    "    # Exécuter la boucle principale de l'application Qt jusqu'à ce que l'application se termine, puis renvoyer le code de sortie approprié.\n",
    "    sys.exit(app.exec_())\n",
    "```    "
   ]
  },
  {
   "cell_type": "markdown",
   "id": "e425e7b8-1d3c-42c8-b971-d153e6bb499a",
   "metadata": {
    "tags": []
   },
   "source": [
    "Et éxecuter:"
   ]
  },
  {
   "cell_type": "markdown",
   "id": "2cf006a3-278b-425f-a67f-3750059f2d21",
   "metadata": {
    "tags": []
   },
   "source": [
    "![designer](fichiers_cours/interfaces/pyqt/Capture6.png)"
   ]
  },
  {
   "cell_type": "code",
   "execution_count": null,
   "id": "521927a4-abc4-4835-ae3f-31abb6f30b53",
   "metadata": {},
   "outputs": [],
   "source": [
    "%run fichiers_cours/interfaces/prog_interface_3.py"
   ]
  },
  {
   "cell_type": "markdown",
   "id": "f0857fa4-b6c6-4e5e-8605-c59ab85ab103",
   "metadata": {
    "tags": []
   },
   "source": [
    "Vous devriez obtenir une fenêtre"
   ]
  },
  {
   "cell_type": "markdown",
   "id": "a3b5fa96-da64-4dee-a70d-86d3b0f3b34c",
   "metadata": {},
   "source": [
    "![designer](fichiers_cours/interfaces/pyqt/Capture7.png)"
   ]
  },
  {
   "cell_type": "markdown",
   "id": "6c86cf95-9a97-4194-9892-d8256f6bbd4b",
   "metadata": {},
   "source": [
    "Dans certaines configurations, pour relancer par la suite, vous pourriez avoir besoin de redemarrer le noyau c'est dû à une mauvaise fermeture de la fenêtre:"
   ]
  },
  {
   "cell_type": "markdown",
   "id": "0a133f9a-3e0f-42e0-aae8-27ad78d7b0f0",
   "metadata": {},
   "source": [
    "![designer](fichiers_cours/interfaces/pyqt/Capture8.png)"
   ]
  },
  {
   "cell_type": "markdown",
   "id": "629cf964-0e21-4c59-b321-2a5436d53405",
   "metadata": {},
   "source": [
    "Ajoutons un bouton 'Quit'. Pour celà retourner dans designer et faire glisser un **Push Buton** sur la fenêtre. \n",
    "Modifier le **Object Name** en **Quit**, ça sera le nom de notre boutton, c'est comme ça qu'on pourra l'appeler dans le code.\n",
    "Enregistrer le fichier ui.\n",
    "On peut aussi double cliquer sur le bouton et changer son texte (l'appeler 'Quit' par exemple)"
   ]
  },
  {
   "cell_type": "markdown",
   "id": "b47a011a-1986-4ed3-bb73-2f234e9438b0",
   "metadata": {},
   "source": [
    "![designer](fichiers_cours/interfaces/pyqt/Capture9.png)"
   ]
  },
  {
   "cell_type": "markdown",
   "id": "c38dd763-6c40-4d75-9bf6-8f942a65e1c3",
   "metadata": {
    "tags": []
   },
   "source": [
    "![designer](fichiers_cours/interfaces/pyqt/Capture10.png)"
   ]
  },
  {
   "cell_type": "markdown",
   "id": "da30e6df-5667-496c-8729-301b31e57170",
   "metadata": {},
   "source": [
    "Modifier le code. "
   ]
  },
  {
   "cell_type": "markdown",
   "id": "64703a7f-f2d5-4102-a94d-d348c7953874",
   "metadata": {},
   "source": [
    "```python\n",
    "import sys\n",
    "from PyQt5 import   QtWidgets, uic\n",
    "\n",
    "\n",
    "qtCreatorFile = \"mon_interface1.ui\" # Enter file here.\n",
    "Ui_MainWindow, QtBaseClass = uic.loadUiType(qtCreatorFile)\n",
    "\n",
    "\n",
    "class MyWindow(QtWidgets.QMainWindow, Ui_MainWindow):\n",
    "    def __init__(self):\n",
    "        QtWidgets.QMainWindow.__init__(self)\n",
    "        Ui_MainWindow.__init__(self)\n",
    "        self.setupUi(self)\n",
    "        \n",
    "        self.pushButton_quit.clicked.connect(self.quit)  #<======     \n",
    "        \n",
    "    def quit(self):   #<======\n",
    "        self.close() #<======\n",
    " \n",
    "if __name__ == \"__main__\":\n",
    "    app = QtWidgets.QApplication(sys.argv)\n",
    "    window = MyWindow()\n",
    "    window.show()\n",
    "    sys.exit(app.exec_())\n",
    "```    "
   ]
  },
  {
   "cell_type": "markdown",
   "id": "20521ba4-e490-4a17-926c-23433d323361",
   "metadata": {},
   "source": [
    "On a ajouté la fonction quit qui contient les instructions pour quitter correctement la fenêtre:"
   ]
  },
  {
   "cell_type": "markdown",
   "id": "532b254b-3c23-422c-ac79-765b881a92fe",
   "metadata": {},
   "source": [
    "```python\n",
    "def quit(self):   \n",
    "        self.close()\n",
    "```"
   ]
  },
  {
   "cell_type": "markdown",
   "id": "54ee214c-d437-48ca-a1d4-5c7fd4c56081",
   "metadata": {},
   "source": [
    "et on a relié le bouton (self.pushButton_quit) à la fonction (self.quit)"
   ]
  },
  {
   "cell_type": "markdown",
   "id": "ccf4964b-a70c-4ffa-86fe-939b57e198af",
   "metadata": {},
   "source": [
    "```python\n",
    "self.pushButton_quit.clicked.connect(self.quit)\n",
    "```"
   ]
  },
  {
   "cell_type": "code",
   "execution_count": null,
   "id": "4ac5ae7e-31b7-4c91-badd-814e22cab121",
   "metadata": {},
   "outputs": [],
   "source": [
    "%run fichiers_cours/interfaces/prog_interface_4.py"
   ]
  },
  {
   "cell_type": "markdown",
   "id": "b9ed6c32-3a1c-4835-9981-7f5ed5478705",
   "metadata": {},
   "source": [
    "Ajouter maintenant un menu File -> Open (il faut faire double clic pour modifier)"
   ]
  },
  {
   "cell_type": "markdown",
   "id": "cd9bf270-257c-4d0b-8e90-3847e4ccea46",
   "metadata": {
    "tags": []
   },
   "source": [
    "![designer](fichiers_cours/interfaces/pyqt/Capture11.png)"
   ]
  },
  {
   "cell_type": "markdown",
   "id": "e8a732f8-aa9d-43f0-943c-b92844916e94",
   "metadata": {},
   "source": [
    "Modifier le code. D'abord définissons une fonction ouvrir"
   ]
  },
  {
   "cell_type": "markdown",
   "id": "c4e28a84-c027-4b5f-b3c5-8d88d3dcfdbd",
   "metadata": {},
   "source": [
    "```python\n",
    "def ouvrir(self):\n",
    "        options = QFileDialog.Options()\n",
    "        fileName, _ = QFileDialog.getOpenFileName(self, \"Ouvrir un fichier\", \n",
    "                \"\",\"Tous les fichiers (*);;Fichiers texte (*.txt)\", \n",
    "                options=options)\n",
    "        if fileName:\n",
    "            print(\"Fichier sélectionné :\", fileName)\n",
    "```"
   ]
  },
  {
   "cell_type": "markdown",
   "id": "e21a6bbd-420d-4253-9151-5909d615cc3d",
   "metadata": {},
   "source": [
    "Importer les compléments de librairie pour la boite de dialogue:"
   ]
  },
  {
   "cell_type": "markdown",
   "id": "97b39d09-3462-4196-85a9-972edf747fd7",
   "metadata": {},
   "source": [
    "```python\n",
    "from PyQt5.QtWidgets import QFileDialog\n",
    "```"
   ]
  },
  {
   "cell_type": "markdown",
   "id": "ead901ec-d20d-4a06-8a7f-069714238381",
   "metadata": {},
   "source": [
    "Puis relier la fonction à l'action du menu"
   ]
  },
  {
   "cell_type": "markdown",
   "id": "44a6d42c-5b0a-42d8-865e-603a85eccad7",
   "metadata": {},
   "source": [
    "```python\n",
    "self.actionOpen.triggered.connect(self.ouvrir)\n",
    "```"
   ]
  },
  {
   "cell_type": "code",
   "execution_count": null,
   "id": "7f97c752-3ab7-4986-afcd-77aebcdd94c8",
   "metadata": {},
   "outputs": [],
   "source": [
    "%run fichiers_cours/interfaces/prog_interface_4a.py"
   ]
  },
  {
   "cell_type": "markdown",
   "id": "21a027b6-4ecc-4d7b-aed0-c4275c416c59",
   "metadata": {},
   "source": [
    "Une fois que ceci fonctionne essayons de mettre une réelle fonction d'ouverture de fichier"
   ]
  },
  {
   "cell_type": "markdown",
   "id": "e1374c66-00aa-4f3d-9176-f52b907e8aa6",
   "metadata": {},
   "source": [
    "```python\n",
    "def ouvrir(self):\n",
    "        options = QFileDialog.Options()\n",
    "        fileName, _ = QFileDialog.getOpenFileName(self, \"Ouvrir un fichier\",\n",
    "                    \"\", \"Tous les fichiers (*);;Fichiers texte (*.txt)\",\n",
    "                    options=options)\n",
    "        if fileName:\n",
    "            print(\"Fichier sélectionné :\", fileName)\n",
    "            with open(fileName, \"r\") as file:\n",
    "                contenu = file.read()\n",
    "                print(\"Contenu du fichier :\", contenu)\n",
    "```"
   ]
  },
  {
   "cell_type": "markdown",
   "id": "bc34360b-da87-442e-af34-58f3a41aa064",
   "metadata": {},
   "source": [
    "Et essayer d'ouvrir  fichier fichiers_cours_interfaces/fichier0.txt"
   ]
  },
  {
   "cell_type": "code",
   "execution_count": null,
   "id": "0f49e053-e558-4376-bc8e-85f672216ff6",
   "metadata": {},
   "outputs": [],
   "source": [
    "%run fichiers_cours/interfaces/prog_interface_4b.py"
   ]
  },
  {
   "cell_type": "markdown",
   "id": "7bcbff4c-5268-4333-8847-63f1e32fec70",
   "metadata": {
    "tags": []
   },
   "source": [
    "Lire maintenant les contenus du fichier texte (choisir un fichier de 2 colonnes avec comme séparation une tabulation, les fichiers de exercice 1 par exemple)"
   ]
  },
  {
   "cell_type": "markdown",
   "id": "230ea735-da44-454e-ba34-98c393a1c796",
   "metadata": {},
   "source": [
    "Modifier la fonction pour la lecture d'un fichier contenant des colonnes de données. Ici on extrait les colonnes 0 et 1 avec **usecols=[0, 1]**"
   ]
  },
  {
   "cell_type": "markdown",
   "id": "2460d00e-e7d7-4a7a-aa2b-3ef9c5ec95d1",
   "metadata": {
    "tags": []
   },
   "source": [
    "```python\n",
    "import pandas as pd\n",
    "```"
   ]
  },
  {
   "cell_type": "markdown",
   "id": "c37c77db-3ba0-42a3-bb24-0f68f75644da",
   "metadata": {
    "tags": []
   },
   "source": [
    "```python\n",
    "def ouvrir(self):\n",
    "        options = QFileDialog.Options()\n",
    "        fileName, _ = QFileDialog.getOpenFileName(self, \"Ouvrir un fichier\", \"\", \"Fichiers texte (*.txt)\", options=options)\n",
    "        if fileName:\n",
    "            print(\"Fichier sélectionné :\", fileName)\n",
    "            df = pd.read_csv(fileName, sep='\\t', header=0, usecols=[0, 1])\n",
    "            data = df.values\n",
    "            print(\"Données extraites :\", data.shape)\n",
    "\n",
    "```"
   ]
  },
  {
   "cell_type": "code",
   "execution_count": null,
   "id": "17fca778-c94b-4214-a7fe-295c0d8ed7ba",
   "metadata": {},
   "outputs": [],
   "source": [
    "%run fichiers_cours/interfaces/prog_interface_4c.py"
   ]
  },
  {
   "cell_type": "markdown",
   "id": "6653416c-271a-4b2c-a947-adfc32a75500",
   "metadata": {},
   "source": [
    "Ajoutons maintenant un Graphique. Commencer pas faire glisser un **Widget** (dans la rubrique containers). Modifier son **Object name** en plot_widget"
   ]
  },
  {
   "cell_type": "markdown",
   "id": "0bb49e24-2fc7-481a-8eee-1f64985249a9",
   "metadata": {},
   "source": [
    "![designer](fichiers_cours/interfaces/pyqt/Capture14.png)"
   ]
  },
  {
   "cell_type": "markdown",
   "id": "98150ab3-9ea2-4bff-82ea-892fae70bcda",
   "metadata": {},
   "source": [
    "Une fois que le widget est en place dans la fenetre, clic droit pour le promouvoir, c'est a dire le transformer en objet graphique pyqtgraph"
   ]
  },
  {
   "cell_type": "markdown",
   "id": "04cedfc3-f81f-4e83-8dd5-7c9a3b7f35be",
   "metadata": {
    "tags": []
   },
   "source": [
    "![designer](fichiers_cours/interfaces/pyqt/Capture12.png)"
   ]
  },
  {
   "cell_type": "markdown",
   "id": "07515103-f9e8-45c1-bd3a-e13221874de7",
   "metadata": {},
   "source": [
    "Remplir le nom de la classe promue et fichier d'en tête comme ci-dessous. Ajouter / Promouvoir"
   ]
  },
  {
   "cell_type": "markdown",
   "id": "79f5b14f-e62c-415d-9f59-51ce14495764",
   "metadata": {},
   "source": [
    "![designer](fichiers_cours/interfaces/pyqt/Capture13.png)"
   ]
  },
  {
   "cell_type": "markdown",
   "id": "01e77670-6f81-49bf-b59d-de8b2eccfd18",
   "metadata": {},
   "source": [
    "Cliquer sur le bouton \"Ajouter\" puis \"Promouvoir\""
   ]
  },
  {
   "cell_type": "markdown",
   "id": "b60314a9-c079-42b8-9197-353800575dd5",
   "metadata": {},
   "source": [
    "modifier le code python:"
   ]
  },
  {
   "cell_type": "markdown",
   "id": "690a62f5-ee53-438c-85a3-f6d7763e9387",
   "metadata": {},
   "source": [
    "```python\n",
    "#importer la bibliothèque pyqtgraph\n",
    "import pyqtgraph as pg\n",
    "```"
   ]
  },
  {
   "cell_type": "markdown",
   "id": "4fd3cf67-fed2-4e7a-9c09-4fe53474986c",
   "metadata": {},
   "source": [
    "Et"
   ]
  },
  {
   "cell_type": "markdown",
   "id": "337fdad1-893c-4163-aeca-20bbe232f5f1",
   "metadata": {},
   "source": [
    "```python\n",
    "#ajouter une fonction plot\n",
    "def plot(self):\n",
    "        self.plot_widget.plot(self.data, pen=pg.mkPen(color='r', width=2))  # Tracer les données data dans le widget appelé plot_widget dans notre ui\n",
    "```"
   ]
  },
  {
   "cell_type": "markdown",
   "id": "023da6ed-5ea3-4b71-a999-c12a89ff97a6",
   "metadata": {},
   "source": [
    "modifier la fonction ouvrir en ajoutant:"
   ]
  },
  {
   "cell_type": "markdown",
   "id": "43d08c7d-8e22-4594-9be9-24b7f141477d",
   "metadata": {},
   "source": [
    "```python\n",
    "self.data = df.values # on ajoute self pour pouvoir utiliser la variable dans une autre fonction de la classe\n",
    "self.plot()  # on appelle la fonction qui trace le graph pour que le graph soit ploté quand on ouvre le fichier\n",
    "```"
   ]
  },
  {
   "cell_type": "markdown",
   "id": "0034aa25-60d7-4492-a635-97a33b1897e9",
   "metadata": {},
   "source": [
    "A cette étape le code complet est  :"
   ]
  },
  {
   "cell_type": "markdown",
   "id": "10a4a781-0ebb-43be-a5d1-40a237f1fcd0",
   "metadata": {},
   "source": [
    "```python\n",
    "import sys\n",
    "from PyQt5 import  QtWidgets, uic\n",
    "from PyQt5.QtWidgets import QFileDialog\n",
    "import pandas as pd\n",
    "import pyqtgraph as pg\n",
    "\n",
    "\n",
    "qtCreatorFile = \"mon_interface3.ui\" # Enter file here.\n",
    "Ui_MainWindow, QtBaseClass = uic.loadUiType(qtCreatorFile)\n",
    "\n",
    "\n",
    "class MyWindow(QtWidgets.QMainWindow, Ui_MainWindow):\n",
    "    def __init__(self):\n",
    "        QtWidgets.QMainWindow.__init__(self)\n",
    "        Ui_MainWindow.__init__(self)\n",
    "        self.setupUi(self)\n",
    "        \n",
    "        self.pushButton_quit.clicked.connect(self.quit)\n",
    "        self.actionOpen.triggered.connect(self.ouvrir)\n",
    "        \n",
    "        \n",
    "\n",
    "    def quit(self):   \n",
    "        self.close()\n",
    "        \n",
    "    def ouvrir(self):\n",
    "        options = QFileDialog.Options()\n",
    "        fileName, _ = QFileDialog.getOpenFileName(self, \n",
    "                    \"Ouvrir un fichier\", \"\", \"Fichiers texte (*.txt)\",\n",
    "                    options=options)\n",
    "        if fileName:\n",
    "            print(\"Fichier sélectionné :\", fileName)\n",
    "            df = pd.read_csv(fileName, sep='\\t', header=0, usecols=[0, 1])\n",
    "            self.data = df.values # on ajoute self pour pouvoir utiliser la variable dans une autre fonction de la classe\n",
    "            print(\"Données extraites :\", self.data)\n",
    "            self.plot()  # on appelle la fonction qui trace le graph\n",
    "\n",
    "    def plot(self):\n",
    "        self.plot_widget.plot(self.data, pen=pg.mkPen(color='r', width=2))  # Tracer les données (x, y)\n",
    "\n",
    "if __name__ == \"__main__\":\n",
    "    app = QtWidgets.QApplication(sys.argv)\n",
    "    window = MyWindow()\n",
    "    window.show()\n",
    "    sys.exit(app.exec_())\n",
    "```"
   ]
  },
  {
   "cell_type": "code",
   "execution_count": null,
   "id": "01e4081a-f33c-449e-974b-49f0c19ca947",
   "metadata": {},
   "outputs": [],
   "source": [
    "%run fichiers_cours/interfaces/prog_interface_5.py"
   ]
  },
  {
   "cell_type": "markdown",
   "id": "78bb2b5e-2a74-4160-a96a-bc921b652782",
   "metadata": {},
   "source": [
    "Ajouter maintenant une liste déroulante (Combo Box dans la rubrique Input Widget). Dans 'Input Widget', selectionner et faire glisser dans la fenêtre une 'ComboBox' et modifier son nom en 'Ma_comboBox' Un double clic sur la combo box dans la fenêtre permet de faire apparaitre la fenetre suivante. Avec le '+' vert ajouter les lignes:\n",
    "- Minimum\n",
    "- Maximum\n",
    "- Moyenne\n",
    "- Ecart Type"
   ]
  },
  {
   "cell_type": "markdown",
   "id": "b5dc96b7-5bfc-489a-98f0-12bedbbfc562",
   "metadata": {},
   "source": [
    "![designer](fichiers_cours/interfaces/pyqt/Capture15.png)"
   ]
  },
  {
   "cell_type": "markdown",
   "id": "45be3732-09a9-41d2-b8c0-a0e207484a78",
   "metadata": {},
   "source": [
    "![designer](fichiers_cours/interfaces/pyqt/Capture16.png)"
   ]
  },
  {
   "cell_type": "markdown",
   "id": "d69aa1c8-9047-48e0-999a-5e187e8ee02e",
   "metadata": {
    "tags": []
   },
   "source": [
    "Il faut maintenant changer le code python. Commencer par Ajouter dans l'initialisation de la classe la connexion de la ComboBox à une fonction calculs.  "
   ]
  },
  {
   "cell_type": "markdown",
   "id": "470af577-6963-4418-be27-39f489fabdab",
   "metadata": {},
   "source": [
    "```python\n",
    "# Connexion du signal activated de la combobox à la fonction calculs\n",
    "self.Ma_comboBox.activated.connect(self.calculs)\n",
    "```"
   ]
  },
  {
   "cell_type": "markdown",
   "id": "116735c2-fea1-44e5-b064-86ae0e3a6402",
   "metadata": {},
   "source": [
    "Et definir la fonction qui calculera nos differentes grandeurs. (Il faudra ajouter l'importation de numpy)"
   ]
  },
  {
   "cell_type": "markdown",
   "id": "a50a0aeb-dee7-4f47-a4e0-81c8c1ff7b73",
   "metadata": {},
   "source": [
    "```python\n",
    "def calculs(self):\n",
    "       # Accéder à la deuxième colonne du numpy array\n",
    "       selected_item = self.Ma_comboBox.currentText()\n",
    "\n",
    "       # Effectuer les calculs en fonction de l'élément sélectionné\n",
    "       if selected_item == \"Minimum\":\n",
    "           result = np.min(self.data[:, 1])\n",
    "       elif selected_item == \"Maximum\":\n",
    "           result = np.max(self.data[:, 1])\n",
    "       elif selected_item == \"Moyenne\":\n",
    "           result = np.mean(self.data[:, 1])\n",
    "       elif selected_item == \"Écart type\":\n",
    "           result = np.std(self.data[:, 1])\n",
    "       else:\n",
    "           result = None\n",
    "       print(result)\n",
    "```"
   ]
  },
  {
   "cell_type": "code",
   "execution_count": null,
   "id": "f87a3e4b-9aa3-4326-9768-eae6c2f5d883",
   "metadata": {},
   "outputs": [],
   "source": [
    "%run fichiers_cours/interfaces/prog_interface_5a.py"
   ]
  },
  {
   "cell_type": "markdown",
   "id": "d75a2495-383a-430a-8721-99312715667e",
   "metadata": {},
   "source": [
    "Nous avons maintenant un programme qui affiche les differentes valeurs à partir d'une fonction print. Le résultat n'apparait pas dans notre fenetre, pour régler ce problème, Ajouter également également une 'label' dans 'Display' Widget et changer le ObjectName en 'Ma_label'\n",
    "Modifier la fonction calculs de manière à faire un affichage par notre label."
   ]
  },
  {
   "cell_type": "markdown",
   "id": "c781938a-3313-4a40-91b7-12d3fd2f96a2",
   "metadata": {},
   "source": [
    "```python\n",
    "def calculs(self):\n",
    "# Récupérer la sélection de la combobox\n",
    "    selected_item = self.Ma_comboBox.currentText()\n",
    "\n",
    "    # Effectuer les calculs en fonction de l'élément sélectionné\n",
    "    if selected_item == \"Minimum\":\n",
    "        result = np.min(self.data[:, 1])\n",
    "    elif selected_item == \"Maximum\":\n",
    "        result = np.max(self.data[:, 1])\n",
    "    elif selected_item == \"Moyenne\":\n",
    "        result = np.mean(self.data[:, 1])\n",
    "    elif selected_item == \"Ecart Type\":\n",
    "        result = np.std(self.data[:, 1])\n",
    "    else:\n",
    "        result = None\n",
    "\n",
    "    # Afficher le résultat dans le label\n",
    "    if result is not None:\n",
    "        texte_affichage = selected_item+': '+\": {:.3f}\".format(result)\n",
    "        print(texte_affichage)\n",
    "        self.Ma_label.setText(texte_affichage)\n",
    "    else:\n",
    "        self.Ma_label.setText(\"\")\n",
    "```"
   ]
  },
  {
   "cell_type": "code",
   "execution_count": null,
   "id": "02fbb999-74e8-4179-bf48-ad2c2a982d09",
   "metadata": {},
   "outputs": [],
   "source": [
    "%run fichiers_cours/interfaces/prog_interface_5b.py"
   ]
  },
  {
   "cell_type": "markdown",
   "id": "e8789dfa-6753-47af-80e4-1dc0ac8c18a3",
   "metadata": {},
   "source": [
    "Le programme est fonctionnel, mais la présentation de la fenêtre est loin d'être optimale. Les alignement des boutons et des widgets ne sont pas parfaits et lorsque que l'on réduit la dimension de la fenêtre, une partie devient inaccessible. Pour régler ce problème, nous allons utiliser les layouts:\n",
    " - Selectionner un 'Horizontal Layout' et le faire glisser dans la fenêtre\n",
    " - Faire glisser dans ce layout la combo box, le label et le bouton quit\n",
    " - Selectionner un 'Vertical Layout' et le faire glisser dans la fenêtre\n",
    " - Faire glisser dans ce layout le layout horizontal que l'on vient de faire et le graph widget\n",
    "\n",
    "Selectionner ensuite \"Mettre en page dans une grille\""
   ]
  },
  {
   "cell_type": "markdown",
   "id": "fdad4d72-e47c-4d8c-b570-ae45337a4d4e",
   "metadata": {},
   "source": [
    "![designer](fichiers_cours/interfaces/pyqt/Capture20.png)"
   ]
  },
  {
   "cell_type": "code",
   "execution_count": null,
   "id": "ff51bd2f-41bf-4c5f-9b2c-ebf66f992ea6",
   "metadata": {},
   "outputs": [],
   "source": [
    "%run fichiers_cours/interfaces/prog_interface_5c.py"
   ]
  },
  {
   "cell_type": "markdown",
   "id": "9f5bd33e-1436-405c-9b11-1dd86e27afc3",
   "metadata": {},
   "source": [
    "On doit obtenir une fenêtre qui doit ressembler à ceci:"
   ]
  },
  {
   "cell_type": "markdown",
   "id": "003d0560-024f-423b-a432-8803bc722da8",
   "metadata": {
    "tags": []
   },
   "source": [
    "![designer](fichiers_cours/interfaces/pyqt/Capture19.png)"
   ]
  },
  {
   "cell_type": "markdown",
   "id": "b180dfa4-f724-407b-82bd-aa8ec7e53057",
   "metadata": {},
   "source": [
    "C'est 'presque parfait' il ne reste qu'à ajouter un titre à la fenêtre et une icone. Ces deux opérations pourraient se faire dans designer, mais on va choisir de les coder. On peut signaler que l'ensemble de l'interface utilisateur aurait pu être codée en python, et que l'utilisation de designer n'est pas indispensable, c'est simplement plus pratique et plu rapide.\n",
    "Ajouter au code les deux lignes suivantes  dans l'initialisation de la classe MyWindow,"
   ]
  },
  {
   "cell_type": "markdown",
   "id": "963ac443-a211-4c3f-a79b-6e79b964fe58",
   "metadata": {},
   "source": [
    "```python\n",
    "#Modifier le titre de la fenêtre:\n",
    "self.setWindowTitle(\"Mon Premier Programme Avec Interface\")\n",
    "        \n",
    "# Ajouter une icône à la fenêtre\n",
    "icon = QtGui.QIcon(\"fichiers_cours/pyqt/poisson.png\")  # Spécifiez le chemin vers votre icône\n",
    "self.setWindowIcon(icon)\n",
    "```"
   ]
  },
  {
   "cell_type": "markdown",
   "id": "705ee64b-54c4-44b0-8999-a9cce0ea3654",
   "metadata": {},
   "source": [
    "il faudra également penser a ajouter un import "
   ]
  },
  {
   "cell_type": "markdown",
   "id": "5ae9a1fa-05a1-48c9-a4e9-28757eafff93",
   "metadata": {},
   "source": [
    "```python\n",
    "from PyQt5 import  QtGui\n",
    "```"
   ]
  },
  {
   "cell_type": "markdown",
   "id": "622772cf-348d-4b6b-afd1-654db5edc229",
   "metadata": {},
   "source": [
    "Le code final est donc:"
   ]
  },
  {
   "cell_type": "markdown",
   "id": "fba4951f-8111-4a08-b9f0-491623e07177",
   "metadata": {},
   "source": [
    "```python\n",
    "import sys\n",
    "from PyQt5 import  QtWidgets, uic, QtGui\n",
    "from PyQt5.QtWidgets import QFileDialog\n",
    "import pandas as pd\n",
    "import pyqtgraph as pg\n",
    "import numpy as np\n",
    "\n",
    "\n",
    "qtCreatorFile = \"mon_interface8.ui\" # Enter file here.\n",
    "Ui_MainWindow, QtBaseClass = uic.loadUiType(qtCreatorFile)\n",
    "\n",
    "\n",
    "class MyWindow(QtWidgets.QMainWindow, Ui_MainWindow):\n",
    "    def __init__(self):\n",
    "        QtWidgets.QMainWindow.__init__(self)\n",
    "        Ui_MainWindow.__init__(self)\n",
    "        self.setupUi(self)\n",
    "        \n",
    "        self.pushButton_quit.clicked.connect(self.quit)\n",
    "        self.actionOpen.triggered.connect(self.ouvrir)\n",
    "        \n",
    "        # Connexion du signal activated de la combobox à la fonction calculs\n",
    "        self.Ma_comboBox.activated.connect(self.calculs)\n",
    "        \n",
    "        #Modifier le titre de la fenêtre:\n",
    "        self.setWindowTitle(\"Mon Premier Programme Avec Interface\")\n",
    "                \n",
    "        # Ajouter une icône à la fenêtre\n",
    "        icon = QtGui.QIcon(\"pyqt/mon_icone.png\")  # Spécifiez le chemin vers l'icône\n",
    "        self.setWindowIcon(icon)\n",
    "\n",
    "    def quit(self):   \n",
    "         \n",
    "        self.close()\n",
    "        \n",
    "    def ouvrir(self):\n",
    "        options = QFileDialog.Options()\n",
    "        fileName, _ = QFileDialog.getOpenFileName(self, \"Ouvrir un fichier\", \"\", \"Fichiers texte (*.txt)\", options=options)\n",
    "        if fileName:\n",
    "            print(\"Fichier sélectionné :\", fileName)\n",
    "            df = pd.read_csv(fileName, sep='\\t', header=0, usecols=[0, 1])\n",
    "            self.data = df.values # on ajoute self pour pouvoir utiliser la variable dans une autre fonction de la classe\n",
    "            print(\"Données extraites :\", self.data.shape)\n",
    "            self.plot()  # on appelle la fonction qui trace le graph\n",
    "       \n",
    "    def plot(self):\n",
    "         \n",
    "        self.plot_widget.plot(self.data, pen=pg.mkPen(color='r', width=2))  # Tracer les données (x, y)\n",
    "\n",
    "    def calculs(self):\n",
    "    # Récupérer la sélection de la combobox\n",
    "        selected_item = self.Ma_comboBox.currentText()\n",
    "\n",
    "        # Effectuer les calculs en fonction de l'élément sélectionné\n",
    "        if selected_item == \"Minimum\":\n",
    "            result = np.min(self.data[:, 1])\n",
    "        elif selected_item == \"Maximum\":\n",
    "            result = np.max(self.data[:, 1])\n",
    "        elif selected_item == \"Moyenne\":\n",
    "            result = np.mean(self.data[:, 1])\n",
    "        elif selected_item == \"Ecart Type\":\n",
    "            result = np.std(self.data[:, 1])\n",
    "        else:\n",
    "            result = None\n",
    "\n",
    "        # Afficher le résultat dans le label\n",
    "        if result is not None:\n",
    "            texte_affichage = selected_item+': '+\": {:.3f}\".format(result)\n",
    "            print(texte_affichage)\n",
    "            self.Ma_label.setText(texte_affichage)\n",
    "        else:\n",
    "            self.Ma_label.setText(\"\")\n",
    "\n",
    "if __name__ == \"__main__\":\n",
    "    app = QtWidgets.QApplication(sys.argv)\n",
    "    window = MyWindow()\n",
    "    window.show()\n",
    "    sys.exit(app.exec_())\n",
    "```"
   ]
  },
  {
   "cell_type": "code",
   "execution_count": null,
   "id": "4a89b1aa-2106-432f-b451-84149af68b4b",
   "metadata": {},
   "outputs": [],
   "source": [
    "%run fichiers_cours/interfaces/prog_interface_6.py"
   ]
  },
  {
   "cell_type": "markdown",
   "id": "c97ac436-9ba5-4e62-aee9-2bb18c429183",
   "metadata": {},
   "source": [
    "L'ensemble des codes et des interfaces est accessible dans le dossier fichiers_cours/interfaces."
   ]
  }
 ],
 "metadata": {
  "kernelspec": {
   "display_name": "Python 3 (ipykernel)",
   "language": "python",
   "name": "python3"
  },
  "language_info": {
   "codemirror_mode": {
    "name": "ipython",
    "version": 3
   },
   "file_extension": ".py",
   "mimetype": "text/x-python",
   "name": "python",
   "nbconvert_exporter": "python",
   "pygments_lexer": "ipython3",
   "version": "3.11.7"
  }
 },
 "nbformat": 4,
 "nbformat_minor": 5
}
