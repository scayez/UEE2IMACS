{
 "cells": [
  {
   "cell_type": "markdown",
   "id": "a953a547-8e61-4404-aa73-61af6ac56702",
   "metadata": {},
   "source": [
    "***\n",
    "# **<center>Exercices#2</center>**\n",
    "# ***<center>Structures de Données</center>***\n",
    "# ***<center>Structures Boucles</center>***\n",
    "# ***<center>Gestion des erreurs</center>***\n",
    "***"
   ]
  },
  {
   "cell_type": "markdown",
   "id": "58677869-544c-41e0-bc72-c102f2147b23",
   "metadata": {},
   "source": [
    "## 1- Exercices Structures de données"
   ]
  },
  {
   "cell_type": "markdown",
   "id": "281f3627-ecba-4c8e-9f82-7ed58a744f4b",
   "metadata": {
    "tags": []
   },
   "source": [
    "***\n",
    "<u>Exercice 0: </u> *Dernier caractère.*  \n",
    "\n",
    "Écrivez un programme qui demande à l'utilisateur d'entrer une chaîne de caractères et affiche le dernier caractère de cette chaîne."
   ]
  },
  {
   "cell_type": "markdown",
   "id": "03434e33-c65b-464f-8b34-b1652629b3dc",
   "metadata": {},
   "source": [
    "***<center>SOLUTION</center>***"
   ]
  },
  {
   "cell_type": "code",
   "execution_count": 2,
   "id": "642fd4cf-3cb3-433e-b79a-a87493d3f063",
   "metadata": {
    "tags": []
   },
   "outputs": [
    {
     "name": "stdin",
     "output_type": "stream",
     "text": [
      "Entrez une chaîne de caractères :  abc\n"
     ]
    },
    {
     "name": "stdout",
     "output_type": "stream",
     "text": [
      "Le dernier caractère est : c\n"
     ]
    }
   ],
   "source": [
    "# Demander à l'utilisateur d'entrer une chaîne de caractères\n",
    "chaine = input(\"Entrez une chaîne de caractères : \")\n",
    "\n",
    "# Trouver le dernier caractère de la chaîne\n",
    "dernier_caractere = chaine[-1]\n",
    "\n",
    "# Afficher le dernier caractère\n",
    "print(\"Le dernier caractère est :\", dernier_caractere)\n"
   ]
  },
  {
   "cell_type": "markdown",
   "id": "9df9d337-c962-4ce4-a1a7-97c585d91f2d",
   "metadata": {},
   "source": [
    "***\n",
    "<u>Exercice 1: </u> *Selectionner les éléments* \n",
    "\n",
    "Soit la déclaration suivante:  \n",
    "<pre>X =(11, 22, 33, 44, 55, 66) </pre>\n",
    "1 - Quel est le type de X? Ecrire la ligne de code qui permet de le vérifier  \n",
    "2 - Creer une structure Y de même type que X contenant les 3 denières valeurs de X  \n",
    "3 - On veut maintenant remplacer la dernière valeur de Y par 33. Comment procéder?  "
   ]
  },
  {
   "cell_type": "markdown",
   "id": "635d54c5-1144-4121-b711-8eed9bce8d84",
   "metadata": {},
   "source": [
    "***<center>SOLUTION</center>***"
   ]
  },
  {
   "cell_type": "markdown",
   "id": "42d036d5-4d5b-4399-b4a4-0c79886da868",
   "metadata": {},
   "source": [
    "1 - Quel est le type de X? Ecrire la ligne de code qui permet de le vérifier"
   ]
  },
  {
   "cell_type": "code",
   "execution_count": 3,
   "id": "308da84d-d305-49ce-8750-3158e8b6afe3",
   "metadata": {
    "tags": []
   },
   "outputs": [
    {
     "name": "stdout",
     "output_type": "stream",
     "text": [
      "<class 'tuple'>\n"
     ]
    }
   ],
   "source": [
    "#X est un tuple car déclaré entre parenthèses\n",
    "X =(11, 22, 33, 44, 55, 66)\n",
    "print(type(X))"
   ]
  },
  {
   "cell_type": "markdown",
   "id": "48129c79-4726-4145-a749-0e168ac8e044",
   "metadata": {
    "tags": []
   },
   "source": [
    "2- Creer une structure Y de même type que X contenant les 3 denières valeurs de X"
   ]
  },
  {
   "cell_type": "code",
   "execution_count": 4,
   "id": "282ebe46-358d-465a-9bca-1d4ce0f9abbf",
   "metadata": {
    "tags": []
   },
   "outputs": [
    {
     "name": "stdout",
     "output_type": "stream",
     "text": [
      "(44, 55, 66)\n"
     ]
    }
   ],
   "source": [
    "Y = X[-3:]\n",
    "print(Y)"
   ]
  },
  {
   "cell_type": "markdown",
   "id": "26a825ed-a2d2-4790-a16e-407aaeb3fa05",
   "metadata": {},
   "source": [
    "3 - On veut maintenant remplacer la dernière valeur de Y par 33. Comment procéder? "
   ]
  },
  {
   "cell_type": "code",
   "execution_count": 5,
   "id": "83a07729-6c6a-48f0-95b7-2921e4a4bb9f",
   "metadata": {
    "tags": []
   },
   "outputs": [
    {
     "name": "stdout",
     "output_type": "stream",
     "text": [
      "<class 'list'>\n",
      "[44, 55, 33]\n",
      "(44, 55, 33)\n"
     ]
    }
   ],
   "source": [
    "# on ne peut pas modifier les éléments d'un tuple, transformons Y en liste\n",
    "Y = list(Y)\n",
    "print(type(Y))\n",
    "# modifions la dernière valeur de Y et affectons lui 33\n",
    "Y[-1] = 33\n",
    "print(Y)\n",
    "# Revenons au type tuple initial\n",
    "Y = tuple(Y)\n",
    "print(Y)"
   ]
  },
  {
   "cell_type": "markdown",
   "id": "d559e1cf-7d48-4a02-beb8-b71dfebf504c",
   "metadata": {
    "tags": []
   },
   "source": [
    "***\n",
    "<u>Exercice 2:</u> *Slices.*  \n",
    "  \n",
    "Que va afficher le code suivant et pourquoi?"
   ]
  },
  {
   "cell_type": "markdown",
   "id": "1b594e12-332a-4cf8-8033-e8411cc96102",
   "metadata": {},
   "source": [
    "```python\n",
    "A = [0,1,2,3,4,5,6,7,8,10]\n",
    "print(A[0:9:1])\n",
    "print(A[::-1])\n",
    "print(A[2:8])\n",
    "print(A[8:2])\n",
    "print(A[2:8:3])\n",
    "print(A[8:2:-3])\n",
    "```"
   ]
  },
  {
   "cell_type": "markdown",
   "id": "1b54259a-667c-4897-8705-6af3680605fe",
   "metadata": {},
   "source": [
    "***<center>SOLUTION</center>***"
   ]
  },
  {
   "cell_type": "code",
   "execution_count": 6,
   "id": "17d596a6-3632-43ec-a257-5e86dcb40ea6",
   "metadata": {},
   "outputs": [
    {
     "name": "stdout",
     "output_type": "stream",
     "text": [
      "A[0:9:1]  De l'indice 0 (inclus) à l'indice 9 (exclus), avec un pas de 1........ [0, 1, 2, 3, 4, 5, 6, 7, 8]\n",
      "A[::-1]   Tous les éléments mais dans l'ordre inverse, car le pas est -1........ [10, 8, 7, 6, 5, 4, 3, 2, 1, 0]\n",
      "A[2:8]    De l'indice 2 (inclus) à l'indice 8 (exclus), avec un pas de 1........ [2, 3, 4, 5, 6, 7]\n",
      "A[8:2]    Pas d'éléments l'indice de départ (8) superieur l'indice d'arrêt (2).. []\n",
      "A[2:8:3]  De l'indice 2 (inclus) à l'indice 8 (exclus), avec un pas de 3........ [2, 5]\n",
      "A[8:2:-3] de l'indice 8 (inclus) à l'indice 2 (exclus), avec un pas de -3....... [8, 5]\n"
     ]
    }
   ],
   "source": [
    "A = [0,1,2,3,4,5,6,7,8,10]\n",
    "print(\"A[0:9:1]  De l'indice 0 (inclus) à l'indice 9 (exclus), avec un pas de 1........\", A[0:9:1])\n",
    "print(\"A[::-1]   Tous les éléments mais dans l'ordre inverse, car le pas est -1........\", A[::-1])\n",
    "print(\"A[2:8]    De l'indice 2 (inclus) à l'indice 8 (exclus), avec un pas de 1........\", A[2:8])\n",
    "print(\"A[8:2]    Pas d'éléments l'indice de départ (8) superieur l'indice d'arrêt (2)..\", A[8:2])\n",
    "print(\"A[2:8:3]  De l'indice 2 (inclus) à l'indice 8 (exclus), avec un pas de 3........\", A[2:8:3])\n",
    "print(\"A[8:2:-3] de l'indice 8 (inclus) à l'indice 2 (exclus), avec un pas de -3.......\", A[8:2:-3]) "
   ]
  },
  {
   "cell_type": "markdown",
   "id": "de32a133-3964-4cda-858c-748bde93be11",
   "metadata": {},
   "source": [
    "***\n",
    "<u>Exercice 3:</u> *Remplir une liste.*   \n",
    "  \n",
    "Ecrire un programme qui demande à l'utilisateur de saisir une chaine de caractère et ajouter cette chaîne à une liste. La liste finale aura 3 éléments."
   ]
  },
  {
   "cell_type": "markdown",
   "id": "152ca920-61fa-471f-8d6c-e3df8dfa3f61",
   "metadata": {},
   "source": [
    "***<center>SOLUTION</center>***"
   ]
  },
  {
   "cell_type": "code",
   "execution_count": 7,
   "id": "a2a18272-a0aa-4cd7-9ee3-8ec78cb6d455",
   "metadata": {
    "tags": []
   },
   "outputs": [
    {
     "name": "stdin",
     "output_type": "stream",
     "text": [
      "Entrez une chaîne de caractères :  abc\n"
     ]
    },
    {
     "name": "stdout",
     "output_type": "stream",
     "text": [
      "['abc']\n"
     ]
    },
    {
     "name": "stdin",
     "output_type": "stream",
     "text": [
      "Entrez une chaîne de caractères :  def\n"
     ]
    },
    {
     "name": "stdout",
     "output_type": "stream",
     "text": [
      "['abc', 'def']\n"
     ]
    },
    {
     "name": "stdin",
     "output_type": "stream",
     "text": [
      "Entrez une chaîne de caractères :  ghi\n"
     ]
    },
    {
     "name": "stdout",
     "output_type": "stream",
     "text": [
      "ma liste finale :  ['abc', 'def', 'ghi']\n"
     ]
    }
   ],
   "source": [
    "ma_liste = []\n",
    "\n",
    "chaine = input(\"Entrez une chaîne de caractères : \")\n",
    "ma_liste.append(chaine)\n",
    "print(ma_liste)\n",
    "\n",
    "chaine = input(\"Entrez une chaîne de caractères : \")\n",
    "ma_liste.append(chaine)\n",
    "print(ma_liste)\n",
    "\n",
    "chaine = input(\"Entrez une chaîne de caractères : \")\n",
    "ma_liste.append(chaine)\n",
    "print('ma liste finale : ',ma_liste)"
   ]
  },
  {
   "cell_type": "markdown",
   "id": "a131795d-8977-48c0-a35c-6e0eabd4a70b",
   "metadata": {},
   "source": [
    "## 2- Exercices Structures boucles"
   ]
  },
  {
   "cell_type": "markdown",
   "id": "c93c6eec-e4e5-40b3-97c6-e0ab20c0ac4d",
   "metadata": {},
   "source": [
    "***\n",
    "<u>Exercice 4:</u> *Remplir une liste.*   \n",
    "  \n",
    "Ecrire un programme qui demande à l'utilisateur de saisir une chaine de caractères et ajouter cette chaine à une liste. La liste finale aura 3 éléments. \n",
    "Faire 2 versions du code, l'une avec une boucle for, l'autre avec une boucle while."
   ]
  },
  {
   "cell_type": "markdown",
   "id": "36d74634-fa1a-4ed5-8355-416731e35a35",
   "metadata": {},
   "source": [
    "***<center>SOLUTION</center>***"
   ]
  },
  {
   "cell_type": "code",
   "execution_count": 8,
   "id": "40c63d3a-029f-4486-94ff-c3eb7811893a",
   "metadata": {
    "tags": []
   },
   "outputs": [
    {
     "name": "stdin",
     "output_type": "stream",
     "text": [
      "Entrez une chaîne de caractères :  abc\n",
      "Entrez une chaîne de caractères :  def\n",
      "Entrez une chaîne de caractères :  ghi\n"
     ]
    },
    {
     "name": "stdout",
     "output_type": "stream",
     "text": [
      "ma liste finale :  ['abc', 'def', 'ghi']\n"
     ]
    }
   ],
   "source": [
    "# Avec boucle for\n",
    "ma_liste = []\n",
    "\n",
    "for i in range(3): # executer la boucle 3 fois\n",
    "    chaine = input(\"Entrez une chaîne de caractères : \")\n",
    "    ma_liste.append(chaine)\n",
    "print('ma liste finale : ',ma_liste)"
   ]
  },
  {
   "cell_type": "code",
   "execution_count": 9,
   "id": "4ed8c94f-9bbf-4a72-b2fb-df6399fe9c9c",
   "metadata": {
    "tags": []
   },
   "outputs": [
    {
     "name": "stdin",
     "output_type": "stream",
     "text": [
      "Entrez une chaîne de caractères :  abc\n",
      "Entrez une chaîne de caractères :  def\n",
      "Entrez une chaîne de caractères :  ghi\n"
     ]
    },
    {
     "name": "stdout",
     "output_type": "stream",
     "text": [
      "ma liste finale :  ['abc', 'def', 'ghi']\n"
     ]
    }
   ],
   "source": [
    "# Avec boucle while\n",
    "ma_liste = []\n",
    "\n",
    "while len(ma_liste)<3:\n",
    "    chaine = input(\"Entrez une chaîne de caractères : \")\n",
    "    ma_liste.append(chaine)\n",
    "print('ma liste finale : ',ma_liste)"
   ]
  },
  {
   "cell_type": "markdown",
   "id": "98222f34-4561-46c6-9bfc-819a283dda77",
   "metadata": {},
   "source": [
    "***\n",
    "<u>Exercice 5: </u> *Nombre premiers.*  \n",
    "  \n",
    "Un nombre est premier s'il est divisible uniquement par 1 et par lui même. Ainsi, on peut dire que le nombre k est premier s'il n'est divisible par aucun des nombres compris entre 2 et k-1.  \n",
    "Ecrire un programme qui définit les nombres premiers de entre 1 et 100."
   ]
  },
  {
   "cell_type": "markdown",
   "id": "c1934869-630c-4131-b17b-f5eb323873a9",
   "metadata": {},
   "source": [
    "***<center>SOLUTION</center>***"
   ]
  },
  {
   "cell_type": "code",
   "execution_count": 10,
   "id": "a4121fca-6cde-4f97-a2aa-d21733f4f996",
   "metadata": {},
   "outputs": [
    {
     "name": "stdout",
     "output_type": "stream",
     "text": [
      "Nombres premiers trouvés : \n",
      "2 3 5 7 11 13 17 19 23 29 31 37 41 43 47 53 59 61 67 71 73 79 83 89 97 "
     ]
    }
   ],
   "source": [
    "# Affiche le message indiquant que les nombres premiers sont trouvés\n",
    "print(\"Nombres premiers trouvés : \")\n",
    "\n",
    "# Boucle externe pour parcourir les nombres de 2 à 100 inclusivement\n",
    "for k in range(2, 101):\n",
    "    # Initialise la variable premier à True pour chaque itération de\n",
    "    # la boucle externe\n",
    "    premier = True\n",
    "    \n",
    "    # Boucle interne pour vérifier si k est divisible par d'autres \n",
    "    # nombres que 1 et k\n",
    "    for v in range(2, k):\n",
    "        # Vérifie si k est divisible par v\n",
    "        if k % v == 0:\n",
    "            # Si k est divisible par v, il n'est pas premier\n",
    "            premier = False\n",
    "            # Sort de la boucle interne pour économiser du temps car \n",
    "            # on a déjà trouvé un diviseur\n",
    "            break\n",
    "    \n",
    "    # Vérifie si k est premier et si k est supérieur à 1\n",
    "    if premier and k > 1:\n",
    "        # Si k est premier et k est supérieur à 1, imprime k suivi\n",
    "        # d'un espace\n",
    "        print(k, end=\" \")"
   ]
  },
  {
   "cell_type": "markdown",
   "id": "b5ea6c23-17d5-47b5-9229-0eabd90e1832",
   "metadata": {},
   "source": [
    "Pour chaque nombre k dans la plage de 2 à 100, on vérifie s'il est divisible par un nombre autre que 1 et lui-même. Si aucun diviseur autre que 1 et k lui-même n'est trouvé, k est considéré comme un nombre premier."
   ]
  },
  {
   "cell_type": "markdown",
   "id": "2d5b93a8-86b9-45af-9a83-ba88ad2fa6c7",
   "metadata": {},
   "source": [
    "***\n",
    "<u>Exercice 6:</u> *Tables de multiplications.*  \n",
    "\n",
    "Écrivez un programme qui affiche les tables de multiplication de 1 à 10. Le programme doit utiliser des boucles for imbriquées pour parcourir les nombres de 1 à 10 (inclus).  \n",
    "L'affichage sera de la forme:  "
   ]
  },
  {
   "cell_type": "markdown",
   "id": "1fcff6a9-2374-4bac-aa4a-cab41c4154a1",
   "metadata": {},
   "source": [
    "<table>\n",
    "  <tr>\n",
    "    <td>1</td>\n",
    "    <td>2</td>\n",
    "    <td>3</td>\n",
    "    <td>4</td>\n",
    "    <td>5</td>\n",
    "    <td>6</td>\n",
    "    <td>7</td>\n",
    "    <td>8</td>\n",
    "    <td>9</td>\n",
    "    <td>10</td>\n",
    "  </tr>\n",
    "  <tr>\n",
    "    <td>2</td>\n",
    "    <td>4</td>\n",
    "    <td>6</td>\n",
    "    <td>8</td>\n",
    "    <td>10</td>\n",
    "    <td>12</td>\n",
    "    <td>14</td>\n",
    "    <td>16</td>\n",
    "    <td>18</td>\n",
    "    <td>20</td>\n",
    "  </tr>\n",
    "  <tr>\n",
    "    <td>3</td>\n",
    "    <td>6</td>\n",
    "    <td>9</td>\n",
    "    <td>12</td>\n",
    "    <td>15</td>\n",
    "    <td>18</td>\n",
    "    <td>21</td>\n",
    "    <td>24</td>\n",
    "    <td>27</td>\n",
    "    <td>30</td>\n",
    "  </tr>\n",
    "  <tr>\n",
    "    <td>4</td>\n",
    "    <td>8</td>\n",
    "    <td>12</td>\n",
    "    <td>16</td>\n",
    "    <td>20</td>\n",
    "    <td>24</td>\n",
    "    <td>28</td>\n",
    "    <td>32</td>\n",
    "    <td>36</td>\n",
    "    <td>40</td>\n",
    "  </tr>\n",
    "  <tr>\n",
    "    <td>5</td>\n",
    "    <td>10</td>\n",
    "    <td>15</td>\n",
    "    <td>20</td>\n",
    "    <td>25</td>\n",
    "    <td>30</td>\n",
    "    <td>35</td>\n",
    "    <td>40</td>\n",
    "    <td>45</td>\n",
    "    <td>50</td>\n",
    "  </tr>\n",
    "  <tr>\n",
    "    <td>6</td>\n",
    "    <td>12</td>\n",
    "    <td>18</td>\n",
    "    <td>24</td>\n",
    "    <td>30</td>\n",
    "    <td>36</td>\n",
    "    <td>42</td>\n",
    "    <td>48</td>\n",
    "    <td>54</td>\n",
    "    <td>60</td>\n",
    "  </tr>\n",
    "  <tr>\n",
    "    <td>7</td>\n",
    "    <td>14</td>\n",
    "    <td>21</td>\n",
    "    <td>28</td>\n",
    "    <td>35</td>\n",
    "    <td>42</td>\n",
    "    <td>49</td>\n",
    "    <td>56</td>\n",
    "    <td>63</td>\n",
    "    <td>70</td>\n",
    "  </tr>\n",
    "  <tr>\n",
    "    <td>8</td>\n",
    "    <td>16</td>\n",
    "    <td>24</td>\n",
    "    <td>32</td>\n",
    "    <td>40</td>\n",
    "    <td>48</td>\n",
    "    <td>56</td>\n",
    "    <td>64</td>\n",
    "    <td>72</td>\n",
    "    <td>80</td>\n",
    "  </tr>\n",
    "  <tr>\n",
    "    <td>9</td>\n",
    "    <td>18</td>\n",
    "    <td>27</td>\n",
    "    <td>36</td>\n",
    "    <td>45</td>\n",
    "    <td>54</td>\n",
    "    <td>63</td>\n",
    "    <td>72</td>\n",
    "    <td>81</td>\n",
    "    <td>90</td>\n",
    "  </tr>\n",
    "  <tr>\n",
    "    <td>10</td>\n",
    "    <td>20</td>\n",
    "    <td>30</td>\n",
    "    <td>40</td>\n",
    "    <td>50</td>\n",
    "    <td>60</td>\n",
    "    <td>70</td>\n",
    "    <td>80</td>\n",
    "    <td>90</td>\n",
    "    <td>100</td>\n",
    "  </tr>\n",
    "</table>\n"
   ]
  },
  {
   "cell_type": "markdown",
   "id": "abe4d617-fc8c-44b9-8474-668dccc411b0",
   "metadata": {},
   "source": [
    "Pour éviter un retour à la ligne apres chaque print on pourra utiliser la syntaxe **print(XX, end=\"\\t\")**\n",
    "Pour forcer les retours à la ligne, on pourra utiliser la syntaxe **print(\"\\n\")**"
   ]
  },
  {
   "cell_type": "markdown",
   "id": "c5875b8e-2dc0-42c2-9537-a1da697e4558",
   "metadata": {},
   "source": [
    "***<center>SOLUTION</center>***"
   ]
  },
  {
   "cell_type": "code",
   "execution_count": 11,
   "id": "b01736ab-3dbd-4f5e-8d15-92d840e6b3c7",
   "metadata": {},
   "outputs": [
    {
     "name": "stdout",
     "output_type": "stream",
     "text": [
      "1\t2\t3\t4\t5\t6\t7\t8\t9\t10\t\n",
      "\n",
      "2\t4\t6\t8\t10\t12\t14\t16\t18\t20\t\n",
      "\n",
      "3\t6\t9\t12\t15\t18\t21\t24\t27\t30\t\n",
      "\n",
      "4\t8\t12\t16\t20\t24\t28\t32\t36\t40\t\n",
      "\n",
      "5\t10\t15\t20\t25\t30\t35\t40\t45\t50\t\n",
      "\n",
      "6\t12\t18\t24\t30\t36\t42\t48\t54\t60\t\n",
      "\n",
      "7\t14\t21\t28\t35\t42\t49\t56\t63\t70\t\n",
      "\n",
      "8\t16\t24\t32\t40\t48\t56\t64\t72\t80\t\n",
      "\n",
      "9\t18\t27\t36\t45\t54\t63\t72\t81\t90\t\n",
      "\n",
      "10\t20\t30\t40\t50\t60\t70\t80\t90\t100\t\n",
      "\n"
     ]
    }
   ],
   "source": [
    "for i in range(1,11):\n",
    "    for j in range (1,11):\n",
    "        print(i*j,end=\"\\t\")\n",
    "    print(\"\\n\")"
   ]
  },
  {
   "cell_type": "markdown",
   "id": "9011ed48-10fd-43bb-a2ea-e6dc39d49720",
   "metadata": {},
   "source": [
    "## 3- Exercices Gestion des erreurs"
   ]
  },
  {
   "cell_type": "markdown",
   "id": "a7901c23-f506-4974-8d1e-2674f815e82e",
   "metadata": {},
   "source": [
    "***\n",
    "<u>Exercice 7: </u> *Gestion erreurs.* \n",
    "\n",
    "Écrivez un programme qui demande à l'utilisateur d'entrer deux nombres entiers. Utilisez la gestion des erreurs pour vous assurer que l'utilisateur entre effectivement des nombres entiers.   \n",
    "1-  Si l'utilisateur entre une valeur invalide, affichez un message d'erreur avec print et redemandez-lui de saisir les nombres. Répétez ce processus jusqu'à ce que l'utilisateur entre des nombres valides. Une fois que l'utilisateur entre des nombres valides, affichez leur somme.  \n",
    "2- Même question en utilisant un message d'erreur python personnalisé"
   ]
  },
  {
   "cell_type": "markdown",
   "id": "5ca4d987-4b5d-4f26-8898-a2e38098db0f",
   "metadata": {},
   "source": [
    "***<center>SOLUTION</center>***"
   ]
  },
  {
   "cell_type": "markdown",
   "id": "d8f8072e-003a-430b-8590-df532539a199",
   "metadata": {},
   "source": [
    "1- Si l'utilisateur entre une valeur invalide, affichez un message d'erreur avec print et redemandez-lui de saisir les nombres. Répétez ce processus jusqu'à ce que l'utilisateur entre des nombres valides. Une fois que l'utilisateur entre des nombres valides, affichez leur somme."
   ]
  },
  {
   "cell_type": "code",
   "execution_count": 12,
   "id": "3da7123c-aaed-49a8-8048-6d5510c23b6a",
   "metadata": {
    "tags": []
   },
   "outputs": [
    {
     "name": "stdin",
     "output_type": "stream",
     "text": [
      "Entrez le premier nombre entier :  p\n"
     ]
    },
    {
     "name": "stdout",
     "output_type": "stream",
     "text": [
      "Erreur : Vous devez entrer des nombres entiers valides. Réessayez.\n"
     ]
    },
    {
     "name": "stdin",
     "output_type": "stream",
     "text": [
      "Entrez le premier nombre entier :  6\n",
      "Entrez le deuxième nombre entier :  5\n"
     ]
    },
    {
     "name": "stdout",
     "output_type": "stream",
     "text": [
      "La somme de 6 et 5 est égale à 11.\n"
     ]
    }
   ],
   "source": [
    "while True:\n",
    "   \n",
    "    try:\n",
    "        #input renvoie une chaine. Si cette chaine contient uniquement un int \n",
    "        # la conversion sera possible sinon la conversion renvoie une erreur\n",
    "        nombre1 = int(input(\"Entrez le premier nombre entier : \")) \n",
    "        nombre2 = int(input(\"Entrez le deuxième nombre entier : \"))\n",
    "        somme = nombre1 + nombre2\n",
    "        print(f\"La somme de {nombre1} et {nombre2} est égale à {somme}.\")\n",
    "        break  # Sort de la boucle si les entrées sont valides\n",
    "    except:\n",
    "        print(\"Erreur : Vous devez entrer des nombres entiers valides. Réessayez.\")\n"
   ]
  },
  {
   "cell_type": "markdown",
   "id": "df0045fd-8f34-4560-8bcb-8b76345148a2",
   "metadata": {},
   "source": [
    "2- Même question en utilisant un message d'erreur python personnalisé"
   ]
  },
  {
   "cell_type": "code",
   "execution_count": 13,
   "id": "30dfe5af-7e27-4f5f-a394-a780660352ea",
   "metadata": {},
   "outputs": [
    {
     "name": "stdin",
     "output_type": "stream",
     "text": [
      "Entrez le premier nombre entier :  f\n"
     ]
    },
    {
     "ename": "ValueError",
     "evalue": "On veut des nombres!!!!",
     "output_type": "error",
     "traceback": [
      "\u001b[1;31m---------------------------------------------------------------------------\u001b[0m",
      "\u001b[1;31mValueError\u001b[0m                                Traceback (most recent call last)",
      "Cell \u001b[1;32mIn[13], line 4\u001b[0m\n\u001b[0;32m      2\u001b[0m \u001b[38;5;28;01mtry\u001b[39;00m:\n\u001b[0;32m      3\u001b[0m      \u001b[38;5;66;03m#tenter de convertir un nombre en int. Possible seulement si c'est un int\u001b[39;00m\n\u001b[1;32m----> 4\u001b[0m     nombre1 \u001b[38;5;241m=\u001b[39m \u001b[38;5;28;43mint\u001b[39;49m\u001b[43m(\u001b[49m\u001b[38;5;28;43minput\u001b[39;49m\u001b[43m(\u001b[49m\u001b[38;5;124;43m\"\u001b[39;49m\u001b[38;5;124;43mEntrez le premier nombre entier : \u001b[39;49m\u001b[38;5;124;43m\"\u001b[39;49m\u001b[43m)\u001b[49m\u001b[43m)\u001b[49m\n\u001b[0;32m      5\u001b[0m     nombre2 \u001b[38;5;241m=\u001b[39m \u001b[38;5;28mint\u001b[39m(\u001b[38;5;28minput\u001b[39m(\u001b[38;5;124m\"\u001b[39m\u001b[38;5;124mEntrez le deuxième nombre entier : \u001b[39m\u001b[38;5;124m\"\u001b[39m))\n",
      "\u001b[1;31mValueError\u001b[0m: invalid literal for int() with base 10: 'f'",
      "\nDuring handling of the above exception, another exception occurred:\n",
      "\u001b[1;31mValueError\u001b[0m                                Traceback (most recent call last)",
      "Cell \u001b[1;32mIn[13], line 10\u001b[0m\n\u001b[0;32m      8\u001b[0m     \u001b[38;5;28;01mbreak\u001b[39;00m  \u001b[38;5;66;03m# Sort de la boucle si les entrées sont valides\u001b[39;00m\n\u001b[0;32m      9\u001b[0m \u001b[38;5;28;01mexcept\u001b[39;00m:\n\u001b[1;32m---> 10\u001b[0m     \u001b[38;5;28;01mraise\u001b[39;00m \u001b[38;5;167;01mValueError\u001b[39;00m(\u001b[38;5;124m\"\u001b[39m\u001b[38;5;124mOn veut des nombres!!!!\u001b[39m\u001b[38;5;124m\"\u001b[39m)\n",
      "\u001b[1;31mValueError\u001b[0m: On veut des nombres!!!!"
     ]
    }
   ],
   "source": [
    "while True:\n",
    "    try:\n",
    "         #tenter de convertir un nombre en int. Possible seulement si c'est un int\n",
    "        nombre1 = int(input(\"Entrez le premier nombre entier : \"))\n",
    "        nombre2 = int(input(\"Entrez le deuxième nombre entier : \"))\n",
    "        somme = nombre1 + nombre2\n",
    "        print(f\"La somme de {nombre1} et {nombre2} est égale à {somme}.\")\n",
    "        break  # Sort de la boucle si les entrées sont valides\n",
    "    except:\n",
    "        raise ValueError(\"On veut des nombres!!!!\")\n"
   ]
  },
  {
   "cell_type": "markdown",
   "id": "a041da9b-c4ea-45c1-8437-c7373b751d16",
   "metadata": {},
   "source": [
    "## 4- Exercices Synthèse"
   ]
  },
  {
   "cell_type": "markdown",
   "id": "65ec72ff-fb95-4ec7-a296-eea8426b0a38",
   "metadata": {
    "tags": []
   },
   "source": [
    "***\n",
    "<u>Exercice 8: </u> *Tri croissant.*  \n",
    "\n",
    "Écrivez un programme qui demande à l'utilisateur d'entrer une chaîne de caractères.   \n",
    "1- Verifier si cette chaine contient des chiffres.   \n",
    "2- Si cette chaine contient des chiffres vérifier si elle contient des caractères qui ne sont pas des chiffres.  \n",
    "3- Si elle contient des caractères qui ne sont pas des chiffres, les supprimer.  \n",
    "4- Classer ces chiffres par ordre décroissant.  \n"
   ]
  },
  {
   "cell_type": "markdown",
   "id": "71b2e887-ce45-4f64-a946-a5c8af27cb2d",
   "metadata": {},
   "source": [
    "***<center>SOLUTION</center>***"
   ]
  },
  {
   "cell_type": "markdown",
   "id": "5de82eb6-7971-4014-93a4-84d4198c48f6",
   "metadata": {
    "tags": []
   },
   "source": [
    "1- Verifier si cette chaine contient des chiffres. "
   ]
  },
  {
   "cell_type": "code",
   "execution_count": 14,
   "id": "92dc237b-5d99-47b2-81bc-f78fb2acc287",
   "metadata": {
    "tags": []
   },
   "outputs": [
    {
     "name": "stdin",
     "output_type": "stream",
     "text": [
      "Entrez une chaîne de caractères :  1azerty53\n"
     ]
    },
    {
     "name": "stdout",
     "output_type": "stream",
     "text": [
      "La chaine contient un ou des chiffres \n"
     ]
    }
   ],
   "source": [
    "# Demander à l'utilisateur d'entrer une chaîne de caractères\n",
    "chaine = input(\"Entrez une chaîne de caractères : \")\n",
    "\n",
    "contient_chiffres = False\n",
    "for char in chaine:\n",
    "    \n",
    "    if (char == '0' or char == '1' or char == '2'or char == '3'or char == '4'\n",
    "        or char == '5' or char == '6'or char == '7'or char == '8'or char == '9'):\n",
    "        contient_chiffres = True \n",
    "        \n",
    "if contient_chiffres:\n",
    "    print('La chaine contient un ou des chiffres ')\n",
    "else:\n",
    "    print('La chaine ne contient pas de chiffres ')"
   ]
  },
  {
   "cell_type": "markdown",
   "id": "0e99975a-45d9-4b8b-8ea8-7722b6eeb7ee",
   "metadata": {},
   "source": [
    "2- Si cette chaine contient des chiffres vérifier si elle contient des caractères qui ne sont pas des chiffres"
   ]
  },
  {
   "cell_type": "code",
   "execution_count": 15,
   "id": "f293c37d-fc95-44d4-9a80-6a502b6e1fc6",
   "metadata": {
    "tags": []
   },
   "outputs": [
    {
     "name": "stdin",
     "output_type": "stream",
     "text": [
      "Entrez une chaîne de caractères :  1azerty53\n"
     ]
    },
    {
     "name": "stdout",
     "output_type": "stream",
     "text": [
      "La chaine contient des chiffres \n",
      "La chaine contient d'autres caractères\n"
     ]
    }
   ],
   "source": [
    "# Demander à l'utilisateur d'entrer une chaîne de caractères\n",
    "chaine = input(\"Entrez une chaîne de caractères : \")\n",
    "\n",
    "contient_chiffres = False\n",
    "contient_autres = False   #Variable qui changera d'état si la condition est respectée\n",
    "\n",
    "\n",
    "for char in chaine:\n",
    "    \n",
    "    if (char == '0' or char == '1' or char == '2'or char == '3'or char == '4'\n",
    "        or char == '5' or char == '6'or char == '7'or char == '8'or char == '9'):\n",
    "        contient_chiffres = True \n",
    "    if (char != '0' and char != '1' and char != '2' and char != '3' and char != '4' #<======\n",
    "        and char != '5' and char != '6' and char != '7' and char != '8' and char != '9'):  #<======\n",
    "        # si le caractere est autre chose qu'un chiffre, variable passe à True\n",
    "        contient_autres = True \n",
    "        \n",
    "if contient_chiffres:\n",
    "    print('La chaine contient des chiffres ')\n",
    "else:\n",
    "    print('La chaine ne contient pas de chiffres ')\n",
    "    \n",
    "if contient_autres:   #<======\n",
    "    print(\"La chaine contient d'autres caractères\")  #<======\n",
    "else:  #<======\n",
    "    print(\"La chaine ne contient pas d'autres caracteres\") #<======"
   ]
  },
  {
   "cell_type": "markdown",
   "id": "1804cf1a-7664-4485-af19-ce9cc0ab8288",
   "metadata": {},
   "source": [
    "3- Si elle contient des caractères qui ne sont pas des chiffres, les supprimer"
   ]
  },
  {
   "cell_type": "code",
   "execution_count": 16,
   "id": "d784c6fc-7fc9-4761-83c5-4fd5b6ecda51",
   "metadata": {
    "tags": []
   },
   "outputs": [
    {
     "name": "stdin",
     "output_type": "stream",
     "text": [
      "Entrez une chaîne de caractères (avec dec chiffres et d'autres caractères) :  1azerty53\n"
     ]
    },
    {
     "name": "stdout",
     "output_type": "stream",
     "text": [
      "La chaine contient des chiffres \n",
      "La chaine contient d'autres caractères qui sont:  ['a', 'z', 'e', 'r', 't', 'y']\n",
      "La chaine avec uniquement les chiffres:  153\n"
     ]
    }
   ],
   "source": [
    "# Demander à l'utilisateur d'entrer une chaîne de caractères\n",
    "chaine = input(\"Entrez une chaîne de caractères (avec dec chiffres et d'autres caractères) : \")\n",
    "contient_chiffre = False\n",
    "contient_autres = False\n",
    "\n",
    "#liste vide qui servira à collecter les caracteres qui ne sont pas des chiffres\n",
    "liste_autres_caracteres = [] #<======\n",
    "\n",
    "for char in chaine:\n",
    "    if (char == '0' or char == '1' or char == '2'or char == '3'or char == '4'\n",
    "        or char == '5' or char == '6'or char == '7'or char == '8'or char == '9'):\n",
    "            contient_chiffres = True \n",
    "    if (char != '0' and char != '1' and char != '2' and char != '3' and char != '4' \n",
    "        and char != '5' and char != '6' and char != '7' and char != '8' and char != '9'):                       \n",
    "            contient_autres = True \n",
    "            # ajouter les caracteres qui ne sont pas des chiffres à la liste\n",
    "            liste_autres_caracteres.append(char) #<======\n",
    "        \n",
    "if contient_chiffres:\n",
    "    print('La chaine contient des chiffres ')\n",
    "else:\n",
    "    print('La chaine ne contient pas de chiffres ')\n",
    "    \n",
    "if contient_autres:                                                                                  \n",
    "    print(\"La chaine contient d'autres caractères qui sont: \",liste_autres_caracteres) \n",
    "else:                                                                                                \n",
    "    print(\"La chaine ne contient pas d'autres caracteres\")   \n",
    "\n",
    "    \n",
    "# Parcourir liste des caracteres qui ne sont pas des chiffres\n",
    "for char in liste_autres_caracteres:  #<======\n",
    "     #remplacer les caracteres par... rien , dans la chaine initiale \n",
    "    chaine = chaine.replace(char, '')#<======\n",
    "print('La chaine avec uniquement les chiffres: ',chaine) #<======"
   ]
  },
  {
   "cell_type": "markdown",
   "id": "877b0ebb-fd30-4b0c-97a2-06d37f5c1b79",
   "metadata": {
    "tags": []
   },
   "source": [
    "4- Classer ces chiffres par ordre décroissant"
   ]
  },
  {
   "cell_type": "code",
   "execution_count": 17,
   "id": "b9ac9459-03a0-4b9c-88d3-edc16e13c2ba",
   "metadata": {
    "tags": []
   },
   "outputs": [
    {
     "name": "stdout",
     "output_type": "stream",
     "text": [
      "['1', '5', '3']\n",
      "['5', '3', '1']\n",
      "Nouvelle chaine triée :  531\n"
     ]
    }
   ],
   "source": [
    " #convertir la chaine en liste pour avoir accès aux fonctions de tri\n",
    "liste_chaine = list(chaine)\n",
    "print(liste_chaine)\n",
    "# tri en ordre inverse\n",
    "liste_chaine_triee = sorted(liste_chaine, reverse=True) \n",
    "\n",
    "print(liste_chaine_triee)\n",
    "nouvelle_chaine = ''\n",
    "\n",
    "#convertir la liste en chaine (si on utilise un \n",
    "#changement de type avec str(), on aurait eu  comme[ ...]\n",
    "\n",
    "for item in liste_chaine_triee: \n",
    "    nouvelle_chaine = nouvelle_chaine+item\n",
    "print('Nouvelle chaine triée : ',nouvelle_chaine)\n",
    "    "
   ]
  },
  {
   "cell_type": "markdown",
   "id": "58d65313-4e32-41d2-a470-72f07b4b189f",
   "metadata": {},
   "source": [
    "Code complet:"
   ]
  },
  {
   "cell_type": "code",
   "execution_count": 18,
   "id": "2087f625-cffa-4786-bd0a-985ac130b814",
   "metadata": {},
   "outputs": [
    {
     "name": "stdin",
     "output_type": "stream",
     "text": [
      "Entrez une chaîne de caractères :  1azerty53\n"
     ]
    },
    {
     "name": "stdout",
     "output_type": "stream",
     "text": [
      "La chaine contient des chiffres \n",
      "La chaine contient d'autres caractères qui sont:  ['a', 'z', 'e', 'r', 't', 'y']\n",
      "153\n",
      "['1', '5', '3']\n",
      "['5', '3', '1']\n",
      "Nouvelle chaine triée :  531\n"
     ]
    }
   ],
   "source": [
    "# Demander à l'utilisateur d'entrer une chaîne de caractères\n",
    "chaine = input(\"Entrez une chaîne de caractères : \")\n",
    "\n",
    "contient_chiffres = False\n",
    "contient_autres = False\n",
    "#liste vide qui servira à collecter les caracteres qui ne sont pas des chiffres\n",
    "liste_autres_caracteres = [] \n",
    "\n",
    "for char in chaine:\n",
    "    if (char == '0' or char == '1' or char == '2'or char == '3'or char == '4'\n",
    "        or char == '5' or char == '6'or char == '7'or char == '8'or char == '9'):\n",
    "            contient_chiffres = True \n",
    "    if (char != '0' and char != '1' and char != '2' and char != '3' and char != '4'\n",
    "        and char != '5' and char != '6' and char != '7' and char != '8' and char != '9'):                       \n",
    "            contient_autres = True \n",
    "            # ajouter les caracteres qui ne sont pas des chiffres à la liste\n",
    "            liste_autres_caracteres.append(char) \n",
    "        \n",
    "if contient_chiffres:\n",
    "    print('La chaine contient des chiffres ')\n",
    "else:\n",
    "    print('La chaine ne contient pas de chiffres ')\n",
    "    \n",
    "if contient_autres:                                                                                  \n",
    "    print(\"La chaine contient d'autres caractères qui sont: \",liste_autres_caracteres)\n",
    "else:                                                                                                \n",
    "    print(\"La chaine ne contient pas d'autres caracteres\")   \n",
    "\n",
    "    \n",
    "# Parcourir liste des caracteres qui ne sont pas des chiffres\n",
    "for char in liste_autres_caracteres: \n",
    "    #remplacer les caraceres pas.. rien , dans la chaine initiale\n",
    "    chaine = chaine.replace(char, '') \n",
    "print(chaine)\n",
    "\n",
    "#convertir la chaine en liste pour avoir accès aux fonctions de tri\n",
    "liste_chaine = list(chaine) \n",
    "print(liste_chaine)\n",
    "# tri en ordre inverse\n",
    "liste_chaine_triee = sorted(liste_chaine, reverse=True) \n",
    "\n",
    "print(liste_chaine_triee)\n",
    "\n",
    "\n",
    "nouvelle_chaine = ''\n",
    "#convertir la liste en chaine (si on utilise un \n",
    "#changement de type avec str(), on aurait eu  comme[ ...])\n",
    "for item in liste_chaine_triee: \n",
    "    nouvelle_chaine = nouvelle_chaine+item\n",
    "print('Nouvelle chaine triée : ',nouvelle_chaine)\n"
   ]
  },
  {
   "cell_type": "markdown",
   "id": "0375f786-a7e0-4fa1-9a10-ce935a4843f8",
   "metadata": {},
   "source": [
    "Remarque pour les conditions chiffre ou autre caractere on aurait pu utiliser **.isdigit()**, ça serait plus élégant..."
   ]
  },
  {
   "cell_type": "code",
   "execution_count": 19,
   "id": "fef62a03-d983-48e7-821e-096f2493073c",
   "metadata": {
    "tags": []
   },
   "outputs": [
    {
     "name": "stdin",
     "output_type": "stream",
     "text": [
      "Entrez une chaîne de caractères :  1azerty53\n"
     ]
    },
    {
     "name": "stdout",
     "output_type": "stream",
     "text": [
      "La chaine contient des chiffres \n",
      "La chaine contient d'autres caractères qui sont:  ['a', 'z', 'e', 'r', 't', 'y']\n",
      "153\n",
      "['1', '5', '3']\n",
      "['5', '3', '1']\n",
      "Nouvelle chaine triée :  531\n"
     ]
    }
   ],
   "source": [
    "# Demander à l'utilisateur d'entrer une chaîne de caractères\n",
    "chaine = input(\"Entrez une chaîne de caractères : \")\n",
    "\n",
    "contient_chiffres = False\n",
    "contient_autres = False\n",
    "#liste vide qui servira à collecter les caracteres qui ne sont pas des chiffres\n",
    "liste_autres_caracteres = []\n",
    "\n",
    "for char in chaine:\n",
    "    if char.isdigit():\n",
    "        contient_chiffres = True \n",
    "    else:                    \n",
    "            contient_autres = True \n",
    "            # ajouter les caracteres qui ne sont pas des chiffres à la liste\n",
    "            liste_autres_caracteres.append(char) \n",
    "        \n",
    "if contient_chiffres:\n",
    "    print('La chaine contient des chiffres ')\n",
    "else:\n",
    "    print('La chaine ne contient pas de chiffres ')\n",
    "    \n",
    "if contient_autres:                                                                                  \n",
    "    print(\"La chaine contient d'autres caractères qui sont: \",liste_autres_caracteres)\n",
    "else:                                                                                                \n",
    "    print(\"La chaine ne contient pas d'autres caracteres\")   \n",
    "\n",
    "    \n",
    "# Parcourir liste des caracteres qui ne sont pas des chiffres\n",
    "for char in liste_autres_caracteres: \n",
    "    #remplacer les caraceres pas.. rien , dans la chaine initiale\n",
    "    chaine = chaine.replace(char, '') \n",
    "print(chaine)\n",
    "#convertir la chaine en liste pour avoir accès aux fonctions de tri\n",
    "liste_chaine = list(chaine)\n",
    "print(liste_chaine)\n",
    "liste_chaine_triee = sorted(liste_chaine, reverse=True) # tri en ordre inverse\n",
    "\n",
    "print(liste_chaine_triee)\n",
    "nouvelle_chaine = ''\n",
    "#convertir la liste en chaine (si on utilise un \n",
    "#changement de type avec str(), on aurait eu  comme[ ...])\n",
    "for item in liste_chaine_triee: \n",
    "    nouvelle_chaine = nouvelle_chaine+item\n",
    "print('Nouvelle chaine triée : ',nouvelle_chaine)\n"
   ]
  },
  {
   "cell_type": "markdown",
   "id": "c43093ce-100a-4883-a9e5-a60f9bd49c80",
   "metadata": {},
   "source": [
    "***\n",
    "<u>Exercice 9 : Liste de courses.</u>\n",
    "\n",
    "Écrire un programme qui permet à un utilisateur de gérer une liste de courses. Le programme devrait permettre à l'utilisateur d'ajouter des articles, de les supprimer, de les afficher, et de vérifier si un article est présent dans la liste.\n",
    "\n",
    "*Les étapes seront :*\n",
    "\n",
    "- *Partie 1 : Création du Menu*\n",
    "\n",
    "  Le menu doit commencer par un message d'accueil et permettre à l'utilisateur de choisir :\n",
    "\n",
    "  - Avec la touche 1 : Ajouter des articles à la liste.\n",
    "  - Avec la touche 2 : Supprimer des articles de la liste.\n",
    "  - Avec la touche 3 : Afficher la liste de courses.\n",
    "  - Avec la touche 4 : Vérifier si un article est dans la liste.\n",
    "  - Avec la touche 5 : Quitter le programme.\n",
    "</p>\n",
    "\n",
    "- *Partie 2 : Ajout d'articles*\n",
    "\n",
    "  Quand l'utilisateur choisit 'Ajouter des articles à la liste':\n",
    "  - Demandez lui d'entrer le nombre d'articles \n",
    "  - Ajouter les articles saisis par l'utilisateur\n",
    "  \n",
    "  \n",
    "  Quand l'utilisateur choisit 'Afficher la liste de courses': Afficher la liste. Si elle est vide, afficher le message 'La liste est vide'\n",
    "  \n",
    "- *Partie 3 : Suppression d'articles*  \n",
    "\n",
    "  Implementer la partie 'Supprimer des articles de la liste'\n",
    "  \n",
    "- *Partie 4 : Vérification d'articles*   \n",
    "\n",
    "  Implementer la partie 'Vérifier si un article est dans la liste.'\n",
    "  \n",
    "- *Partie 5 : Vérification d'articles*   \n",
    "\n",
    "  Implementer la partie 'Quitter le programme.'"
   ]
  },
  {
   "cell_type": "markdown",
   "id": "6e48dc5c-0101-47d9-8be5-228404ed255e",
   "metadata": {},
   "source": [
    "***<center>SOLUTION</center>***"
   ]
  },
  {
   "cell_type": "code",
   "execution_count": 20,
   "id": "54e6c363-f3e7-4f3f-a329-2af0b0792b8d",
   "metadata": {
    "tags": []
   },
   "outputs": [
    {
     "name": "stdout",
     "output_type": "stream",
     "text": [
      "*****************************************************\n",
      "Bienvenue dans le gestionnaire de liste de courses !\n",
      "Menu d'options :\n",
      "1. Ajouter des articles à la liste\n",
      "2. Supprimer des articles de la liste\n",
      "3. Afficher la liste de courses\n",
      "4. Vérifier si un article est dans la liste\n",
      "5. Quitter le programme\n"
     ]
    },
    {
     "name": "stdin",
     "output_type": "stream",
     "text": [
      "Choisissez une option (1/2/3/4/5) :  5\n"
     ]
    },
    {
     "name": "stdout",
     "output_type": "stream",
     "text": [
      "Merci d'avoir utilisé le gestionnaire de liste de courses. Au revoir !\n"
     ]
    }
   ],
   "source": [
    "# Partie 1: Création du menu\n",
    "liste_courses = []\n",
    "\n",
    "while True:\n",
    "    # Afficher le menu\n",
    "    print(\"*****************************************************\")\n",
    "    print(\"Bienvenue dans le gestionnaire de liste de courses !\")\n",
    "    print(\"Menu d'options :\")\n",
    "    print(\"1. Ajouter des articles à la liste\")\n",
    "    print(\"2. Supprimer des articles de la liste\")\n",
    "    print(\"3. Afficher la liste de courses\")\n",
    "    print(\"4. Vérifier si un article est dans la liste\")\n",
    "    print(\"5. Quitter le programme\")\n",
    "\n",
    "    # Demander à l'utilisateur de choisir une option\n",
    "    choix = input(\"Choisissez une option (1/2/3/4/5) : \")\n",
    "\n",
    "    # Gérer les choix de l'utilisateur\n",
    "    if choix == \"1\":\n",
    "        # Partie 2 : Ajouter un article à la liste (à implémenter)\n",
    "        print('Ajout')\n",
    "    elif choix == \"2\":\n",
    "        # Partie 3 : Supprimer un article de la liste (à implémenter)\n",
    "        print('Suppression')\n",
    "    elif choix == \"3\":\n",
    "        # Partie 4 : Afficher la liste de courses (à implémenter)\n",
    "        print('Affichage')\n",
    "    elif choix == \"4\":\n",
    "        # Partie 5 : Vérifier si un article est dans la liste (à implémenter)\n",
    "        print('Vérification présence')\n",
    "    elif choix == \"5\":\n",
    "        # Partie 6 : Quitter le programme\n",
    "        print(\"Merci d'avoir utilisé le gestionnaire de liste de courses. Au revoir !\")\n",
    "        break\n",
    "    else:\n",
    "        print(\"Choix invalide. Veuillez choisir une option valide (1/2/3/4/5).\")\n"
   ]
  },
  {
   "cell_type": "code",
   "execution_count": null,
   "id": "9d04a789-01c2-4acc-8fc5-9d45b247733b",
   "metadata": {
    "tags": []
   },
   "outputs": [],
   "source": [
    "# Partie 2: Ajout d'articles\n",
    "liste_courses = []\n",
    "\n",
    "while True:\n",
    "    # Afficher le menu\n",
    "    print(\"*****************************************************\")\n",
    "    print(\"Bienvenue dans le gestionnaire de liste de courses !\")\n",
    "    print(\"Menu d'options :\")\n",
    "    print(\"1. Ajouter des articles à la liste\")\n",
    "    print(\"2. Supprimer des articles de la liste\")\n",
    "    print(\"3. Afficher la liste de courses\")\n",
    "    print(\"4. Vérifier si un article est dans la liste\")\n",
    "    print(\"5. Quitter le programme\")\n",
    "\n",
    "    # Demander à l'utilisateur de choisir une option\n",
    "    choix = input(\"Choisissez une option (1/2/3/4/5) : \")\n",
    "\n",
    "    # Gérer les choix de l'utilisateur\n",
    "    if choix == \"1\":\n",
    "        nombre_articles = int(input(\"Combien d'articles souhaitez-vous ajouter à la liste ? \"))#<======\n",
    "    \n",
    "        # Utiliser une boucle pour saisir les articles et les ajouter à la liste #<======\n",
    "        for i in range(nombre_articles): #<======\n",
    "            article = input(f\"Entrez l'article #{i +1} : \") #<======\n",
    "            liste_courses.append(article) #<======\n",
    "    \n",
    "        print(f\"{nombre_articles} articles ajoutés à la liste.\") #<======\n",
    "    elif choix == \"2\":\n",
    "        # Partie 3 : Supprimer un article de la liste (à implémenter)\n",
    "        print('Suppression')\n",
    "    elif choix == \"3\": #<======\n",
    "        if len(liste_courses)== 0: #<======\n",
    "            print('La liste est vide') #<======\n",
    "        else:\n",
    "            print('La liste actuelle est: ',liste_courses) #<======\n",
    "    elif choix == \"4\":\n",
    "        # Partie 4 : Vérifier si un article est dans la liste (à implémenter)\n",
    "        print('Vérification présence')\n",
    "    elif choix == \"5\":\n",
    "        # Partie 5 : Quitter le programme\n",
    "        print(\"Merci d'avoir utilisé le gestionnaire de liste de courses. Au revoir !\")\n",
    "        break\n",
    "    else:\n",
    "        print(\"Choix invalide. Veuillez choisir une option valide (1/2/3/4/5).\")\n"
   ]
  },
  {
   "cell_type": "code",
   "execution_count": 21,
   "id": "2a3e46f3-08ad-4776-ae15-6e9b04c5b58b",
   "metadata": {
    "tags": []
   },
   "outputs": [
    {
     "name": "stdout",
     "output_type": "stream",
     "text": [
      "*****************************************************\n",
      "Bienvenue dans le gestionnaire de liste de courses !\n",
      "Menu d'options :\n",
      "1. Ajouter des articles à la liste\n",
      "2. Supprimer des articles de la liste\n",
      "3. Afficher la liste de courses\n",
      "4. Vérifier si un article est dans la liste\n",
      "5. Quitter le programme\n"
     ]
    },
    {
     "name": "stdin",
     "output_type": "stream",
     "text": [
      "Choisissez une option (1/2/3/4/5) :  1\n",
      "Combien d'articles souhaitez-vous ajouter à la liste ?  2\n",
      "Entrez l'article #1 :  carottes\n",
      "Entrez l'article #2 :  choux\n"
     ]
    },
    {
     "name": "stdout",
     "output_type": "stream",
     "text": [
      "2 articles ajoutés à la liste.\n",
      "*****************************************************\n",
      "Bienvenue dans le gestionnaire de liste de courses !\n",
      "Menu d'options :\n",
      "1. Ajouter des articles à la liste\n",
      "2. Supprimer des articles de la liste\n",
      "3. Afficher la liste de courses\n",
      "4. Vérifier si un article est dans la liste\n",
      "5. Quitter le programme\n"
     ]
    },
    {
     "name": "stdin",
     "output_type": "stream",
     "text": [
      "Choisissez une option (1/2/3/4/5) :  5\n"
     ]
    },
    {
     "name": "stdout",
     "output_type": "stream",
     "text": [
      "Merci d'avoir utilisé le gestionnaire de liste de courses. Au revoir !\n"
     ]
    }
   ],
   "source": [
    "# Partie 3: Suppression d'articles\n",
    "liste_courses = []\n",
    "\n",
    "while True:\n",
    "    # Afficher le menu\n",
    "    print(\"*****************************************************\")\n",
    "    print(\"Bienvenue dans le gestionnaire de liste de courses !\")\n",
    "    print(\"Menu d'options :\")\n",
    "    print(\"1. Ajouter des articles à la liste\")\n",
    "    print(\"2. Supprimer des articles de la liste\")\n",
    "    print(\"3. Afficher la liste de courses\")\n",
    "    print(\"4. Vérifier si un article est dans la liste\")\n",
    "    print(\"5. Quitter le programme\")\n",
    "\n",
    "    # Demander à l'utilisateur de choisir une option\n",
    "    choix = input(\"Choisissez une option (1/2/3/4/5) : \")\n",
    "\n",
    "    # Gérer les choix de l'utilisateur\n",
    "    if choix == \"1\":\n",
    "        nombre_articles = int(input(\"Combien d'articles souhaitez-vous ajouter à la liste ? \"))\n",
    "    \n",
    "        # Utiliser une boucle pour saisir les articles et les ajouter à la liste\n",
    "        for i in range(nombre_articles):\n",
    "            article = input(f\"Entrez l'article #{i + 1} : \")\n",
    "            liste_courses.append(article)\n",
    "    \n",
    "        print(f\"{nombre_articles} articles ajoutés à la liste.\")\n",
    "    elif choix == \"2\":\n",
    "        article_a_supprimer = input(\"Entrez l'article que vous souhaitez supprimer : \") #<======\n",
    "    \n",
    "        if article_a_supprimer in liste_courses: #<======\n",
    "            liste_courses.remove(article_a_supprimer) #<======\n",
    "            print(f\"{article_a_supprimer} a été supprimé de la liste.\") #<======\n",
    "        else: #<======\n",
    "            print(f\"{article_a_supprimer} n'est pas dans la liste.\") #<======\n",
    "        \n",
    "    elif choix == \"3\":\n",
    "        if len(liste_courses)== 0:\n",
    "            print('La liste est vide')\n",
    "        else:\n",
    "            print('La liste actuelle est: ',liste_courses)\n",
    "    elif choix == \"4\":\n",
    "        # Partie 5 : Vérifier si un article est dans la liste (à implémenter)\n",
    "        print('Vérification présence')\n",
    "    elif choix == \"5\":\n",
    "       \n",
    "        print(\"Merci d'avoir utilisé le gestionnaire de liste de courses. Au revoir !\")\n",
    "        break\n",
    "    else:\n",
    "        print(\"Choix invalide. Veuillez choisir une option valide (1/2/3/4/5).\")"
   ]
  },
  {
   "cell_type": "code",
   "execution_count": null,
   "id": "159e6beb-5b73-4e7e-9151-1f44764d4797",
   "metadata": {
    "tags": []
   },
   "outputs": [],
   "source": [
    "# Partie 4: Vérification d'articles\n",
    "liste_courses = []\n",
    "\n",
    "while True:\n",
    "    # Afficher le menu\n",
    "    print(\"*****************************************************\")\n",
    "    print(\"Bienvenue dans le gestionnaire de liste de courses !\")\n",
    "    print(\"Menu d'options :\")\n",
    "    print(\"1. Ajouter des articles à la liste\")\n",
    "    print(\"2. Supprimer des articles de la liste\")\n",
    "    print(\"3. Afficher la liste de courses\")\n",
    "    print(\"4. Vérifier si un article est dans la liste\")\n",
    "    print(\"5. Quitter le programme\")\n",
    "\n",
    "    # Demander à l'utilisateur de choisir une option\n",
    "    choix = input(\"Choisissez une option (1/2/3/4/5) : \")\n",
    "\n",
    "    # Gérer les choix de l'utilisateur\n",
    "    if choix == \"1\":\n",
    "        nombre_articles = int(input(\"Combien d'articles souhaitez-vous ajouter à la liste ? \"))\n",
    "    \n",
    "        # Utiliser une boucle pour saisir les articles et les ajouter à la liste\n",
    "        for i in range(nombre_articles):\n",
    "            article = input(f\"Entrez l'article #{i + 1} : \")\n",
    "            liste_courses.append(article)\n",
    "    \n",
    "        print(f\"{nombre_articles} articles ajoutés à la liste.\")\n",
    "    elif choix == \"2\":\n",
    "        article_a_supprimer = input(\"Entrez l'article que vous souhaitez supprimer : \")\n",
    "    \n",
    "        if article_a_supprimer in liste_courses:\n",
    "            liste_courses.remove(article_a_supprimer)\n",
    "            print(f\"{article_a_supprimer} a été supprimé de la liste.\")\n",
    "        else:\n",
    "            print(f\"{article_a_supprimer} n'est pas dans la liste.\")\n",
    "        \n",
    "    elif choix == \"3\":\n",
    "        if len(liste_courses)== 0:\n",
    "            print('La liste est vide')\n",
    "        else:\n",
    "            print('La liste actuelle est: ',liste_courses)\n",
    "    elif choix == \"4\":\n",
    "        article_a_verifier = input(\"Entrez l'article que vous souhaitez vérifier : \") #<======\n",
    "        if article_a_verifier in liste_courses: #<======\n",
    "            print(f\"{article_a_verifier} est dans la liste.\") #<=== \n",
    "        else: #<======\n",
    "            print(f\"{article_a_verifier} n'est pas dans la liste.\") #<======\n",
    "    elif choix == \"5\":\n",
    "        print(\"Merci d'avoir utilisé le gestionnaire de liste de courses. Au revoir !\")\n",
    "        break\n",
    "    else:\n",
    "        print(\"Choix invalide. Veuillez choisir une option valide (1/2/3/4/5).\")"
   ]
  },
  {
   "cell_type": "code",
   "execution_count": 23,
   "id": "8a3f8d1a-3050-4435-b6cb-49b90378fd21",
   "metadata": {},
   "outputs": [
    {
     "name": "stdout",
     "output_type": "stream",
     "text": [
      "*****************************************************\n",
      "Bienvenue dans le gestionnaire de liste de courses !\n",
      "Menu d'options :\n",
      "1. Ajouter des articles à la liste\n",
      "2. Supprimer des articles de la liste\n",
      "3. Afficher la liste de courses\n",
      "4. Vérifier si un article est dans la liste\n",
      "5. Quitter le programme\n"
     ]
    },
    {
     "name": "stdin",
     "output_type": "stream",
     "text": [
      "Choisissez une option (1/2/3/4/5) :  2\n",
      "Entrez l'article que vous souhaitez supprimer :  carottes\n"
     ]
    },
    {
     "name": "stdout",
     "output_type": "stream",
     "text": [
      "carottes n'est pas dans la liste.\n",
      "*****************************************************\n",
      "Bienvenue dans le gestionnaire de liste de courses !\n",
      "Menu d'options :\n",
      "1. Ajouter des articles à la liste\n",
      "2. Supprimer des articles de la liste\n",
      "3. Afficher la liste de courses\n",
      "4. Vérifier si un article est dans la liste\n",
      "5. Quitter le programme\n"
     ]
    },
    {
     "name": "stdin",
     "output_type": "stream",
     "text": [
      "Choisissez une option (1/2/3/4/5) :  1\n",
      "Combien d'articles souhaitez-vous ajouter à la liste ?  2\n",
      "Entrez l'article #1 :  carottes\n",
      "Entrez l'article #2 :  choux\n"
     ]
    },
    {
     "name": "stdout",
     "output_type": "stream",
     "text": [
      "2 articles ajoutés à la liste.\n",
      "*****************************************************\n",
      "Bienvenue dans le gestionnaire de liste de courses !\n",
      "Menu d'options :\n",
      "1. Ajouter des articles à la liste\n",
      "2. Supprimer des articles de la liste\n",
      "3. Afficher la liste de courses\n",
      "4. Vérifier si un article est dans la liste\n",
      "5. Quitter le programme\n"
     ]
    },
    {
     "name": "stdin",
     "output_type": "stream",
     "text": [
      "Choisissez une option (1/2/3/4/5) :  3\n"
     ]
    },
    {
     "name": "stdout",
     "output_type": "stream",
     "text": [
      "La liste actuelle est:  ['carottes', 'choux']\n",
      "*****************************************************\n",
      "Bienvenue dans le gestionnaire de liste de courses !\n",
      "Menu d'options :\n",
      "1. Ajouter des articles à la liste\n",
      "2. Supprimer des articles de la liste\n",
      "3. Afficher la liste de courses\n",
      "4. Vérifier si un article est dans la liste\n",
      "5. Quitter le programme\n"
     ]
    },
    {
     "name": "stdin",
     "output_type": "stream",
     "text": [
      "Choisissez une option (1/2/3/4/5) :  4\n",
      "Entrez l'article que vous souhaitez vérifier :  choux\n"
     ]
    },
    {
     "name": "stdout",
     "output_type": "stream",
     "text": [
      "choux est dans la liste.\n",
      "*****************************************************\n",
      "Bienvenue dans le gestionnaire de liste de courses !\n",
      "Menu d'options :\n",
      "1. Ajouter des articles à la liste\n",
      "2. Supprimer des articles de la liste\n",
      "3. Afficher la liste de courses\n",
      "4. Vérifier si un article est dans la liste\n",
      "5. Quitter le programme\n"
     ]
    },
    {
     "name": "stdin",
     "output_type": "stream",
     "text": [
      "Choisissez une option (1/2/3/4/5) :  5\n"
     ]
    },
    {
     "name": "stdout",
     "output_type": "stream",
     "text": [
      "Merci d'avoir utilisé le gestionnaire de liste de courses. Au revoir !\n"
     ]
    }
   ],
   "source": [
    "# Partie 5 : Quitter le programme\n",
    "liste_courses = []\n",
    "\n",
    "while True:\n",
    "    # Afficher le menu\n",
    "    print(\"*****************************************************\")\n",
    "    print(\"Bienvenue dans le gestionnaire de liste de courses !\")\n",
    "    print(\"Menu d'options :\")\n",
    "    print(\"1. Ajouter des articles à la liste\")\n",
    "    print(\"2. Supprimer des articles de la liste\")\n",
    "    print(\"3. Afficher la liste de courses\")\n",
    "    print(\"4. Vérifier si un article est dans la liste\")\n",
    "    print(\"5. Quitter le programme\")\n",
    "\n",
    "    # Demander à l'utilisateur de choisir une option\n",
    "    choix = input(\"Choisissez une option (1/2/3/4/5) : \")\n",
    "\n",
    "    # Gérer les choix de l'utilisateur\n",
    "    if choix == \"1\":\n",
    "        nombre_articles = int(input(\"Combien d'articles souhaitez-vous ajouter à la liste ? \"))\n",
    "    \n",
    "        # Utiliser une boucle pour saisir les articles et les ajouter à la liste\n",
    "        for i in range(nombre_articles):\n",
    "            article = input(f\"Entrez l'article #{i + 1} : \")\n",
    "            liste_courses.append(article)\n",
    "    \n",
    "        print(f\"{nombre_articles} articles ajoutés à la liste.\")\n",
    "    elif choix == \"2\":\n",
    "        article_a_supprimer = input(\"Entrez l'article que vous souhaitez supprimer : \")\n",
    "    \n",
    "        if article_a_supprimer in liste_courses:\n",
    "            liste_courses.remove(article_a_supprimer)\n",
    "            print(f\"{article_a_supprimer} a été supprimé de la liste.\")\n",
    "        else:\n",
    "            print(f\"{article_a_supprimer} n'est pas dans la liste.\")\n",
    "        \n",
    "    elif choix == \"3\":\n",
    "        if len(liste_courses)== 0:\n",
    "            print('La liste est vide')\n",
    "        else:\n",
    "            print('La liste actuelle est: ',liste_courses)\n",
    "    elif choix == \"4\":\n",
    "        article_a_verifier = input(\"Entrez l'article que vous souhaitez vérifier : \")\n",
    "        if article_a_verifier in liste_courses: \n",
    "            print(f\"{article_a_verifier} est dans la liste.\")  \n",
    "        else: #<======\n",
    "            print(f\"{article_a_verifier} n'est pas dans la liste.\") \n",
    "    elif choix == \"5\":\n",
    "        #  Quitter le programme\n",
    "        print(\"Merci d'avoir utilisé le gestionnaire de liste de courses. Au revoir !\")#<======\n",
    "        break#<======\n",
    "    else:\n",
    "        print(\"Choix invalide. Veuillez choisir une option valide (1/2/3/4/5).\")"
   ]
  }
 ],
 "metadata": {
  "kernelspec": {
   "display_name": "Python 3 (ipykernel)",
   "language": "python",
   "name": "python3"
  },
  "language_info": {
   "codemirror_mode": {
    "name": "ipython",
    "version": 3
   },
   "file_extension": ".py",
   "mimetype": "text/x-python",
   "name": "python",
   "nbconvert_exporter": "python",
   "pygments_lexer": "ipython3",
   "version": "3.11.7"
  }
 },
 "nbformat": 4,
 "nbformat_minor": 5
}
