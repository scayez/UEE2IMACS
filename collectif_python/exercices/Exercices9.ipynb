{
 "cells": [
  {
   "cell_type": "markdown",
   "id": "50317dfe-da1d-4574-9185-5e123dca866e",
   "metadata": {},
   "source": [
    "***\n",
    "# **<center>Exercices#9</center>**\n",
    "# ***<center>Interfaces Graphiques</center>***\n",
    "\n",
    "***"
   ]
  },
  {
   "cell_type": "markdown",
   "id": "badaffab-4209-4a12-9223-14eaa51aa87a",
   "metadata": {},
   "source": [
    "***\n",
    "<u>Exercice 1:</u> *Sliders*\n",
    "\n",
    "1- Ouvrir designer, créer une nouvelle fenêtre et l'enregistrer sous /fichiers_exercices/ui911.ui  \n",
    "2- Reprendre le code de création d'une fenêtre du cours et tester l'ouverture de la fenêtre. Enregistrer dans /fichiers_exercices/exercice912.py et tester l'execution  \n",
    "3-  Ajouter une \"horizontal slider\" et nommez la Mon_horizontalSlider. Modifier ses propriétés pour balayer une gamme de 0 à 255  \n",
    "4- Créer une fonction appelée \"slider_value\" qui fait un print des valeurs envoyées par la slider quand l'utilisateur déplace le curseur. Relier Mon_horizontalSlider à cette fonction. Attention, le signal émis par le slider est \"valueChanged\", (dans l'exemple du bouton, c'était \"clicked\").  \n",
    "5- Ajouter un label que vous nommerez Mon_label Dans les paramètres, choisir la police (par exemple Wide Latin) et régler la taille de police à 20  \n",
    "6- Afficher la valeur de la slidebar dans le slider. Vous utiliserez la propriéte setText du label"
   ]
  },
  {
   "cell_type": "markdown",
   "id": "53eae861-8229-4392-9f3f-59e5412ec81b",
   "metadata": {},
   "source": [
    "***\n",
    "<u>Exercice 2:</u> *Visionneuse d'image*  \n",
    "\n",
    "1- Créer une nouvelle fenêtre et l'enregistrer sous /fichiers_exercices/ui921.ui et ajouter un label que vous appelerez label_image.  \n",
    "Créer également un menu Fichier --> Ouvrir  \n",
    "Le code correspondant s'appelera exercice921.py  \n",
    "2- Connecter le menu ouvrir à une fonction ouvrir_fichiers. On pourra limiter le type de fichier aux principaux types de fichiers image (png, jpg, jpeg...)  \n",
    "Faire un print du nim de fichier crée.  \n",
    "3- On va maintenant afficher l'image selectionnée dans le label. Pour ceci, nous aurons besoin de créer un objet QPixmap à partir de l'image contenue dans le fichier selectionné  \n",
    "4- Modifier la fonction ouvrir_fichiers pour utiliser QFileDialog.getOpenFileNames qui permettra la selection de plusieurs fichiers et renverra une liste de chemins. \n",
    "faire un print des chemins des fichiers selectionnée. (Dans un premier temps on mettra la conversion en pixmap et l'affichage dans le label en commentaire pour éviter les erreurs à l'execution.  \n",
    "5- On a maintenant une liste de chemin, nous allons ajouter un bouton \"Suivante\" et un bouton \"précédente\" pour choisir l'image à afficher dans le label\n"
   ]
  },
  {
   "cell_type": "markdown",
   "id": "731d691f-9a30-4f38-be49-2777fb795854",
   "metadata": {},
   "source": [
    "***\n",
    "<div style=\"background-color: lightgrey; \">\n",
    "<u>Exercice 3 :</u> *Jeu de morpion*\n",
    "</div>"
   ]
  },
  {
   "cell_type": "markdown",
   "id": "bd1f75f9-49a5-44f3-a8c7-376e8ed84d58",
   "metadata": {},
   "source": [
    "<div style=\"background-color: lightgrey; \">\n",
    "On se propose de créer un jeu de morpion. C'est une grille contenant 9 boutons (3x3) , qui seront marqués d'un O ou d'un X quand il seront cliqués.  Le joueur pourra en debut de partie chosir sa marque O ou X.  \n",
    "Le programme se contentera de coups aléatoires.    \n",
    "La fenêtre contiendra deux onglets (Tabs), le premier contiendra la grille, le second permettra de visualiser les résultats sur un graphique.  \n",
    "Le but est bien sûr d'aligner 3 marques. Quand ça sera le cas, il faudra ajouter des points. Le nombre de points attibué au joueur dépendra du niveau choisi.  \n",
    "\n",
    "\n",
    "1- Créer un Tab Widget (dans Container), nommer 2 onglets \"Grille\" et \"Resultats\" (CurrentTabText en vert) Créer une grille de 9 boutons dans designer. Nommer les bouttons avec leur numero de ligne et colonne (pushButton_00, pushButton_01...).  \n",
    "Supprimer le texte de chaque bouton  \n",
    "Dans QWidget -> SizePolicy : Politique horizontale et verticals = Fixed  \n",
    "minimumSize: Largeur = 100 Hauteur = 100\n",
    "Ajouter 2 radio buttons O et X appelés radioButton_o et radioButton_x. Dans QAbstractButton selectionner \"checked\" pour le bouton O de manière à ce qu'il soit selectionné par défaut.\n",
    "\n",
    "Ajouter une spinbox appelée spinBox_niveau  \n",
    "Ajouter un bouton Rejouer  \n",
    "Sur l'onglet resultats:  \n",
    "Ajouter un widget et le promouvoir en PyQtGraph  \n",
    "Ajouter 2 labels label_score_joueur  \n",
    "\n",
    "L'interface devra être conforme aux images suivantes:   \n",
    "![ex9_3](fichier_exercices_enonces/9_interfaces/ex9_3_interface_1.png)\n",
    "![ex9_3](fichier_exercices_enonces/9_interfaces/ex9_3_interface_2.png)\n",
    "\n",
    "2- Initialiser les variables suivantes:  \n",
    "self.resultats sera un tableau numpy rempli de zeros de dimension 0 lignes et 2 colonnes et de type entier. Il servira a stocker les scores du joueur et du programme.  \n",
    "self.marque sera un caractére qui peut être 'O' ou 'X' , nous choisirons 'O' qui sera la marque par défaut pour le joueur\n",
    "self.grille sera un tableau numpy rempli de 2 de dimension 3 lignes et 3 colonnes et de type entier. Il représentera la grille de jeu. 2 indiquera une case pas cochée, 0 un 'O' et 1 un 'X'.  \n",
    "\n",
    "\n",
    "3- connecter les boutons radio pour le choix des marques et créer la fonction marques. Cette fonction permettra d'affecter 'X' ou 'O' à self.marque en fonction du choix du joueur.     \n",
    "\n",
    "4- On veut créer une fonction remplir_grille qui permettra de récuperer les lignes et colonne des boutons cliqués et les visualiser dans un tableau numpy 3 lignes 3 colonnes.    \n",
    "Commencer par connecter l'ensemble des boutons à la fonction remplir_grille.  \n",
    "Cette fonction doit:  \n",
    "- Récupérer le signal de chaque bouton cliqué. On utilisera la syntaxe :    \n",
    "```python\n",
    "sender = self.sender()\n",
    "bouton = sender.objectName()\n",
    "```\n",
    "- Identifier la ligne et colonne du bouton à partir de son nom    \n",
    "- Verifier si la case est libre (si elle n'a jamais été selectionnée) On verifiera si elle contient un 2  \n",
    "- Remplir l'emplacement dans le self.grille par un o si le joueur a choisi 'O' ou un 1 si il achoisi 'X'  \n",
    "\n",
    "5- Ajouter une fonction jouer_coup_aleatoire qui jouera après le joueur. Cette fonction passera la valeur correspondant à la position dans le tableau numpy à 0 si le joueur a choisi X ou à 1 si le joueur a choisi 0.  \n",
    "Cette fonction sera executée après le coup du joueur, dans la fonction rempir grille.  \n",
    "\n",
    "6- Ecrire une fonction actualiser_bouton, qui actualise le texte des boutons de manière à faire apparaitre le X ou le O sur le bouton joué.   \n",
    "Cette fonction sera appelée apres le tour du jouer et apres celui du programme. C'est à dire à la fin des fonctions remplir_grille et jouer_coup_aleatoire.  \n",
    "\n",
    "7- Ecrire une fonction verif_gagnant pour vérifier qui est le gagnant. On utilisera les fonctions de Numpy np.all np.diag et np.fliplr pour verifier si le joueur ou le programme a fait une ligne une colonne ou une diagonale. On appelera cette fonction après le tour du joueur.  \n",
    "\n",
    "8- Connecter le bouton self.pushButton_rejouer à une fonction self.initialiser qui va vider la grille et effacer le texte des boutons pour une nouvelle partie.  \n",
    "\n",
    "9- ajouter une fonction compter_points qui remplit un tableau numpy avec 2 colonne (1 pour le joueur, 1 pour le programme) à chaque tour r on ajoutera une ligne avec 1 pour le gagnant 0 pour le perdant.  \n",
    "Utiliser une variable self.vainqueur qui prendra la valeur 'programme 'ou 'joueur'. Cette variable sera modifiée en remplacement des print dans la fonction verif gagnant, apres sa modification la fonction compter_points sera appelée. On stockera les scores des joueurs dans un tableau de 2 colonnes appelé self.score auquel on ajoutera des lignes à chaque visctoire du joueur ou du programme.  \n",
    "En fin de partie, on ouvrira une message box indiquant le vainqueur.  \n",
    "\n",
    "10- Ajouter une fonction self.plot qui calcule score_joueur_cumulatif et score_programme_cumulatif, les sommes des scores de chacun au cours des parties.  \n",
    "On tracera les evolutions des scores du joueur et du programmeau fil des parties.\n",
    "\n",
    "11- Ajouter l'option de niveau: en cas de victoire, le programme marque le nombre de points de la spinbox. Les modifications sont dans compter points.  </div>"
   ]
  }
 ],
 "metadata": {
  "kernelspec": {
   "display_name": "Python 3 (ipykernel)",
   "language": "python",
   "name": "python3"
  },
  "language_info": {
   "codemirror_mode": {
    "name": "ipython",
    "version": 3
   },
   "file_extension": ".py",
   "mimetype": "text/x-python",
   "name": "python",
   "nbconvert_exporter": "python",
   "pygments_lexer": "ipython3",
   "version": "3.11.7"
  }
 },
 "nbformat": 4,
 "nbformat_minor": 5
}
