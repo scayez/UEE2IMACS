{
 "cells": [
  {
   "cell_type": "markdown",
   "id": "9583941d-15ab-47f4-9340-fcd69af5bc9c",
   "metadata": {},
   "source": [
    "***\n",
    "# **<center>COURS PYTHON 2IMACS #4</center>**\n",
    "# ***<center>Bibliothèques</center>***\n",
    "# ***<center>Tracé de courbes</center>***\n",
    "***"
   ]
  },
  {
   "cell_type": "markdown",
   "id": "74f4f238-5724-4f6a-9fe4-77bd572292ce",
   "metadata": {},
   "source": [
    "# 4-1 Gestion des Bibliothèques"
   ]
  },
  {
   "cell_type": "markdown",
   "id": "485c7e72-7a2c-4347-8179-6ddc94fe74f0",
   "metadata": {},
   "source": [
    "Les bibliothèques (Package, Library) en Python sont des ensembles de modules et de fonctions pré-écrites qui étendent les fonctionnalités du langage de base.   \n",
    "Elles offrent aux développeurs un large éventail d'outils et de fonctionnalités pour résoudre des problèmes spécifiques plus rapidement et plus efficacement. Python dispose d'une vaste collection de bibliothèques pour divers domaines tels que le traitement des données, l'apprentissage automatique, la visualisation, le développement web, les calculs scientifiques, etc.   \n",
    "L'utilisation de ces bibliothèques permet aux développeurs de bénéficier du travail déjà réalisé par d'autres experts.  \n",
    "Matplotlib et Numpy sont les deux premiers exemples que nous allons voir.   "
   ]
  },
  {
   "cell_type": "markdown",
   "id": "2fc89b38-0e7d-436f-acba-9e5f798135f6",
   "metadata": {},
   "source": [
    "La gestion des packages peut se faire par anaconda ou par pip.  \n",
    "https://pip.pypa.io/en/stable/user_guide/  \n",
    "https://docs.anaconda.com/free/working-with-conda/packages/install-packages/\n",
    "\n",
    "Il faudra utiliser l'invite de commande ou anaconda prompt pour taper les commandes."
   ]
  },
  {
   "cell_type": "markdown",
   "id": "a61b0802-60b2-4455-8c1d-85d66fefce1c",
   "metadata": {},
   "source": [
    "## 4-1-1 Installer des bibliothèques"
   ]
  },
  {
   "cell_type": "markdown",
   "id": "289103ab-2878-47ee-9d08-d144cb7561b5",
   "metadata": {},
   "source": [
    "Sur vos machines, l'ensemble des bibilothèque est déja installée et ces opérations ne seront pas nécessaire. Cependant l'installation des bibliothèques se fait de la manière suivante: "
   ]
  },
  {
   "cell_type": "markdown",
   "id": "23b93e3c-4525-48e5-bc94-a84c123608c7",
   "metadata": {},
   "source": [
    "<pre>python -m pip install nom_bibliothèque</pre> \n",
    "ou  \n",
    "<pre>conda install nom_bibliothèque</pre> \n",
    "\n",
    "on peut avoir besoin d'une version spécifique d'une bibliothèque:\n",
    "<pre>python -m pip install matplotlib==3.8.2</pre>   \n",
    "ou \n",
    "<pre>conda install matplotlib=3.8.2</pre> "
   ]
  },
  {
   "cell_type": "markdown",
   "id": "2c075927-99e2-4620-818b-ab3c93059206",
   "metadata": {},
   "source": [
    "Sur vos machines, l'ensemble des bibilothèque nécessaire au cours est déja installée et ces opérations ne seront pas nécessaire. Cependant l'installation des bibliothèques se fait avec --user, étant donné que vous n'êtes pas administrateurs:\n",
    "<pre>python -m pip install --user SomePackage</pre> \n",
    "Cette opération ne sera éventuellement réalisée que dans la partie projet de ce cours."
   ]
  },
  {
   "cell_type": "markdown",
   "id": "0cba8aea-85cf-4305-8b64-de142581ad82",
   "metadata": {},
   "source": [
    "## 4-1-2 Obtenir la liste des packages installés"
   ]
  },
  {
   "cell_type": "markdown",
   "id": "8f053d01-deb9-4ba0-85cf-b3a0cde0e0cd",
   "metadata": {},
   "source": [
    "<pre>pip list</pre>  \n",
    "ou  \n",
    "<pre>conda list</pre>"
   ]
  },
  {
   "cell_type": "markdown",
   "id": "c951e14f-4427-4a1e-a113-d8320b209be3",
   "metadata": {},
   "source": [
    "## 4-1-3 Supprimer des packages installés"
   ]
  },
  {
   "cell_type": "markdown",
   "id": "64951d6d-74e0-4e39-ba92-753c26447c3a",
   "metadata": {},
   "source": [
    "<pre>pip uninstall SomePackage</pre>  \n",
    "ou\n",
    "<pre>conda remove SomePackage</pre>  "
   ]
  },
  {
   "cell_type": "markdown",
   "id": "92e3114a-16d4-4b61-aad2-df5afe3a8ea7",
   "metadata": {},
   "source": [
    "# 4-2 Matplotlib"
   ]
  },
  {
   "cell_type": "markdown",
   "id": "4d53fdb8-e054-499e-8b78-842a00661da7",
   "metadata": {},
   "source": [
    "Matplotlib est une bibliothèque de visualisation de données en Python. Elle offre un large éventail de fonctionnalités pour créer des graphiques statiques, des graphiques interactifs et des représentations visuelles de données. Elle est largement utilisée dans les domaines de la science des données, de la visualisation de données et des études statistiques."
   ]
  },
  {
   "cell_type": "markdown",
   "id": "06c850ab-f3d6-4a4e-9303-b4959bdd54fd",
   "metadata": {},
   "source": [
    "## 4-2-1 Syntaxes pour un graph simple"
   ]
  },
  {
   "cell_type": "markdown",
   "id": "76a5b942-d309-4ac1-a707-fa3a14e0636e",
   "metadata": {},
   "source": [
    "Définissons des données que nous utiliserons dans les graphs à venir. Ici ce sont des listes"
   ]
  },
  {
   "cell_type": "code",
   "execution_count": null,
   "id": "00b9d40e-fb6e-48c5-b0c1-10162aa77e14",
   "metadata": {},
   "outputs": [],
   "source": [
    "x = [1, 2, 3, 4, 5]\n",
    "y = [10, 15, 7, 12, 9]"
   ]
  },
  {
   "cell_type": "markdown",
   "id": "438b1893-519c-4ba5-8223-f539cdc4fc42",
   "metadata": {},
   "source": [
    "La bibliothéque matplotlib contient de nombreux modules, importons pyplot"
   ]
  },
  {
   "cell_type": "code",
   "execution_count": null,
   "id": "967a0199-fc6f-4335-a820-4f59c944d21b",
   "metadata": {},
   "outputs": [],
   "source": [
    "import matplotlib.pyplot as plt"
   ]
  },
  {
   "cell_type": "markdown",
   "id": "2f07106e-3fc8-42e2-8e45-ec1fdc4b89d2",
   "metadata": {},
   "source": [
    "Traçons notre premier graph"
   ]
  },
  {
   "cell_type": "code",
   "execution_count": null,
   "id": "5dbacf6f-550c-4c58-b340-e5a5cbcc7790",
   "metadata": {},
   "outputs": [],
   "source": [
    "plt.plot(x, y)\n",
    "plt.show()  #Cette ligne n'est pas necessaire dans les notebooks,\n",
    "            # mais vous pouvez en avoir besoin dans d'autres cas"
   ]
  },
  {
   "cell_type": "markdown",
   "id": "ac9f3a9f-2ca7-44f4-920d-15a9c5e427f4",
   "metadata": {},
   "source": [
    "Une autre syntaxe couramment utilisée est la suivante. Elle permet un contrôle plus précis sur les attributs des axes et nous permet de gérer plus facilement des configurations complexes. On Crée un objet figure (fig) et un ou plusieurs objets axes (ax). Nous allons prendre l'habitude d'utiliser cette syntaxe en priorité."
   ]
  },
  {
   "cell_type": "code",
   "execution_count": null,
   "id": "b03ac15d-ac60-433a-ae6b-af70bd349d95",
   "metadata": {},
   "outputs": [],
   "source": [
    "# Créer la figure et les axes\n",
    "fig, ax = plt.subplots()\n",
    "# Tracer le graphique\n",
    "ax.plot(x, y)"
   ]
  },
  {
   "cell_type": "markdown",
   "id": "d7af1bc6-3da7-4ae5-a0e1-34c2cb9e3356",
   "metadata": {},
   "source": [
    "## 4-2-2 Options d'affichage du graphique"
   ]
  },
  {
   "cell_type": "markdown",
   "id": "e080e749-7d51-4515-a239-e13a4752d248",
   "metadata": {},
   "source": [
    "Ajoutons des noms aux axes"
   ]
  },
  {
   "cell_type": "code",
   "execution_count": null,
   "id": "57000ea4-5986-4e9d-b8b9-8771bda54cea",
   "metadata": {},
   "outputs": [],
   "source": [
    "# Créer la figure et les axes\n",
    "fig, ax = plt.subplots()\n",
    "\n",
    "# Tracer le graphique\n",
    "ax.plot(x, y)\n",
    "\n",
    "# Ajouter des labels et un titre\n",
    "ax.set_xlabel(\"Nom de l'axe des X\")\n",
    "ax.set_ylabel(\"Nom de l'axe des Y\")"
   ]
  },
  {
   "cell_type": "markdown",
   "id": "27d026cb-0d40-4657-8cf0-7eca5b37d779",
   "metadata": {},
   "source": [
    "Choisissons la couleur de la courbe"
   ]
  },
  {
   "cell_type": "code",
   "execution_count": null,
   "id": "27d22e86-7e5a-4621-be65-16a6b09901bf",
   "metadata": {},
   "outputs": [],
   "source": [
    "fig, ax = plt.subplots()\n",
    "ax.plot(x, y,color = 'red')"
   ]
  },
  {
   "cell_type": "markdown",
   "id": "bc39f7d5-c750-48f1-977e-ae82657afa95",
   "metadata": {},
   "source": [
    "il existe plusieurs systèmes pour spécifier les couleurs. Voici quelques-uns des systèmes couramment utilisés :\n",
    "\n",
    "- Noms de couleur : Noms de couleur prédéfinis tels que 'red', 'blue', 'green', 'black', etc. \n",
    "\n",
    "- Abréviations de couleur : Les abréviations de couleur sont des codes de lettres uniques qui représentent une couleur spécifique. Par exemple, 'r' pour rouge, 'b' pour bleu, 'g' pour vert, 'k' pour noir, 'w' pour blanc, etc.\n",
    "\n",
    "- Codes hexadécimaux (idem code couleur html) : Les codes hexadécimaux sont des valeurs hexadécimales qui représentent une couleur spécifique dans le format '#RRGGBB'. Par exemple, '#FF0000' représente le rouge, '#0000FF' représente le bleu, etc. On peut utiliser différentes combinaisons de valeurs hexadécimales pour créer la couleur souhaitée.\n",
    "\n",
    "- Codes RGB : Les codes RGB représentent une couleur en utilisant les valeurs des composantes Rouge, Vert et Bleu. Chaque composante est spécifiée par un nombre entier entre 0 et 255. Par exemple, (255, 0, 0) représente le rouge, (0, 0, 255) représente le bleu, etc.\n",
    "\n",
    "Avec le tableau suivant on a accès à un grand nombre de  couleurs."
   ]
  },
  {
   "cell_type": "markdown",
   "id": "9f66a4b9-e390-4ee3-8c84-3d23eb369945",
   "metadata": {},
   "source": [
    "| Couleur (Français) | Option 1: Couleur (Anglais) | Option 2: Abréviation | Option 3: Code RVB (Forme 1)        | Option 4: Code RVB (Forme 2)   |\n",
    "|-------------------|------------------|-------------|---------------------------|----------------------|\n",
    "| Noir              | 'black'            | 'k'         | (0/255, 0/255, 0/255)     | (0, 0, 0)            |\n",
    "| Blanc             | 'white'            | 'w'         | (255/255, 255/255, 255/255) | (1, 1, 1)            |\n",
    "| Rouge             | 'red'              | 'r'         | (255/255, 0/255, 0/255)   | (1, 0, 0)            |\n",
    "| Vert              | 'green'            | 'g'         | (0/255, 128/255, 0/255)   | (0, 0.5, 0)          |\n",
    "| Bleu              | 'blue'             | 'b'         | (0/255, 0/255, 255/255)   | (0, 0, 1)            |\n",
    "| Cyan              | 'cyan'             | 'c'         | (0/255, 255/255, 255/255) | (0, 1, 1)            |\n",
    "| Magenta           | 'magenta'          | 'm'         | (255/255, 0/255, 255/255) | (1, 0, 1)            |\n",
    "| Jaune             | 'yellow'           | 'y'         | (255/255, 255/255, 0/255) | (1, 1, 0)            |\n",
    "| Gris clair        | 'LightGray'        || (211/255, 211/255, 211/255) | (0.83, 0.83, 0.83)   |\n",
    "| Gris foncé        | 'DarkGray'         |  | (169/255, 169/255, 169/255) | (0.66, 0.66, 0.66)   |\n",
    "| ...               | ...              | ...         | ...                       | ...                  |\n"
   ]
  },
  {
   "cell_type": "markdown",
   "id": "bc75aa41-d7a7-4c16-8e75-c0b6cc59bd26",
   "metadata": {},
   "source": [
    "Changeons maintenant la couleur du fond"
   ]
  },
  {
   "cell_type": "code",
   "execution_count": null,
   "id": "ad409434-1d1b-4517-9eb1-3c6c901fadf6",
   "metadata": {},
   "outputs": [],
   "source": [
    "fig, ax = plt.subplots()\n",
    "ax.plot(x, y,color = 'g')\n",
    "# On utilise la methode 'set_facecolor' sur l'objet 'ax' (axes)\n",
    "ax.set_facecolor( 'LightGray')"
   ]
  },
  {
   "cell_type": "markdown",
   "id": "0ab82d52-64e3-490b-b641-8e5c86e5845d",
   "metadata": {},
   "source": [
    "Le style de ligne"
   ]
  },
  {
   "cell_type": "code",
   "execution_count": null,
   "id": "b246d39a-7a27-43ff-9ffc-debcd1fa5350",
   "metadata": {},
   "outputs": [],
   "source": [
    "fig, ax = plt.subplots()\n",
    "ax.plot(x, y, linestyle=  'dashed')"
   ]
  },
  {
   "cell_type": "markdown",
   "id": "f185c74c-7503-4047-86f0-3903fdcfe622",
   "metadata": {},
   "source": [
    "| Style de ligne | Option 1: Nom          | Option 2: Abréviation |\n",
    "|----------------|-----------------------|----------------------|\n",
    "| Solide         | 'solid'               | '-'                   |\n",
    "| Pointillés     | 'dashed'              | '--'                  |\n",
    "| Tirets         | 'dashdot'             | '-.'                  |\n",
    "| Points         | 'dotted'              | ':'                   |"
   ]
  },
  {
   "cell_type": "markdown",
   "id": "74a051c7-f675-4d99-a859-58448d706b48",
   "metadata": {},
   "source": [
    "L'épaisseur du trait"
   ]
  },
  {
   "cell_type": "code",
   "execution_count": null,
   "id": "9db0b841-a09b-4445-b3a3-c7638b73a27d",
   "metadata": {},
   "outputs": [],
   "source": [
    "fig,ax = plt.subplots()\n",
    "ax.plot(x, y, linewidth= 4.5)"
   ]
  },
  {
   "cell_type": "markdown",
   "id": "4f7c11ed-2686-4065-a0cd-af9014fb133c",
   "metadata": {},
   "source": [
    "Affichage de marqueurs"
   ]
  },
  {
   "cell_type": "code",
   "execution_count": null,
   "id": "0cde4452-aae1-4174-a882-f7c75683bf1d",
   "metadata": {},
   "outputs": [],
   "source": [
    "fig,ax = plt.subplots()\n",
    "ax.plot(x, y,marker = 'o')"
   ]
  },
  {
   "cell_type": "markdown",
   "id": "9f445b3e-314d-4c00-bfd1-a4d3190b6d3a",
   "metadata": {},
   "source": [
    "| Marker          | Option 1: Nom          |\n",
    "|-----------------|-----------------------|\n",
    "| Cercle          | 'o'                   |\n",
    "| Croix           | '+'                   |\n",
    "| Carré           | 's'                   |\n",
    "| Triangle        | '^'                   |\n",
    "| Losange         | 'D'                   |\n",
    "| Étoile          | '*'                   |\n",
    "| Pentagone       | 'p'                   |\n",
    "| Hexagone        | 'h'                   |\n",
    "| X               | 'x'                   |\n",
    "| Triangle vers le bas  | 'v'             |\n",
    "| ...             | ...                   |\n"
   ]
  },
  {
   "cell_type": "markdown",
   "id": "bbb72456-7a59-44db-b8f0-77131625bd79",
   "metadata": {},
   "source": [
    "d'autres options sont disponibles pour les markers"
   ]
  },
  {
   "cell_type": "markdown",
   "id": "ddc3cabb-da06-4d6e-ac4c-7eb78f2c81ce",
   "metadata": {},
   "source": [
    "- markeredgecolor : Permet de définir la couleur du contour du marker.\n",
    "- markeredgewidth : Permet de définir l'épaisseur du contour du marker.\n",
    "- markerfacecolor : Permet de définir la couleur de remplissage du marker.\n",
    "- alpha : Permet de définir la transparence du marker (une valeur entre 0 et 1)."
   ]
  },
  {
   "cell_type": "code",
   "execution_count": null,
   "id": "c83c0339-400a-4bd9-8a4e-bcf32bce2499",
   "metadata": {},
   "outputs": [],
   "source": [
    "fig, ax = plt.subplots()\n",
    "ax.plot(x, y, marker='p', markersize=15, markeredgecolor='red', markeredgewidth=2,\n",
    "        markerfacecolor='yellow', alpha=0.8)\n"
   ]
  },
  {
   "cell_type": "markdown",
   "id": "a8812c48-66ee-451e-aecf-30537d5d1fe4",
   "metadata": {},
   "source": [
    "Ajout d'une legende"
   ]
  },
  {
   "cell_type": "code",
   "execution_count": null,
   "id": "4c4f1408-c48a-4d4c-993f-baaa08fbfa5a",
   "metadata": {},
   "outputs": [],
   "source": [
    "fig,ax = plt.subplots()\n",
    "ax.plot(x, y,label='Ma courbe')# on spéfie un label associé au plot\n",
    "ax.legend() #on utilise la methode legend sur l'obet ax"
   ]
  },
  {
   "cell_type": "markdown",
   "id": "330215c8-1008-42df-909c-41c66249cd5e",
   "metadata": {},
   "source": [
    "Un titre au graphique"
   ]
  },
  {
   "cell_type": "code",
   "execution_count": null,
   "id": "235fe549-b41d-4e0b-84fb-1dd5db3bd488",
   "metadata": {},
   "outputs": [],
   "source": [
    "fig,ax = plt.subplots()\n",
    "ax.plot(x, y)\n",
    "ax.set_title('Titre de Mon graph')"
   ]
  },
  {
   "cell_type": "markdown",
   "id": "b4428f61-6789-422e-95e4-9d4b92b65e54",
   "metadata": {},
   "source": [
    "On peut changer la police"
   ]
  },
  {
   "cell_type": "code",
   "execution_count": null,
   "id": "ea9455f2-0592-4d65-9386-ddd54d000a8a",
   "metadata": {},
   "outputs": [],
   "source": [
    "fig, ax = plt.subplots()\n",
    "ax.plot(x, y)\n",
    "ax.set_title('Titre de Mon graph', fontsize=22, fontstyle='italic', \n",
    "             fontweight='bold', color='red',fontname='Impact')\n"
   ]
  },
  {
   "cell_type": "markdown",
   "id": "b04d16d5-e782-4df8-99f3-cfcaed226608",
   "metadata": {},
   "source": [
    "Définissons de nouvelles plage de valeur pour x et y"
   ]
  },
  {
   "cell_type": "code",
   "execution_count": null,
   "id": "eb492a06-2888-40b2-bd58-5d21077a9fa9",
   "metadata": {},
   "outputs": [],
   "source": [
    "fig, ax = plt.subplots()\n",
    "ax.plot(x, y)\n",
    "ax.set_xlim(0, 8)\n",
    "ax.set_ylim(4, 16)"
   ]
  },
  {
   "cell_type": "markdown",
   "id": "712b3fb4-9bc1-4ab9-a3de-e6d4e378f0be",
   "metadata": {},
   "source": [
    "Ajouter des graduations personnalisées aux axes x et y"
   ]
  },
  {
   "cell_type": "code",
   "execution_count": null,
   "id": "b6ec83fe-30fc-47f8-9796-8b1e23542935",
   "metadata": {},
   "outputs": [],
   "source": [
    "fig, ax = plt.subplots()\n",
    "ax.plot(x, y)\n",
    "graduations_x = [0.5,1, 3, 3.5, 4.2, 4.6]\n",
    "ax.set_xticks(graduations_x); #; pour éviter l'affichage des adresses"
   ]
  },
  {
   "cell_type": "markdown",
   "id": "c27d6c11-d13f-4a4a-99e9-9ec280efce22",
   "metadata": {},
   "source": [
    "Ajoutons une grille"
   ]
  },
  {
   "cell_type": "code",
   "execution_count": null,
   "id": "7b6be24c-d325-42f4-9e7c-f535d67e5286",
   "metadata": {},
   "outputs": [],
   "source": [
    "fig,ax = plt.subplots()\n",
    "ax.plot(x, y)\n",
    "ax.grid(True)"
   ]
  },
  {
   "cell_type": "markdown",
   "id": "c96e8d6a-16ae-4010-a99e-2a92a8f2381f",
   "metadata": {},
   "source": [
    "On peut bien sûr combiner les propriétés du graphique"
   ]
  },
  {
   "cell_type": "code",
   "execution_count": null,
   "id": "57e4b223-7776-4c14-ab58-df0ac7565d87",
   "metadata": {},
   "outputs": [],
   "source": [
    "# Création de la figure et des axes\n",
    "fig, ax = plt.subplots()\n",
    "\n",
    "# Tracer le graphique\n",
    "\n",
    "ax.plot(x, y, color=(0.60, 0.10, 0.24), linestyle='dotted', linewidth=3, \n",
    "        label='Ma courbe', marker='D', markersize=15, markeredgecolor='green',\n",
    "        markeredgewidth=2, markerfacecolor='yellow', markerfacecoloralt='green'\n",
    "        , alpha=0.8)\n",
    "\n",
    "# Titre du graphique\n",
    "ax.set_title('Mon Graphique', fontsize=22, fontstyle='italic', fontweight='bold', \n",
    "             fontname='Impact',color='blue')\n",
    "\n",
    "# Axes x et y labels\n",
    "ax.set_xlabel('mes X')\n",
    "ax.set_ylabel('mes Y')\n",
    "\n",
    "# Limites des axes x et y\n",
    "ax.set_xlim(0, 7)\n",
    "ax.set_ylim(6, 16)\n",
    "\n",
    "# Couleur du fond\n",
    "ax.set_facecolor('lightgreen')\n",
    "\n",
    "# Grille\n",
    "ax.grid(True, linestyle=':', linewidth=0.5, color='black')\n",
    "\n",
    "# Légende\n",
    "ax.legend()\n",
    "\n",
    "# Afficher le graphique\n",
    "plt.show()\n"
   ]
  },
  {
   "cell_type": "markdown",
   "id": "785d1620-b9a7-456e-af86-91391490fcac",
   "metadata": {},
   "source": [
    "On peur choisir la taille de l'affichage avec **figsize**"
   ]
  },
  {
   "cell_type": "code",
   "execution_count": null,
   "id": "af5688fe-efdf-4861-9b1d-975d68f6aeb8",
   "metadata": {},
   "outputs": [],
   "source": [
    "fig, ax = plt.subplots(figsize=(2, 2))\n",
    "ax.plot(x, y)\n",
    "\n",
    "\n",
    "fig, ax = plt.subplots(figsize=(4, 1))\n",
    "ax.plot(x, y)"
   ]
  },
  {
   "cell_type": "markdown",
   "id": "a4db3acd-0e3a-4fac-8789-ac960f9df3c4",
   "metadata": {
    "tags": []
   },
   "source": [
    "[Exercice 1 et 2](exercices/Exercices4.ipynb)"
   ]
  },
  {
   "cell_type": "markdown",
   "id": "c66415c9-b67d-4f54-a380-aad72f600667",
   "metadata": {},
   "source": [
    " ### 4-2-2 Autres type de graphiques et personnalisation avancée"
   ]
  },
  {
   "cell_type": "markdown",
   "id": "14553dd3-8a4f-4acd-bdc9-9ee1a5d60889",
   "metadata": {},
   "source": [
    "#### 4-2-2-1 Graphiques multiples et echelle des axes"
   ]
  },
  {
   "cell_type": "markdown",
   "id": "f0e7f12a-c418-405c-abb9-76cf6f1568c1",
   "metadata": {},
   "source": [
    "Plusieurs courbes sur le même graph. Ajoutons un jeu de données en y"
   ]
  },
  {
   "cell_type": "code",
   "execution_count": null,
   "id": "85e53590-6b7c-431f-9d51-f8decebab0d8",
   "metadata": {},
   "outputs": [],
   "source": [
    "x2 = [1, 3, 4.5, 5, 6]\n",
    "y2 = [6, 10, 15, 1, 3]"
   ]
  },
  {
   "cell_type": "markdown",
   "id": "07c623e2-ba16-4695-85d5-bdba41dd622e",
   "metadata": {},
   "source": [
    "Traçons les courbes sur le même graph"
   ]
  },
  {
   "cell_type": "code",
   "execution_count": null,
   "id": "b9e4c739-6146-4501-9948-28c09dbe1efe",
   "metadata": {},
   "outputs": [],
   "source": [
    "fig,ax = plt.subplots()\n",
    "ax.plot(x, y)\n",
    "ax.plot(x2, y2)"
   ]
  },
  {
   "cell_type": "markdown",
   "id": "7ecfdb40-0306-41f9-939d-4beaf2c65a4a",
   "metadata": {},
   "source": [
    "Si les donnees ont de ordres de grandeurs different, on peut avoir besoin d'axes secondaires"
   ]
  },
  {
   "cell_type": "code",
   "execution_count": null,
   "id": "4465fe2f-1797-4f5b-bd86-4cc9b4484568",
   "metadata": {},
   "outputs": [],
   "source": [
    "y3 = [800, 150, 80, 12, 230]"
   ]
  },
  {
   "cell_type": "code",
   "execution_count": null,
   "id": "97e467ff-97da-439c-b502-537bc6fe167f",
   "metadata": {
    "tags": []
   },
   "outputs": [],
   "source": [
    "fig,ax = plt.subplots()\n",
    "ax.plot(x, y)\n",
    "ax.plot(x, y3);"
   ]
  },
  {
   "cell_type": "markdown",
   "id": "4fbca5e0-6762-4430-b3c5-cc679b67492b",
   "metadata": {},
   "source": [
    "Ce tracé est difficilement lisible, les ordres de grandeurs des deux séries de données étant très different. Ajoutons un axe secondaire avec **twinx()**:"
   ]
  },
  {
   "cell_type": "code",
   "execution_count": null,
   "id": "4cf5ebe7-b71c-409d-bfc1-ff0949014524",
   "metadata": {},
   "outputs": [],
   "source": [
    "fig, ax1 = plt.subplots()\n",
    "\n",
    "# Tracé des données sur le premier axe y\n",
    "ax1.plot(x, y, color='blue')\n",
    "ax1.set_ylabel('Données y', color='blue')\n",
    "\n",
    "# Configuration des axes et des étiquettes\n",
    "ax1.set_xlabel('Données x')\n",
    "\n",
    "\n",
    "# Création du deuxième axe y\n",
    "ax2 = ax1.twinx()\n",
    "\n",
    "# Tracé des données sur le deuxième axe y\n",
    "ax2.plot(x, y3, color='red')\n",
    "ax2.set_ylabel('Données y3', color='red')\n",
    "\n",
    "\n",
    "ax1.set_title('Données y et y3');\n"
   ]
  },
  {
   "cell_type": "markdown",
   "id": "24796a78-3dcb-4bce-afb3-f69f3c3a2ed3",
   "metadata": {},
   "source": [
    "Utilisons l'echelle log pour l'axe des y avec **ax.set_yscale('log')**"
   ]
  },
  {
   "cell_type": "code",
   "execution_count": null,
   "id": "bba612c3-d682-4fb4-859f-695293a74712",
   "metadata": {},
   "outputs": [],
   "source": [
    "y4 = [1, 10, 15, 6, 10000]\n",
    "\n",
    "# Création de la figure et des axes\n",
    "fig, ax = plt.subplots()\n",
    "\n",
    "# Tracé des données avec échelle logarithmique pour l'axe y\n",
    "ax.plot(x, y4)\n",
    "ax.set_yscale('log')"
   ]
  },
  {
   "cell_type": "markdown",
   "id": "c87722bf-eb38-4b5e-86c1-3aeed0cf39a6",
   "metadata": {},
   "source": [
    "Colorer l'aire sous ou entre des courbes avec **ax.fill_between**"
   ]
  },
  {
   "cell_type": "code",
   "execution_count": null,
   "id": "73937b24-9d66-4ff2-b5f5-32d020bd754e",
   "metadata": {},
   "outputs": [],
   "source": [
    "# Remplissage de l'aire sous la courbe\n",
    "fig,ax = plt.subplots()\n",
    "ax.plot(x, y)\n",
    "ax.fill_between(x,y, color = 'orange', alpha=0.3);"
   ]
  },
  {
   "cell_type": "code",
   "execution_count": null,
   "id": "9c02724e-bcb9-4eb8-8fd3-23e51af006d8",
   "metadata": {},
   "outputs": [],
   "source": [
    "# remplissage de l'aire entre deux courbes\n",
    "y5 = [10, 15, 7, 12,5]\n",
    "y6 = [5, 10, 14, 13,16]\n",
    "# Création de la figure et des axes\n",
    "fig, ax = plt.subplots()\n",
    "\n",
    "# Tracé des courbes\n",
    "ax.plot(x, y5)\n",
    "ax.plot(x, y6)\n",
    "\n",
    "# Remplissage de l'aire entre les deux courbes\n",
    "ax.fill_between(x, y5, y6, color='orange', alpha=0.3)\n",
    "\n",
    "# Affichage du graphique\n",
    "plt.show()"
   ]
  },
  {
   "cell_type": "markdown",
   "id": "0e76e7ab-a5bd-4260-ba5f-28a9345f6cd8",
   "metadata": {
    "tags": []
   },
   "source": [
    "[Exercice 3](exercices/Exercices4.ipynb)"
   ]
  },
  {
   "cell_type": "markdown",
   "id": "e2b5b4ac-7324-401f-9aee-f9b418b49b7b",
   "metadata": {},
   "source": [
    "Ajouter du texte sur le graph avec **ax.text**"
   ]
  },
  {
   "cell_type": "code",
   "execution_count": null,
   "id": "58ac382a-dbe3-4a1e-bc00-0c53d842a85f",
   "metadata": {},
   "outputs": [],
   "source": [
    "fig,ax = plt.subplots()\n",
    "ax.plot(x, y)\n",
    "#Préciser les coordonnées de la zone de texte\n",
    "ax.text(2.3, 15, 'Point important', fontsize=12, color='red'); "
   ]
  },
  {
   "cell_type": "markdown",
   "id": "44be3a33-cbf0-4e4e-9ac5-3b1ba4ae733d",
   "metadata": {},
   "source": [
    "La zone de texte peut aussi être remplacée par une annotation avec **ax.annotate**"
   ]
  },
  {
   "cell_type": "code",
   "execution_count": null,
   "id": "f0ccdf91-03ca-4dcf-a074-146376031b67",
   "metadata": {},
   "outputs": [],
   "source": [
    "# Point à indiquer\n",
    "point_x = 2\n",
    "point_y = 15\n",
    "\n",
    "fig,ax = plt.subplots()\n",
    "ax.plot(x, y)\n",
    "ax.annotate('Point important', xy=(point_x, point_y), xytext=(point_x+0.5, point_y+1),\n",
    "            arrowprops=dict(arrowstyle='fancy'), fontsize=12, color='red');\n",
    "# arrowprops est un dictionnaire qui permet de personnaliser l'apparence de la flèche"
   ]
  },
  {
   "cell_type": "markdown",
   "id": "964fc7a7-16df-4f14-9fcb-828f2b5c6972",
   "metadata": {},
   "source": [
    "On peut aussi entourer le point avec un cercle ou une ellipse avec **plt.Circle**"
   ]
  },
  {
   "cell_type": "code",
   "execution_count": null,
   "id": "3fb8d0cd-46f0-4e7a-9919-40452daca0d2",
   "metadata": {},
   "outputs": [],
   "source": [
    "point_x = 2\n",
    "point_y = 15\n",
    "\n",
    "fig,ax = plt.subplots()\n",
    "ax.plot(x, y)\n",
    "ax.annotate('Point important', xy=(point_x, point_y), xytext=(point_x+0.5, point_y+1),\n",
    "            arrowprops=dict(arrowstyle='->'), fontsize=12, color='red')\n",
    "# Tracé du cercle autour du point\n",
    "radius = 0.5\n",
    "circle = plt.Circle((point_x, point_y), radius, edgecolor='red', facecolor='none')\n",
    "ax.add_patch(circle)"
   ]
  },
  {
   "cell_type": "markdown",
   "id": "e14a1ffa-7fba-4bfa-99fa-625f2dfce12f",
   "metadata": {},
   "source": [
    "*Remarque:* On a tracé un cercle et non une ellipse. Dans notre cas, les echelles en X et Y sont differentes, mais c'est bien un cercle de diamètre 0.5!"
   ]
  },
  {
   "cell_type": "markdown",
   "id": "7d23e6e1-a152-4617-874c-c24382a63138",
   "metadata": {},
   "source": [
    "On peut aussi tracer des lignes verticales ou horizontale avec **ax.axhline** et **ax.axvline**"
   ]
  },
  {
   "cell_type": "code",
   "execution_count": null,
   "id": "7af244f4-7c4d-4e01-b747-1c4ceb25b2e2",
   "metadata": {
    "tags": []
   },
   "outputs": [],
   "source": [
    "point_x = 2\n",
    "point_y = 15\n",
    "\n",
    "fig,ax = plt.subplots()\n",
    "ax.plot(x, y)\n",
    "# Tracer une ligne horizontale en pointillé\n",
    "ax.axhline(y= point_y, color='g', linestyle='-.')\n",
    "\n",
    "# Tracer une ligne verticale en pointillé\n",
    "ax.axvline(x= point_x, color='r', linestyle=':')\n"
   ]
  },
  {
   "cell_type": "markdown",
   "id": "5556c083-2943-41f8-9a13-327add24f943",
   "metadata": {},
   "source": [
    "[Exercice 4](exercices/Exercices4.ipynb)"
   ]
  },
  {
   "cell_type": "markdown",
   "id": "9391976d-9c13-4864-aa8d-23fb79ff2dce",
   "metadata": {},
   "source": [
    "### 4-2-2-2 Types de gaphiques"
   ]
  },
  {
   "cell_type": "markdown",
   "id": "797716b4-8f96-486d-9f2a-ede0572ac1e0",
   "metadata": {},
   "source": [
    "Dans le cas des x non ordonnés, par exemple, on peut avoir interêt à utiliser la methode **scatter**"
   ]
  },
  {
   "cell_type": "code",
   "execution_count": null,
   "id": "d183147b-a026-4f97-bbbc-f9bef9ff051c",
   "metadata": {},
   "outputs": [],
   "source": [
    "x2 = [10, 15, 4, 4, 9]"
   ]
  },
  {
   "cell_type": "code",
   "execution_count": null,
   "id": "217ae93b-b97c-40a8-9de0-ea719a3bba80",
   "metadata": {},
   "outputs": [],
   "source": [
    "fig, ax = plt.subplots()\n",
    "# Avec le methode plot\n",
    "ax.plot(x2,y)"
   ]
  },
  {
   "cell_type": "code",
   "execution_count": null,
   "id": "29707616-d954-45ec-a139-870443ea0931",
   "metadata": {},
   "outputs": [],
   "source": [
    "fig, ax = plt.subplots()\n",
    "# Avec le methode scatter\n",
    "ax.scatter(x2,y)"
   ]
  },
  {
   "cell_type": "markdown",
   "id": "46415661-8c88-46eb-aabb-dd5c869d41ed",
   "metadata": {},
   "source": [
    "Attention certaines options des markers ont des syntaxes differentes de la methode plot. Par exemple on utilisera **s** pour la taille ou **c** pour la couleur"
   ]
  },
  {
   "cell_type": "code",
   "execution_count": null,
   "id": "56ca1cb0-4574-4d41-bec0-f739ea010c29",
   "metadata": {},
   "outputs": [],
   "source": [
    "fig,ax = plt.subplots()\n",
    "ax.scatter(x2, y, marker='o', s=100, edgecolors='green', linewidths=2, c ='red',\n",
    "           facecolors='yellow', alpha=0.8);"
   ]
  },
  {
   "cell_type": "markdown",
   "id": "9a27fa2a-1774-4c62-9b30-975e3a568080",
   "metadata": {},
   "source": [
    "On peut aussi utiliser la représentation en barre avec **ax.bar**"
   ]
  },
  {
   "cell_type": "code",
   "execution_count": null,
   "id": "67b15c71-76b9-4315-86aa-05586a517ad2",
   "metadata": {},
   "outputs": [],
   "source": [
    "fig, ax = plt.subplots()\n",
    "ax.bar(x,y);"
   ]
  },
  {
   "cell_type": "markdown",
   "id": "7f95fbf3-c2cb-4d30-8287-32f657c49176",
   "metadata": {},
   "source": [
    "Pour representer une distribution de données, on utilisera un histogramme (**ax.hist**) qui represente le nombre d'occurences d'une valeur."
   ]
  },
  {
   "cell_type": "code",
   "execution_count": null,
   "id": "272a8d96-e39c-4e50-8fa9-56c53282befa",
   "metadata": {},
   "outputs": [],
   "source": [
    "donnees = [1,3,4,8,2,8,4,7,6,2,4,8,2,4,6,5,7,8,1,6]"
   ]
  },
  {
   "cell_type": "code",
   "execution_count": null,
   "id": "ab9ff928-108b-4b73-a422-25edaaa63901",
   "metadata": {},
   "outputs": [],
   "source": [
    "fig, ax = plt.subplots()\n",
    "ax.hist(donnees,edgecolor='black');"
   ]
  },
  {
   "cell_type": "markdown",
   "id": "e97e28aa-d321-42dd-9a47-4c1279eaa885",
   "metadata": {},
   "source": [
    "On peut choisir de regrouper les données par intervales de valeurs en choisissant **bins** qui représente le nombre de barres."
   ]
  },
  {
   "cell_type": "code",
   "execution_count": null,
   "id": "1889c9ef-a87b-47e9-90ba-f84ab83396d0",
   "metadata": {},
   "outputs": [],
   "source": [
    "fig, ax = plt.subplots()\n",
    "ax.hist(donnees,bins=5,edgecolor='black');"
   ]
  },
  {
   "cell_type": "markdown",
   "id": "c430af6b-876b-411a-ac6f-29ab345ec4e4",
   "metadata": {},
   "source": [
    "\n",
    "Représentation en camembert ou Pie Chart avec **ax.pie**"
   ]
  },
  {
   "cell_type": "code",
   "execution_count": null,
   "id": "e72f2084-75f5-4eaf-9dff-abdbd84a7193",
   "metadata": {},
   "outputs": [],
   "source": [
    "# Données\n",
    "labels = ['Chat', 'Chien', 'Oiseau', 'Poisson']\n",
    "sizes = [20, 40, 20, 20] # % par catégorie\n",
    "colors = ['orange', 'blue', 'green', 'red']\n",
    "explode = (0, 0.2, 0, 0)  # Pour mettre en évidence une partie du diagramme\n",
    "                          # ici chien en bleu\n",
    "\n",
    "# Création du pie chart\n",
    "fig, ax = plt.subplots()\n",
    "ax.pie(sizes, explode=explode, labels=labels, colors=colors, \n",
    "       autopct='%1.1f%%', shadow=True, startangle=90)\n",
    "ax.axis('equal')  # Assure un aspect circulaire\n",
    "\n",
    "# Titre\n",
    "ax.set_title(\"Répartition des animaux de compagnie\");"
   ]
  },
  {
   "cell_type": "markdown",
   "id": "c3f7ac05-cec5-4576-aa35-c092c7abf3d8",
   "metadata": {},
   "source": [
    "- labels: Etiquettes associées à chaque portion du diagramme. Ici ['Chat', 'Chien', 'Oiseau', 'Poisson'].  \n",
    "\n",
    "- colors: Liste des couleurs associées à chaque portion du diagramme. Ici ['orange', 'blue', 'green', ':red'].\n",
    "\n",
    "- autopct: Format de la légende pour afficher les pourcentages. Ici, les pourcentages sont affichés avec une précision d'un chiffre après la virgule ('%1.1f%%').\n",
    "\n",
    "- shadow: Paramètre booléen qui indique si le diagramme doit avoir une ombre ou non. \n",
    "\n",
    "- startangle: Angle à partir duquel commencer le dessin du diagramme. .\n",
    "\n",
    "- ax.axis('equal'): Lee diagramme a un aspect circulaire en fixant les axes x et y à la même échelle"
   ]
  },
  {
   "cell_type": "markdown",
   "id": "518fe3a5-4d2e-4855-ba07-4feeccdb00a3",
   "metadata": {},
   "source": [
    "### 4-2-2-3 Sous Graphiques"
   ]
  },
  {
   "cell_type": "markdown",
   "id": "fbc67efc-c473-4ef0-bf87-999028cbc6e2",
   "metadata": {},
   "source": [
    "Il est souvent nécessaire , quand on traite des données, d'afficher plusieurs graphiques en même temps, par exemple pour les comparer, ou pour suivre une évolution. La syntaxe **subplots** va nous permettre ce type d'affichage"
   ]
  },
  {
   "cell_type": "markdown",
   "id": "e6bd98bc-58d6-48a0-a905-c32d0b48903f",
   "metadata": {},
   "source": [
    "Tracer 2 graphiques avec 1 ligne et 2 colonnes"
   ]
  },
  {
   "cell_type": "code",
   "execution_count": null,
   "id": "470bec84-c9c4-46e8-8262-8831147c285e",
   "metadata": {},
   "outputs": [],
   "source": [
    "fig,ax = plt.subplots(1,2) #l'ordre est: nombre de lignes puis nombre de colonnes\n",
    "ax[0].plot(x, y)\n",
    "ax[1].plot(x, y2);"
   ]
  },
  {
   "cell_type": "markdown",
   "id": "d8b6a1ba-bd07-4841-bf89-cf7837fdea72",
   "metadata": {},
   "source": [
    "ou 2 lignes et une colonne"
   ]
  },
  {
   "cell_type": "code",
   "execution_count": null,
   "id": "328e6017-41a9-4afb-adf5-f6bbf4a24196",
   "metadata": {},
   "outputs": [],
   "source": [
    "fig,ax = plt.subplots(2,1)\n",
    "ax[0].plot(x, y)\n",
    "ax[1].plot(x, y2);"
   ]
  },
  {
   "cell_type": "markdown",
   "id": "d0dc683d-fed1-4ce4-887f-a9efc668f456",
   "metadata": {},
   "source": [
    "Ou plus... Il faudra preciser pour chaque axe un numéro de ligne et un numéro de colonne"
   ]
  },
  {
   "cell_type": "code",
   "execution_count": null,
   "id": "42b5d97a-65f8-4936-ba4b-6d3021f30c66",
   "metadata": {},
   "outputs": [],
   "source": [
    "fig, ax = plt.subplots(4, 3)\n",
    "\n",
    "ax[0, 0].plot(x, y)  # 1ère ligne, 1ère colonne\n",
    "ax[0, 1].scatter(x, y2)  # 1ère ligne, 2ème colonne\n",
    "ax[0, 2].plot(x, y3)  # 1ère ligne, 3ème colonne\n",
    "ax[1, 0].bar(x, y)  # 2ème ligne, 1ère colonne\n",
    "ax[1, 1].plot(x, y4)  # 2ème ligne, 2ème colonne\n",
    "ax[1, 2].bar(x2, y)  # 2ème ligne, 3ème colonne\n",
    "ax[2, 0].plot(x, y,color = 'red')  # 3ème ligne, 1ère colonne\n",
    "ax[2, 1].plot(x, y5,marker = '+')  # 3ème ligne, 2ème colonne\n",
    "ax[2, 2].plot(x, y5)  # 3ème ligne, 3ème colonne\n",
    "ax[3, 0].plot(x, y4)  # 4ème ligne, 1ère colonne\n",
    "ax[3, 1].bar(x, y3)  # 4ème ligne, 2ème colonne\n",
    "ax[3, 2].plot(x, x);  # 4ème ligne, 3ème colonne\n"
   ]
  },
  {
   "cell_type": "markdown",
   "id": "6d910451-e5ed-4aea-b733-f2f8b58e3a2b",
   "metadata": {},
   "source": [
    "En cas de superposition on peut utiliser <pre>plt.tight_layout()</pre>"
   ]
  },
  {
   "cell_type": "code",
   "execution_count": null,
   "id": "273996f7-a1dc-4df3-81ca-93a76a1a496e",
   "metadata": {},
   "outputs": [],
   "source": [
    "fig, ax = plt.subplots(4, 3)\n",
    "\n",
    "ax[0, 0].plot(x, y)  # 1ère ligne, 1ère colonne\n",
    "ax[0, 1].scatter(x, y2)  # 1ère ligne, 2ème colonne\n",
    "ax[0, 2].plot(x, y3)  # 1ère ligne, 3ème colonne\n",
    "ax[1, 0].bar(x, y)  # 2ème ligne, 1ère colonne\n",
    "ax[1, 1].plot(x, y4)  # 2ème ligne, 2ème colonne\n",
    "ax[1, 2].bar(x2, y)  # 2ème ligne, 3ème colonne\n",
    "ax[2, 0].plot(x, y,color = 'red')  # 3ème ligne, 1ère colonne\n",
    "ax[2, 1].plot(x, y5,marker = '+')  # 3ème ligne, 2ème colonne\n",
    "ax[2, 2].plot(x, y5)  # 3ème ligne, 3ème colonne\n",
    "ax[3, 0].plot(x, y4)  # 4ème ligne, 1ère colonne\n",
    "ax[3, 1].bar(x, y3)  # 4ème ligne, 2ème colonne\n",
    "ax[3, 2].plot(x, x)  # 4ème ligne, 3ème colonne\n",
    "plt.tight_layout() "
   ]
  },
  {
   "cell_type": "markdown",
   "id": "4ab33333-af4e-4497-93c3-01373e213a69",
   "metadata": {},
   "source": [
    "Bien sûr on peut changer les propriétés de chaque axe independemment"
   ]
  },
  {
   "cell_type": "code",
   "execution_count": null,
   "id": "ab2811fd-96de-431e-a03a-c34db374c207",
   "metadata": {},
   "outputs": [],
   "source": [
    "fig,ax = plt.subplots(2,1)\n",
    "ax[0].plot(x, y)\n",
    "ax[0].set_title('graph haut')\n",
    "ax[1].plot(x, y2)\n",
    "ax[1].set_title('graph bas')\n",
    "plt.tight_layout()    "
   ]
  },
  {
   "cell_type": "markdown",
   "id": "e3ac4a8b-d37f-47bf-98e7-4ddb9cc754a2",
   "metadata": {},
   "source": [
    "[Exercices 5 à 7](exercices/Exercices4.ipynb)"
   ]
  },
  {
   "cell_type": "markdown",
   "id": "5966e504-dede-4ba1-82e8-ad5ac857b65c",
   "metadata": {},
   "source": [
    "### 4-2-2-4 Autre type de graphiques"
   ]
  },
  {
   "cell_type": "markdown",
   "id": "d6b5fa70-77b5-4fa3-b497-1137a2bd188d",
   "metadata": {},
   "source": [
    "Graph radar"
   ]
  },
  {
   "cell_type": "code",
   "execution_count": null,
   "id": "0ddb822e-876a-4812-9b0d-6211032f3d86",
   "metadata": {},
   "outputs": [],
   "source": [
    "import matplotlib.pyplot as plt\n",
    "# import numpy as np\n",
    "\n",
    "# Catégories du graphique radar\n",
    "categories = ['Memory', 'Camera', 'Battery', 'Display', 'Chip']\n",
    "\n",
    "# Notes attribuées pour chaque catégorie (échelle de 0 à 5)\n",
    "notes = [4, 3, 4.5, 3.5, 4]\n",
    "\n",
    "# Tracé du graphique radar\n",
    "fig = plt.figure(figsize=(6, 6))\n",
    "ax = fig.add_subplot(111, polar=True)\n",
    "\n",
    "# Réglages esthétiques du graphique\n",
    "ax.set_theta_zero_location(\"N\")  # Réglage de l'emplacement zéro de l'angle\n",
    "ax.set_theta_direction(-1)  # Sens horaire pour l'augmentation des angles\n",
    "\n",
    "# Calcul des angles pour chaque catégorie\n",
    "angles = []\n",
    "angle_step = 2 * 3.14 / len(categories)   # Calcul de l'intervalle d'angle \n",
    "                                            # pour chaque catégorie\n",
    "current_angle = 0\n",
    "\n",
    "# Calcul des angles pour chaque catégorie\n",
    "for c in range(len(categories)):\n",
    "    angles.append(current_angle)  # Ajout de l'angle actuel à la liste des angles\n",
    "    current_angle += angle_step  # Incrémentation de l'angle\n",
    "\n",
    "angles += angles[:1]  # Ajout de la première valeur à la fin pour fermer le polygone\n",
    "\n",
    "# Ajout de la première valeur à la fin de la liste des notes pour fermer le polygone\n",
    "notes.append(notes[0])\n",
    "\n",
    "# Remplissage des zones avec les données\n",
    "ax.fill(angles, notes, alpha=0.3)\n",
    "\n",
    "# Étiquettes des axes\n",
    "ax.set_xticks(angles[:-1])  # Positionnement des étiquettes d'angle\n",
    "ax.set_xticklabels(categories)  # Étiquetage des catégories\n",
    "\n",
    "plt.title('Spécificités techniques du téléphone', fontsize=12)  # Titre du graphique\n",
    "plt.show()\n"
   ]
  },
  {
   "cell_type": "markdown",
   "id": "d4e13463-6ea1-4556-a6d4-61c5ea24af57",
   "metadata": {
    "tags": []
   },
   "source": [
    "# 4-3 Autres bibliothèques de visualisation des données"
   ]
  },
  {
   "cell_type": "markdown",
   "id": "566f0ac6-ab79-4f9e-a249-f98adc945f95",
   "metadata": {},
   "source": [
    "Il faut signaler qu'il existe d'autres bibliothèques pour tracer des courbes comme seaborn ou Pyqtgraph"
   ]
  },
  {
   "cell_type": "markdown",
   "id": "8e959762-cb24-40a7-9202-232b773739c5",
   "metadata": {},
   "source": [
    "## 4-3-1 Seaborn"
   ]
  },
  {
   "cell_type": "markdown",
   "id": "b988e696-15ec-4ede-8012-4277172524b0",
   "metadata": {},
   "source": [
    "Seaborn est basée sur Matplotlib, mais est conçue comme une bibliothèque de plus haut niveau. Elle se révéler moins versatile et flexible que Matplotlib, mais peut dans certains cas permettre de faire des graphs plus esthétiques et éllaborés.  \n",
    "Nous ne montrerons ici que des tracés très basiques."
   ]
  },
  {
   "cell_type": "code",
   "execution_count": null,
   "id": "28950f66-ad1f-47a0-b4a9-4ddfd934706b",
   "metadata": {},
   "outputs": [],
   "source": [
    "import seaborn as sns\n",
    "sns.lineplot(x=[0,1,2], y=[5,8,1]);"
   ]
  },
  {
   "cell_type": "code",
   "execution_count": null,
   "id": "1d888fae-d43b-48bb-aa88-a7d9221f713b",
   "metadata": {},
   "outputs": [],
   "source": [
    "# Configuration des styles seaborn\n",
    "sns.set(style='whitegrid')\n",
    "sns.set_palette('pastel')\n",
    "\n",
    "# Création du graphique à barres avec seaborn\n",
    "ax = sns.barplot(x=x, y=y, linewidth=1, edgecolor='gray')\n",
    "\n",
    "# Personnalisation de l'apparence\n",
    "ax.set_title('Graphique à barres', fontsize=14, fontweight='bold')\n",
    "ax.set_xlabel('Catégories', fontsize=12, fontweight='bold')\n",
    "ax.set_ylabel('Valeurs', fontsize=12, fontweight='bold')\n",
    "\n",
    "# Affichage du graphique\n",
    "# plt.show()\n"
   ]
  },
  {
   "cell_type": "markdown",
   "id": "714dcf6a-7324-4005-b8f1-4ee6c1804a1f",
   "metadata": {},
   "source": [
    "## 4-3-2 PyQtGraph"
   ]
  },
  {
   "cell_type": "markdown",
   "id": "50a0e14f-f757-4172-9b11-0b445d67ed99",
   "metadata": {
    "tags": []
   },
   "source": [
    "PyQtgraph est particulierement adapté pour la création d'interfaces graphiques, cette bibliothèque est basée sur la bibliothèque d'interfaces graphiques Qt. Elle peut aussi se reveler plus performante pour des tracés en temps réel."
   ]
  },
  {
   "cell_type": "markdown",
   "id": "b6d42ef4-bc2d-4630-b5a4-dfefbff5aa2e",
   "metadata": {},
   "source": [
    "A l'execution du code suivant, une fenêtre va s'ouvrir. On remarque que les fonctions de zoom sont implémentées (molette souris).  \n",
    "Il faudra fermer la fenêtre PyQtGraph pour continuer l'éxécution du notebook."
   ]
  },
  {
   "cell_type": "code",
   "execution_count": null,
   "id": "b414df1b-04c6-46e6-a6ad-372e5d90563b",
   "metadata": {},
   "outputs": [],
   "source": [
    "import pyqtgraph as pg\n",
    "\n",
    "# Créer une instance de l'application Qt et renvoyer un objet QApplication\n",
    "app = pg.mkQApp()\n",
    "\n",
    "# Création du widget de tracé\n",
    "pw = pg.plot()\n",
    "x = [1, 2, 3, 4, 5]\n",
    "y = [1, 3, 2, 4, 5]\n",
    "\n",
    "# Tracer les données avec une légende\n",
    "curve = pw.plot(x, y, pen='b', symbol='o', name='Données')\n",
    "\n",
    "# Fixation des limites des axes x et y\n",
    "pw.setXRange(1, 5)\n",
    "pw.setYRange(1, 5)\n",
    "\n",
    "# Ajout du titre\n",
    "pw.setTitle(\"Graphique avec titre\")\n",
    "\n",
    "# Création de la légende pour la courbe\n",
    "legend = pw.addLegend()\n",
    "legend.addItem(curve, \"Courbe de données\")\n",
    "\n",
    "# Affichage du widget de tracé\n",
    "pw.show()\n",
    "\n",
    "# Exécution de la boucle principale de l'application Qt\n",
    "app.exec_()\n"
   ]
  },
  {
   "cell_type": "markdown",
   "id": "a802f7ba-cca3-4748-a52a-b5a732afc036",
   "metadata": {},
   "source": [
    "## 4-3-3 Plotly"
   ]
  },
  {
   "cell_type": "markdown",
   "id": "4ea80b89-029e-4053-9ab5-684b3264447c",
   "metadata": {
    "tags": []
   },
   "source": [
    "Plotly permet des visualisations au format html. Il est également performant pour les tracés 3D."
   ]
  },
  {
   "cell_type": "markdown",
   "id": "ed301e85-8d96-4037-85cb-199df98063cf",
   "metadata": {},
   "source": [
    "Plot simple:"
   ]
  },
  {
   "cell_type": "code",
   "execution_count": null,
   "id": "50f60a1a-2f08-4957-a8d4-65a26c4b852b",
   "metadata": {
    "tags": []
   },
   "outputs": [],
   "source": [
    "import plotly.offline as pyo\n",
    "import plotly.graph_objs as go\n",
    "\n",
    "# Données\n",
    "x = [1, 2, 3, 4, 5]\n",
    "y = [1, 3, 2, 4, 5]\n",
    "\n",
    "# Création de la trace\n",
    "trace = go.Scatter(x=x, y=y, mode='lines+markers')\n",
    "\n",
    "# Création de la figure\n",
    "fig = go.Figure(data=trace)\n",
    "\n",
    "# Affichage de la figure en tant que sortie HTML\n",
    "pyo.plot(fig, filename='output1.html')\n",
    "\n"
   ]
  },
  {
   "cell_type": "markdown",
   "id": "5e987216-bbc0-44ae-9df9-b46a9339c9d2",
   "metadata": {},
   "source": [
    "Plot 3D"
   ]
  },
  {
   "cell_type": "code",
   "execution_count": null,
   "id": "0f37ad0e-9129-4035-a383-d790926b5819",
   "metadata": {
    "tags": []
   },
   "outputs": [],
   "source": [
    "import plotly.offline as pyo\n",
    "import plotly.graph_objs as go\n",
    "\n",
    "# Données\n",
    "x = [1, 2, 3, 4, 5]\n",
    "y = [1, 3, 2, 4, 5]\n",
    "z = [6, 4, 2, 5, 3]\n",
    "\n",
    "# Création de la trace 3D\n",
    "trace = go.Scatter3d(x=x, y=y, z=z, mode='markers')\n",
    "\n",
    "# Création de la figure\n",
    "fig = go.Figure(data=trace)\n",
    "\n",
    "# Affichage de la figure en tant que sortie HTML\n",
    "pyo.plot(fig, filename='output2.html')\n"
   ]
  },
  {
   "cell_type": "markdown",
   "id": "9b1bac6b-28e1-4a4a-ab09-c230c535a2e1",
   "metadata": {
    "tags": []
   },
   "source": [
    "Plot 3D avec points et plans"
   ]
  },
  {
   "cell_type": "code",
   "execution_count": null,
   "id": "9cede642-8a5c-4d9e-89f6-affdc059c981",
   "metadata": {
    "tags": []
   },
   "outputs": [],
   "source": [
    "import plotly.offline as pyo\n",
    "import plotly.graph_objs as go\n",
    "\n",
    "# Données pour le tracé 3D\n",
    "x = [1, 2, 3, 4, 5]\n",
    "y = [1, 3, 2, 4, 5]\n",
    "z = [6, 4, 2, 5, 3]\n",
    "\n",
    "# Création de la trace 3D\n",
    "trace_3d = go.Scatter3d(x=x, y=y, z=z, mode='markers')\n",
    "\n",
    "# Coordonnées des points du plan\n",
    "x_plane = [1, 2, 4]\n",
    "y_plane = [1, 4, 3]\n",
    "z_plane = [2, 3, 2]\n",
    "\n",
    "# Création de la trace du plan\n",
    "trace_plane = go.Mesh3d(\n",
    "    x=x_plane,\n",
    "    y=y_plane,\n",
    "    z=z_plane,\n",
    "    color='rgba(0, 255, 0, 0.5)',\n",
    "    opacity=0.5\n",
    ")\n",
    "\n",
    "# Création de la figure\n",
    "fig = go.Figure(data=[trace_3d, trace_plane])\n",
    "\n",
    "# Affichage de la figure\n",
    "pyo.plot(fig, filename='output3.html')\n"
   ]
  },
  {
   "cell_type": "markdown",
   "id": "9a2f31cb-d13e-447d-add1-9eaeb921b98b",
   "metadata": {},
   "source": [
    "# 4-4 Supplement Matplotlib"
   ]
  },
  {
   "cell_type": "markdown",
   "id": "13ddb3aa-93f4-4088-a71d-b4f5ed631ae9",
   "metadata": {},
   "source": [
    "### 4-4-1 Accés aux outils de zoom, sauvegarde, déplacement"
   ]
  },
  {
   "cell_type": "markdown",
   "id": "0336b34c-efcd-4cc2-a172-0a1e97eb8aaf",
   "metadata": {},
   "source": [
    "La bibliothèque ipympl donne accès à des outils avec la commande **%matplotlib widget**. Cette commande n'est necessaire qu'une fois en debut de code (en général avec les imports)  \n",
    "**ATTENTION:** ipympl n'est pas installé sur les machines de TP!"
   ]
  },
  {
   "cell_type": "code",
   "execution_count": null,
   "id": "1f8cb643-b016-4fa1-aece-92f86a4a76f8",
   "metadata": {},
   "outputs": [],
   "source": [
    "%matplotlib widget\n",
    "\n",
    "plt.rcdefaults() # Réinitialisation des paramètres par \n",
    "                # défaut de Matplotlib. pas necessaire si \n",
    "                # %matplotlib widget est en debut de notebook\n",
    "\n",
    "\n",
    "x = [0,1,2,3,4]\n",
    "y = [5,8,3,1,0]\n",
    "\n",
    "fig,ax = plt.subplots()\n",
    "ax.plot(x,y)\n"
   ]
  }
 ],
 "metadata": {
  "kernelspec": {
   "display_name": "Python 3 (ipykernel)",
   "language": "python",
   "name": "python3"
  },
  "language_info": {
   "codemirror_mode": {
    "name": "ipython",
    "version": 3
   },
   "file_extension": ".py",
   "mimetype": "text/x-python",
   "name": "python",
   "nbconvert_exporter": "python",
   "pygments_lexer": "ipython3",
   "version": "3.11.7"
  }
 },
 "nbformat": 4,
 "nbformat_minor": 5
}
