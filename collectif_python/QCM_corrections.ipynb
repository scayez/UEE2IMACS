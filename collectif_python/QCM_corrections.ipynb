{
 "cells": [
  {
   "cell_type": "markdown",
   "id": "879da15a-2065-4696-b8de-60eb21ccdbcf",
   "metadata": {},
   "source": [
    "***\n",
    "# **<center>Bilans</center>**\n",
    "***"
   ]
  },
  {
   "cell_type": "markdown",
   "id": "658ffc74-e432-4aa6-b7b8-ebcaf1d7ee62",
   "metadata": {},
   "source": [
    "<div style=\"background-color: yellow; padding: 10px;\">\n",
    "<h1 style=\"background-color: yellow;\">1- Bilan1</h1>\n",
    "</div>\n"
   ]
  },
  {
   "cell_type": "markdown",
   "id": "36fd5358-e42f-448d-9163-43ce6b912bd2",
   "metadata": {},
   "source": [
    "### 1-1- Question2"
   ]
  },
  {
   "cell_type": "markdown",
   "id": "0a419c62-e33d-4a7c-93d0-6c1a34b1ff1d",
   "metadata": {},
   "source": [
    "Le code est-il correct?"
   ]
  },
  {
   "cell_type": "code",
   "execution_count": 10,
   "id": "0858081c-d7b5-40e9-9ae9-4d4686cc55cd",
   "metadata": {},
   "outputs": [
    {
     "ename": "TypeError",
     "evalue": "%d format: a real number is required, not str",
     "output_type": "error",
     "traceback": [
      "\u001b[1;31m---------------------------------------------------------------------------\u001b[0m",
      "\u001b[1;31mTypeError\u001b[0m                                 Traceback (most recent call last)",
      "Cell \u001b[1;32mIn[10], line 4\u001b[0m\n\u001b[0;32m      2\u001b[0m texte1 \u001b[38;5;241m=\u001b[39m \u001b[38;5;124m'\u001b[39m\u001b[38;5;124mNous sommes\u001b[39m\u001b[38;5;124m'\u001b[39m\n\u001b[0;32m      3\u001b[0m texte2 \u001b[38;5;241m=\u001b[39m \u001b[38;5;124m'\u001b[39m\u001b[38;5;124métudiants\u001b[39m\u001b[38;5;124m'\u001b[39m\n\u001b[1;32m----> 4\u001b[0m \u001b[38;5;28mprint\u001b[39m(\u001b[38;5;124;43m\"\u001b[39;49m\u001b[38;5;132;43;01m%d\u001b[39;49;00m\u001b[38;5;124;43m Aujourd\u001b[39;49m\u001b[38;5;124;43m'\u001b[39;49m\u001b[38;5;124;43mhui \u001b[39;49m\u001b[38;5;132;43;01m%s\u001b[39;49;00m\u001b[38;5;124;43m\"\u001b[39;49m\u001b[43m \u001b[49m\u001b[38;5;241;43m%\u001b[39;49m\u001b[43m \u001b[49m\u001b[43m(\u001b[49m\u001b[43mtexte1\u001b[49m\u001b[43m,\u001b[49m\u001b[43m \u001b[49m\u001b[43mnombre\u001b[49m\u001b[43m)\u001b[49m)\n",
      "\u001b[1;31mTypeError\u001b[0m: %d format: a real number is required, not str"
     ]
    }
   ],
   "source": [
    "nombre = 24\n",
    "texte1 = 'Nous sommes'\n",
    "texte2 = 'étudiants'\n",
    "print(\"%d Aujourd'hui %s\" % (texte1, nombre))"
   ]
  },
  {
   "cell_type": "markdown",
   "id": "a2a4153e-19df-4d4c-8ef9-d81b9729e115",
   "metadata": {},
   "source": [
    "**NON**  le La chaine de caractères(%s) et l'entier (%d) ont été inversés."
   ]
  },
  {
   "cell_type": "code",
   "execution_count": 11,
   "id": "9544572c-7de8-4c80-9e39-3dde2ab376f6",
   "metadata": {},
   "outputs": [
    {
     "name": "stdout",
     "output_type": "stream",
     "text": [
      "Nous sommes 24 étudiants\n"
     ]
    }
   ],
   "source": [
    "nombre = 24\n",
    "texte = 'Nous sommes'\n",
    "print(\"%s %d étudiants\" % (texte, nombre))"
   ]
  },
  {
   "cell_type": "markdown",
   "id": "42af219e-e39e-4b17-ac7b-1f1d7c3667a9",
   "metadata": {},
   "source": [
    "### 1-2- Question3"
   ]
  },
  {
   "cell_type": "markdown",
   "id": "59bd0644-4668-4734-99be-713a93ecec4e",
   "metadata": {},
   "source": [
    "Ce code va afficher tous les nombre impairs"
   ]
  },
  {
   "cell_type": "code",
   "execution_count": 12,
   "id": "b7329ef5-7e5f-469f-9157-e43891e3ae63",
   "metadata": {},
   "outputs": [
    {
     "name": "stdout",
     "output_type": "stream",
     "text": [
      "[7, 5, 3, 1]\n"
     ]
    }
   ],
   "source": [
    "liste = [0, 1, 2 ,3 , 4, 5, 6, 7, 8]\n",
    "print(liste[7::-2])"
   ]
  },
  {
   "cell_type": "markdown",
   "id": "a5e034fe-faea-4af8-a534-65b138319a11",
   "metadata": {},
   "source": [
    "**OUI** on commence à l'indice 7 inclus et on prend 1 indice sur 2 dans l'ordre décroissant"
   ]
  },
  {
   "cell_type": "markdown",
   "id": "c092011a-674b-4b4f-91fe-206cad819df8",
   "metadata": {},
   "source": [
    "### 1-3- Question4"
   ]
  },
  {
   "cell_type": "markdown",
   "id": "f1b0f305-7683-4123-b722-4263cdf81897",
   "metadata": {},
   "source": [
    "Ce code va afficher 1 3 5 7"
   ]
  },
  {
   "cell_type": "code",
   "execution_count": 13,
   "id": "91c1879b-c1d7-434c-a906-8e8baf13f2c3",
   "metadata": {},
   "outputs": [
    {
     "name": "stdout",
     "output_type": "stream",
     "text": [
      "7\n",
      "5\n",
      "3\n",
      "1\n"
     ]
    }
   ],
   "source": [
    "for i in liste[7::-2]:\n",
    "    print(i)"
   ]
  },
  {
   "cell_type": "markdown",
   "id": "29dfeaae-c758-40d0-b3e5-f8aec8d3b007",
   "metadata": {},
   "source": [
    "**NON** l'ordre est décroissant car le dernier indice est négatif"
   ]
  },
  {
   "cell_type": "markdown",
   "id": "ba3801a8-ec72-44ef-84ac-2df873178ecf",
   "metadata": {},
   "source": [
    "<div style=\"background-color: yellow; padding: 10px;\">\n",
    "<h1 style=\"background-color: yellow;\">2- Bilan2</h1>\n",
    "</div>"
   ]
  },
  {
   "cell_type": "markdown",
   "id": "2287ebd5-9b7e-46e5-89d8-f60d7f460ac6",
   "metadata": {},
   "source": [
    "### 2-1 Question2"
   ]
  },
  {
   "cell_type": "markdown",
   "id": "c957efb6-1e62-4458-93e4-dde1c00d6d49",
   "metadata": {},
   "source": [
    "la fonction définie par:\n",
    "```python\n",
    " def faire_une_action(*args):\n",
    "```\n",
    "Accepte un nombre variable de paramètres"
   ]
  },
  {
   "cell_type": "markdown",
   "id": "e8c4915e-c523-4b88-8df6-337ab1402b39",
   "metadata": {},
   "source": [
    "**OUI** Le * devant args indique que cette fonction peut accepter un nombre variable d'arguments, qui seront rassemblés dans un tuple nommé args. "
   ]
  },
  {
   "cell_type": "markdown",
   "id": "3dd7f88b-a294-446f-9117-19083413fd00",
   "metadata": {},
   "source": [
    "### 2-2 Question3"
   ]
  },
  {
   "cell_type": "markdown",
   "id": "a1b6376e-c1ef-4246-9170-0fd12b280517",
   "metadata": {},
   "source": [
    "```python\n",
    "a = 1 \n",
    "def ma_fonction():\n",
    "    b = 2 \n",
    "```"
   ]
  },
  {
   "cell_type": "markdown",
   "id": "d781bbef-b666-44f0-b210-1aa89830d5fa",
   "metadata": {},
   "source": [
    "### 2-3 Question4"
   ]
  },
  {
   "cell_type": "markdown",
   "id": "595f0804-7817-44ef-a973-7dce68b76b61",
   "metadata": {},
   "source": [
    "```python\n",
    "from a import b\n",
    "```"
   ]
  },
  {
   "cell_type": "markdown",
   "id": "df0a10ad-1032-4b4c-a4ef-f455d8d20998",
   "metadata": {},
   "source": [
    "a est un nom de fonction  \n",
    "b est un nom de fichier"
   ]
  },
  {
   "cell_type": "markdown",
   "id": "30371213-1cbf-4bc8-884d-542287420bdf",
   "metadata": {},
   "source": [
    "**NON** a est nom de fichier et b un nom de fonction"
   ]
  },
  {
   "cell_type": "markdown",
   "id": "fb5fd46b-07fd-497c-b76e-ec0a89a30a45",
   "metadata": {},
   "source": [
    "### 2-3 Question5"
   ]
  },
  {
   "cell_type": "markdown",
   "id": "96990d42-684f-4d98-8ef8-0228078e2d8a",
   "metadata": {},
   "source": [
    "Matplotlib permet des représentations en echelle logarithmique"
   ]
  },
  {
   "cell_type": "markdown",
   "id": "ac53a42e-36db-423f-a0ba-bbe1a1339b2f",
   "metadata": {},
   "source": [
    "**OUI** Avec \n",
    "```python\n",
    "ax.set_yscale('log')\n",
    "```\n",
    "ou\n",
    "```python\n",
    "ax.set_xscale('log')\n",
    "```"
   ]
  },
  {
   "cell_type": "markdown",
   "id": "16cc4443-6387-49d1-80cb-20f93f83afd0",
   "metadata": {},
   "source": [
    "<div style=\"background-color: yellow; padding: 10px;\">\n",
    "<h1 style=\"background-color: yellow;\">3- Bilan3</h1>\n",
    "</div>"
   ]
  },
  {
   "cell_type": "markdown",
   "id": "334edd8e-a74f-4c18-a621-d0b4c7a3f9ab",
   "metadata": {},
   "source": [
    "# 3-1 Question2"
   ]
  },
  {
   "cell_type": "code",
   "execution_count": 14,
   "id": "23bbbe2f-1f8f-422e-adae-75f539cb3136",
   "metadata": {},
   "outputs": [],
   "source": [
    "import numpy as np"
   ]
  },
  {
   "cell_type": "markdown",
   "id": "3546c00a-1804-4647-9787-bf4190324648",
   "metadata": {},
   "source": [
    "- Le code suivant affichera (3,2)"
   ]
  },
  {
   "cell_type": "code",
   "execution_count": 15,
   "id": "1206c698-aa32-4074-835b-5faa05069afd",
   "metadata": {},
   "outputs": [
    {
     "name": "stdout",
     "output_type": "stream",
     "text": [
      "(2, 3)\n"
     ]
    }
   ],
   "source": [
    "a = np.array([[5, 6, 3],[7, 8, 5]])\n",
    "print(a.shape)"
   ]
  },
  {
   "cell_type": "markdown",
   "id": "f7d643d3-01ed-4f06-873d-74ccb8ce1e89",
   "metadata": {},
   "source": [
    "**Non** l'odre est ligne colonne et non colonne ligne"
   ]
  },
  {
   "cell_type": "markdown",
   "id": "c74e8e9b-c3c2-4d64-a772-b7cd8c2d0f23",
   "metadata": {},
   "source": [
    "### 3-2 Question3"
   ]
  },
  {
   "cell_type": "markdown",
   "id": "9aa02312-b650-4f34-b8c8-04a90f99531e",
   "metadata": {},
   "source": [
    "- Le code suivant affiche True"
   ]
  },
  {
   "cell_type": "code",
   "execution_count": 16,
   "id": "207cb5ac-6bde-4074-9715-0db7431bedd5",
   "metadata": {},
   "outputs": [
    {
     "name": "stdout",
     "output_type": "stream",
     "text": [
      "True\n",
      "[[0. 0.]\n",
      " [0. 0.]\n",
      " [0. 0.]]\n",
      "2\n",
      "---------\n",
      "[[5 6 3]\n",
      " [7 8 5]]\n",
      "2\n"
     ]
    }
   ],
   "source": [
    "a = np.zeros((3, 2))\n",
    "b = np.array([[5, 6, 3],[7, 8, 5]])\n",
    "if a.ndim == b.ndim:\n",
    "    print(True)\n",
    "else:\n",
    "    print(False)\n",
    "\n",
    "print(a)\n",
    "print(a.ndim)\n",
    "print('---------')\n",
    "print(b)\n",
    "print(b.ndim)"
   ]
  },
  {
   "cell_type": "markdown",
   "id": "1309851c-c6c8-46fc-8bb2-81d1e6253d54",
   "metadata": {},
   "source": [
    "**OUI** Il y a bien le meme nombre de dimensions "
   ]
  },
  {
   "cell_type": "markdown",
   "id": "6a2f6894-1a1d-42a9-be34-4f06221ba9f1",
   "metadata": {},
   "source": [
    "### 3-3 Question4"
   ]
  },
  {
   "cell_type": "markdown",
   "id": "e93334a6-4923-44a2-bc6a-7ebe729f7063",
   "metadata": {},
   "source": [
    "- Le code suivant donnera 5"
   ]
  },
  {
   "cell_type": "code",
   "execution_count": 17,
   "id": "8813ee46-0c8e-4fe6-8fbb-ee134c32bec6",
   "metadata": {},
   "outputs": [
    {
     "name": "stdout",
     "output_type": "stream",
     "text": [
      "8\n"
     ]
    }
   ],
   "source": [
    "a = np.array([[5, 6, 3],[7, 8, 5]])\n",
    "print(a[1,1])"
   ]
  },
  {
   "cell_type": "markdown",
   "id": "32f1baf4-3747-4b81-aa96-ff759cb5ab8e",
   "metadata": {},
   "source": [
    "**Non** il affichera l'élément de la ligne 1 colonne 1 (5 est l'élément en ligne 0 colonne 0)"
   ]
  },
  {
   "cell_type": "markdown",
   "id": "0f842a55-5c00-4683-ac08-b5ceb62cfde4",
   "metadata": {},
   "source": [
    "### 3-4 Question5"
   ]
  },
  {
   "cell_type": "code",
   "execution_count": 18,
   "id": "2f64e67d-d645-4555-881f-b320afa39b91",
   "metadata": {},
   "outputs": [],
   "source": [
    "import math"
   ]
  },
  {
   "cell_type": "code",
   "execution_count": 19,
   "id": "6a12f644-2d8a-4212-98f7-e1ddac76dd8d",
   "metadata": {},
   "outputs": [],
   "source": [
    "a = np.array([math.pi, math.pi/2, math.pi/4])"
   ]
  },
  {
   "cell_type": "markdown",
   "id": "164f0f31-314b-4ae8-8c8e-2197d3520abd",
   "metadata": {},
   "source": [
    "- Pour obtenir un tableau contenant le sinus des éléments du tableau a il faut faire:"
   ]
  },
  {
   "cell_type": "code",
   "execution_count": 20,
   "id": "7ec4b194-18f8-48e0-b862-46f37f53aac5",
   "metadata": {},
   "outputs": [
    {
     "name": "stdout",
     "output_type": "stream",
     "text": [
      "[1.22464680e-16 1.00000000e+00 7.07106781e-01]\n"
     ]
    },
    {
     "ename": "TypeError",
     "evalue": "only length-1 arrays can be converted to Python scalars",
     "output_type": "error",
     "traceback": [
      "\u001b[1;31m---------------------------------------------------------------------------\u001b[0m",
      "\u001b[1;31mTypeError\u001b[0m                                 Traceback (most recent call last)",
      "Cell \u001b[1;32mIn[20], line 2\u001b[0m\n\u001b[0;32m      1\u001b[0m \u001b[38;5;28mprint\u001b[39m(np\u001b[38;5;241m.\u001b[39msin(a))\n\u001b[1;32m----> 2\u001b[0m \u001b[38;5;28mprint\u001b[39m(\u001b[43mmath\u001b[49m\u001b[38;5;241;43m.\u001b[39;49m\u001b[43msin\u001b[49m\u001b[43m(\u001b[49m\u001b[43ma\u001b[49m\u001b[43m)\u001b[49m)\n",
      "\u001b[1;31mTypeError\u001b[0m: only length-1 arrays can be converted to Python scalars"
     ]
    }
   ],
   "source": [
    "print(np.sin(a))\n",
    "print(math.sin(a))"
   ]
  },
  {
   "cell_type": "markdown",
   "id": "7f2b7a8f-7e9a-4d0b-9946-861b3db781bb",
   "metadata": {},
   "source": [
    "Il faut faire print(math.sin(a)) pour calcluler le sinus des éléments d'un tableau. Math.sin attend un nombre en argument et non un tableau."
   ]
  },
  {
   "cell_type": "markdown",
   "id": "ea259837-7a02-4e51-8ffc-43e71d1a23aa",
   "metadata": {},
   "source": [
    "<div style=\"background-color: yellow; padding: 10px;\">\n",
    "<h1 style=\"background-color: yellow;\">4- Bilan4</h1>\n",
    "</div>"
   ]
  },
  {
   "cell_type": "markdown",
   "id": "9f00fb05-10ef-4985-991b-47e775ed2ea1",
   "metadata": {},
   "source": [
    "### 4-1 Question2"
   ]
  },
  {
   "cell_type": "code",
   "execution_count": 2,
   "id": "0f35e870-a263-4335-b431-ba819acc2561",
   "metadata": {},
   "outputs": [],
   "source": [
    "import pandas as pd"
   ]
  },
  {
   "cell_type": "code",
   "execution_count": 3,
   "id": "e1424a42-1c7f-4c1b-90a1-62e5dbcbcf5d",
   "metadata": {},
   "outputs": [],
   "source": [
    "data = {\n",
    "    \"Sex\": ['M', 'F', 'M', 'F', 'M'],\n",
    "    \"Age\": [24, 32, 28, 29, 35],\n",
    "    \"Weight\": [75, 62, 80, 55, 70],\n",
    "    \"Height\": [180, 165.5, 175, 170.3, 185.6]  # Tailles en cm, certains en int, d'autres en float\n",
    "}\n",
    "\n",
    "df = pd.DataFrame(data)"
   ]
  },
  {
   "cell_type": "markdown",
   "id": "2b367e47-be6f-4a2a-bbeb-d7086e692186",
   "metadata": {},
   "source": [
    "Le tableau est obtenu avec **df.describe()**"
   ]
  },
  {
   "cell_type": "code",
   "execution_count": 4,
   "id": "e9201d39-ca1f-4075-b8b1-91a2f6714eca",
   "metadata": {},
   "outputs": [
    {
     "data": {
      "text/html": [
       "<div>\n",
       "<style scoped>\n",
       "    .dataframe tbody tr th:only-of-type {\n",
       "        vertical-align: middle;\n",
       "    }\n",
       "\n",
       "    .dataframe tbody tr th {\n",
       "        vertical-align: top;\n",
       "    }\n",
       "\n",
       "    .dataframe thead th {\n",
       "        text-align: right;\n",
       "    }\n",
       "</style>\n",
       "<table border=\"1\" class=\"dataframe\">\n",
       "  <thead>\n",
       "    <tr style=\"text-align: right;\">\n",
       "      <th></th>\n",
       "      <th>Age</th>\n",
       "      <th>Weight</th>\n",
       "      <th>Height</th>\n",
       "    </tr>\n",
       "  </thead>\n",
       "  <tbody>\n",
       "    <tr>\n",
       "      <th>count</th>\n",
       "      <td>5.000000</td>\n",
       "      <td>5.000000</td>\n",
       "      <td>5.000000</td>\n",
       "    </tr>\n",
       "    <tr>\n",
       "      <th>mean</th>\n",
       "      <td>29.600000</td>\n",
       "      <td>68.400000</td>\n",
       "      <td>175.280000</td>\n",
       "    </tr>\n",
       "    <tr>\n",
       "      <th>std</th>\n",
       "      <td>4.159327</td>\n",
       "      <td>10.014989</td>\n",
       "      <td>7.894745</td>\n",
       "    </tr>\n",
       "    <tr>\n",
       "      <th>min</th>\n",
       "      <td>24.000000</td>\n",
       "      <td>55.000000</td>\n",
       "      <td>165.500000</td>\n",
       "    </tr>\n",
       "    <tr>\n",
       "      <th>25%</th>\n",
       "      <td>28.000000</td>\n",
       "      <td>62.000000</td>\n",
       "      <td>170.300000</td>\n",
       "    </tr>\n",
       "    <tr>\n",
       "      <th>50%</th>\n",
       "      <td>29.000000</td>\n",
       "      <td>70.000000</td>\n",
       "      <td>175.000000</td>\n",
       "    </tr>\n",
       "    <tr>\n",
       "      <th>75%</th>\n",
       "      <td>32.000000</td>\n",
       "      <td>75.000000</td>\n",
       "      <td>180.000000</td>\n",
       "    </tr>\n",
       "    <tr>\n",
       "      <th>max</th>\n",
       "      <td>35.000000</td>\n",
       "      <td>80.000000</td>\n",
       "      <td>185.600000</td>\n",
       "    </tr>\n",
       "  </tbody>\n",
       "</table>\n",
       "</div>"
      ],
      "text/plain": [
       "             Age     Weight      Height\n",
       "count   5.000000   5.000000    5.000000\n",
       "mean   29.600000  68.400000  175.280000\n",
       "std     4.159327  10.014989    7.894745\n",
       "min    24.000000  55.000000  165.500000\n",
       "25%    28.000000  62.000000  170.300000\n",
       "50%    29.000000  70.000000  175.000000\n",
       "75%    32.000000  75.000000  180.000000\n",
       "max    35.000000  80.000000  185.600000"
      ]
     },
     "execution_count": 4,
     "metadata": {},
     "output_type": "execute_result"
    }
   ],
   "source": [
    "df.describe()"
   ]
  },
  {
   "cell_type": "markdown",
   "id": "2dd9f3d1-d415-495d-aa50-70311f8fa966",
   "metadata": {},
   "source": [
    "### 4-2 Question3"
   ]
  },
  {
   "cell_type": "code",
   "execution_count": 5,
   "id": "27e4c3f7-bfb4-44e2-954f-df800191e109",
   "metadata": {},
   "outputs": [
    {
     "name": "stdout",
     "output_type": "stream",
     "text": [
      "Dimension différente\n"
     ]
    }
   ],
   "source": [
    "import pandas as pd\n",
    "df = pd.read_csv('fichier_exercices_enonces/7_pandas/heart.csv')\n",
    "df_hommes_jeunes = df.query(\"age < 35 & sex == 1\")\n",
    "if df_hommes_jeunes.shape == df.shape:\n",
    "    print('Même dimension')\n",
    "else:\n",
    "    print('Dimension différente')"
   ]
  },
  {
   "cell_type": "markdown",
   "id": "1a387c84-478a-44d4-98cc-0100b650cad9",
   "metadata": {},
   "source": [
    "**Dimension différente** contrairement à df.where, df.query ne conserve pas le dimensions du datframe "
   ]
  },
  {
   "cell_type": "code",
   "execution_count": 6,
   "id": "9ac2e607-1ec6-4383-be5c-3260bf8d5922",
   "metadata": {},
   "outputs": [
    {
     "name": "stdout",
     "output_type": "stream",
     "text": [
      "(303, 14)\n",
      "(2, 14)\n"
     ]
    }
   ],
   "source": [
    "print(df.shape)\n",
    "print(df_hommes_jeunes.shape)"
   ]
  },
  {
   "cell_type": "markdown",
   "id": "de306245-d482-4eaf-bad3-3e412097448e",
   "metadata": {},
   "source": [
    "### 4-3 Question4"
   ]
  },
  {
   "cell_type": "markdown",
   "id": "e1478087-2041-4c72-89bb-d8a64b65e232",
   "metadata": {},
   "source": [
    "Pour écrire de nouvelles données après des données existantes on utilisera la syntaxe:"
   ]
  },
  {
   "cell_type": "code",
   "execution_count": 7,
   "id": "eb732533-c27e-4646-b003-988d6d15f387",
   "metadata": {},
   "outputs": [],
   "source": [
    "#Mauvaise réponse, on efface le contenu eventuel du fichier\n",
    "with open('mon_fichier.txt', 'w') as fichier:\n",
    "    fichier.write('Nouvelles donnees')"
   ]
  },
  {
   "cell_type": "code",
   "execution_count": 8,
   "id": "fdde7d19-a899-439f-a953-b21ebbf55e12",
   "metadata": {},
   "outputs": [],
   "source": [
    "#Bonne réponse le mode append permet d'ajouter des données à la suite\n",
    "with open('mon_fichier.txt', 'a') as fichier:\n",
    "    fichier.write('Nouvelles donnees')"
   ]
  },
  {
   "cell_type": "code",
   "execution_count": 11,
   "id": "766cf731-eb8d-4c75-860f-fbe2e0b9cd33",
   "metadata": {},
   "outputs": [
    {
     "ename": "UnsupportedOperation",
     "evalue": "not writable",
     "output_type": "error",
     "traceback": [
      "\u001b[1;31m---------------------------------------------------------------------------\u001b[0m",
      "\u001b[1;31mUnsupportedOperation\u001b[0m                      Traceback (most recent call last)",
      "Cell \u001b[1;32mIn[11], line 3\u001b[0m\n\u001b[0;32m      1\u001b[0m \u001b[38;5;66;03m#Mauvaise réponse en mode leccture on ne peut pas ecrire\u001b[39;00m\n\u001b[0;32m      2\u001b[0m \u001b[38;5;28;01mwith\u001b[39;00m \u001b[38;5;28mopen\u001b[39m(\u001b[38;5;124m'\u001b[39m\u001b[38;5;124mmon_fichier.txt\u001b[39m\u001b[38;5;124m'\u001b[39m, \u001b[38;5;124m'\u001b[39m\u001b[38;5;124mr\u001b[39m\u001b[38;5;124m'\u001b[39m) \u001b[38;5;28;01mas\u001b[39;00m fichier:\n\u001b[1;32m----> 3\u001b[0m     \u001b[43mfichier\u001b[49m\u001b[38;5;241;43m.\u001b[39;49m\u001b[43mwrite\u001b[49m\u001b[43m(\u001b[49m\u001b[38;5;124;43m'\u001b[39;49m\u001b[38;5;124;43mNouvelles donnees\u001b[39;49m\u001b[38;5;124;43m'\u001b[39;49m\u001b[43m)\u001b[49m\n",
      "\u001b[1;31mUnsupportedOperation\u001b[0m: not writable"
     ]
    }
   ],
   "source": [
    "#Mauvaise réponse en mode leccture on ne peut pas ecrire\n",
    "with open('mon_fichier.txt', 'r') as fichier:\n",
    "    fichier.write('Nouvelles donnees')"
   ]
  },
  {
   "cell_type": "code",
   "execution_count": 10,
   "id": "05f763e5-c1a3-47b2-bb24-b93d4176f726",
   "metadata": {},
   "outputs": [
    {
     "ename": "ValueError",
     "evalue": "invalid mode: 'p'",
     "output_type": "error",
     "traceback": [
      "\u001b[1;31m---------------------------------------------------------------------------\u001b[0m",
      "\u001b[1;31mValueError\u001b[0m                                Traceback (most recent call last)",
      "Cell \u001b[1;32mIn[10], line 1\u001b[0m\n\u001b[1;32m----> 1\u001b[0m \u001b[38;5;28;01mwith\u001b[39;00m \u001b[38;5;28;43mopen\u001b[39;49m\u001b[43m(\u001b[49m\u001b[38;5;124;43m'\u001b[39;49m\u001b[38;5;124;43mmon_fichier.txt\u001b[39;49m\u001b[38;5;124;43m'\u001b[39;49m\u001b[43m,\u001b[49m\u001b[43m \u001b[49m\u001b[38;5;124;43m'\u001b[39;49m\u001b[38;5;124;43mp\u001b[39;49m\u001b[38;5;124;43m'\u001b[39;49m\u001b[43m)\u001b[49m \u001b[38;5;28;01mas\u001b[39;00m fichier:\n\u001b[0;32m      2\u001b[0m     fichier\u001b[38;5;241m.\u001b[39mwrite(\u001b[38;5;124m'\u001b[39m\u001b[38;5;124mNouvelles donnees\u001b[39m\u001b[38;5;124m'\u001b[39m)\n",
      "File \u001b[1;32m~\\Anaconda3\\envs\\UEE2IMACS\\Lib\\site-packages\\IPython\\core\\interactiveshell.py:310\u001b[0m, in \u001b[0;36m_modified_open\u001b[1;34m(file, *args, **kwargs)\u001b[0m\n\u001b[0;32m    303\u001b[0m \u001b[38;5;28;01mif\u001b[39;00m file \u001b[38;5;129;01min\u001b[39;00m {\u001b[38;5;241m0\u001b[39m, \u001b[38;5;241m1\u001b[39m, \u001b[38;5;241m2\u001b[39m}:\n\u001b[0;32m    304\u001b[0m     \u001b[38;5;28;01mraise\u001b[39;00m \u001b[38;5;167;01mValueError\u001b[39;00m(\n\u001b[0;32m    305\u001b[0m         \u001b[38;5;124mf\u001b[39m\u001b[38;5;124m\"\u001b[39m\u001b[38;5;124mIPython won\u001b[39m\u001b[38;5;124m'\u001b[39m\u001b[38;5;124mt let you open fd=\u001b[39m\u001b[38;5;132;01m{\u001b[39;00mfile\u001b[38;5;132;01m}\u001b[39;00m\u001b[38;5;124m by default \u001b[39m\u001b[38;5;124m\"\u001b[39m\n\u001b[0;32m    306\u001b[0m         \u001b[38;5;124m\"\u001b[39m\u001b[38;5;124mas it is likely to crash IPython. If you know what you are doing, \u001b[39m\u001b[38;5;124m\"\u001b[39m\n\u001b[0;32m    307\u001b[0m         \u001b[38;5;124m\"\u001b[39m\u001b[38;5;124myou can use builtins\u001b[39m\u001b[38;5;124m'\u001b[39m\u001b[38;5;124m open.\u001b[39m\u001b[38;5;124m\"\u001b[39m\n\u001b[0;32m    308\u001b[0m     )\n\u001b[1;32m--> 310\u001b[0m \u001b[38;5;28;01mreturn\u001b[39;00m \u001b[43mio_open\u001b[49m\u001b[43m(\u001b[49m\u001b[43mfile\u001b[49m\u001b[43m,\u001b[49m\u001b[43m \u001b[49m\u001b[38;5;241;43m*\u001b[39;49m\u001b[43margs\u001b[49m\u001b[43m,\u001b[49m\u001b[43m \u001b[49m\u001b[38;5;241;43m*\u001b[39;49m\u001b[38;5;241;43m*\u001b[39;49m\u001b[43mkwargs\u001b[49m\u001b[43m)\u001b[49m\n",
      "\u001b[1;31mValueError\u001b[0m: invalid mode: 'p'"
     ]
    }
   ],
   "source": [
    "#Mauvaise réponse, le mode p n'existe pas\n",
    "with open('mon_fichier.txt', 'p') as fichier:\n",
    "    fichier.write('Nouvelles donnees')"
   ]
  },
  {
   "cell_type": "markdown",
   "id": "7342445a-a0f4-4e05-9f26-581a386681d1",
   "metadata": {},
   "source": [
    "### 4-4 Question5"
   ]
  },
  {
   "cell_type": "code",
   "execution_count": 44,
   "id": "a4617479-6056-41c1-9520-04fb1f36fbee",
   "metadata": {},
   "outputs": [
    {
     "name": "stdout",
     "output_type": "stream",
     "text": [
      "<class 'list'>\n"
     ]
    }
   ],
   "source": [
    "chemin = 'fichier_exercices_enonces/8_fichiers/E15_bis.xy'\n",
    "with open(chemin, 'r') as fichier:\n",
    "    lignes = fichier.readlines()\n",
    "\n",
    "print(type(lignes))"
   ]
  }
 ],
 "metadata": {
  "kernelspec": {
   "display_name": "Python 3 (ipykernel)",
   "language": "python",
   "name": "python3"
  },
  "language_info": {
   "codemirror_mode": {
    "name": "ipython",
    "version": 3
   },
   "file_extension": ".py",
   "mimetype": "text/x-python",
   "name": "python",
   "nbconvert_exporter": "python",
   "pygments_lexer": "ipython3",
   "version": "3.11.7"
  }
 },
 "nbformat": 4,
 "nbformat_minor": 5
}
