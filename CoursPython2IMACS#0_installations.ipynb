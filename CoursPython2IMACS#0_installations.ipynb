{
 "cells": [
  {
   "cell_type": "markdown",
   "id": "50be5d99-339d-43ed-a557-30139502ca6a",
   "metadata": {},
   "source": [
    "***\n",
    "# **<center>COURS PYTHON 2IMACS#0</center>**\n",
    "# ***<center>Installations</center>***\n",
    "***"
   ]
  },
  {
   "cell_type": "markdown",
   "id": "43a86dbf-a562-474d-a35e-4ed60453786b",
   "metadata": {},
   "source": [
    "# 0-1 Jupyter Notebooks"
   ]
  },
  {
   "cell_type": "markdown",
   "id": "40dc1862-eca3-45e9-ab26-cdc4a5d0353f",
   "metadata": {},
   "source": [
    "## 0-1-1 Lancer Jupyter Lab sur les machines de TP"
   ]
  },
  {
   "cell_type": "markdown",
   "id": "22815943-d88e-4d64-9d8b-0d298a5a7ec2",
   "metadata": {},
   "source": [
    "Python est installé sur vos machines. Nous avons également besoin d'une interface de developpement (IDE). Nous allons utiliser majoritairement Jupyter Lab qui permet de travailler avec des notebooks, pouvant contenir du texte mis en forme, de hyperliens, de images... mais surtout du code Python."
   ]
  },
  {
   "cell_type": "markdown",
   "id": "4ef28f32-3fa7-4034-9a2f-ff1180fa7f40",
   "metadata": {},
   "source": [
    "Pour lancer Jupyter Lab, nous allons devoir utiliser l'invite de commande. Dans la barre de recherche windows, tapez \"Invite de commande\" et ouvrez l'invite de commande."
   ]
  },
  {
   "cell_type": "markdown",
   "id": "8b4bd05b-daf7-4d55-b20f-2028b7137bbc",
   "metadata": {},
   "source": [
    "![jupyter](fichiers_cours/Install/tp1.png)"
   ]
  },
  {
   "cell_type": "markdown",
   "id": "3b752e73-1c28-4819-bcdf-61f85ca960a6",
   "metadata": {},
   "source": [
    "![jupyter](fichiers_cours/Install/tp2.png)"
   ]
  },
  {
   "cell_type": "markdown",
   "id": "822b30e3-5844-44ac-8fbd-106c8b61b667",
   "metadata": {},
   "source": [
    "Depuis cette invite de commade, nous allons pouvoir lancer jupyter , simplement en tapant <pre>jupyter lab</pre>"
   ]
  },
  {
   "cell_type": "markdown",
   "id": "0d61b29e-9546-45cb-9903-1e747768d1f1",
   "metadata": {},
   "source": [
    "![jupyter](fichiers_cours/Install/tp3.png)"
   ]
  },
  {
   "cell_type": "markdown",
   "id": "de40a7a1-c42c-4c71-a816-224466619041",
   "metadata": {},
   "source": [
    "Jupyter Lab va se lancer dans votre navigateur. On a ouvert une adresse locale, bien que l'on utilise Firexox, ici, on n'utilise pas internet."
   ]
  },
  {
   "cell_type": "markdown",
   "id": "751d29eb-dac2-4df2-82aa-088618595120",
   "metadata": {},
   "source": [
    "![jupyter](fichiers_cours/Install/tp5.png)"
   ]
  },
  {
   "cell_type": "markdown",
   "id": "9696b383-7bdc-420f-a3ca-ee131f8b744d",
   "metadata": {},
   "source": [
    "Il est possible que jupyter ne se lance pas correctement dans le navigateur, dans ce cas, il est indiqué , dans l'invite de commande des URL que l'on peut copier dans la barre d'adresse du navigateur.  \n",
    "Cette étape n'est necessaire que si Jupyter ne s'est pas lancé dans le navigateur."
   ]
  },
  {
   "cell_type": "markdown",
   "id": "9bc32d95-81d4-4c0c-bf91-5c4ff869fd2e",
   "metadata": {},
   "source": [
    "![jupyter](fichiers_cours/Install/tp4.png)"
   ]
  },
  {
   "cell_type": "code",
   "execution_count": null,
   "id": "78c21d29-2522-4456-b59e-b51c0bdddb39",
   "metadata": {},
   "outputs": [],
   "source": []
  },
  {
   "cell_type": "markdown",
   "id": "cd52f3f9-1c54-4016-9cd3-0ca8b8cb51c8",
   "metadata": {},
   "source": [
    "# 0-1 Ouverture de Google Colab"
   ]
  },
  {
   "cell_type": "markdown",
   "id": "b6a62f75-5689-4d8c-8771-25be66349573",
   "metadata": {},
   "source": [
    "## 0-1-1 Créer un notebook"
   ]
  },
  {
   "cell_type": "markdown",
   "id": "ff4e8510-75bc-42da-9ebd-49929af915f1",
   "metadata": {},
   "source": [
    "Ouvrir [Google Colab](https://colab.research.google.com) (vous aurez besoin d'une connexion à un compte google)"
   ]
  },
  {
   "cell_type": "markdown",
   "id": "5f58c5ac-877e-4591-a4ed-c633163bb4d3",
   "metadata": {},
   "source": [
    "![colab](fichiers_cours/Install/colab1.png)"
   ]
  },
  {
   "cell_type": "markdown",
   "id": "a448b358-2195-411d-b05d-a9adc4c8fb33",
   "metadata": {},
   "source": [
    "![colab](fichiers_cours/Install/colab2.png)"
   ]
  },
  {
   "cell_type": "markdown",
   "id": "1515567e-889a-452b-91be-c612b377431e",
   "metadata": {},
   "source": [
    "On peut maintenant enregistrer le notebook"
   ]
  },
  {
   "cell_type": "markdown",
   "id": "e41f8f2b-20b6-491a-82f0-914dafdf40d6",
   "metadata": {},
   "source": [
    "![colab](fichiers_cours/Install/colab3.png)"
   ]
  },
  {
   "cell_type": "markdown",
   "id": "0958806c-7eca-443e-a994-fe410332e455",
   "metadata": {},
   "source": [
    "## 0-1-2 Importer un notebook"
   ]
  },
  {
   "cell_type": "markdown",
   "id": "ca7c8897-0dac-4b14-a79b-14142caef692",
   "metadata": {},
   "source": [
    "Il est aussi possible d'importer un notebook existant."
   ]
  },
  {
   "cell_type": "markdown",
   "id": "46c43f8d-19d1-42ec-9fb7-c3836af35f17",
   "metadata": {},
   "source": [
    "![colab](fichiers_cours/Install/colab4.png)"
   ]
  },
  {
   "cell_type": "markdown",
   "id": "39e79346-2b9e-49fc-9930-ff8c3c64c449",
   "metadata": {},
   "source": [
    "![colab](fichiers_cours/Install/colab5.png)"
   ]
  },
  {
   "cell_type": "markdown",
   "id": "82087f0c-a4dc-4eb6-b5a4-8ea0be95bd49",
   "metadata": {},
   "source": [
    "## 0-1-3 Créer un appeler des fichiers"
   ]
  },
  {
   "cell_type": "markdown",
   "id": "51776c7b-d423-4c16-a821-4af840487ec5",
   "metadata": {},
   "source": [
    "Pour travailler avec des fichiers, on peut les copier sur Google Drive et monter drive depuis colab:"
   ]
  },
  {
   "cell_type": "markdown",
   "id": "8d83c596-7558-4a81-9b1a-ef7fba984c7b",
   "metadata": {},
   "source": [
    "```python\n",
    "from google.colab import drive\n",
    "\n",
    "drive.mount('/content/drive')\n",
    "```"
   ]
  },
  {
   "cell_type": "markdown",
   "id": "bbb1b44c-ad1f-43ed-8f5b-731c32daca05",
   "metadata": {},
   "source": [
    "Les fichiers du drive apparaissent (Pour faire apparaitre ce panneau, cliquer sur l'icone dossier). On peut copier le chemin de notre fichier."
   ]
  },
  {
   "cell_type": "markdown",
   "id": "7a1a866e-408b-42fe-ae8b-9efec19ec051",
   "metadata": {},
   "source": [
    "![fichiers](fichiers_cours/Install/fichiers1.png)"
   ]
  },
  {
   "cell_type": "markdown",
   "id": "c75a3e14-b875-43c8-88eb-6446140c4350",
   "metadata": {},
   "source": [
    "Connaissant ce chemin, on peut ouvrir ce fichier et aller lire son contenu:"
   ]
  },
  {
   "cell_type": "markdown",
   "id": "4aa6aa92-76fe-481a-aa0a-b377e9aa048f",
   "metadata": {},
   "source": [
    "```python\n",
    "chemin = '/content/drive/MyDrive/ColabNotebooks/fichier_test.txt'\n",
    "with open(chemin, 'r') as fichier:\n",
    "    contenu = fichier.read()\n",
    "    print(contenu)\n",
    "```"
   ]
  },
  {
   "cell_type": "markdown",
   "id": "9cf22c1f-d1c6-4ce6-a198-b23ce794a1cc",
   "metadata": {},
   "source": [
    "De même, on peut créer un fichier et le sauver sur le drive:"
   ]
  },
  {
   "cell_type": "code",
   "execution_count": null,
   "id": "6bbbc6e8-34b5-49fb-91d5-740da434ff12",
   "metadata": {},
   "outputs": [],
   "source": [
    "# Créer un fichier texte\n",
    "with open('/content/drive/MyDrive/ColabNotebooks/mon_fichier.txt', 'w') as f:\n",
    "\n",
    "    # Écrire le contenu du fichier\n",
    "    f.write('Ce contenu sera écrit dans le fichier texte.')"
   ]
  },
  {
   "cell_type": "markdown",
   "id": "f4093ad0-93ff-49fa-a878-a28cebe8f0bf",
   "metadata": {},
   "source": [
    "# 0-2 Anaconda"
   ]
  },
  {
   "cell_type": "markdown",
   "id": "e719d1c4-5309-47fe-8df1-6d341863732f",
   "metadata": {},
   "source": [
    "## 0-2-1 Installation Anaconda"
   ]
  },
  {
   "cell_type": "markdown",
   "id": "7a827a29-5d7c-48e2-a196-a04bc99867e4",
   "metadata": {},
   "source": [
    "Ouvrir le fichier d'instalation Anaconda3-2023.09-0-Windows-x86_64.exe  \n",
    "Ce fichier a été téléchargé de la maniére suivante:  \n",
    "\n",
    "\n",
    "  \n",
    "![Download](fichiers_cours/Install/Capture.png)\n",
    "![Download](fichiers_cours/Install/Capture1.png)\n",
    "![Download](fichiers_cours/Install/Capture2.png)"
   ]
  },
  {
   "cell_type": "markdown",
   "id": "2e735d88-0fa8-463e-9d83-52c4d28b46ac",
   "metadata": {},
   "source": [
    "Suivre la procédure d'installation  \n",
    "\n",
    "  "
   ]
  },
  {
   "cell_type": "markdown",
   "id": "c089452d-d754-44e1-977e-35ebb1228847",
   "metadata": {},
   "source": [
    "![Download](fichiers_cours/Install/Capture3.png)"
   ]
  },
  {
   "cell_type": "markdown",
   "id": "cafbc061-7d01-4197-acda-abec28af8461",
   "metadata": {},
   "source": [
    "![Download](fichiers_cours/Install/Capture4.png)"
   ]
  },
  {
   "cell_type": "markdown",
   "id": "e809aa19-f6e6-41d8-ae26-354afce97bb9",
   "metadata": {},
   "source": [
    "![Download](fichiers_cours/Install/Capture5.png)"
   ]
  },
  {
   "cell_type": "markdown",
   "id": "a4cc332b-0ec4-432c-9c93-859e69b5959f",
   "metadata": {},
   "source": [
    "## 0-2-1 Création d'un environnement"
   ]
  },
  {
   "cell_type": "markdown",
   "id": "1d6b99a5-252c-4fe5-abe7-80dfbd135c32",
   "metadata": {},
   "source": [
    "Dans le menu démarer, on a maintenant un racourci vers Anaconda et un autre vers Anaconda prompt. Lancer Anaconda prompt.  \n"
   ]
  },
  {
   "cell_type": "markdown",
   "id": "90139e53-06a8-4d14-aaba-ef6bfa947b19",
   "metadata": {},
   "source": [
    "![Prompt](fichiers_cours/Install/prompt.png)"
   ]
  },
  {
   "cell_type": "markdown",
   "id": "489f6e86-a1f8-4e21-9837-9d268e296627",
   "metadata": {},
   "source": [
    "Le nom entre parenthèse nous indique l'environnement dans lequel on se trouve. Ici base est l'environnement par défaut. Nous allons maintenant crééer notre propre environnement pour que chacun de nous travaille avec des configurations identiques.  \n",
    "Nous choisirons : \n",
    "-  son nom (UEE2IMACS)\n",
    "- La version de python (python=3.11)\n",
    "- Et la version d'anaconda (conda=23.11)   \n",
    " "
   ]
  },
  {
   "cell_type": "markdown",
   "id": "bacd8a82-fc62-451a-aeb3-73ab71e9956a",
   "metadata": {},
   "source": [
    "![Prompt](fichiers_cours/Install/prompt2.png)"
   ]
  },
  {
   "cell_type": "markdown",
   "id": "cb9a1cdb-8be6-4c95-a2ef-d0ba3d0f0f73",
   "metadata": {},
   "source": [
    "Une fois que l'environnement est créé on doit l'activer. Après validation, le nom UEE2IMACS doit apparaitre en début de ligne entre parenthèses."
   ]
  },
  {
   "cell_type": "markdown",
   "id": "09ccc1e4-0020-4062-a89b-4b9f3aff5951",
   "metadata": {},
   "source": [
    "![Prompt](fichiers_cours/Install/prompt3.png)"
   ]
  },
  {
   "cell_type": "markdown",
   "id": "cc0532a7-7c07-4d19-aa9a-19824054e993",
   "metadata": {},
   "source": [
    "Il nous reste maintenant à installer l'ensemble des packages en précisant leur version. Nous utiliserons pip, mais les installations de package peuvent aussi se faire avec conda. Cependant il n'est pas recommandé d'utiliser les 2 methodes dans le même environnement.  \n",
    "<pre>pip install jupyterlab==4.0.10 numpy==1.26.3 matplotlib==3.8.2 pandas==2.1.4 pyqtgraph==0.13.3 plotly==5.18.0 scipy==1.11.4 spyder==5.5.0 opencv-python==4.9.0.80 scikit-learn==1.3.2 tensorflow==2.15.0 seaborn==0.13.1 scikit-image==0.22.0</pre>"
   ]
  },
  {
   "cell_type": "markdown",
   "id": "021a3627-2a89-45cd-a5b1-3d7c9ee1ad5c",
   "metadata": {},
   "source": [
    "![Prompt](fichiers_cours/Install/prompt4.png)"
   ]
  },
  {
   "cell_type": "markdown",
   "id": "c0e0276b-a902-498d-a524-464885fe8080",
   "metadata": {},
   "source": [
    "Une fois les packages installés, on peut lancer jupyter lab par exemple."
   ]
  },
  {
   "cell_type": "markdown",
   "id": "e5c55d5e-fb49-47e8-9159-031324bdd5c6",
   "metadata": {},
   "source": [
    "![Prompt](fichiers_cours/Install/prompt5.png)"
   ]
  },
  {
   "cell_type": "markdown",
   "id": "45b066cd-de14-4c0b-b0c7-9e2227071bc3",
   "metadata": {},
   "source": [
    "Remarque: Il est également possible de [créer des environnements dans colab](https://colab.research.google.com/github/smsrikanthreddy/blog/blob/master/_notebooks/2021-06-01-How%20to%20create%20environment%20in%20Python.ipynb)"
   ]
  }
 ],
 "metadata": {
  "kernelspec": {
   "display_name": "Python 3 (ipykernel)",
   "language": "python",
   "name": "python3"
  },
  "language_info": {
   "codemirror_mode": {
    "name": "ipython",
    "version": 3
   },
   "file_extension": ".py",
   "mimetype": "text/x-python",
   "name": "python",
   "nbconvert_exporter": "python",
   "pygments_lexer": "ipython3",
   "version": "3.11.7"
  }
 },
 "nbformat": 4,
 "nbformat_minor": 5
}
