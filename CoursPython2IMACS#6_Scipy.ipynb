{
 "cells": [
  {
   "cell_type": "markdown",
   "id": "d0e93bb5-6725-45ea-8ac4-1ab60407e327",
   "metadata": {},
   "source": [
    "***\n",
    "# **<center>COURS PYTHON 2IMACS #6</center>**\n",
    "# ***<center>Math</center>***\n",
    "# ***<center>Scipy</center>***\n",
    "***"
   ]
  },
  {
   "cell_type": "markdown",
   "id": "66a6d0c4-1472-4462-a1c9-fee0909a555c",
   "metadata": {},
   "source": [
    "Les bibliothèques Math et SciPy offrent des fonctionnalités mathématiques avancées et des outils pour l'analyse scientifique. Nous allons voir les spécificités de ces deux bibliothèques."
   ]
  },
  {
   "cell_type": "markdown",
   "id": "e4da1e3d-30a8-4da4-a75e-71853c0a0072",
   "metadata": {},
   "source": [
    "# 6-1 Bibliotheque Math"
   ]
  },
  {
   "cell_type": "markdown",
   "id": "790560f7-9884-4fcf-a8e2-cdc734cac182",
   "metadata": {},
   "source": [
    "La bibliothèque math fournit des fonctions mathématiques de base telles que les fonctions trigonométriques, logarithmiques et exponentielles. Elle permet également de manipuler des constantes mathématiques et d'effectuer des opérations arithmétiques avancées sur les nombres."
   ]
  },
  {
   "cell_type": "markdown",
   "id": "d312054d-5e39-4f8d-a904-b047cdfce904",
   "metadata": {},
   "source": [
    "## 6-1-1 Angles et trigonométrie"
   ]
  },
  {
   "cell_type": "code",
   "execution_count": null,
   "id": "83ca5fe9-ec4f-4ebf-9498-cf04a31c05b0",
   "metadata": {
    "tags": []
   },
   "outputs": [],
   "source": [
    "import math\n",
    "\n",
    "angle = math.pi/4  # Angle en radians\n",
    "\n",
    "# Calcul des valeurs des fonctions trigonométriques\n",
    "sin_value = math.sin(angle)\n",
    "cos_value = math.cos(angle)\n",
    "tan_value = math.tan(angle)\n",
    "\n",
    "print(\"Sinus de\", angle, \":\", sin_value)\n",
    "print(\"Cosinus de\", angle, \":\", cos_value)\n",
    "print(\"Tangente de\", angle, \":\", tan_value)\n"
   ]
  },
  {
   "cell_type": "markdown",
   "id": "b25206f9-275c-4bdd-944f-9403def37f83",
   "metadata": {},
   "source": [
    "## 6-1-2 Logarithme et exponentielles"
   ]
  },
  {
   "cell_type": "code",
   "execution_count": null,
   "id": "128471af-ff40-405e-bb12-31d3852adf71",
   "metadata": {
    "tags": []
   },
   "outputs": [],
   "source": [
    "x = 2.5\n",
    "\n",
    "# Calcul du logarithme\n",
    "log_value = math.log(x)\n",
    "\n",
    "# Calcul du logarithme en base 10\n",
    "log10_value = math.log10(x)\n",
    "\n",
    "# Calcul de l'exponentielle\n",
    "exp_value = math.exp(x)\n",
    "\n",
    "print(\"Logarithme naturel de\", x, \":\", log_value)\n",
    "print(\"Logarithme base 10 de\", x, \":\", log10_value)\n",
    "print(\"Exponentielle de\", x, \":\", exp_value)\n"
   ]
  },
  {
   "cell_type": "markdown",
   "id": "e3dd35d0-08d0-435a-b807-837bbcc57de0",
   "metadata": {},
   "source": [
    "## 6-1-3 Opérations Arithmetiques "
   ]
  },
  {
   "cell_type": "markdown",
   "id": "6226ec24-575b-4010-8052-64e999b74195",
   "metadata": {},
   "source": [
    "### 6-1-3-1 Division entière"
   ]
  },
  {
   "cell_type": "code",
   "execution_count": null,
   "id": "8baa89cb-4697-444d-a1dc-30d49def1f3f",
   "metadata": {
    "tags": []
   },
   "outputs": [],
   "source": [
    "a = 17.5\n",
    "b = 5.2\n",
    "modulo = math.fmod(a, b)\n",
    "print(\"Le reste de la division de\", a, \"par\", b, \"est\", modulo)\n"
   ]
  },
  {
   "cell_type": "markdown",
   "id": "bdd48562-25a5-4873-9717-87358d4349ce",
   "metadata": {},
   "source": [
    "### 6-1-3-2 Puissance et racines"
   ]
  },
  {
   "cell_type": "code",
   "execution_count": null,
   "id": "ec68692f-89c4-4e73-b8c6-c1b92adf9d4f",
   "metadata": {
    "tags": []
   },
   "outputs": [],
   "source": [
    "nombre = 27\n",
    "racine_cubique = math.pow(nombre, 1/3)\n",
    "print(\"La racine cubique de\", nombre, \"est\", racine_cubique)"
   ]
  },
  {
   "cell_type": "markdown",
   "id": "3ea62d74-b793-42f0-813b-b752e6846b10",
   "metadata": {},
   "source": [
    "### 6-1-3-5 Arrondis et Troncatures"
   ]
  },
  {
   "cell_type": "code",
   "execution_count": null,
   "id": "c6bcd2c9-74ee-4d0f-97bf-fdd9447535fa",
   "metadata": {
    "tags": []
   },
   "outputs": [],
   "source": [
    "x = 3.755645\n",
    "\n",
    "truncated_down = math.floor(x)\n",
    "truncated_up = math.ceil(x)\n",
    "rounded = round(x)\n",
    "rounded_3 = round(x,3)\n",
    "\n",
    "print(\"Nombre d'origine :\", x)\n",
    "print(\"Troncature vers le bas :\", truncated_down)\n",
    "print(\"Troncature vers le haut :\", truncated_up)\n",
    "print(\"Arrondi  :\", rounded)\n",
    "print(\"Arrondi à 3 chiffres :\", rounded_3)"
   ]
  },
  {
   "cell_type": "markdown",
   "id": "515fc6b4-8db5-4004-8cf0-ed0f38705fc1",
   "metadata": {},
   "source": [
    "### 6-1-3-6 Constantes mathématiques"
   ]
  },
  {
   "cell_type": "markdown",
   "id": "f771985b-a9b0-4344-bfeb-24f99649cd37",
   "metadata": {
    "tags": []
   },
   "source": [
    "| Constante       | Description                                  |\n",
    "|-----------------|----------------------------------------------|\n",
    "| math.pi         | La constante mathématique π             |\n",
    "| math.e          | La constante mathématique e (base du logarithme naturel) |\n",
    "| math.tau        | La constante mathématique τ (tau)             |\n",
    "| math.inf        | Infini positif                             |\n",
    "| math.nan        | Représentation de NaN (Not a Number)          |\n",
    "| math.sqrt(2)    | La racine carrée de 2                        |\n",
    "| math.sqrt(3)    | La racine carrée de 3                        |\n",
    "| math.log2(10)   | Le logarithme en base 2 de 10                |\n",
    "| math.log10(2)   | Le logarithme en base 10 de 2                |\n",
    "| math.log(2)     | Le logarithme naturel de 2                   |\n",
    "| math.exp(1)     | Exponentielle de 1 (e^1)                   |\n",
    "| math.sin(0)     | Le sinus de 0                                |\n",
    "| math.cos(0)     | Le cosinus de 0                              |\n",
    "| math.tan(0)     | La tangente de 0                             |\n",
    "| math.radians(180) | Conversion de 180 degrés en radians         |\n",
    "| math.degrees(math.pi) | Conversion de π (pi) en degrés             |\n"
   ]
  },
  {
   "cell_type": "markdown",
   "id": "1a4a1652-4917-4965-8e75-eec8a4d44801",
   "metadata": {},
   "source": [
    "[Exercice 1](exercices/Exercices6.ipynb)"
   ]
  },
  {
   "cell_type": "markdown",
   "id": "21f1a955-b21d-4c0a-87e5-1954b66c7b65",
   "metadata": {},
   "source": [
    "# 6-2 Biliothèque scipy"
   ]
  },
  {
   "cell_type": "markdown",
   "id": "03ab804d-d6ea-42cf-8c34-866520819301",
   "metadata": {},
   "source": [
    "## 6-2-1 Calcul d'integrales"
   ]
  },
  {
   "cell_type": "markdown",
   "id": "4e972154-0a84-48a9-a9e6-771378df438a",
   "metadata": {},
   "source": [
    "Scipy propose plusieurs méthodes d'intégration numérique dans sa sous-bibliothèque scipy.integrate.\n",
    "- La méthode de Simpson  approxime l'intégrale en utilisant des polynômes quadratiques. Elle divise l'intervalle d'intégration en sous-intervalles, et pour chaque sous-intervalle, elle approxime la fonction par un polynôme quadratique pour calculer l'intégrale.\n",
    "\n",
    "- La méthode du trapèze  approxime l'intégrale en utilisant des segments de droite. Elle divise également l'intervalle d'intégration en sous-intervalles, et pour chaque sous-intervalle, elle approxime la fonction par une droite entre les deux points extrêmes pour calculer l'intégrale.\n",
    "\n",
    "- La méthode de Romberg est une méthode itérative qui améliore la précision de l'approximation de l'intégrale à chaque itération. Elle utilise une approche de subdivision de l'intervalle d'intégration en puissance de 2, en calculant une estimation initiale avec la méthode du trapèze, puis utilise cette estimation pour ameliorer l'approximation à chaque itération."
   ]
  },
  {
   "cell_type": "markdown",
   "id": "a3397451-3d9b-46d1-a6ea-6f9ce8f8968d",
   "metadata": {
    "tags": []
   },
   "source": [
    "| Simpson | Trapèze |\n",
    "|:-------:|:-------:|\n",
    "| ![Simpson](fichiers_cours//scipy//Simpson.png) | ![Trapeze](fichiers_cours//scipy//trapeze.png) |\n"
   ]
  },
  {
   "cell_type": "markdown",
   "id": "66489dce-9132-44dd-8f29-021dba911f4f",
   "metadata": {},
   "source": [
    "Romberg:  \n",
    "\n",
    "| 2 parties | 4 parties | 8 parties  |\n",
    "|:-------:|:-------:|:-------:|\n",
    "| ![romberg1](fichiers_cours//scipy//romberg1.png) | ![romberg2](fichiers_cours//scipy//romberg2.png) |  ![romberg3](fichiers_cours//scipy//romberg3.png) |"
   ]
  },
  {
   "cell_type": "markdown",
   "id": "aacb9392-e7f9-4a25-b77d-3c5a010cc00e",
   "metadata": {},
   "source": [
    "Ces 3 méthodes sont implementées dans Scipy."
   ]
  },
  {
   "cell_type": "code",
   "execution_count": null,
   "id": "9bd25b2a-d495-4bbf-ba18-fccd30d53ba5",
   "metadata": {},
   "outputs": [],
   "source": [
    "from scipy.integrate import simpson, trapezoid, romb\n",
    "import numpy as np\n",
    "\n",
    "# Points d'échantillonnage\n",
    "x = np.linspace(0, np.pi, 129)\n",
    "y = np.sin(x)\n",
    "\n",
    "# Calcul de l'intégrale en utilisant différentes méthodes\n",
    "integral_simps = simpson(y=y, x=x)\n",
    "integral_trapz = trapezoid(y, x)\n",
    "# Attention, dx doit représenter l'intervalle entre les points\n",
    "integral_romb = romb(y, dx=np.pi/128)  \n",
    "\n",
    "print(\"Intégrale (Simpson) : \", integral_simps)\n",
    "print(\"Intégrale (Trapèze) : \", integral_trapz)\n",
    "print(\"Intégrale (Romberg) : \", integral_romb)"
   ]
  },
  {
   "cell_type": "code",
   "execution_count": null,
   "id": "4d809c2f-4b05-42a6-8a1a-d5cdc1799f39",
   "metadata": {
    "tags": []
   },
   "outputs": [],
   "source": [
    "import matplotlib.pyplot as plt\n",
    "# Bornes d'intégration\n",
    "a = 0\n",
    "b = np.pi\n",
    "\n",
    "# Gamme en x\n",
    "x_range = np.linspace(-np.pi, 2*np.pi, 100)\n",
    "y_range = np.sin(x_range)\n",
    "\n",
    "# Points d'échantillonnage pour l'intégrale\n",
    "x_integral = np.linspace(a, b, 100)\n",
    "y_integral = np.sin(x_integral)\n",
    "\n",
    "# Calcul de l'intégrale\n",
    "integral = np.trapz(y_integral, x_integral)\n",
    "\n",
    "# Tracé de la courbe et du remplissage sous la courbe\n",
    "fig, ax = plt.subplots()\n",
    "ax.plot(x_range, y_range, 'b', linewidth=2)\n",
    "ax.fill_between(x_integral, y_integral, 0, where=(x_integral >= a) & (x_integral <= b),\n",
    "                facecolor='blue', alpha=0.3)\n",
    "\n",
    "# Configurations des axes et du titre\n",
    "ax.set_ylim([-1.1, 1.1])\n",
    "ax.set_xlabel('x')\n",
    "ax.set_ylabel('f(x)')\n",
    "ax.set_title('sin(x)')\n",
    "\n",
    "# Affichage de l'intégrale\n",
    "ax.text((a + b) / 2, 0.2, f'Intégrale = {integral:.2f}', ha='center', va='center')\n",
    "\n",
    "\n",
    "# Affichage du graphique\n",
    "plt.show()\n",
    "\n"
   ]
  },
  {
   "cell_type": "markdown",
   "id": "1f68ab56-2229-4049-8995-f24dc1609363",
   "metadata": {},
   "source": [
    "[Exercice 2](exercices/Exercices6.ipynb)"
   ]
  },
  {
   "cell_type": "markdown",
   "id": "77542213-da80-4fcd-943b-85aef90900ba",
   "metadata": {},
   "source": [
    "## 6-2-2 Fit de courbes experimentales"
   ]
  },
  {
   "cell_type": "markdown",
   "id": "c5b96ba1-7365-4b5d-a1e6-a48df84a4ddf",
   "metadata": {},
   "source": [
    "**scipy.optimize.curve_fit** est une fonction qui permet d'ajuster une courbe à des données expérimentales en trouvant les meilleurs paramètres du modèle."
   ]
  },
  {
   "cell_type": "code",
   "execution_count": null,
   "id": "b21dc5ff-55c6-4c4b-8ffe-ca9da098988c",
   "metadata": {
    "tags": []
   },
   "outputs": [],
   "source": [
    "from scipy.optimize import curve_fit"
   ]
  },
  {
   "cell_type": "markdown",
   "id": "d7a90bf6-5e11-45d7-998a-de69546dfde3",
   "metadata": {},
   "source": [
    "Traçons un jeu de données experimentales"
   ]
  },
  {
   "cell_type": "code",
   "execution_count": null,
   "id": "5ccf030c-5071-4db9-99af-12b9a18b50b8",
   "metadata": {},
   "outputs": [],
   "source": [
    "# Chargeons les données: \n",
    "data = np.load('fichiers_cours/scipy/data1.npy')\n",
    "print('data : ',data.shape)\n",
    "\n",
    "x_data = data[:,0] #Toutes les lignes de la premiere colonne du tableau\n",
    "y_data = data[:,1] #Toutes les lignes de la deuxieme colonne du tableau\n",
    "print('x_data : ',x_data.shape)\n",
    "print('y_data : ',y_data.shape)"
   ]
  },
  {
   "cell_type": "code",
   "execution_count": null,
   "id": "22ae886e-6da9-493c-9c46-affc580ab5e9",
   "metadata": {
    "tags": []
   },
   "outputs": [],
   "source": [
    "fig, ax = plt.subplots()\n",
    "ax.scatter(x_data, y_data, label='Données expérimentales',color = 'orange')\n",
    "ax.legend()\n",
    "ax.set_xlabel('x')\n",
    "ax.set_ylabel('y')"
   ]
  },
  {
   "cell_type": "markdown",
   "id": "6277bd73-4efe-402d-82c3-406a31ef961e",
   "metadata": {},
   "source": [
    "On veut modeliser ces point experimentaux. C'est peut être une loi lineaire (ou pas...)"
   ]
  },
  {
   "cell_type": "code",
   "execution_count": null,
   "id": "49cf1e69-85b0-4487-b6a0-b37d55db8900",
   "metadata": {
    "tags": []
   },
   "outputs": [],
   "source": [
    "# Modèle : Régression linéaire\n",
    "def linear_model(x, a, b):\n",
    "    return a * x + b"
   ]
  },
  {
   "cell_type": "code",
   "execution_count": null,
   "id": "e739c9b4-65a1-4d57-a300-d81f728203c1",
   "metadata": {},
   "outputs": [],
   "source": [
    "# Ajustement de la régression linéaire\n",
    "popt, cov = curve_fit(linear_model, x_data, y_data)\n",
    "print(popt)\n",
    "print('--------------')\n",
    "print(cov)"
   ]
  },
  {
   "cell_type": "markdown",
   "id": "a13fa4ef-95f6-466a-8a6a-4ce8492c232d",
   "metadata": {},
   "source": [
    "le fit renvoie: \n",
    "- cov : Matrice de covariance des paramètres estimés. Cette matrice fournit des informations sur l'incertitude associée à chaque paramètre.\n",
    "- popt : Paramètres optimisés obtenus à partir de l'ajustement de la courbe aux données. Ce nom est souvent utilisé pour désigner les paramètres optimaux."
   ]
  },
  {
   "cell_type": "markdown",
   "id": "991e3364-ebcc-4a7b-99c6-7c4dd4ef0c70",
   "metadata": {},
   "source": [
    "De popt, on sort la pente a et l'ordonnée à l'origine b:"
   ]
  },
  {
   "cell_type": "code",
   "execution_count": null,
   "id": "4079a841-610c-49ac-86b6-4c3d2da021bd",
   "metadata": {
    "tags": []
   },
   "outputs": [],
   "source": [
    "# parametre pente et ordonnée à l'origine optimisés\n",
    "a_opt_lin, b_opt_lin = popt\n",
    "y_fit_lin = linear_model(x_data, a_opt_lin, b_opt_lin)\n",
    "print(\"Pente optimisée (a) :\",a_opt_lin)\n",
    "print(\"Ordonnée à l'origine optimisée (b) :\",  b_opt_lin)"
   ]
  },
  {
   "cell_type": "code",
   "execution_count": null,
   "id": "8b73ba96-4fa0-4c2d-bf7d-7b357162a813",
   "metadata": {
    "tags": []
   },
   "outputs": [],
   "source": [
    "def tracer_courbes(x, y , fit):\n",
    "    fig, ax = plt.subplots( )\n",
    "    ax.plot(x, fit, label='Courbe ajustée')\n",
    "    ax.scatter(x, y, label='Données expérimentales',color = 'orange',marker = '.')\n",
    "    \n",
    "    ax.legend()\n",
    "    ax.set_xlabel('x')\n",
    "    ax.set_ylabel('y')"
   ]
  },
  {
   "cell_type": "code",
   "execution_count": null,
   "id": "51eaf6f7-4edb-45a0-8e1d-ab083205e6b5",
   "metadata": {
    "tags": []
   },
   "outputs": [],
   "source": [
    "tracer_courbes(x_data, y_data , y_fit_lin)"
   ]
  },
  {
   "cell_type": "markdown",
   "id": "8634be6f-aa87-477a-97c4-1339efd5c67a",
   "metadata": {},
   "source": [
    "On aurait aussi pu utiliser linregress. C'est une regression linéaire qui est implementée dans scipy."
   ]
  },
  {
   "cell_type": "code",
   "execution_count": null,
   "id": "89c03091-89b0-47b9-b47a-8c0446f08f7d",
   "metadata": {},
   "outputs": [],
   "source": [
    "from scipy.stats import linregress\n",
    "\n",
    "# Effectuer la régression linéaire\n",
    "slope, intercept, r_value, p_value, std_err = linregress(x_data, y_data)\n",
    "\n",
    "print(\"Pente optimisée (a) :\", slope)\n",
    "print(\"Ordonnée à l'origine optimisée (b) :\", intercept)"
   ]
  },
  {
   "cell_type": "markdown",
   "id": "3156fe48-dbfb-4a2c-b9b6-7b6b8078b3b2",
   "metadata": {},
   "source": [
    "Bien entendu, le modèle linéaire n'est pas correct dans ce cas. Tentons un polynôme du second degré qui parait plus réaliste."
   ]
  },
  {
   "cell_type": "code",
   "execution_count": null,
   "id": "17d39d43-992d-4800-a49c-1e8be1ed1040",
   "metadata": {
    "tags": []
   },
   "outputs": [],
   "source": [
    "#  Fonction polynomiale de degré 2\n",
    "def degre2_model(x, a, b, c):\n",
    "    return a * x**2 + b * x + c"
   ]
  },
  {
   "cell_type": "code",
   "execution_count": null,
   "id": "4d93ec72-67c0-4964-a777-cbf39ebc009e",
   "metadata": {
    "tags": []
   },
   "outputs": [],
   "source": [
    "popt, cov = curve_fit(degre2_model, x_data, y_data)\n",
    "a_opt_poly, b_opt_poly , c_opt_poly = popt\n",
    "y_fit_poly = degre2_model(x_data, a_opt_poly, b_opt_poly, c_opt_poly)"
   ]
  },
  {
   "cell_type": "markdown",
   "id": "6e37d931-0333-4e9e-aadd-4ab956ea57c6",
   "metadata": {},
   "source": [
    "On récupère ici les coefficients du polynome a b et c"
   ]
  },
  {
   "cell_type": "code",
   "execution_count": null,
   "id": "14a90909-dfb8-4da4-a109-d76a6c0bfb12",
   "metadata": {
    "tags": []
   },
   "outputs": [],
   "source": [
    "tracer_courbes(x_data, y_data , y_fit_poly)"
   ]
  },
  {
   "cell_type": "markdown",
   "id": "39b2c941-cd47-40d7-a90e-3387064a3e0b",
   "metadata": {},
   "source": [
    "On aurait aussi pu utiliser une exponentielle"
   ]
  },
  {
   "cell_type": "code",
   "execution_count": null,
   "id": "5ffb1c6a-6a06-48ed-bece-81832c0506e0",
   "metadata": {
    "tags": []
   },
   "outputs": [],
   "source": [
    "# Modèle : Fonction exponentielle\n",
    "def exp_model(x, a, b, c):\n",
    "    return a * np.exp(-b * x) + c"
   ]
  },
  {
   "cell_type": "code",
   "execution_count": null,
   "id": "4f47c2b9-9434-473e-95a7-6d709d698489",
   "metadata": {
    "tags": []
   },
   "outputs": [],
   "source": [
    "popt, cov = curve_fit(exp_model, x_data, y_data)\n",
    "a_opt_exp, b_opt_exp , c_opt_exp = popt\n",
    "y_fit_exp = exp_model(x_data, a_opt_exp, b_opt_exp, c_opt_exp)"
   ]
  },
  {
   "cell_type": "code",
   "execution_count": null,
   "id": "205ac8f8-b143-4c1a-99ce-8bdbc14be5cc",
   "metadata": {
    "tags": []
   },
   "outputs": [],
   "source": [
    "tracer_courbes(x_data, y_data , y_fit_exp)"
   ]
  },
  {
   "cell_type": "markdown",
   "id": "69c3c77e-db5d-4bdf-8ec7-a08c8da442ed",
   "metadata": {},
   "source": [
    "Le polynome du second degré et l'exponentielle semblent corrects, mais pour choisir la meilleure, il faut estimer les erreurs pour avoir un retour sur la qualité du fit."
   ]
  },
  {
   "cell_type": "markdown",
   "id": "81bb8872-377a-4c42-ad58-17ec90b6ba62",
   "metadata": {},
   "source": [
    "Plusieurs options:\n",
    "\n",
    "- Erreur quadratique moyenne (RMSE - Root Mean Square Error) : Calcule la racine carrée de la moyenne des carrés des écarts entre les valeurs prédites par le fit et les valeurs expérimentales. Une valeur plus faible indique un ajustement de meilleure qualité.\n",
    "$$\\text{RMSE} = \\sqrt{\\frac{1}{n}\\sum_{i=1}^{n}(y_{\\text{data}}[i] - y_{\\text{fit}}[i])^2}$$\n",
    "\n",
    "- Erreur absolue moyenne (MAE - Mean Absolute Error) : Calcule la moyenne des valeurs absolues des écarts entre les valeurs prédites et les valeurs expérimentales. Cette mesure est moins sensible aux valeurs aberrantes que l'erreur quadratique moyenne.\n",
    "$$\\text{MAE} = \\frac{1}{n}\\sum_{i=1}^{n}\\left|y_{\\text{data}}[i] - y_{\\text{fit}}[i]\\right|$$\n",
    "\n",
    "- Coefficient de détermination (R-squared) : Évalue la proportion de variance expliquée par le modèle. Il indique à quel point le modèle ajusté représente bien les variations des données. Une valeur proche de 1 indique un ajustement de meilleure qualité.\n",
    "$$ R^2 = 1 - \\frac{\\sum_{i=1}^{n} (y_{\\text{data}}[i] - y_{\\text{fit}}[i])^2}{\\sum_{i=1}^{n} (y_{\\text{data}}[i] - \\bar{y}_{\\text{data}})^2} $$\n",
    "\n",
    "où $\\bar{y}_{\\text{data}}$ représente la moyenne des valeurs de $y_{\\text{data}}$.\n",
    "\n",
    "- Erreurs de résidus : Les résidus sont les écarts entre les valeurs expérimentales et les valeurs prédites par le fit. \n",
    "Les erreurs de résidus (ou résidus) mesurent les différences entre les valeurs réelles des données expérimentales et les valeurs prédites par le modèle ajusté. \n",
    "\n",
    "$$ \\text{Erreurs de résidus} = y_{\\text{data}} - y_{\\text{fit}} $$\n"
   ]
  },
  {
   "cell_type": "markdown",
   "id": "ba8d29af-99fb-40d7-832f-0e9e0bc3da94",
   "metadata": {},
   "source": [
    "Calculons les RMSE pour chaque modele"
   ]
  },
  {
   "cell_type": "code",
   "execution_count": null,
   "id": "8fbcdc52-4f89-4748-9ea7-14e13f750db9",
   "metadata": {
    "tags": []
   },
   "outputs": [],
   "source": [
    "# Calcul de l'erreur RMSE pour l'ajustementlineaire\n",
    "rmse_linear = np.sqrt(np.mean((y_data - \n",
    "            linear_model(x_data, a_opt_lin, b_opt_lin))**2)) / y_data.shape[0]\n",
    "\n",
    "# Calcul de l'erreur RMSE pour l'ajustement polynôme du second degré\n",
    "rmse_degre2 = np.sqrt(np.mean((y_data - \n",
    "            degre2_model(x_data, a_opt_poly, b_opt_poly, c_opt_poly))**2)) / y_data.shape[0]\n",
    "\n",
    "# Calcul de l'erreur RMSE pour l'ajustement exponentiel\n",
    "rmse_exp = np.sqrt(np.mean((y_data - \n",
    "           exp_model(x_data, a_opt_exp, b_opt_exp, c_opt_exp))**2)) / y_data.shape[0]\n",
    "\n",
    "print(f'RMSE model lineaire          = {rmse_linear:.4f}')\n",
    "print(f'RMSE model polynome degré 2  = {rmse_degre2:.4f}')\n",
    "print(f'RMSE model exponentielle     = {rmse_exp :.4f}')\n",
    "\n"
   ]
  },
  {
   "cell_type": "markdown",
   "id": "ae24df30-f6f0-488b-affe-4d8affccc615",
   "metadata": {},
   "source": [
    "Calculons les MAE pour chaque modele"
   ]
  },
  {
   "cell_type": "code",
   "execution_count": null,
   "id": "7151c8ae-11d3-4457-8345-e74e410bb2d5",
   "metadata": {},
   "outputs": [],
   "source": [
    "# Calcul de l'erreur MAE pour l'ajustement linéaire\n",
    "mae_linear = np.mean(np.abs(y_data - \n",
    "            linear_model(x_data, a_opt_lin, b_opt_lin)))\n",
    "# Calcul de l'erreur MAE pour l'ajustement polynôme du second degré\n",
    "mae_degre2 = np.mean(np.abs(y_data - \n",
    "            degre2_model(x_data, a_opt_poly, b_opt_poly, c_opt_poly)))\n",
    "# Calcul de l'erreur MAE pour l'ajustement exponentiel\n",
    "mae_exp = np.mean(np.abs(y_data - \n",
    "        exp_model(x_data, a_opt_exp, b_opt_exp, c_opt_exp)))\n",
    "\n",
    "print(f'MAE model lineaire          = {mae_linear :.4f}')\n",
    "print(f'MAE model polynome degré 2  = {mae_degre2:.4f}')\n",
    "print(f'MAE model exponentielle     = {mae_exp :.4f}')"
   ]
  },
  {
   "cell_type": "markdown",
   "id": "181cd906-e88c-4da4-a057-f05f5ccb4a8d",
   "metadata": {},
   "source": [
    "Calculons les coefficient de détermination R²"
   ]
  },
  {
   "cell_type": "code",
   "execution_count": null,
   "id": "1f72e19a-9fa7-40b2-9469-08fd01434661",
   "metadata": {
    "tags": []
   },
   "outputs": [],
   "source": [
    "# Calcul du coefficient de détermination R² pour l'ajustement linéaire\n",
    "ssr_linear = np.sum((y_data - \n",
    "                     linear_model(x_data, a_opt_lin, b_opt_lin))**2) #sum of square regression\n",
    "sst_linear = np.sum((y_data - \n",
    "                     np.mean(y_data))**2) #sum of square total\n",
    "r2_linear = 1 - (ssr_linear / sst_linear)\n",
    "\n",
    "# Calcul du coefficient de détermination R² pour l'ajustement polynôme du second degré\n",
    "ssr_degre2 = np.sum((y_data - \n",
    "                    degre2_model(x_data, a_opt_poly, b_opt_poly, c_opt_poly))**2)\n",
    "sst_degre2 = np.sum((y_data - np.mean(y_data))**2)\n",
    "r2_degre2 = 1 - (ssr_degre2 / sst_degre2)\n",
    "\n",
    "# Calcul du coefficient de détermination R² pour l'ajustement exponentiel\n",
    "ssr_exp = np.sum((y_data - exp_model(x_data, a_opt_exp, b_opt_exp, c_opt_exp))**2)\n",
    "sst_exp = np.sum((y_data - np.mean(y_data))**2)\n",
    "r2_exp = 1 - (ssr_exp / sst_exp)\n",
    "\n",
    "print(f\"R² pour l'ajustement linéaire                  =  {r2_linear:.4f}\")\n",
    "print(f\"R² pour l'ajustement polynôme du second degré  =  {r2_degre2:.4f}\")\n",
    "print(f\"R² pour l'ajustement exponentiel               =  {r2_exp:.4f}\")\n",
    "\n"
   ]
  },
  {
   "cell_type": "markdown",
   "id": "6a0a8ca3-df5d-4a80-9f43-65097ea7152f",
   "metadata": {},
   "source": [
    "Les 3 methodes montrent que le model linéaire est bien moins performant que les deux autres. On voit aussi que le model exponentiel est meilleur que le model polynôme."
   ]
  },
  {
   "cell_type": "markdown",
   "id": "55179002-9a61-4367-bf1a-7079f26a4905",
   "metadata": {
    "tags": []
   },
   "source": [
    "Calculons les résidus, ce sont simplement les écarts entre chaque valeurs observée et sa valeurs prédite par le modèle."
   ]
  },
  {
   "cell_type": "code",
   "execution_count": null,
   "id": "bfe338ea-fd37-414c-8174-4b1f05fa1c85",
   "metadata": {
    "tags": []
   },
   "outputs": [],
   "source": [
    "# Calcul des résidus pour l'ajustement linéaire\n",
    "residuals_linear = y_data - linear_model(x_data, a_opt_lin, b_opt_lin)\n",
    "\n",
    "# Calcul des résidus pour l'ajustement polynôme du second degré\n",
    "residuals_degre2 = y_data - degre2_model(x_data, a_opt_poly, b_opt_poly, c_opt_poly)\n",
    "\n",
    "# Calcul des résidus pour l'ajustement exponentiel\n",
    "residuals_exp = y_data - exp_model(x_data,  a_opt_exp, b_opt_exp, c_opt_exp)"
   ]
  },
  {
   "cell_type": "markdown",
   "id": "ea687dba-c17a-451a-9def-59dc448a387a",
   "metadata": {},
   "source": [
    "Reprenons la fonction tracer_courbes pour lui ajouter le tracer des residus en dessous de la courbe principal"
   ]
  },
  {
   "cell_type": "code",
   "execution_count": null,
   "id": "e6c92b39-fa1e-4a6a-9539-38391b51c6af",
   "metadata": {
    "tags": []
   },
   "outputs": [],
   "source": [
    "def tracer_courbes_residus(x, y, fit):\n",
    "    fig, (ax1, ax2) = plt.subplots(2, 1, figsize=(8, 10), sharex=True)\n",
    "    \n",
    "    # Tracer la courbe ajustée\n",
    "    ax1.plot(x, fit, label='Courbe ajustée')\n",
    "    ax1.scatter(x, y, label='Données expérimentales', color='orange', marker='.')\n",
    "    ax1.legend()\n",
    "    ax1.set_ylabel('y')\n",
    "    \n",
    "    # Calcul des résidus\n",
    "    residuals = y - fit\n",
    "    \n",
    "    # Tracer la courbe des résidus\n",
    "    ax2.plot(x, residuals, label='Résidus')\n",
    "    ax2.axhline(y=0, color='red', linestyle='--')\n",
    "    ax2.legend()\n",
    "    ax2.set_xlabel('x')\n",
    "    ax2.set_ylabel('Résidus')\n",
    "    \n",
    "    plt.show()"
   ]
  },
  {
   "cell_type": "markdown",
   "id": "f06c436f-c631-4f03-9e03-918266d76722",
   "metadata": {},
   "source": [
    "Courbe de résidus modèle linéaire"
   ]
  },
  {
   "cell_type": "code",
   "execution_count": null,
   "id": "99043127-da6b-48a0-b102-341a305a7b6b",
   "metadata": {
    "tags": []
   },
   "outputs": [],
   "source": [
    "tracer_courbes_residus(x_data, y_data , y_fit_lin)"
   ]
  },
  {
   "cell_type": "markdown",
   "id": "7b2dab63-523d-484e-a79f-2cd6d20e594a",
   "metadata": {},
   "source": [
    "Courbe de résidus modèle polynôme degré 2"
   ]
  },
  {
   "cell_type": "code",
   "execution_count": null,
   "id": "709a8c86-b1d2-4590-b521-04868d878ecf",
   "metadata": {
    "tags": []
   },
   "outputs": [],
   "source": [
    "tracer_courbes_residus(x_data, y_data , y_fit_poly)"
   ]
  },
  {
   "cell_type": "markdown",
   "id": "d61aeee5-05f6-45cf-8fbb-8b419d7541a3",
   "metadata": {},
   "source": [
    "Courbe de résidus modèle exponentielle"
   ]
  },
  {
   "cell_type": "code",
   "execution_count": null,
   "id": "3db2f67f-5742-4d29-aca4-2b62622213d3",
   "metadata": {
    "tags": []
   },
   "outputs": [],
   "source": [
    "tracer_courbes_residus(x_data, y_data , y_fit_exp)"
   ]
  },
  {
   "cell_type": "markdown",
   "id": "75168e54-e34b-40d0-a1d0-bfc40b237e50",
   "metadata": {},
   "source": [
    "Ces représentations graphiques des résidus permettent une visualisation de la répartition des erreurs des differents models le long de l'axe des abscisses."
   ]
  },
  {
   "cell_type": "markdown",
   "id": "ca550911-6d85-4049-93af-e633a721fb71",
   "metadata": {},
   "source": [
    "## 6-2-3 Debruitage de courbes experimentales"
   ]
  },
  {
   "cell_type": "markdown",
   "id": "89e0dddf-7766-4cc8-abd9-db3446124881",
   "metadata": {},
   "source": [
    "Lors de l'exploitation de données experimentales, on est souvent confronté à des données contenant un bruit inhérent à la mesure qui pourra rendre l'exploitation difficile. Scipy propose differents outils de filtrage."
   ]
  },
  {
   "cell_type": "markdown",
   "id": "ab73e9a6-1b8b-40d8-801a-b64da1208df2",
   "metadata": {
    "tags": []
   },
   "source": [
    "Générons un signal bruité"
   ]
  },
  {
   "cell_type": "code",
   "execution_count": null,
   "id": "828194d9-ddd7-4fdd-b034-fbbece034ee0",
   "metadata": {
    "tags": []
   },
   "outputs": [],
   "source": [
    "# Paramètres du signal\n",
    "amplitude = 1.0\n",
    "frequence = 0.5\n",
    "phase = np.pi/4\n",
    "\n",
    "# Génération du signal sinusoïdal\n",
    "x = np.linspace(0, 4, 1000)\n",
    "y = amplitude * np.sin(2 * np.pi * frequence * x + phase)\n",
    "\n",
    "# Ajout du bruit aléatoire\n",
    "bruit = np.random.normal(0, 0.01, size=len(x))\n",
    "y_noisy = y + bruit\n"
   ]
  },
  {
   "cell_type": "code",
   "execution_count": null,
   "id": "7bb7160a-be6c-42c8-9fee-5900b945acc3",
   "metadata": {},
   "outputs": [],
   "source": [
    "fig, ax = plt.subplots()\n",
    "ax.plot(x,y_noisy, label = 'Données brutes')\n",
    "ax.legend();"
   ]
  },
  {
   "cell_type": "markdown",
   "id": "65008a57-e617-4927-b933-dbee77ac221a",
   "metadata": {},
   "source": [
    "Le filtre Savitzky-Golay est une méthode de lissage de données qui réduit le bruit et les variations en ajustant localement des polynômes pour estimer les tendances"
   ]
  },
  {
   "cell_type": "code",
   "execution_count": null,
   "id": "5b28e87a-6fa4-4b0e-8971-c5ad58f4cfb0",
   "metadata": {
    "tags": []
   },
   "outputs": [],
   "source": [
    "from scipy.signal import savgol_filter\n",
    "\n",
    "# Appliquer la moyenne mobile pour débruiter le signal\n",
    "window_length = 10\n",
    "polyorder = 2\n",
    "y_denoised_savegol = savgol_filter(y_noisy, window_length, polyorder)"
   ]
  },
  {
   "cell_type": "markdown",
   "id": "be969edd-5a40-4cce-a844-efb7da60bf98",
   "metadata": {},
   "source": [
    "Définissons une fonction pour tracer les courbes brutes et débruitées"
   ]
  },
  {
   "cell_type": "code",
   "execution_count": null,
   "id": "5cebe83c-c18b-43c7-a5ef-c93569678279",
   "metadata": {
    "tags": []
   },
   "outputs": [],
   "source": [
    "def tracer_courbes_debruitees(x,y,y_deb):\n",
    "    fig, ax = plt.subplots(1,2,figsize=(12, 6))\n",
    "    ax[0].plot(x,y_noisy, label = 'Données brutes')\n",
    "    ax[0].plot(x,y_deb, label = 'Données debruitées',color = 'red')\n",
    "    ax[0].legend()\n",
    "    \n",
    "    # Tracer du rectangle rouge en pointillé sur ax[0] pour zone de zoom\n",
    "    rect = plt.Rectangle((0, 0.75), 0.5, 0.35, edgecolor='red', facecolor='none', \n",
    "                         linestyle='dashed')\n",
    "    ax[0].add_patch(rect)\n",
    "    \n",
    "    ax[1].plot(x,y_noisy, label = 'Données brutes')\n",
    "    ax[1].plot(x, y_deb, label = 'Données debruitées',color = 'red')\n",
    "    ax[1].set_xlim(0, 0.5)\n",
    "    ax[1].set_ylim(0.75, 1.1)\n",
    "    ax[1].legend()\n",
    "    "
   ]
  },
  {
   "cell_type": "code",
   "execution_count": null,
   "id": "9e7aa7db-e3cb-4bb1-b8e6-e6e95bd75d9b",
   "metadata": {
    "tags": []
   },
   "outputs": [],
   "source": [
    "tracer_courbes_debruitees(x,y_noisy,y_denoised_savegol)"
   ]
  },
  {
   "cell_type": "markdown",
   "id": "2d628f1d-81c0-4c35-b139-fff74142662c",
   "metadata": {},
   "source": [
    "Essayons un autre type de filtre. Le filtre de Wiener est un est basé sur la minimisation de l'erreur quadratique moyenne entre le signal d'origine et le signal filtré. \n",
    "Le paramètre mysize=(x,) spécifie la taille de la fenêtre utilisée par le filtre de Wiener pour estimer la densité spectrale de puissance du bruit."
   ]
  },
  {
   "cell_type": "code",
   "execution_count": null,
   "id": "da171e49-aa3e-45b6-b6a2-3782e7d82241",
   "metadata": {
    "tags": []
   },
   "outputs": [],
   "source": [
    "from scipy import signal\n",
    "y_denoised_wiener = signal.wiener(y_noisy,mysize=(20,))"
   ]
  },
  {
   "cell_type": "markdown",
   "id": "c26dd9c7-f1c1-4a4e-a6b4-1fcd48dc53b0",
   "metadata": {},
   "source": [
    "Traçons le signal débruité avec le filtre de Wienner"
   ]
  },
  {
   "cell_type": "code",
   "execution_count": null,
   "id": "90a72a22-6610-411e-b070-c67c01a42fb2",
   "metadata": {
    "tags": []
   },
   "outputs": [],
   "source": [
    "tracer_courbes_debruitees(x,y_noisy,y_denoised_wiener)"
   ]
  },
  {
   "cell_type": "markdown",
   "id": "98f8d6cb-cc0a-4377-835d-6c5745a07d6b",
   "metadata": {},
   "source": [
    "## 6-2-4 Détection de pics"
   ]
  },
  {
   "cell_type": "markdown",
   "id": "ea14f63d-287a-4b0a-9a53-3d02bb09cdc3",
   "metadata": {},
   "source": [
    "Pour automatiser des traitement, on peut avoir besoin de traiter des pics dont les coordonnées varient suivant les experiences. **find_peaks** permet de détecter les pics sur une série de données. Commençons par générer un signal pour l'exemple."
   ]
  },
  {
   "cell_type": "code",
   "execution_count": null,
   "id": "bbcdcd67-cca3-4b09-acbe-49ea663e960b",
   "metadata": {},
   "outputs": [],
   "source": [
    "signal = abs(np.gradient(x,y_noisy))\n",
    "fig,ax = plt.subplots()\n",
    "ax.plot(x, signal);"
   ]
  },
  {
   "cell_type": "markdown",
   "id": "c569e748-c7af-48b2-8b5a-d0495107452d",
   "metadata": {},
   "source": [
    "Find peaks renvoie un tableau numpy avec les indices des pics."
   ]
  },
  {
   "cell_type": "code",
   "execution_count": null,
   "id": "448d8302-bfe6-483a-b5eb-dedddf620b6a",
   "metadata": {
    "tags": []
   },
   "outputs": [],
   "source": [
    "from scipy.signal import find_peaks\n",
    "peaks, _ = find_peaks(signal, height=30, distance=2,prominence=0.2)\n",
    "print(len(peaks), ' pics trouvés')\n",
    "print(type(peaks))"
   ]
  },
  {
   "cell_type": "code",
   "execution_count": null,
   "id": "4898adb8-697b-47f1-8b31-2480ac2767fc",
   "metadata": {
    "tags": []
   },
   "outputs": [],
   "source": [
    "fig,ax = plt.subplots()\n",
    "ax.plot(x,signal)\n",
    "ax.plot(x[peaks], signal[peaks]+40, \"x\") # Afficher des X aux indices correspondant aux pics \n",
    "                                         # (en Y on decale de 40points pour ne pas sur charger le figure)"
   ]
  },
  {
   "cell_type": "markdown",
   "id": "259fca62-2987-4dcd-a954-79aef1c1137f",
   "metadata": {},
   "source": [
    "Les paramètres sont:\n",
    "- height= hauteur minimale du pic  \n",
    "- distance= distance minimale du pic avec ses voisins  \n",
    "- prominence = hauteur du pic par rapport à la ligne de base"
   ]
  },
  {
   "cell_type": "markdown",
   "id": "1af9db1d-d766-4d63-b18f-19b1493070a6",
   "metadata": {},
   "source": [
    "## 6-2-4 Largeur de pics"
   ]
  },
  {
   "cell_type": "markdown",
   "id": "9c5b8778-6b0f-40e4-aaa4-b1021256ce1f",
   "metadata": {},
   "source": [
    "Générons un signal avec des sinusoïdes superposées"
   ]
  },
  {
   "cell_type": "code",
   "execution_count": null,
   "id": "496558a9-ad7d-4996-b1e8-07ad81674f28",
   "metadata": {},
   "outputs": [],
   "source": [
    "x = 10*np.linspace(0, 6 * np.pi, 1000)\n",
    "\n",
    "signal = np.sin(x/10) + 0.6 * np.sin(2.6 * x/10)\n",
    "plt.plot(x,signal);"
   ]
  },
  {
   "cell_type": "markdown",
   "id": "c3b13c55-0fd2-4277-a8af-f6e375bb5b6d",
   "metadata": {},
   "source": [
    "Recherchons les pics"
   ]
  },
  {
   "cell_type": "code",
   "execution_count": null,
   "id": "c3f9fd1c-5d81-4862-884a-f7c304ebb629",
   "metadata": {},
   "outputs": [],
   "source": [
    "from scipy.signal import find_peaks\n",
    "peaks, _ = find_peaks(signal)#, height=0.5, distance=1,prominence=0.2)\n",
    "print(len(peaks), ' pics trouvés')\n",
    "print(type(peaks))\n",
    "print(peaks)"
   ]
  },
  {
   "cell_type": "code",
   "execution_count": null,
   "id": "ac32cc46-ebd7-41ee-ba8d-48d567c1ebd6",
   "metadata": {},
   "outputs": [],
   "source": [
    "plt.plot(x,signal)\n",
    "plt.plot(x[peaks], signal[peaks]+0.1, \"x\");"
   ]
  },
  {
   "cell_type": "markdown",
   "id": "224c66bc-ef4f-418c-864e-4a2dd14cd7a4",
   "metadata": {},
   "source": [
    "Mesurons la largeur à mi hauteur en précisant rel_height=0.5"
   ]
  },
  {
   "cell_type": "code",
   "execution_count": null,
   "id": "281bfeb8-4eff-49e3-ad31-177d03570400",
   "metadata": {},
   "outputs": [],
   "source": [
    "from scipy.signal import peak_widths\n",
    "# Calculer les largeurs des pics\n",
    "half_widths = peak_widths(signal, peaks, rel_height=0.5)\n",
    "# Afficher le nombre de pics et leurs largeurs\n",
    "print('half_widths:', half_widths)"
   ]
  },
  {
   "cell_type": "markdown",
   "id": "1d0b4d7d-6521-4f85-b24a-e4aaf0146f44",
   "metadata": {},
   "source": [
    "La documentation scipy nous dit que les tableaux retournés sont:  \n",
    "Returns:\n",
    "- widths: (ndarray) The widths for each peak in samples.\n",
    "- width_heights (ndarray) The height of the contour lines at which the widths where evaluated.\n",
    "- left_ips, right_ips: (ndarray) Interpolated positions of left and right intersection points of a horizontal line at the respective evaluation height.\n",
    "\n",
    "Les resultats sont retournés avec le forme:\n",
    "\n",
    "- half_widths[0]: Largeurs des pics mesurées en nombre de points du signal original.\n",
    "- half_widths[1]: Valeurs de demi-hauteur utilisées pour calculer les largeurs.  \n",
    "- half_widths[2]: Positions x des points d'intersection à gauche de la ligne à mi-hauteur pour chaque pic.  \n",
    "- half_widths[3]: Positions x des points d'intersection à droite de la ligne à mi-hauteur pour chaque pic.\n",
    "\n",
    "Atention, ces valeurs retournées sont des indices ou des gammes d'indices, il faudra faire les conversions.\n"
   ]
  },
  {
   "cell_type": "markdown",
   "id": "5adb4f65-1650-4987-a13b-0c4953e4097b",
   "metadata": {},
   "source": [
    "Représentons ces grandeurs:"
   ]
  },
  {
   "cell_type": "code",
   "execution_count": null,
   "id": "02a6e1b3-a60e-4800-8616-5ef01e6cebe1",
   "metadata": {},
   "outputs": [],
   "source": [
    "fig,ax = plt.subplots()\n",
    "ax.plot(x, signal)\n",
    "ax.plot(x[peaks], signal[peaks], \"x\")\n",
    "\n",
    "for i in range(len(half_widths[1])):\n",
    "    pic_start_x = x[int(half_widths[2][i])] # debut du pic en x, conversion de l'indice en valeur de x\n",
    "    pic_end_x = x[int(half_widths[3][i])] # fin du pic en x, conversion de l'indice en valeur de x\n",
    "    ax.hlines(half_widths[1][i], pic_start_x, pic_end_x, color=\"green\")"
   ]
  },
  {
   "cell_type": "markdown",
   "id": "5579a406-36bc-4665-9a87-a491bafbbbc2",
   "metadata": {},
   "source": [
    "[Exercices 3 et 4](exercices/Exercices6.ipynb)"
   ]
  }
 ],
 "metadata": {
  "kernelspec": {
   "display_name": "Python 3 (ipykernel)",
   "language": "python",
   "name": "python3"
  },
  "language_info": {
   "codemirror_mode": {
    "name": "ipython",
    "version": 3
   },
   "file_extension": ".py",
   "mimetype": "text/x-python",
   "name": "python",
   "nbconvert_exporter": "python",
   "pygments_lexer": "ipython3",
   "version": "3.11.7"
  }
 },
 "nbformat": 4,
 "nbformat_minor": 5
}
